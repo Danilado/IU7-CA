{
 "cells": [
  {
   "cell_type": "code",
   "execution_count": 1,
   "metadata": {},
   "outputs": [],
   "source": [
    "import plotly.express as px\n",
    "import plotly.graph_objects as go\n",
    "from src.io import *\n",
    "from src.least_squares import *\n",
    "from src.ode import ODE\n",
    "import numpy as np\n",
    "from scipy.special import erfi"
   ]
  },
  {
   "cell_type": "code",
   "execution_count": 2,
   "metadata": {},
   "outputs": [
    {
     "name": "stdout",
     "output_type": "stream",
     "text": [
      "Коэф-ты:\n",
      "0:\t1.000000\n",
      "1:\t-0.593811\n",
      "2:\t0.066731\n",
      "3:\t-0.000194\n",
      "4:\t0.001088\n",
      "5:\t-0.000245\n",
      "6:\t0.000018\n",
      "7:\t-0.000001\n",
      "8:\t0.000000\n",
      "9:\t-0.000000\n"
     ]
    },
    {
     "data": {
      "application/vnd.plotly.v1+json": {
       "config": {
        "plotlyServerURL": "https://plot.ly"
       },
       "data": [
        {
         "hovertemplate": "x=%{x}<br>y=%{y}<extra></extra>",
         "legendgroup": "",
         "marker": {
          "color": "#636efa",
          "symbol": "circle"
         },
         "mode": "markers",
         "name": "",
         "orientation": "v",
         "showlegend": false,
         "type": "scatter",
         "x": [
          0,
          2.5,
          5,
          7.5,
          10
         ],
         "xaxis": "x",
         "y": [
          1,
          -0.048,
          -0.178,
          0.266,
          -0.246
         ],
         "yaxis": "y"
        },
        {
         "name": "Приближение",
         "type": "scatter",
         "x": [
          0,
          0.10101010101010101,
          0.20202020202020202,
          0.30303030303030304,
          0.40404040404040403,
          0.5050505050505051,
          0.6060606060606061,
          0.7070707070707071,
          0.8080808080808081,
          0.9090909090909091,
          1.0101010101010102,
          1.1111111111111112,
          1.2121212121212122,
          1.3131313131313131,
          1.4141414141414141,
          1.5151515151515151,
          1.6161616161616161,
          1.7171717171717171,
          1.8181818181818181,
          1.9191919191919191,
          2.0202020202020203,
          2.121212121212121,
          2.2222222222222223,
          2.323232323232323,
          2.4242424242424243,
          2.525252525252525,
          2.6262626262626263,
          2.727272727272727,
          2.8282828282828283,
          2.929292929292929,
          3.0303030303030303,
          3.131313131313131,
          3.2323232323232323,
          3.3333333333333335,
          3.4343434343434343,
          3.5353535353535355,
          3.6363636363636362,
          3.7373737373737375,
          3.8383838383838382,
          3.9393939393939394,
          4.040404040404041,
          4.141414141414141,
          4.242424242424242,
          4.343434343434343,
          4.444444444444445,
          4.545454545454545,
          4.646464646464646,
          4.747474747474747,
          4.848484848484849,
          4.94949494949495,
          5.05050505050505,
          5.151515151515151,
          5.252525252525253,
          5.353535353535354,
          5.454545454545454,
          5.555555555555555,
          5.656565656565657,
          5.757575757575758,
          5.858585858585858,
          5.959595959595959,
          6.0606060606060606,
          6.161616161616162,
          6.262626262626262,
          6.363636363636363,
          6.4646464646464645,
          6.565656565656566,
          6.666666666666667,
          6.767676767676767,
          6.8686868686868685,
          6.96969696969697,
          7.070707070707071,
          7.171717171717171,
          7.2727272727272725,
          7.373737373737374,
          7.474747474747475,
          7.575757575757575,
          7.6767676767676765,
          7.777777777777778,
          7.878787878787879,
          7.979797979797979,
          8.080808080808081,
          8.181818181818182,
          8.282828282828282,
          8.383838383838384,
          8.484848484848484,
          8.585858585858587,
          8.686868686868687,
          8.787878787878787,
          8.88888888888889,
          8.98989898989899,
          9.09090909090909,
          9.191919191919192,
          9.292929292929292,
          9.393939393939394,
          9.494949494949495,
          9.595959595959595,
          9.696969696969697,
          9.797979797979798,
          9.8989898989899,
          10
         ],
         "y": [
          1,
          0.939164641012245,
          0.8798909046806265,
          0.8221770104910782,
          0.766021637903493,
          0.7114238639074213,
          0.6583831023098297,
          0.6068990446367412,
          0.5569716025360482,
          0.5086008515738804,
          0.4617869763216414,
          0.41653021663513146,
          0.3728308150310792,
          0.33068896506987144,
          0.29010476065628443,
          0.2510781461725569,
          0.213608867360213,
          0.17769642286859016,
          0.14334001638906274,
          0.11053850929444317,
          0.0792903737029911,
          0.04959364588581154,
          0.021445879935213366,
          -0.005155898390239212,
          -0.03021523773070872,
          -0.05373630718991548,
          -0.07572394249340302,
          -0.09618369233824733,
          -0.11512186503735677,
          -0.13254557556733979,
          -0.14846279313549918,
          -0.16288238938880847,
          -0.1758141873958216,
          -0.1872690115413096,
          -0.19725873848308303,
          -0.20579634933092583,
          -0.21289598321886816,
          -0.21857299245417816,
          -0.22284399943947375,
          -0.2257269555782595,
          -0.22724120238898923,
          -0.22740753506849512,
          -0.22624826876226178,
          -0.22378730781666178,
          -0.220050218306825,
          -0.21506430415340974,
          -0.20885868716210362,
          -0.20146439134128827,
          -0.19291443187593796,
          -0.1832439091595184,
          -0.17249010831042286,
          -0.16069260462534332,
          -0.14789337544894068,
          -0.1341369189672867,
          -0.11947038046177275,
          -0.10394368659059751,
          -0.08760968829651553,
          -0.07052431297230514,
          -0.05274672654940536,
          -0.03433950621037158,
          -0.015368824462293486,
          0.004095354653980631,
          0.023979066404946736,
          0.04420412240170089,
          0.06468787293753762,
          0.08534295368715125,
          0.10607701578434349,
          0.1267924382495149,
          0.14738602169110052,
          0.16774866215669418,
          0.18776500395966975,
          0.2073130702558254,
          0.22626387009177548,
          0.24448098059254653,
          0.26182010290015223,
          0.27812859041759685,
          0.29324494785405447,
          0.306998299506607,
          0.31920782515209684,
          0.3296821618591709,
          0.3382187699655605,
          0.3446032613990179,
          0.34860868845200155,
          0.34999479105034714,
          0.3485072004845026,
          0.3438765974987027,
          0.33581782255847786,
          0.3240289360401939,
          0.30819022600795654,
          0.28796316116301474,
          0.2629892864689174,
          0.2328890588719548,
          0.1972606204508956,
          0.1556785062427386,
          0.10769228390204544,
          0.05282512226034092,
          -0.009427714240686502,
          -0.079600448363352,
          -0.15825845335324734,
          -0.24600000000000077
         ]
        }
       ],
       "layout": {
        "legend": {
         "tracegroupgap": 0
        },
        "margin": {
         "t": 60
        },
        "template": {
         "data": {
          "bar": [
           {
            "error_x": {
             "color": "#2a3f5f"
            },
            "error_y": {
             "color": "#2a3f5f"
            },
            "marker": {
             "line": {
              "color": "#E5ECF6",
              "width": 0.5
             },
             "pattern": {
              "fillmode": "overlay",
              "size": 10,
              "solidity": 0.2
             }
            },
            "type": "bar"
           }
          ],
          "barpolar": [
           {
            "marker": {
             "line": {
              "color": "#E5ECF6",
              "width": 0.5
             },
             "pattern": {
              "fillmode": "overlay",
              "size": 10,
              "solidity": 0.2
             }
            },
            "type": "barpolar"
           }
          ],
          "carpet": [
           {
            "aaxis": {
             "endlinecolor": "#2a3f5f",
             "gridcolor": "white",
             "linecolor": "white",
             "minorgridcolor": "white",
             "startlinecolor": "#2a3f5f"
            },
            "baxis": {
             "endlinecolor": "#2a3f5f",
             "gridcolor": "white",
             "linecolor": "white",
             "minorgridcolor": "white",
             "startlinecolor": "#2a3f5f"
            },
            "type": "carpet"
           }
          ],
          "choropleth": [
           {
            "colorbar": {
             "outlinewidth": 0,
             "ticks": ""
            },
            "type": "choropleth"
           }
          ],
          "contour": [
           {
            "colorbar": {
             "outlinewidth": 0,
             "ticks": ""
            },
            "colorscale": [
             [
              0,
              "#0d0887"
             ],
             [
              0.1111111111111111,
              "#46039f"
             ],
             [
              0.2222222222222222,
              "#7201a8"
             ],
             [
              0.3333333333333333,
              "#9c179e"
             ],
             [
              0.4444444444444444,
              "#bd3786"
             ],
             [
              0.5555555555555556,
              "#d8576b"
             ],
             [
              0.6666666666666666,
              "#ed7953"
             ],
             [
              0.7777777777777778,
              "#fb9f3a"
             ],
             [
              0.8888888888888888,
              "#fdca26"
             ],
             [
              1,
              "#f0f921"
             ]
            ],
            "type": "contour"
           }
          ],
          "contourcarpet": [
           {
            "colorbar": {
             "outlinewidth": 0,
             "ticks": ""
            },
            "type": "contourcarpet"
           }
          ],
          "heatmap": [
           {
            "colorbar": {
             "outlinewidth": 0,
             "ticks": ""
            },
            "colorscale": [
             [
              0,
              "#0d0887"
             ],
             [
              0.1111111111111111,
              "#46039f"
             ],
             [
              0.2222222222222222,
              "#7201a8"
             ],
             [
              0.3333333333333333,
              "#9c179e"
             ],
             [
              0.4444444444444444,
              "#bd3786"
             ],
             [
              0.5555555555555556,
              "#d8576b"
             ],
             [
              0.6666666666666666,
              "#ed7953"
             ],
             [
              0.7777777777777778,
              "#fb9f3a"
             ],
             [
              0.8888888888888888,
              "#fdca26"
             ],
             [
              1,
              "#f0f921"
             ]
            ],
            "type": "heatmap"
           }
          ],
          "heatmapgl": [
           {
            "colorbar": {
             "outlinewidth": 0,
             "ticks": ""
            },
            "colorscale": [
             [
              0,
              "#0d0887"
             ],
             [
              0.1111111111111111,
              "#46039f"
             ],
             [
              0.2222222222222222,
              "#7201a8"
             ],
             [
              0.3333333333333333,
              "#9c179e"
             ],
             [
              0.4444444444444444,
              "#bd3786"
             ],
             [
              0.5555555555555556,
              "#d8576b"
             ],
             [
              0.6666666666666666,
              "#ed7953"
             ],
             [
              0.7777777777777778,
              "#fb9f3a"
             ],
             [
              0.8888888888888888,
              "#fdca26"
             ],
             [
              1,
              "#f0f921"
             ]
            ],
            "type": "heatmapgl"
           }
          ],
          "histogram": [
           {
            "marker": {
             "pattern": {
              "fillmode": "overlay",
              "size": 10,
              "solidity": 0.2
             }
            },
            "type": "histogram"
           }
          ],
          "histogram2d": [
           {
            "colorbar": {
             "outlinewidth": 0,
             "ticks": ""
            },
            "colorscale": [
             [
              0,
              "#0d0887"
             ],
             [
              0.1111111111111111,
              "#46039f"
             ],
             [
              0.2222222222222222,
              "#7201a8"
             ],
             [
              0.3333333333333333,
              "#9c179e"
             ],
             [
              0.4444444444444444,
              "#bd3786"
             ],
             [
              0.5555555555555556,
              "#d8576b"
             ],
             [
              0.6666666666666666,
              "#ed7953"
             ],
             [
              0.7777777777777778,
              "#fb9f3a"
             ],
             [
              0.8888888888888888,
              "#fdca26"
             ],
             [
              1,
              "#f0f921"
             ]
            ],
            "type": "histogram2d"
           }
          ],
          "histogram2dcontour": [
           {
            "colorbar": {
             "outlinewidth": 0,
             "ticks": ""
            },
            "colorscale": [
             [
              0,
              "#0d0887"
             ],
             [
              0.1111111111111111,
              "#46039f"
             ],
             [
              0.2222222222222222,
              "#7201a8"
             ],
             [
              0.3333333333333333,
              "#9c179e"
             ],
             [
              0.4444444444444444,
              "#bd3786"
             ],
             [
              0.5555555555555556,
              "#d8576b"
             ],
             [
              0.6666666666666666,
              "#ed7953"
             ],
             [
              0.7777777777777778,
              "#fb9f3a"
             ],
             [
              0.8888888888888888,
              "#fdca26"
             ],
             [
              1,
              "#f0f921"
             ]
            ],
            "type": "histogram2dcontour"
           }
          ],
          "mesh3d": [
           {
            "colorbar": {
             "outlinewidth": 0,
             "ticks": ""
            },
            "type": "mesh3d"
           }
          ],
          "parcoords": [
           {
            "line": {
             "colorbar": {
              "outlinewidth": 0,
              "ticks": ""
             }
            },
            "type": "parcoords"
           }
          ],
          "pie": [
           {
            "automargin": true,
            "type": "pie"
           }
          ],
          "scatter": [
           {
            "fillpattern": {
             "fillmode": "overlay",
             "size": 10,
             "solidity": 0.2
            },
            "type": "scatter"
           }
          ],
          "scatter3d": [
           {
            "line": {
             "colorbar": {
              "outlinewidth": 0,
              "ticks": ""
             }
            },
            "marker": {
             "colorbar": {
              "outlinewidth": 0,
              "ticks": ""
             }
            },
            "type": "scatter3d"
           }
          ],
          "scattercarpet": [
           {
            "marker": {
             "colorbar": {
              "outlinewidth": 0,
              "ticks": ""
             }
            },
            "type": "scattercarpet"
           }
          ],
          "scattergeo": [
           {
            "marker": {
             "colorbar": {
              "outlinewidth": 0,
              "ticks": ""
             }
            },
            "type": "scattergeo"
           }
          ],
          "scattergl": [
           {
            "marker": {
             "colorbar": {
              "outlinewidth": 0,
              "ticks": ""
             }
            },
            "type": "scattergl"
           }
          ],
          "scattermapbox": [
           {
            "marker": {
             "colorbar": {
              "outlinewidth": 0,
              "ticks": ""
             }
            },
            "type": "scattermapbox"
           }
          ],
          "scatterpolar": [
           {
            "marker": {
             "colorbar": {
              "outlinewidth": 0,
              "ticks": ""
             }
            },
            "type": "scatterpolar"
           }
          ],
          "scatterpolargl": [
           {
            "marker": {
             "colorbar": {
              "outlinewidth": 0,
              "ticks": ""
             }
            },
            "type": "scatterpolargl"
           }
          ],
          "scatterternary": [
           {
            "marker": {
             "colorbar": {
              "outlinewidth": 0,
              "ticks": ""
             }
            },
            "type": "scatterternary"
           }
          ],
          "surface": [
           {
            "colorbar": {
             "outlinewidth": 0,
             "ticks": ""
            },
            "colorscale": [
             [
              0,
              "#0d0887"
             ],
             [
              0.1111111111111111,
              "#46039f"
             ],
             [
              0.2222222222222222,
              "#7201a8"
             ],
             [
              0.3333333333333333,
              "#9c179e"
             ],
             [
              0.4444444444444444,
              "#bd3786"
             ],
             [
              0.5555555555555556,
              "#d8576b"
             ],
             [
              0.6666666666666666,
              "#ed7953"
             ],
             [
              0.7777777777777778,
              "#fb9f3a"
             ],
             [
              0.8888888888888888,
              "#fdca26"
             ],
             [
              1,
              "#f0f921"
             ]
            ],
            "type": "surface"
           }
          ],
          "table": [
           {
            "cells": {
             "fill": {
              "color": "#EBF0F8"
             },
             "line": {
              "color": "white"
             }
            },
            "header": {
             "fill": {
              "color": "#C8D4E3"
             },
             "line": {
              "color": "white"
             }
            },
            "type": "table"
           }
          ]
         },
         "layout": {
          "annotationdefaults": {
           "arrowcolor": "#2a3f5f",
           "arrowhead": 0,
           "arrowwidth": 1
          },
          "autotypenumbers": "strict",
          "coloraxis": {
           "colorbar": {
            "outlinewidth": 0,
            "ticks": ""
           }
          },
          "colorscale": {
           "diverging": [
            [
             0,
             "#8e0152"
            ],
            [
             0.1,
             "#c51b7d"
            ],
            [
             0.2,
             "#de77ae"
            ],
            [
             0.3,
             "#f1b6da"
            ],
            [
             0.4,
             "#fde0ef"
            ],
            [
             0.5,
             "#f7f7f7"
            ],
            [
             0.6,
             "#e6f5d0"
            ],
            [
             0.7,
             "#b8e186"
            ],
            [
             0.8,
             "#7fbc41"
            ],
            [
             0.9,
             "#4d9221"
            ],
            [
             1,
             "#276419"
            ]
           ],
           "sequential": [
            [
             0,
             "#0d0887"
            ],
            [
             0.1111111111111111,
             "#46039f"
            ],
            [
             0.2222222222222222,
             "#7201a8"
            ],
            [
             0.3333333333333333,
             "#9c179e"
            ],
            [
             0.4444444444444444,
             "#bd3786"
            ],
            [
             0.5555555555555556,
             "#d8576b"
            ],
            [
             0.6666666666666666,
             "#ed7953"
            ],
            [
             0.7777777777777778,
             "#fb9f3a"
            ],
            [
             0.8888888888888888,
             "#fdca26"
            ],
            [
             1,
             "#f0f921"
            ]
           ],
           "sequentialminus": [
            [
             0,
             "#0d0887"
            ],
            [
             0.1111111111111111,
             "#46039f"
            ],
            [
             0.2222222222222222,
             "#7201a8"
            ],
            [
             0.3333333333333333,
             "#9c179e"
            ],
            [
             0.4444444444444444,
             "#bd3786"
            ],
            [
             0.5555555555555556,
             "#d8576b"
            ],
            [
             0.6666666666666666,
             "#ed7953"
            ],
            [
             0.7777777777777778,
             "#fb9f3a"
            ],
            [
             0.8888888888888888,
             "#fdca26"
            ],
            [
             1,
             "#f0f921"
            ]
           ]
          },
          "colorway": [
           "#636efa",
           "#EF553B",
           "#00cc96",
           "#ab63fa",
           "#FFA15A",
           "#19d3f3",
           "#FF6692",
           "#B6E880",
           "#FF97FF",
           "#FECB52"
          ],
          "font": {
           "color": "#2a3f5f"
          },
          "geo": {
           "bgcolor": "white",
           "lakecolor": "white",
           "landcolor": "#E5ECF6",
           "showlakes": true,
           "showland": true,
           "subunitcolor": "white"
          },
          "hoverlabel": {
           "align": "left"
          },
          "hovermode": "closest",
          "mapbox": {
           "style": "light"
          },
          "paper_bgcolor": "white",
          "plot_bgcolor": "#E5ECF6",
          "polar": {
           "angularaxis": {
            "gridcolor": "white",
            "linecolor": "white",
            "ticks": ""
           },
           "bgcolor": "#E5ECF6",
           "radialaxis": {
            "gridcolor": "white",
            "linecolor": "white",
            "ticks": ""
           }
          },
          "scene": {
           "xaxis": {
            "backgroundcolor": "#E5ECF6",
            "gridcolor": "white",
            "gridwidth": 2,
            "linecolor": "white",
            "showbackground": true,
            "ticks": "",
            "zerolinecolor": "white"
           },
           "yaxis": {
            "backgroundcolor": "#E5ECF6",
            "gridcolor": "white",
            "gridwidth": 2,
            "linecolor": "white",
            "showbackground": true,
            "ticks": "",
            "zerolinecolor": "white"
           },
           "zaxis": {
            "backgroundcolor": "#E5ECF6",
            "gridcolor": "white",
            "gridwidth": 2,
            "linecolor": "white",
            "showbackground": true,
            "ticks": "",
            "zerolinecolor": "white"
           }
          },
          "shapedefaults": {
           "line": {
            "color": "#2a3f5f"
           }
          },
          "ternary": {
           "aaxis": {
            "gridcolor": "white",
            "linecolor": "white",
            "ticks": ""
           },
           "baxis": {
            "gridcolor": "white",
            "linecolor": "white",
            "ticks": ""
           },
           "bgcolor": "#E5ECF6",
           "caxis": {
            "gridcolor": "white",
            "linecolor": "white",
            "ticks": ""
           }
          },
          "title": {
           "x": 0.05
          },
          "xaxis": {
           "automargin": true,
           "gridcolor": "white",
           "linecolor": "white",
           "ticks": "",
           "title": {
            "standoff": 15
           },
           "zerolinecolor": "white",
           "zerolinewidth": 2
          },
          "yaxis": {
           "automargin": true,
           "gridcolor": "white",
           "linecolor": "white",
           "ticks": "",
           "title": {
            "standoff": 15
           },
           "zerolinecolor": "white",
           "zerolinewidth": 2
          }
         }
        },
        "xaxis": {
         "anchor": "y",
         "domain": [
          0,
          1
         ],
         "title": {
          "text": "x"
         }
        },
        "yaxis": {
         "anchor": "x",
         "domain": [
          0,
          1
         ],
         "title": {
          "text": "y"
         }
        }
       }
      }
     },
     "metadata": {},
     "output_type": "display_data"
    }
   ],
   "source": [
    "x, y, p = read_xypdata(\"data/tmp41\")\n",
    "\n",
    "x_pred = np.linspace(min(x), max(x), 100)\n",
    "f_pred = LeastSquare(x, y, p, 10)\n",
    "y_pred = [f_pred(xi) for xi in x_pred]\n",
    "\n",
    "f_coeffs = LeastSquaresCoeffs(x, y, p, 9)\n",
    "\n",
    "print(\"Коэф-ты:\")\n",
    "for i, coeff in enumerate(f_coeffs):\n",
    "    print(f\"{i}:\\t{coeff:.6f}\")\n",
    "\n",
    "fig = px.scatter(x=x, y=y)\n",
    "fig.add_trace(go.Scatter(x=x_pred, y=y_pred, name=\"Приближение\"))\n",
    "fig.show()"
   ]
  },
  {
   "cell_type": "code",
   "execution_count": 3,
   "metadata": {},
   "outputs": [],
   "source": [
    "def getMassCenter(x: list[float], y: list[float], p: list[float]):\n",
    "    msum = sum(p)\n",
    "    xmc = 0\n",
    "    ymc = 0\n",
    "\n",
    "    for i in range(len(x)):\n",
    "        xmc += x[i] * p[i] / msum\n",
    "\n",
    "    for i in range(len(y)):\n",
    "        ymc += y[i] * p[i] / msum\n",
    "\n",
    "    return xmc, ymc"
   ]
  },
  {
   "cell_type": "code",
   "execution_count": 4,
   "metadata": {},
   "outputs": [
    {
     "name": "stdout",
     "output_type": "stream",
     "text": [
      "Центр масс: \n",
      "1.608481 1.965984\n",
      "Коэф-ты:\n",
      "0:\t-0.646045\n",
      "1:\t-0.012011\n",
      "2:\t0.010577\n",
      "3:\t0.497618\n",
      "Коэф-ты:\n",
      "0:\t0.990217\n",
      "1:\t0.514970\n",
      "2:\t-0.063773\n",
      "3:\t0.002622\n"
     ]
    },
    {
     "data": {
      "application/vnd.plotly.v1+json": {
       "config": {
        "plotlyServerURL": "https://plot.ly"
       },
       "data": [
        {
         "hovertemplate": "x=%{x}<br>y=%{y}<extra></extra>",
         "legendgroup": "",
         "marker": {
          "color": "#636efa",
          "symbol": "circle"
         },
         "mode": "markers",
         "name": "",
         "orientation": "v",
         "showlegend": false,
         "type": "scatter",
         "x": [
          0,
          0.524,
          1.047,
          1.571,
          2.094,
          2.618,
          3.142,
          -0.648,
          -0.576,
          -0.074,
          1.29,
          3.946,
          8.324,
          14.855,
          1.608481353754163
         ],
         "xaxis": "x",
         "y": [
          -0.648,
          -0.576,
          -0.074,
          1.29,
          3.946,
          8.324,
          14.855,
          0,
          0.524,
          1.047,
          1.571,
          2.094,
          2.618,
          3.142,
          1.9659839369541843
         ],
         "yaxis": "y"
        },
        {
         "name": "Приближение x",
         "type": "scatter",
         "x": [
          0,
          0.16536842105263158,
          0.33073684210526316,
          0.4961052631578947,
          0.6614736842105263,
          0.8268421052631579,
          0.9922105263157894,
          1.157578947368421,
          1.3229473684210526,
          1.4883157894736843,
          1.6536842105263159,
          1.8190526315789475,
          1.9844210526315789,
          2.1497894736842107,
          2.315157894736842,
          2.480526315789474,
          2.6458947368421053,
          2.8112631578947367,
          2.9766315789473685,
          3.142
         ],
         "y": [
          -6.098253689944895,
          -5.269167148008306,
          -4.440080606071717,
          -3.6109940641351295,
          -2.7819075221985408,
          -1.9528209802619525,
          -1.1237344383253642,
          -0.294647896388776,
          0.5344386455478132,
          1.3635251874844014,
          2.1926117294209897,
          3.0216982713575797,
          3.850784813294166,
          4.679871355230756,
          5.508957897167343,
          6.338044439103933,
          7.167130981040521,
          7.9962175229771075,
          8.825304064913698,
          9.654390606850285
         ]
        },
        {
         "name": "Приближение y",
         "type": "scatter",
         "x": [
          -0.648,
          0.16794736842105262,
          0.9838947368421053,
          1.7998421052631577,
          2.6157894736842104,
          3.431736842105263,
          4.247684210526316,
          5.063631578947369,
          5.8795789473684215,
          6.695526315789474,
          7.511473684210527,
          8.32742105263158,
          9.143368421052632,
          9.959315789473685,
          10.775263157894738,
          11.59121052631579,
          12.407157894736843,
          13.223105263157896,
          14.039052631578947,
          14.855
         ],
         "y": [
          1.2120235127200596,
          1.335776657300817,
          1.4595298018815743,
          1.5832829464623317,
          1.707036091043089,
          1.8307892356238464,
          1.954542380204604,
          2.0782955247853616,
          2.202048669366119,
          2.3258018139468764,
          2.4495549585276337,
          2.573308103108391,
          2.697061247689148,
          2.820814392269906,
          2.944567536850663,
          3.0683206814314206,
          3.192073826012178,
          3.3158269705929353,
          3.439580115173693,
          3.56333325975445
         ]
        }
       ],
       "layout": {
        "legend": {
         "tracegroupgap": 0
        },
        "margin": {
         "t": 60
        },
        "template": {
         "data": {
          "bar": [
           {
            "error_x": {
             "color": "#2a3f5f"
            },
            "error_y": {
             "color": "#2a3f5f"
            },
            "marker": {
             "line": {
              "color": "#E5ECF6",
              "width": 0.5
             },
             "pattern": {
              "fillmode": "overlay",
              "size": 10,
              "solidity": 0.2
             }
            },
            "type": "bar"
           }
          ],
          "barpolar": [
           {
            "marker": {
             "line": {
              "color": "#E5ECF6",
              "width": 0.5
             },
             "pattern": {
              "fillmode": "overlay",
              "size": 10,
              "solidity": 0.2
             }
            },
            "type": "barpolar"
           }
          ],
          "carpet": [
           {
            "aaxis": {
             "endlinecolor": "#2a3f5f",
             "gridcolor": "white",
             "linecolor": "white",
             "minorgridcolor": "white",
             "startlinecolor": "#2a3f5f"
            },
            "baxis": {
             "endlinecolor": "#2a3f5f",
             "gridcolor": "white",
             "linecolor": "white",
             "minorgridcolor": "white",
             "startlinecolor": "#2a3f5f"
            },
            "type": "carpet"
           }
          ],
          "choropleth": [
           {
            "colorbar": {
             "outlinewidth": 0,
             "ticks": ""
            },
            "type": "choropleth"
           }
          ],
          "contour": [
           {
            "colorbar": {
             "outlinewidth": 0,
             "ticks": ""
            },
            "colorscale": [
             [
              0,
              "#0d0887"
             ],
             [
              0.1111111111111111,
              "#46039f"
             ],
             [
              0.2222222222222222,
              "#7201a8"
             ],
             [
              0.3333333333333333,
              "#9c179e"
             ],
             [
              0.4444444444444444,
              "#bd3786"
             ],
             [
              0.5555555555555556,
              "#d8576b"
             ],
             [
              0.6666666666666666,
              "#ed7953"
             ],
             [
              0.7777777777777778,
              "#fb9f3a"
             ],
             [
              0.8888888888888888,
              "#fdca26"
             ],
             [
              1,
              "#f0f921"
             ]
            ],
            "type": "contour"
           }
          ],
          "contourcarpet": [
           {
            "colorbar": {
             "outlinewidth": 0,
             "ticks": ""
            },
            "type": "contourcarpet"
           }
          ],
          "heatmap": [
           {
            "colorbar": {
             "outlinewidth": 0,
             "ticks": ""
            },
            "colorscale": [
             [
              0,
              "#0d0887"
             ],
             [
              0.1111111111111111,
              "#46039f"
             ],
             [
              0.2222222222222222,
              "#7201a8"
             ],
             [
              0.3333333333333333,
              "#9c179e"
             ],
             [
              0.4444444444444444,
              "#bd3786"
             ],
             [
              0.5555555555555556,
              "#d8576b"
             ],
             [
              0.6666666666666666,
              "#ed7953"
             ],
             [
              0.7777777777777778,
              "#fb9f3a"
             ],
             [
              0.8888888888888888,
              "#fdca26"
             ],
             [
              1,
              "#f0f921"
             ]
            ],
            "type": "heatmap"
           }
          ],
          "heatmapgl": [
           {
            "colorbar": {
             "outlinewidth": 0,
             "ticks": ""
            },
            "colorscale": [
             [
              0,
              "#0d0887"
             ],
             [
              0.1111111111111111,
              "#46039f"
             ],
             [
              0.2222222222222222,
              "#7201a8"
             ],
             [
              0.3333333333333333,
              "#9c179e"
             ],
             [
              0.4444444444444444,
              "#bd3786"
             ],
             [
              0.5555555555555556,
              "#d8576b"
             ],
             [
              0.6666666666666666,
              "#ed7953"
             ],
             [
              0.7777777777777778,
              "#fb9f3a"
             ],
             [
              0.8888888888888888,
              "#fdca26"
             ],
             [
              1,
              "#f0f921"
             ]
            ],
            "type": "heatmapgl"
           }
          ],
          "histogram": [
           {
            "marker": {
             "pattern": {
              "fillmode": "overlay",
              "size": 10,
              "solidity": 0.2
             }
            },
            "type": "histogram"
           }
          ],
          "histogram2d": [
           {
            "colorbar": {
             "outlinewidth": 0,
             "ticks": ""
            },
            "colorscale": [
             [
              0,
              "#0d0887"
             ],
             [
              0.1111111111111111,
              "#46039f"
             ],
             [
              0.2222222222222222,
              "#7201a8"
             ],
             [
              0.3333333333333333,
              "#9c179e"
             ],
             [
              0.4444444444444444,
              "#bd3786"
             ],
             [
              0.5555555555555556,
              "#d8576b"
             ],
             [
              0.6666666666666666,
              "#ed7953"
             ],
             [
              0.7777777777777778,
              "#fb9f3a"
             ],
             [
              0.8888888888888888,
              "#fdca26"
             ],
             [
              1,
              "#f0f921"
             ]
            ],
            "type": "histogram2d"
           }
          ],
          "histogram2dcontour": [
           {
            "colorbar": {
             "outlinewidth": 0,
             "ticks": ""
            },
            "colorscale": [
             [
              0,
              "#0d0887"
             ],
             [
              0.1111111111111111,
              "#46039f"
             ],
             [
              0.2222222222222222,
              "#7201a8"
             ],
             [
              0.3333333333333333,
              "#9c179e"
             ],
             [
              0.4444444444444444,
              "#bd3786"
             ],
             [
              0.5555555555555556,
              "#d8576b"
             ],
             [
              0.6666666666666666,
              "#ed7953"
             ],
             [
              0.7777777777777778,
              "#fb9f3a"
             ],
             [
              0.8888888888888888,
              "#fdca26"
             ],
             [
              1,
              "#f0f921"
             ]
            ],
            "type": "histogram2dcontour"
           }
          ],
          "mesh3d": [
           {
            "colorbar": {
             "outlinewidth": 0,
             "ticks": ""
            },
            "type": "mesh3d"
           }
          ],
          "parcoords": [
           {
            "line": {
             "colorbar": {
              "outlinewidth": 0,
              "ticks": ""
             }
            },
            "type": "parcoords"
           }
          ],
          "pie": [
           {
            "automargin": true,
            "type": "pie"
           }
          ],
          "scatter": [
           {
            "fillpattern": {
             "fillmode": "overlay",
             "size": 10,
             "solidity": 0.2
            },
            "type": "scatter"
           }
          ],
          "scatter3d": [
           {
            "line": {
             "colorbar": {
              "outlinewidth": 0,
              "ticks": ""
             }
            },
            "marker": {
             "colorbar": {
              "outlinewidth": 0,
              "ticks": ""
             }
            },
            "type": "scatter3d"
           }
          ],
          "scattercarpet": [
           {
            "marker": {
             "colorbar": {
              "outlinewidth": 0,
              "ticks": ""
             }
            },
            "type": "scattercarpet"
           }
          ],
          "scattergeo": [
           {
            "marker": {
             "colorbar": {
              "outlinewidth": 0,
              "ticks": ""
             }
            },
            "type": "scattergeo"
           }
          ],
          "scattergl": [
           {
            "marker": {
             "colorbar": {
              "outlinewidth": 0,
              "ticks": ""
             }
            },
            "type": "scattergl"
           }
          ],
          "scattermapbox": [
           {
            "marker": {
             "colorbar": {
              "outlinewidth": 0,
              "ticks": ""
             }
            },
            "type": "scattermapbox"
           }
          ],
          "scatterpolar": [
           {
            "marker": {
             "colorbar": {
              "outlinewidth": 0,
              "ticks": ""
             }
            },
            "type": "scatterpolar"
           }
          ],
          "scatterpolargl": [
           {
            "marker": {
             "colorbar": {
              "outlinewidth": 0,
              "ticks": ""
             }
            },
            "type": "scatterpolargl"
           }
          ],
          "scatterternary": [
           {
            "marker": {
             "colorbar": {
              "outlinewidth": 0,
              "ticks": ""
             }
            },
            "type": "scatterternary"
           }
          ],
          "surface": [
           {
            "colorbar": {
             "outlinewidth": 0,
             "ticks": ""
            },
            "colorscale": [
             [
              0,
              "#0d0887"
             ],
             [
              0.1111111111111111,
              "#46039f"
             ],
             [
              0.2222222222222222,
              "#7201a8"
             ],
             [
              0.3333333333333333,
              "#9c179e"
             ],
             [
              0.4444444444444444,
              "#bd3786"
             ],
             [
              0.5555555555555556,
              "#d8576b"
             ],
             [
              0.6666666666666666,
              "#ed7953"
             ],
             [
              0.7777777777777778,
              "#fb9f3a"
             ],
             [
              0.8888888888888888,
              "#fdca26"
             ],
             [
              1,
              "#f0f921"
             ]
            ],
            "type": "surface"
           }
          ],
          "table": [
           {
            "cells": {
             "fill": {
              "color": "#EBF0F8"
             },
             "line": {
              "color": "white"
             }
            },
            "header": {
             "fill": {
              "color": "#C8D4E3"
             },
             "line": {
              "color": "white"
             }
            },
            "type": "table"
           }
          ]
         },
         "layout": {
          "annotationdefaults": {
           "arrowcolor": "#2a3f5f",
           "arrowhead": 0,
           "arrowwidth": 1
          },
          "autotypenumbers": "strict",
          "coloraxis": {
           "colorbar": {
            "outlinewidth": 0,
            "ticks": ""
           }
          },
          "colorscale": {
           "diverging": [
            [
             0,
             "#8e0152"
            ],
            [
             0.1,
             "#c51b7d"
            ],
            [
             0.2,
             "#de77ae"
            ],
            [
             0.3,
             "#f1b6da"
            ],
            [
             0.4,
             "#fde0ef"
            ],
            [
             0.5,
             "#f7f7f7"
            ],
            [
             0.6,
             "#e6f5d0"
            ],
            [
             0.7,
             "#b8e186"
            ],
            [
             0.8,
             "#7fbc41"
            ],
            [
             0.9,
             "#4d9221"
            ],
            [
             1,
             "#276419"
            ]
           ],
           "sequential": [
            [
             0,
             "#0d0887"
            ],
            [
             0.1111111111111111,
             "#46039f"
            ],
            [
             0.2222222222222222,
             "#7201a8"
            ],
            [
             0.3333333333333333,
             "#9c179e"
            ],
            [
             0.4444444444444444,
             "#bd3786"
            ],
            [
             0.5555555555555556,
             "#d8576b"
            ],
            [
             0.6666666666666666,
             "#ed7953"
            ],
            [
             0.7777777777777778,
             "#fb9f3a"
            ],
            [
             0.8888888888888888,
             "#fdca26"
            ],
            [
             1,
             "#f0f921"
            ]
           ],
           "sequentialminus": [
            [
             0,
             "#0d0887"
            ],
            [
             0.1111111111111111,
             "#46039f"
            ],
            [
             0.2222222222222222,
             "#7201a8"
            ],
            [
             0.3333333333333333,
             "#9c179e"
            ],
            [
             0.4444444444444444,
             "#bd3786"
            ],
            [
             0.5555555555555556,
             "#d8576b"
            ],
            [
             0.6666666666666666,
             "#ed7953"
            ],
            [
             0.7777777777777778,
             "#fb9f3a"
            ],
            [
             0.8888888888888888,
             "#fdca26"
            ],
            [
             1,
             "#f0f921"
            ]
           ]
          },
          "colorway": [
           "#636efa",
           "#EF553B",
           "#00cc96",
           "#ab63fa",
           "#FFA15A",
           "#19d3f3",
           "#FF6692",
           "#B6E880",
           "#FF97FF",
           "#FECB52"
          ],
          "font": {
           "color": "#2a3f5f"
          },
          "geo": {
           "bgcolor": "white",
           "lakecolor": "white",
           "landcolor": "#E5ECF6",
           "showlakes": true,
           "showland": true,
           "subunitcolor": "white"
          },
          "hoverlabel": {
           "align": "left"
          },
          "hovermode": "closest",
          "mapbox": {
           "style": "light"
          },
          "paper_bgcolor": "white",
          "plot_bgcolor": "#E5ECF6",
          "polar": {
           "angularaxis": {
            "gridcolor": "white",
            "linecolor": "white",
            "ticks": ""
           },
           "bgcolor": "#E5ECF6",
           "radialaxis": {
            "gridcolor": "white",
            "linecolor": "white",
            "ticks": ""
           }
          },
          "scene": {
           "xaxis": {
            "backgroundcolor": "#E5ECF6",
            "gridcolor": "white",
            "gridwidth": 2,
            "linecolor": "white",
            "showbackground": true,
            "ticks": "",
            "zerolinecolor": "white"
           },
           "yaxis": {
            "backgroundcolor": "#E5ECF6",
            "gridcolor": "white",
            "gridwidth": 2,
            "linecolor": "white",
            "showbackground": true,
            "ticks": "",
            "zerolinecolor": "white"
           },
           "zaxis": {
            "backgroundcolor": "#E5ECF6",
            "gridcolor": "white",
            "gridwidth": 2,
            "linecolor": "white",
            "showbackground": true,
            "ticks": "",
            "zerolinecolor": "white"
           }
          },
          "shapedefaults": {
           "line": {
            "color": "#2a3f5f"
           }
          },
          "ternary": {
           "aaxis": {
            "gridcolor": "white",
            "linecolor": "white",
            "ticks": ""
           },
           "baxis": {
            "gridcolor": "white",
            "linecolor": "white",
            "ticks": ""
           },
           "bgcolor": "#E5ECF6",
           "caxis": {
            "gridcolor": "white",
            "linecolor": "white",
            "ticks": ""
           }
          },
          "title": {
           "x": 0.05
          },
          "xaxis": {
           "automargin": true,
           "gridcolor": "white",
           "linecolor": "white",
           "ticks": "",
           "title": {
            "standoff": 15
           },
           "zerolinecolor": "white",
           "zerolinewidth": 2
          },
          "yaxis": {
           "automargin": true,
           "gridcolor": "white",
           "linecolor": "white",
           "ticks": "",
           "title": {
            "standoff": 15
           },
           "zerolinecolor": "white",
           "zerolinewidth": 2
          }
         }
        },
        "xaxis": {
         "anchor": "y",
         "domain": [
          0,
          1
         ],
         "title": {
          "text": "x"
         }
        },
        "yaxis": {
         "anchor": "x",
         "domain": [
          0,
          1
         ],
         "title": {
          "text": "y"
         }
        }
       }
      }
     },
     "metadata": {},
     "output_type": "display_data"
    },
    {
     "data": {
      "application/vnd.plotly.v1+json": {
       "config": {
        "plotlyServerURL": "https://plot.ly"
       },
       "data": [
        {
         "hovertemplate": "x=%{x}<br>y=%{y}<extra></extra>",
         "legendgroup": "",
         "marker": {
          "color": "#636efa",
          "symbol": "circle"
         },
         "mode": "markers",
         "name": "",
         "orientation": "v",
         "showlegend": false,
         "type": "scatter",
         "x": [
          0,
          0.524,
          1.047,
          1.571,
          2.094,
          2.618,
          3.142,
          1.608481353754163
         ],
         "xaxis": "x",
         "y": [
          -0.648,
          -0.576,
          -0.074,
          1.29,
          3.946,
          8.324,
          14.855,
          1.9659839369541843
         ],
         "yaxis": "y"
        },
        {
         "type": "scatter",
         "x": [
          0,
          0.16536842105263158,
          0.33073684210526316,
          0.4961052631578947,
          0.6614736842105263,
          0.8268421052631579,
          0.9922105263157894,
          1.157578947368421,
          1.3229473684210526,
          1.4883157894736843,
          1.6536842105263159,
          1.8190526315789475,
          1.9844210526315789,
          2.1497894736842107,
          2.315157894736842,
          2.480526315789474,
          2.6458947368421053,
          2.8112631578947367,
          2.9766315789473685,
          3.142
         ],
         "y": [
          -6.098253689944895,
          -5.269167148008306,
          -4.440080606071717,
          -3.6109940641351295,
          -2.7819075221985408,
          -1.9528209802619525,
          -1.1237344383253642,
          -0.294647896388776,
          0.5344386455478132,
          1.3635251874844014,
          2.1926117294209897,
          3.0216982713575797,
          3.850784813294166,
          4.679871355230756,
          5.508957897167343,
          6.338044439103933,
          7.167130981040521,
          7.9962175229771075,
          8.825304064913698,
          9.654390606850285
         ]
        }
       ],
       "layout": {
        "legend": {
         "tracegroupgap": 0
        },
        "margin": {
         "t": 60
        },
        "template": {
         "data": {
          "bar": [
           {
            "error_x": {
             "color": "#2a3f5f"
            },
            "error_y": {
             "color": "#2a3f5f"
            },
            "marker": {
             "line": {
              "color": "#E5ECF6",
              "width": 0.5
             },
             "pattern": {
              "fillmode": "overlay",
              "size": 10,
              "solidity": 0.2
             }
            },
            "type": "bar"
           }
          ],
          "barpolar": [
           {
            "marker": {
             "line": {
              "color": "#E5ECF6",
              "width": 0.5
             },
             "pattern": {
              "fillmode": "overlay",
              "size": 10,
              "solidity": 0.2
             }
            },
            "type": "barpolar"
           }
          ],
          "carpet": [
           {
            "aaxis": {
             "endlinecolor": "#2a3f5f",
             "gridcolor": "white",
             "linecolor": "white",
             "minorgridcolor": "white",
             "startlinecolor": "#2a3f5f"
            },
            "baxis": {
             "endlinecolor": "#2a3f5f",
             "gridcolor": "white",
             "linecolor": "white",
             "minorgridcolor": "white",
             "startlinecolor": "#2a3f5f"
            },
            "type": "carpet"
           }
          ],
          "choropleth": [
           {
            "colorbar": {
             "outlinewidth": 0,
             "ticks": ""
            },
            "type": "choropleth"
           }
          ],
          "contour": [
           {
            "colorbar": {
             "outlinewidth": 0,
             "ticks": ""
            },
            "colorscale": [
             [
              0,
              "#0d0887"
             ],
             [
              0.1111111111111111,
              "#46039f"
             ],
             [
              0.2222222222222222,
              "#7201a8"
             ],
             [
              0.3333333333333333,
              "#9c179e"
             ],
             [
              0.4444444444444444,
              "#bd3786"
             ],
             [
              0.5555555555555556,
              "#d8576b"
             ],
             [
              0.6666666666666666,
              "#ed7953"
             ],
             [
              0.7777777777777778,
              "#fb9f3a"
             ],
             [
              0.8888888888888888,
              "#fdca26"
             ],
             [
              1,
              "#f0f921"
             ]
            ],
            "type": "contour"
           }
          ],
          "contourcarpet": [
           {
            "colorbar": {
             "outlinewidth": 0,
             "ticks": ""
            },
            "type": "contourcarpet"
           }
          ],
          "heatmap": [
           {
            "colorbar": {
             "outlinewidth": 0,
             "ticks": ""
            },
            "colorscale": [
             [
              0,
              "#0d0887"
             ],
             [
              0.1111111111111111,
              "#46039f"
             ],
             [
              0.2222222222222222,
              "#7201a8"
             ],
             [
              0.3333333333333333,
              "#9c179e"
             ],
             [
              0.4444444444444444,
              "#bd3786"
             ],
             [
              0.5555555555555556,
              "#d8576b"
             ],
             [
              0.6666666666666666,
              "#ed7953"
             ],
             [
              0.7777777777777778,
              "#fb9f3a"
             ],
             [
              0.8888888888888888,
              "#fdca26"
             ],
             [
              1,
              "#f0f921"
             ]
            ],
            "type": "heatmap"
           }
          ],
          "heatmapgl": [
           {
            "colorbar": {
             "outlinewidth": 0,
             "ticks": ""
            },
            "colorscale": [
             [
              0,
              "#0d0887"
             ],
             [
              0.1111111111111111,
              "#46039f"
             ],
             [
              0.2222222222222222,
              "#7201a8"
             ],
             [
              0.3333333333333333,
              "#9c179e"
             ],
             [
              0.4444444444444444,
              "#bd3786"
             ],
             [
              0.5555555555555556,
              "#d8576b"
             ],
             [
              0.6666666666666666,
              "#ed7953"
             ],
             [
              0.7777777777777778,
              "#fb9f3a"
             ],
             [
              0.8888888888888888,
              "#fdca26"
             ],
             [
              1,
              "#f0f921"
             ]
            ],
            "type": "heatmapgl"
           }
          ],
          "histogram": [
           {
            "marker": {
             "pattern": {
              "fillmode": "overlay",
              "size": 10,
              "solidity": 0.2
             }
            },
            "type": "histogram"
           }
          ],
          "histogram2d": [
           {
            "colorbar": {
             "outlinewidth": 0,
             "ticks": ""
            },
            "colorscale": [
             [
              0,
              "#0d0887"
             ],
             [
              0.1111111111111111,
              "#46039f"
             ],
             [
              0.2222222222222222,
              "#7201a8"
             ],
             [
              0.3333333333333333,
              "#9c179e"
             ],
             [
              0.4444444444444444,
              "#bd3786"
             ],
             [
              0.5555555555555556,
              "#d8576b"
             ],
             [
              0.6666666666666666,
              "#ed7953"
             ],
             [
              0.7777777777777778,
              "#fb9f3a"
             ],
             [
              0.8888888888888888,
              "#fdca26"
             ],
             [
              1,
              "#f0f921"
             ]
            ],
            "type": "histogram2d"
           }
          ],
          "histogram2dcontour": [
           {
            "colorbar": {
             "outlinewidth": 0,
             "ticks": ""
            },
            "colorscale": [
             [
              0,
              "#0d0887"
             ],
             [
              0.1111111111111111,
              "#46039f"
             ],
             [
              0.2222222222222222,
              "#7201a8"
             ],
             [
              0.3333333333333333,
              "#9c179e"
             ],
             [
              0.4444444444444444,
              "#bd3786"
             ],
             [
              0.5555555555555556,
              "#d8576b"
             ],
             [
              0.6666666666666666,
              "#ed7953"
             ],
             [
              0.7777777777777778,
              "#fb9f3a"
             ],
             [
              0.8888888888888888,
              "#fdca26"
             ],
             [
              1,
              "#f0f921"
             ]
            ],
            "type": "histogram2dcontour"
           }
          ],
          "mesh3d": [
           {
            "colorbar": {
             "outlinewidth": 0,
             "ticks": ""
            },
            "type": "mesh3d"
           }
          ],
          "parcoords": [
           {
            "line": {
             "colorbar": {
              "outlinewidth": 0,
              "ticks": ""
             }
            },
            "type": "parcoords"
           }
          ],
          "pie": [
           {
            "automargin": true,
            "type": "pie"
           }
          ],
          "scatter": [
           {
            "fillpattern": {
             "fillmode": "overlay",
             "size": 10,
             "solidity": 0.2
            },
            "type": "scatter"
           }
          ],
          "scatter3d": [
           {
            "line": {
             "colorbar": {
              "outlinewidth": 0,
              "ticks": ""
             }
            },
            "marker": {
             "colorbar": {
              "outlinewidth": 0,
              "ticks": ""
             }
            },
            "type": "scatter3d"
           }
          ],
          "scattercarpet": [
           {
            "marker": {
             "colorbar": {
              "outlinewidth": 0,
              "ticks": ""
             }
            },
            "type": "scattercarpet"
           }
          ],
          "scattergeo": [
           {
            "marker": {
             "colorbar": {
              "outlinewidth": 0,
              "ticks": ""
             }
            },
            "type": "scattergeo"
           }
          ],
          "scattergl": [
           {
            "marker": {
             "colorbar": {
              "outlinewidth": 0,
              "ticks": ""
             }
            },
            "type": "scattergl"
           }
          ],
          "scattermapbox": [
           {
            "marker": {
             "colorbar": {
              "outlinewidth": 0,
              "ticks": ""
             }
            },
            "type": "scattermapbox"
           }
          ],
          "scatterpolar": [
           {
            "marker": {
             "colorbar": {
              "outlinewidth": 0,
              "ticks": ""
             }
            },
            "type": "scatterpolar"
           }
          ],
          "scatterpolargl": [
           {
            "marker": {
             "colorbar": {
              "outlinewidth": 0,
              "ticks": ""
             }
            },
            "type": "scatterpolargl"
           }
          ],
          "scatterternary": [
           {
            "marker": {
             "colorbar": {
              "outlinewidth": 0,
              "ticks": ""
             }
            },
            "type": "scatterternary"
           }
          ],
          "surface": [
           {
            "colorbar": {
             "outlinewidth": 0,
             "ticks": ""
            },
            "colorscale": [
             [
              0,
              "#0d0887"
             ],
             [
              0.1111111111111111,
              "#46039f"
             ],
             [
              0.2222222222222222,
              "#7201a8"
             ],
             [
              0.3333333333333333,
              "#9c179e"
             ],
             [
              0.4444444444444444,
              "#bd3786"
             ],
             [
              0.5555555555555556,
              "#d8576b"
             ],
             [
              0.6666666666666666,
              "#ed7953"
             ],
             [
              0.7777777777777778,
              "#fb9f3a"
             ],
             [
              0.8888888888888888,
              "#fdca26"
             ],
             [
              1,
              "#f0f921"
             ]
            ],
            "type": "surface"
           }
          ],
          "table": [
           {
            "cells": {
             "fill": {
              "color": "#EBF0F8"
             },
             "line": {
              "color": "white"
             }
            },
            "header": {
             "fill": {
              "color": "#C8D4E3"
             },
             "line": {
              "color": "white"
             }
            },
            "type": "table"
           }
          ]
         },
         "layout": {
          "annotationdefaults": {
           "arrowcolor": "#2a3f5f",
           "arrowhead": 0,
           "arrowwidth": 1
          },
          "autotypenumbers": "strict",
          "coloraxis": {
           "colorbar": {
            "outlinewidth": 0,
            "ticks": ""
           }
          },
          "colorscale": {
           "diverging": [
            [
             0,
             "#8e0152"
            ],
            [
             0.1,
             "#c51b7d"
            ],
            [
             0.2,
             "#de77ae"
            ],
            [
             0.3,
             "#f1b6da"
            ],
            [
             0.4,
             "#fde0ef"
            ],
            [
             0.5,
             "#f7f7f7"
            ],
            [
             0.6,
             "#e6f5d0"
            ],
            [
             0.7,
             "#b8e186"
            ],
            [
             0.8,
             "#7fbc41"
            ],
            [
             0.9,
             "#4d9221"
            ],
            [
             1,
             "#276419"
            ]
           ],
           "sequential": [
            [
             0,
             "#0d0887"
            ],
            [
             0.1111111111111111,
             "#46039f"
            ],
            [
             0.2222222222222222,
             "#7201a8"
            ],
            [
             0.3333333333333333,
             "#9c179e"
            ],
            [
             0.4444444444444444,
             "#bd3786"
            ],
            [
             0.5555555555555556,
             "#d8576b"
            ],
            [
             0.6666666666666666,
             "#ed7953"
            ],
            [
             0.7777777777777778,
             "#fb9f3a"
            ],
            [
             0.8888888888888888,
             "#fdca26"
            ],
            [
             1,
             "#f0f921"
            ]
           ],
           "sequentialminus": [
            [
             0,
             "#0d0887"
            ],
            [
             0.1111111111111111,
             "#46039f"
            ],
            [
             0.2222222222222222,
             "#7201a8"
            ],
            [
             0.3333333333333333,
             "#9c179e"
            ],
            [
             0.4444444444444444,
             "#bd3786"
            ],
            [
             0.5555555555555556,
             "#d8576b"
            ],
            [
             0.6666666666666666,
             "#ed7953"
            ],
            [
             0.7777777777777778,
             "#fb9f3a"
            ],
            [
             0.8888888888888888,
             "#fdca26"
            ],
            [
             1,
             "#f0f921"
            ]
           ]
          },
          "colorway": [
           "#636efa",
           "#EF553B",
           "#00cc96",
           "#ab63fa",
           "#FFA15A",
           "#19d3f3",
           "#FF6692",
           "#B6E880",
           "#FF97FF",
           "#FECB52"
          ],
          "font": {
           "color": "#2a3f5f"
          },
          "geo": {
           "bgcolor": "white",
           "lakecolor": "white",
           "landcolor": "#E5ECF6",
           "showlakes": true,
           "showland": true,
           "subunitcolor": "white"
          },
          "hoverlabel": {
           "align": "left"
          },
          "hovermode": "closest",
          "mapbox": {
           "style": "light"
          },
          "paper_bgcolor": "white",
          "plot_bgcolor": "#E5ECF6",
          "polar": {
           "angularaxis": {
            "gridcolor": "white",
            "linecolor": "white",
            "ticks": ""
           },
           "bgcolor": "#E5ECF6",
           "radialaxis": {
            "gridcolor": "white",
            "linecolor": "white",
            "ticks": ""
           }
          },
          "scene": {
           "xaxis": {
            "backgroundcolor": "#E5ECF6",
            "gridcolor": "white",
            "gridwidth": 2,
            "linecolor": "white",
            "showbackground": true,
            "ticks": "",
            "zerolinecolor": "white"
           },
           "yaxis": {
            "backgroundcolor": "#E5ECF6",
            "gridcolor": "white",
            "gridwidth": 2,
            "linecolor": "white",
            "showbackground": true,
            "ticks": "",
            "zerolinecolor": "white"
           },
           "zaxis": {
            "backgroundcolor": "#E5ECF6",
            "gridcolor": "white",
            "gridwidth": 2,
            "linecolor": "white",
            "showbackground": true,
            "ticks": "",
            "zerolinecolor": "white"
           }
          },
          "shapedefaults": {
           "line": {
            "color": "#2a3f5f"
           }
          },
          "ternary": {
           "aaxis": {
            "gridcolor": "white",
            "linecolor": "white",
            "ticks": ""
           },
           "baxis": {
            "gridcolor": "white",
            "linecolor": "white",
            "ticks": ""
           },
           "bgcolor": "#E5ECF6",
           "caxis": {
            "gridcolor": "white",
            "linecolor": "white",
            "ticks": ""
           }
          },
          "title": {
           "x": 0.05
          },
          "xaxis": {
           "automargin": true,
           "gridcolor": "white",
           "linecolor": "white",
           "ticks": "",
           "title": {
            "standoff": 15
           },
           "zerolinecolor": "white",
           "zerolinewidth": 2
          },
          "yaxis": {
           "automargin": true,
           "gridcolor": "white",
           "linecolor": "white",
           "ticks": "",
           "title": {
            "standoff": 15
           },
           "zerolinecolor": "white",
           "zerolinewidth": 2
          }
         }
        },
        "xaxis": {
         "anchor": "y",
         "domain": [
          0,
          1
         ],
         "title": {
          "text": "x"
         }
        },
        "yaxis": {
         "anchor": "x",
         "domain": [
          0,
          1
         ],
         "title": {
          "text": "y"
         }
        }
       }
      }
     },
     "metadata": {},
     "output_type": "display_data"
    },
    {
     "data": {
      "application/vnd.plotly.v1+json": {
       "config": {
        "plotlyServerURL": "https://plot.ly"
       },
       "data": [
        {
         "hovertemplate": "x=%{x}<br>y=%{y}<extra></extra>",
         "legendgroup": "",
         "marker": {
          "color": "#636efa",
          "symbol": "circle"
         },
         "mode": "markers",
         "name": "",
         "orientation": "v",
         "showlegend": false,
         "type": "scatter",
         "x": [
          -0.648,
          -0.576,
          -0.074,
          1.29,
          3.946,
          8.324,
          14.855,
          1.9659839369541843
         ],
         "xaxis": "x",
         "y": [
          0,
          0.524,
          1.047,
          1.571,
          2.094,
          2.618,
          3.142,
          1.608481353754163
         ],
         "yaxis": "y"
        },
        {
         "type": "scatter",
         "x": [
          -0.648,
          0.16794736842105262,
          0.9838947368421053,
          1.7998421052631577,
          2.6157894736842104,
          3.431736842105263,
          4.247684210526316,
          5.063631578947369,
          5.8795789473684215,
          6.695526315789474,
          7.511473684210527,
          8.32742105263158,
          9.143368421052632,
          9.959315789473685,
          10.775263157894738,
          11.59121052631579,
          12.407157894736843,
          13.223105263157896,
          14.039052631578947,
          14.855
         ],
         "y": [
          1.2120235127200596,
          1.335776657300817,
          1.4595298018815743,
          1.5832829464623317,
          1.707036091043089,
          1.8307892356238464,
          1.954542380204604,
          2.0782955247853616,
          2.202048669366119,
          2.3258018139468764,
          2.4495549585276337,
          2.573308103108391,
          2.697061247689148,
          2.820814392269906,
          2.944567536850663,
          3.0683206814314206,
          3.192073826012178,
          3.3158269705929353,
          3.439580115173693,
          3.56333325975445
         ]
        }
       ],
       "layout": {
        "legend": {
         "tracegroupgap": 0
        },
        "margin": {
         "t": 60
        },
        "template": {
         "data": {
          "bar": [
           {
            "error_x": {
             "color": "#2a3f5f"
            },
            "error_y": {
             "color": "#2a3f5f"
            },
            "marker": {
             "line": {
              "color": "#E5ECF6",
              "width": 0.5
             },
             "pattern": {
              "fillmode": "overlay",
              "size": 10,
              "solidity": 0.2
             }
            },
            "type": "bar"
           }
          ],
          "barpolar": [
           {
            "marker": {
             "line": {
              "color": "#E5ECF6",
              "width": 0.5
             },
             "pattern": {
              "fillmode": "overlay",
              "size": 10,
              "solidity": 0.2
             }
            },
            "type": "barpolar"
           }
          ],
          "carpet": [
           {
            "aaxis": {
             "endlinecolor": "#2a3f5f",
             "gridcolor": "white",
             "linecolor": "white",
             "minorgridcolor": "white",
             "startlinecolor": "#2a3f5f"
            },
            "baxis": {
             "endlinecolor": "#2a3f5f",
             "gridcolor": "white",
             "linecolor": "white",
             "minorgridcolor": "white",
             "startlinecolor": "#2a3f5f"
            },
            "type": "carpet"
           }
          ],
          "choropleth": [
           {
            "colorbar": {
             "outlinewidth": 0,
             "ticks": ""
            },
            "type": "choropleth"
           }
          ],
          "contour": [
           {
            "colorbar": {
             "outlinewidth": 0,
             "ticks": ""
            },
            "colorscale": [
             [
              0,
              "#0d0887"
             ],
             [
              0.1111111111111111,
              "#46039f"
             ],
             [
              0.2222222222222222,
              "#7201a8"
             ],
             [
              0.3333333333333333,
              "#9c179e"
             ],
             [
              0.4444444444444444,
              "#bd3786"
             ],
             [
              0.5555555555555556,
              "#d8576b"
             ],
             [
              0.6666666666666666,
              "#ed7953"
             ],
             [
              0.7777777777777778,
              "#fb9f3a"
             ],
             [
              0.8888888888888888,
              "#fdca26"
             ],
             [
              1,
              "#f0f921"
             ]
            ],
            "type": "contour"
           }
          ],
          "contourcarpet": [
           {
            "colorbar": {
             "outlinewidth": 0,
             "ticks": ""
            },
            "type": "contourcarpet"
           }
          ],
          "heatmap": [
           {
            "colorbar": {
             "outlinewidth": 0,
             "ticks": ""
            },
            "colorscale": [
             [
              0,
              "#0d0887"
             ],
             [
              0.1111111111111111,
              "#46039f"
             ],
             [
              0.2222222222222222,
              "#7201a8"
             ],
             [
              0.3333333333333333,
              "#9c179e"
             ],
             [
              0.4444444444444444,
              "#bd3786"
             ],
             [
              0.5555555555555556,
              "#d8576b"
             ],
             [
              0.6666666666666666,
              "#ed7953"
             ],
             [
              0.7777777777777778,
              "#fb9f3a"
             ],
             [
              0.8888888888888888,
              "#fdca26"
             ],
             [
              1,
              "#f0f921"
             ]
            ],
            "type": "heatmap"
           }
          ],
          "heatmapgl": [
           {
            "colorbar": {
             "outlinewidth": 0,
             "ticks": ""
            },
            "colorscale": [
             [
              0,
              "#0d0887"
             ],
             [
              0.1111111111111111,
              "#46039f"
             ],
             [
              0.2222222222222222,
              "#7201a8"
             ],
             [
              0.3333333333333333,
              "#9c179e"
             ],
             [
              0.4444444444444444,
              "#bd3786"
             ],
             [
              0.5555555555555556,
              "#d8576b"
             ],
             [
              0.6666666666666666,
              "#ed7953"
             ],
             [
              0.7777777777777778,
              "#fb9f3a"
             ],
             [
              0.8888888888888888,
              "#fdca26"
             ],
             [
              1,
              "#f0f921"
             ]
            ],
            "type": "heatmapgl"
           }
          ],
          "histogram": [
           {
            "marker": {
             "pattern": {
              "fillmode": "overlay",
              "size": 10,
              "solidity": 0.2
             }
            },
            "type": "histogram"
           }
          ],
          "histogram2d": [
           {
            "colorbar": {
             "outlinewidth": 0,
             "ticks": ""
            },
            "colorscale": [
             [
              0,
              "#0d0887"
             ],
             [
              0.1111111111111111,
              "#46039f"
             ],
             [
              0.2222222222222222,
              "#7201a8"
             ],
             [
              0.3333333333333333,
              "#9c179e"
             ],
             [
              0.4444444444444444,
              "#bd3786"
             ],
             [
              0.5555555555555556,
              "#d8576b"
             ],
             [
              0.6666666666666666,
              "#ed7953"
             ],
             [
              0.7777777777777778,
              "#fb9f3a"
             ],
             [
              0.8888888888888888,
              "#fdca26"
             ],
             [
              1,
              "#f0f921"
             ]
            ],
            "type": "histogram2d"
           }
          ],
          "histogram2dcontour": [
           {
            "colorbar": {
             "outlinewidth": 0,
             "ticks": ""
            },
            "colorscale": [
             [
              0,
              "#0d0887"
             ],
             [
              0.1111111111111111,
              "#46039f"
             ],
             [
              0.2222222222222222,
              "#7201a8"
             ],
             [
              0.3333333333333333,
              "#9c179e"
             ],
             [
              0.4444444444444444,
              "#bd3786"
             ],
             [
              0.5555555555555556,
              "#d8576b"
             ],
             [
              0.6666666666666666,
              "#ed7953"
             ],
             [
              0.7777777777777778,
              "#fb9f3a"
             ],
             [
              0.8888888888888888,
              "#fdca26"
             ],
             [
              1,
              "#f0f921"
             ]
            ],
            "type": "histogram2dcontour"
           }
          ],
          "mesh3d": [
           {
            "colorbar": {
             "outlinewidth": 0,
             "ticks": ""
            },
            "type": "mesh3d"
           }
          ],
          "parcoords": [
           {
            "line": {
             "colorbar": {
              "outlinewidth": 0,
              "ticks": ""
             }
            },
            "type": "parcoords"
           }
          ],
          "pie": [
           {
            "automargin": true,
            "type": "pie"
           }
          ],
          "scatter": [
           {
            "fillpattern": {
             "fillmode": "overlay",
             "size": 10,
             "solidity": 0.2
            },
            "type": "scatter"
           }
          ],
          "scatter3d": [
           {
            "line": {
             "colorbar": {
              "outlinewidth": 0,
              "ticks": ""
             }
            },
            "marker": {
             "colorbar": {
              "outlinewidth": 0,
              "ticks": ""
             }
            },
            "type": "scatter3d"
           }
          ],
          "scattercarpet": [
           {
            "marker": {
             "colorbar": {
              "outlinewidth": 0,
              "ticks": ""
             }
            },
            "type": "scattercarpet"
           }
          ],
          "scattergeo": [
           {
            "marker": {
             "colorbar": {
              "outlinewidth": 0,
              "ticks": ""
             }
            },
            "type": "scattergeo"
           }
          ],
          "scattergl": [
           {
            "marker": {
             "colorbar": {
              "outlinewidth": 0,
              "ticks": ""
             }
            },
            "type": "scattergl"
           }
          ],
          "scattermapbox": [
           {
            "marker": {
             "colorbar": {
              "outlinewidth": 0,
              "ticks": ""
             }
            },
            "type": "scattermapbox"
           }
          ],
          "scatterpolar": [
           {
            "marker": {
             "colorbar": {
              "outlinewidth": 0,
              "ticks": ""
             }
            },
            "type": "scatterpolar"
           }
          ],
          "scatterpolargl": [
           {
            "marker": {
             "colorbar": {
              "outlinewidth": 0,
              "ticks": ""
             }
            },
            "type": "scatterpolargl"
           }
          ],
          "scatterternary": [
           {
            "marker": {
             "colorbar": {
              "outlinewidth": 0,
              "ticks": ""
             }
            },
            "type": "scatterternary"
           }
          ],
          "surface": [
           {
            "colorbar": {
             "outlinewidth": 0,
             "ticks": ""
            },
            "colorscale": [
             [
              0,
              "#0d0887"
             ],
             [
              0.1111111111111111,
              "#46039f"
             ],
             [
              0.2222222222222222,
              "#7201a8"
             ],
             [
              0.3333333333333333,
              "#9c179e"
             ],
             [
              0.4444444444444444,
              "#bd3786"
             ],
             [
              0.5555555555555556,
              "#d8576b"
             ],
             [
              0.6666666666666666,
              "#ed7953"
             ],
             [
              0.7777777777777778,
              "#fb9f3a"
             ],
             [
              0.8888888888888888,
              "#fdca26"
             ],
             [
              1,
              "#f0f921"
             ]
            ],
            "type": "surface"
           }
          ],
          "table": [
           {
            "cells": {
             "fill": {
              "color": "#EBF0F8"
             },
             "line": {
              "color": "white"
             }
            },
            "header": {
             "fill": {
              "color": "#C8D4E3"
             },
             "line": {
              "color": "white"
             }
            },
            "type": "table"
           }
          ]
         },
         "layout": {
          "annotationdefaults": {
           "arrowcolor": "#2a3f5f",
           "arrowhead": 0,
           "arrowwidth": 1
          },
          "autotypenumbers": "strict",
          "coloraxis": {
           "colorbar": {
            "outlinewidth": 0,
            "ticks": ""
           }
          },
          "colorscale": {
           "diverging": [
            [
             0,
             "#8e0152"
            ],
            [
             0.1,
             "#c51b7d"
            ],
            [
             0.2,
             "#de77ae"
            ],
            [
             0.3,
             "#f1b6da"
            ],
            [
             0.4,
             "#fde0ef"
            ],
            [
             0.5,
             "#f7f7f7"
            ],
            [
             0.6,
             "#e6f5d0"
            ],
            [
             0.7,
             "#b8e186"
            ],
            [
             0.8,
             "#7fbc41"
            ],
            [
             0.9,
             "#4d9221"
            ],
            [
             1,
             "#276419"
            ]
           ],
           "sequential": [
            [
             0,
             "#0d0887"
            ],
            [
             0.1111111111111111,
             "#46039f"
            ],
            [
             0.2222222222222222,
             "#7201a8"
            ],
            [
             0.3333333333333333,
             "#9c179e"
            ],
            [
             0.4444444444444444,
             "#bd3786"
            ],
            [
             0.5555555555555556,
             "#d8576b"
            ],
            [
             0.6666666666666666,
             "#ed7953"
            ],
            [
             0.7777777777777778,
             "#fb9f3a"
            ],
            [
             0.8888888888888888,
             "#fdca26"
            ],
            [
             1,
             "#f0f921"
            ]
           ],
           "sequentialminus": [
            [
             0,
             "#0d0887"
            ],
            [
             0.1111111111111111,
             "#46039f"
            ],
            [
             0.2222222222222222,
             "#7201a8"
            ],
            [
             0.3333333333333333,
             "#9c179e"
            ],
            [
             0.4444444444444444,
             "#bd3786"
            ],
            [
             0.5555555555555556,
             "#d8576b"
            ],
            [
             0.6666666666666666,
             "#ed7953"
            ],
            [
             0.7777777777777778,
             "#fb9f3a"
            ],
            [
             0.8888888888888888,
             "#fdca26"
            ],
            [
             1,
             "#f0f921"
            ]
           ]
          },
          "colorway": [
           "#636efa",
           "#EF553B",
           "#00cc96",
           "#ab63fa",
           "#FFA15A",
           "#19d3f3",
           "#FF6692",
           "#B6E880",
           "#FF97FF",
           "#FECB52"
          ],
          "font": {
           "color": "#2a3f5f"
          },
          "geo": {
           "bgcolor": "white",
           "lakecolor": "white",
           "landcolor": "#E5ECF6",
           "showlakes": true,
           "showland": true,
           "subunitcolor": "white"
          },
          "hoverlabel": {
           "align": "left"
          },
          "hovermode": "closest",
          "mapbox": {
           "style": "light"
          },
          "paper_bgcolor": "white",
          "plot_bgcolor": "#E5ECF6",
          "polar": {
           "angularaxis": {
            "gridcolor": "white",
            "linecolor": "white",
            "ticks": ""
           },
           "bgcolor": "#E5ECF6",
           "radialaxis": {
            "gridcolor": "white",
            "linecolor": "white",
            "ticks": ""
           }
          },
          "scene": {
           "xaxis": {
            "backgroundcolor": "#E5ECF6",
            "gridcolor": "white",
            "gridwidth": 2,
            "linecolor": "white",
            "showbackground": true,
            "ticks": "",
            "zerolinecolor": "white"
           },
           "yaxis": {
            "backgroundcolor": "#E5ECF6",
            "gridcolor": "white",
            "gridwidth": 2,
            "linecolor": "white",
            "showbackground": true,
            "ticks": "",
            "zerolinecolor": "white"
           },
           "zaxis": {
            "backgroundcolor": "#E5ECF6",
            "gridcolor": "white",
            "gridwidth": 2,
            "linecolor": "white",
            "showbackground": true,
            "ticks": "",
            "zerolinecolor": "white"
           }
          },
          "shapedefaults": {
           "line": {
            "color": "#2a3f5f"
           }
          },
          "ternary": {
           "aaxis": {
            "gridcolor": "white",
            "linecolor": "white",
            "ticks": ""
           },
           "baxis": {
            "gridcolor": "white",
            "linecolor": "white",
            "ticks": ""
           },
           "bgcolor": "#E5ECF6",
           "caxis": {
            "gridcolor": "white",
            "linecolor": "white",
            "ticks": ""
           }
          },
          "title": {
           "x": 0.05
          },
          "xaxis": {
           "automargin": true,
           "gridcolor": "white",
           "linecolor": "white",
           "ticks": "",
           "title": {
            "standoff": 15
           },
           "zerolinecolor": "white",
           "zerolinewidth": 2
          },
          "yaxis": {
           "automargin": true,
           "gridcolor": "white",
           "linecolor": "white",
           "ticks": "",
           "title": {
            "standoff": 15
           },
           "zerolinecolor": "white",
           "zerolinewidth": 2
          }
         }
        },
        "xaxis": {
         "anchor": "y",
         "domain": [
          0,
          1
         ],
         "title": {
          "text": "x"
         }
        },
        "yaxis": {
         "anchor": "x",
         "domain": [
          0,
          1
         ],
         "title": {
          "text": "y"
         }
        }
       }
      }
     },
     "metadata": {},
     "output_type": "display_data"
    }
   ],
   "source": [
    "x, y, p = read_xypdata(\"data/tmp42\")\n",
    "\n",
    "x_pred = np.linspace(min(x), max(x), 20)\n",
    "f_pred = LeastSquare(x, y, p, 1)\n",
    "y_pred = [f_pred(xi) for xi in x_pred]\n",
    "\n",
    "print(\"Центр масс: \")\n",
    "\n",
    "xm, ym = getMassCenter(x, y, p)\n",
    "\n",
    "print(f\"{xm:.6f} {ym:.6f}\")\n",
    "\n",
    "f_coeffs = LeastSquaresCoeffs(x, y, p, 3)\n",
    "print(\"Коэф-ты:\")\n",
    "for i, coeff in enumerate(f_coeffs):\n",
    "    print(f\"{i}:\\t{coeff:.6f}\")\n",
    "\n",
    "fig = px.scatter(x=[*x, *y, xm], y=[*y, *x, ym])\n",
    "fig.add_trace(go.Scatter(x=x_pred, y=y_pred, name=\"Приближение x\"))\n",
    "\n",
    "x_pred = np.linspace(min(y), max(y), 20)\n",
    "f_pred = LeastSquare(y, x, p, 1)\n",
    "y_pred = [f_pred(xi) for xi in x_pred]\n",
    "\n",
    "f_coeffs = LeastSquaresCoeffs(y, x, p, 3)\n",
    "print(\"Коэф-ты:\")\n",
    "for i, coeff in enumerate(f_coeffs):\n",
    "    print(f\"{i}:\\t{coeff:.6f}\")\n",
    "\n",
    "fig.add_trace(go.Scatter(x=x_pred, y=y_pred, name=\"Приближение y\"))\n",
    "\n",
    "fig.show()\n",
    "\n",
    "x_pred = np.linspace(min(x), max(x), 20)\n",
    "f_pred = LeastSquare(x, y, p, 1)\n",
    "y_pred = [f_pred(xi) for xi in x_pred]\n",
    "\n",
    "fig = px.scatter(x=[*x, xm], y=[*y, ym])\n",
    "fig.add_trace(go.Scatter(x=x_pred, y=y_pred))\n",
    "\n",
    "fig.show()\n",
    "\n",
    "x_pred = np.linspace(min(y), max(y), 20)\n",
    "f_pred = LeastSquare(y, x, p, 1)\n",
    "y_pred = [f_pred(xi) for xi in x_pred]\n",
    "\n",
    "\n",
    "fig = px.scatter(x=[*y, ym], y=[*x, xm])\n",
    "fig.add_trace(go.Scatter(x=x_pred, y=y_pred))\n",
    "\n",
    "fig.show()"
   ]
  },
  {
   "cell_type": "code",
   "execution_count": 5,
   "metadata": {},
   "outputs": [
    {
     "name": "stdout",
     "output_type": "stream",
     "text": [
      "Коэф-ты:\n",
      "0:\t932.363328\n",
      "1:\t-3254.880015\n",
      "2:\t-134.915432\n",
      "3:\t131.808495\n"
     ]
    },
    {
     "data": {
      "application/vnd.plotly.v1+json": {
       "config": {
        "plotlyServerURL": "https://plot.ly"
       },
       "data": [
        {
         "hovertemplate": "<extra></extra>",
         "legendgroup": "",
         "line": {
          "color": "#636efa",
          "dash": "solid"
         },
         "marker": {
          "symbol": "circle"
         },
         "mode": "lines",
         "name": "",
         "orientation": "v",
         "showlegend": false,
         "type": "scatter",
         "xaxis": "x",
         "yaxis": "y"
        },
        {
         "name": "Функция",
         "type": "scatter",
         "x": [
          -10,
          -9.551020408163266,
          -9.10204081632653,
          -8.653061224489797,
          -8.204081632653061,
          -7.755102040816327,
          -7.3061224489795915,
          -6.857142857142858,
          -6.408163265306122,
          -5.959183673469388,
          -5.510204081632653,
          -5.061224489795919,
          -4.612244897959184,
          -4.163265306122449,
          -3.7142857142857144,
          -3.2653061224489797,
          -2.816326530612245,
          -2.36734693877551,
          -1.9183673469387763,
          -1.4693877551020407,
          -1.0204081632653068,
          -0.5714285714285712,
          -0.12244897959183731,
          0.3265306122448983,
          0.7755102040816322,
          1.2244897959183678,
          1.6734693877551017,
          2.1224489795918373,
          2.571428571428571,
          3.020408163265307,
          3.4693877551020407,
          3.9183673469387763,
          4.36734693877551,
          4.816326530612244,
          5.26530612244898,
          5.7142857142857135,
          6.163265306122447,
          6.612244897959183,
          7.061224489795919,
          7.510204081632654,
          7.959183673469386,
          8.408163265306122,
          8.857142857142858,
          9.306122448979593,
          9.755102040816325,
          10.204081632653061,
          10.653061224489797,
          11.102040816326532,
          11.551020408163264,
          12
         ],
         "y": [
          -123612,
          -99293.9296530508,
          -78970.93915623029,
          -62128.25034313008,
          -48297.41955373938,
          -37054.14828921172,
          -28016.09386663112,
          -20840.68007377879,
          -15222.907823899286,
          -10893.16581046717,
          -7615.041161953274,
          -5183.130096591226,
          -3420.848577143834,
          -2178.242965669534,
          -1329.8006782888085,
          -772.2608399506182,
          -422.42493919883225,
          -214.96748293865562,
          -100.2466512030583,
          -42.11495191920336,
          -15.729875674877295,
          -5.364550484916996,
          -2.218396557639641,
          -2.2277810612709654,
          -3.8766728903741914,
          -6.007297432278749,
          -5.630791333509011,
          4.262142733786938,
          36.89058130540843,
          113.87272535867396,
          267.4152455459911,
          542.5026274284306,
          999.0865167092924,
          1714.2750644676821,
          2784.522272392086,
          4327.81733801392,
          6485.873999941133,
          9426.31988309177,
          13344.88584392752,
          18467.595315687304,
          25052.953653620796,
          33394.13748022219,
          43821.18403046352,
          56703.18049702829,
          72450.45337554507,
          91516.7578098214,
          114401.46693707671,
          141651.76123317634,
          173864.81785786472,
          211690
         ]
        },
        {
         "name": "Приближение",
         "type": "scatter",
         "x": [
          -10,
          -9.551020408163266,
          -9.10204081632653,
          -8.653061224489797,
          -8.204081632653061,
          -7.755102040816327,
          -7.3061224489795915,
          -6.857142857142858,
          -6.408163265306122,
          -5.959183673469388,
          -5.510204081632653,
          -5.061224489795919,
          -4.612244897959184,
          -4.163265306122449,
          -3.7142857142857144,
          -3.2653061224489797,
          -2.816326530612245,
          -2.36734693877551,
          -1.9183673469387763,
          -1.4693877551020407,
          -1.0204081632653068,
          -0.5714285714285712,
          -0.12244897959183731,
          0.3265306122448983,
          0.7755102040816322,
          1.2244897959183678,
          1.6734693877551017,
          2.1224489795918373,
          2.571428571428571,
          3.020408163265307,
          3.4693877551020407,
          3.9183673469387763,
          4.36734693877551,
          4.816326530612244,
          5.26530612244898,
          5.7142857142857135,
          6.163265306122447,
          6.612244897959183,
          7.061224489795919,
          7.510204081632654,
          7.959183673469386,
          8.408163265306122,
          8.857142857142858,
          9.306122448979593,
          9.755102040816325,
          10.204081632653061,
          10.653061224489797,
          11.102040816326532,
          11.551020408163264,
          12
         ],
         "y": [
          -103432.83844587771,
          -89647.0684392303,
          -76906.13075962603,
          -65191.73493109803,
          -54483.22682162649,
          -44757.58864313907,
          -35989.43895151047,
          -28151.03264656286,
          -21212.26097206547,
          -15140.651515734988,
          -9901.368209235217,
          -5457.211328177289,
          -1768.617492119589,
          1206.3403354322477,
          3511.9528470253117,
          5194.874391259437,
          6304.122972787201,
          6891.080252313907,
          7009.491546597612,
          6715.465828449095,
          6067.47572673189,
          5126.3575263622515,
          3955.3111683091906,
          2619.900249594438,
          1188.0520232924805,
          -269.9426014694741,
          -1681.4290595114617,
          -2971.3891296007987,
          -4062.4409344520454,
          -4874.8389407270415,
          -5326.473959034872,
          -5332.873143931892,
          -4807.199993921724,
          -3660.2543514552417,
          -1800.4724029305764,
          866.0733213068506,
          4435.673946964385,
          9006.984255802126,
          14681.022685632866,
          21561.171330322166,
          29753.175939788238,
          39365.14592000224,
          50507.55433298789,
          63293.23789682168,
          77837.39698563275,
          94257.59562960331,
          112673.7615149679,
          133208.18598401407,
          155985.52403508182,
          181132.79432256438
         ]
        }
       ],
       "layout": {
        "legend": {
         "tracegroupgap": 0
        },
        "margin": {
         "t": 60
        },
        "template": {
         "data": {
          "bar": [
           {
            "error_x": {
             "color": "#2a3f5f"
            },
            "error_y": {
             "color": "#2a3f5f"
            },
            "marker": {
             "line": {
              "color": "#E5ECF6",
              "width": 0.5
             },
             "pattern": {
              "fillmode": "overlay",
              "size": 10,
              "solidity": 0.2
             }
            },
            "type": "bar"
           }
          ],
          "barpolar": [
           {
            "marker": {
             "line": {
              "color": "#E5ECF6",
              "width": 0.5
             },
             "pattern": {
              "fillmode": "overlay",
              "size": 10,
              "solidity": 0.2
             }
            },
            "type": "barpolar"
           }
          ],
          "carpet": [
           {
            "aaxis": {
             "endlinecolor": "#2a3f5f",
             "gridcolor": "white",
             "linecolor": "white",
             "minorgridcolor": "white",
             "startlinecolor": "#2a3f5f"
            },
            "baxis": {
             "endlinecolor": "#2a3f5f",
             "gridcolor": "white",
             "linecolor": "white",
             "minorgridcolor": "white",
             "startlinecolor": "#2a3f5f"
            },
            "type": "carpet"
           }
          ],
          "choropleth": [
           {
            "colorbar": {
             "outlinewidth": 0,
             "ticks": ""
            },
            "type": "choropleth"
           }
          ],
          "contour": [
           {
            "colorbar": {
             "outlinewidth": 0,
             "ticks": ""
            },
            "colorscale": [
             [
              0,
              "#0d0887"
             ],
             [
              0.1111111111111111,
              "#46039f"
             ],
             [
              0.2222222222222222,
              "#7201a8"
             ],
             [
              0.3333333333333333,
              "#9c179e"
             ],
             [
              0.4444444444444444,
              "#bd3786"
             ],
             [
              0.5555555555555556,
              "#d8576b"
             ],
             [
              0.6666666666666666,
              "#ed7953"
             ],
             [
              0.7777777777777778,
              "#fb9f3a"
             ],
             [
              0.8888888888888888,
              "#fdca26"
             ],
             [
              1,
              "#f0f921"
             ]
            ],
            "type": "contour"
           }
          ],
          "contourcarpet": [
           {
            "colorbar": {
             "outlinewidth": 0,
             "ticks": ""
            },
            "type": "contourcarpet"
           }
          ],
          "heatmap": [
           {
            "colorbar": {
             "outlinewidth": 0,
             "ticks": ""
            },
            "colorscale": [
             [
              0,
              "#0d0887"
             ],
             [
              0.1111111111111111,
              "#46039f"
             ],
             [
              0.2222222222222222,
              "#7201a8"
             ],
             [
              0.3333333333333333,
              "#9c179e"
             ],
             [
              0.4444444444444444,
              "#bd3786"
             ],
             [
              0.5555555555555556,
              "#d8576b"
             ],
             [
              0.6666666666666666,
              "#ed7953"
             ],
             [
              0.7777777777777778,
              "#fb9f3a"
             ],
             [
              0.8888888888888888,
              "#fdca26"
             ],
             [
              1,
              "#f0f921"
             ]
            ],
            "type": "heatmap"
           }
          ],
          "heatmapgl": [
           {
            "colorbar": {
             "outlinewidth": 0,
             "ticks": ""
            },
            "colorscale": [
             [
              0,
              "#0d0887"
             ],
             [
              0.1111111111111111,
              "#46039f"
             ],
             [
              0.2222222222222222,
              "#7201a8"
             ],
             [
              0.3333333333333333,
              "#9c179e"
             ],
             [
              0.4444444444444444,
              "#bd3786"
             ],
             [
              0.5555555555555556,
              "#d8576b"
             ],
             [
              0.6666666666666666,
              "#ed7953"
             ],
             [
              0.7777777777777778,
              "#fb9f3a"
             ],
             [
              0.8888888888888888,
              "#fdca26"
             ],
             [
              1,
              "#f0f921"
             ]
            ],
            "type": "heatmapgl"
           }
          ],
          "histogram": [
           {
            "marker": {
             "pattern": {
              "fillmode": "overlay",
              "size": 10,
              "solidity": 0.2
             }
            },
            "type": "histogram"
           }
          ],
          "histogram2d": [
           {
            "colorbar": {
             "outlinewidth": 0,
             "ticks": ""
            },
            "colorscale": [
             [
              0,
              "#0d0887"
             ],
             [
              0.1111111111111111,
              "#46039f"
             ],
             [
              0.2222222222222222,
              "#7201a8"
             ],
             [
              0.3333333333333333,
              "#9c179e"
             ],
             [
              0.4444444444444444,
              "#bd3786"
             ],
             [
              0.5555555555555556,
              "#d8576b"
             ],
             [
              0.6666666666666666,
              "#ed7953"
             ],
             [
              0.7777777777777778,
              "#fb9f3a"
             ],
             [
              0.8888888888888888,
              "#fdca26"
             ],
             [
              1,
              "#f0f921"
             ]
            ],
            "type": "histogram2d"
           }
          ],
          "histogram2dcontour": [
           {
            "colorbar": {
             "outlinewidth": 0,
             "ticks": ""
            },
            "colorscale": [
             [
              0,
              "#0d0887"
             ],
             [
              0.1111111111111111,
              "#46039f"
             ],
             [
              0.2222222222222222,
              "#7201a8"
             ],
             [
              0.3333333333333333,
              "#9c179e"
             ],
             [
              0.4444444444444444,
              "#bd3786"
             ],
             [
              0.5555555555555556,
              "#d8576b"
             ],
             [
              0.6666666666666666,
              "#ed7953"
             ],
             [
              0.7777777777777778,
              "#fb9f3a"
             ],
             [
              0.8888888888888888,
              "#fdca26"
             ],
             [
              1,
              "#f0f921"
             ]
            ],
            "type": "histogram2dcontour"
           }
          ],
          "mesh3d": [
           {
            "colorbar": {
             "outlinewidth": 0,
             "ticks": ""
            },
            "type": "mesh3d"
           }
          ],
          "parcoords": [
           {
            "line": {
             "colorbar": {
              "outlinewidth": 0,
              "ticks": ""
             }
            },
            "type": "parcoords"
           }
          ],
          "pie": [
           {
            "automargin": true,
            "type": "pie"
           }
          ],
          "scatter": [
           {
            "fillpattern": {
             "fillmode": "overlay",
             "size": 10,
             "solidity": 0.2
            },
            "type": "scatter"
           }
          ],
          "scatter3d": [
           {
            "line": {
             "colorbar": {
              "outlinewidth": 0,
              "ticks": ""
             }
            },
            "marker": {
             "colorbar": {
              "outlinewidth": 0,
              "ticks": ""
             }
            },
            "type": "scatter3d"
           }
          ],
          "scattercarpet": [
           {
            "marker": {
             "colorbar": {
              "outlinewidth": 0,
              "ticks": ""
             }
            },
            "type": "scattercarpet"
           }
          ],
          "scattergeo": [
           {
            "marker": {
             "colorbar": {
              "outlinewidth": 0,
              "ticks": ""
             }
            },
            "type": "scattergeo"
           }
          ],
          "scattergl": [
           {
            "marker": {
             "colorbar": {
              "outlinewidth": 0,
              "ticks": ""
             }
            },
            "type": "scattergl"
           }
          ],
          "scattermapbox": [
           {
            "marker": {
             "colorbar": {
              "outlinewidth": 0,
              "ticks": ""
             }
            },
            "type": "scattermapbox"
           }
          ],
          "scatterpolar": [
           {
            "marker": {
             "colorbar": {
              "outlinewidth": 0,
              "ticks": ""
             }
            },
            "type": "scatterpolar"
           }
          ],
          "scatterpolargl": [
           {
            "marker": {
             "colorbar": {
              "outlinewidth": 0,
              "ticks": ""
             }
            },
            "type": "scatterpolargl"
           }
          ],
          "scatterternary": [
           {
            "marker": {
             "colorbar": {
              "outlinewidth": 0,
              "ticks": ""
             }
            },
            "type": "scatterternary"
           }
          ],
          "surface": [
           {
            "colorbar": {
             "outlinewidth": 0,
             "ticks": ""
            },
            "colorscale": [
             [
              0,
              "#0d0887"
             ],
             [
              0.1111111111111111,
              "#46039f"
             ],
             [
              0.2222222222222222,
              "#7201a8"
             ],
             [
              0.3333333333333333,
              "#9c179e"
             ],
             [
              0.4444444444444444,
              "#bd3786"
             ],
             [
              0.5555555555555556,
              "#d8576b"
             ],
             [
              0.6666666666666666,
              "#ed7953"
             ],
             [
              0.7777777777777778,
              "#fb9f3a"
             ],
             [
              0.8888888888888888,
              "#fdca26"
             ],
             [
              1,
              "#f0f921"
             ]
            ],
            "type": "surface"
           }
          ],
          "table": [
           {
            "cells": {
             "fill": {
              "color": "#EBF0F8"
             },
             "line": {
              "color": "white"
             }
            },
            "header": {
             "fill": {
              "color": "#C8D4E3"
             },
             "line": {
              "color": "white"
             }
            },
            "type": "table"
           }
          ]
         },
         "layout": {
          "annotationdefaults": {
           "arrowcolor": "#2a3f5f",
           "arrowhead": 0,
           "arrowwidth": 1
          },
          "autotypenumbers": "strict",
          "coloraxis": {
           "colorbar": {
            "outlinewidth": 0,
            "ticks": ""
           }
          },
          "colorscale": {
           "diverging": [
            [
             0,
             "#8e0152"
            ],
            [
             0.1,
             "#c51b7d"
            ],
            [
             0.2,
             "#de77ae"
            ],
            [
             0.3,
             "#f1b6da"
            ],
            [
             0.4,
             "#fde0ef"
            ],
            [
             0.5,
             "#f7f7f7"
            ],
            [
             0.6,
             "#e6f5d0"
            ],
            [
             0.7,
             "#b8e186"
            ],
            [
             0.8,
             "#7fbc41"
            ],
            [
             0.9,
             "#4d9221"
            ],
            [
             1,
             "#276419"
            ]
           ],
           "sequential": [
            [
             0,
             "#0d0887"
            ],
            [
             0.1111111111111111,
             "#46039f"
            ],
            [
             0.2222222222222222,
             "#7201a8"
            ],
            [
             0.3333333333333333,
             "#9c179e"
            ],
            [
             0.4444444444444444,
             "#bd3786"
            ],
            [
             0.5555555555555556,
             "#d8576b"
            ],
            [
             0.6666666666666666,
             "#ed7953"
            ],
            [
             0.7777777777777778,
             "#fb9f3a"
            ],
            [
             0.8888888888888888,
             "#fdca26"
            ],
            [
             1,
             "#f0f921"
            ]
           ],
           "sequentialminus": [
            [
             0,
             "#0d0887"
            ],
            [
             0.1111111111111111,
             "#46039f"
            ],
            [
             0.2222222222222222,
             "#7201a8"
            ],
            [
             0.3333333333333333,
             "#9c179e"
            ],
            [
             0.4444444444444444,
             "#bd3786"
            ],
            [
             0.5555555555555556,
             "#d8576b"
            ],
            [
             0.6666666666666666,
             "#ed7953"
            ],
            [
             0.7777777777777778,
             "#fb9f3a"
            ],
            [
             0.8888888888888888,
             "#fdca26"
            ],
            [
             1,
             "#f0f921"
            ]
           ]
          },
          "colorway": [
           "#636efa",
           "#EF553B",
           "#00cc96",
           "#ab63fa",
           "#FFA15A",
           "#19d3f3",
           "#FF6692",
           "#B6E880",
           "#FF97FF",
           "#FECB52"
          ],
          "font": {
           "color": "#2a3f5f"
          },
          "geo": {
           "bgcolor": "white",
           "lakecolor": "white",
           "landcolor": "#E5ECF6",
           "showlakes": true,
           "showland": true,
           "subunitcolor": "white"
          },
          "hoverlabel": {
           "align": "left"
          },
          "hovermode": "closest",
          "mapbox": {
           "style": "light"
          },
          "paper_bgcolor": "white",
          "plot_bgcolor": "#E5ECF6",
          "polar": {
           "angularaxis": {
            "gridcolor": "white",
            "linecolor": "white",
            "ticks": ""
           },
           "bgcolor": "#E5ECF6",
           "radialaxis": {
            "gridcolor": "white",
            "linecolor": "white",
            "ticks": ""
           }
          },
          "scene": {
           "xaxis": {
            "backgroundcolor": "#E5ECF6",
            "gridcolor": "white",
            "gridwidth": 2,
            "linecolor": "white",
            "showbackground": true,
            "ticks": "",
            "zerolinecolor": "white"
           },
           "yaxis": {
            "backgroundcolor": "#E5ECF6",
            "gridcolor": "white",
            "gridwidth": 2,
            "linecolor": "white",
            "showbackground": true,
            "ticks": "",
            "zerolinecolor": "white"
           },
           "zaxis": {
            "backgroundcolor": "#E5ECF6",
            "gridcolor": "white",
            "gridwidth": 2,
            "linecolor": "white",
            "showbackground": true,
            "ticks": "",
            "zerolinecolor": "white"
           }
          },
          "shapedefaults": {
           "line": {
            "color": "#2a3f5f"
           }
          },
          "ternary": {
           "aaxis": {
            "gridcolor": "white",
            "linecolor": "white",
            "ticks": ""
           },
           "baxis": {
            "gridcolor": "white",
            "linecolor": "white",
            "ticks": ""
           },
           "bgcolor": "#E5ECF6",
           "caxis": {
            "gridcolor": "white",
            "linecolor": "white",
            "ticks": ""
           }
          },
          "title": {
           "x": 0.05
          },
          "xaxis": {
           "automargin": true,
           "gridcolor": "white",
           "linecolor": "white",
           "ticks": "",
           "title": {
            "standoff": 15
           },
           "zerolinecolor": "white",
           "zerolinewidth": 2
          },
          "yaxis": {
           "automargin": true,
           "gridcolor": "white",
           "linecolor": "white",
           "ticks": "",
           "title": {
            "standoff": 15
           },
           "zerolinecolor": "white",
           "zerolinewidth": 2
          }
         }
        },
        "xaxis": {
         "anchor": "y",
         "domain": [
          0,
          1
         ]
        },
        "yaxis": {
         "anchor": "x",
         "domain": [
          0,
          1
         ]
        }
       }
      }
     },
     "metadata": {},
     "output_type": "display_data"
    }
   ],
   "source": [
    "def f_n(x):\n",
    "    return x**5 - 2 * x**4 + 3 * x**3 - 6 * x**2 + x - 2\n",
    "\n",
    "\n",
    "x, y, p = get_xypdata(-10, 12, 50, 0, 1, f_n)\n",
    "\n",
    "x_pred = np.linspace(-10, 12, 50)\n",
    "f_pred = LeastSquare(x, y, p, 4)\n",
    "y_pred = [f_pred(xi) for xi in x_pred]\n",
    "\n",
    "f_coeffs = LeastSquaresCoeffs(x, y, p, 3)\n",
    "\n",
    "print(\"Коэф-ты:\")\n",
    "for i, coeff in enumerate(f_coeffs):\n",
    "    print(f\"{i}:\\t{coeff:.6f}\")\n",
    "\n",
    "fig = px.line()\n",
    "fig.add_trace(go.Scatter(x=x, y=y, name=\"Функция\"))\n",
    "fig.add_trace(go.Scatter(x=x_pred, y=y_pred, name=\"Приближение\"))\n",
    "fig.show()"
   ]
  },
  {
   "cell_type": "code",
   "execution_count": 6,
   "metadata": {},
   "outputs": [
    {
     "name": "stdout",
     "output_type": "stream",
     "text": [
      "Коэф-ты:\n",
      "0:\t0.783023\n",
      "1:\t-0.071910\n",
      "2:\t-0.567341\n",
      "3:\t1.190317\n"
     ]
    },
    {
     "data": {
      "application/vnd.plotly.v1+json": {
       "config": {
        "plotlyServerURL": "https://plot.ly"
       },
       "data": [
        {
         "hovertemplate": "<extra></extra>",
         "legendgroup": "",
         "line": {
          "color": "#636efa",
          "dash": "solid"
         },
         "marker": {
          "symbol": "circle"
         },
         "mode": "lines",
         "name": "",
         "orientation": "v",
         "showlegend": false,
         "type": "scatter",
         "xaxis": "x",
         "yaxis": "y"
        },
        {
         "name": "Функция",
         "type": "scatter",
         "x": [
          -2,
          -1.9393939393939394,
          -1.878787878787879,
          -1.8181818181818181,
          -1.7575757575757576,
          -1.696969696969697,
          -1.6363636363636362,
          -1.5757575757575757,
          -1.5151515151515151,
          -1.4545454545454546,
          -1.393939393939394,
          -1.3333333333333333,
          -1.2727272727272727,
          -1.2121212121212122,
          -1.1515151515151514,
          -1.0909090909090908,
          -1.0303030303030303,
          -0.9696969696969697,
          -0.9090909090909092,
          -0.8484848484848484,
          -0.7878787878787878,
          -0.7272727272727273,
          -0.6666666666666665,
          -0.606060606060606,
          -0.5454545454545454,
          -0.48484848484848486,
          -0.4242424242424243,
          -0.36363636363636354,
          -0.303030303030303,
          -0.24242424242424243,
          -0.18181818181818166,
          -0.1212121212121211,
          -0.06060606060606055,
          0,
          0.06060606060606055,
          0.1212121212121211,
          0.18181818181818166,
          0.24242424242424265,
          0.3030303030303032,
          0.36363636363636376,
          0.4242424242424243,
          0.48484848484848486,
          0.5454545454545454,
          0.606060606060606,
          0.666666666666667,
          0.7272727272727275,
          0.7878787878787881,
          0.8484848484848486,
          0.9090909090909092,
          0.9696969696969697,
          1.0303030303030303,
          1.0909090909090908,
          1.1515151515151514,
          1.2121212121212124,
          1.272727272727273,
          1.3333333333333335,
          1.393939393939394,
          1.4545454545454546,
          1.5151515151515151,
          1.5757575757575757,
          1.6363636363636367,
          1.6969696969696972,
          1.7575757575757578,
          1.8181818181818183,
          1.878787878787879,
          1.9393939393939394,
          2,
          2.0606060606060606,
          2.121212121212121,
          2.1818181818181817,
          2.242424242424242,
          2.3030303030303028,
          2.3636363636363633,
          2.4242424242424248,
          2.4848484848484853,
          2.545454545454546,
          2.6060606060606064,
          2.666666666666667,
          2.7272727272727275,
          2.787878787878788,
          2.8484848484848486,
          2.909090909090909,
          2.9696969696969697,
          3.0303030303030303,
          3.090909090909091,
          3.1515151515151514,
          3.212121212121212,
          3.2727272727272725,
          3.333333333333334,
          3.3939393939393945,
          3.454545454545455,
          3.5151515151515156,
          3.575757575757576,
          3.6363636363636367,
          3.6969696969696972,
          3.757575757575758,
          3.8181818181818183,
          3.878787878787879,
          3.9393939393939394,
          4
         ],
         "y": [
          -12.195357645382263,
          -12.020203405984509,
          -11.611423366073163,
          -10.952831147763373,
          -10.045271456935467,
          -8.906492569891878,
          -7.570030261093967,
          -6.083168442401755,
          -4.504095780232953,
          -2.8984245780825812,
          -1.335275508004062,
          0.1168428352152131,
          1.3941185842193966,
          2.4412465740372484,
          3.214740825894921,
          3.6855558183646897,
          3.840863248001211,
          3.684880370496222,
          3.238701479092864,
          2.539142375782006,
          1.6366654132110428,
          0.5925064555338357,
          -0.5248282199892028,
          -1.6434902115461196,
          -2.6924127363095733,
          -3.605388663131979,
          -4.324864341850702,
          -4.805227357509448,
          -5.0153959342142915,
          -4.940558554447066,
          -4.582962056975391,
          -3.9617021236161953,
          -3.111528407659321,
          -2.080734182735712,
          -0.9282539302237843,
          0.2798613951719093,
          1.474385287251564,
          2.587042323564132,
          3.554579179128735,
          4.3225419365699915,
          4.848538787051612,
          5.104797311899561,
          5.079866789318097,
          4.779365971462816,
          4.225732600181033,
          3.4569893103039417,
          2.5245980932491516,
          1.4905287967409524,
          0.42371310139585944,
          -0.6039086463800596,
          -1.5215165550545384,
          -2.2634747819045336,
          -2.7730919520859465,
          -3.005858485049738,
          -2.93197150215465,
          -2.5379996531850235,
          -1.8275904989643448,
          -0.8211790807339643,
          0.44528528018304137,
          1.922519492805808,
          3.5508669958402495,
          5.263864720962278,
          6.992208115982655,
          8.66788234439642,
          10.228218059450528,
          11.619634561915356,
          12.800851433251829,
          13.745380820623534,
          14.443154619305545,
          14.901191391193024,
          15.143264016511111,
          15.20858751520365,
          15.149603777165241,
          15.02899275528862,
          14.916084913498521,
          14.882884737901744,
          14.999937865089482,
          15.332283527249338,
          15.93572902422526,
          16.853664099801215,
          18.114601524668014,
          19.730587718327968,
          21.696576360352818,
          23.990801623621255,
          26.576129202014585,
          29.402306121423948,
          32.408977760047534,
          35.52929563582666,
          38.693904969474964,
          41.83507882142164,
          44.89075702901736,
          47.808253737845305,
          50.547416702345615,
          53.08305359272736,
          55.40648341226793,
          57.52612229461738,
          59.46706942236021,
          61.269717283250976,
          62.98746753947328,
          64.68368609103916
         ]
        },
        {
         "name": "Приближение",
         "type": "scatter",
         "x": [
          -2,
          -1.9393939393939394,
          -1.878787878787879,
          -1.8181818181818181,
          -1.7575757575757576,
          -1.696969696969697,
          -1.6363636363636362,
          -1.5757575757575757,
          -1.5151515151515151,
          -1.4545454545454546,
          -1.393939393939394,
          -1.3333333333333333,
          -1.2727272727272727,
          -1.2121212121212122,
          -1.1515151515151514,
          -1.0909090909090908,
          -1.0303030303030303,
          -0.9696969696969697,
          -0.9090909090909092,
          -0.8484848484848484,
          -0.7878787878787878,
          -0.7272727272727273,
          -0.6666666666666665,
          -0.606060606060606,
          -0.5454545454545454,
          -0.48484848484848486,
          -0.4242424242424243,
          -0.36363636363636354,
          -0.303030303030303,
          -0.24242424242424243,
          -0.18181818181818166,
          -0.1212121212121211,
          -0.06060606060606055,
          0,
          0.06060606060606055,
          0.1212121212121211,
          0.18181818181818166,
          0.24242424242424265,
          0.3030303030303032,
          0.36363636363636376,
          0.4242424242424243,
          0.48484848484848486,
          0.5454545454545454,
          0.606060606060606,
          0.666666666666667,
          0.7272727272727275,
          0.7878787878787881,
          0.8484848484848486,
          0.9090909090909092,
          0.9696969696969697,
          1.0303030303030303,
          1.0909090909090908,
          1.1515151515151514,
          1.2121212121212124,
          1.272727272727273,
          1.3333333333333335,
          1.393939393939394,
          1.4545454545454546,
          1.5151515151515151,
          1.5757575757575757,
          1.6363636363636367,
          1.6969696969696972,
          1.7575757575757578,
          1.8181818181818183,
          1.878787878787879,
          1.9393939393939394,
          2,
          2.0606060606060606,
          2.121212121212121,
          2.1818181818181817,
          2.242424242424242,
          2.3030303030303028,
          2.3636363636363633,
          2.4242424242424248,
          2.4848484848484853,
          2.545454545454546,
          2.6060606060606064,
          2.666666666666667,
          2.7272727272727275,
          2.787878787878788,
          2.8484848484848486,
          2.909090909090909,
          2.9696969696969697,
          3.0303030303030303,
          3.090909090909091,
          3.1515151515151514,
          3.212121212121212,
          3.2727272727272725,
          3.333333333333334,
          3.3939393939393945,
          3.454545454545455,
          3.5151515151515156,
          3.575757575757576,
          3.6363636363636367,
          3.6969696969696972,
          3.757575757575758,
          3.8181818181818183,
          3.878787878787879,
          3.9393939393939394,
          4
         ],
         "y": [
          -11.687151472183956,
          -10.547490252967524,
          -9.478579347960043,
          -8.478066221126618,
          -7.543614343514986,
          -6.672903193255507,
          -5.863628255561169,
          -5.113501022727592,
          -4.420248994133018,
          -3.781615676238318,
          -3.195360582586992,
          -2.6592592338051637,
          -2.171103157601592,
          -1.7286998887676557,
          -1.3298729691773639,
          -0.9724619477873555,
          -0.6543223806368934,
          -0.3733258308478692,
          -0.12735986862480253,
          0.08567192874516012,
          0.2678499768922433,
          0.4212386843640457,
          0.547886452625538,
          0.6498256760590625,
          0.7290727419643355,
          0.7876280305584442,
          0.8274759149758492,
          0.8505847612683838,
          0.8589069284052528,
          0.854378768273034,
          0.838920625675678,
          0.8144368383345072,
          0.7828157368882173,
          0.7459296448928753,
          0.7056348788219217,
          0.6637717480661692,
          0.6221645549338026,
          0.5826215946503793,
          0.5469351553588301,
          0.5168815181194568,
          0.49422095690993456,
          0.4806977386253108,
          0.4780401230780053,
          0.48796036299781065,
          0.5121547040318916,
          0.5523033847447851,
          0.6100706366184014,
          0.6871046840520224,
          0.7850377443623031,
          0.9054860277832703,
          1.0500497374663238,
          1.2203130694802358,
          1.4178442128111508,
          1.6441953493625872,
          1.9009026539554323,
          2.1894862943279487,
          2.5114504311357715,
          2.868283217951906,
          3.261456801266734,
          3.6924273204880054,
          4.16263490794085,
          4.673503688867755,
          5.226441781428596,
          5.822841296700613,
          6.464078338678419,
          7.151513004274005,
          7.886489383316725,
          8.670335558553315,
          9.504363605647875,
          10.389869593181883,
          11.328133582654191,
          12.320419628481018,
          13.367975777995955,
          14.472034071449992,
          15.633810542011432,
          16.854505215765997,
          18.13530211171678,
          19.477369241784228,
          20.881858610806177,
          22.34990621653783,
          23.882632049651754,
          25.481140093737892,
          27.146518325303578,
          28.879838713773484,
          30.68215722148969,
          32.55451380371162,
          34.497932408616094,
          36.51342097729728,
          38.60197144376678,
          40.76455973495343,
          43.00214577070359,
          45.31567346378092,
          47.70607071986645,
          50.174249437558615,
          52.72110550837319,
          55.34751881674334,
          58.05435324001961,
          60.84245664846989,
          63.71266090527945,
          66.66578186655096
         ]
        }
       ],
       "layout": {
        "legend": {
         "tracegroupgap": 0
        },
        "margin": {
         "t": 60
        },
        "template": {
         "data": {
          "bar": [
           {
            "error_x": {
             "color": "#2a3f5f"
            },
            "error_y": {
             "color": "#2a3f5f"
            },
            "marker": {
             "line": {
              "color": "#E5ECF6",
              "width": 0.5
             },
             "pattern": {
              "fillmode": "overlay",
              "size": 10,
              "solidity": 0.2
             }
            },
            "type": "bar"
           }
          ],
          "barpolar": [
           {
            "marker": {
             "line": {
              "color": "#E5ECF6",
              "width": 0.5
             },
             "pattern": {
              "fillmode": "overlay",
              "size": 10,
              "solidity": 0.2
             }
            },
            "type": "barpolar"
           }
          ],
          "carpet": [
           {
            "aaxis": {
             "endlinecolor": "#2a3f5f",
             "gridcolor": "white",
             "linecolor": "white",
             "minorgridcolor": "white",
             "startlinecolor": "#2a3f5f"
            },
            "baxis": {
             "endlinecolor": "#2a3f5f",
             "gridcolor": "white",
             "linecolor": "white",
             "minorgridcolor": "white",
             "startlinecolor": "#2a3f5f"
            },
            "type": "carpet"
           }
          ],
          "choropleth": [
           {
            "colorbar": {
             "outlinewidth": 0,
             "ticks": ""
            },
            "type": "choropleth"
           }
          ],
          "contour": [
           {
            "colorbar": {
             "outlinewidth": 0,
             "ticks": ""
            },
            "colorscale": [
             [
              0,
              "#0d0887"
             ],
             [
              0.1111111111111111,
              "#46039f"
             ],
             [
              0.2222222222222222,
              "#7201a8"
             ],
             [
              0.3333333333333333,
              "#9c179e"
             ],
             [
              0.4444444444444444,
              "#bd3786"
             ],
             [
              0.5555555555555556,
              "#d8576b"
             ],
             [
              0.6666666666666666,
              "#ed7953"
             ],
             [
              0.7777777777777778,
              "#fb9f3a"
             ],
             [
              0.8888888888888888,
              "#fdca26"
             ],
             [
              1,
              "#f0f921"
             ]
            ],
            "type": "contour"
           }
          ],
          "contourcarpet": [
           {
            "colorbar": {
             "outlinewidth": 0,
             "ticks": ""
            },
            "type": "contourcarpet"
           }
          ],
          "heatmap": [
           {
            "colorbar": {
             "outlinewidth": 0,
             "ticks": ""
            },
            "colorscale": [
             [
              0,
              "#0d0887"
             ],
             [
              0.1111111111111111,
              "#46039f"
             ],
             [
              0.2222222222222222,
              "#7201a8"
             ],
             [
              0.3333333333333333,
              "#9c179e"
             ],
             [
              0.4444444444444444,
              "#bd3786"
             ],
             [
              0.5555555555555556,
              "#d8576b"
             ],
             [
              0.6666666666666666,
              "#ed7953"
             ],
             [
              0.7777777777777778,
              "#fb9f3a"
             ],
             [
              0.8888888888888888,
              "#fdca26"
             ],
             [
              1,
              "#f0f921"
             ]
            ],
            "type": "heatmap"
           }
          ],
          "heatmapgl": [
           {
            "colorbar": {
             "outlinewidth": 0,
             "ticks": ""
            },
            "colorscale": [
             [
              0,
              "#0d0887"
             ],
             [
              0.1111111111111111,
              "#46039f"
             ],
             [
              0.2222222222222222,
              "#7201a8"
             ],
             [
              0.3333333333333333,
              "#9c179e"
             ],
             [
              0.4444444444444444,
              "#bd3786"
             ],
             [
              0.5555555555555556,
              "#d8576b"
             ],
             [
              0.6666666666666666,
              "#ed7953"
             ],
             [
              0.7777777777777778,
              "#fb9f3a"
             ],
             [
              0.8888888888888888,
              "#fdca26"
             ],
             [
              1,
              "#f0f921"
             ]
            ],
            "type": "heatmapgl"
           }
          ],
          "histogram": [
           {
            "marker": {
             "pattern": {
              "fillmode": "overlay",
              "size": 10,
              "solidity": 0.2
             }
            },
            "type": "histogram"
           }
          ],
          "histogram2d": [
           {
            "colorbar": {
             "outlinewidth": 0,
             "ticks": ""
            },
            "colorscale": [
             [
              0,
              "#0d0887"
             ],
             [
              0.1111111111111111,
              "#46039f"
             ],
             [
              0.2222222222222222,
              "#7201a8"
             ],
             [
              0.3333333333333333,
              "#9c179e"
             ],
             [
              0.4444444444444444,
              "#bd3786"
             ],
             [
              0.5555555555555556,
              "#d8576b"
             ],
             [
              0.6666666666666666,
              "#ed7953"
             ],
             [
              0.7777777777777778,
              "#fb9f3a"
             ],
             [
              0.8888888888888888,
              "#fdca26"
             ],
             [
              1,
              "#f0f921"
             ]
            ],
            "type": "histogram2d"
           }
          ],
          "histogram2dcontour": [
           {
            "colorbar": {
             "outlinewidth": 0,
             "ticks": ""
            },
            "colorscale": [
             [
              0,
              "#0d0887"
             ],
             [
              0.1111111111111111,
              "#46039f"
             ],
             [
              0.2222222222222222,
              "#7201a8"
             ],
             [
              0.3333333333333333,
              "#9c179e"
             ],
             [
              0.4444444444444444,
              "#bd3786"
             ],
             [
              0.5555555555555556,
              "#d8576b"
             ],
             [
              0.6666666666666666,
              "#ed7953"
             ],
             [
              0.7777777777777778,
              "#fb9f3a"
             ],
             [
              0.8888888888888888,
              "#fdca26"
             ],
             [
              1,
              "#f0f921"
             ]
            ],
            "type": "histogram2dcontour"
           }
          ],
          "mesh3d": [
           {
            "colorbar": {
             "outlinewidth": 0,
             "ticks": ""
            },
            "type": "mesh3d"
           }
          ],
          "parcoords": [
           {
            "line": {
             "colorbar": {
              "outlinewidth": 0,
              "ticks": ""
             }
            },
            "type": "parcoords"
           }
          ],
          "pie": [
           {
            "automargin": true,
            "type": "pie"
           }
          ],
          "scatter": [
           {
            "fillpattern": {
             "fillmode": "overlay",
             "size": 10,
             "solidity": 0.2
            },
            "type": "scatter"
           }
          ],
          "scatter3d": [
           {
            "line": {
             "colorbar": {
              "outlinewidth": 0,
              "ticks": ""
             }
            },
            "marker": {
             "colorbar": {
              "outlinewidth": 0,
              "ticks": ""
             }
            },
            "type": "scatter3d"
           }
          ],
          "scattercarpet": [
           {
            "marker": {
             "colorbar": {
              "outlinewidth": 0,
              "ticks": ""
             }
            },
            "type": "scattercarpet"
           }
          ],
          "scattergeo": [
           {
            "marker": {
             "colorbar": {
              "outlinewidth": 0,
              "ticks": ""
             }
            },
            "type": "scattergeo"
           }
          ],
          "scattergl": [
           {
            "marker": {
             "colorbar": {
              "outlinewidth": 0,
              "ticks": ""
             }
            },
            "type": "scattergl"
           }
          ],
          "scattermapbox": [
           {
            "marker": {
             "colorbar": {
              "outlinewidth": 0,
              "ticks": ""
             }
            },
            "type": "scattermapbox"
           }
          ],
          "scatterpolar": [
           {
            "marker": {
             "colorbar": {
              "outlinewidth": 0,
              "ticks": ""
             }
            },
            "type": "scatterpolar"
           }
          ],
          "scatterpolargl": [
           {
            "marker": {
             "colorbar": {
              "outlinewidth": 0,
              "ticks": ""
             }
            },
            "type": "scatterpolargl"
           }
          ],
          "scatterternary": [
           {
            "marker": {
             "colorbar": {
              "outlinewidth": 0,
              "ticks": ""
             }
            },
            "type": "scatterternary"
           }
          ],
          "surface": [
           {
            "colorbar": {
             "outlinewidth": 0,
             "ticks": ""
            },
            "colorscale": [
             [
              0,
              "#0d0887"
             ],
             [
              0.1111111111111111,
              "#46039f"
             ],
             [
              0.2222222222222222,
              "#7201a8"
             ],
             [
              0.3333333333333333,
              "#9c179e"
             ],
             [
              0.4444444444444444,
              "#bd3786"
             ],
             [
              0.5555555555555556,
              "#d8576b"
             ],
             [
              0.6666666666666666,
              "#ed7953"
             ],
             [
              0.7777777777777778,
              "#fb9f3a"
             ],
             [
              0.8888888888888888,
              "#fdca26"
             ],
             [
              1,
              "#f0f921"
             ]
            ],
            "type": "surface"
           }
          ],
          "table": [
           {
            "cells": {
             "fill": {
              "color": "#EBF0F8"
             },
             "line": {
              "color": "white"
             }
            },
            "header": {
             "fill": {
              "color": "#C8D4E3"
             },
             "line": {
              "color": "white"
             }
            },
            "type": "table"
           }
          ]
         },
         "layout": {
          "annotationdefaults": {
           "arrowcolor": "#2a3f5f",
           "arrowhead": 0,
           "arrowwidth": 1
          },
          "autotypenumbers": "strict",
          "coloraxis": {
           "colorbar": {
            "outlinewidth": 0,
            "ticks": ""
           }
          },
          "colorscale": {
           "diverging": [
            [
             0,
             "#8e0152"
            ],
            [
             0.1,
             "#c51b7d"
            ],
            [
             0.2,
             "#de77ae"
            ],
            [
             0.3,
             "#f1b6da"
            ],
            [
             0.4,
             "#fde0ef"
            ],
            [
             0.5,
             "#f7f7f7"
            ],
            [
             0.6,
             "#e6f5d0"
            ],
            [
             0.7,
             "#b8e186"
            ],
            [
             0.8,
             "#7fbc41"
            ],
            [
             0.9,
             "#4d9221"
            ],
            [
             1,
             "#276419"
            ]
           ],
           "sequential": [
            [
             0,
             "#0d0887"
            ],
            [
             0.1111111111111111,
             "#46039f"
            ],
            [
             0.2222222222222222,
             "#7201a8"
            ],
            [
             0.3333333333333333,
             "#9c179e"
            ],
            [
             0.4444444444444444,
             "#bd3786"
            ],
            [
             0.5555555555555556,
             "#d8576b"
            ],
            [
             0.6666666666666666,
             "#ed7953"
            ],
            [
             0.7777777777777778,
             "#fb9f3a"
            ],
            [
             0.8888888888888888,
             "#fdca26"
            ],
            [
             1,
             "#f0f921"
            ]
           ],
           "sequentialminus": [
            [
             0,
             "#0d0887"
            ],
            [
             0.1111111111111111,
             "#46039f"
            ],
            [
             0.2222222222222222,
             "#7201a8"
            ],
            [
             0.3333333333333333,
             "#9c179e"
            ],
            [
             0.4444444444444444,
             "#bd3786"
            ],
            [
             0.5555555555555556,
             "#d8576b"
            ],
            [
             0.6666666666666666,
             "#ed7953"
            ],
            [
             0.7777777777777778,
             "#fb9f3a"
            ],
            [
             0.8888888888888888,
             "#fdca26"
            ],
            [
             1,
             "#f0f921"
            ]
           ]
          },
          "colorway": [
           "#636efa",
           "#EF553B",
           "#00cc96",
           "#ab63fa",
           "#FFA15A",
           "#19d3f3",
           "#FF6692",
           "#B6E880",
           "#FF97FF",
           "#FECB52"
          ],
          "font": {
           "color": "#2a3f5f"
          },
          "geo": {
           "bgcolor": "white",
           "lakecolor": "white",
           "landcolor": "#E5ECF6",
           "showlakes": true,
           "showland": true,
           "subunitcolor": "white"
          },
          "hoverlabel": {
           "align": "left"
          },
          "hovermode": "closest",
          "mapbox": {
           "style": "light"
          },
          "paper_bgcolor": "white",
          "plot_bgcolor": "#E5ECF6",
          "polar": {
           "angularaxis": {
            "gridcolor": "white",
            "linecolor": "white",
            "ticks": ""
           },
           "bgcolor": "#E5ECF6",
           "radialaxis": {
            "gridcolor": "white",
            "linecolor": "white",
            "ticks": ""
           }
          },
          "scene": {
           "xaxis": {
            "backgroundcolor": "#E5ECF6",
            "gridcolor": "white",
            "gridwidth": 2,
            "linecolor": "white",
            "showbackground": true,
            "ticks": "",
            "zerolinecolor": "white"
           },
           "yaxis": {
            "backgroundcolor": "#E5ECF6",
            "gridcolor": "white",
            "gridwidth": 2,
            "linecolor": "white",
            "showbackground": true,
            "ticks": "",
            "zerolinecolor": "white"
           },
           "zaxis": {
            "backgroundcolor": "#E5ECF6",
            "gridcolor": "white",
            "gridwidth": 2,
            "linecolor": "white",
            "showbackground": true,
            "ticks": "",
            "zerolinecolor": "white"
           }
          },
          "shapedefaults": {
           "line": {
            "color": "#2a3f5f"
           }
          },
          "ternary": {
           "aaxis": {
            "gridcolor": "white",
            "linecolor": "white",
            "ticks": ""
           },
           "baxis": {
            "gridcolor": "white",
            "linecolor": "white",
            "ticks": ""
           },
           "bgcolor": "#E5ECF6",
           "caxis": {
            "gridcolor": "white",
            "linecolor": "white",
            "ticks": ""
           }
          },
          "title": {
           "x": 0.05
          },
          "xaxis": {
           "automargin": true,
           "gridcolor": "white",
           "linecolor": "white",
           "ticks": "",
           "title": {
            "standoff": 15
           },
           "zerolinecolor": "white",
           "zerolinewidth": 2
          },
          "yaxis": {
           "automargin": true,
           "gridcolor": "white",
           "linecolor": "white",
           "ticks": "",
           "title": {
            "standoff": 15
           },
           "zerolinecolor": "white",
           "zerolinewidth": 2
          }
         }
        },
        "xaxis": {
         "anchor": "y",
         "domain": [
          0,
          1
         ]
        },
        "yaxis": {
         "anchor": "x",
         "domain": [
          0,
          1
         ]
        }
       }
      }
     },
     "metadata": {},
     "output_type": "display_data"
    }
   ],
   "source": [
    "def f_n(x):\n",
    "    return x**3 + np.cos(4 * x - 2) * 5\n",
    "\n",
    "\n",
    "x, y, p = get_xypdata(-2, 4, 100, 0, 1, f_n)\n",
    "\n",
    "x_pred = np.linspace(-2, 4, 100)\n",
    "f_pred = LeastSquare(x, y, p, 4)\n",
    "y_pred = [f_pred(xi) for xi in x_pred]\n",
    "\n",
    "f_coeffs = LeastSquaresCoeffs(x, y, p, 3)\n",
    "\n",
    "print(\"Коэф-ты:\")\n",
    "for i, coeff in enumerate(f_coeffs):\n",
    "    print(f\"{i}:\\t{coeff:.6f}\")\n",
    "\n",
    "fig = px.line()\n",
    "fig.add_trace(go.Scatter(x=x, y=y, name=\"Функция\"))\n",
    "fig.add_trace(go.Scatter(x=x_pred, y=y_pred, name=\"Приближение\"))\n",
    "fig.show()"
   ]
  },
  {
   "cell_type": "code",
   "execution_count": 7,
   "metadata": {},
   "outputs": [
    {
     "data": {
      "application/vnd.plotly.v1+json": {
       "config": {
        "plotlyServerURL": "https://plot.ly"
       },
       "data": [
        {
         "hovertemplate": "x=%{x}<br>y=%{y}<br>z=%{z}<extra></extra>",
         "legendgroup": "",
         "marker": {
          "color": "#636efa",
          "symbol": "circle"
         },
         "mode": "markers",
         "name": "",
         "scene": "scene",
         "showlegend": false,
         "type": "scatter3d",
         "x": [
          -1,
          0,
          1,
          2,
          -1,
          0,
          1,
          2,
          -1,
          0,
          1,
          2,
          -1,
          0,
          1,
          2,
          -1,
          0,
          1,
          2
         ],
         "y": [
          -2,
          -2,
          -2,
          -2,
          -1,
          -1,
          -1,
          -1,
          0,
          0,
          0,
          0,
          1,
          1,
          1,
          1,
          2,
          2,
          2,
          2
         ],
         "z": [
          -10,
          -12,
          -12,
          -10,
          -3,
          -4,
          -3,
          0,
          0,
          0,
          2,
          6,
          -1,
          0,
          3,
          8,
          -6,
          -4,
          0,
          6
         ]
        },
        {
         "type": "surface",
         "x": [
          -1,
          -0.9230769230769231,
          -0.8461538461538461,
          -0.7692307692307692,
          -0.6923076923076923,
          -0.6153846153846154,
          -0.5384615384615384,
          -0.46153846153846145,
          -0.3846153846153846,
          -0.3076923076923077,
          -0.23076923076923073,
          -0.15384615384615374,
          -0.07692307692307687,
          0,
          0.0769230769230771,
          0.15384615384615397,
          0.23076923076923084,
          0.3076923076923077,
          0.3846153846153846,
          0.4615384615384617,
          0.5384615384615385,
          0.6153846153846154,
          0.6923076923076925,
          0.7692307692307694,
          0.8461538461538463,
          0.9230769230769231,
          1,
          1.076923076923077,
          1.1538461538461542,
          1.2307692307692308,
          1.307692307692308,
          1.3846153846153846,
          1.4615384615384617,
          1.5384615384615388,
          1.6153846153846154,
          1.6923076923076925,
          1.7692307692307692,
          1.8461538461538463,
          1.9230769230769234,
          2
         ],
         "y": [
          -2,
          -1.8974358974358974,
          -1.794871794871795,
          -1.6923076923076923,
          -1.5897435897435899,
          -1.4871794871794872,
          -1.3846153846153846,
          -1.282051282051282,
          -1.1794871794871795,
          -1.076923076923077,
          -0.9743589743589745,
          -0.8717948717948718,
          -0.7692307692307692,
          -0.6666666666666667,
          -0.5641025641025641,
          -0.4615384615384617,
          -0.35897435897435903,
          -0.2564102564102564,
          -0.15384615384615397,
          -0.05128205128205132,
          0.0512820512820511,
          0.15384615384615374,
          0.2564102564102564,
          0.35897435897435903,
          0.4615384615384617,
          0.5641025641025639,
          0.6666666666666665,
          0.7692307692307692,
          0.8717948717948718,
          0.9743589743589745,
          1.0769230769230766,
          1.1794871794871793,
          1.282051282051282,
          1.3846153846153846,
          1.4871794871794872,
          1.5897435897435894,
          1.692307692307692,
          1.7948717948717947,
          1.8974358974358974,
          2
         ],
         "z": [
          [
           -10.000000000000004,
           -10.22485207100592,
           -10.437869822485212,
           -10.639053254437874,
           -10.828402366863907,
           -11.005917159763316,
           -11.171597633136097,
           -11.32544378698225,
           -11.467455621301777,
           -11.597633136094677,
           -11.715976331360947,
           -11.822485207100593,
           -11.917159763313611,
           -12.000000000000002,
           -12.071005917159766,
           -12.130177514792903,
           -12.177514792899409,
           -12.21301775147929,
           -12.236686390532547,
           -12.248520710059173,
           -12.248520710059173,
           -12.236686390532546,
           -12.213017751479292,
           -12.177514792899409,
           -12.130177514792901,
           -12.071005917159766,
           -12.000000000000004,
           -11.917159763313613,
           -11.822485207100595,
           -11.715976331360947,
           -11.597633136094677,
           -11.467455621301777,
           -11.325443786982248,
           -11.171597633136095,
           -11.005917159763314,
           -10.828402366863905,
           -10.639053254437872,
           -10.437869822485208,
           -10.22485207100592,
           -10.000000000000002
          ],
          [
           -9.09796186719264,
           -9.314924391847471,
           -9.520052596975678,
           -9.713346482577256,
           -9.894806048652205,
           -10.064431295200526,
           -10.222222222222223,
           -10.368178829717293,
           -10.502301117685736,
           -10.62458908612755,
           -10.735042735042736,
           -10.833662064431296,
           -10.920447074293229,
           -10.995397764628535,
           -11.058514135437214,
           -11.109796186719267,
           -11.149243918474689,
           -11.176857330703484,
           -11.192636423405656,
           -11.196581196581198,
           -11.188691650230114,
           -11.168967784352402,
           -11.137409598948063,
           -11.094017094017094,
           -11.038790269559502,
           -10.971729125575282,
           -10.892833662064435,
           -10.802103879026959,
           -10.699539776462856,
           -10.585141354372123,
           -10.458908612754767,
           -10.320841551610783,
           -10.17094017094017,
           -10.009204470742931,
           -9.835634451019065,
           -9.650230111768572,
           -9.452991452991455,
           -9.243918474687707,
           -9.023011176857333,
           -8.79026955950033
          ],
          [
           -8.238001314924395,
           -8.447074293228143,
           -8.644312952005263,
           -8.829717291255756,
           -9.003287310979621,
           -9.165023011176858,
           -9.314924391847471,
           -9.452991452991455,
           -9.579224194608813,
           -9.693622616699543,
           -9.796186719263643,
           -9.88691650230112,
           -9.965811965811968,
           -10.032873109796189,
           -10.088099934253783,
           -10.13149243918475,
           -10.163050624589086,
           -10.182774490466798,
           -10.190664036817886,
           -10.186719263642342,
           -10.170940170940174,
           -10.143326758711376,
           -10.103879026955951,
           -10.0525969756739,
           -9.989480604865223,
           -9.914529914529917,
           -9.827744904667986,
           -9.729125575279426,
           -9.618671926364236,
           -9.49638395792242,
           -9.362261669953979,
           -9.21630506245891,
           -9.058514135437214,
           -8.88888888888889,
           -8.707429322813937,
           -8.51413543721236,
           -8.309007232084156,
           -8.092044707429325,
           -7.863247863247865,
           -7.622616699539778
          ],
          [
           -7.420118343195269,
           -7.6213017751479315,
           -7.810650887573967,
           -7.988165680473375,
           -8.153846153846155,
           -8.307692307692308,
           -8.449704142011836,
           -8.579881656804735,
           -8.698224852071009,
           -8.804733727810653,
           -8.899408284023668,
           -8.98224852071006,
           -9.053254437869823,
           -9.11242603550296,
           -9.159763313609469,
           -9.195266272189352,
           -9.218934911242604,
           -9.23076923076923,
           -9.230769230769232,
           -9.218934911242604,
           -9.19526627218935,
           -9.159763313609469,
           -9.11242603550296,
           -9.053254437869825,
           -8.982248520710062,
           -8.89940828402367,
           -8.804733727810653,
           -8.698224852071007,
           -8.579881656804737,
           -8.449704142011838,
           -8.307692307692308,
           -8.153846153846155,
           -7.988165680473375,
           -7.810650887573965,
           -7.62130177514793,
           -7.420118343195267,
           -7.207100591715977,
           -6.98224852071006,
           -6.7455621301775155,
           -6.497041420118346
          ],
          [
           -6.644312952005262,
           -6.83760683760684,
           -7.019066403681791,
           -7.188691650230115,
           -7.34648257725181,
           -7.492439184746879,
           -7.62656147271532,
           -7.748849441157136,
           -7.859303090072323,
           -7.957922419460883,
           -8.044707429322814,
           -8.119658119658121,
           -8.1827744904668,
           -8.234056541748851,
           -8.273504273504276,
           -8.301117685733074,
           -8.31689677843524,
           -8.320841551610783,
           -8.3129520052597,
           -8.293228139381988,
           -8.261669953977648,
           -8.218277449046681,
           -8.163050624589088,
           -8.095989480604867,
           -8.01709401709402,
           -7.926364234056544,
           -7.823800131492441,
           -7.70940170940171,
           -7.583168967784354,
           -7.44510190664037,
           -7.295200525969758,
           -7.13346482577252,
           -6.959894806048655,
           -6.774490466798161,
           -6.57725180802104,
           -6.368178829717292,
           -6.1472715318869176,
           -5.914529914529917,
           -5.669953977646286,
           -5.4135437212360324
          ],
          [
           -5.910585141354374,
           -6.095989480604867,
           -6.269559500328734,
           -6.431295200525972,
           -6.581196581196583,
           -6.719263642340566,
           -6.845496383957923,
           -6.959894806048654,
           -7.062458908612756,
           -7.153188691650231,
           -7.23208415516108,
           -7.2991452991453,
           -7.354372123602893,
           -7.39776462853386,
           -7.429322813938199,
           -7.449046679815911,
           -7.456936226166997,
           -7.452991452991454,
           -7.4372123602892835,
           -7.409598948060487,
           -7.3701512163050635,
           -7.318869165023012,
           -7.255752794214334,
           -7.180802103879028,
           -7.094017094017095,
           -6.995397764628535,
           -6.884944115713348,
           -6.7626561472715325,
           -6.62853385930309,
           -6.4825772518080225,
           -6.324786324786325,
           -6.155161078238003,
           -5.973701512163053,
           -5.780407626561473,
           -5.575279421433269,
           -5.358316896778434,
           -5.129520052596976,
           -4.888888888888889,
           -4.636423405654175,
           -4.372123602892835
          ],
          [
           -5.218934911242605,
           -5.396449704142013,
           -5.562130177514794,
           -5.715976331360947,
           -5.857988165680474,
           -5.988165680473374,
           -6.106508875739645,
           -6.213017751479291,
           -6.307692307692308,
           -6.390532544378698,
           -6.461538461538462,
           -6.520710059171598,
           -6.568047337278106,
           -6.603550295857988,
           -6.627218934911242,
           -6.6390532544378695,
           -6.63905325443787,
           -6.627218934911244,
           -6.603550295857987,
           -6.568047337278106,
           -6.520710059171598,
           -6.461538461538462,
           -6.390532544378698,
           -6.307692307692308,
           -6.21301775147929,
           -6.106508875739646,
           -5.988165680473373,
           -5.8579881656804735,
           -5.715976331360946,
           -5.562130177514793,
           -5.396449704142011,
           -5.218934911242604,
           -5.029585798816568,
           -4.828402366863905,
           -4.615384615384615,
           -4.390532544378699,
           -4.153846153846154,
           -3.9053254437869818,
           -3.644970414201182,
           -3.3727810650887573
          ],
          [
           -4.569362261669955,
           -4.738987508218279,
           -4.896778435239975,
           -5.0427350427350435,
           -5.176857330703486,
           -5.299145299145301,
           -5.409598948060487,
           -5.508218277449048,
           -5.59500328731098,
           -5.669953977646285,
           -5.733070348454964,
           -5.784352399737015,
           -5.823800131492439,
           -5.851413543721236,
           -5.867192636423405,
           -5.871137409598948,
           -5.863247863247864,
           -5.843523997370152,
           -5.811965811965812,
           -5.7685733070348455,
           -5.713346482577252,
           -5.646285338593031,
           -5.567389875082183,
           -5.476660092044708,
           -5.374095989480605,
           -5.259697567389876,
           -5.133464825772519,
           -4.9953977646285335,
           -4.845496383957921,
           -4.683760683760684,
           -4.510190664036817,
           -4.3247863247863245,
           -4.127547666009205,
           -3.9184746877054564,
           -3.697567389875083,
           -3.4648257725180787,
           -3.220249835634451,
           -2.963839579224194,
           -2.695595003287311,
           -2.4155161078238008
          ],
          [
           -3.9618671926364253,
           -4.123602892833664,
           -4.273504273504276,
           -4.411571334648259,
           -4.537804076265616,
           -4.652202498356346,
           -4.754766600920448,
           -4.845496383957924,
           -4.924391847468772,
           -4.991452991452992,
           -5.046679815910586,
           -5.090072320841553,
           -5.121630506245891,
           -5.141354372123604,
           -5.149243918474688,
           -5.145299145299146,
           -5.129520052596977,
           -5.10190664036818,
           -5.062458908612755,
           -5.011176857330704,
           -4.948060486522026,
           -4.8731097961867205,
           -4.786324786324787,
           -4.687705456936228,
           -4.57725180802104,
           -4.454963839579226,
           -4.320841551610785,
           -4.174884944115714,
           -4.017094017094017,
           -3.847468770545696,
           -3.6660092044707437,
           -3.4727153188691657,
           -3.2675871137409613,
           -3.050624589086128,
           -2.82182774490467,
           -2.581196581196582,
           -2.3287310979618687,
           -2.064431295200526,
           -1.7882971729125587,
           -1.5003287310979634
          ],
          [
           -3.396449704142014,
           -3.550295857988168,
           -3.6923076923076943,
           -3.8224852071005935,
           -3.940828402366866,
           -4.047337278106511,
           -4.142011834319527,
           -4.224852071005919,
           -4.2958579881656815,
           -4.3550295857988175,
           -4.402366863905327,
           -4.437869822485208,
           -4.461538461538462,
           -4.473372781065089,
           -4.4733727810650885,
           -4.461538461538462,
           -4.437869822485208,
           -4.402366863905327,
           -4.355029585798817,
           -4.295857988165681,
           -4.224852071005918,
           -4.142011834319528,
           -4.04733727810651,
           -3.940828402366865,
           -3.8224852071005917,
           -3.6923076923076925,
           -3.5502958579881665,
           -3.3964497041420127,
           -3.2307692307692317,
           -3.0532544378698248,
           -2.863905325443788,
           -2.662721893491126,
           -2.4497041420118357,
           -2.2248520710059174,
           -1.9881656804733743,
           -1.7396449704142025,
           -1.4792899408284037,
           -1.2071005917159774,
           -0.923076923076924,
           -0.6272189349112438
          ],
          [
           -2.873109796186722,
           -3.01906640368179,
           -3.1531886916502314,
           -3.2754766600920466,
           -3.3859303090072337,
           -3.4845496383957935,
           -3.571334648257727,
           -3.6462853385930316,
           -3.7094017094017104,
           -3.7606837606837615,
           -3.8001314924391854,
           -3.8277449046679823,
           -3.8435239973701525,
           -3.8474687705456945,
           -3.83957922419461,
           -3.8198553583168975,
           -3.7882971729125585,
           -3.744904667981592,
           -3.6896778435239987,
           -3.6226166995397775,
           -3.5437212360289294,
           -3.452991452991454,
           -3.350427350427352,
           -3.236028928336622,
           -3.1097961867192647,
           -2.9717291255752802,
           -2.821827744904669,
           -2.6600920447074303,
           -2.486522024983564,
           -2.3011176857330717,
           -2.1038790269559513,
           -1.8948060486522045,
           -1.6738987508218286,
           -1.4411571334648265,
           -1.1965811965811979,
           -0.9401709401709414,
           -0.6719263642340587,
           -0.39184746877054694,
           -0.09993425378040836,
           0.20381328073635577
          ],
          [
           -2.391847468770547,
           -2.529914529914531,
           -2.656147271531889,
           -2.770545693622618,
           -2.8731097961867205,
           -2.963839579224195,
           -3.042735042735043,
           -3.1097961867192643,
           -3.165023011176858,
           -3.208415516107824,
           -3.239973701512163,
           -3.259697567389875,
           -3.2675871137409604,
           -3.2636423405654176,
           -3.2478632478632483,
           -3.220249835634451,
           -3.180802103879027,
           -3.1295200525969755,
           -3.0664036817882976,
           -2.991452991452992,
           -2.904667981591059,
           -2.8060486522024988,
           -2.6955950032873113,
           -2.573307034845497,
           -2.4391847468770553,
           -2.2932281393819856,
           -2.13543721236029,
           -1.9658119658119662,
           -1.7843523997370152,
           -1.591058514135438,
           -1.3859303090072326,
           -1.168967784352401,
           -0.9401709401709405,
           -0.6995397764628531,
           -0.44707429322814024,
           -0.18277449046679825,
           0.09335963182116926,
           0.38132807363576543,
           0.6811308349769885,
           0.9927679158448378
          ],
          [
           -1.9526627218934924,
           -2.082840236686392,
           -2.2011834319526637,
           -2.3076923076923084,
           -2.402366863905326,
           -2.485207100591716,
           -2.5562130177514795,
           -2.6153846153846154,
           -2.6627218934911245,
           -2.698224852071006,
           -2.72189349112426,
           -2.7337278106508873,
           -2.7337278106508878,
           -2.72189349112426,
           -2.698224852071006,
           -2.6627218934911236,
           -2.615384615384615,
           -2.5562130177514786,
           -2.485207100591716,
           -2.4023668639053253,
           -2.3076923076923075,
           -2.201183431952663,
           -2.0828402366863905,
           -1.9526627218934904,
           -1.8106508875739642,
           -1.6568047337278107,
           -1.4911242603550299,
           -1.3136094674556211,
           -1.1242603550295853,
           -0.923076923076923,
           -0.7100591715976329,
           -0.48520710059171684,
           -0.2485207100591717,
           9.581417234528717e-16,
           0.2603550295857987,
           0.5325443786982251,
           0.8165680473372774,
           1.1124260355029585,
           1.4201183431952666,
           1.7396449704142005
          ],
          [
           -1.555555555555557,
           -1.6778435239973715,
           -1.7882971729125585,
           -1.8869165023011187,
           -1.9737015121630517,
           -2.048652202498357,
           -2.1117685733070353,
           -2.163050624589087,
           -2.2024983563445106,
           -2.230111768573307,
           -2.245890861275477,
           -2.249835634451019,
           -2.241946088099935,
           -2.2222222222222223,
           -2.1906640368178834,
           -2.147271531886916,
           -2.0920447074293227,
           -2.024983563445102,
           -1.946088099934254,
           -1.8553583168967789,
           -1.752794214332676,
           -1.6383957922419465,
           -1.5121630506245893,
           -1.3740959894806049,
           -1.2241946088099935,
           -1.0624589086127552,
           -0.8888888888888896,
           -0.7034845496383964,
           -0.5062458908612752,
           -0.29717291255752853,
           -0.07626561472715362,
           0.1564760026298473,
           0.40105193951347723,
           0.6574621959237343,
           0.9257067718606169,
           1.2057856673241283,
           1.4976988823142656,
           1.8014464168310313,
           2.117028270874424,
           2.444444444444443
          ],
          [
           -1.2005259697567403,
           -1.3149243918474696,
           -1.4174884944115722,
           -1.5082182774490474,
           -1.5871137409598957,
           -1.6541748849441158,
           -1.709401709401709,
           -1.7527942143326758,
           -1.7843523997370148,
           -1.8040762656147271,
           -1.8119658119658117,
           -1.808021038790269,
           -1.7922419460880994,
           -1.7646285338593026,
           -1.7251808021038784,
           -1.6738987508218273,
           -1.6107823800131487,
           -1.5358316896778432,
           -1.4490466798159103,
           -1.35042735042735,
           -1.2399737015121626,
           -1.1176857330703485,
           -0.9835634451019064,
           -0.8376068376068371,
           -0.679815910585141,
           -0.5101906640368178,
           -0.32873109796186734,
           -0.1354372123602892,
           0.06969099276791646,
           0.2866535174227481,
           0.5154503616042081,
           0.7560815253122936,
           1.0085470085470087,
           1.2728468113083504,
           1.5489809335963178,
           1.8369493754109139,
           2.136752136752136,
           2.4483892176199866,
           2.7718606180144643,
           3.107166337935568
          ],
          [
           -0.8875739644970431,
           -0.9940828402366874,
           -1.0887573964497055,
           -1.171597633136096,
           -1.2426035502958588,
           -1.3017751479289947,
           -1.3491124260355036,
           -1.384615384615385,
           -1.4082840236686394,
           -1.4201183431952664,
           -1.4201183431952664,
           -1.4082840236686391,
           -1.3846153846153846,
           -1.349112426035503,
           -1.301775147928994,
           -1.2426035502958581,
           -1.1715976331360947,
           -1.0887573964497044,
           -0.9940828402366867,
           -0.8875739644970414,
           -0.7692307692307694,
           -0.63905325443787,
           -0.4970414201183433,
           -0.3431952662721895,
           -0.17751479289940866,
           -4.893732687790781e-16,
           0.18934911242603472,
           0.39053254437869783,
           0.6035502958579883,
           0.8284023668639044,
           1.065088757396449,
           1.3136094674556196,
           1.5739644970414193,
           1.8461538461538463,
           2.130177514792898,
           2.4260355029585794,
           2.7337278106508855,
           3.053254437869821,
           3.3846153846153837,
           3.7278106508875717
          ],
          [
           -0.6166995397764641,
           -0.7153188691650237,
           -0.8021038790269567,
           -0.8770545693622621,
           -0.9401709401709406,
           -0.9914529914529916,
           -1.0309007232084153,
           -1.0585141354372123,
           -1.0742932281393816,
           -1.078238001314924,
           -1.0703484549638393,
           -1.050624589086127,
           -1.0190664036817878,
           -0.9756738987508213,
           -0.9204470742932275,
           -0.8533859303090067,
           -0.7744904667981586,
           -0.6837606837606833,
           -0.5811965811965809,
           -0.4667981591058508,
           -0.340565417488494,
           -0.20249835634450988,
           -0.052596975673898205,
           0.10913872452334039,
           0.28270874424720605,
           0.468113083497699,
           0.665351742274819,
           0.8744247205785668,
           1.0953320184089421,
           1.3280736357659433,
           1.5726495726495726,
           1.829059829059828,
           2.0973044049967124,
           2.3773833004602243,
           2.6692965154503607,
           2.9730440499671267,
           3.288625904010518,
           3.6160420775805386,
           3.9552925706771855,
           4.306377383300459
          ],
          [
           -0.38790269559500423,
           -0.4786324786324794,
           -0.5575279421433271,
           -0.624589086127548,
           -0.6798159105851415,
           -0.7232084155161077,
           -0.7547666009204467,
           -0.7744904667981588,
           -0.7823800131492433,
           -0.7784352399737008,
           -0.7626561472715312,
           -0.7350427350427342,
           -0.69559500328731,
           -0.6443129520052588,
           -0.5811965811965801,
           -0.5062458908612745,
           -0.41946088099934165,
           -0.3208415516107816,
           -0.2103879026955942,
           -0.08809993425377947,
           0.046022353714662234,
           0.1919789612097311,
           0.3497698882314276,
           0.519395134779751,
           0.7008547008547016,
           0.8941485864562793,
           1.099276791584484,
           1.3162393162393167,
           1.545036160420777,
           1.7856673241288628,
           2.038132807363577,
           2.302432610124917,
           2.5785667324128863,
           2.8665351742274825,
           3.1663379355687042,
           3.4779750164365555,
           3.801446416831032,
           4.136752136752136,
           4.483892176199869,
           4.842866535174227
          ],
          [
           -0.2011834319526638,
           -0.28402366863905404,
           -0.3550295857988172,
           -0.414201183431953,
           -0.4615384615384616,
           -0.4970414201183432,
           -0.5207100591715974,
           -0.5325443786982246,
           -0.5325443786982245,
           -0.5207100591715971,
           -0.4970414201183426,
           -0.46153846153846084,
           -0.414201183431952,
           -0.35502958579881594,
           -0.2840236686390525,
           -0.20118343195266197,
           -0.1065088757396443,
           5.560042856499878e-16,
           0.11834319526627267,
           0.24852071005917228,
           0.3905325443786987,
           0.5443786982248524,
           0.7100591715976338,
           0.8875739644970418,
           1.0769230769230773,
           1.2781065088757397,
           1.4911242603550294,
           1.7159763313609468,
           1.9526627218934915,
           2.201183431952662,
           2.4615384615384617,
           2.733727810650886,
           3.0177514792899403,
           3.313609467455622,
           3.621301775147928,
           3.9408284023668636,
           4.272189349112424,
           4.615384615384614,
           4.970414201183432,
           5.337278106508874
          ],
          [
           -0.05654174884944207,
           -0.13149243918474743,
           -0.19460880999342575,
           -0.24589086127547682,
           -0.28533859303090053,
           -0.31295200525969713,
           -0.32873109796186667,
           -0.332675871137409,
           -0.3247863247863241,
           -0.30506245890861194,
           -0.27350427350427264,
           -0.23011176857330604,
           -0.17488494411571234,
           -0.10782380013149144,
           -0.028928336620643126,
           0.061801446416832176,
           0.16436554898093467,
           0.2787639710716643,
           0.40499671268902127,
           0.5430637738330056,
           0.6929651545036168,
           0.8547008547008556,
           1.0282708744247218,
           1.2136752136752147,
           1.410913872452335,
           1.6199868507560822,
           1.8408941485864565,
           2.0736357659434588,
           2.3182117028270883,
           2.574621959237344,
           2.842866535174228,
           3.1229454306377376,
           3.414858645627876,
           3.718606180144642,
           4.034188034188034,
           4.361604207758054,
           4.7008547008547,
           5.051939513477974,
           5.414858645627876,
           5.789612097304404
          ],
          [
           0.04602235371466055,
           -0.021038790269559966,
           -0.07626561472715365,
           -0.11965811965811984,
           -0.1512163050624588,
           -0.1709401709401707,
           -0.17882971729125535,
           -0.1748849441157128,
           -0.1591058514135431,
           -0.13149243918474612,
           -0.09204470742932197,
           -0.04076265614727059,
           0.0223537146614079,
           0.09730440499671358,
           0.18408941485864674,
           0.2827087442472068,
           0.3931623931623941,
           0.5154503616042087,
           0.6495726495726502,
           0.7955292570677195,
           0.9533201840894155,
           1.1229454306377389,
           1.3044049967126898,
           1.4976988823142678,
           1.7028270874424727,
           1.9197896120973046,
           2.148586456278764,
           2.389217619986851,
           2.6416831032215655,
           2.905982905982906,
           3.1821170282708744,
           3.470085470085469,
           3.769888231426693,
           4.081525312294543,
           4.4049967126890195,
           4.740302432610125,
           5.087442472057855,
           5.446416831032215,
           5.817225509533202,
           6.199868507560814
          ],
          [
           0.10650887573964433,
           0.04733727810650858,
           -1.330077199928776e-16,
           -0.03550295857988158,
           -0.059171597633135696,
           -0.07100591715976272,
           -0.07100591715976258,
           -0.059171597633135224,
           -0.03550295857988073,
           1.0538191000564891e-15,
           0.04733727810651001,
           0.10650887573964624,
           0.17751479289940955,
           0.26035502958580004,
           0.355029585798818,
           0.4615384615384629,
           0.579881656804735,
           0.7100591715976344,
           0.8520710059171608,
           1.0059171597633147,
           1.1715976331360958,
           1.3491124260355039,
           1.5384615384615397,
           1.7396449704142025,
           1.952662721893492,
           2.177514792899409,
           2.414201183431953,
           2.662721893491125,
           2.9230769230769242,
           3.195266272189349,
           3.4792899408284033,
           3.775147928994082,
           4.0828402366863905,
           4.402366863905326,
           4.733727810650888,
           5.0769230769230775,
           5.431952662721892,
           5.798816568047337,
           6.177514792899409,
           6.568047337278105
          ],
          [
           0.124917817225509,
           0.07363576594345811,
           0.03418803418803413,
           0.006574621959237653,
           -0.009204470742931835,
           -0.013149243918473996,
           -0.005259697567388999,
           0.014464168310323188,
           0.04602235371466253,
           0.08941485864562909,
           0.1446416831032229,
           0.21170282708744392,
           0.29059829059829206,
           0.3813280736357674,
           0.4838921761998702,
           0.5982905982905998,
           0.7245233399079567,
           0.8625904010519408,
           1.0124917817225523,
           1.174227481919791,
           1.3477975016436567,
           1.5332018408941497,
           1.7304404996712706,
           1.9395134779750178,
           2.160420775805392,
           2.3931623931623944,
           2.637738330046023,
           2.89414858645628,
           3.162393162393164,
           3.4424720578566737,
           3.7343852728468123,
           4.038132807363576,
           4.353714661406969,
           4.681130834976989,
           5.020381328073636,
           5.37146614069691,
           5.7343852728468105,
           6.10913872452334,
           6.495726495726497,
           6.894148586456278
          ],
          [
           0.10124917817225464,
           0.05785667324128848,
           0.026298487836949366,
           0.006574621959237633,
           -0.001314924391846887,
           0.002629848783695807,
           0.018408941485865606,
           0.04602235371466259,
           0.08547008547008675,
           0.13675213675213815,
           0.19986850756081678,
           0.2748191978961227,
           0.3616042077580556,
           0.4602235371466157,
           0.5706771860618033,
           0.6929651545036178,
           0.8270874424720595,
           0.9730440499671285,
           1.1308349769888246,
           1.3004602235371483,
           1.4819197896120988,
           1.6752136752136764,
           1.880341880341882,
           2.0973044049967142,
           2.3261012491781736,
           2.5667324128862608,
           2.8191978961209743,
           3.0834976988823155,
           3.3596318211702845,
           3.6476002629848794,
           3.9474030243261025,
           4.259040105193951,
           4.582511505588429,
           4.917817225509535,
           5.264957264957266,
           5.623931623931625,
           5.99474030243261,
           6.377383300460224,
           6.771860618014466,
           7.178172255095331
          ],
          [
           0.035502958579881345,
           4.5284058929015443e-17,
           -0.02366863905325421,
           -0.0355029585798812,
           -0.035502958579880964,
           -0.023668639053253476,
           1.1793285418700138e-15,
           0.03550295857988299,
           0.08284023668639197,
           0.14201183431952816,
           0.21301775147929164,
           0.2958579881656823,
           0.39053254437870005,
           0.497041420118345,
           0.6153846153846175,
           0.7455621301775168,
           0.8875739644970434,
           1.041420118343197,
           1.207100591715978,
           1.3846153846153866,
           1.573964497041422,
           1.7751479289940844,
           1.9881656804733747,
           2.213017751479292,
           2.4497041420118357,
           2.6982248520710077,
           2.958579881656806,
           3.2307692307692326,
           3.514792899408286,
           3.8106508875739653,
           4.118343195266275,
           4.437869822485207,
           4.769230769230771,
           5.112426035502961,
           5.4674556213017755,
           5.834319526627221,
           6.213017751479289,
           6.603550295857988,
           7.005917159763314,
           7.420118343195265
          ],
          [
           -0.07232084155161064,
           -0.09993425378040718,
           -0.11571334648257671,
           -0.11965811965811883,
           -0.11176857330703374,
           -0.09204470742932157,
           -0.06048652202498217,
           -0.017094017094015496,
           0.03813280736357825,
           0.10519395134779923,
           0.1840894148586475,
           0.274819197896123,
           0.3773833004602255,
           0.4917817225509552,
           0.6180144641683125,
           0.7560815253122966,
           0.905982905982908,
           1.0677186061801465,
           1.2412886259040123,
           1.4266929651545055,
           1.6239316239316257,
           1.8330046022353728,
           2.053911900065748,
           2.28665351742275,
           2.531229454306379,
           2.787639710716635,
           3.0558842866535185,
           3.33596318211703,
           3.6278763971071677,
           3.931623931623932,
           4.247205785667325,
           4.574621959237343,
           4.913872452333991,
           5.264957264957266,
           5.627876397107166,
           6.002629848783695,
           6.389217619986849,
           6.787639710716633,
           7.197896120973044,
           7.61998685075608
          ],
          [
           -0.222222222222222,
           -0.24194608809993381,
           -0.24983563445101845,
           -0.24589086127547574,
           -0.2301117685733059,
           -0.20249835634450875,
           -0.16305062458908454,
           -0.11176857330703306,
           -0.04865220249835453,
           0.026298487836951278,
           0.11308349769888436,
           0.21170282708744467,
           0.32215647600263203,
           0.44444444444444653,
           0.5785667324128887,
           0.7245233399079576,
           0.8823142669296538,
           1.051939513477977,
           1.2333990795529277,
           1.4266929651545057,
           1.6318211702827108,
           1.8487836949375427,
           2.0775805391190025,
           2.318211702827089,
           2.570677186061803,
           2.8349769888231444,
           3.1111111111111125,
           3.3990795529257083,
           3.6988823142669314,
           4.010519395134781,
           4.333990795529259,
           4.669296515450362,
           5.016436554898093,
           5.375410913872453,
           5.746219592373438,
           6.128862590401052,
           6.523339907955291,
           6.92965154503616,
           7.347797501643656,
           7.777777777777777
          ],
          [
           -0.4142011834319525,
           -0.42603550295857945,
           -0.4260355029585791,
           -0.41420118343195167,
           -0.39053254437869694,
           -0.35502958579881505,
           -0.30769230769230593,
           -0.24852071005916973,
           -0.17751479289940633,
           -0.09467455621301571,
           2.175051612834733e-15,
           0.10650887573964733,
           0.22485207100591947,
           0.3550295857988188,
           0.4970414201183458,
           0.6508875739644995,
           0.8165680473372804,
           0.9940828402366886,
           1.1834319526627242,
           1.384615384615387,
           1.5976331360946767,
           1.8224852071005937,
           2.059171597633138,
           2.3076923076923097,
           2.5680473372781085,
           2.8402366863905346,
           3.124260355029587,
           3.4201183431952678,
           3.727810650887576,
           4.04733727810651,
           4.378698224852073,
           4.72189349112426,
           5.0769230769230775,
           5.443786982248522,
           5.822485207100592,
           6.213017751479291,
           6.615384615384614,
           7.0295857988165675,
           7.455621301775149,
           7.893491124260354
          ],
          [
           -0.6482577251808022,
           -0.6522024983563441,
           -0.6443129520052593,
           -0.6245890861275469,
           -0.5930309007232073,
           -0.5496383957922406,
           -0.49441157133464664,
           -0.4273504273504256,
           -0.34845496383957747,
           -0.257725180802102,
           -0.15516107823799927,
           -0.04076265614726928,
           0.08547008547008768,
           0.22353714661407184,
           0.37343852728468363,
           0.5351742274819222,
           0.7087442472057879,
           0.8941485864562809,
           1.0913872452334012,
           1.300460223537149,
           1.5213675213675235,
           1.7541091387245251,
           1.998685075608155,
           2.255095332018411,
           2.523339907955294,
           2.803418803418805,
           3.0953320184089423,
           3.3990795529257083,
           3.7146614069691015,
           4.042077580539121,
           4.381328073635768,
           4.7324128862590396,
           5.095332018408942,
           5.470085470085471,
           5.856673241288626,
           6.25509533201841,
           6.665351742274818,
           7.087442472057856,
           7.521367521367522,
           7.967126890203812
          ],
          [
           -0.9243918474687707,
           -0.9204470742932278,
           -0.9046679815910581,
           -0.8770545693622609,
           -0.8376068376068364,
           -0.7863247863247853,
           -0.7232084155161063,
           -0.6482577251808004,
           -0.5614727153188673,
           -0.4628533859303072,
           -0.3523997370151196,
           -0.23011176857330481,
           -0.09598948060486302,
           0.04996712689020594,
           0.20775805391190255,
           0.37738330046022595,
           0.5588428665351765,
           0.7521367521367542,
           0.9572649572649593,
           1.174227481919792,
           1.4030243261012514,
           1.6436554898093374,
           1.8961209730440522,
           2.1604207758053935,
           2.436554898093361,
           2.724523339907957,
           3.0243261012491796,
           3.33596318211703,
           3.6594345825115075,
           3.9947403024326107,
           4.341880341880343,
           4.7008547008547,
           5.071663379355687,
           5.454306377383302,
           5.848783694937541,
           6.25509533201841,
           6.673241288625904,
           7.103221564760026,
           7.545036160420777,
           7.998685075608152
          ],
          [
           -1.2426035502958572,
           -1.230769230769229,
           -1.2071005917159747,
           -1.1715976331360927,
           -1.1242603550295838,
           -1.0650887573964474,
           -0.9940828402366839,
           -0.9112426035502932,
           -0.8165680473372753,
           -0.7100591715976301,
           -0.5917159763313579,
           -0.4615384615384583,
           -0.31952662721893177,
           -0.165680473372778,
           3.4258821669193885e-15,
           0.1775147928994116,
           0.36686390532544694,
           0.5680473372781095,
           0.7810650887573992,
           1.0059171597633167,
           1.2426035502958608,
           1.4911242603550319,
           1.7514792899408314,
           2.0236686390532572,
           2.3076923076923097,
           2.6035502958579904,
           2.9112426035502974,
           3.230769230769233,
           3.5621301775147955,
           3.9053254437869835,
           4.260355029585801,
           4.627218934911243,
           5.005917159763315,
           5.396449704142014,
           5.7988165680473385,
           6.213017751479291,
           6.6390532544378695,
           7.0769230769230775,
           7.526627218934912,
           7.988165680473371
          ],
          [
           -1.6028928336620631,
           -1.5831689677843501,
           -1.5516107823800112,
           -1.5082182774490445,
           -1.4529914529914503,
           -1.3859303090072292,
           -1.307034845496381,
           -1.216305062458905,
           -1.1137409598948025,
           -0.9993425378040729,
           -0.8731097961867155,
           -0.7350427350427312,
           -0.5851413543721198,
           -0.4234056541748813,
           -0.24983563445101503,
           -0.06443129520052208,
           0.13280736357659811,
           0.3418803418803454,
           0.5627876397107199,
           0.7955292570677224,
           1.0401051939513513,
           1.2965154503616072,
           1.5647600262984915,
           1.8448389217620023,
           2.1367521367521394,
           2.440499671268905,
           2.7560815253122968,
           3.0834976988823173,
           3.4227481919789646,
           3.7738330046022375,
           4.13675213675214,
           4.511505588428666,
           4.898093359631822,
           5.296515450361607,
           5.706771860618016,
           6.128862590401054,
           6.562787639710717,
           7.008547008547009,
           7.466140696909929,
           7.935568704799473
          ],
          [
           -2.005259697567389,
           -1.9776462853385917,
           -1.9381985535831672,
           -1.8869165023011156,
           -1.823800131492437,
           -1.7488494411571307,
           -1.662064431295198,
           -1.563445101906637,
           -1.4529914529914496,
           -1.3307034845496353,
           -1.1965811965811932,
           -1.0506245890861239,
           -0.8928336620644277,
           -0.7232084155161044,
           -0.5417488494411533,
           -0.3484549638395755,
           -0.14332675871137052,
           0.07363576594346158,
           0.302432610124921,
           0.5430637738330082,
           0.7955292570677219,
           1.0598290598290627,
           1.335963182117032,
           1.6239316239316275,
           1.92373438527285,
           2.2353714661406996,
           2.5588428665351763,
           2.8941485864562817,
           3.241288625904014,
           3.6002629848783716,
           3.971071663379358,
           4.353714661406969,
           4.748191978961211,
           5.15450361604208,
           5.572649572649574,
           6.002629848783697,
           6.444444444444445,
           6.8980933596318215,
           7.363576594345827,
           7.840894148586456
          ],
          [
           -2.4497041420118335,
           -2.4142011834319517,
           -2.3668639053254426,
           -2.3076923076923057,
           -2.236686390532542,
           -2.153846153846151,
           -2.0591715976331333,
           -1.9526627218934878,
           -1.834319526627216,
           -1.7041420118343165,
           -1.5621301775147898,
           -1.4082840236686358,
           -1.2426035502958546,
           -1.0650887573964465,
           -0.8757396449704106,
           -0.6745562130177479,
           -0.46153846153845823,
           -0.2366863905325413,
           2.9777834971198584e-15,
           0.24852071005917498,
           0.5088757396449736,
           0.7810650887573992,
           1.0650887573964531,
           1.3609467455621334,
           1.6686390532544408,
           1.9881656804733752,
           2.319526627218937,
           2.6627218934911268,
           3.0177514792899442,
           3.384615384615386,
           3.763313609467458,
           4.153846153846154,
           4.556213017751481,
           4.970414201183434,
           5.396449704142013,
           5.834319526627221,
           6.284023668639052,
           6.745562130177515,
           7.218934911242605,
           7.7041420118343185
          ],
          [
           -2.936226166995398,
           -2.8928336620644313,
           -2.8376068376068373,
           -2.7705456936226156,
           -2.6916502301117675,
           -2.6009204470742917,
           -2.498356344510189,
           -2.3839579224194587,
           -2.257725180802102,
           -2.1196581196581175,
           -1.969756738987506,
           -1.808021038790267,
           -1.6344510190664012,
           -1.4490466798159083,
           -1.2518080210387874,
           -1.0427350427350401,
           -0.8218277449046656,
           -0.5890861275476637,
           -0.3445101906640347,
           -0.08809993425377792,
           0.1801446416831055,
           0.460223537146616,
           0.7521367521367547,
           1.0558842866535199,
           1.3714661406969118,
           1.6988823142669311,
           2.038132807363578,
           2.3892176199868524,
           2.752136752136755,
           3.1268902038132813,
           3.513477975016438,
           3.9119000657462193,
           4.322156476002631,
           4.744247205785669,
           5.178172255095332,
           5.623931623931624,
           6.081525312294541,
           6.550953320184089,
           7.032215647600263,
           7.525312294543062
          ],
          [
           -3.4648257725180778,
           -3.4135437212360253,
           -3.3504273504273474,
           -3.275476660092041,
           -3.188691650230108,
           -3.090072320841547,
           -2.9796186719263598,
           -2.8573307034845445,
           -2.7232084155161034,
           -2.5772518080210336,
           -2.419460880999337,
           -2.249835634451014,
           -2.0683760683760632,
           -1.8750821827744855,
           -1.66995397764628,
           -1.4529914529914478,
           -1.2241946088099882,
           -0.9835634451019019,
           -0.731097961867188,
           -0.46679815910584616,
           -0.19066403681787833,
           0.09730440499671728,
           0.3971071663379405,
           0.7087442472057903,
           1.0322156476002673,
           1.3675213675213713,
           1.7146614069691029,
           2.0736357659434623,
           2.4444444444444486,
           2.827087442472061,
           3.221564760026302,
           3.627876397107168,
           4.0460223537146645,
           4.476002629848788,
           4.917817225509535,
           5.371466140696913,
           5.8369493754109145,
           6.314266929651546,
           6.803418803418806,
           7.304404996712689
          ],
          [
           -4.0355029585798805,
           -3.9763313609467428,
           -3.905325443786979,
           -3.8224852071005886,
           -3.727810650887571,
           -3.621301775147925,
           -3.502958579881653,
           -3.3727810650887533,
           -3.2307692307692264,
           -3.0769230769230727,
           -2.911242603550291,
           -2.7337278106508824,
           -2.5443786982248477,
           -2.343195266272185,
           -2.1301775147928947,
           -1.9053254437869773,
           -1.6686390532544333,
           -1.4201183431952618,
           -1.1597633136094634,
           -0.8875739644970371,
           -0.6035502958579838,
           -0.3076923076923038,
           4.289056141479658e-15,
           0.319526627218939,
           0.6508875739645008,
           0.9940828402366897,
           1.349112426035506,
           1.7159763313609502,
           2.0946745562130213,
           2.4852071005917185,
           2.8875739644970446,
           3.3017751479289954,
           3.727810650887576,
           4.165680473372785,
           4.615384615384617,
           5.076923076923078,
           5.550295857988166,
           6.035502958579882,
           6.532544378698227,
           7.041420118343195
          ],
          [
           -4.648257725180801,
           -4.581196581196579,
           -4.502301117685731,
           -4.411571334648254,
           -4.309007232084152,
           -4.194608809993421,
           -4.068376068376065,
           -3.9303090072320797,
           -3.780407626561469,
           -3.61867192636423,
           -3.445101906640364,
           -3.2596975673898703,
           -3.0624589086127507,
           -2.853385930309003,
           -2.632478632478628,
           -2.3997370151216257,
           -2.155161078237997,
           -1.8987508218277407,
           -1.6305062458908572,
           -1.3504273504273463,
           -1.0585141354372083,
           -0.7547666009204436,
           -0.43918474687705034,
           -0.1117685733070308,
           0.22748191978961535,
           0.5785667324128895,
           0.9414858645627904,
           1.3162393162393196,
           1.7028270874424758,
           2.101249178172257,
           2.5115055884286686,
           2.9335963182117037,
           3.3675213675213693,
           3.8132807363576626,
           4.27087442472058,
           4.740302432610127,
           5.221564760026299,
           5.7146614069691,
           6.219592373438529,
           6.7363576594345815
          ],
          [
           -5.303090072320841,
           -5.228139381985534,
           -5.141354372123602,
           -5.04273504273504,
           -4.932281393819853,
           -4.809993425378038,
           -4.675871137409596,
           -4.529914529914527,
           -4.37212360289283,
           -4.202498356344507,
           -4.021038790269556,
           -3.8277449046679775,
           -3.622616699539773,
           -3.4056541748849405,
           -3.1768573307034806,
           -2.9362261669953935,
           -2.68376068376068,
           -2.4194608809993388,
           -2.1433267587113707,
           -1.855358316896775,
           -1.555555555555552,
           -1.2439184746877026,
           -0.9204470742932247,
           -0.5851413543721202,
           -0.2380013149243885,
           0.12097304404996974,
           0.49178172255095515,
           0.8744247205785698,
           1.2689020381328104,
           1.6752136752136768,
           2.093359631821173,
           2.5233399079552927,
           2.965154503616043,
           3.4188034188034213,
           3.884286653517423,
           4.361604207758056,
           4.8507560815253115,
           5.351742274819198,
           5.864562787639711,
           6.38921761998685
          ],
          [
           -5.999999999999999,
           -5.917159763313609,
           -5.82248520710059,
           -5.715976331360944,
           -5.597633136094672,
           -5.467455621301773,
           -5.3254437869822455,
           -5.171597633136092,
           -5.00591715976331,
           -4.8284023668639025,
           -4.639053254437867,
           -4.437869822485204,
           -4.224852071005914,
           -3.999999999999997,
           -3.763313609467452,
           -3.51479289940828,
           -3.254437869822482,
           -2.9822485207100558,
           -2.6982248520710033,
           -2.402366863905322,
           -2.0946745562130147,
           -1.7751479289940804,
           -1.4437869822485174,
           -1.1005917159763283,
           -0.7455621301775124,
           -0.3786982248520688,
           1.7974385629629065e-15,
           0.3905325443787002,
           0.7928994082840268,
           1.2071005917159778,
           1.633136094674558,
           2.071005917159763,
           2.520710059171599,
           2.9822485207100615,
           3.455621301775148,
           3.940828402366865,
           4.437869822485206,
           4.946745562130176,
           5.4674556213017755,
           5.999999999999998
          ]
         ]
        }
       ],
       "layout": {
        "legend": {
         "tracegroupgap": 0
        },
        "margin": {
         "t": 60
        },
        "scene": {
         "domain": {
          "x": [
           0,
           1
          ],
          "y": [
           0,
           1
          ]
         },
         "xaxis": {
          "title": {
           "text": "x"
          }
         },
         "yaxis": {
          "title": {
           "text": "y"
          }
         },
         "zaxis": {
          "title": {
           "text": "z"
          }
         }
        },
        "template": {
         "data": {
          "bar": [
           {
            "error_x": {
             "color": "#2a3f5f"
            },
            "error_y": {
             "color": "#2a3f5f"
            },
            "marker": {
             "line": {
              "color": "#E5ECF6",
              "width": 0.5
             },
             "pattern": {
              "fillmode": "overlay",
              "size": 10,
              "solidity": 0.2
             }
            },
            "type": "bar"
           }
          ],
          "barpolar": [
           {
            "marker": {
             "line": {
              "color": "#E5ECF6",
              "width": 0.5
             },
             "pattern": {
              "fillmode": "overlay",
              "size": 10,
              "solidity": 0.2
             }
            },
            "type": "barpolar"
           }
          ],
          "carpet": [
           {
            "aaxis": {
             "endlinecolor": "#2a3f5f",
             "gridcolor": "white",
             "linecolor": "white",
             "minorgridcolor": "white",
             "startlinecolor": "#2a3f5f"
            },
            "baxis": {
             "endlinecolor": "#2a3f5f",
             "gridcolor": "white",
             "linecolor": "white",
             "minorgridcolor": "white",
             "startlinecolor": "#2a3f5f"
            },
            "type": "carpet"
           }
          ],
          "choropleth": [
           {
            "colorbar": {
             "outlinewidth": 0,
             "ticks": ""
            },
            "type": "choropleth"
           }
          ],
          "contour": [
           {
            "colorbar": {
             "outlinewidth": 0,
             "ticks": ""
            },
            "colorscale": [
             [
              0,
              "#0d0887"
             ],
             [
              0.1111111111111111,
              "#46039f"
             ],
             [
              0.2222222222222222,
              "#7201a8"
             ],
             [
              0.3333333333333333,
              "#9c179e"
             ],
             [
              0.4444444444444444,
              "#bd3786"
             ],
             [
              0.5555555555555556,
              "#d8576b"
             ],
             [
              0.6666666666666666,
              "#ed7953"
             ],
             [
              0.7777777777777778,
              "#fb9f3a"
             ],
             [
              0.8888888888888888,
              "#fdca26"
             ],
             [
              1,
              "#f0f921"
             ]
            ],
            "type": "contour"
           }
          ],
          "contourcarpet": [
           {
            "colorbar": {
             "outlinewidth": 0,
             "ticks": ""
            },
            "type": "contourcarpet"
           }
          ],
          "heatmap": [
           {
            "colorbar": {
             "outlinewidth": 0,
             "ticks": ""
            },
            "colorscale": [
             [
              0,
              "#0d0887"
             ],
             [
              0.1111111111111111,
              "#46039f"
             ],
             [
              0.2222222222222222,
              "#7201a8"
             ],
             [
              0.3333333333333333,
              "#9c179e"
             ],
             [
              0.4444444444444444,
              "#bd3786"
             ],
             [
              0.5555555555555556,
              "#d8576b"
             ],
             [
              0.6666666666666666,
              "#ed7953"
             ],
             [
              0.7777777777777778,
              "#fb9f3a"
             ],
             [
              0.8888888888888888,
              "#fdca26"
             ],
             [
              1,
              "#f0f921"
             ]
            ],
            "type": "heatmap"
           }
          ],
          "heatmapgl": [
           {
            "colorbar": {
             "outlinewidth": 0,
             "ticks": ""
            },
            "colorscale": [
             [
              0,
              "#0d0887"
             ],
             [
              0.1111111111111111,
              "#46039f"
             ],
             [
              0.2222222222222222,
              "#7201a8"
             ],
             [
              0.3333333333333333,
              "#9c179e"
             ],
             [
              0.4444444444444444,
              "#bd3786"
             ],
             [
              0.5555555555555556,
              "#d8576b"
             ],
             [
              0.6666666666666666,
              "#ed7953"
             ],
             [
              0.7777777777777778,
              "#fb9f3a"
             ],
             [
              0.8888888888888888,
              "#fdca26"
             ],
             [
              1,
              "#f0f921"
             ]
            ],
            "type": "heatmapgl"
           }
          ],
          "histogram": [
           {
            "marker": {
             "pattern": {
              "fillmode": "overlay",
              "size": 10,
              "solidity": 0.2
             }
            },
            "type": "histogram"
           }
          ],
          "histogram2d": [
           {
            "colorbar": {
             "outlinewidth": 0,
             "ticks": ""
            },
            "colorscale": [
             [
              0,
              "#0d0887"
             ],
             [
              0.1111111111111111,
              "#46039f"
             ],
             [
              0.2222222222222222,
              "#7201a8"
             ],
             [
              0.3333333333333333,
              "#9c179e"
             ],
             [
              0.4444444444444444,
              "#bd3786"
             ],
             [
              0.5555555555555556,
              "#d8576b"
             ],
             [
              0.6666666666666666,
              "#ed7953"
             ],
             [
              0.7777777777777778,
              "#fb9f3a"
             ],
             [
              0.8888888888888888,
              "#fdca26"
             ],
             [
              1,
              "#f0f921"
             ]
            ],
            "type": "histogram2d"
           }
          ],
          "histogram2dcontour": [
           {
            "colorbar": {
             "outlinewidth": 0,
             "ticks": ""
            },
            "colorscale": [
             [
              0,
              "#0d0887"
             ],
             [
              0.1111111111111111,
              "#46039f"
             ],
             [
              0.2222222222222222,
              "#7201a8"
             ],
             [
              0.3333333333333333,
              "#9c179e"
             ],
             [
              0.4444444444444444,
              "#bd3786"
             ],
             [
              0.5555555555555556,
              "#d8576b"
             ],
             [
              0.6666666666666666,
              "#ed7953"
             ],
             [
              0.7777777777777778,
              "#fb9f3a"
             ],
             [
              0.8888888888888888,
              "#fdca26"
             ],
             [
              1,
              "#f0f921"
             ]
            ],
            "type": "histogram2dcontour"
           }
          ],
          "mesh3d": [
           {
            "colorbar": {
             "outlinewidth": 0,
             "ticks": ""
            },
            "type": "mesh3d"
           }
          ],
          "parcoords": [
           {
            "line": {
             "colorbar": {
              "outlinewidth": 0,
              "ticks": ""
             }
            },
            "type": "parcoords"
           }
          ],
          "pie": [
           {
            "automargin": true,
            "type": "pie"
           }
          ],
          "scatter": [
           {
            "fillpattern": {
             "fillmode": "overlay",
             "size": 10,
             "solidity": 0.2
            },
            "type": "scatter"
           }
          ],
          "scatter3d": [
           {
            "line": {
             "colorbar": {
              "outlinewidth": 0,
              "ticks": ""
             }
            },
            "marker": {
             "colorbar": {
              "outlinewidth": 0,
              "ticks": ""
             }
            },
            "type": "scatter3d"
           }
          ],
          "scattercarpet": [
           {
            "marker": {
             "colorbar": {
              "outlinewidth": 0,
              "ticks": ""
             }
            },
            "type": "scattercarpet"
           }
          ],
          "scattergeo": [
           {
            "marker": {
             "colorbar": {
              "outlinewidth": 0,
              "ticks": ""
             }
            },
            "type": "scattergeo"
           }
          ],
          "scattergl": [
           {
            "marker": {
             "colorbar": {
              "outlinewidth": 0,
              "ticks": ""
             }
            },
            "type": "scattergl"
           }
          ],
          "scattermapbox": [
           {
            "marker": {
             "colorbar": {
              "outlinewidth": 0,
              "ticks": ""
             }
            },
            "type": "scattermapbox"
           }
          ],
          "scatterpolar": [
           {
            "marker": {
             "colorbar": {
              "outlinewidth": 0,
              "ticks": ""
             }
            },
            "type": "scatterpolar"
           }
          ],
          "scatterpolargl": [
           {
            "marker": {
             "colorbar": {
              "outlinewidth": 0,
              "ticks": ""
             }
            },
            "type": "scatterpolargl"
           }
          ],
          "scatterternary": [
           {
            "marker": {
             "colorbar": {
              "outlinewidth": 0,
              "ticks": ""
             }
            },
            "type": "scatterternary"
           }
          ],
          "surface": [
           {
            "colorbar": {
             "outlinewidth": 0,
             "ticks": ""
            },
            "colorscale": [
             [
              0,
              "#0d0887"
             ],
             [
              0.1111111111111111,
              "#46039f"
             ],
             [
              0.2222222222222222,
              "#7201a8"
             ],
             [
              0.3333333333333333,
              "#9c179e"
             ],
             [
              0.4444444444444444,
              "#bd3786"
             ],
             [
              0.5555555555555556,
              "#d8576b"
             ],
             [
              0.6666666666666666,
              "#ed7953"
             ],
             [
              0.7777777777777778,
              "#fb9f3a"
             ],
             [
              0.8888888888888888,
              "#fdca26"
             ],
             [
              1,
              "#f0f921"
             ]
            ],
            "type": "surface"
           }
          ],
          "table": [
           {
            "cells": {
             "fill": {
              "color": "#EBF0F8"
             },
             "line": {
              "color": "white"
             }
            },
            "header": {
             "fill": {
              "color": "#C8D4E3"
             },
             "line": {
              "color": "white"
             }
            },
            "type": "table"
           }
          ]
         },
         "layout": {
          "annotationdefaults": {
           "arrowcolor": "#2a3f5f",
           "arrowhead": 0,
           "arrowwidth": 1
          },
          "autotypenumbers": "strict",
          "coloraxis": {
           "colorbar": {
            "outlinewidth": 0,
            "ticks": ""
           }
          },
          "colorscale": {
           "diverging": [
            [
             0,
             "#8e0152"
            ],
            [
             0.1,
             "#c51b7d"
            ],
            [
             0.2,
             "#de77ae"
            ],
            [
             0.3,
             "#f1b6da"
            ],
            [
             0.4,
             "#fde0ef"
            ],
            [
             0.5,
             "#f7f7f7"
            ],
            [
             0.6,
             "#e6f5d0"
            ],
            [
             0.7,
             "#b8e186"
            ],
            [
             0.8,
             "#7fbc41"
            ],
            [
             0.9,
             "#4d9221"
            ],
            [
             1,
             "#276419"
            ]
           ],
           "sequential": [
            [
             0,
             "#0d0887"
            ],
            [
             0.1111111111111111,
             "#46039f"
            ],
            [
             0.2222222222222222,
             "#7201a8"
            ],
            [
             0.3333333333333333,
             "#9c179e"
            ],
            [
             0.4444444444444444,
             "#bd3786"
            ],
            [
             0.5555555555555556,
             "#d8576b"
            ],
            [
             0.6666666666666666,
             "#ed7953"
            ],
            [
             0.7777777777777778,
             "#fb9f3a"
            ],
            [
             0.8888888888888888,
             "#fdca26"
            ],
            [
             1,
             "#f0f921"
            ]
           ],
           "sequentialminus": [
            [
             0,
             "#0d0887"
            ],
            [
             0.1111111111111111,
             "#46039f"
            ],
            [
             0.2222222222222222,
             "#7201a8"
            ],
            [
             0.3333333333333333,
             "#9c179e"
            ],
            [
             0.4444444444444444,
             "#bd3786"
            ],
            [
             0.5555555555555556,
             "#d8576b"
            ],
            [
             0.6666666666666666,
             "#ed7953"
            ],
            [
             0.7777777777777778,
             "#fb9f3a"
            ],
            [
             0.8888888888888888,
             "#fdca26"
            ],
            [
             1,
             "#f0f921"
            ]
           ]
          },
          "colorway": [
           "#636efa",
           "#EF553B",
           "#00cc96",
           "#ab63fa",
           "#FFA15A",
           "#19d3f3",
           "#FF6692",
           "#B6E880",
           "#FF97FF",
           "#FECB52"
          ],
          "font": {
           "color": "#2a3f5f"
          },
          "geo": {
           "bgcolor": "white",
           "lakecolor": "white",
           "landcolor": "#E5ECF6",
           "showlakes": true,
           "showland": true,
           "subunitcolor": "white"
          },
          "hoverlabel": {
           "align": "left"
          },
          "hovermode": "closest",
          "mapbox": {
           "style": "light"
          },
          "paper_bgcolor": "white",
          "plot_bgcolor": "#E5ECF6",
          "polar": {
           "angularaxis": {
            "gridcolor": "white",
            "linecolor": "white",
            "ticks": ""
           },
           "bgcolor": "#E5ECF6",
           "radialaxis": {
            "gridcolor": "white",
            "linecolor": "white",
            "ticks": ""
           }
          },
          "scene": {
           "xaxis": {
            "backgroundcolor": "#E5ECF6",
            "gridcolor": "white",
            "gridwidth": 2,
            "linecolor": "white",
            "showbackground": true,
            "ticks": "",
            "zerolinecolor": "white"
           },
           "yaxis": {
            "backgroundcolor": "#E5ECF6",
            "gridcolor": "white",
            "gridwidth": 2,
            "linecolor": "white",
            "showbackground": true,
            "ticks": "",
            "zerolinecolor": "white"
           },
           "zaxis": {
            "backgroundcolor": "#E5ECF6",
            "gridcolor": "white",
            "gridwidth": 2,
            "linecolor": "white",
            "showbackground": true,
            "ticks": "",
            "zerolinecolor": "white"
           }
          },
          "shapedefaults": {
           "line": {
            "color": "#2a3f5f"
           }
          },
          "ternary": {
           "aaxis": {
            "gridcolor": "white",
            "linecolor": "white",
            "ticks": ""
           },
           "baxis": {
            "gridcolor": "white",
            "linecolor": "white",
            "ticks": ""
           },
           "bgcolor": "#E5ECF6",
           "caxis": {
            "gridcolor": "white",
            "linecolor": "white",
            "ticks": ""
           }
          },
          "title": {
           "x": 0.05
          },
          "xaxis": {
           "automargin": true,
           "gridcolor": "white",
           "linecolor": "white",
           "ticks": "",
           "title": {
            "standoff": 15
           },
           "zerolinecolor": "white",
           "zerolinewidth": 2
          },
          "yaxis": {
           "automargin": true,
           "gridcolor": "white",
           "linecolor": "white",
           "ticks": "",
           "title": {
            "standoff": 15
           },
           "zerolinecolor": "white",
           "zerolinewidth": 2
          }
         }
        }
       }
      }
     },
     "metadata": {},
     "output_type": "display_data"
    }
   ],
   "source": [
    "x, y, z, p = read_xypzdata(\"data/tmp43\")\n",
    "\n",
    "func = LeastSquare2D(x, y, z, p, 3)\n",
    "\n",
    "x_pred = np.linspace(min(x), max(x), 40)\n",
    "y_pred = np.linspace(min(y), max(y), 40)\n",
    "z_graph = [[func(xi, yi) for xi in x_pred] for yi in y_pred]\n",
    "\n",
    "fcoeffs = LeastSquaresCoeffs2D(x, y, z, p, 1)\n",
    "\n",
    "\n",
    "fig = px.scatter_3d(x=x, y=y, z=z)\n",
    "fig.add_trace(go.Surface(x=x_pred, y=y_pred, z=z_graph))\n",
    "fig.show()"
   ]
  },
  {
   "cell_type": "code",
   "execution_count": 8,
   "metadata": {},
   "outputs": [
    {
     "data": {
      "application/vnd.plotly.v1+json": {
       "config": {
        "plotlyServerURL": "https://plot.ly"
       },
       "data": [
        {
         "hovertemplate": "x=%{x}<br>y=%{y}<br>z=%{z}<extra></extra>",
         "legendgroup": "",
         "marker": {
          "color": "#636efa",
          "symbol": "circle"
         },
         "mode": "markers",
         "name": "",
         "scene": "scene",
         "showlegend": false,
         "type": "scatter3d",
         "x": [
          -1,
          0,
          1,
          2,
          -1,
          0,
          1,
          2,
          -1,
          0,
          1,
          2,
          -1,
          0,
          1,
          2,
          -1,
          0,
          1,
          2
         ],
         "y": [
          -2,
          -2,
          -2,
          -2,
          -1,
          -1,
          -1,
          -1,
          0,
          0,
          0,
          0,
          1,
          1,
          1,
          1,
          2,
          2,
          2,
          2
         ],
         "z": [
          8.13,
          7.5,
          5.78,
          1.11,
          2.13,
          1.5,
          -0.22,
          -4.89,
          0.13,
          -0.5,
          -2.22,
          -6.89,
          2.13,
          1.5,
          -0.22,
          -4.89,
          8.13,
          7.5,
          5.78,
          1.11
         ]
        },
        {
         "type": "surface",
         "x": [
          -1,
          -0.9230769230769231,
          -0.8461538461538461,
          -0.7692307692307692,
          -0.6923076923076923,
          -0.6153846153846154,
          -0.5384615384615384,
          -0.46153846153846145,
          -0.3846153846153846,
          -0.3076923076923077,
          -0.23076923076923073,
          -0.15384615384615374,
          -0.07692307692307687,
          0,
          0.0769230769230771,
          0.15384615384615397,
          0.23076923076923084,
          0.3076923076923077,
          0.3846153846153846,
          0.4615384615384617,
          0.5384615384615385,
          0.6153846153846154,
          0.6923076923076925,
          0.7692307692307694,
          0.8461538461538463,
          0.9230769230769231,
          1,
          1.076923076923077,
          1.1538461538461542,
          1.2307692307692308,
          1.307692307692308,
          1.3846153846153846,
          1.4615384615384617,
          1.5384615384615388,
          1.6153846153846154,
          1.6923076923076925,
          1.7692307692307692,
          1.8461538461538463,
          1.9230769230769234,
          2
         ],
         "y": [
          -2,
          -1.8974358974358974,
          -1.794871794871795,
          -1.6923076923076923,
          -1.5897435897435899,
          -1.4871794871794872,
          -1.3846153846153846,
          -1.282051282051282,
          -1.1794871794871795,
          -1.076923076923077,
          -0.9743589743589745,
          -0.8717948717948718,
          -0.7692307692307692,
          -0.6666666666666667,
          -0.5641025641025641,
          -0.4615384615384617,
          -0.35897435897435903,
          -0.2564102564102564,
          -0.15384615384615397,
          -0.05128205128205132,
          0.0512820512820511,
          0.15384615384615374,
          0.2564102564102564,
          0.35897435897435903,
          0.4615384615384617,
          0.5641025641025639,
          0.6666666666666665,
          0.7692307692307692,
          0.8717948717948718,
          0.9743589743589745,
          1.0769230769230766,
          1.1794871794871793,
          1.282051282051282,
          1.3846153846153846,
          1.4871794871794872,
          1.5897435897435894,
          1.692307692307692,
          1.7948717948717947,
          1.8974358974358974,
          2
         ],
         "z": [
          [
           8.13,
           8.077906235776057,
           8.029522075557578,
           7.98400091033227,
           7.940496131087844,
           7.898161128812015,
           7.856149294492487,
           7.813614019116974,
           7.769708693673189,
           7.723586709148838,
           7.674401456531633,
           7.621306326809284,
           7.563454710969502,
           7.5,
           7.430095584888485,
           7.352894856622669,
           7.2675512061902605,
           7.173218024578974,
           7.069048702776517,
           6.954196631770602,
           6.827815202548936,
           6.689057806099234,
           6.537077833409201,
           6.371028675466552,
           6.190063723258998,
           5.993336367774246,
           5.780000000000009,
           5.549208010923996,
           5.30011379153392,
           5.031870732817488,
           4.743632225762413,
           4.434551661356404,
           4.103782430587174,
           3.7504779244424276,
           3.373791533909883,
           2.972876649977247,
           2.5468866636322325,
           2.0949749658625447,
           1.616294947655895,
           1.1100000000000008
          ],
          [
           7.3305259697567395,
           7.278432205532797,
           7.230048045314316,
           7.184526880089008,
           7.141022100844583,
           7.098687098568751,
           7.0566752642492245,
           7.014139988873712,
           6.970234663429927,
           6.924112678905576,
           6.87492742628837,
           6.821832296566022,
           6.76398068072624,
           6.700525969756738,
           6.630621554645223,
           6.553420826379407,
           6.468077175946999,
           6.373743994335712,
           6.269574672533255,
           6.1547226015273395,
           6.028341172305674,
           5.8895837758559715,
           5.73760380316594,
           5.57155464522329,
           5.390589693015736,
           5.193862337530984,
           4.980525969756747,
           4.749733980680734,
           4.500639761290659,
           4.232396702574226,
           3.9441581955191505,
           3.635077631113143,
           3.3043084003439116,
           2.9510038941991663,
           2.574317503666623,
           2.1734026197339853,
           1.7474126333889697,
           1.2955009356192821,
           0.8168209174126337,
           0.3105259697567395
          ],
          [
           6.573129520052599,
           6.521035755828656,
           6.472651595610175,
           6.427130430384866,
           6.383625651140442,
           6.341290648864611,
           6.299278814545084,
           6.256743539169571,
           6.212838213725786,
           6.166716229201436,
           6.11753097658423,
           6.0644358468618815,
           6.006584231022099,
           5.943129520052597,
           5.873225104941082,
           5.796024376675266,
           5.710680726242859,
           5.616347544631571,
           5.512178222829115,
           5.397326151823199,
           5.270944722601533,
           5.132187326151831,
           4.980207353461799,
           4.81415819551915,
           4.633193243311595,
           4.436465887826843,
           4.2231295200526064,
           3.9923375309765934,
           3.743243311586518,
           3.4750002528700863,
           3.1867617458150095,
           2.877681181409002,
           2.546911950639771,
           2.1936074444950266,
           1.816921053962482,
           1.4160061700298456,
           0.9900161836848305,
           0.5381044859151407,
           0.05942446770849319,
           -0.44687047994740103
          ],
          [
           5.857810650887575,
           5.805716886663632,
           5.75733272644515,
           5.711811561219842,
           5.668306781975418,
           5.6259717796995865,
           5.58395994538006,
           5.541424670004547,
           5.497519344560763,
           5.451397360036411,
           5.4022121074192055,
           5.349116977696857,
           5.291265361857075,
           5.227810650887573,
           5.157906235776058,
           5.080705507510242,
           4.995361857077834,
           4.901028675466547,
           4.7968593536640896,
           4.682007282658175,
           4.555625853436509,
           4.416868456986807,
           4.264888484296775,
           4.098839326354126,
           3.9178743741465714,
           3.721147018661819,
           3.507810650887582,
           3.2770186618115686,
           3.027924442421492,
           2.759681383705062,
           2.471442876649986,
           2.1623623122439786,
           1.8315930814747468,
           1.478288575330003,
           1.1016021847974586,
           0.7006873008648213,
           0.2746973145198055,
           -0.17721438324988203,
           -0.6558944014565309,
           -1.1621893491124253
          ],
          [
           5.18456936226167,
           5.132475598037726,
           5.084091437819246,
           5.038570272593938,
           4.9950654933495136,
           4.952730491073682,
           4.910718656754155,
           4.868183381378643,
           4.824278055934858,
           4.778156071410506,
           4.728970818793301,
           4.675875689070953,
           4.618024073231171,
           4.5545693622616685,
           4.484664947150153,
           4.407464218884337,
           4.32212056845193,
           4.227787386840643,
           4.123618065038185,
           4.00876599403227,
           3.882384564810605,
           3.743627168360902,
           3.59164719567087,
           3.425598037728222,
           3.2446330855206664,
           3.0479057300359154,
           2.8345693622616785,
           2.6037773731856655,
           2.3546831537955875,
           2.086440095079157,
           1.7982015880240816,
           1.489121023618074,
           1.1583517928488423,
           0.8050472867040983,
           0.4283608961715544,
           0.027446012238917294,
           -0.39854397410609854,
           -0.850455671875787,
           -1.3291356900824354,
           -1.8354306377383294
          ],
          [
           4.553405654174885,
           4.501311889950942,
           4.452927729732461,
           4.407406564507153,
           4.363901785262729,
           4.321566782986897,
           4.2795549486673705,
           4.237019673291858,
           4.1931143478480735,
           4.146992363323721,
           4.097807110706516,
           4.044711980984168,
           3.986860365144387,
           3.923405654174884,
           3.8535012390633687,
           3.7763005107975527,
           3.6909568603651457,
           3.5966236787538586,
           3.4924543569514017,
           3.377602285945485,
           3.2512208567238203,
           3.1124634602741166,
           2.9604834875840855,
           2.794434329641437,
           2.613469377433882,
           2.416742021949131,
           2.203405654174894,
           1.9726136650988808,
           1.723519445708803,
           1.4552763869923728,
           1.1670378799372974,
           0.8579573155312892,
           0.5271880847620575,
           0.17388357861731363,
           -0.20280281191522986,
           -0.6037176958478669,
           -1.0297076821928832,
           -1.4816193799625712,
           -1.9602993981692196,
           -2.466594345825114
          ],
          [
           3.964319526627218,
           3.912225762403275,
           3.8638416021847943,
           3.818320436959486,
           3.7748156577150622,
           3.7324806554392307,
           3.690468821119704,
           3.6479335457441917,
           3.604028220300405,
           3.5579062357760534,
           3.5087209831588493,
           3.455625853436501,
           3.3977742375967197,
           3.3343195266272168,
           3.2644151115157016,
           3.1872143832498856,
           3.101870732817478,
           3.0075375512061915,
           2.9033682294037346,
           2.788516158397818,
           2.6621347291761532,
           2.52337733272645,
           2.371397360036418,
           2.20534820209377,
           2.024383249886215,
           1.8276558944014643,
           1.614319526627227,
           1.3835275375512137,
           1.134433318161136,
           0.8661902594447064,
           0.5779517523896303,
           0.2688711879836232,
           -0.061898042785609064,
           -0.4152025489303538,
           -0.791888939462897,
           -1.1928038233955345,
           -1.6187938097405499,
           -2.070705507510238,
           -2.5493855257168865,
           -3.0556804733727807
          ],
          [
           3.4173109796186703,
           3.3652172153947277,
           3.3168330551762466,
           3.271311889950939,
           3.2278071107065145,
           3.1854721084306834,
           3.1434602741111566,
           3.1009249987356444,
           3.0570196732918578,
           3.010897688767506,
           2.9617124361503016,
           2.9086173064279537,
           2.8507656905881724,
           2.7873109796186695,
           2.7174065645071543,
           2.6402058362413383,
           2.5548621858089313,
           2.460529004197644,
           2.3563596823951873,
           2.2415076113892707,
           2.115126182167606,
           1.9763687857179026,
           1.8243888130278711,
           1.6583396550852225,
           1.477374702877668,
           1.2806473473929163,
           1.0673109796186797,
           0.8365189905426664,
           0.5874247711525888,
           0.3191817124361588,
           0.030943205381082972,
           -0.2781373590249244,
           -0.6089065897941563,
           -0.9622110959389004,
           -1.3388974864714442,
           -1.7398123704040818,
           -2.165802356749097,
           -2.6177140545187854,
           -3.0963940727254338,
           -3.602689020381328
          ],
          [
           2.9123800131492423,
           2.8602862489253,
           2.8119020887068187,
           2.766380923481511,
           2.7228761442370866,
           2.6805411419612555,
           2.6385293076417287,
           2.5959940322662165,
           2.55208870682243,
           2.505966722298078,
           2.4567814696808736,
           2.4036863399585258,
           2.3458347241187445,
           2.2823800131492415,
           2.2124755980377264,
           2.1352748697719104,
           2.0499312193395034,
           1.9555980377282163,
           1.8514287159257592,
           1.7365766449198425,
           1.6101952156981776,
           1.4714378192484743,
           1.3194578465584432,
           1.153408688615795,
           0.9724437364082401,
           0.7757163809234888,
           0.5623800131492518,
           0.3315880240732387,
           0.08249380468316114,
           -0.18574925403326914,
           -0.47398776108834473,
           -0.7830683254943522,
           -1.1138375562635843,
           -1.4671420624083282,
           -1.8438284529408722,
           -2.2447433368735092,
           -2.670733323218525,
           -3.122645020988213,
           -3.6013250391948612,
           -4.1076199868507555
          ],
          [
           2.4495266272189333,
           2.3974328629949913,
           2.34904870277651,
           2.303527537551202,
           2.260022758306778,
           2.217687756030947,
           2.17567592171142,
           2.133140646335908,
           2.0892353208921213,
           2.0431133363677696,
           1.993928083750565,
           1.940832954028217,
           1.8829813381884362,
           1.819526627218933,
           1.7496222121074179,
           1.6724214838416018,
           1.5870778334091946,
           1.4927446517979075,
           1.3885753299954506,
           1.273723258989534,
           1.1473418297678692,
           1.0085844333181657,
           0.8566044606281346,
           0.6905553026854863,
           0.5095903504779316,
           0.3128629949931802,
           0.09952662721894318,
           -0.13126536185706972,
           -0.38035958124714725,
           -0.6486026399635776,
           -0.9368411470186534,
           -1.2459217114246606,
           -1.5766909421938926,
           -1.9299954483386368,
           -2.3066818388711807,
           -2.707596722803818,
           -3.133586709148833,
           -3.5854984069185214,
           -4.06417842512517,
           -4.5704733727810645
          ],
          [
           2.0287508218277437,
           1.976657057603801,
           1.9282728973853198,
           1.882751732160012,
           1.8392469529155873,
           1.796911950639756,
           1.7549001163202296,
           1.7123648409447179,
           1.6684595155009307,
           1.62233753097658,
           1.5731522783593748,
           1.5200571486370267,
           1.4622055327972459,
           1.3987508218277427,
           1.3288464067162276,
           1.2516456784504115,
           1.1663020280180043,
           1.0719688464067172,
           0.9677995246042602,
           0.8529474535983438,
           0.7265660243766789,
           0.5878086279269759,
           0.43582865523694436,
           0.26977949729429607,
           0.08881454508674114,
           -0.10791281039801007,
           -0.321249178172247,
           -0.55204116724826,
           -0.8011353866383375,
           -1.0693784453547677,
           -1.3576169524098436,
           -1.6666975168158509,
           -1.997466747585083,
           -2.350771253729827,
           -2.727457644262371,
           -3.128372528195008,
           -3.5543625145400233,
           -4.0062742123097115,
           -4.48495423051636,
           -4.991249178172254
          ],
          [
           1.6500525969756723,
           1.5979588327517298,
           1.549574672533249,
           1.5040535073079406,
           1.4605487280635159,
           1.4182137257876848,
           1.3762018914681586,
           1.3336666160926467,
           1.2897612906488596,
           1.2436393061245088,
           1.1944540535073034,
           1.1413589237849555,
           1.0835073079451747,
           1.0200525969756715,
           0.9501481818641564,
           0.8729474535983401,
           0.7876038031659334,
           0.6932706215546462,
           0.5891012997521893,
           0.47424922874627257,
           0.34786779952460767,
           0.20911040307490464,
           0.05713043038487316,
           -0.10891872755777507,
           -0.28988367976532997,
           -0.4866110352500812,
           -0.6999474030243181,
           -0.9307393921003311,
           -1.1798336114904084,
           -1.4480766702068388,
           -1.7363151772619148,
           -2.045395741667922,
           -2.376164972437154,
           -2.729469478581898,
           -3.106155869114442,
           -3.507070753047079,
           -3.9330607393920944,
           -4.384972437161783,
           -4.863652455368431,
           -5.369947403024325
          ],
          [
           1.3134319526627196,
           1.2613381884387767,
           1.2129540282202964,
           1.1674328629949882,
           1.1239280837505634,
           1.0815930814747325,
           1.039581247155206,
           0.9970459717796938,
           0.953140646335907,
           0.907018661811556,
           0.8578334091943511,
           0.8047382794720029,
           0.7468866636322221,
           0.683431952662719,
           0.6135275375512038,
           0.5363268092853877,
           0.45098315885298074,
           0.3566499772416936,
           0.2524806554392367,
           0.13762858443332013,
           0.011247155211655181,
           -0.12751024123804794,
           -0.27949021392807943,
           -0.44553937187072756,
           -0.6265043240782826,
           -0.8232316795630339,
           -1.0365680473372707,
           -1.2673600364132835,
           -1.5164542558033614,
           -1.7846973145197915,
           -2.072935821574867,
           -2.382016385980875,
           -2.7127856167501063,
           -3.0660901228948507,
           -3.442776513427394,
           -3.8436913973600317,
           -4.269681383705047,
           -4.721593081474735,
           -5.200273099681383,
           -5.706568047337278
          ],
          [
           1.0188888888888872,
           0.9667951246649442,
           0.9184109644464635,
           0.8728897992211555,
           0.829385019976731,
           0.7870500177009001,
           0.7450381833813733,
           0.7025029080058612,
           0.6585975825620746,
           0.6124755980377236,
           0.5632903454205185,
           0.5101952156981704,
           0.4523435998583895,
           0.3888888888888864,
           0.31898447377737127,
           0.24178374551155507,
           0.15644009507914822,
           0.06210691346786107,
           -0.04206240833459586,
           -0.1569144793405124,
           -0.28329590856217735,
           -0.4220533050118805,
           -0.5740332777019119,
           -0.7400824356445601,
           -0.9210473878521153,
           -1.1177747433368663,
           -1.3311111111111031,
           -1.561903100187116,
           -1.8109973195771933,
           -2.0792403782936244,
           -2.3674788853487,
           -2.6765594497547074,
           -3.0073286805239388,
           -3.360633186668683,
           -3.7373195772012267,
           -4.138234461133864,
           -4.56422444747888,
           -5.016136145248568,
           -5.494816163455216,
           -6.00111111111111
          ],
          [
           0.7664234056541728,
           0.7143296414302299,
           0.6659454812117491,
           0.6204243159864412,
           0.5769195367420167,
           0.5345845344661858,
           0.49257270014665894,
           0.45003742477114683,
           0.40613209932736005,
           0.36001011480300904,
           0.3108248621858042,
           0.257729732463456,
           0.19987811662367516,
           0.13642340565417205,
           0.06651899054265695,
           -0.010681737723159213,
           -0.09602538815556613,
           -0.19035856976685328,
           -0.2945278915693102,
           -0.4093799625752267,
           -0.5357613917968916,
           -0.6745187882465948,
           -0.8264987609366262,
           -0.9925479188792744,
           -1.1735128710868292,
           -1.3702402265715803,
           -1.5835765943458175,
           -1.8143685834218304,
           -2.063462802811908,
           -2.3317058615283384,
           -2.6199443685834143,
           -2.9290249329894213,
           -3.259794163758653,
           -3.6130986699033976,
           -3.989785060435941,
           -4.390699944368578,
           -4.8166899307135935,
           -5.268601628483282,
           -5.74728164668993,
           -6.253576594345825
          ],
          [
           0.5560355029585781,
           0.5039417387346352,
           0.45555757851615464,
           0.4100364132908466,
           0.36653163404642203,
           0.3241966317705911,
           0.28218479745106423,
           0.23964952207555218,
           0.19574419663176543,
           0.1496222121074144,
           0.10043695949020949,
           0.047341829767861346,
           -0.010509786071919509,
           -0.07396449704142263,
           -0.1438689121529377,
           -0.2210696404187539,
           -0.3064132908511608,
           -0.400746472462448,
           -0.504915794264905,
           -0.6197678652708215,
           -0.7461492944924866,
           -0.8849066909421894,
           -1.036886663632221,
           -1.2029358215748691,
           -1.383900773782424,
           -1.580628129267175,
           -1.7939644970414121,
           -2.0247564861174254,
           -2.2738507055075026,
           -2.542093764223933,
           -2.830332271279009,
           -3.139412835685016,
           -3.4701820664542478,
           -3.823486572598992,
           -4.200172963131536,
           -4.601087847064173,
           -5.027077833409188,
           -5.478989531178876,
           -5.957669549385525,
           -6.4639644970414185
          ],
          [
           0.38772518080210205,
           0.3356314165781592,
           0.2872472563596785,
           0.24172609113437055,
           0.1982213118899459,
           0.15588630961411493,
           0.11387447529458816,
           0.07133919991907609,
           0.027433874475289322,
           -0.018688110049061728,
           -0.0678733626662666,
           -0.12096849238861476,
           -0.17882010822839564,
           -0.24227481919789876,
           -0.3121792343094139,
           -0.38937996257522994,
           -0.47472361300763694,
           -0.569056794618924,
           -0.673226116421381,
           -0.7880781874272976,
           -0.9144596166489625,
           -1.0532170130986656,
           -1.2051969857886968,
           -1.371246143731345,
           -1.5522110959389002,
           -1.7489384514236515,
           -1.9622748191978883,
           -2.193066808273901,
           -2.4421610276639787,
           -2.710404086380409,
           -2.9986425934354846,
           -3.307723157841492,
           -3.6384923886107234,
           -3.991796894755468,
           -4.368483285288011,
           -4.769398169220649,
           -5.195388155565665,
           -5.647299853335353,
           -6.125979871542,
           -6.632274819197896
          ],
          [
           0.26149243918474496,
           0.20939867496080214,
           0.16101451474232148,
           0.11549334951701347,
           0.07198857027258883,
           0.029653567996757876,
           -0.012358266322768853,
           -0.05489354169828094,
           -0.09879886714206773,
           -0.14492085166641877,
           -0.19410610428362365,
           -0.24720123400597185,
           -0.30505284984575265,
           -0.3685075608152558,
           -0.438411975926771,
           -0.5156127041925872,
           -0.600956354624994,
           -0.6952895362362811,
           -0.799458858038738,
           -0.9143109290446546,
           -1.0406923582663195,
           -1.1794497547160225,
           -1.331429727406054,
           -1.4974788853487022,
           -1.6784438375562571,
           -1.8751711930410082,
           -2.0885075608152452,
           -2.3192995498912583,
           -2.568393769281336,
           -2.8366368279977663,
           -3.1248753350528418,
           -3.4339558994588493,
           -3.764725130228081,
           -4.1180296363728255,
           -4.494716026905369,
           -4.8956309108380065,
           -5.3216208971830214,
           -5.7735325949527105,
           -6.252212613159358,
           -6.758507560815252
          ],
          [
           0.1773372781065072,
           0.12524351388256438,
           0.07685935366408371,
           0.03133818843877571,
           -0.012166590805648955,
           -0.05450159308147984,
           -0.09651342740100662,
           -0.1390487027765187,
           -0.18295402822030551,
           -0.22907601274465655,
           -0.2782612653618614,
           -0.3313563950842096,
           -0.38920801092399043,
           -0.4526627218934936,
           -0.5225671370050087,
           -0.5997678652708249,
           -0.6851115157032317,
           -0.7794446973145189,
           -0.883614019116976,
           -0.9984660901228926,
           -1.1248475193445575,
           -1.2636049157942604,
           -1.4155848884842919,
           -1.5816340464269403,
           -1.7625989986344952,
           -1.9593263541192465,
           -2.1726627218934835,
           -2.4034547109694966,
           -2.6525489303595737,
           -2.9207919890760037,
           -3.2090304961310796,
           -3.5181110605370867,
           -3.848880291306319,
           -4.202184797451063,
           -4.578871187983607,
           -4.979786071916244,
           -5.405776058261259,
           -5.857687756030948,
           -6.336367774237596,
           -6.84266272189349
          ],
          [
           0.13525969756738832,
           0.08316593334344546,
           0.03478177312496483,
           -0.010739392100343192,
           -0.05424417134476786,
           -0.09657917362059881,
           -0.13859100794012558,
           -0.18112628331563768,
           -0.22503160875942443,
           -0.27115359328377553,
           -0.32033884590098033,
           -0.3734339756233286,
           -0.4312855914631094,
           -0.4947403024326126,
           -0.5646447175441277,
           -0.641845445809944,
           -0.7271890962423507,
           -0.8215222778536379,
           -0.9256915996560949,
           -1.0405436706620115,
           -1.1669250998836764,
           -1.3056824963333797,
           -1.4576624690234108,
           -1.6237116269660592,
           -1.8046765791736141,
           -2.0014039346583656,
           -2.2147403024326024,
           -2.4455322915086155,
           -2.6946265108986927,
           -2.962869569615123,
           -3.251108076670199,
           -3.5601886410762065,
           -3.890957871845438,
           -4.244262377990182,
           -4.620948768522726,
           -5.021863652455363,
           -5.447853638800378,
           -5.899765336570066,
           -6.378445354776714,
           -6.8847403024326095
          ],
          [
           0.13525969756738843,
           0.08316593334344557,
           0.03478177312496489,
           -0.010739392100343137,
           -0.054244171344767805,
           -0.09657917362059876,
           -0.13859100794012552,
           -0.18112628331563763,
           -0.22503160875942443,
           -0.27115359328377553,
           -0.32033884590098033,
           -0.3734339756233286,
           -0.4312855914631094,
           -0.4947403024326126,
           -0.5646447175441277,
           -0.641845445809944,
           -0.7271890962423507,
           -0.8215222778536379,
           -0.9256915996560949,
           -1.0405436706620115,
           -1.1669250998836764,
           -1.3056824963333797,
           -1.4576624690234108,
           -1.6237116269660592,
           -1.8046765791736141,
           -2.0014039346583656,
           -2.2147403024326024,
           -2.4455322915086155,
           -2.6946265108986927,
           -2.962869569615123,
           -3.251108076670199,
           -3.5601886410762065,
           -3.890957871845438,
           -4.244262377990182,
           -4.620948768522726,
           -5.021863652455363,
           -5.447853638800378,
           -5.899765336570066,
           -6.378445354776714,
           -6.8847403024326095
          ],
          [
           0.1773372781065076,
           0.12524351388256472,
           0.07685935366408407,
           0.03133818843877602,
           -0.01216659080564865,
           -0.054501593081479616,
           -0.0965134274010064,
           -0.13904870277651848,
           -0.1829540282203053,
           -0.2290760127446564,
           -0.2782612653618613,
           -0.3313563950842095,
           -0.3892080109239903,
           -0.4526627218934935,
           -0.5225671370050086,
           -0.5997678652708248,
           -0.6851115157032316,
           -0.7794446973145188,
           -0.8836140191169758,
           -0.9984660901228924,
           -1.1248475193445573,
           -1.2636049157942604,
           -1.4155848884842919,
           -1.58163404642694,
           -1.762598998634495,
           -1.959326354119246,
           -2.172662721893483,
           -2.403454710969496,
           -2.6525489303595737,
           -2.920791989076004,
           -3.20903049613108,
           -3.5181110605370876,
           -3.848880291306319,
           -4.202184797451063,
           -4.578871187983607,
           -4.979786071916244,
           -5.40577605826126,
           -5.8576877560309475,
           -6.336367774237596,
           -6.84266272189349
          ],
          [
           0.26149243918474585,
           0.20939867496080297,
           0.1610145147423223,
           0.11549334951701416,
           0.07198857027258952,
           0.02965356799675857,
           -0.012358266322768229,
           -0.05489354169828034,
           -0.09879886714206715,
           -0.14492085166641822,
           -0.19410610428362315,
           -0.24720123400597135,
           -0.3050528498457522,
           -0.3685075608152554,
           -0.43841197592677056,
           -0.5156127041925868,
           -0.6009563546249935,
           -0.6952895362362806,
           -0.7994588580387377,
           -0.9143109290446544,
           -1.0406923582663192,
           -1.1794497547160225,
           -1.3314297274060538,
           -1.4974788853487022,
           -1.6784438375562571,
           -1.8751711930410082,
           -2.0885075608152452,
           -2.3192995498912583,
           -2.568393769281336,
           -2.8366368279977663,
           -3.1248753350528418,
           -3.4339558994588493,
           -3.764725130228081,
           -4.1180296363728255,
           -4.494716026905369,
           -4.8956309108380065,
           -5.3216208971830214,
           -5.7735325949527105,
           -6.252212613159358,
           -6.758507560815252
          ],
          [
           0.38772518080210316,
           0.3356314165781603,
           0.28724725635967957,
           0.2417260911343715,
           0.1982213118899468,
           0.15588630961411587,
           0.11387447529458908,
           0.07133919991907695,
           0.027433874475290113,
           -0.018688110049060964,
           -0.06787336266626588,
           -0.12096849238861407,
           -0.17882010822839497,
           -0.24227481919789814,
           -0.3121792343094133,
           -0.3893799625752295,
           -0.47472361300763644,
           -0.5690567946189236,
           -0.6732261164213805,
           -0.7880781874272972,
           -0.914459616648962,
           -1.0532170130986653,
           -1.2051969857886966,
           -1.371246143731345,
           -1.5522110959389,
           -1.748938451423651,
           -1.962274819197888,
           -2.193066808273901,
           -2.4421610276639782,
           -2.7104040863804086,
           -2.9986425934354846,
           -3.307723157841492,
           -3.638492388610724,
           -3.991796894755468,
           -4.368483285288012,
           -4.769398169220649,
           -5.195388155565665,
           -5.647299853335353,
           -6.125979871542,
           -6.632274819197896
          ],
          [
           0.5560355029585796,
           0.5039417387346368,
           0.45555757851615597,
           0.41003641329084795,
           0.36653163404642325,
           0.3241966317705922,
           0.2821847974510655,
           0.2396495220755534,
           0.19574419663176654,
           0.1496222121074154,
           0.10043695949021049,
           0.047341829767862276,
           -0.01050978607191863,
           -0.0739644970414218,
           -0.14386891215293693,
           -0.22106964041875318,
           -0.3064132908511601,
           -0.4007464724624473,
           -0.5049157942649043,
           -0.619767865270821,
           -0.7461492944924859,
           -0.8849066909421891,
           -1.0368866636322205,
           -1.2029358215748687,
           -1.3839007737824238,
           -1.5806281292671749,
           -1.793964497041412,
           -2.024756486117425,
           -2.2738507055075026,
           -2.542093764223933,
           -2.830332271279009,
           -3.139412835685016,
           -3.4701820664542478,
           -3.823486572598992,
           -4.200172963131536,
           -4.601087847064173,
           -5.027077833409188,
           -5.478989531178877,
           -5.957669549385525,
           -6.463964497041419
          ],
          [
           0.7664234056541742,
           0.7143296414302311,
           0.6659454812117503,
           0.6204243159864424,
           0.5769195367420177,
           0.5345845344661867,
           0.4925727001466598,
           0.4500374247711477,
           0.40613209932736083,
           0.3600101148030097,
           0.31082486218580485,
           0.25772973246345654,
           0.19987811662367566,
           0.1364234056541725,
           0.06651899054265734,
           -0.01068173772315888,
           -0.09602538815556586,
           -0.19035856976685306,
           -0.29452789156931,
           -0.4093799625752266,
           -0.5357613917968916,
           -0.6745187882465948,
           -0.8264987609366263,
           -0.9925479188792746,
           -1.1735128710868294,
           -1.3702402265715807,
           -1.5835765943458175,
           -1.8143685834218308,
           -2.0634628028119084,
           -2.331705861528339,
           -2.6199443685834143,
           -2.929024932989422,
           -3.2597941637586536,
           -3.6130986699033985,
           -3.989785060435942,
           -4.3906999443685795,
           -4.816689930713594,
           -5.268601628483282,
           -5.74728164668993,
           -6.253576594345825
          ],
          [
           1.0188888888888885,
           0.9667951246649455,
           0.9184109644464649,
           0.8728897992211568,
           0.8293850199767319,
           0.7870500177009009,
           0.7450381833813742,
           0.7025029080058619,
           0.6585975825620752,
           0.612475598037724,
           0.563290345420519,
           0.510195215698171,
           0.45234359985838996,
           0.38888888888888673,
           0.3189844737773715,
           0.2417837455115553,
           0.15644009507914833,
           0.06210691346786115,
           -0.04206240833459584,
           -0.15691447934051242,
           -0.28329590856217746,
           -0.4220533050118806,
           -0.574033277701912,
           -0.7400824356445604,
           -0.9210473878521155,
           -1.1177747433368665,
           -1.3311111111111036,
           -1.5619031001871166,
           -1.8109973195771942,
           -2.0792403782936244,
           -2.3674788853487003,
           -2.6765594497547074,
           -3.0073286805239396,
           -3.360633186668684,
           -3.7373195772012275,
           -4.138234461133864,
           -4.56422444747888,
           -5.016136145248568,
           -5.494816163455217,
           -6.001111111111111
          ],
          [
           1.3134319526627216,
           1.2613381884387789,
           1.2129540282202982,
           1.1674328629949902,
           1.1239280837505654,
           1.0815930814747343,
           1.0395812471552075,
           0.9970459717796953,
           0.9531406463359086,
           0.9070186618115573,
           0.8578334091943525,
           0.8047382794720043,
           0.7468866636322232,
           0.68343195266272,
           0.6135275375512049,
           0.5363268092853886,
           0.4509831588529816,
           0.3566499772416944,
           0.2524806554392375,
           0.13762858443332085,
           0.011247155211655792,
           -0.12751024123804738,
           -0.2794902139280789,
           -0.4455393718707271,
           -0.6265043240782822,
           -0.8232316795630334,
           -1.0365680473372703,
           -1.2673600364132833,
           -1.516454255803361,
           -1.7846973145197913,
           -2.072935821574867,
           -2.382016385980874,
           -2.7127856167501063,
           -3.0660901228948507,
           -3.442776513427394,
           -3.8436913973600317,
           -4.269681383705047,
           -4.721593081474735,
           -5.200273099681383,
           -5.706568047337278
          ],
          [
           1.6500525969756745,
           1.5979588327517316,
           1.5495746725332509,
           1.5040535073079424,
           1.4605487280635177,
           1.4182137257876866,
           1.37620189146816,
           1.333666616092648,
           1.289761290648861,
           1.2436393061245101,
           1.1944540535073047,
           1.1413589237849564,
           1.0835073079451756,
           1.0200525969756724,
           0.9501481818641573,
           0.8729474535983408,
           0.787603803165934,
           0.6932706215546467,
           0.5891012997521897,
           0.474249228746273,
           0.347867799524608,
           0.20911040307490497,
           0.05713043038487338,
           -0.10891872755777496,
           -0.28988367976532997,
           -0.4866110352500812,
           -0.6999474030243181,
           -0.9307393921003311,
           -1.1798336114904089,
           -1.4480766702068393,
           -1.736315177261915,
           -2.0453957416679223,
           -2.376164972437154,
           -2.7294694785818985,
           -3.106155869114442,
           -3.5070707530470795,
           -3.9330607393920944,
           -4.3849724371617835,
           -4.863652455368431,
           -5.369947403024326
          ],
          [
           2.0287508218277464,
           1.9766570576038032,
           1.9282728973853225,
           1.8827517321600142,
           1.8392469529155895,
           1.7969119506397582,
           1.7549001163202318,
           1.7123648409447196,
           1.6684595155009325,
           1.6223375309765817,
           1.5731522783593765,
           1.520057148637028,
           1.4622055327972472,
           1.398750821827744,
           1.328846406716229,
           1.2516456784504129,
           1.1663020280180052,
           1.071968846406718,
           0.9677995246042611,
           0.8529474535983445,
           0.7265660243766796,
           0.5878086279269763,
           0.4358286552369448,
           0.2697794972942966,
           0.08881454508674147,
           -0.10791281039800968,
           -0.3212491781722468,
           -0.5520411672482597,
           -0.8011353866383373,
           -1.0693784453547677,
           -1.3576169524098436,
           -1.6666975168158509,
           -1.997466747585083,
           -2.3507712537298273,
           -2.727457644262371,
           -3.1283725281950083,
           -3.5543625145400233,
           -4.006274212309712,
           -4.48495423051636,
           -4.9912491781722546
          ],
          [
           2.449526627218935,
           2.3974328629949917,
           2.3490487027765106,
           2.303527537551203,
           2.2600227583067785,
           2.2176877560309474,
           2.1756759217114205,
           2.1331406463359084,
           2.0892353208921217,
           2.043113336367769,
           1.9939280837505646,
           1.9408329540282165,
           1.8829813381884357,
           1.8195266272189325,
           1.7496222121074174,
           1.6724214838416014,
           1.5870778334091937,
           1.4927446517979066,
           1.3885753299954497,
           1.273723258989533,
           1.147341829767868,
           1.0085844333181644,
           0.8566044606281334,
           0.6905553026854852,
           0.50959035047793,
           0.31286299499317866,
           0.09952662721894162,
           -0.13126536185707138,
           -0.3803595812471489,
           -0.6486026399635794,
           -0.9368411470186552,
           -1.2459217114246628,
           -1.5766909421938946,
           -1.9299954483386386,
           -2.3066818388711825,
           -2.70759672280382,
           -3.133586709148835,
           -3.5854984069185236,
           -4.064178425125172,
           -4.570473372781066
          ],
          [
           2.912380013149244,
           2.8602862489253016,
           2.8119020887068196,
           2.766380923481512,
           2.7228761442370875,
           2.6805411419612564,
           2.6385293076417295,
           2.5959940322662174,
           2.5520887068224307,
           2.505966722298079,
           2.4567814696808736,
           2.4036863399585258,
           2.3458347241187445,
           2.2823800131492415,
           2.2124755980377264,
           2.1352748697719104,
           2.0499312193395034,
           1.9555980377282154,
           1.8514287159257588,
           1.7365766449198416,
           1.6101952156981767,
           1.4714378192484734,
           1.3194578465584423,
           1.1534086886157937,
           0.9724437364082388,
           0.7757163809234879,
           0.5623800131492507,
           0.3315880240732371,
           0.08249380468315981,
           -0.18574925403327047,
           -0.4739877610883465,
           -0.783068325494354,
           -1.1138375562635858,
           -1.46714206240833,
           -1.843828452940874,
           -2.244743336873511,
           -2.670733323218527,
           -3.122645020988215,
           -3.6013250391948635,
           -4.107619986850757
          ],
          [
           3.417310979618673,
           3.36521721539473,
           3.316833055176249,
           3.271311889950941,
           3.227807110706516,
           3.1854721084306847,
           3.143460274111158,
           3.1009249987356458,
           3.057019673291859,
           3.0108976887675074,
           2.961712436150302,
           2.908617306427954,
           2.850765690588173,
           2.78731097961867,
           2.717406564507155,
           2.6402058362413388,
           2.5548621858089318,
           2.4605290041976438,
           2.356359682395187,
           2.2415076113892702,
           2.1151261821676055,
           1.9763687857179022,
           1.8243888130278707,
           1.658339655085222,
           1.4773747028776667,
           1.2806473473929159,
           1.0673109796186788,
           0.8365189905426655,
           0.587424771152588,
           0.31918171243615745,
           0.03094320538108164,
           -0.27813735902492553,
           -0.6089065897941579,
           -0.962211095938902,
           -1.3388974864714456,
           -1.739812370404083,
           -2.165802356749099,
           -2.6177140545187867,
           -3.096394072725435,
           -3.6026890203813298
          ],
          [
           3.9643195266272198,
           3.9122257624032777,
           3.863841602184796,
           3.8183204369594885,
           3.7748156577150636,
           3.732480655439232,
           3.690468821119705,
           3.647933545744193,
           3.6040282203004064,
           3.5579062357760547,
           3.5087209831588497,
           3.4556258534365014,
           3.39777423759672,
           3.334319526627217,
           3.264415111515702,
           3.187214383249886,
           3.1018707328174786,
           3.007537551206191,
           2.903368229403734,
           2.7885161583978175,
           2.662134729176153,
           2.5233773327264495,
           2.3713973600364175,
           2.2053482020937687,
           2.0243832498862138,
           1.827655894401463,
           1.614319526627226,
           1.3835275375512128,
           1.134433318161135,
           0.8661902594447042,
           0.5779517523896285,
           0.268871187983621,
           -0.06189804278561062,
           -0.4152025489303549,
           -0.7918889394628987,
           -1.1928038233955363,
           -1.6187938097405516,
           -2.07070550751024,
           -2.5493855257168883,
           -3.0556804733727825
          ],
          [
           4.553405654174887,
           4.501311889950944,
           4.452927729732464,
           4.407406564507156,
           4.3639017852627315,
           4.3215667829869,
           4.279554948667373,
           4.237019673291861,
           4.193114347848074,
           4.146992363323722,
           4.097807110706517,
           4.044711980984169,
           3.9868603651443877,
           3.9234056541748847,
           3.8535012390633696,
           3.7763005107975536,
           3.6909568603651457,
           3.5966236787538586,
           3.4924543569514017,
           3.377602285945485,
           3.2512208567238203,
           3.1124634602741166,
           2.9604834875840846,
           2.7944343296414362,
           2.6134693774338813,
           2.4167420219491302,
           2.203405654174893,
           1.97261366509888,
           1.7235194457088021,
           1.455276386992372,
           1.167037879937296,
           0.8579573155312883,
           0.5271880847620566,
           0.17388357861731274,
           -0.20280281191523164,
           -0.6037176958478687,
           -1.0297076821928846,
           -1.4816193799625725,
           -1.960299398169221,
           -2.466594345825115
          ],
          [
           5.18456936226167,
           5.132475598037726,
           5.084091437819246,
           5.038570272593938,
           4.9950654933495136,
           4.952730491073682,
           4.910718656754155,
           4.868183381378643,
           4.824278055934856,
           4.778156071410504,
           4.728970818793299,
           4.675875689070951,
           4.618024073231169,
           4.554569362261667,
           4.484664947150152,
           4.407464218884336,
           4.322120568451928,
           4.2277873868406415,
           4.123618065038183,
           4.008765994032267,
           3.8823845648106015,
           3.7436271683608986,
           3.5916471956708667,
           3.4255980377282182,
           3.244633085520663,
           3.047905730035912,
           2.834569362261675,
           2.603777373185661,
           2.354683153795584,
           2.0864400950791535,
           1.798201588024078,
           1.4891210236180705,
           1.1583517928488387,
           0.8050472867040939,
           0.42836089617154993,
           0.027446012238912854,
           -0.39854397410610254,
           -0.850455671875791,
           -1.3291356900824394,
           -1.8354306377383338
          ],
          [
           5.857810650887574,
           5.805716886663631,
           5.757332726445149,
           5.711811561219841,
           5.668306781975417,
           5.625971779699586,
           5.583959945380059,
           5.541424670004546,
           5.49751934456076,
           5.451397360036409,
           5.402212107419203,
           5.349116977696855,
           5.291265361857073,
           5.22781065088757,
           5.157906235776055,
           5.080705507510239,
           4.995361857077832,
           4.901028675466544,
           4.796859353664087,
           4.68200728265817,
           4.555625853436505,
           4.416868456986802,
           4.264888484296771,
           4.098839326354121,
           3.917874374146567,
           3.7211470186618145,
           3.5078106508875777,
           3.277018661811565,
           3.0279244424214875,
           2.7596813837050567,
           2.4714428766499816,
           2.1623623122439732,
           1.8315930814747414,
           1.4782885753299977,
           1.1016021847974533,
           0.700687300864816,
           0.2746973145198006,
           -0.1772143832498878,
           -0.6558944014565367,
           -1.1621893491124307
          ],
          [
           6.573129520052598,
           6.521035755828655,
           6.4726515956101744,
           6.4271304303848655,
           6.3836256511404414,
           6.34129064886461,
           6.299278814545083,
           6.2567435391695705,
           6.212838213725785,
           6.166716229201433,
           6.117530976584227,
           6.064435846861879,
           6.006584231022098,
           5.943129520052595,
           5.8732251049410795,
           5.7960243766752635,
           5.710680726242856,
           5.6163475446315685,
           5.51217822282911,
           5.3973261518231945,
           5.270944722601529,
           5.1321873261518265,
           4.980207353461795,
           4.814158195519146,
           4.633193243311591,
           4.436465887826839,
           4.223129520052602,
           3.992337530976589,
           3.743243311586511,
           3.47500025287008,
           3.186761745815005,
           2.8776811814089966,
           2.546911950639765,
           2.1936074444950213,
           1.8169210539624776,
           1.4160061700298403,
           0.9900161836848242,
           0.5381044859151363,
           0.05942446770848697,
           -0.44687047994740725
          ],
          [
           7.330525969756741,
           7.278432205532798,
           7.230048045314318,
           7.18452688008901,
           7.141022100844585,
           7.098687098568753,
           7.056675264249226,
           7.014139988873714,
           6.970234663429928,
           6.924112678905576,
           6.87492742628837,
           6.821832296566022,
           6.76398068072624,
           6.700525969756738,
           6.630621554645223,
           6.553420826379407,
           6.468077175946999,
           6.373743994335712,
           6.2695746725332535,
           6.154722601527338,
           6.028341172305672,
           5.88958377585597,
           5.737603803165938,
           5.571554645223288,
           5.390589693015734,
           5.193862337530982,
           4.980525969756745,
           4.749733980680732,
           4.500639761290655,
           4.232396702574222,
           3.944158195519147,
           3.6350776311131394,
           3.30430840034391,
           2.9510038941991645,
           2.57431750366662,
           2.1734026197339826,
           1.747412633388968,
           1.2955009356192786,
           0.8168209174126302,
           0.31052596975673596
          ],
          [
           8.130000000000003,
           8.077906235776059,
           8.02952207555758,
           7.984000910332272,
           7.940496131087846,
           7.8981611288120135,
           7.856149294492487,
           7.813614019116974,
           7.769708693673189,
           7.723586709148837,
           7.674401456531632,
           7.621306326809282,
           7.5634547109695,
           7.499999999999998,
           7.430095584888483,
           7.352894856622667,
           7.267551206190259,
           7.173218024578972,
           7.069048702776514,
           6.954196631770598,
           6.8278152025489325,
           6.68905780609923,
           6.537077833409198,
           6.371028675466548,
           6.190063723258994,
           5.993336367774242,
           5.780000000000006,
           5.549208010923991,
           5.3001137915339145,
           5.031870732817483,
           4.743632225762408,
           4.434551661356401,
           4.10378243058717,
           3.750477924442424,
           3.3737915339098796,
           2.9728766499772434,
           2.546886663632227,
           2.0949749658625394,
           1.6162949476558897,
           1.1099999999999954
          ]
         ]
        }
       ],
       "layout": {
        "legend": {
         "tracegroupgap": 0
        },
        "margin": {
         "t": 60
        },
        "scene": {
         "domain": {
          "x": [
           0,
           1
          ],
          "y": [
           0,
           1
          ]
         },
         "xaxis": {
          "title": {
           "text": "x"
          }
         },
         "yaxis": {
          "title": {
           "text": "y"
          }
         },
         "zaxis": {
          "title": {
           "text": "z"
          }
         }
        },
        "template": {
         "data": {
          "bar": [
           {
            "error_x": {
             "color": "#2a3f5f"
            },
            "error_y": {
             "color": "#2a3f5f"
            },
            "marker": {
             "line": {
              "color": "#E5ECF6",
              "width": 0.5
             },
             "pattern": {
              "fillmode": "overlay",
              "size": 10,
              "solidity": 0.2
             }
            },
            "type": "bar"
           }
          ],
          "barpolar": [
           {
            "marker": {
             "line": {
              "color": "#E5ECF6",
              "width": 0.5
             },
             "pattern": {
              "fillmode": "overlay",
              "size": 10,
              "solidity": 0.2
             }
            },
            "type": "barpolar"
           }
          ],
          "carpet": [
           {
            "aaxis": {
             "endlinecolor": "#2a3f5f",
             "gridcolor": "white",
             "linecolor": "white",
             "minorgridcolor": "white",
             "startlinecolor": "#2a3f5f"
            },
            "baxis": {
             "endlinecolor": "#2a3f5f",
             "gridcolor": "white",
             "linecolor": "white",
             "minorgridcolor": "white",
             "startlinecolor": "#2a3f5f"
            },
            "type": "carpet"
           }
          ],
          "choropleth": [
           {
            "colorbar": {
             "outlinewidth": 0,
             "ticks": ""
            },
            "type": "choropleth"
           }
          ],
          "contour": [
           {
            "colorbar": {
             "outlinewidth": 0,
             "ticks": ""
            },
            "colorscale": [
             [
              0,
              "#0d0887"
             ],
             [
              0.1111111111111111,
              "#46039f"
             ],
             [
              0.2222222222222222,
              "#7201a8"
             ],
             [
              0.3333333333333333,
              "#9c179e"
             ],
             [
              0.4444444444444444,
              "#bd3786"
             ],
             [
              0.5555555555555556,
              "#d8576b"
             ],
             [
              0.6666666666666666,
              "#ed7953"
             ],
             [
              0.7777777777777778,
              "#fb9f3a"
             ],
             [
              0.8888888888888888,
              "#fdca26"
             ],
             [
              1,
              "#f0f921"
             ]
            ],
            "type": "contour"
           }
          ],
          "contourcarpet": [
           {
            "colorbar": {
             "outlinewidth": 0,
             "ticks": ""
            },
            "type": "contourcarpet"
           }
          ],
          "heatmap": [
           {
            "colorbar": {
             "outlinewidth": 0,
             "ticks": ""
            },
            "colorscale": [
             [
              0,
              "#0d0887"
             ],
             [
              0.1111111111111111,
              "#46039f"
             ],
             [
              0.2222222222222222,
              "#7201a8"
             ],
             [
              0.3333333333333333,
              "#9c179e"
             ],
             [
              0.4444444444444444,
              "#bd3786"
             ],
             [
              0.5555555555555556,
              "#d8576b"
             ],
             [
              0.6666666666666666,
              "#ed7953"
             ],
             [
              0.7777777777777778,
              "#fb9f3a"
             ],
             [
              0.8888888888888888,
              "#fdca26"
             ],
             [
              1,
              "#f0f921"
             ]
            ],
            "type": "heatmap"
           }
          ],
          "heatmapgl": [
           {
            "colorbar": {
             "outlinewidth": 0,
             "ticks": ""
            },
            "colorscale": [
             [
              0,
              "#0d0887"
             ],
             [
              0.1111111111111111,
              "#46039f"
             ],
             [
              0.2222222222222222,
              "#7201a8"
             ],
             [
              0.3333333333333333,
              "#9c179e"
             ],
             [
              0.4444444444444444,
              "#bd3786"
             ],
             [
              0.5555555555555556,
              "#d8576b"
             ],
             [
              0.6666666666666666,
              "#ed7953"
             ],
             [
              0.7777777777777778,
              "#fb9f3a"
             ],
             [
              0.8888888888888888,
              "#fdca26"
             ],
             [
              1,
              "#f0f921"
             ]
            ],
            "type": "heatmapgl"
           }
          ],
          "histogram": [
           {
            "marker": {
             "pattern": {
              "fillmode": "overlay",
              "size": 10,
              "solidity": 0.2
             }
            },
            "type": "histogram"
           }
          ],
          "histogram2d": [
           {
            "colorbar": {
             "outlinewidth": 0,
             "ticks": ""
            },
            "colorscale": [
             [
              0,
              "#0d0887"
             ],
             [
              0.1111111111111111,
              "#46039f"
             ],
             [
              0.2222222222222222,
              "#7201a8"
             ],
             [
              0.3333333333333333,
              "#9c179e"
             ],
             [
              0.4444444444444444,
              "#bd3786"
             ],
             [
              0.5555555555555556,
              "#d8576b"
             ],
             [
              0.6666666666666666,
              "#ed7953"
             ],
             [
              0.7777777777777778,
              "#fb9f3a"
             ],
             [
              0.8888888888888888,
              "#fdca26"
             ],
             [
              1,
              "#f0f921"
             ]
            ],
            "type": "histogram2d"
           }
          ],
          "histogram2dcontour": [
           {
            "colorbar": {
             "outlinewidth": 0,
             "ticks": ""
            },
            "colorscale": [
             [
              0,
              "#0d0887"
             ],
             [
              0.1111111111111111,
              "#46039f"
             ],
             [
              0.2222222222222222,
              "#7201a8"
             ],
             [
              0.3333333333333333,
              "#9c179e"
             ],
             [
              0.4444444444444444,
              "#bd3786"
             ],
             [
              0.5555555555555556,
              "#d8576b"
             ],
             [
              0.6666666666666666,
              "#ed7953"
             ],
             [
              0.7777777777777778,
              "#fb9f3a"
             ],
             [
              0.8888888888888888,
              "#fdca26"
             ],
             [
              1,
              "#f0f921"
             ]
            ],
            "type": "histogram2dcontour"
           }
          ],
          "mesh3d": [
           {
            "colorbar": {
             "outlinewidth": 0,
             "ticks": ""
            },
            "type": "mesh3d"
           }
          ],
          "parcoords": [
           {
            "line": {
             "colorbar": {
              "outlinewidth": 0,
              "ticks": ""
             }
            },
            "type": "parcoords"
           }
          ],
          "pie": [
           {
            "automargin": true,
            "type": "pie"
           }
          ],
          "scatter": [
           {
            "fillpattern": {
             "fillmode": "overlay",
             "size": 10,
             "solidity": 0.2
            },
            "type": "scatter"
           }
          ],
          "scatter3d": [
           {
            "line": {
             "colorbar": {
              "outlinewidth": 0,
              "ticks": ""
             }
            },
            "marker": {
             "colorbar": {
              "outlinewidth": 0,
              "ticks": ""
             }
            },
            "type": "scatter3d"
           }
          ],
          "scattercarpet": [
           {
            "marker": {
             "colorbar": {
              "outlinewidth": 0,
              "ticks": ""
             }
            },
            "type": "scattercarpet"
           }
          ],
          "scattergeo": [
           {
            "marker": {
             "colorbar": {
              "outlinewidth": 0,
              "ticks": ""
             }
            },
            "type": "scattergeo"
           }
          ],
          "scattergl": [
           {
            "marker": {
             "colorbar": {
              "outlinewidth": 0,
              "ticks": ""
             }
            },
            "type": "scattergl"
           }
          ],
          "scattermapbox": [
           {
            "marker": {
             "colorbar": {
              "outlinewidth": 0,
              "ticks": ""
             }
            },
            "type": "scattermapbox"
           }
          ],
          "scatterpolar": [
           {
            "marker": {
             "colorbar": {
              "outlinewidth": 0,
              "ticks": ""
             }
            },
            "type": "scatterpolar"
           }
          ],
          "scatterpolargl": [
           {
            "marker": {
             "colorbar": {
              "outlinewidth": 0,
              "ticks": ""
             }
            },
            "type": "scatterpolargl"
           }
          ],
          "scatterternary": [
           {
            "marker": {
             "colorbar": {
              "outlinewidth": 0,
              "ticks": ""
             }
            },
            "type": "scatterternary"
           }
          ],
          "surface": [
           {
            "colorbar": {
             "outlinewidth": 0,
             "ticks": ""
            },
            "colorscale": [
             [
              0,
              "#0d0887"
             ],
             [
              0.1111111111111111,
              "#46039f"
             ],
             [
              0.2222222222222222,
              "#7201a8"
             ],
             [
              0.3333333333333333,
              "#9c179e"
             ],
             [
              0.4444444444444444,
              "#bd3786"
             ],
             [
              0.5555555555555556,
              "#d8576b"
             ],
             [
              0.6666666666666666,
              "#ed7953"
             ],
             [
              0.7777777777777778,
              "#fb9f3a"
             ],
             [
              0.8888888888888888,
              "#fdca26"
             ],
             [
              1,
              "#f0f921"
             ]
            ],
            "type": "surface"
           }
          ],
          "table": [
           {
            "cells": {
             "fill": {
              "color": "#EBF0F8"
             },
             "line": {
              "color": "white"
             }
            },
            "header": {
             "fill": {
              "color": "#C8D4E3"
             },
             "line": {
              "color": "white"
             }
            },
            "type": "table"
           }
          ]
         },
         "layout": {
          "annotationdefaults": {
           "arrowcolor": "#2a3f5f",
           "arrowhead": 0,
           "arrowwidth": 1
          },
          "autotypenumbers": "strict",
          "coloraxis": {
           "colorbar": {
            "outlinewidth": 0,
            "ticks": ""
           }
          },
          "colorscale": {
           "diverging": [
            [
             0,
             "#8e0152"
            ],
            [
             0.1,
             "#c51b7d"
            ],
            [
             0.2,
             "#de77ae"
            ],
            [
             0.3,
             "#f1b6da"
            ],
            [
             0.4,
             "#fde0ef"
            ],
            [
             0.5,
             "#f7f7f7"
            ],
            [
             0.6,
             "#e6f5d0"
            ],
            [
             0.7,
             "#b8e186"
            ],
            [
             0.8,
             "#7fbc41"
            ],
            [
             0.9,
             "#4d9221"
            ],
            [
             1,
             "#276419"
            ]
           ],
           "sequential": [
            [
             0,
             "#0d0887"
            ],
            [
             0.1111111111111111,
             "#46039f"
            ],
            [
             0.2222222222222222,
             "#7201a8"
            ],
            [
             0.3333333333333333,
             "#9c179e"
            ],
            [
             0.4444444444444444,
             "#bd3786"
            ],
            [
             0.5555555555555556,
             "#d8576b"
            ],
            [
             0.6666666666666666,
             "#ed7953"
            ],
            [
             0.7777777777777778,
             "#fb9f3a"
            ],
            [
             0.8888888888888888,
             "#fdca26"
            ],
            [
             1,
             "#f0f921"
            ]
           ],
           "sequentialminus": [
            [
             0,
             "#0d0887"
            ],
            [
             0.1111111111111111,
             "#46039f"
            ],
            [
             0.2222222222222222,
             "#7201a8"
            ],
            [
             0.3333333333333333,
             "#9c179e"
            ],
            [
             0.4444444444444444,
             "#bd3786"
            ],
            [
             0.5555555555555556,
             "#d8576b"
            ],
            [
             0.6666666666666666,
             "#ed7953"
            ],
            [
             0.7777777777777778,
             "#fb9f3a"
            ],
            [
             0.8888888888888888,
             "#fdca26"
            ],
            [
             1,
             "#f0f921"
            ]
           ]
          },
          "colorway": [
           "#636efa",
           "#EF553B",
           "#00cc96",
           "#ab63fa",
           "#FFA15A",
           "#19d3f3",
           "#FF6692",
           "#B6E880",
           "#FF97FF",
           "#FECB52"
          ],
          "font": {
           "color": "#2a3f5f"
          },
          "geo": {
           "bgcolor": "white",
           "lakecolor": "white",
           "landcolor": "#E5ECF6",
           "showlakes": true,
           "showland": true,
           "subunitcolor": "white"
          },
          "hoverlabel": {
           "align": "left"
          },
          "hovermode": "closest",
          "mapbox": {
           "style": "light"
          },
          "paper_bgcolor": "white",
          "plot_bgcolor": "#E5ECF6",
          "polar": {
           "angularaxis": {
            "gridcolor": "white",
            "linecolor": "white",
            "ticks": ""
           },
           "bgcolor": "#E5ECF6",
           "radialaxis": {
            "gridcolor": "white",
            "linecolor": "white",
            "ticks": ""
           }
          },
          "scene": {
           "xaxis": {
            "backgroundcolor": "#E5ECF6",
            "gridcolor": "white",
            "gridwidth": 2,
            "linecolor": "white",
            "showbackground": true,
            "ticks": "",
            "zerolinecolor": "white"
           },
           "yaxis": {
            "backgroundcolor": "#E5ECF6",
            "gridcolor": "white",
            "gridwidth": 2,
            "linecolor": "white",
            "showbackground": true,
            "ticks": "",
            "zerolinecolor": "white"
           },
           "zaxis": {
            "backgroundcolor": "#E5ECF6",
            "gridcolor": "white",
            "gridwidth": 2,
            "linecolor": "white",
            "showbackground": true,
            "ticks": "",
            "zerolinecolor": "white"
           }
          },
          "shapedefaults": {
           "line": {
            "color": "#2a3f5f"
           }
          },
          "ternary": {
           "aaxis": {
            "gridcolor": "white",
            "linecolor": "white",
            "ticks": ""
           },
           "baxis": {
            "gridcolor": "white",
            "linecolor": "white",
            "ticks": ""
           },
           "bgcolor": "#E5ECF6",
           "caxis": {
            "gridcolor": "white",
            "linecolor": "white",
            "ticks": ""
           }
          },
          "title": {
           "x": 0.05
          },
          "xaxis": {
           "automargin": true,
           "gridcolor": "white",
           "linecolor": "white",
           "ticks": "",
           "title": {
            "standoff": 15
           },
           "zerolinecolor": "white",
           "zerolinewidth": 2
          },
          "yaxis": {
           "automargin": true,
           "gridcolor": "white",
           "linecolor": "white",
           "ticks": "",
           "title": {
            "standoff": 15
           },
           "zerolinecolor": "white",
           "zerolinewidth": 2
          }
         }
        }
       }
      }
     },
     "metadata": {},
     "output_type": "display_data"
    }
   ],
   "source": [
    "x, y, z, p = read_xypzdata(\"data/tmp44\")\n",
    "\n",
    "func = LeastSquare2D(x, y, z, p, 3)\n",
    "\n",
    "x_pred = np.linspace(min(x), max(x), 40)\n",
    "y_pred = np.linspace(min(y), max(y), 40)\n",
    "z_graph = [[func(xi, yi) for xi in x_pred] for yi in y_pred]\n",
    "\n",
    "fig = px.scatter_3d(x=x, y=y, z=z)\n",
    "fig.add_trace(go.Surface(x=x_pred, y=y_pred, z=z_graph))\n",
    "fig.show()"
   ]
  },
  {
   "cell_type": "code",
   "execution_count": 9,
   "metadata": {},
   "outputs": [
    {
     "data": {
      "application/vnd.plotly.v1+json": {
       "config": {
        "plotlyServerURL": "https://plot.ly"
       },
       "data": [
        {
         "hovertemplate": "x=%{x}<br>y=%{y}<br>z=%{z}<extra></extra>",
         "legendgroup": "",
         "marker": {
          "color": "#636efa",
          "symbol": "circle"
         },
         "mode": "markers",
         "name": "",
         "scene": "scene",
         "showlegend": false,
         "type": "scatter3d",
         "x": [
          -2,
          -2,
          -2,
          -2,
          -2,
          -2,
          -2,
          -2,
          -2,
          -2,
          -1.4444444444444444,
          -1.4444444444444444,
          -1.4444444444444444,
          -1.4444444444444444,
          -1.4444444444444444,
          -1.4444444444444444,
          -1.4444444444444444,
          -1.4444444444444444,
          -1.4444444444444444,
          -1.4444444444444444,
          -0.8888888888888888,
          -0.8888888888888888,
          -0.8888888888888888,
          -0.8888888888888888,
          -0.8888888888888888,
          -0.8888888888888888,
          -0.8888888888888888,
          -0.8888888888888888,
          -0.8888888888888888,
          -0.8888888888888888,
          -0.33333333333333326,
          -0.33333333333333326,
          -0.33333333333333326,
          -0.33333333333333326,
          -0.33333333333333326,
          -0.33333333333333326,
          -0.33333333333333326,
          -0.33333333333333326,
          -0.33333333333333326,
          -0.33333333333333326,
          0.22222222222222232,
          0.22222222222222232,
          0.22222222222222232,
          0.22222222222222232,
          0.22222222222222232,
          0.22222222222222232,
          0.22222222222222232,
          0.22222222222222232,
          0.22222222222222232,
          0.22222222222222232,
          0.7777777777777777,
          0.7777777777777777,
          0.7777777777777777,
          0.7777777777777777,
          0.7777777777777777,
          0.7777777777777777,
          0.7777777777777777,
          0.7777777777777777,
          0.7777777777777777,
          0.7777777777777777,
          1.3333333333333335,
          1.3333333333333335,
          1.3333333333333335,
          1.3333333333333335,
          1.3333333333333335,
          1.3333333333333335,
          1.3333333333333335,
          1.3333333333333335,
          1.3333333333333335,
          1.3333333333333335,
          1.8888888888888893,
          1.8888888888888893,
          1.8888888888888893,
          1.8888888888888893,
          1.8888888888888893,
          1.8888888888888893,
          1.8888888888888893,
          1.8888888888888893,
          1.8888888888888893,
          1.8888888888888893,
          2.4444444444444446,
          2.4444444444444446,
          2.4444444444444446,
          2.4444444444444446,
          2.4444444444444446,
          2.4444444444444446,
          2.4444444444444446,
          2.4444444444444446,
          2.4444444444444446,
          2.4444444444444446,
          3,
          3,
          3,
          3,
          3,
          3,
          3,
          3,
          3,
          3
         ],
         "y": [
          -2,
          -1.4444444444444444,
          -0.8888888888888888,
          -0.33333333333333326,
          0.22222222222222232,
          0.7777777777777777,
          1.3333333333333335,
          1.8888888888888893,
          2.4444444444444446,
          3,
          -2,
          -1.4444444444444444,
          -0.8888888888888888,
          -0.33333333333333326,
          0.22222222222222232,
          0.7777777777777777,
          1.3333333333333335,
          1.8888888888888893,
          2.4444444444444446,
          3,
          -2,
          -1.4444444444444444,
          -0.8888888888888888,
          -0.33333333333333326,
          0.22222222222222232,
          0.7777777777777777,
          1.3333333333333335,
          1.8888888888888893,
          2.4444444444444446,
          3,
          -2,
          -1.4444444444444444,
          -0.8888888888888888,
          -0.33333333333333326,
          0.22222222222222232,
          0.7777777777777777,
          1.3333333333333335,
          1.8888888888888893,
          2.4444444444444446,
          3,
          -2,
          -1.4444444444444444,
          -0.8888888888888888,
          -0.33333333333333326,
          0.22222222222222232,
          0.7777777777777777,
          1.3333333333333335,
          1.8888888888888893,
          2.4444444444444446,
          3,
          -2,
          -1.4444444444444444,
          -0.8888888888888888,
          -0.33333333333333326,
          0.22222222222222232,
          0.7777777777777777,
          1.3333333333333335,
          1.8888888888888893,
          2.4444444444444446,
          3,
          -2,
          -1.4444444444444444,
          -0.8888888888888888,
          -0.33333333333333326,
          0.22222222222222232,
          0.7777777777777777,
          1.3333333333333335,
          1.8888888888888893,
          2.4444444444444446,
          3,
          -2,
          -1.4444444444444444,
          -0.8888888888888888,
          -0.33333333333333326,
          0.22222222222222232,
          0.7777777777777777,
          1.3333333333333335,
          1.8888888888888893,
          2.4444444444444446,
          3,
          -2,
          -1.4444444444444444,
          -0.8888888888888888,
          -0.33333333333333326,
          0.22222222222222232,
          0.7777777777777777,
          1.3333333333333335,
          1.8888888888888893,
          2.4444444444444446,
          3,
          -2,
          -1.4444444444444444,
          -0.8888888888888888,
          -0.33333333333333326,
          0.22222222222222232,
          0.7777777777777777,
          1.3333333333333335,
          1.8888888888888893,
          2.4444444444444446,
          3
         ],
         "z": [
          0.37840124765396416,
          0.4128294034568874,
          0.32308471903329683,
          0.13616103800672014,
          -0.09171782372139398,
          -0.29200935137031236,
          -0.40446888297261113,
          -0.39527029245134954,
          -0.2671803767002113,
          -0.05872664492762098,
          -0.11458598231497819,
          -0.12501138148168137,
          -0.09783524798322957,
          -0.04123175171794035,
          0.027773631805037308,
          0.08842512697665608,
          0.12247968144555635,
          0.11969420032643519,
          0.08090651420757516,
          0.01778337238266208,
          -0.5731074819966595,
          -0.625250633755095,
          -0.4893278522329185,
          -0.2062226541849124,
          0.13891119898010973,
          0.44226266462090597,
          0.6125882102757024,
          0.598656488104481,
          0.4046579494093085,
          0.08894442026617923,
          -0.8592469197450449,
          -0.9374239527478967,
          -0.733638039956778,
          -0.30918490153486844,
          0.20826637863095634,
          0.6630742822791559,
          0.9184394712798308,
          0.8975519593585757,
          0.606694394163085,
          0.1333523318801633,
          -0.8869378807444431,
          -0.9676343259467277,
          -0.7572810020498466,
          -0.31914900714090916,
          0.21497818176417788,
          0.6844431852898809,
          0.9480380313620294,
          0.9264773773384347,
          0.6262463418294304,
          0.1376498791118346,
          -0.6478513427713781,
          -0.7067949300463933,
          -0.553145293130859,
          -0.23311791875080037,
          0.1570277995180156,
          0.4999419308470512,
          0.6924810913484852,
          0.6767324138328841,
          0.4574328622871843,
          0.10054442475731257,
          -0.21390092009712575,
          -0.23336230995550916,
          -0.18263184674734667,
          -0.07696848647193416,
          0.05184583033207299,
          0.16506570557661945,
          0.2286363133179058,
          0.2234365762972344,
          0.15103049676076602,
          0.03319672824050144,
          0.284387663941397,
          0.3102621632019208,
          0.24281449670341573,
          0.10233190233552669,
          -0.06893058041333026,
          -0.2194597871970725,
          -0.30397880947463135,
          -0.29706560375421237,
          -0.2007995577494485,
          -0.04413604200733152,
          0.6971367402285671,
          0.7605644706003215,
          0.5952259122847939,
          0.25085240276201953,
          -0.16897371519361876,
          -0.5379750954645808,
          -0.7451617042691904,
          -0.7282149435213139,
          -0.4922321425223097,
          -0.10819335840784802,
          0.9001976297355174,
          0.9821004893114402,
          0.7686023766589254,
          0.32392029475564843,
          -0.21819211228923108,
          -0.6946756322657365,
          -0.9622112295112635,
          -0.9403282430372877,
          -0.6356087441797134,
          -0.13970774909946293
         ]
        },
        {
         "type": "surface",
         "x": [
          -2,
          -1.8717948717948718,
          -1.7435897435897436,
          -1.6153846153846154,
          -1.4871794871794872,
          -1.358974358974359,
          -1.2307692307692308,
          -1.1025641025641026,
          -0.9743589743589745,
          -0.8461538461538463,
          -0.7179487179487181,
          -0.5897435897435899,
          -0.4615384615384617,
          -0.3333333333333335,
          -0.2051282051282053,
          -0.0769230769230771,
          0.0512820512820511,
          0.1794871794871793,
          0.3076923076923075,
          0.4358974358974357,
          0.5641025641025639,
          0.6923076923076921,
          0.8205128205128203,
          0.9487179487179485,
          1.0769230769230766,
          1.2051282051282048,
          1.333333333333333,
          1.4615384615384612,
          1.5897435897435894,
          1.7179487179487176,
          1.8461538461538458,
          1.974358974358974,
          2.102564102564102,
          2.23076923076923,
          2.3589743589743586,
          2.4871794871794872,
          2.615384615384615,
          2.7435897435897427,
          2.8717948717948714,
          3
         ],
         "y": [
          -2,
          -1.8717948717948718,
          -1.7435897435897436,
          -1.6153846153846154,
          -1.4871794871794872,
          -1.358974358974359,
          -1.2307692307692308,
          -1.1025641025641026,
          -0.9743589743589745,
          -0.8461538461538463,
          -0.7179487179487181,
          -0.5897435897435899,
          -0.4615384615384617,
          -0.3333333333333335,
          -0.2051282051282053,
          -0.0769230769230771,
          0.0512820512820511,
          0.1794871794871793,
          0.3076923076923075,
          0.4358974358974357,
          0.5641025641025639,
          0.6923076923076921,
          0.8205128205128203,
          0.9487179487179485,
          1.0769230769230766,
          1.2051282051282048,
          1.333333333333333,
          1.4615384615384612,
          1.5897435897435894,
          1.7179487179487176,
          1.8461538461538458,
          1.974358974358974,
          2.102564102564102,
          2.23076923076923,
          2.3589743589743586,
          2.4871794871794872,
          2.615384615384615,
          2.7435897435897427,
          2.8717948717948714,
          3
         ],
         "z": [
          [
           0.29816451795187116,
           0.24714538708050462,
           0.17296612526266067,
           0.0815807547492898,
           -0.021655336331895016,
           -0.13195417225538636,
           -0.24506502529935528,
           -0.35724530866963744,
           -0.465232526746223,
           -0.5662172826522519,
           -0.657817343145523,
           -0.7380527608325028,
           -0.8053220537048489,
           -0.8583794419984343,
           -0.8963131423748845,
           -0.9185247194256179,
           -0.9247094944983971,
           -0.9148380118463841,
           -0.8891385620997065,
           -0.8480807630595271,
           -0.7923601978146251,
           -0.7228841101804809,
           -0.6407581574608727,
           -0.5472742205319727,
           -0.4438992712489625,
           -0.33226529717514447,
           -0.2141602836335654,
           -0.09152025308115128,
           0.033577638194659504,
           0.1589209460567666,
           0.28216672717675556,
           0.4008452703707398,
           0.512362770612689,
           0.6140029457252552,
           0.702927595748093,
           0.7761761049836641,
           0.8306638867205429,
           0.8631797706342125,
           0.8703823328653533,
           0.8487951687756146
          ],
          [
           0.37053648282901475,
           0.29163389687942126,
           0.19404141665278665,
           0.08323062129047507,
           -0.03589446851471032,
           -0.15896678299756437,
           -0.2821266531220179,
           -0.40199331770519364,
           -0.5156374878639582,
           -0.6205549687839891,
           -0.7146413388113451,
           -0.7961676858665466,
           -0.863757401181163,
           -0.9163640303569032,
           -0.9532501817472222,
           -0.9739674921614252,
           -0.9783376498912862,
           -0.9664344750601725,
           -0.938567057294673,
           -0.8952639507187389,
           -0.8372584262703275,
           -0.7654747813405585,
           -0.6810157067353708,
           -0.5851507109596933,
           -0.4793056018241192,
           -0.36505302537408846,
           -0.24410406214157984,
           -0.11830088071930431,
           0.010389551342584243,
           0.1398806993172817,
           0.26797063575961017,
           0.39234515764179423,
           0.5105798461667249,
           0.620141069258715,
           0.7183859267317559,
           0.8025611381352548,
           0.8698008732772722,
           0.9171235254252544,
           0.9414274271842504,
           0.9394855090526217
          ],
          [
           0.4202460749727671,
           0.31998876809073884,
           0.2049276511269925,
           0.08007640769269019,
           -0.05008839620423111,
           -0.18159731883816166,
           -0.31095910676742566,
           -0.43513281615840116,
           -0.5515009914321415,
           -0.6578439012335059,
           -0.7523148317227998,
           -0.8334164371899191,
           -0.899978147991006,
           -0.9511346358076056,
           -0.986305336228337,
           -1.0051750286530698,
           -1.007675473519602,
           -0.9939681068528575,
           -0.9644277921365764,
           -0.9196276295075254,
           -0.8603248222722084,
           -0.7874476007460847,
           -0.7020832034153,
           -0.605466915420917,
           -0.49897216436566166,
           -0.38410167344316737,
           -0.26247967188973703,
           -0.1358451627586042,
           -0.006046248016706365,
           0.12496448903603878,
           0.25513354402494287,
           0.38230899443625577,
           0.5042419452303658,
           0.6185869171324863,
           0.7229011776008438,
           0.814643014472353,
           0.891168952285788,
           0.9497299112824357,
           0.9874663090842697,
           1.001402105049571
          ],
          [
           0.4501926369889736,
           0.3345337075707969,
           0.20741211555425007,
           0.07340733509637942,
           -0.06340847123299752,
           -0.1994410733304568,
           -0.3315458517606442,
           -0.4570005332804607,
           -0.5734789836857492,
           -0.6790260579804959,
           -0.7720335078685329,
           -0.8512169465677509,
           -0.9155938709468225,
           -0.9644627409844231,
           -0.9973831165509724,
           -1.0141568515128736,
           -1.0148103451592607,
           -0.9995778509512601,
           -0.9688858425937513,
           -0.9233384374296401,
           -0.863703877156638,
           -0.7909020658665477,
           -0.7059931654070578,
           -0.6101672480660427,
           -0.5047350065783748,
           -0.3911195214552362,
           -0.2708490856359453,
           -0.14555108646228596,
           -0.016946944975346687,
           0.11315188746513352,
           0.2428468752389126,
           0.370154287200885,
           0.4930060280942146,
           0.6092494126409576,
           0.7166458823101801,
           0.8128686647635699,
           0.8954993759785363,
           0.962023565048809,
           1.0098252016625235,
           1.0361801062577984
          ],
          [
           0.46304655041763876,
           0.33738658763670126,
           0.2030986620700315,
           0.06435086299334813,
           -0.07516686071819954,
           -0.21221393566925997,
           -0.3439714563460257,
           -0.46801553484048286,
           -0.5822917078971674,
           -0.6850904012824304,
           -0.7750234514762079,
           -0.8510016846863031,
           -0.9122135531851708,
           -0.9581048289692102,
           -0.9883593547405709,
           -1.002880852211458,
           -1.001775787730948,
           -0.9853372952343151,
           -0.9540301565148601,
           -0.9084768388182493,
           -0.8494445897593608,
           -0.7778335895616368,
           -0.6946661606189451,
           -0.6010770343799455,
           -0.49830467555496843,
           -0.3876836636453931,
           -0.27063813179554175,
           -0.14867626296707476,
           -0.023385843435896753,
           0.10356912638843188,
           0.2304507638207741,
           0.35544857843599,
           0.47667968928200316,
           0.5921879847703555,
           0.6999422252442628,
           0.7978330882241524,
           0.8836691563307031,
           0.9551718478853745,
           1.009969290188426,
           1.0455891354744242
          ],
          [
           0.4612580044409684,
           0.33046753376890253,
           0.1934151147734228,
           0.053879414918412916,
           -0.08481050237548832,
           -0.21974702701018722,
           -0.34841690881194437,
           -0.46867522145569135,
           -0.5787203837118543,
           -0.677070238015685,
           -0.7625391863590983,
           -0.8342163835050207,
           -0.891444987524241,
           -0.9338024676547708,
           -0.961081969483716,
           -0.9732747374516477,
           -0.970553594679489,
           -0.9532574801179021,
           -0.9218770430191888,
           -0.8770412947316935,
           -0.8195053178167155,
           -0.750139032487931,
           -0.6699170203733185,
           -0.5799094055995933,
           -0.48127379319915087,
           -0.3752482648395154,
           -0.26314543187529593,
           -0.14634754572265277,
           -0.026302665556266484,
           0.0954781166711819,
           0.2174223938870229,
           0.33789710423410785,
           0.45520813408380745,
           0.5675988637264984,
           0.6732476557395548,
           0.7702642860328184,
           0.8566853175715707,
           0.9304684167769964,
           0.9894856126041347,
           1.0315154982973258
          ],
          [
           0.4470660877141246,
           0.31550733543648185,
           0.17962099954694724,
           0.042817427263766326,
           -0.09191473671007702,
           -0.22198101366622613,
           -0.3451546116928269,
           -0.45955100379891267,
           -0.5636035633612946,
           -0.6560402568939572,
           -0.735861394139966,
           -0.8023184354858782,
           -0.854893856698664,
           -0.8932820709851323,
           -0.9173714083738683,
           -0.9272271524196716,
           -0.9230756342305098,
           -0.9052893838169723,
           -0.8743733387642365,
           -0.830952110226538,
           -0.7757583062441518,
           -0.7096219123828764,
           -0.6334607296960296,
           -0.5482718700089487,
           -0.4551243085259992,
           -0.35515249376009217,
           -0.24955101478470545,
           -0.13957032580841663,
           -0.026513528071940858,
           0.08826579093232505,
           0.20336466091824737,
           0.3173307749413964,
           0.4286614782119786,
           0.5358016995852597,
           0.6371408257294855,
           0.7310085179712871,
           0.8156694718185882,
           0.8893171191609962,
           0.9500662731476957,
           0.9959447157428185
          ],
          [
           0.4225082033186771,
           0.29405618004514783,
           0.16281559699910045,
           0.03184872121604029,
           -0.09617661608513889,
           -0.2189600971815944,
           -0.3345430528484729,
           -0.4412836546833626,
           -0.5378331647532492,
           -0.6231132425639806,
           -0.6962943093522385,
           -0.7567749697000172,
           -0.8041624904716114,
           -0.8382543370731095,
           -0.8590207670343948,
           -0.8665884809136536,
           -0.8612253305243935,
           -0.8433260844849654,
           -0.813399251090595,
           -0.7720549585079198,
           -0.7199938922920377,
           -0.6579972902260577,
           -0.5869179944831606,
           -0.5076725611111687,
           -0.42123442683961937,
           -0.32862813320934925,
           -0.23092460802458187,
           -0.1292375041275293,
           -0.02472059549549275,
           0.08143376933952283,
           0.18799515654868829,
           0.2936944789417254,
           0.3972223705797715,
           0.4972265040657354,
           0.5923078505121527,
           0.6810158821865244,
           0.7618427178341551,
           0.833216210678481,
           0.8934919790988942,
           0.9409443799860477
          ],
          [
           0.38942980683878015,
           0.2674927100079418,
           0.14394631852958847,
           0.021524197816090575,
           -0.09740789066748633,
           -0.2108256812828855,
           -0.3170211534206654,
           -0.4145783380247182,
           -0.5023501814392919,
           -0.5794364665785224,
           -0.6451627914184722,
           -0.6990606048116741,
           -0.7408482996241882,
           -0.7704133631951579,
           -0.787795585118883,
           -0.7931713223493905,
           -0.7868388216275207,
           -0.7692045992305162,
           -0.7407708780441192,
           -0.7021240819571773,
           -0.6539243875787554,
           -0.5968963332777559,
           -0.5318204855450455,
           -0.4595261626780896,
           -0.38088521578809514,
           -0.2968068671296601,
           -0.2082336057529282,
           -0.11613814047825691,
           -0.021521410193384487,
           0.07458834852688746,
           0.17113547647850907,
           0.26703570956348816,
           0.3611739392026904,
           0.4524009154261275,
           0.539528892640745,
           0.6213262180756965,
           0.6965108629051135,
           0.7637428960483673,
           0.8216159006478259,
           0.8686473332240943
          ],
          [
           0.34949446756004265,
           0.2370334029386519,
           0.12381740551728333,
           0.012269856141480382,
           -0.09552767125055166,
           -0.1978097157075106,
           -0.29310229266707477,
           -0.38019931468048535,
           -0.45814006945963814,
           -0.5261877552466779,
           -0.5838090735061077,
           -0.6306548789393988,
           -0.6665418868221111,
           -0.6914354376635193,
           -0.7054333191887517,
           -0.708750645643427,
           -0.7017057944208068,
           -0.684707400011453,
           -0.6582424052753901,
           -0.6228651700367777,
           -0.5791876370010908,
           -0.5278705549948041,
           -0.4696157595275872,
           -0.405159510677006,
           -0.33526688829573076,
           -0.2607272445412528,
           -0.1823507137281065,
           -0.10096577950260288,
           -0.017417899340064755,
           0.06743081363542586,
           0.15270085150877455,
           0.2374935151091151,
           0.32088806022254124,
           0.4019377864823302,
           0.47966506893666383,
           0.5530553322938333,
           0.6210499678449446,
           0.6825381930641149,
           0.7363478538861598,
           0.7812351696617696
          ],
          [
           0.30419425279112,
           0.2037422749679357,
           0.1030989516308803,
           0.004395134611678537,
           -0.0905547689546501,
           -0.1802277169094253,
           -0.263368009672449,
           -0.3389643251666545,
           -0.4062278110652637,
           -0.4645712343614511,
           -0.5135891882605165,
           -0.5530393563945627,
           -0.5828248343596842,
           -0.6029775085756583,
           -0.6136424924681497,
           -0.6150636199734166,
           -0.607569996365528,
           -0.5915636064060884,
           -0.5675079798164657,
           -0.5359179140725329,
           -0.49735025452191123,
           -0.452395731823725,
           -0.4016718567108618,
           -0.3458168720747396,
           -0.28548476237258213,
           -0.22134132035720372,
           -0.15406127112929624,
           -0.08432645351222873,
           -0.012825058749351848,
           0.0597480734761904,
           0.1326901016991398,
           0.20528777200729814,
           0.2768139500541924,
           0.34652309574923124,
           0.41364568062535945,
           0.47738154788419684,
           0.5368922151186766,
           0.5912921197131735,
           0.6396388069211282,
           0.6809220606201514
          ],
          [
           0.25486043530800573,
           0.16854090718215167,
           0.0823362482622647,
           -0.0018984245840359803,
           -0.08259971180454079,
           -0.15847146564215442,
           -0.22846138193710253,
           -0.29173864925164866,
           -0.34767265531731933,
           -0.3958127508046327,
           -0.4358690704153384,
           -0.46769441129716327,
           -0.49126716878106447,
           -0.5066753294409905,
           -0.5141015214761475,
           -0.5138091224157776,
           -0.5061294241464389,
           -0.49144985526179835,
           -0.4702032607349267,
           -0.44285823891310516,
           -0.40991053583513765,
           -0.37187549687116994,
           -0.32928157568501776,
           -0.2826649005190003,
           -0.23256489780128334,
           -0.17952097307572776,
           -0.12407024925424652,
           -0.06674636219166932,
           -0.008079313583113437,
           0.05140361881613718,
           0.11117591364824428,
           0.170708781087924,
           0.22946708065504381,
           0.2869041817047145,
           0.34245576659487387,
           0.3955325765313645,
           0.4455121000905014,
           0.4917292044191359,
           0.5334657091122095,
           0.5699389027677975
          ],
          [
           0.20267452392103769,
           0.13221879518490243,
           0.061959453082592916,
           -0.006508187935958065,
           -0.07185643818427367,
           -0.133001381419101,
           -0.18908008084268713,
           -0.23942884242756216,
           -0.28356253556382915,
           -0.321154971028962,
           -0.35202033628011026,
           -0.3760956880689122,
           -0.39342450237881427,
           -0.40414128168489877,
           -0.40845721953621744,
           -0.40664692246063566,
           -0.39903618919217987,
           -0.38599084722089533,
           -0.36790664666521045,
           -0.3452002114668083,
           -0.3183010479080058,
           -0.28764461045163997,
           -0.2536664249034617,
           -0.21679726889703746,
           -0.1774594097011577,
           -0.1360638993497525,
           -0.09300892709431571,
           -0.04867922917883533,
           -0.0034465559372316512,
           0.04232880378669673,
           0.08829544089682013,
           0.13410718697971707,
           0.17941841791720803,
           0.2238783001763774,
           0.2671239797770931,
           0.3087727139370164,
           0.3484129453941029,
           0.38559431940660005,
           0.41981664343053415,
           0.4505177894746885
          ],
          [
           0.14867961716461017,
           0.09544402178128161,
           0.04229358172107722,
           -0.009421119940636052,
           -0.058593667169330316,
           -0.10433857385115186,
           -0.14596910399526278,
           -0.18297614925869077,
           -0.21500816379368612,
           -0.24185215641758603,
           -0.2634157401051866,
           -0.2797102388036214,
           -0.29083485156974914,
           -0.29696187403004615,
           -0.2983229771630092,
           -0.2951965434040631,
           -0.28789606007297736,
           -0.2767595701237898,
           -0.26214018021723745,
           -0.2443976261156945,
           -0.2238908954006185,
           -0.20097190751250338,
           -0.17598025111333934,
           -0.14923897877158182,
           -0.12105145896962614,
           -0.09169928543379005,
           -0.06144124378680458,
           -0.03051333552281048,
           0.0008701406951358631,
           0.03251445041505112,
           0.0642412274535041,
           0.09588422063059028,
           0.127283983182396,
           0.1582815048509571,
           0.1887107866517097,
           0.218390358318434,
           0.24711373842568818,
           0.2746388371887407,
           0.3006763019409884,
           0.3248768052888696
          ],
          [
           0.09379208010959714,
           0.05877425278483459,
           0.023568822566482076,
           -0.01070414930483592,
           -0.043145945736054486,
           -0.07305657086157082,
           -0.09991318444565202,
           -0.12334959360735195,
           -0.14313680186793448,
           -0.15916461552080505,
           -0.17142430732394842,
           -0.179992337514875,
           -0.18501513214807414,
           -0.18669491875497396,
           -0.18527661932641065,
           -0.1810358006176026,
           -0.17426768177563412,
           -0.16527719928944476,
           -0.154370129262328,
           -0.1418452670069355,
           -0.1279876639627892,
           -0.11306292193630205,
           -0.09731254466330448,
           -0.08095034669407904,
           -0.0641599196009027,
           -0.047093155508095765,
           -0.029869827944578885,
           -0.012578230018937259,
           0.004723130083007982,
           0.02200277627812084,
           0.03925245444336394,
           0.05648226495070492,
           0.0737147378795154,
           0.09097785090646218,
           0.10829698987289196,
           0.12568585202970695,
           0.1431362919597349,
           0.16060711017759147,
           0.1780117844070337,
           0.19520514353580726
          ],
          [
           0.03881354429848182,
           0.022668055947226054,
           0.005931174691327739,
           -0.01049421202680292,
           -0.025904372848374827,
           -0.03977272377818428,
           -0.051728876787090254,
           -0.061538745736997504,
           -0.06908570962834668,
           -0.07435283317011206,
           -0.07740614467230687,
           -0.07837897126099541,
           -0.07745733141581322,
           -0.07486638482999415,
           -0.07085793959290525,
           -0.06569901669508854,
           -0.059661471855810895,
           -0.053012674673120375,
           -0.04600724509641098,
           -0.038879847221493895,
           -0.03183904040817679,
           -0.025062187720350206,
           -0.018691421688581258,
           -0.01283066739521504,
           -0.007543722881983137,
           -0.0028533968801196688,
           0.0012582961370152955,
           0.004848883578804928,
           0.008013125039737428,
           0.010879645279260485,
           0.013606509879128077,
           0.01637574357824045,
           0.019386791284975963,
           0.022848921767016278,
           0.02697257401866328,
           0.03195964630564954,
           0.0379927278874409,
           0.0452232734170315,
           0.053758720018231926,
           0.06364854704044898
          ],
          [
           -0.015556769196802,
           -0.012503456989383835,
           -0.010546591101195572,
           -0.008987971354810338,
           -0.007307000421817482,
           -0.005139289302857671,
           -0.0022563201301649474,
           0.0014538337073837881,
           0.0060047301167116965,
           0.011328723530477708,
           0.017293072814504772,
           0.02371499185270068,
           0.030375642809471564,
           0.03703307206962792,
           0.04343408885578333,
           0.04932508652324569,
           0.05446180653240106,
           0.058618045098590296,
           0.06159330251947793,
           0.06321937517991404,
           0.06336589023428839,
           0.0619447829663776,
           0.05891371682668425,
           0.0542784461472693,
           0.048094121534076835,
           0.04046553793675114,
           0.031546325395946775,
           0.021537082468131213,
           0.01068245232787968,
           -0.0007328584523367742,
           -0.012389118444871212,
           -0.02393766723212757,
           -0.03500806859429536,
           -0.04521632101959127,
           -0.054174125537008976,
           -0.06149921087157467,
           -0.0668267159221122,
           -0.06982162956151382,
           -0.0701922877595196,
           -0.06770492802800282
          ],
          [
           -0.06870940359432175,
           -0.0464446651172533,
           -0.025853648107605622,
           -0.006431214623000268,
           0.012171088835189473,
           0.030165811641737,
           0.04764932204495356,
           0.06462047284157209,
           0.0809982097291237,
           0.09663812233580645,
           0.11134793792784708,
           0.12490195779435512,
           0.1370544363096699,
           0.14755190267319965,
           0.15614442532675354,
           0.16259581904936662,
           0.16669279472961662,
           0.16825305181543435,
           0.1671323134414053,
           0.16323030423356535,
           0.15649567079168827,
           0.14692984484906566,
           0.13458984910978028,
           0.11959004576347104,
           0.10210282767759124,
           0.08235825226715952,
           0.060642618042002494,
           0.03729598383149126,
           0.012708630686769543,
           -0.012683533539525251,
           -0.038404626936048236,
           -0.06394550359804056,
           -0.08877152101513108,
           -0.11233136478164432,
           -0.1340669306294165,
           -0.15342426378311916,
           -0.169865555638089,
           -0.1828821977606668,
           -0.19200889321104367,
           -0.19683882518861062
          ],
          [
           -0.12011169709888761,
           -0.07892315006526457,
           -0.04002950643179656,
           -0.0031079269645157043,
           0.03202802670272099,
           0.06544855818806282,
           0.09712674515899014,
           0.12695659080713145,
           0.1547700180005732,
           0.18035280611366197,
           0.2034594705342995,
           0.22382708484873032,
           0.24118804570382155,
           0.25528178034683624,
           0.2658653968426979,
           0.272723276968749,
           0.27567561178700184,
           0.2745858798938808,
           0.26936726834745894,
           0.2599880362721857,
           0.24647582114110866,
           0.22892088773558647,
           0.2074783197824952,
           0.18236915426892744,
           0.15388045843438297,
           0.12236434944045389,
           0.08823595671799997,
           0.05197032699181877,
           0.014098271982807102,
           -0.024798841212384383,
           -0.06409535706420429,
           -0.10312865587556123,
           -0.14120753536969052,
           -0.1776216496005304,
           -0.2116520051856046,
           -0.24258251486141125,
           -0.2697126083613208,
           -0.29237090061598114,
           -0.3099299172762302,
           -0.3218218775585127
          ],
          [
           -0.16929449047608613,
           -0.10975708457841993,
           -0.053152082569998954,
           0.0006709580980763762,
           0.05174572785346844,
           0.10000871692236825,
           0.14531770992675214,
           0.18746922315913353,
           0.22621488453480507,
           0.26127675622157487,
           0.29236159994699434,
           0.3191740849830795,
           0.3414289388085239,
           0.3588620404484053,
           0.371240456491384,
           0.3783714197843945,
           0.3801102508048282,
           0.37636722171021186,
           0.36711336306537556,
           0.35238521324711364,
           0.3322885105263409,
           0.3070008278277382,
           0.2767731501668923,
           0.24193039476492756,
           0.2028708738406319,
           0.16006470008007295,
           0.11405113478370851,
           0.06543487869098916,
           0.01488130548245276,
           -0.036889362040686824,
           -0.08910893309945976,
           -0.14096918740256753,
           -0.19163087093431724,
           -0.24023374906506298,
           -0.28590771698415623,
           -0.32778496745540053,
           -0.36501321589501684,
           -0.3967699827721153,
           -0.42227793333167396,
           -0.44082127464002285
          ],
          [
           -0.21583851150360436,
           -0.1388022979746301,
           -0.06532544587303046,
           0.00457913118507093,
           0.0708007813795627,
           0.13315005240604644,
           0.19137657187302545,
           0.2451858703765904,
           0.29425514725259505,
           0.3382479790063248,
           0.37682797041965954,
           0.4096713483357265,
           0.43647849812104766,
           0.4569844428051795,
           0.4709682648978444,
           0.4782614708835562,
           0.4787552983937359,
           0.47240696605632293,
           0.45924486602287745,
           0.4393726991731741,
           0.4129725529972918,
           0.38030692215519163,
           0.34171967171379186,
           0.29763594306153196,
           0.24856100250043106,
           0.1950780325156394,
           0.1378448657224802,
           0.07758966149098681,
           0.015105525247930202,
           -0.04875592954365867,
           -0.11309207672747645,
           -0.17695783011944033,
           -0.23937525349568978,
           -0.29934422790309323,
           -0.3558541762922677,
           -0.40789684547309735,
           -0.4544801453927673,
           -0.4946430457363007,
           -0.5274715298496058,
           -0.5521156059850245
          ],
          [
           -0.2593604362998445,
           -0.1659390184787912,
           -0.07666724188583666,
           0.00828680271461998,
           0.08867566544210564,
           0.16419086081970402,
           0.23448013397117964,
           0.2991636694955968,
           0.3578492430194279,
           0.41014631542615637,
           0.45567906976337114,
           0.4940983908273548,
           0.525092787425163,
           0.5483982573141988,
           0.5638070948192753,
           0.5711756411271764,
           0.5704309772587062,
           0.5615765597182312,
           0.5446967988207179,
           0.5199605796962611,
           0.487623725972102,
           0.44803040613214606,
           0.40161348255396623,
           0.3488938032233023,
           0.29047843612605406,
           0.2270578463177623,
           0.1594020156705886,
           0.08835550529778136,
           0.014831460655640671,
           -0.06019544067702926,
           -0.13569709854197165,
           -0.21060115706703922,
           -0.2838012288542603,
           -0.3541681764904152,
           -0.4205624513801174,
           -0.4818474899014054,
           -0.5369041668838366,
           -0.5846463064090963,
           -0.6240372499341095,
           -0.6541074817366528
          ],
          [
           -0.2994986275298307,
           -0.19105829243415562,
           -0.08729579256432629,
           0.011472921680436569,
           0.10487028504341035,
           0.19247482672993746,
           0.27383782240448157,
           0.3484988888651799,
           0.41600052139588517,
           0.4759015737957017,
           0.5277896810860132,
           0.5712926248950047,
           0.6060886415196742,
           0.6319156726653413,
           0.6485795588626438,
           0.6559611755620302,
           0.6540225119057422,
           0.6428116921772935,
           0.622466939928437,
           0.5932194847836276,
           0.5553954119219753,
           0.5094164542366935,
           0.45579972717203826,
           0.39515640623773973,
           0.3281893472009283,
           0.2556896489555492,
           0.1785321590692765,
           0.09766992200791205,
           0.014127570037282641,
           -0.07100634319737328,
           -0.15658806641452358,
           -0.24142843176197148,
           -0.3243036932049888,
           -0.4039674222369584,
           -0.47916346091252193,
           -0.5486399322032393,
           -0.6111643076757471,
           -0.6655395324924377,
           -0.7106212077346341,
           -0.7453358300482718
          ],
          [
           -0.33589854948840614,
           -0.21404808039099235,
           -0.09731687336949144,
           0.013837717552207657,
           0.11891383292195166,
           0.2173822029788209,
           0.30870218545011907,
           0.3923367460258604,
           0.46776638151074174,
           0.5345019856536157,
           0.5920966576544493,
           0.6401564533487798,
           0.6783500790696613,
           0.706417528187104,
           0.7241776603250056,
           0.7315347232555772,
           0.7284838174712595,
           0.7151153034341338,
           0.6916181515028226,
           0.6582822345368876,
           0.6154995631787141,
           0.5637644638128929,
           0.5036726992030944,
           0.4359195318064312,
           0.3612967297653194,
           0.28068851557682606,
           0.19506645743951548,
           0.10548330327778285,
           0.01306575744368433,
           -0.08099379990374267,
           -0.1754466507416655,
           -0.2689981344491502,
           -0.360319100395362,
           -0.44805841785027406,
           -0.5308565432178854,
           -0.6073601445919397,
           -0.6762377836341569,
           -0.7361966547749764,
           -0.7860003817367992,
           -0.8244878713797363
          ],
          [
           -0.36819786006072197,
           -0.23477903007253853,
           -0.10681016723882765,
           0.015115565298714214,
           0.1303769735700226,
           0.23834131369609898,
           0.3383797154859322,
           0.42988154871091877,
           0.5122677320567696,
           0.585002984752915,
           0.6476070208793978,
           0.6996646863512626,
           0.7408350385804331,
           0.7708593688150894,
           0.7895681671565283,
           0.7968870302535261,
           0.7928415116741842,
           0.777560914955277,
           0.7512810293290849,
           0.714345808127724,
           0.667207989864966,
           0.6104286619955522,
           0.5446757673520012,
           0.4707215532589051,
           0.38943896332472366,
           0.30179697191106564,
           0.20885486127946787,
           0.1117554414156629,
           0.011717212531341777,
           -0.08997452975659265,
           -0.19197764656927607,
           -0.2929041652316472,
           -0.39133234606071055,
           -0.48581980647631734,
           -0.5749177024344418,
           -0.6571859671829768,
           -0.7312096073400247,
           -0.7956160562947084,
           -0.8490935849304824,
           -0.8904107696709478
          ],
          [
           -0.3960111795600164,
           -0.2530899262182412,
           -0.11581539543503376,
           0.01508817353366498,
           0.13888435037410463,
           0.2548403804340939,
           0.36224199411985464,
           0.46040715897037576,
           0.5486987744092544,
           0.6265363091740329,
           0.6934063814230248,
           0.7488722815196386,
           0.7925824374941896,
           0.8242778231832069,
           0.8437983090462302,
           0.8510879556601051,
           0.8461992498907622,
           0.8292962837424968,
           0.8006568758847376,
           0.7606736358563077,
           0.7098539709471793,
           0.6488190357577208,
           0.5783016244354369,
           0.49914300558919816,
           0.412288699880971,
           0.31878320029502877,
           0.21976363508466665,
           0.11645237339640149,
           0.010148573571668363,
           -0.09778132587399246,
           -0.20591417259425354,
           -0.3127817240778296,
           -0.41688332863681116,
           -0.5166996637175048,
           -0.6107075315337839,
           -0.6973957120229446,
           -0.7752818731240687,
           -0.8429305383788968,
           -0.8989721118552116,
           -0.9421229603927102
          ],
          [
           -0.4189145364426836,
           -0.2687728173042934,
           -0.12431812527201384,
           0.0135980957842333,
           0.14412741587794128,
           0.26643967142531566,
           0.3797371604420622,
           0.483267780417677,
           0.576337108867218,
           0.6583194265605758,
           0.7286676834292352,
           0.7869224071505303,
           0.8327195544093889,
           0.8657973048375756,
           0.886001797630419,
           0.8932918108410418,
           0.8877423833520744,
           0.869547379524866,
           0.8390209965261866,
           0.7965982143324227,
           0.7428341884112653,
           0.6784025850808885,
           0.6040928595466247,
           0.5208064766151276,
           0.42955207408603374,
           0.3314395688211091,
           0.2276732054908959,
           0.11954354799884623,
           0.008418413582951728,
           -0.10426725040513526,
           -0.2170225470434877,
           -0.3283128677057992,
           -0.4365731872497833,
           -0.5402224165280824,
           -0.6376788122216843,
           -0.7273764439958438,
           -0.807782718978513,
           -0.8774169635612844,
           -0.9348700625228311,
           -0.978825155474859
          ],
          [
           -0.4364294899006391,
           -0.2815578191414569,
           -0.13223525471816405,
           0.010562564882308181,
           0.1458775851683261,
           0.27278397396278564,
           0.39040170239983335,
           0.4979090685990884,
           0.5945541640173482,
           0.6796652824777939,
           0.752660271876683,
           0.813054828567539,
           0.8604697344228301,
           0.8946370365731429,
           0.9154051698238466,
           0.9227430217492528,
           0.9167429404642651,
           0.897622685073521,
           0.865726318798031,
           0.8215240447793051,
           0.7656109845609718,
           0.6987048992478959,
           0.6216428533427818,
           0.5353768212602739,
           0.4409682365185468,
           0.33958148360838986,
           0.23247633253978484,
           0.1209993160659735,
           0.006574049585020372,
           -0.10930950628113272,
           -0.2251068404301188,
           -0.33923174334510886,
           -0.450070216483276,
           -0.555995438986773,
           -0.6553837917162131,
           -0.7466319386066632,
           -0.8281749653461337,
           -0.8985055753765928,
           -0.9561943432174744,
           -0.9999110251116943
          ],
          [
           -0.44800692933096764,
           -0.2910975953501781,
           -0.1394001738769501,
           0.005987650478449256,
           0.14399971238359455,
           0.2736153899030683,
           0.39387257129511677,
           0.5038795644858023,
           0.6028259492206445,
           0.6899923718937588,
           0.7647592830544826,
           0.8266146175914969,
           0.8751604175944384,
           0.9101183978930092,
           0.9313344542735716,
           0.938782114373242,
           0.9325649312514738,
           0.9129178196391338,
           0.8802073348650729,
           0.8349308944601853,
           0.7777149424389656,
           0.7093120562585533,
           0.6305969964552753,
           0.5425616989586745,
           0.4463092100830375,
           0.34304656419641083,
           0.23407660406711162,
           0.12078874388772853,
           0.0046486749766194895,
           -0.11281298584310333,
           -0.23001310518708926,
           -0.3453294993757806,
           -0.4571154580229447,
           -0.5637153249467137,
           -0.6634811364031397,
           -0.7547903166422426,
           -0.8360644307865817,
           -0.9057889950323231,
           -0.9625343441728224,
           -1.0049775564447043
          ],
          [
           -0.4530105506828701,
           -0.2969515147129959,
           -0.14554760334477898,
           -0.0000172603214443701,
           0.1384658903448279,
           0.26878645429200926,
           0.3898996194048056,
           0.5008424510887478,
           0.600744130221764,
           0.688835133783251,
           0.7644553581606345,
           0.8270611851334252,
           0.8762314905347627,
           0.9116725955904599,
           0.9332221609355272,
           0.9408520233082065,
           0.9346699749214817,
           0.9149204855120908,
           0.8819843670670291,
           0.8363773812275438,
           0.7787477893706213,
           0.7098728453679672,
           0.630654231022482,
           0.5421124341822218,
           0.44538006953186066,
           0.3416941420616399,
           0.23238725321381085,
           0.11887774970657111,
           0.002658815035494152,
           -0.11471349634755064,
           -0.23163328217798426,
           -0.34645887284461147,
           -0.4575279691782211,
           -0.5631738375626947,
           -0.6617425623686255,
           -0.7516113557094353,
           -0.8312079245200086,
           -0.8990308949578328,
           -0.953671294126645,
           -0.9938350891225711
          ],
          [
           -0.45070000968189683,
           -0.298569485404241,
           -0.15029810944615943,
           -0.0072246591967607,
           0.1293695733097681,
           0.2582735771131858,
           0.37835836072372686,
           0.488587633196117,
           0.5880274278810824,
           0.6758546688543524,
           0.7513646800231559,
           0.8139776369102059,
           0.8632439611151836,
           0.898848657453708,
           0.920614593773803,
           0.9285047234498544,
           0.9226232505540628,
           0.9032157377053831,
           0.8706681565959633,
           0.8255048811950734,
           0.7683856236305225,
           0.7001013127475771,
           0.6215689153453657,
           0.5338252000907758,
           0.43801944410984756,
           0.3354050822566581,
           0.22733029905969618,
           0.11522756334573309,
           0.0006021055411845168,
           -0.11498066234903613,
           -0.2299087840851682,
           -0.3425384538587676,
           -0.45120976828137266,
           -0.5542635356956769,
           -0.650059142809216,
           -0.7369934786505544,
           -0.8135209158479828,
           -0.8781743492307249,
           -0.9295872917526515,
           -0.966517027738486
          ],
          [
           -0.4402137519314746,
           -0.2952754660970191,
           -0.1531422963461563,
           -0.01527378973008742,
           0.11694002284943252,
           0.24219080815906258,
           0.35926305483033183,
           0.46704414023359264,
           0.5645333400294614,
           0.6508497803977561,
           0.7252393329439228,
           0.7870804522829581,
           0.8358889563008232,
           0.8713217490933476,
           0.8931794865826298,
           0.9014081848109285,
           0.8960997709120455,
           0.8774915767602047,
           0.8459647752964178,
           0.8020417595323492,
           0.746382464231669,
           0.6797796302688999,
           0.6031530116657569,
           0.5175425253049801,
           0.4241003433216593,
           0.3240819281720504,
           0.21883601037988765,
           0.10979350896018292,
           -0.0015446054794748315,
           -0.11362050496013619,
           -0.22483375567520628,
           -0.3335566268566761,
           -0.4381504569638538,
           -0.5369830771946071,
           -0.6284472923191137,
           -0.7109804188361176,
           -0.7830848804516881,
           -0.8433498608804991,
           -0.8904740139696052,
           -0.923289231144724
          ],
          [
           -0.42055151989172035,
           -0.2862506539475001,
           -0.15342467504013008,
           -0.02365519740242154,
           0.1015570768474525,
           0.22080392502486212,
           0.33278011387510376,
           0.4362928522472908,
           0.5302701864457269,
           0.6137683382587754,
           0.685977985665222,
           0.7462294862181271,
           0.7939970431061752,
           0.828901813892513,
           0.8507139619310813,
           0.85935365046044,
           0.8548909793750853,
           0.8375448646742609,
           0.8076808605882585,
           0.7658079243822146,
           0.7125741238373967,
           0.6487612874099847,
           0.5752785970673446,
           0.4931551238017923,
           0.4035313058218523,
           0.3076493694210088,
           0.2068426925239504,
           0.10252411091030209,
           -0.00382683288414122,
           -0.11067769798869757,
           -0.21645801094158076,
           -0.31957518875619795,
           -0.4184315193099468,
           -0.511442199055526,
           -0.5970544280547503,
           -0.6737675623348738,
           -0.7401543235674197,
           -0.7948830660695226,
           -0.8367411011277677,
           -0.864659078644546
          ],
          [
           -0.3905565367355541,
           -0.2705163494564804,
           -0.15032720922077464,
           -0.03169495646566754,
           0.08376624162210596,
           0.19454484422513676,
           0.2992418326916671,
           0.39657954900940934,
           0.48540947695685294,
           0.5647189659320702,
           0.6336368974590079,
           0.6914382943712775,
           0.7375478726734334,
           0.7715425360797488,
           0.7931528132304767,
           0.8022632375856126,
           0.7989116699961417,
           0.7832875639527836,
           0.7557291735122279,
           0.7167197039008644,
           0.6668824047960004,
           0.6069746062845767,
           0.5378806974993765,
           0.46060404793271764,
           0.3762578714276512,
           0.2860550328466409,
           0.19129679741774094,
           0.09336052275826728,
           -0.00631370642404427,
           -0.10623750095237884,
           -0.20488964712469818,
           -0.300732643980104,
           -0.3922302978876971,
           -0.4778663744579614,
           -0.5561643077766413,
           -0.6257079669611318,
           -0.685163480039376,
           -0.7333021151512732,
           -0.7690242190725882,
           -0.791384213061368
          ],
          [
           -0.3488973670820922,
           -0.24691649820825112,
           -0.14285253802244277,
           -0.03853857369242275,
           0.06429410717106532,
           0.16402635543305336,
           0.2591604420306087,
           0.34832828224658285,
           0.4302986026608564,
           0.5039830507790732,
           0.5684412473388706,
           0.6228847812935978,
           0.6666801474735322,
           0.6993506269245845,
           0.7205771099244956,
           0.7301978616765321,
           0.728207230680666,
           0.7147532997822541,
           0.690134479898206,
           0.6547950464206468,
           0.6093196182980702,
           0.5544265797939868,
           0.49096044492306395,
           0.4198831645647554,
           0.3422643762544299,
           0.2592705966519856,
           0.1721533566879615,
           0.08223627938714029,
           -0.00909889963035735,
           -0.10042736897048522,
           -0.1902973356091869,
           -0.27724717635883017,
           -0.35982364665713545,
           -0.43660114667861927,
           -0.5062020447685415,
           -0.5673180581993696,
           -0.6187326912497273,
           -0.6593447306058844,
           -0.6881927980857248,
           -0.7044809606852278
          ],
          [
           -0.2940494546073409,
           -0.21409990948674612,
           -0.12980687564275845,
           -0.04313456900305765,
           0.04406408553886089,
           0.13005717884239396,
           0.21324248491601344,
           0.29215507099095817,
           0.3654738502724046,
           0.432027077368139,
           0.4907967863947174,
           0.5409221717611215,
           0.5817019116299046,
           0.6125954340558306,
           0.6332231258020079,
           0.643365483833512,
           0.6429612094885052,
           0.6321042453268442,
           0.6110397546561841,
           0.5801590437355733,
           0.5399934266565408,
           0.49120703290167744,
           0.43458855758070797,
           0.3710419543440565,
           0.3015760709739071,
           0.22729322765274967,
           0.14937673790942912,
           0.06907737224267643,
           -0.01230123557785959,
           -0.09341823953309226,
           -0.17291228969848116,
           -0.2494192979105328,
           -0.32159126075579086,
           -0.3881161398823544,
           -0.44773879963388585,
           -0.499283002006141,
           -0.5416744589259919,
           -0.5739649418529741,
           -0.5953574487033271,
           -0.6052324280965418
          ],
          [
           -0.22427633653217457,
           -0.17050215176899222,
           -0.10978258784152814,
           -0.04421773297008996,
           0.02421247230704039,
           0.09365734565224754,
           0.16240351612469706,
           0.22888192005396107,
           0.29167373959112414,
           0.34951528393738507,
           0.4013018132501549,
           0.44609030522664195,
           0.4831011643649332,
           0.5117188739025669,
           0.5314915904325985,
           0.5421296811971581,
           0.5435032040585017,
           0.5356383301475534,
           0.5187127091899422,
           0.4930497775095318,
           0.45911200870943825,
           0.4174931070305471,
           0.36890914338751807,
           0.31418863408228315,
           0.2542615621950406,
           0.1901473416527362,
           0.12294172397504234,
           0.05380264769782666,
           -0.016064969525887082,
           -0.08542549614746466,
           -0.15302990926670892,
           -0.2176341744984301,
           -0.2780186831615035,
           -0.33300874679045117,
           -0.3814961489695192,
           -0.4224617544892732,
           -0.4549991758256916,
           -0.47833949694176625,
           -0.49187705441163293,
           -0.4951962758671626
          ],
          [
           -0.13761053498761502,
           -0.11432712509584023,
           -0.08114044531694072,
           -0.04029206119984574,
           0.006104831207043959,
           0.056073901674428314,
           0.10778312478815603,
           0.15955116162278532,
           0.20985268409262167,
           0.2573226419802536,
           0.3007594726425829,
           0.3391272533943451,
           0.3715567965691221,
           0.3973456872578491,
           0.4159572637248141,
           0.4270185405011478,
           0.43031707415580883,
           0.42579677174405983,
           0.4135526419334368,
           0.39382448880721116,
           0.3669895483453436,
           0.33355406758293177,
           0.2941438264461501,
           0.24949360226568004,
           0.20043557696763886,
           0.14788668694199272,
           0.0928349155884693,
           0.03632452853996141,
           -0.020559748436581912,
           -0.07670960886176327,
           -0.13101110228785648,
           -0.18236362836543757,
           -0.22969998823251517,
           -0.27200749322617473,
           -0.3083501309167236,
           -0.33789178846435247,
           -0.3599205332982956,
           -0.3738739511185085,
           -0.3793655412198355,
           -0.376212169138703
          ],
          [
           -0.03183412525737875,
           -0.0435283103199904,
           -0.04199155395905174,
           -0.029613365591406742,
           -0.008647298144206457,
           0.018796934063596175,
           0.05076028011722754,
           0.08544011997958742,
           0.12119497464221848,
           0.156548158953779,
           0.19019037712600237,
           0.22098126091715375,
           0.247949850492975,
           0.270294017965125,
           0.28737883360711236,
           0.29873387474771923,
           0.30404947734191917,
           0.3031719302192868,
           0.29609761200990103,
           0.2829660707477391,
           0.26405204615156597,
           0.23975643458331297,
           0.21059619668395224,
           0.17719320768686084,
           0.14026205040868067,
           0.10059675091766802,
           0.059056456879537304,
           0.016550058580797,
           -0.02598024737042045,
           -0.06757645166604104,
           -0.10728328324222935,
           -0.14416781754609045,
           -0.17734014212486046,
           -0.20597507953762445,
           -0.22933496758952795,
           -0.24679349688849872,
           -0.2578606057244809,
           -0.2622084322711663,
           -0.2596983241102564,
           -0.2504089050781871
          ],
          [
           0.0955410191022474,
           0.04421030476868456,
           0.009821038019429528,
           -0.010171562472863434,
           -0.018169369386022042,
           -0.0164240788299168,
           -0.007030999750546565,
           0.008076099343387443,
           0.027129086331388507,
           0.04852850410956466,
           0.07084555189652703,
           0.09282300921677607,
           0.11337510256158223,
           0.13158631472735802,
           0.14670913683152467,
           0.1581607630058694,
           0.16551872776739632,
           0.1685154860666701,
           0.1670319360136512,
           0.1610898842810251,
           0.15084345418502287,
           0.13656943644373504,
           0.11865658261291863,
           0.09759384119929435,
           0.07395753645134041,
           0.048397489827574566,
           0.02162208414233222,
           -0.005617729610964302,
           -0.03254548275904388,
           -0.05837729677053557,
           -0.08234104840021164,
           -0.10369659215576073,
           -0.12175704008704631,
           -0.13591109889788403,
           -0.14564646438032444,
           -0.15057427317144534,
           -0.15045461183264258,
           -0.1452230832514412,
           -0.13501843036580585,
           -0.12021121721096045
          ]
         ]
        }
       ],
       "layout": {
        "legend": {
         "tracegroupgap": 0
        },
        "margin": {
         "t": 60
        },
        "scene": {
         "domain": {
          "x": [
           0,
           1
          ],
          "y": [
           0,
           1
          ]
         },
         "xaxis": {
          "title": {
           "text": "x"
          }
         },
         "yaxis": {
          "title": {
           "text": "y"
          }
         },
         "zaxis": {
          "title": {
           "text": "z"
          }
         }
        },
        "template": {
         "data": {
          "bar": [
           {
            "error_x": {
             "color": "#2a3f5f"
            },
            "error_y": {
             "color": "#2a3f5f"
            },
            "marker": {
             "line": {
              "color": "#E5ECF6",
              "width": 0.5
             },
             "pattern": {
              "fillmode": "overlay",
              "size": 10,
              "solidity": 0.2
             }
            },
            "type": "bar"
           }
          ],
          "barpolar": [
           {
            "marker": {
             "line": {
              "color": "#E5ECF6",
              "width": 0.5
             },
             "pattern": {
              "fillmode": "overlay",
              "size": 10,
              "solidity": 0.2
             }
            },
            "type": "barpolar"
           }
          ],
          "carpet": [
           {
            "aaxis": {
             "endlinecolor": "#2a3f5f",
             "gridcolor": "white",
             "linecolor": "white",
             "minorgridcolor": "white",
             "startlinecolor": "#2a3f5f"
            },
            "baxis": {
             "endlinecolor": "#2a3f5f",
             "gridcolor": "white",
             "linecolor": "white",
             "minorgridcolor": "white",
             "startlinecolor": "#2a3f5f"
            },
            "type": "carpet"
           }
          ],
          "choropleth": [
           {
            "colorbar": {
             "outlinewidth": 0,
             "ticks": ""
            },
            "type": "choropleth"
           }
          ],
          "contour": [
           {
            "colorbar": {
             "outlinewidth": 0,
             "ticks": ""
            },
            "colorscale": [
             [
              0,
              "#0d0887"
             ],
             [
              0.1111111111111111,
              "#46039f"
             ],
             [
              0.2222222222222222,
              "#7201a8"
             ],
             [
              0.3333333333333333,
              "#9c179e"
             ],
             [
              0.4444444444444444,
              "#bd3786"
             ],
             [
              0.5555555555555556,
              "#d8576b"
             ],
             [
              0.6666666666666666,
              "#ed7953"
             ],
             [
              0.7777777777777778,
              "#fb9f3a"
             ],
             [
              0.8888888888888888,
              "#fdca26"
             ],
             [
              1,
              "#f0f921"
             ]
            ],
            "type": "contour"
           }
          ],
          "contourcarpet": [
           {
            "colorbar": {
             "outlinewidth": 0,
             "ticks": ""
            },
            "type": "contourcarpet"
           }
          ],
          "heatmap": [
           {
            "colorbar": {
             "outlinewidth": 0,
             "ticks": ""
            },
            "colorscale": [
             [
              0,
              "#0d0887"
             ],
             [
              0.1111111111111111,
              "#46039f"
             ],
             [
              0.2222222222222222,
              "#7201a8"
             ],
             [
              0.3333333333333333,
              "#9c179e"
             ],
             [
              0.4444444444444444,
              "#bd3786"
             ],
             [
              0.5555555555555556,
              "#d8576b"
             ],
             [
              0.6666666666666666,
              "#ed7953"
             ],
             [
              0.7777777777777778,
              "#fb9f3a"
             ],
             [
              0.8888888888888888,
              "#fdca26"
             ],
             [
              1,
              "#f0f921"
             ]
            ],
            "type": "heatmap"
           }
          ],
          "heatmapgl": [
           {
            "colorbar": {
             "outlinewidth": 0,
             "ticks": ""
            },
            "colorscale": [
             [
              0,
              "#0d0887"
             ],
             [
              0.1111111111111111,
              "#46039f"
             ],
             [
              0.2222222222222222,
              "#7201a8"
             ],
             [
              0.3333333333333333,
              "#9c179e"
             ],
             [
              0.4444444444444444,
              "#bd3786"
             ],
             [
              0.5555555555555556,
              "#d8576b"
             ],
             [
              0.6666666666666666,
              "#ed7953"
             ],
             [
              0.7777777777777778,
              "#fb9f3a"
             ],
             [
              0.8888888888888888,
              "#fdca26"
             ],
             [
              1,
              "#f0f921"
             ]
            ],
            "type": "heatmapgl"
           }
          ],
          "histogram": [
           {
            "marker": {
             "pattern": {
              "fillmode": "overlay",
              "size": 10,
              "solidity": 0.2
             }
            },
            "type": "histogram"
           }
          ],
          "histogram2d": [
           {
            "colorbar": {
             "outlinewidth": 0,
             "ticks": ""
            },
            "colorscale": [
             [
              0,
              "#0d0887"
             ],
             [
              0.1111111111111111,
              "#46039f"
             ],
             [
              0.2222222222222222,
              "#7201a8"
             ],
             [
              0.3333333333333333,
              "#9c179e"
             ],
             [
              0.4444444444444444,
              "#bd3786"
             ],
             [
              0.5555555555555556,
              "#d8576b"
             ],
             [
              0.6666666666666666,
              "#ed7953"
             ],
             [
              0.7777777777777778,
              "#fb9f3a"
             ],
             [
              0.8888888888888888,
              "#fdca26"
             ],
             [
              1,
              "#f0f921"
             ]
            ],
            "type": "histogram2d"
           }
          ],
          "histogram2dcontour": [
           {
            "colorbar": {
             "outlinewidth": 0,
             "ticks": ""
            },
            "colorscale": [
             [
              0,
              "#0d0887"
             ],
             [
              0.1111111111111111,
              "#46039f"
             ],
             [
              0.2222222222222222,
              "#7201a8"
             ],
             [
              0.3333333333333333,
              "#9c179e"
             ],
             [
              0.4444444444444444,
              "#bd3786"
             ],
             [
              0.5555555555555556,
              "#d8576b"
             ],
             [
              0.6666666666666666,
              "#ed7953"
             ],
             [
              0.7777777777777778,
              "#fb9f3a"
             ],
             [
              0.8888888888888888,
              "#fdca26"
             ],
             [
              1,
              "#f0f921"
             ]
            ],
            "type": "histogram2dcontour"
           }
          ],
          "mesh3d": [
           {
            "colorbar": {
             "outlinewidth": 0,
             "ticks": ""
            },
            "type": "mesh3d"
           }
          ],
          "parcoords": [
           {
            "line": {
             "colorbar": {
              "outlinewidth": 0,
              "ticks": ""
             }
            },
            "type": "parcoords"
           }
          ],
          "pie": [
           {
            "automargin": true,
            "type": "pie"
           }
          ],
          "scatter": [
           {
            "fillpattern": {
             "fillmode": "overlay",
             "size": 10,
             "solidity": 0.2
            },
            "type": "scatter"
           }
          ],
          "scatter3d": [
           {
            "line": {
             "colorbar": {
              "outlinewidth": 0,
              "ticks": ""
             }
            },
            "marker": {
             "colorbar": {
              "outlinewidth": 0,
              "ticks": ""
             }
            },
            "type": "scatter3d"
           }
          ],
          "scattercarpet": [
           {
            "marker": {
             "colorbar": {
              "outlinewidth": 0,
              "ticks": ""
             }
            },
            "type": "scattercarpet"
           }
          ],
          "scattergeo": [
           {
            "marker": {
             "colorbar": {
              "outlinewidth": 0,
              "ticks": ""
             }
            },
            "type": "scattergeo"
           }
          ],
          "scattergl": [
           {
            "marker": {
             "colorbar": {
              "outlinewidth": 0,
              "ticks": ""
             }
            },
            "type": "scattergl"
           }
          ],
          "scattermapbox": [
           {
            "marker": {
             "colorbar": {
              "outlinewidth": 0,
              "ticks": ""
             }
            },
            "type": "scattermapbox"
           }
          ],
          "scatterpolar": [
           {
            "marker": {
             "colorbar": {
              "outlinewidth": 0,
              "ticks": ""
             }
            },
            "type": "scatterpolar"
           }
          ],
          "scatterpolargl": [
           {
            "marker": {
             "colorbar": {
              "outlinewidth": 0,
              "ticks": ""
             }
            },
            "type": "scatterpolargl"
           }
          ],
          "scatterternary": [
           {
            "marker": {
             "colorbar": {
              "outlinewidth": 0,
              "ticks": ""
             }
            },
            "type": "scatterternary"
           }
          ],
          "surface": [
           {
            "colorbar": {
             "outlinewidth": 0,
             "ticks": ""
            },
            "colorscale": [
             [
              0,
              "#0d0887"
             ],
             [
              0.1111111111111111,
              "#46039f"
             ],
             [
              0.2222222222222222,
              "#7201a8"
             ],
             [
              0.3333333333333333,
              "#9c179e"
             ],
             [
              0.4444444444444444,
              "#bd3786"
             ],
             [
              0.5555555555555556,
              "#d8576b"
             ],
             [
              0.6666666666666666,
              "#ed7953"
             ],
             [
              0.7777777777777778,
              "#fb9f3a"
             ],
             [
              0.8888888888888888,
              "#fdca26"
             ],
             [
              1,
              "#f0f921"
             ]
            ],
            "type": "surface"
           }
          ],
          "table": [
           {
            "cells": {
             "fill": {
              "color": "#EBF0F8"
             },
             "line": {
              "color": "white"
             }
            },
            "header": {
             "fill": {
              "color": "#C8D4E3"
             },
             "line": {
              "color": "white"
             }
            },
            "type": "table"
           }
          ]
         },
         "layout": {
          "annotationdefaults": {
           "arrowcolor": "#2a3f5f",
           "arrowhead": 0,
           "arrowwidth": 1
          },
          "autotypenumbers": "strict",
          "coloraxis": {
           "colorbar": {
            "outlinewidth": 0,
            "ticks": ""
           }
          },
          "colorscale": {
           "diverging": [
            [
             0,
             "#8e0152"
            ],
            [
             0.1,
             "#c51b7d"
            ],
            [
             0.2,
             "#de77ae"
            ],
            [
             0.3,
             "#f1b6da"
            ],
            [
             0.4,
             "#fde0ef"
            ],
            [
             0.5,
             "#f7f7f7"
            ],
            [
             0.6,
             "#e6f5d0"
            ],
            [
             0.7,
             "#b8e186"
            ],
            [
             0.8,
             "#7fbc41"
            ],
            [
             0.9,
             "#4d9221"
            ],
            [
             1,
             "#276419"
            ]
           ],
           "sequential": [
            [
             0,
             "#0d0887"
            ],
            [
             0.1111111111111111,
             "#46039f"
            ],
            [
             0.2222222222222222,
             "#7201a8"
            ],
            [
             0.3333333333333333,
             "#9c179e"
            ],
            [
             0.4444444444444444,
             "#bd3786"
            ],
            [
             0.5555555555555556,
             "#d8576b"
            ],
            [
             0.6666666666666666,
             "#ed7953"
            ],
            [
             0.7777777777777778,
             "#fb9f3a"
            ],
            [
             0.8888888888888888,
             "#fdca26"
            ],
            [
             1,
             "#f0f921"
            ]
           ],
           "sequentialminus": [
            [
             0,
             "#0d0887"
            ],
            [
             0.1111111111111111,
             "#46039f"
            ],
            [
             0.2222222222222222,
             "#7201a8"
            ],
            [
             0.3333333333333333,
             "#9c179e"
            ],
            [
             0.4444444444444444,
             "#bd3786"
            ],
            [
             0.5555555555555556,
             "#d8576b"
            ],
            [
             0.6666666666666666,
             "#ed7953"
            ],
            [
             0.7777777777777778,
             "#fb9f3a"
            ],
            [
             0.8888888888888888,
             "#fdca26"
            ],
            [
             1,
             "#f0f921"
            ]
           ]
          },
          "colorway": [
           "#636efa",
           "#EF553B",
           "#00cc96",
           "#ab63fa",
           "#FFA15A",
           "#19d3f3",
           "#FF6692",
           "#B6E880",
           "#FF97FF",
           "#FECB52"
          ],
          "font": {
           "color": "#2a3f5f"
          },
          "geo": {
           "bgcolor": "white",
           "lakecolor": "white",
           "landcolor": "#E5ECF6",
           "showlakes": true,
           "showland": true,
           "subunitcolor": "white"
          },
          "hoverlabel": {
           "align": "left"
          },
          "hovermode": "closest",
          "mapbox": {
           "style": "light"
          },
          "paper_bgcolor": "white",
          "plot_bgcolor": "#E5ECF6",
          "polar": {
           "angularaxis": {
            "gridcolor": "white",
            "linecolor": "white",
            "ticks": ""
           },
           "bgcolor": "#E5ECF6",
           "radialaxis": {
            "gridcolor": "white",
            "linecolor": "white",
            "ticks": ""
           }
          },
          "scene": {
           "xaxis": {
            "backgroundcolor": "#E5ECF6",
            "gridcolor": "white",
            "gridwidth": 2,
            "linecolor": "white",
            "showbackground": true,
            "ticks": "",
            "zerolinecolor": "white"
           },
           "yaxis": {
            "backgroundcolor": "#E5ECF6",
            "gridcolor": "white",
            "gridwidth": 2,
            "linecolor": "white",
            "showbackground": true,
            "ticks": "",
            "zerolinecolor": "white"
           },
           "zaxis": {
            "backgroundcolor": "#E5ECF6",
            "gridcolor": "white",
            "gridwidth": 2,
            "linecolor": "white",
            "showbackground": true,
            "ticks": "",
            "zerolinecolor": "white"
           }
          },
          "shapedefaults": {
           "line": {
            "color": "#2a3f5f"
           }
          },
          "ternary": {
           "aaxis": {
            "gridcolor": "white",
            "linecolor": "white",
            "ticks": ""
           },
           "baxis": {
            "gridcolor": "white",
            "linecolor": "white",
            "ticks": ""
           },
           "bgcolor": "#E5ECF6",
           "caxis": {
            "gridcolor": "white",
            "linecolor": "white",
            "ticks": ""
           }
          },
          "title": {
           "x": 0.05
          },
          "xaxis": {
           "automargin": true,
           "gridcolor": "white",
           "linecolor": "white",
           "ticks": "",
           "title": {
            "standoff": 15
           },
           "zerolinecolor": "white",
           "zerolinewidth": 2
          },
          "yaxis": {
           "automargin": true,
           "gridcolor": "white",
           "linecolor": "white",
           "ticks": "",
           "title": {
            "standoff": 15
           },
           "zerolinecolor": "white",
           "zerolinewidth": 2
          }
         }
        }
       }
      }
     },
     "metadata": {},
     "output_type": "display_data"
    }
   ],
   "source": [
    "def f_n(x, y):\n",
    "    return np.cos(x) * np.sin(y)\n",
    "\n",
    "\n",
    "x, y, z, p = get_xyzpdata(-2, 3, 10, -2, 3, 10, 0, 1, f_n)\n",
    "\n",
    "func = LeastSquare2D(x, y, z, p, 6)\n",
    "\n",
    "x_pred = np.linspace(min(x), max(x), 40)\n",
    "y_pred = np.linspace(min(y), max(y), 40)\n",
    "z_graph = [[func(xi, yi) for xi in x_pred] for yi in y_pred]\n",
    "\n",
    "fig = px.scatter_3d(x=x, y=y, z=z)\n",
    "fig.add_trace(go.Surface(x=x_pred, y=y_pred, z=z_graph))\n",
    "fig.show()"
   ]
  },
  {
   "cell_type": "code",
   "execution_count": 10,
   "metadata": {},
   "outputs": [
    {
     "name": "stdout",
     "output_type": "stream",
     "text": [
      "395.833333  1291.580933  |    1.000000\n",
      "1910.288066  4412.071331  |    1.000000\n",
      "solution:\n",
      " -0.004329    0.002101  \n",
      "\n",
      "395.833333  1291.580933  2915.142032  |    1.000000\n",
      "1910.288066  4412.071331  11932.350082  |    1.000000\n",
      "5450.220050  15996.389616  39890.944320  |    1.000000\n",
      "solution:\n",
      "  0.012915    0.007819   -0.004875  \n",
      "\n",
      "deg 2:\n",
      "1.000000  -0.004329  0.002101  \n",
      "deg 3:\n",
      "1.000000  0.012915  0.007819  -0.004875  \n"
     ]
    },
    {
     "data": {
      "application/vnd.plotly.v1+json": {
       "config": {
        "plotlyServerURL": "https://plot.ly"
       },
       "data": [
        {
         "hovertemplate": "<extra></extra>",
         "legendgroup": "",
         "line": {
          "color": "#636efa",
          "dash": "solid"
         },
         "marker": {
          "symbol": "circle"
         },
         "mode": "lines",
         "name": "",
         "orientation": "v",
         "showlegend": false,
         "type": "scatter",
         "xaxis": "x",
         "yaxis": "y"
        },
        {
         "name": "решение",
         "type": "scatter",
         "x": [
          -0.5,
          -0.47474747474747475,
          -0.4494949494949495,
          -0.42424242424242425,
          -0.398989898989899,
          -0.3737373737373737,
          -0.3484848484848485,
          -0.3232323232323232,
          -0.297979797979798,
          -0.2727272727272727,
          -0.24747474747474746,
          -0.2222222222222222,
          -0.19696969696969696,
          -0.1717171717171717,
          -0.14646464646464646,
          -0.12121212121212122,
          -0.09595959595959597,
          -0.07070707070707072,
          -0.04545454545454547,
          -0.02020202020202022,
          0.005050505050505083,
          0.030303030303030276,
          0.05555555555555558,
          0.08080808080808077,
          0.10606060606060608,
          0.13131313131313127,
          0.15656565656565657,
          0.18181818181818177,
          0.20707070707070707,
          0.23232323232323226,
          0.25757575757575757,
          0.28282828282828276,
          0.30808080808080807,
          0.33333333333333337,
          0.35858585858585856,
          0.38383838383838387,
          0.40909090909090906,
          0.43434343434343436,
          0.45959595959595956,
          0.48484848484848486,
          0.5101010101010102,
          0.5353535353535352,
          0.5606060606060606,
          0.5858585858585859,
          0.6111111111111112,
          0.6363636363636362,
          0.6616161616161615,
          0.6868686868686869,
          0.7121212121212122,
          0.7373737373737375,
          0.7626262626262625,
          0.7878787878787878,
          0.8131313131313131,
          0.8383838383838385,
          0.8636363636363635,
          0.8888888888888888,
          0.9141414141414141,
          0.9393939393939394,
          0.9646464646464645,
          0.9898989898989898,
          1.0151515151515151,
          1.0404040404040404,
          1.0656565656565655,
          1.0909090909090908,
          1.1161616161616161,
          1.1414141414141414,
          1.1666666666666667,
          1.1919191919191918,
          1.2171717171717171,
          1.2424242424242424,
          1.2676767676767677,
          1.2929292929292928,
          1.3181818181818181,
          1.3434343434343434,
          1.3686868686868687,
          1.3939393939393938,
          1.4191919191919191,
          1.4444444444444444,
          1.4696969696969697,
          1.4949494949494948,
          1.5202020202020203,
          1.5454545454545454,
          1.5707070707070705,
          1.595959595959596,
          1.621212121212121,
          1.6464646464646466,
          1.6717171717171717,
          1.6969696969696968,
          1.7222222222222223,
          1.7474747474747474,
          1.7727272727272725,
          1.797979797979798,
          1.823232323232323,
          1.8484848484848486,
          1.8737373737373737,
          1.8989898989898988,
          1.9242424242424243,
          1.9494949494949494,
          1.974747474747475,
          2
         ],
         "y": [
          1.402887609373522,
          1.395387318617024,
          1.3862924743945801,
          1.3756284125202072,
          1.3634237759840764,
          1.3497104782008824,
          1.3345236553849606,
          1.317901608121649,
          1.2998857322534658,
          1.2805204392487497,
          1.2598530662689524,
          1.2379337761987048,
          1.2148154479497184,
          1.1905535573952342,
          1.1652060493359175,
          1.1388332009404543,
          1.1114974771444222,
          1.0832633785290877,
          1.0541972822372774,
          1.0243672765163185,
          0.9938429895079081,
          0.9626954129315783,
          0.930996721331943,
          0.898820087580062,
          0.8662394953358464,
          0.8333295491914859,
          0.8001652832251539,
          0.7668219686998782,
          0.7333749216443036,
          0.6998993110501337,
          0.6664699684154417,
          0.6331611993536717,
          0.6000465979752191,
          0.5671988647320418,
          0.5346896283958407,
          0.5025892728172315,
          0.47096676908708535,
          0.43988951369197443,
          0.40942317322375654,
          0.37963153616880907,
          0.35057637226562205,
          0.3223172998805609,
          0.29491166181085204,
          0.2684144098815182,
          0.24287799865933846,
          0.21835228856214853,
          0.19488445859631073,
          0.17251892890911238,
          0.15129729329656075,
          0.13125826176075556,
          0.11243761316501058,
          0.09486815798939989,
          0.0785797111447421,
          0.06359907475932226,
          0.049950030810269296,
          0.03765334343050647,
          0.026726770682970913,
          0.017185085556314646,
          0.009040105900963148,
          0.0023007329911827034,
          -0.0030270016320268532,
          -0.006939881410852779,
          -0.009437442512837848,
          -0.010521904487996041,
          -0.01019809428405749,
          -0.008473364080773609,
          -0.0053575034191846085,
          -0.0008626461139362834,
          0.004996827553912366,
          0.012204392859487972,
          0.020741486364149554,
          0.030587614843751283,
          0.0417204669072827,
          0.05411602680189,
          0.06774868990656557,
          0.08259137942537316,
          0.09861566380181148,
          0.11579187438870223,
          0.13408922292270273,
          0.15347591836896765,
          0.1739192827195431,
          0.19538586534856883,
          0.21784155554813628,
          0.24125169289055476,
          0.2655811750855979,
          0.2907945630249879,
          0.31685618273058325,
          0.34373022394751473,
          0.37138083514852616,
          0.3997722147409758,
          0.42886869829315966,
          0.4586348416216881,
          0.48903549960643194,
          0.5200359006239837,
          0.5516017165144261,
          0.5836991280194974,
          0.616294885652736,
          0.6493563659839088,
          0.6828516233408369,
          0.7167494369514852
         ]
        },
        {
         "name": "n = 2",
         "type": "scatter",
         "x": [
          -0.5,
          -0.47474747474747475,
          -0.4494949494949495,
          -0.42424242424242425,
          -0.398989898989899,
          -0.3737373737373737,
          -0.3484848484848485,
          -0.3232323232323232,
          -0.297979797979798,
          -0.2727272727272727,
          -0.24747474747474746,
          -0.2222222222222222,
          -0.19696969696969696,
          -0.1717171717171717,
          -0.14646464646464646,
          -0.12121212121212122,
          -0.09595959595959597,
          -0.07070707070707072,
          -0.04545454545454547,
          -0.02020202020202022,
          0.005050505050505083,
          0.030303030303030276,
          0.05555555555555558,
          0.08080808080808077,
          0.10606060606060608,
          0.13131313131313127,
          0.15656565656565657,
          0.18181818181818177,
          0.20707070707070707,
          0.23232323232323226,
          0.25757575757575757,
          0.28282828282828276,
          0.30808080808080807,
          0.33333333333333337,
          0.35858585858585856,
          0.38383838383838387,
          0.40909090909090906,
          0.43434343434343436,
          0.45959595959595956,
          0.48484848484848486,
          0.5101010101010102,
          0.5353535353535352,
          0.5606060606060606,
          0.5858585858585859,
          0.6111111111111112,
          0.6363636363636362,
          0.6616161616161615,
          0.6868686868686869,
          0.7121212121212122,
          0.7373737373737375,
          0.7626262626262625,
          0.7878787878787878,
          0.8131313131313131,
          0.8383838383838385,
          0.8636363636363635,
          0.8888888888888888,
          0.9141414141414141,
          0.9393939393939394,
          0.9646464646464645,
          0.9898989898989898,
          1.0151515151515151,
          1.0404040404040404,
          1.0656565656565655,
          1.0909090909090908,
          1.1161616161616161,
          1.1414141414141414,
          1.1666666666666667,
          1.1919191919191918,
          1.2171717171717171,
          1.2424242424242424,
          1.2676767676767677,
          1.2929292929292928,
          1.3181818181818181,
          1.3434343434343434,
          1.3686868686868687,
          1.3939393939393938,
          1.4191919191919191,
          1.4444444444444444,
          1.4696969696969697,
          1.4949494949494948,
          1.5202020202020203,
          1.5454545454545454,
          1.5707070707070705,
          1.595959595959596,
          1.621212121212121,
          1.6464646464646466,
          1.6717171717171717,
          1.6969696969696968,
          1.7222222222222223,
          1.7474747474747474,
          1.7727272727272725,
          1.797979797979798,
          1.823232323232323,
          1.8484848484848486,
          1.8737373737373737,
          1.8989898989898988,
          1.9242424242424243,
          1.9494949494949494,
          1.974747474747475,
          2
         ],
         "y": [
          1.5040345445994863,
          1.4784766183867324,
          1.4529307089426253,
          1.4273966132751055,
          1.4018741283921128,
          1.3763630513015874,
          1.3508631790114702,
          1.3253743085297005,
          1.2998962368642195,
          1.2744287610229668,
          1.2489716780138826,
          1.2235247848449076,
          1.1980878785239815,
          1.172660756059045,
          1.1472432144580378,
          1.1218350507289006,
          1.0964360618795734,
          1.0710460449179966,
          1.04566479685211,
          1.0202921146898547,
          0.9949277954391699,
          0.9695716361079965,
          0.9442234337042744,
          0.9188829852359441,
          0.8935500877109457,
          0.8682245381372194,
          0.8429061335227055,
          0.8175946708753442,
          0.7922899472030757,
          0.7669917595138404,
          0.7416999048155781,
          0.7164141801162295,
          0.6911343824237345,
          0.6658603087460335,
          0.6405917560910669,
          0.6153285214667745,
          0.5900704018810969,
          0.5648171943419742,
          0.5395686958573466,
          0.5143247034351544,
          0.4890850140833376,
          0.46384942480983693,
          0.43861773262259207,
          0.41338973452954353,
          0.3881652275386314,
          0.36294400865779636,
          0.33772587489497796,
          0.3125106232581168,
          0.2872980507551531,
          0.262087954394027,
          0.23688013118267906,
          0.211674378129049,
          0.18647049224107728,
          0.16126827052670417,
          0.13606750999387007,
          0.1108680076505148,
          0.0856695605045788,
          0.060471965564002306,
          0.03527501983672576,
          0.010078520330688963,
          -0.015117735946167644,
          -0.040313951985903825,
          -0.06551033078057913,
          -0.09070707532225378,
          -0.11590438860298731,
          -0.1411024736148395,
          -0.1663015333498701,
          -0.19150177080013867,
          -0.21670338895770544,
          -0.24190659081462995,
          -0.2671115793629719,
          -0.292318557594791,
          -0.31752772850214733,
          -0.34273929507710044,
          -0.36795346031171017,
          -0.39317042719803597,
          -0.41839039872813816,
          -0.44361357789407624,
          -0.46884016768791,
          -0.49407037110169894,
          -0.5193043911275035,
          -0.5445424307573826,
          -0.5697846929833965,
          -0.5950313807976053,
          -0.6202826971920679,
          -0.6455388451588451,
          -0.6708000276899955,
          -0.6960664477775796,
          -0.7213383084136575,
          -0.7466158125902881,
          -0.7718991632995316,
          -0.7971885635334481,
          -0.8224842162840966,
          -0.8477863245435379,
          -0.8730950913038307,
          -0.8984107195570351,
          -0.9237334122952116,
          -0.9490633725104188,
          -0.9744008031947177,
          -0.9997459073401668
         ]
        },
        {
         "name": "n = 3",
         "type": "scatter",
         "x": [
          -0.5,
          -0.47474747474747475,
          -0.4494949494949495,
          -0.42424242424242425,
          -0.398989898989899,
          -0.3737373737373737,
          -0.3484848484848485,
          -0.3232323232323232,
          -0.297979797979798,
          -0.2727272727272727,
          -0.24747474747474746,
          -0.2222222222222222,
          -0.19696969696969696,
          -0.1717171717171717,
          -0.14646464646464646,
          -0.12121212121212122,
          -0.09595959595959597,
          -0.07070707070707072,
          -0.04545454545454547,
          -0.02020202020202022,
          0.005050505050505083,
          0.030303030303030276,
          0.05555555555555558,
          0.08080808080808077,
          0.10606060606060608,
          0.13131313131313127,
          0.15656565656565657,
          0.18181818181818177,
          0.20707070707070707,
          0.23232323232323226,
          0.25757575757575757,
          0.28282828282828276,
          0.30808080808080807,
          0.33333333333333337,
          0.35858585858585856,
          0.38383838383838387,
          0.40909090909090906,
          0.43434343434343436,
          0.45959595959595956,
          0.48484848484848486,
          0.5101010101010102,
          0.5353535353535352,
          0.5606060606060606,
          0.5858585858585859,
          0.6111111111111112,
          0.6363636363636362,
          0.6616161616161615,
          0.6868686868686869,
          0.7121212121212122,
          0.7373737373737375,
          0.7626262626262625,
          0.7878787878787878,
          0.8131313131313131,
          0.8383838383838385,
          0.8636363636363635,
          0.8888888888888888,
          0.9141414141414141,
          0.9393939393939394,
          0.9646464646464645,
          0.9898989898989898,
          1.0151515151515151,
          1.0404040404040404,
          1.0656565656565655,
          1.0909090909090908,
          1.1161616161616161,
          1.1414141414141414,
          1.1666666666666667,
          1.1919191919191918,
          1.2171717171717171,
          1.2424242424242424,
          1.2676767676767677,
          1.2929292929292928,
          1.3181818181818181,
          1.3434343434343434,
          1.3686868686868687,
          1.3939393939393938,
          1.4191919191919191,
          1.4444444444444444,
          1.4696969696969697,
          1.4949494949494948,
          1.5202020202020203,
          1.5454545454545454,
          1.5707070707070705,
          1.595959595959596,
          1.621212121212121,
          1.6464646464646466,
          1.6717171717171717,
          1.6969696969696968,
          1.7222222222222223,
          1.7474747474747474,
          1.7727272727272725,
          1.797979797979798,
          1.823232323232323,
          1.8484848484848486,
          1.8737373737373737,
          1.8989898989898988,
          1.9242424242424243,
          1.9494949494949494,
          1.974747474747475,
          2
         ],
         "y": [
          1.4941598670068261,
          1.4690733886918894,
          1.4440118819972902,
          1.4189732496984997,
          1.3939554421498181,
          1.3689564572843764,
          1.3439743406141356,
          1.3190071852298855,
          1.2940531318012476,
          1.2691103685766714,
          1.2441771313834378,
          1.2192517036276573,
          1.1943324162942694,
          1.1694176479470448,
          1.1445058247285835,
          1.1195954203603156,
          1.0946849561425007,
          1.069773000954229,
          1.04485817125342,
          1.0199391310768235,
          0.995014592040019,
          0.9700833133374164,
          0.9451441017422548,
          0.920195811606604,
          0.895237344861363,
          0.8702676510162612,
          0.8452857271598578,
          0.8202906179595421,
          0.7952814156615327,
          0.7702572600908789,
          0.7452173386514593,
          0.7201608863259832,
          0.6950871856759889,
          0.6699955668418452,
          0.6448854075427509,
          0.6197561330767343,
          0.5946072163206539,
          0.569438177730198,
          0.5442485853398852,
          0.5190380547630632,
          0.49380624919191063,
          0.4685528793974356,
          0.4432777037294757,
          0.4179805281166991,
          0.39266120606660365,
          0.36731963866551737,
          0.3419557745785975,
          0.3165696100498319,
          0.2911611889020382,
          0.2657306025368638,
          0.2402779899347864,
          0.2148035376551129,
          0.18930747983598073,
          0.16379009819435716,
          0.13825172202603947,
          0.11269272820565432,
          0.08711354118665886,
          0.06151463300134001,
          0.03589652326081482,
          0.010259779155029593,
          -0.01539498454723877,
          -0.04106710549838367,
          -0.06675587377196834,
          -0.09246053186272678,
          -0.11818027468656239,
          -0.14391424958054885,
          -0.16966155630292992,
          -0.19542124703311922,
          -0.2211923263717011,
          -0.24697375134042937,
          -0.27276443138222806,
          -0.29856322836119104,
          -0.324368956562583,
          -0.350180382692838,
          -0.37599622587956044,
          -0.4018151576715244,
          -0.42763580203867496,
          -0.45345673537212644,
          -0.47927648648416343,
          -0.5050935366082405,
          -0.5309063193989831,
          -0.5567132209321852,
          -0.5825125797048122,
          -0.6083026866349995,
          -0.6340817850620515,
          -0.659848070746444,
          -0.6855996918698215,
          -0.7113347490349997,
          -0.7370512952659646,
          -0.7627473360078705,
          -0.7884208291270436,
          -0.8140696849109799,
          -0.8396917660683441,
          -0.8652848877289729,
          -0.8908468174438714,
          -0.9163752751852157,
          -0.9418679333463523,
          -0.9673224167417965,
          -0.9927363026072352,
          -1.0181071205995238
         ]
        }
       ],
       "layout": {
        "legend": {
         "tracegroupgap": 0
        },
        "margin": {
         "t": 60
        },
        "template": {
         "data": {
          "bar": [
           {
            "error_x": {
             "color": "#2a3f5f"
            },
            "error_y": {
             "color": "#2a3f5f"
            },
            "marker": {
             "line": {
              "color": "#E5ECF6",
              "width": 0.5
             },
             "pattern": {
              "fillmode": "overlay",
              "size": 10,
              "solidity": 0.2
             }
            },
            "type": "bar"
           }
          ],
          "barpolar": [
           {
            "marker": {
             "line": {
              "color": "#E5ECF6",
              "width": 0.5
             },
             "pattern": {
              "fillmode": "overlay",
              "size": 10,
              "solidity": 0.2
             }
            },
            "type": "barpolar"
           }
          ],
          "carpet": [
           {
            "aaxis": {
             "endlinecolor": "#2a3f5f",
             "gridcolor": "white",
             "linecolor": "white",
             "minorgridcolor": "white",
             "startlinecolor": "#2a3f5f"
            },
            "baxis": {
             "endlinecolor": "#2a3f5f",
             "gridcolor": "white",
             "linecolor": "white",
             "minorgridcolor": "white",
             "startlinecolor": "#2a3f5f"
            },
            "type": "carpet"
           }
          ],
          "choropleth": [
           {
            "colorbar": {
             "outlinewidth": 0,
             "ticks": ""
            },
            "type": "choropleth"
           }
          ],
          "contour": [
           {
            "colorbar": {
             "outlinewidth": 0,
             "ticks": ""
            },
            "colorscale": [
             [
              0,
              "#0d0887"
             ],
             [
              0.1111111111111111,
              "#46039f"
             ],
             [
              0.2222222222222222,
              "#7201a8"
             ],
             [
              0.3333333333333333,
              "#9c179e"
             ],
             [
              0.4444444444444444,
              "#bd3786"
             ],
             [
              0.5555555555555556,
              "#d8576b"
             ],
             [
              0.6666666666666666,
              "#ed7953"
             ],
             [
              0.7777777777777778,
              "#fb9f3a"
             ],
             [
              0.8888888888888888,
              "#fdca26"
             ],
             [
              1,
              "#f0f921"
             ]
            ],
            "type": "contour"
           }
          ],
          "contourcarpet": [
           {
            "colorbar": {
             "outlinewidth": 0,
             "ticks": ""
            },
            "type": "contourcarpet"
           }
          ],
          "heatmap": [
           {
            "colorbar": {
             "outlinewidth": 0,
             "ticks": ""
            },
            "colorscale": [
             [
              0,
              "#0d0887"
             ],
             [
              0.1111111111111111,
              "#46039f"
             ],
             [
              0.2222222222222222,
              "#7201a8"
             ],
             [
              0.3333333333333333,
              "#9c179e"
             ],
             [
              0.4444444444444444,
              "#bd3786"
             ],
             [
              0.5555555555555556,
              "#d8576b"
             ],
             [
              0.6666666666666666,
              "#ed7953"
             ],
             [
              0.7777777777777778,
              "#fb9f3a"
             ],
             [
              0.8888888888888888,
              "#fdca26"
             ],
             [
              1,
              "#f0f921"
             ]
            ],
            "type": "heatmap"
           }
          ],
          "heatmapgl": [
           {
            "colorbar": {
             "outlinewidth": 0,
             "ticks": ""
            },
            "colorscale": [
             [
              0,
              "#0d0887"
             ],
             [
              0.1111111111111111,
              "#46039f"
             ],
             [
              0.2222222222222222,
              "#7201a8"
             ],
             [
              0.3333333333333333,
              "#9c179e"
             ],
             [
              0.4444444444444444,
              "#bd3786"
             ],
             [
              0.5555555555555556,
              "#d8576b"
             ],
             [
              0.6666666666666666,
              "#ed7953"
             ],
             [
              0.7777777777777778,
              "#fb9f3a"
             ],
             [
              0.8888888888888888,
              "#fdca26"
             ],
             [
              1,
              "#f0f921"
             ]
            ],
            "type": "heatmapgl"
           }
          ],
          "histogram": [
           {
            "marker": {
             "pattern": {
              "fillmode": "overlay",
              "size": 10,
              "solidity": 0.2
             }
            },
            "type": "histogram"
           }
          ],
          "histogram2d": [
           {
            "colorbar": {
             "outlinewidth": 0,
             "ticks": ""
            },
            "colorscale": [
             [
              0,
              "#0d0887"
             ],
             [
              0.1111111111111111,
              "#46039f"
             ],
             [
              0.2222222222222222,
              "#7201a8"
             ],
             [
              0.3333333333333333,
              "#9c179e"
             ],
             [
              0.4444444444444444,
              "#bd3786"
             ],
             [
              0.5555555555555556,
              "#d8576b"
             ],
             [
              0.6666666666666666,
              "#ed7953"
             ],
             [
              0.7777777777777778,
              "#fb9f3a"
             ],
             [
              0.8888888888888888,
              "#fdca26"
             ],
             [
              1,
              "#f0f921"
             ]
            ],
            "type": "histogram2d"
           }
          ],
          "histogram2dcontour": [
           {
            "colorbar": {
             "outlinewidth": 0,
             "ticks": ""
            },
            "colorscale": [
             [
              0,
              "#0d0887"
             ],
             [
              0.1111111111111111,
              "#46039f"
             ],
             [
              0.2222222222222222,
              "#7201a8"
             ],
             [
              0.3333333333333333,
              "#9c179e"
             ],
             [
              0.4444444444444444,
              "#bd3786"
             ],
             [
              0.5555555555555556,
              "#d8576b"
             ],
             [
              0.6666666666666666,
              "#ed7953"
             ],
             [
              0.7777777777777778,
              "#fb9f3a"
             ],
             [
              0.8888888888888888,
              "#fdca26"
             ],
             [
              1,
              "#f0f921"
             ]
            ],
            "type": "histogram2dcontour"
           }
          ],
          "mesh3d": [
           {
            "colorbar": {
             "outlinewidth": 0,
             "ticks": ""
            },
            "type": "mesh3d"
           }
          ],
          "parcoords": [
           {
            "line": {
             "colorbar": {
              "outlinewidth": 0,
              "ticks": ""
             }
            },
            "type": "parcoords"
           }
          ],
          "pie": [
           {
            "automargin": true,
            "type": "pie"
           }
          ],
          "scatter": [
           {
            "fillpattern": {
             "fillmode": "overlay",
             "size": 10,
             "solidity": 0.2
            },
            "type": "scatter"
           }
          ],
          "scatter3d": [
           {
            "line": {
             "colorbar": {
              "outlinewidth": 0,
              "ticks": ""
             }
            },
            "marker": {
             "colorbar": {
              "outlinewidth": 0,
              "ticks": ""
             }
            },
            "type": "scatter3d"
           }
          ],
          "scattercarpet": [
           {
            "marker": {
             "colorbar": {
              "outlinewidth": 0,
              "ticks": ""
             }
            },
            "type": "scattercarpet"
           }
          ],
          "scattergeo": [
           {
            "marker": {
             "colorbar": {
              "outlinewidth": 0,
              "ticks": ""
             }
            },
            "type": "scattergeo"
           }
          ],
          "scattergl": [
           {
            "marker": {
             "colorbar": {
              "outlinewidth": 0,
              "ticks": ""
             }
            },
            "type": "scattergl"
           }
          ],
          "scattermapbox": [
           {
            "marker": {
             "colorbar": {
              "outlinewidth": 0,
              "ticks": ""
             }
            },
            "type": "scattermapbox"
           }
          ],
          "scatterpolar": [
           {
            "marker": {
             "colorbar": {
              "outlinewidth": 0,
              "ticks": ""
             }
            },
            "type": "scatterpolar"
           }
          ],
          "scatterpolargl": [
           {
            "marker": {
             "colorbar": {
              "outlinewidth": 0,
              "ticks": ""
             }
            },
            "type": "scatterpolargl"
           }
          ],
          "scatterternary": [
           {
            "marker": {
             "colorbar": {
              "outlinewidth": 0,
              "ticks": ""
             }
            },
            "type": "scatterternary"
           }
          ],
          "surface": [
           {
            "colorbar": {
             "outlinewidth": 0,
             "ticks": ""
            },
            "colorscale": [
             [
              0,
              "#0d0887"
             ],
             [
              0.1111111111111111,
              "#46039f"
             ],
             [
              0.2222222222222222,
              "#7201a8"
             ],
             [
              0.3333333333333333,
              "#9c179e"
             ],
             [
              0.4444444444444444,
              "#bd3786"
             ],
             [
              0.5555555555555556,
              "#d8576b"
             ],
             [
              0.6666666666666666,
              "#ed7953"
             ],
             [
              0.7777777777777778,
              "#fb9f3a"
             ],
             [
              0.8888888888888888,
              "#fdca26"
             ],
             [
              1,
              "#f0f921"
             ]
            ],
            "type": "surface"
           }
          ],
          "table": [
           {
            "cells": {
             "fill": {
              "color": "#EBF0F8"
             },
             "line": {
              "color": "white"
             }
            },
            "header": {
             "fill": {
              "color": "#C8D4E3"
             },
             "line": {
              "color": "white"
             }
            },
            "type": "table"
           }
          ]
         },
         "layout": {
          "annotationdefaults": {
           "arrowcolor": "#2a3f5f",
           "arrowhead": 0,
           "arrowwidth": 1
          },
          "autotypenumbers": "strict",
          "coloraxis": {
           "colorbar": {
            "outlinewidth": 0,
            "ticks": ""
           }
          },
          "colorscale": {
           "diverging": [
            [
             0,
             "#8e0152"
            ],
            [
             0.1,
             "#c51b7d"
            ],
            [
             0.2,
             "#de77ae"
            ],
            [
             0.3,
             "#f1b6da"
            ],
            [
             0.4,
             "#fde0ef"
            ],
            [
             0.5,
             "#f7f7f7"
            ],
            [
             0.6,
             "#e6f5d0"
            ],
            [
             0.7,
             "#b8e186"
            ],
            [
             0.8,
             "#7fbc41"
            ],
            [
             0.9,
             "#4d9221"
            ],
            [
             1,
             "#276419"
            ]
           ],
           "sequential": [
            [
             0,
             "#0d0887"
            ],
            [
             0.1111111111111111,
             "#46039f"
            ],
            [
             0.2222222222222222,
             "#7201a8"
            ],
            [
             0.3333333333333333,
             "#9c179e"
            ],
            [
             0.4444444444444444,
             "#bd3786"
            ],
            [
             0.5555555555555556,
             "#d8576b"
            ],
            [
             0.6666666666666666,
             "#ed7953"
            ],
            [
             0.7777777777777778,
             "#fb9f3a"
            ],
            [
             0.8888888888888888,
             "#fdca26"
            ],
            [
             1,
             "#f0f921"
            ]
           ],
           "sequentialminus": [
            [
             0,
             "#0d0887"
            ],
            [
             0.1111111111111111,
             "#46039f"
            ],
            [
             0.2222222222222222,
             "#7201a8"
            ],
            [
             0.3333333333333333,
             "#9c179e"
            ],
            [
             0.4444444444444444,
             "#bd3786"
            ],
            [
             0.5555555555555556,
             "#d8576b"
            ],
            [
             0.6666666666666666,
             "#ed7953"
            ],
            [
             0.7777777777777778,
             "#fb9f3a"
            ],
            [
             0.8888888888888888,
             "#fdca26"
            ],
            [
             1,
             "#f0f921"
            ]
           ]
          },
          "colorway": [
           "#636efa",
           "#EF553B",
           "#00cc96",
           "#ab63fa",
           "#FFA15A",
           "#19d3f3",
           "#FF6692",
           "#B6E880",
           "#FF97FF",
           "#FECB52"
          ],
          "font": {
           "color": "#2a3f5f"
          },
          "geo": {
           "bgcolor": "white",
           "lakecolor": "white",
           "landcolor": "#E5ECF6",
           "showlakes": true,
           "showland": true,
           "subunitcolor": "white"
          },
          "hoverlabel": {
           "align": "left"
          },
          "hovermode": "closest",
          "mapbox": {
           "style": "light"
          },
          "paper_bgcolor": "white",
          "plot_bgcolor": "#E5ECF6",
          "polar": {
           "angularaxis": {
            "gridcolor": "white",
            "linecolor": "white",
            "ticks": ""
           },
           "bgcolor": "#E5ECF6",
           "radialaxis": {
            "gridcolor": "white",
            "linecolor": "white",
            "ticks": ""
           }
          },
          "scene": {
           "xaxis": {
            "backgroundcolor": "#E5ECF6",
            "gridcolor": "white",
            "gridwidth": 2,
            "linecolor": "white",
            "showbackground": true,
            "ticks": "",
            "zerolinecolor": "white"
           },
           "yaxis": {
            "backgroundcolor": "#E5ECF6",
            "gridcolor": "white",
            "gridwidth": 2,
            "linecolor": "white",
            "showbackground": true,
            "ticks": "",
            "zerolinecolor": "white"
           },
           "zaxis": {
            "backgroundcolor": "#E5ECF6",
            "gridcolor": "white",
            "gridwidth": 2,
            "linecolor": "white",
            "showbackground": true,
            "ticks": "",
            "zerolinecolor": "white"
           }
          },
          "shapedefaults": {
           "line": {
            "color": "#2a3f5f"
           }
          },
          "ternary": {
           "aaxis": {
            "gridcolor": "white",
            "linecolor": "white",
            "ticks": ""
           },
           "baxis": {
            "gridcolor": "white",
            "linecolor": "white",
            "ticks": ""
           },
           "bgcolor": "#E5ECF6",
           "caxis": {
            "gridcolor": "white",
            "linecolor": "white",
            "ticks": ""
           }
          },
          "title": {
           "x": 0.05
          },
          "xaxis": {
           "automargin": true,
           "gridcolor": "white",
           "linecolor": "white",
           "ticks": "",
           "title": {
            "standoff": 15
           },
           "zerolinecolor": "white",
           "zerolinewidth": 2
          },
          "yaxis": {
           "automargin": true,
           "gridcolor": "white",
           "linecolor": "white",
           "ticks": "",
           "title": {
            "standoff": 15
           },
           "zerolinecolor": "white",
           "zerolinewidth": 2
          }
         }
        },
        "xaxis": {
         "anchor": "y",
         "domain": [
          0,
          1
         ]
        },
        "yaxis": {
         "anchor": "x",
         "domain": [
          0,
          1
         ]
        }
       }
      }
     },
     "metadata": {},
     "output_type": "display_data"
    }
   ],
   "source": [
    "def ODESolution(x):\n",
    "    return (\n",
    "        np.exp(-(x**2) / 2)\n",
    "        * (\n",
    "            (1 + np.exp(x**2 / 2) * x) * erfi(1 / np.sqrt(2))\n",
    "            - (1 + np.sqrt(np.e)) * erfi(x / np.sqrt(2))\n",
    "        )\n",
    "    ) / erfi(1 / np.sqrt(2))\n",
    "\n",
    "\n",
    "def f_n(x, n):\n",
    "    return x**n * (1 - x)\n",
    "\n",
    "\n",
    "def f0(x):\n",
    "    return f_n(x, 0)\n",
    "\n",
    "\n",
    "def f1(x):\n",
    "    return f_n(x, 1)\n",
    "\n",
    "\n",
    "def f2(x):\n",
    "    return f_n(x, 2)\n",
    "\n",
    "\n",
    "def f3(x):\n",
    "    return f_n(x, 3)\n",
    "\n",
    "\n",
    "def f4(x):\n",
    "    return f_n(x, 4)\n",
    "\n",
    "\n",
    "def c0(x):\n",
    "    return 1 - 4 * x\n",
    "\n",
    "\n",
    "def c1(x):\n",
    "    return -2 + 2 * x - 3 * x**2\n",
    "\n",
    "\n",
    "def c2(x):\n",
    "    return 2 - 6 * x + 3 * x**2 - 4 * x**3\n",
    "\n",
    "\n",
    "def c3(x):\n",
    "    return 6 * x - 12 * x**2 + 4 * x**3 - 5 * x**4\n",
    "\n",
    "\n",
    "\n",
    "x = np.linspace(-0.5, 2.0, 100)\n",
    "y = [ODESolution(xp) for xp in x]\n",
    "\n",
    "\n",
    "x_pred = np.linspace(-0.5, 2.0, 10)\n",
    "f_pred2, c_pred2 = ODE(x_pred, 2, [f0, f1, f2], [c0, c1, c2])\n",
    "f_pred3, c_pred3 = ODE(x_pred, 3, [f0, f1, f2, f3], [c0, c1, c2, c3])\n",
    "\n",
    "print(\"deg 2:\")\n",
    "for coeff in [1.0, *c_pred2]:\n",
    "    print(f\"{coeff:.6f}\", end=\"  \")\n",
    "print()\n",
    "print(\"deg 3:\")\n",
    "for coeff in [1.0, *c_pred3]:\n",
    "    print(f\"{coeff:.6f}\", end=\"  \")\n",
    "print()\n",
    "\n",
    "y_pred2 = [f_pred2(xp) for xp in x]\n",
    "y_pred3 = [f_pred3(xp) for xp in x]\n",
    "\n",
    "fig = px.line()\n",
    "fig.add_trace(go.Scatter(x=x, y=y, name=\"решение\"))\n",
    "fig.add_trace(go.Scatter(x=x, y=y_pred2, name=\"n = 2\"))\n",
    "fig.add_trace(go.Scatter(x=x, y=y_pred3, name=\"n = 3\"))\n",
    "# fig.add_trace(go.Scatter(x=x, y=y_pred4, name=\"n = 4\"))\n",
    "\n",
    "fig.show()"
   ]
  }
 ],
 "metadata": {
  "kernelspec": {
   "display_name": "Python 3",
   "language": "python",
   "name": "python3"
  },
  "language_info": {
   "codemirror_mode": {
    "name": "ipython",
    "version": 3
   },
   "file_extension": ".py",
   "mimetype": "text/x-python",
   "name": "python",
   "nbconvert_exporter": "python",
   "pygments_lexer": "ipython3",
   "version": "3.11.7"
  }
 },
 "nbformat": 4,
 "nbformat_minor": 2
}
