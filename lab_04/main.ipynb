{
 "cells": [
  {
   "cell_type": "code",
   "execution_count": 1,
   "metadata": {},
   "outputs": [],
   "source": [
    "import plotly.express as px\n",
    "import plotly.graph_objects as go\n",
    "from src.io import *\n",
    "from src.least_squares import *\n",
    "from src.ode import ODE\n",
    "import numpy as np\n",
    "from scipy.special import erfi"
   ]
  },
  {
   "cell_type": "code",
   "execution_count": 2,
   "metadata": {},
   "outputs": [
    {
     "name": "stdout",
     "output_type": "stream",
     "text": [
      "Коэф-ты:\n",
      "0:\t1.000000\n",
      "1:\t-0.593811\n",
      "2:\t0.066731\n",
      "3:\t-0.000194\n",
      "4:\t0.001088\n",
      "5:\t-0.000245\n",
      "6:\t0.000018\n",
      "7:\t-0.000001\n",
      "8:\t0.000000\n",
      "9:\t-0.000000\n"
     ]
    },
    {
     "data": {
      "application/vnd.plotly.v1+json": {
       "config": {
        "plotlyServerURL": "https://plot.ly"
       },
       "data": [
        {
         "hovertemplate": "x=%{x}<br>y=%{y}<extra></extra>",
         "legendgroup": "",
         "marker": {
          "color": "#636efa",
          "symbol": "circle"
         },
         "mode": "markers",
         "name": "",
         "orientation": "v",
         "showlegend": false,
         "type": "scatter",
         "x": [
          0,
          2.5,
          5,
          7.5,
          10
         ],
         "xaxis": "x",
         "y": [
          1,
          -0.048,
          -0.178,
          0.266,
          -0.246
         ],
         "yaxis": "y"
        },
        {
         "name": "Приближение",
         "type": "scatter",
         "x": [
          0,
          0.10101010101010101,
          0.20202020202020202,
          0.30303030303030304,
          0.40404040404040403,
          0.5050505050505051,
          0.6060606060606061,
          0.7070707070707071,
          0.8080808080808081,
          0.9090909090909091,
          1.0101010101010102,
          1.1111111111111112,
          1.2121212121212122,
          1.3131313131313131,
          1.4141414141414141,
          1.5151515151515151,
          1.6161616161616161,
          1.7171717171717171,
          1.8181818181818181,
          1.9191919191919191,
          2.0202020202020203,
          2.121212121212121,
          2.2222222222222223,
          2.323232323232323,
          2.4242424242424243,
          2.525252525252525,
          2.6262626262626263,
          2.727272727272727,
          2.8282828282828283,
          2.929292929292929,
          3.0303030303030303,
          3.131313131313131,
          3.2323232323232323,
          3.3333333333333335,
          3.4343434343434343,
          3.5353535353535355,
          3.6363636363636362,
          3.7373737373737375,
          3.8383838383838382,
          3.9393939393939394,
          4.040404040404041,
          4.141414141414141,
          4.242424242424242,
          4.343434343434343,
          4.444444444444445,
          4.545454545454545,
          4.646464646464646,
          4.747474747474747,
          4.848484848484849,
          4.94949494949495,
          5.05050505050505,
          5.151515151515151,
          5.252525252525253,
          5.353535353535354,
          5.454545454545454,
          5.555555555555555,
          5.656565656565657,
          5.757575757575758,
          5.858585858585858,
          5.959595959595959,
          6.0606060606060606,
          6.161616161616162,
          6.262626262626262,
          6.363636363636363,
          6.4646464646464645,
          6.565656565656566,
          6.666666666666667,
          6.767676767676767,
          6.8686868686868685,
          6.96969696969697,
          7.070707070707071,
          7.171717171717171,
          7.2727272727272725,
          7.373737373737374,
          7.474747474747475,
          7.575757575757575,
          7.6767676767676765,
          7.777777777777778,
          7.878787878787879,
          7.979797979797979,
          8.080808080808081,
          8.181818181818182,
          8.282828282828282,
          8.383838383838384,
          8.484848484848484,
          8.585858585858587,
          8.686868686868687,
          8.787878787878787,
          8.88888888888889,
          8.98989898989899,
          9.09090909090909,
          9.191919191919192,
          9.292929292929292,
          9.393939393939394,
          9.494949494949495,
          9.595959595959595,
          9.696969696969697,
          9.797979797979798,
          9.8989898989899,
          10
         ],
         "y": [
          1,
          0.939164641012245,
          0.8798909046806265,
          0.8221770104910782,
          0.766021637903493,
          0.7114238639074213,
          0.6583831023098297,
          0.6068990446367412,
          0.5569716025360482,
          0.5086008515738804,
          0.4617869763216414,
          0.41653021663513146,
          0.3728308150310792,
          0.33068896506987144,
          0.29010476065628443,
          0.2510781461725569,
          0.213608867360213,
          0.17769642286859016,
          0.14334001638906274,
          0.11053850929444317,
          0.0792903737029911,
          0.04959364588581154,
          0.021445879935213366,
          -0.005155898390239212,
          -0.03021523773070872,
          -0.05373630718991548,
          -0.07572394249340302,
          -0.09618369233824733,
          -0.11512186503735677,
          -0.13254557556733979,
          -0.14846279313549918,
          -0.16288238938880847,
          -0.1758141873958216,
          -0.1872690115413096,
          -0.19725873848308303,
          -0.20579634933092583,
          -0.21289598321886816,
          -0.21857299245417816,
          -0.22284399943947375,
          -0.2257269555782595,
          -0.22724120238898923,
          -0.22740753506849512,
          -0.22624826876226178,
          -0.22378730781666178,
          -0.220050218306825,
          -0.21506430415340974,
          -0.20885868716210362,
          -0.20146439134128827,
          -0.19291443187593796,
          -0.1832439091595184,
          -0.17249010831042286,
          -0.16069260462534332,
          -0.14789337544894068,
          -0.1341369189672867,
          -0.11947038046177275,
          -0.10394368659059751,
          -0.08760968829651553,
          -0.07052431297230514,
          -0.05274672654940536,
          -0.03433950621037158,
          -0.015368824462293486,
          0.004095354653980631,
          0.023979066404946736,
          0.04420412240170089,
          0.06468787293753762,
          0.08534295368715125,
          0.10607701578434349,
          0.1267924382495149,
          0.14738602169110052,
          0.16774866215669418,
          0.18776500395966975,
          0.2073130702558254,
          0.22626387009177548,
          0.24448098059254653,
          0.26182010290015223,
          0.27812859041759685,
          0.29324494785405447,
          0.306998299506607,
          0.31920782515209684,
          0.3296821618591709,
          0.3382187699655605,
          0.3446032613990179,
          0.34860868845200155,
          0.34999479105034714,
          0.3485072004845026,
          0.3438765974987027,
          0.33581782255847786,
          0.3240289360401939,
          0.30819022600795654,
          0.28796316116301474,
          0.2629892864689174,
          0.2328890588719548,
          0.1972606204508956,
          0.1556785062427386,
          0.10769228390204544,
          0.05282512226034092,
          -0.009427714240686502,
          -0.079600448363352,
          -0.15825845335324734,
          -0.24600000000000077
         ]
        }
       ],
       "layout": {
        "legend": {
         "tracegroupgap": 0
        },
        "margin": {
         "t": 60
        },
        "template": {
         "data": {
          "bar": [
           {
            "error_x": {
             "color": "#2a3f5f"
            },
            "error_y": {
             "color": "#2a3f5f"
            },
            "marker": {
             "line": {
              "color": "#E5ECF6",
              "width": 0.5
             },
             "pattern": {
              "fillmode": "overlay",
              "size": 10,
              "solidity": 0.2
             }
            },
            "type": "bar"
           }
          ],
          "barpolar": [
           {
            "marker": {
             "line": {
              "color": "#E5ECF6",
              "width": 0.5
             },
             "pattern": {
              "fillmode": "overlay",
              "size": 10,
              "solidity": 0.2
             }
            },
            "type": "barpolar"
           }
          ],
          "carpet": [
           {
            "aaxis": {
             "endlinecolor": "#2a3f5f",
             "gridcolor": "white",
             "linecolor": "white",
             "minorgridcolor": "white",
             "startlinecolor": "#2a3f5f"
            },
            "baxis": {
             "endlinecolor": "#2a3f5f",
             "gridcolor": "white",
             "linecolor": "white",
             "minorgridcolor": "white",
             "startlinecolor": "#2a3f5f"
            },
            "type": "carpet"
           }
          ],
          "choropleth": [
           {
            "colorbar": {
             "outlinewidth": 0,
             "ticks": ""
            },
            "type": "choropleth"
           }
          ],
          "contour": [
           {
            "colorbar": {
             "outlinewidth": 0,
             "ticks": ""
            },
            "colorscale": [
             [
              0,
              "#0d0887"
             ],
             [
              0.1111111111111111,
              "#46039f"
             ],
             [
              0.2222222222222222,
              "#7201a8"
             ],
             [
              0.3333333333333333,
              "#9c179e"
             ],
             [
              0.4444444444444444,
              "#bd3786"
             ],
             [
              0.5555555555555556,
              "#d8576b"
             ],
             [
              0.6666666666666666,
              "#ed7953"
             ],
             [
              0.7777777777777778,
              "#fb9f3a"
             ],
             [
              0.8888888888888888,
              "#fdca26"
             ],
             [
              1,
              "#f0f921"
             ]
            ],
            "type": "contour"
           }
          ],
          "contourcarpet": [
           {
            "colorbar": {
             "outlinewidth": 0,
             "ticks": ""
            },
            "type": "contourcarpet"
           }
          ],
          "heatmap": [
           {
            "colorbar": {
             "outlinewidth": 0,
             "ticks": ""
            },
            "colorscale": [
             [
              0,
              "#0d0887"
             ],
             [
              0.1111111111111111,
              "#46039f"
             ],
             [
              0.2222222222222222,
              "#7201a8"
             ],
             [
              0.3333333333333333,
              "#9c179e"
             ],
             [
              0.4444444444444444,
              "#bd3786"
             ],
             [
              0.5555555555555556,
              "#d8576b"
             ],
             [
              0.6666666666666666,
              "#ed7953"
             ],
             [
              0.7777777777777778,
              "#fb9f3a"
             ],
             [
              0.8888888888888888,
              "#fdca26"
             ],
             [
              1,
              "#f0f921"
             ]
            ],
            "type": "heatmap"
           }
          ],
          "heatmapgl": [
           {
            "colorbar": {
             "outlinewidth": 0,
             "ticks": ""
            },
            "colorscale": [
             [
              0,
              "#0d0887"
             ],
             [
              0.1111111111111111,
              "#46039f"
             ],
             [
              0.2222222222222222,
              "#7201a8"
             ],
             [
              0.3333333333333333,
              "#9c179e"
             ],
             [
              0.4444444444444444,
              "#bd3786"
             ],
             [
              0.5555555555555556,
              "#d8576b"
             ],
             [
              0.6666666666666666,
              "#ed7953"
             ],
             [
              0.7777777777777778,
              "#fb9f3a"
             ],
             [
              0.8888888888888888,
              "#fdca26"
             ],
             [
              1,
              "#f0f921"
             ]
            ],
            "type": "heatmapgl"
           }
          ],
          "histogram": [
           {
            "marker": {
             "pattern": {
              "fillmode": "overlay",
              "size": 10,
              "solidity": 0.2
             }
            },
            "type": "histogram"
           }
          ],
          "histogram2d": [
           {
            "colorbar": {
             "outlinewidth": 0,
             "ticks": ""
            },
            "colorscale": [
             [
              0,
              "#0d0887"
             ],
             [
              0.1111111111111111,
              "#46039f"
             ],
             [
              0.2222222222222222,
              "#7201a8"
             ],
             [
              0.3333333333333333,
              "#9c179e"
             ],
             [
              0.4444444444444444,
              "#bd3786"
             ],
             [
              0.5555555555555556,
              "#d8576b"
             ],
             [
              0.6666666666666666,
              "#ed7953"
             ],
             [
              0.7777777777777778,
              "#fb9f3a"
             ],
             [
              0.8888888888888888,
              "#fdca26"
             ],
             [
              1,
              "#f0f921"
             ]
            ],
            "type": "histogram2d"
           }
          ],
          "histogram2dcontour": [
           {
            "colorbar": {
             "outlinewidth": 0,
             "ticks": ""
            },
            "colorscale": [
             [
              0,
              "#0d0887"
             ],
             [
              0.1111111111111111,
              "#46039f"
             ],
             [
              0.2222222222222222,
              "#7201a8"
             ],
             [
              0.3333333333333333,
              "#9c179e"
             ],
             [
              0.4444444444444444,
              "#bd3786"
             ],
             [
              0.5555555555555556,
              "#d8576b"
             ],
             [
              0.6666666666666666,
              "#ed7953"
             ],
             [
              0.7777777777777778,
              "#fb9f3a"
             ],
             [
              0.8888888888888888,
              "#fdca26"
             ],
             [
              1,
              "#f0f921"
             ]
            ],
            "type": "histogram2dcontour"
           }
          ],
          "mesh3d": [
           {
            "colorbar": {
             "outlinewidth": 0,
             "ticks": ""
            },
            "type": "mesh3d"
           }
          ],
          "parcoords": [
           {
            "line": {
             "colorbar": {
              "outlinewidth": 0,
              "ticks": ""
             }
            },
            "type": "parcoords"
           }
          ],
          "pie": [
           {
            "automargin": true,
            "type": "pie"
           }
          ],
          "scatter": [
           {
            "fillpattern": {
             "fillmode": "overlay",
             "size": 10,
             "solidity": 0.2
            },
            "type": "scatter"
           }
          ],
          "scatter3d": [
           {
            "line": {
             "colorbar": {
              "outlinewidth": 0,
              "ticks": ""
             }
            },
            "marker": {
             "colorbar": {
              "outlinewidth": 0,
              "ticks": ""
             }
            },
            "type": "scatter3d"
           }
          ],
          "scattercarpet": [
           {
            "marker": {
             "colorbar": {
              "outlinewidth": 0,
              "ticks": ""
             }
            },
            "type": "scattercarpet"
           }
          ],
          "scattergeo": [
           {
            "marker": {
             "colorbar": {
              "outlinewidth": 0,
              "ticks": ""
             }
            },
            "type": "scattergeo"
           }
          ],
          "scattergl": [
           {
            "marker": {
             "colorbar": {
              "outlinewidth": 0,
              "ticks": ""
             }
            },
            "type": "scattergl"
           }
          ],
          "scattermapbox": [
           {
            "marker": {
             "colorbar": {
              "outlinewidth": 0,
              "ticks": ""
             }
            },
            "type": "scattermapbox"
           }
          ],
          "scatterpolar": [
           {
            "marker": {
             "colorbar": {
              "outlinewidth": 0,
              "ticks": ""
             }
            },
            "type": "scatterpolar"
           }
          ],
          "scatterpolargl": [
           {
            "marker": {
             "colorbar": {
              "outlinewidth": 0,
              "ticks": ""
             }
            },
            "type": "scatterpolargl"
           }
          ],
          "scatterternary": [
           {
            "marker": {
             "colorbar": {
              "outlinewidth": 0,
              "ticks": ""
             }
            },
            "type": "scatterternary"
           }
          ],
          "surface": [
           {
            "colorbar": {
             "outlinewidth": 0,
             "ticks": ""
            },
            "colorscale": [
             [
              0,
              "#0d0887"
             ],
             [
              0.1111111111111111,
              "#46039f"
             ],
             [
              0.2222222222222222,
              "#7201a8"
             ],
             [
              0.3333333333333333,
              "#9c179e"
             ],
             [
              0.4444444444444444,
              "#bd3786"
             ],
             [
              0.5555555555555556,
              "#d8576b"
             ],
             [
              0.6666666666666666,
              "#ed7953"
             ],
             [
              0.7777777777777778,
              "#fb9f3a"
             ],
             [
              0.8888888888888888,
              "#fdca26"
             ],
             [
              1,
              "#f0f921"
             ]
            ],
            "type": "surface"
           }
          ],
          "table": [
           {
            "cells": {
             "fill": {
              "color": "#EBF0F8"
             },
             "line": {
              "color": "white"
             }
            },
            "header": {
             "fill": {
              "color": "#C8D4E3"
             },
             "line": {
              "color": "white"
             }
            },
            "type": "table"
           }
          ]
         },
         "layout": {
          "annotationdefaults": {
           "arrowcolor": "#2a3f5f",
           "arrowhead": 0,
           "arrowwidth": 1
          },
          "autotypenumbers": "strict",
          "coloraxis": {
           "colorbar": {
            "outlinewidth": 0,
            "ticks": ""
           }
          },
          "colorscale": {
           "diverging": [
            [
             0,
             "#8e0152"
            ],
            [
             0.1,
             "#c51b7d"
            ],
            [
             0.2,
             "#de77ae"
            ],
            [
             0.3,
             "#f1b6da"
            ],
            [
             0.4,
             "#fde0ef"
            ],
            [
             0.5,
             "#f7f7f7"
            ],
            [
             0.6,
             "#e6f5d0"
            ],
            [
             0.7,
             "#b8e186"
            ],
            [
             0.8,
             "#7fbc41"
            ],
            [
             0.9,
             "#4d9221"
            ],
            [
             1,
             "#276419"
            ]
           ],
           "sequential": [
            [
             0,
             "#0d0887"
            ],
            [
             0.1111111111111111,
             "#46039f"
            ],
            [
             0.2222222222222222,
             "#7201a8"
            ],
            [
             0.3333333333333333,
             "#9c179e"
            ],
            [
             0.4444444444444444,
             "#bd3786"
            ],
            [
             0.5555555555555556,
             "#d8576b"
            ],
            [
             0.6666666666666666,
             "#ed7953"
            ],
            [
             0.7777777777777778,
             "#fb9f3a"
            ],
            [
             0.8888888888888888,
             "#fdca26"
            ],
            [
             1,
             "#f0f921"
            ]
           ],
           "sequentialminus": [
            [
             0,
             "#0d0887"
            ],
            [
             0.1111111111111111,
             "#46039f"
            ],
            [
             0.2222222222222222,
             "#7201a8"
            ],
            [
             0.3333333333333333,
             "#9c179e"
            ],
            [
             0.4444444444444444,
             "#bd3786"
            ],
            [
             0.5555555555555556,
             "#d8576b"
            ],
            [
             0.6666666666666666,
             "#ed7953"
            ],
            [
             0.7777777777777778,
             "#fb9f3a"
            ],
            [
             0.8888888888888888,
             "#fdca26"
            ],
            [
             1,
             "#f0f921"
            ]
           ]
          },
          "colorway": [
           "#636efa",
           "#EF553B",
           "#00cc96",
           "#ab63fa",
           "#FFA15A",
           "#19d3f3",
           "#FF6692",
           "#B6E880",
           "#FF97FF",
           "#FECB52"
          ],
          "font": {
           "color": "#2a3f5f"
          },
          "geo": {
           "bgcolor": "white",
           "lakecolor": "white",
           "landcolor": "#E5ECF6",
           "showlakes": true,
           "showland": true,
           "subunitcolor": "white"
          },
          "hoverlabel": {
           "align": "left"
          },
          "hovermode": "closest",
          "mapbox": {
           "style": "light"
          },
          "paper_bgcolor": "white",
          "plot_bgcolor": "#E5ECF6",
          "polar": {
           "angularaxis": {
            "gridcolor": "white",
            "linecolor": "white",
            "ticks": ""
           },
           "bgcolor": "#E5ECF6",
           "radialaxis": {
            "gridcolor": "white",
            "linecolor": "white",
            "ticks": ""
           }
          },
          "scene": {
           "xaxis": {
            "backgroundcolor": "#E5ECF6",
            "gridcolor": "white",
            "gridwidth": 2,
            "linecolor": "white",
            "showbackground": true,
            "ticks": "",
            "zerolinecolor": "white"
           },
           "yaxis": {
            "backgroundcolor": "#E5ECF6",
            "gridcolor": "white",
            "gridwidth": 2,
            "linecolor": "white",
            "showbackground": true,
            "ticks": "",
            "zerolinecolor": "white"
           },
           "zaxis": {
            "backgroundcolor": "#E5ECF6",
            "gridcolor": "white",
            "gridwidth": 2,
            "linecolor": "white",
            "showbackground": true,
            "ticks": "",
            "zerolinecolor": "white"
           }
          },
          "shapedefaults": {
           "line": {
            "color": "#2a3f5f"
           }
          },
          "ternary": {
           "aaxis": {
            "gridcolor": "white",
            "linecolor": "white",
            "ticks": ""
           },
           "baxis": {
            "gridcolor": "white",
            "linecolor": "white",
            "ticks": ""
           },
           "bgcolor": "#E5ECF6",
           "caxis": {
            "gridcolor": "white",
            "linecolor": "white",
            "ticks": ""
           }
          },
          "title": {
           "x": 0.05
          },
          "xaxis": {
           "automargin": true,
           "gridcolor": "white",
           "linecolor": "white",
           "ticks": "",
           "title": {
            "standoff": 15
           },
           "zerolinecolor": "white",
           "zerolinewidth": 2
          },
          "yaxis": {
           "automargin": true,
           "gridcolor": "white",
           "linecolor": "white",
           "ticks": "",
           "title": {
            "standoff": 15
           },
           "zerolinecolor": "white",
           "zerolinewidth": 2
          }
         }
        },
        "xaxis": {
         "anchor": "y",
         "domain": [
          0,
          1
         ],
         "title": {
          "text": "x"
         }
        },
        "yaxis": {
         "anchor": "x",
         "domain": [
          0,
          1
         ],
         "title": {
          "text": "y"
         }
        }
       }
      }
     },
     "metadata": {},
     "output_type": "display_data"
    }
   ],
   "source": [
    "x, y, p = read_xypdata(\"data/tmp41\")\n",
    "\n",
    "x_pred = np.linspace(min(x), max(x), 100)\n",
    "f_pred = LeastSquare(x, y, p, 10)\n",
    "y_pred = [f_pred(xi) for xi in x_pred]\n",
    "\n",
    "f_coeffs = LeastSquaresCoeffs(x, y, p, 9)\n",
    "\n",
    "print(\"Коэф-ты:\")\n",
    "for i, coeff in enumerate(f_coeffs):\n",
    "    print(f\"{i}:\\t{coeff:.6f}\")\n",
    "\n",
    "fig = px.scatter(x=x, y=y)\n",
    "fig.add_trace(go.Scatter(x=x_pred, y=y_pred, name=\"Приближение\"))\n",
    "fig.show()"
   ]
  },
  {
   "cell_type": "code",
   "execution_count": 3,
   "metadata": {},
   "outputs": [],
   "source": [
    "def getMassCenter(x: list[float], y: list[float], p: list[float]):\n",
    "    msum = sum(p)\n",
    "    xmc = 0\n",
    "    ymc = 0\n",
    "\n",
    "    for i in range(len(x)):\n",
    "        xmc += x[i] * p[i] / msum\n",
    "\n",
    "    for i in range(len(y)):\n",
    "        ymc += y[i] * p[i] / msum\n",
    "\n",
    "    return xmc, ymc"
   ]
  },
  {
   "cell_type": "code",
   "execution_count": 4,
   "metadata": {},
   "outputs": [
    {
     "name": "stdout",
     "output_type": "stream",
     "text": [
      "Центр масс: \n",
      "1.608481 1.965984\n",
      "Коэф-ты:\n",
      "0:\t-0.646045\n",
      "1:\t-0.012011\n",
      "2:\t0.010577\n",
      "3:\t0.497618\n",
      "Коэф-ты:\n",
      "0:\t0.990217\n",
      "1:\t0.514970\n",
      "2:\t-0.063773\n",
      "3:\t0.002622\n"
     ]
    },
    {
     "data": {
      "application/vnd.plotly.v1+json": {
       "config": {
        "plotlyServerURL": "https://plot.ly"
       },
       "data": [
        {
         "hovertemplate": "x=%{x}<br>y=%{y}<extra></extra>",
         "legendgroup": "",
         "marker": {
          "color": "#636efa",
          "symbol": "circle"
         },
         "mode": "markers",
         "name": "",
         "orientation": "v",
         "showlegend": false,
         "type": "scatter",
         "x": [
          0,
          0.524,
          1.047,
          1.571,
          2.094,
          2.618,
          3.142,
          -0.648,
          -0.576,
          -0.074,
          1.29,
          3.946,
          8.324,
          14.855,
          1.608481353754163
         ],
         "xaxis": "x",
         "y": [
          -0.648,
          -0.576,
          -0.074,
          1.29,
          3.946,
          8.324,
          14.855,
          0,
          0.524,
          1.047,
          1.571,
          2.094,
          2.618,
          3.142,
          1.9659839369541843
         ],
         "yaxis": "y"
        },
        {
         "name": "Приближение x",
         "type": "scatter",
         "x": [
          0,
          0.16536842105263158,
          0.33073684210526316,
          0.4961052631578947,
          0.6614736842105263,
          0.8268421052631579,
          0.9922105263157894,
          1.157578947368421,
          1.3229473684210526,
          1.4883157894736843,
          1.6536842105263159,
          1.8190526315789475,
          1.9844210526315789,
          2.1497894736842107,
          2.315157894736842,
          2.480526315789474,
          2.6458947368421053,
          2.8112631578947367,
          2.9766315789473685,
          3.142
         ],
         "y": [
          -6.098253689944901,
          -5.269167148008312,
          -4.440080606071723,
          -3.610994064135134,
          -2.7819075221985448,
          -1.9528209802619552,
          -1.123734438325367,
          -0.29464789638877775,
          0.5344386455478114,
          1.3635251874844005,
          2.1926117294209906,
          3.021698271357579,
          3.850784813294167,
          4.679871355230757,
          5.508957897167345,
          6.3380444391039354,
          7.167130981040524,
          7.996217522977112,
          8.825304064913702,
          9.65439060685029
         ]
        },
        {
         "name": "Приближение y",
         "type": "scatter",
         "x": [
          -0.648,
          0.16794736842105262,
          0.9838947368421053,
          1.7998421052631577,
          2.6157894736842104,
          3.431736842105263,
          4.247684210526316,
          5.063631578947369,
          5.8795789473684215,
          6.695526315789474,
          7.511473684210527,
          8.32742105263158,
          9.143368421052632,
          9.959315789473685,
          10.775263157894738,
          11.59121052631579,
          12.407157894736843,
          13.223105263157896,
          14.039052631578947,
          14.855
         ],
         "y": [
          1.2120235127200605,
          1.3357766573008176,
          1.459529801881575,
          1.5832829464623321,
          1.7070360910430895,
          1.8307892356238469,
          1.9545423802046042,
          2.0782955247853616,
          2.2020486693661185,
          2.325801813946876,
          2.4495549585276333,
          2.5733081031083906,
          2.697061247689148,
          2.820814392269905,
          2.9445675368506627,
          3.0683206814314197,
          3.192073826012177,
          3.3158269705929344,
          3.4395801151736913,
          3.5633332597544487
         ]
        }
       ],
       "layout": {
        "legend": {
         "tracegroupgap": 0
        },
        "margin": {
         "t": 60
        },
        "template": {
         "data": {
          "bar": [
           {
            "error_x": {
             "color": "#2a3f5f"
            },
            "error_y": {
             "color": "#2a3f5f"
            },
            "marker": {
             "line": {
              "color": "#E5ECF6",
              "width": 0.5
             },
             "pattern": {
              "fillmode": "overlay",
              "size": 10,
              "solidity": 0.2
             }
            },
            "type": "bar"
           }
          ],
          "barpolar": [
           {
            "marker": {
             "line": {
              "color": "#E5ECF6",
              "width": 0.5
             },
             "pattern": {
              "fillmode": "overlay",
              "size": 10,
              "solidity": 0.2
             }
            },
            "type": "barpolar"
           }
          ],
          "carpet": [
           {
            "aaxis": {
             "endlinecolor": "#2a3f5f",
             "gridcolor": "white",
             "linecolor": "white",
             "minorgridcolor": "white",
             "startlinecolor": "#2a3f5f"
            },
            "baxis": {
             "endlinecolor": "#2a3f5f",
             "gridcolor": "white",
             "linecolor": "white",
             "minorgridcolor": "white",
             "startlinecolor": "#2a3f5f"
            },
            "type": "carpet"
           }
          ],
          "choropleth": [
           {
            "colorbar": {
             "outlinewidth": 0,
             "ticks": ""
            },
            "type": "choropleth"
           }
          ],
          "contour": [
           {
            "colorbar": {
             "outlinewidth": 0,
             "ticks": ""
            },
            "colorscale": [
             [
              0,
              "#0d0887"
             ],
             [
              0.1111111111111111,
              "#46039f"
             ],
             [
              0.2222222222222222,
              "#7201a8"
             ],
             [
              0.3333333333333333,
              "#9c179e"
             ],
             [
              0.4444444444444444,
              "#bd3786"
             ],
             [
              0.5555555555555556,
              "#d8576b"
             ],
             [
              0.6666666666666666,
              "#ed7953"
             ],
             [
              0.7777777777777778,
              "#fb9f3a"
             ],
             [
              0.8888888888888888,
              "#fdca26"
             ],
             [
              1,
              "#f0f921"
             ]
            ],
            "type": "contour"
           }
          ],
          "contourcarpet": [
           {
            "colorbar": {
             "outlinewidth": 0,
             "ticks": ""
            },
            "type": "contourcarpet"
           }
          ],
          "heatmap": [
           {
            "colorbar": {
             "outlinewidth": 0,
             "ticks": ""
            },
            "colorscale": [
             [
              0,
              "#0d0887"
             ],
             [
              0.1111111111111111,
              "#46039f"
             ],
             [
              0.2222222222222222,
              "#7201a8"
             ],
             [
              0.3333333333333333,
              "#9c179e"
             ],
             [
              0.4444444444444444,
              "#bd3786"
             ],
             [
              0.5555555555555556,
              "#d8576b"
             ],
             [
              0.6666666666666666,
              "#ed7953"
             ],
             [
              0.7777777777777778,
              "#fb9f3a"
             ],
             [
              0.8888888888888888,
              "#fdca26"
             ],
             [
              1,
              "#f0f921"
             ]
            ],
            "type": "heatmap"
           }
          ],
          "heatmapgl": [
           {
            "colorbar": {
             "outlinewidth": 0,
             "ticks": ""
            },
            "colorscale": [
             [
              0,
              "#0d0887"
             ],
             [
              0.1111111111111111,
              "#46039f"
             ],
             [
              0.2222222222222222,
              "#7201a8"
             ],
             [
              0.3333333333333333,
              "#9c179e"
             ],
             [
              0.4444444444444444,
              "#bd3786"
             ],
             [
              0.5555555555555556,
              "#d8576b"
             ],
             [
              0.6666666666666666,
              "#ed7953"
             ],
             [
              0.7777777777777778,
              "#fb9f3a"
             ],
             [
              0.8888888888888888,
              "#fdca26"
             ],
             [
              1,
              "#f0f921"
             ]
            ],
            "type": "heatmapgl"
           }
          ],
          "histogram": [
           {
            "marker": {
             "pattern": {
              "fillmode": "overlay",
              "size": 10,
              "solidity": 0.2
             }
            },
            "type": "histogram"
           }
          ],
          "histogram2d": [
           {
            "colorbar": {
             "outlinewidth": 0,
             "ticks": ""
            },
            "colorscale": [
             [
              0,
              "#0d0887"
             ],
             [
              0.1111111111111111,
              "#46039f"
             ],
             [
              0.2222222222222222,
              "#7201a8"
             ],
             [
              0.3333333333333333,
              "#9c179e"
             ],
             [
              0.4444444444444444,
              "#bd3786"
             ],
             [
              0.5555555555555556,
              "#d8576b"
             ],
             [
              0.6666666666666666,
              "#ed7953"
             ],
             [
              0.7777777777777778,
              "#fb9f3a"
             ],
             [
              0.8888888888888888,
              "#fdca26"
             ],
             [
              1,
              "#f0f921"
             ]
            ],
            "type": "histogram2d"
           }
          ],
          "histogram2dcontour": [
           {
            "colorbar": {
             "outlinewidth": 0,
             "ticks": ""
            },
            "colorscale": [
             [
              0,
              "#0d0887"
             ],
             [
              0.1111111111111111,
              "#46039f"
             ],
             [
              0.2222222222222222,
              "#7201a8"
             ],
             [
              0.3333333333333333,
              "#9c179e"
             ],
             [
              0.4444444444444444,
              "#bd3786"
             ],
             [
              0.5555555555555556,
              "#d8576b"
             ],
             [
              0.6666666666666666,
              "#ed7953"
             ],
             [
              0.7777777777777778,
              "#fb9f3a"
             ],
             [
              0.8888888888888888,
              "#fdca26"
             ],
             [
              1,
              "#f0f921"
             ]
            ],
            "type": "histogram2dcontour"
           }
          ],
          "mesh3d": [
           {
            "colorbar": {
             "outlinewidth": 0,
             "ticks": ""
            },
            "type": "mesh3d"
           }
          ],
          "parcoords": [
           {
            "line": {
             "colorbar": {
              "outlinewidth": 0,
              "ticks": ""
             }
            },
            "type": "parcoords"
           }
          ],
          "pie": [
           {
            "automargin": true,
            "type": "pie"
           }
          ],
          "scatter": [
           {
            "fillpattern": {
             "fillmode": "overlay",
             "size": 10,
             "solidity": 0.2
            },
            "type": "scatter"
           }
          ],
          "scatter3d": [
           {
            "line": {
             "colorbar": {
              "outlinewidth": 0,
              "ticks": ""
             }
            },
            "marker": {
             "colorbar": {
              "outlinewidth": 0,
              "ticks": ""
             }
            },
            "type": "scatter3d"
           }
          ],
          "scattercarpet": [
           {
            "marker": {
             "colorbar": {
              "outlinewidth": 0,
              "ticks": ""
             }
            },
            "type": "scattercarpet"
           }
          ],
          "scattergeo": [
           {
            "marker": {
             "colorbar": {
              "outlinewidth": 0,
              "ticks": ""
             }
            },
            "type": "scattergeo"
           }
          ],
          "scattergl": [
           {
            "marker": {
             "colorbar": {
              "outlinewidth": 0,
              "ticks": ""
             }
            },
            "type": "scattergl"
           }
          ],
          "scattermapbox": [
           {
            "marker": {
             "colorbar": {
              "outlinewidth": 0,
              "ticks": ""
             }
            },
            "type": "scattermapbox"
           }
          ],
          "scatterpolar": [
           {
            "marker": {
             "colorbar": {
              "outlinewidth": 0,
              "ticks": ""
             }
            },
            "type": "scatterpolar"
           }
          ],
          "scatterpolargl": [
           {
            "marker": {
             "colorbar": {
              "outlinewidth": 0,
              "ticks": ""
             }
            },
            "type": "scatterpolargl"
           }
          ],
          "scatterternary": [
           {
            "marker": {
             "colorbar": {
              "outlinewidth": 0,
              "ticks": ""
             }
            },
            "type": "scatterternary"
           }
          ],
          "surface": [
           {
            "colorbar": {
             "outlinewidth": 0,
             "ticks": ""
            },
            "colorscale": [
             [
              0,
              "#0d0887"
             ],
             [
              0.1111111111111111,
              "#46039f"
             ],
             [
              0.2222222222222222,
              "#7201a8"
             ],
             [
              0.3333333333333333,
              "#9c179e"
             ],
             [
              0.4444444444444444,
              "#bd3786"
             ],
             [
              0.5555555555555556,
              "#d8576b"
             ],
             [
              0.6666666666666666,
              "#ed7953"
             ],
             [
              0.7777777777777778,
              "#fb9f3a"
             ],
             [
              0.8888888888888888,
              "#fdca26"
             ],
             [
              1,
              "#f0f921"
             ]
            ],
            "type": "surface"
           }
          ],
          "table": [
           {
            "cells": {
             "fill": {
              "color": "#EBF0F8"
             },
             "line": {
              "color": "white"
             }
            },
            "header": {
             "fill": {
              "color": "#C8D4E3"
             },
             "line": {
              "color": "white"
             }
            },
            "type": "table"
           }
          ]
         },
         "layout": {
          "annotationdefaults": {
           "arrowcolor": "#2a3f5f",
           "arrowhead": 0,
           "arrowwidth": 1
          },
          "autotypenumbers": "strict",
          "coloraxis": {
           "colorbar": {
            "outlinewidth": 0,
            "ticks": ""
           }
          },
          "colorscale": {
           "diverging": [
            [
             0,
             "#8e0152"
            ],
            [
             0.1,
             "#c51b7d"
            ],
            [
             0.2,
             "#de77ae"
            ],
            [
             0.3,
             "#f1b6da"
            ],
            [
             0.4,
             "#fde0ef"
            ],
            [
             0.5,
             "#f7f7f7"
            ],
            [
             0.6,
             "#e6f5d0"
            ],
            [
             0.7,
             "#b8e186"
            ],
            [
             0.8,
             "#7fbc41"
            ],
            [
             0.9,
             "#4d9221"
            ],
            [
             1,
             "#276419"
            ]
           ],
           "sequential": [
            [
             0,
             "#0d0887"
            ],
            [
             0.1111111111111111,
             "#46039f"
            ],
            [
             0.2222222222222222,
             "#7201a8"
            ],
            [
             0.3333333333333333,
             "#9c179e"
            ],
            [
             0.4444444444444444,
             "#bd3786"
            ],
            [
             0.5555555555555556,
             "#d8576b"
            ],
            [
             0.6666666666666666,
             "#ed7953"
            ],
            [
             0.7777777777777778,
             "#fb9f3a"
            ],
            [
             0.8888888888888888,
             "#fdca26"
            ],
            [
             1,
             "#f0f921"
            ]
           ],
           "sequentialminus": [
            [
             0,
             "#0d0887"
            ],
            [
             0.1111111111111111,
             "#46039f"
            ],
            [
             0.2222222222222222,
             "#7201a8"
            ],
            [
             0.3333333333333333,
             "#9c179e"
            ],
            [
             0.4444444444444444,
             "#bd3786"
            ],
            [
             0.5555555555555556,
             "#d8576b"
            ],
            [
             0.6666666666666666,
             "#ed7953"
            ],
            [
             0.7777777777777778,
             "#fb9f3a"
            ],
            [
             0.8888888888888888,
             "#fdca26"
            ],
            [
             1,
             "#f0f921"
            ]
           ]
          },
          "colorway": [
           "#636efa",
           "#EF553B",
           "#00cc96",
           "#ab63fa",
           "#FFA15A",
           "#19d3f3",
           "#FF6692",
           "#B6E880",
           "#FF97FF",
           "#FECB52"
          ],
          "font": {
           "color": "#2a3f5f"
          },
          "geo": {
           "bgcolor": "white",
           "lakecolor": "white",
           "landcolor": "#E5ECF6",
           "showlakes": true,
           "showland": true,
           "subunitcolor": "white"
          },
          "hoverlabel": {
           "align": "left"
          },
          "hovermode": "closest",
          "mapbox": {
           "style": "light"
          },
          "paper_bgcolor": "white",
          "plot_bgcolor": "#E5ECF6",
          "polar": {
           "angularaxis": {
            "gridcolor": "white",
            "linecolor": "white",
            "ticks": ""
           },
           "bgcolor": "#E5ECF6",
           "radialaxis": {
            "gridcolor": "white",
            "linecolor": "white",
            "ticks": ""
           }
          },
          "scene": {
           "xaxis": {
            "backgroundcolor": "#E5ECF6",
            "gridcolor": "white",
            "gridwidth": 2,
            "linecolor": "white",
            "showbackground": true,
            "ticks": "",
            "zerolinecolor": "white"
           },
           "yaxis": {
            "backgroundcolor": "#E5ECF6",
            "gridcolor": "white",
            "gridwidth": 2,
            "linecolor": "white",
            "showbackground": true,
            "ticks": "",
            "zerolinecolor": "white"
           },
           "zaxis": {
            "backgroundcolor": "#E5ECF6",
            "gridcolor": "white",
            "gridwidth": 2,
            "linecolor": "white",
            "showbackground": true,
            "ticks": "",
            "zerolinecolor": "white"
           }
          },
          "shapedefaults": {
           "line": {
            "color": "#2a3f5f"
           }
          },
          "ternary": {
           "aaxis": {
            "gridcolor": "white",
            "linecolor": "white",
            "ticks": ""
           },
           "baxis": {
            "gridcolor": "white",
            "linecolor": "white",
            "ticks": ""
           },
           "bgcolor": "#E5ECF6",
           "caxis": {
            "gridcolor": "white",
            "linecolor": "white",
            "ticks": ""
           }
          },
          "title": {
           "x": 0.05
          },
          "xaxis": {
           "automargin": true,
           "gridcolor": "white",
           "linecolor": "white",
           "ticks": "",
           "title": {
            "standoff": 15
           },
           "zerolinecolor": "white",
           "zerolinewidth": 2
          },
          "yaxis": {
           "automargin": true,
           "gridcolor": "white",
           "linecolor": "white",
           "ticks": "",
           "title": {
            "standoff": 15
           },
           "zerolinecolor": "white",
           "zerolinewidth": 2
          }
         }
        },
        "xaxis": {
         "anchor": "y",
         "domain": [
          0,
          1
         ],
         "title": {
          "text": "x"
         }
        },
        "yaxis": {
         "anchor": "x",
         "domain": [
          0,
          1
         ],
         "title": {
          "text": "y"
         }
        }
       }
      }
     },
     "metadata": {},
     "output_type": "display_data"
    },
    {
     "data": {
      "application/vnd.plotly.v1+json": {
       "config": {
        "plotlyServerURL": "https://plot.ly"
       },
       "data": [
        {
         "hovertemplate": "x=%{x}<br>y=%{y}<extra></extra>",
         "legendgroup": "",
         "marker": {
          "color": "#636efa",
          "symbol": "circle"
         },
         "mode": "markers",
         "name": "",
         "orientation": "v",
         "showlegend": false,
         "type": "scatter",
         "x": [
          0,
          0.524,
          1.047,
          1.571,
          2.094,
          2.618,
          3.142,
          1.608481353754163
         ],
         "xaxis": "x",
         "y": [
          -0.648,
          -0.576,
          -0.074,
          1.29,
          3.946,
          8.324,
          14.855,
          1.9659839369541843
         ],
         "yaxis": "y"
        },
        {
         "type": "scatter",
         "x": [
          0,
          0.16536842105263158,
          0.33073684210526316,
          0.4961052631578947,
          0.6614736842105263,
          0.8268421052631579,
          0.9922105263157894,
          1.157578947368421,
          1.3229473684210526,
          1.4883157894736843,
          1.6536842105263159,
          1.8190526315789475,
          1.9844210526315789,
          2.1497894736842107,
          2.315157894736842,
          2.480526315789474,
          2.6458947368421053,
          2.8112631578947367,
          2.9766315789473685,
          3.142
         ],
         "y": [
          -6.098253689944901,
          -5.269167148008312,
          -4.440080606071723,
          -3.610994064135134,
          -2.7819075221985448,
          -1.9528209802619552,
          -1.123734438325367,
          -0.29464789638877775,
          0.5344386455478114,
          1.3635251874844005,
          2.1926117294209906,
          3.021698271357579,
          3.850784813294167,
          4.679871355230757,
          5.508957897167345,
          6.3380444391039354,
          7.167130981040524,
          7.996217522977112,
          8.825304064913702,
          9.65439060685029
         ]
        }
       ],
       "layout": {
        "legend": {
         "tracegroupgap": 0
        },
        "margin": {
         "t": 60
        },
        "template": {
         "data": {
          "bar": [
           {
            "error_x": {
             "color": "#2a3f5f"
            },
            "error_y": {
             "color": "#2a3f5f"
            },
            "marker": {
             "line": {
              "color": "#E5ECF6",
              "width": 0.5
             },
             "pattern": {
              "fillmode": "overlay",
              "size": 10,
              "solidity": 0.2
             }
            },
            "type": "bar"
           }
          ],
          "barpolar": [
           {
            "marker": {
             "line": {
              "color": "#E5ECF6",
              "width": 0.5
             },
             "pattern": {
              "fillmode": "overlay",
              "size": 10,
              "solidity": 0.2
             }
            },
            "type": "barpolar"
           }
          ],
          "carpet": [
           {
            "aaxis": {
             "endlinecolor": "#2a3f5f",
             "gridcolor": "white",
             "linecolor": "white",
             "minorgridcolor": "white",
             "startlinecolor": "#2a3f5f"
            },
            "baxis": {
             "endlinecolor": "#2a3f5f",
             "gridcolor": "white",
             "linecolor": "white",
             "minorgridcolor": "white",
             "startlinecolor": "#2a3f5f"
            },
            "type": "carpet"
           }
          ],
          "choropleth": [
           {
            "colorbar": {
             "outlinewidth": 0,
             "ticks": ""
            },
            "type": "choropleth"
           }
          ],
          "contour": [
           {
            "colorbar": {
             "outlinewidth": 0,
             "ticks": ""
            },
            "colorscale": [
             [
              0,
              "#0d0887"
             ],
             [
              0.1111111111111111,
              "#46039f"
             ],
             [
              0.2222222222222222,
              "#7201a8"
             ],
             [
              0.3333333333333333,
              "#9c179e"
             ],
             [
              0.4444444444444444,
              "#bd3786"
             ],
             [
              0.5555555555555556,
              "#d8576b"
             ],
             [
              0.6666666666666666,
              "#ed7953"
             ],
             [
              0.7777777777777778,
              "#fb9f3a"
             ],
             [
              0.8888888888888888,
              "#fdca26"
             ],
             [
              1,
              "#f0f921"
             ]
            ],
            "type": "contour"
           }
          ],
          "contourcarpet": [
           {
            "colorbar": {
             "outlinewidth": 0,
             "ticks": ""
            },
            "type": "contourcarpet"
           }
          ],
          "heatmap": [
           {
            "colorbar": {
             "outlinewidth": 0,
             "ticks": ""
            },
            "colorscale": [
             [
              0,
              "#0d0887"
             ],
             [
              0.1111111111111111,
              "#46039f"
             ],
             [
              0.2222222222222222,
              "#7201a8"
             ],
             [
              0.3333333333333333,
              "#9c179e"
             ],
             [
              0.4444444444444444,
              "#bd3786"
             ],
             [
              0.5555555555555556,
              "#d8576b"
             ],
             [
              0.6666666666666666,
              "#ed7953"
             ],
             [
              0.7777777777777778,
              "#fb9f3a"
             ],
             [
              0.8888888888888888,
              "#fdca26"
             ],
             [
              1,
              "#f0f921"
             ]
            ],
            "type": "heatmap"
           }
          ],
          "heatmapgl": [
           {
            "colorbar": {
             "outlinewidth": 0,
             "ticks": ""
            },
            "colorscale": [
             [
              0,
              "#0d0887"
             ],
             [
              0.1111111111111111,
              "#46039f"
             ],
             [
              0.2222222222222222,
              "#7201a8"
             ],
             [
              0.3333333333333333,
              "#9c179e"
             ],
             [
              0.4444444444444444,
              "#bd3786"
             ],
             [
              0.5555555555555556,
              "#d8576b"
             ],
             [
              0.6666666666666666,
              "#ed7953"
             ],
             [
              0.7777777777777778,
              "#fb9f3a"
             ],
             [
              0.8888888888888888,
              "#fdca26"
             ],
             [
              1,
              "#f0f921"
             ]
            ],
            "type": "heatmapgl"
           }
          ],
          "histogram": [
           {
            "marker": {
             "pattern": {
              "fillmode": "overlay",
              "size": 10,
              "solidity": 0.2
             }
            },
            "type": "histogram"
           }
          ],
          "histogram2d": [
           {
            "colorbar": {
             "outlinewidth": 0,
             "ticks": ""
            },
            "colorscale": [
             [
              0,
              "#0d0887"
             ],
             [
              0.1111111111111111,
              "#46039f"
             ],
             [
              0.2222222222222222,
              "#7201a8"
             ],
             [
              0.3333333333333333,
              "#9c179e"
             ],
             [
              0.4444444444444444,
              "#bd3786"
             ],
             [
              0.5555555555555556,
              "#d8576b"
             ],
             [
              0.6666666666666666,
              "#ed7953"
             ],
             [
              0.7777777777777778,
              "#fb9f3a"
             ],
             [
              0.8888888888888888,
              "#fdca26"
             ],
             [
              1,
              "#f0f921"
             ]
            ],
            "type": "histogram2d"
           }
          ],
          "histogram2dcontour": [
           {
            "colorbar": {
             "outlinewidth": 0,
             "ticks": ""
            },
            "colorscale": [
             [
              0,
              "#0d0887"
             ],
             [
              0.1111111111111111,
              "#46039f"
             ],
             [
              0.2222222222222222,
              "#7201a8"
             ],
             [
              0.3333333333333333,
              "#9c179e"
             ],
             [
              0.4444444444444444,
              "#bd3786"
             ],
             [
              0.5555555555555556,
              "#d8576b"
             ],
             [
              0.6666666666666666,
              "#ed7953"
             ],
             [
              0.7777777777777778,
              "#fb9f3a"
             ],
             [
              0.8888888888888888,
              "#fdca26"
             ],
             [
              1,
              "#f0f921"
             ]
            ],
            "type": "histogram2dcontour"
           }
          ],
          "mesh3d": [
           {
            "colorbar": {
             "outlinewidth": 0,
             "ticks": ""
            },
            "type": "mesh3d"
           }
          ],
          "parcoords": [
           {
            "line": {
             "colorbar": {
              "outlinewidth": 0,
              "ticks": ""
             }
            },
            "type": "parcoords"
           }
          ],
          "pie": [
           {
            "automargin": true,
            "type": "pie"
           }
          ],
          "scatter": [
           {
            "fillpattern": {
             "fillmode": "overlay",
             "size": 10,
             "solidity": 0.2
            },
            "type": "scatter"
           }
          ],
          "scatter3d": [
           {
            "line": {
             "colorbar": {
              "outlinewidth": 0,
              "ticks": ""
             }
            },
            "marker": {
             "colorbar": {
              "outlinewidth": 0,
              "ticks": ""
             }
            },
            "type": "scatter3d"
           }
          ],
          "scattercarpet": [
           {
            "marker": {
             "colorbar": {
              "outlinewidth": 0,
              "ticks": ""
             }
            },
            "type": "scattercarpet"
           }
          ],
          "scattergeo": [
           {
            "marker": {
             "colorbar": {
              "outlinewidth": 0,
              "ticks": ""
             }
            },
            "type": "scattergeo"
           }
          ],
          "scattergl": [
           {
            "marker": {
             "colorbar": {
              "outlinewidth": 0,
              "ticks": ""
             }
            },
            "type": "scattergl"
           }
          ],
          "scattermapbox": [
           {
            "marker": {
             "colorbar": {
              "outlinewidth": 0,
              "ticks": ""
             }
            },
            "type": "scattermapbox"
           }
          ],
          "scatterpolar": [
           {
            "marker": {
             "colorbar": {
              "outlinewidth": 0,
              "ticks": ""
             }
            },
            "type": "scatterpolar"
           }
          ],
          "scatterpolargl": [
           {
            "marker": {
             "colorbar": {
              "outlinewidth": 0,
              "ticks": ""
             }
            },
            "type": "scatterpolargl"
           }
          ],
          "scatterternary": [
           {
            "marker": {
             "colorbar": {
              "outlinewidth": 0,
              "ticks": ""
             }
            },
            "type": "scatterternary"
           }
          ],
          "surface": [
           {
            "colorbar": {
             "outlinewidth": 0,
             "ticks": ""
            },
            "colorscale": [
             [
              0,
              "#0d0887"
             ],
             [
              0.1111111111111111,
              "#46039f"
             ],
             [
              0.2222222222222222,
              "#7201a8"
             ],
             [
              0.3333333333333333,
              "#9c179e"
             ],
             [
              0.4444444444444444,
              "#bd3786"
             ],
             [
              0.5555555555555556,
              "#d8576b"
             ],
             [
              0.6666666666666666,
              "#ed7953"
             ],
             [
              0.7777777777777778,
              "#fb9f3a"
             ],
             [
              0.8888888888888888,
              "#fdca26"
             ],
             [
              1,
              "#f0f921"
             ]
            ],
            "type": "surface"
           }
          ],
          "table": [
           {
            "cells": {
             "fill": {
              "color": "#EBF0F8"
             },
             "line": {
              "color": "white"
             }
            },
            "header": {
             "fill": {
              "color": "#C8D4E3"
             },
             "line": {
              "color": "white"
             }
            },
            "type": "table"
           }
          ]
         },
         "layout": {
          "annotationdefaults": {
           "arrowcolor": "#2a3f5f",
           "arrowhead": 0,
           "arrowwidth": 1
          },
          "autotypenumbers": "strict",
          "coloraxis": {
           "colorbar": {
            "outlinewidth": 0,
            "ticks": ""
           }
          },
          "colorscale": {
           "diverging": [
            [
             0,
             "#8e0152"
            ],
            [
             0.1,
             "#c51b7d"
            ],
            [
             0.2,
             "#de77ae"
            ],
            [
             0.3,
             "#f1b6da"
            ],
            [
             0.4,
             "#fde0ef"
            ],
            [
             0.5,
             "#f7f7f7"
            ],
            [
             0.6,
             "#e6f5d0"
            ],
            [
             0.7,
             "#b8e186"
            ],
            [
             0.8,
             "#7fbc41"
            ],
            [
             0.9,
             "#4d9221"
            ],
            [
             1,
             "#276419"
            ]
           ],
           "sequential": [
            [
             0,
             "#0d0887"
            ],
            [
             0.1111111111111111,
             "#46039f"
            ],
            [
             0.2222222222222222,
             "#7201a8"
            ],
            [
             0.3333333333333333,
             "#9c179e"
            ],
            [
             0.4444444444444444,
             "#bd3786"
            ],
            [
             0.5555555555555556,
             "#d8576b"
            ],
            [
             0.6666666666666666,
             "#ed7953"
            ],
            [
             0.7777777777777778,
             "#fb9f3a"
            ],
            [
             0.8888888888888888,
             "#fdca26"
            ],
            [
             1,
             "#f0f921"
            ]
           ],
           "sequentialminus": [
            [
             0,
             "#0d0887"
            ],
            [
             0.1111111111111111,
             "#46039f"
            ],
            [
             0.2222222222222222,
             "#7201a8"
            ],
            [
             0.3333333333333333,
             "#9c179e"
            ],
            [
             0.4444444444444444,
             "#bd3786"
            ],
            [
             0.5555555555555556,
             "#d8576b"
            ],
            [
             0.6666666666666666,
             "#ed7953"
            ],
            [
             0.7777777777777778,
             "#fb9f3a"
            ],
            [
             0.8888888888888888,
             "#fdca26"
            ],
            [
             1,
             "#f0f921"
            ]
           ]
          },
          "colorway": [
           "#636efa",
           "#EF553B",
           "#00cc96",
           "#ab63fa",
           "#FFA15A",
           "#19d3f3",
           "#FF6692",
           "#B6E880",
           "#FF97FF",
           "#FECB52"
          ],
          "font": {
           "color": "#2a3f5f"
          },
          "geo": {
           "bgcolor": "white",
           "lakecolor": "white",
           "landcolor": "#E5ECF6",
           "showlakes": true,
           "showland": true,
           "subunitcolor": "white"
          },
          "hoverlabel": {
           "align": "left"
          },
          "hovermode": "closest",
          "mapbox": {
           "style": "light"
          },
          "paper_bgcolor": "white",
          "plot_bgcolor": "#E5ECF6",
          "polar": {
           "angularaxis": {
            "gridcolor": "white",
            "linecolor": "white",
            "ticks": ""
           },
           "bgcolor": "#E5ECF6",
           "radialaxis": {
            "gridcolor": "white",
            "linecolor": "white",
            "ticks": ""
           }
          },
          "scene": {
           "xaxis": {
            "backgroundcolor": "#E5ECF6",
            "gridcolor": "white",
            "gridwidth": 2,
            "linecolor": "white",
            "showbackground": true,
            "ticks": "",
            "zerolinecolor": "white"
           },
           "yaxis": {
            "backgroundcolor": "#E5ECF6",
            "gridcolor": "white",
            "gridwidth": 2,
            "linecolor": "white",
            "showbackground": true,
            "ticks": "",
            "zerolinecolor": "white"
           },
           "zaxis": {
            "backgroundcolor": "#E5ECF6",
            "gridcolor": "white",
            "gridwidth": 2,
            "linecolor": "white",
            "showbackground": true,
            "ticks": "",
            "zerolinecolor": "white"
           }
          },
          "shapedefaults": {
           "line": {
            "color": "#2a3f5f"
           }
          },
          "ternary": {
           "aaxis": {
            "gridcolor": "white",
            "linecolor": "white",
            "ticks": ""
           },
           "baxis": {
            "gridcolor": "white",
            "linecolor": "white",
            "ticks": ""
           },
           "bgcolor": "#E5ECF6",
           "caxis": {
            "gridcolor": "white",
            "linecolor": "white",
            "ticks": ""
           }
          },
          "title": {
           "x": 0.05
          },
          "xaxis": {
           "automargin": true,
           "gridcolor": "white",
           "linecolor": "white",
           "ticks": "",
           "title": {
            "standoff": 15
           },
           "zerolinecolor": "white",
           "zerolinewidth": 2
          },
          "yaxis": {
           "automargin": true,
           "gridcolor": "white",
           "linecolor": "white",
           "ticks": "",
           "title": {
            "standoff": 15
           },
           "zerolinecolor": "white",
           "zerolinewidth": 2
          }
         }
        },
        "xaxis": {
         "anchor": "y",
         "domain": [
          0,
          1
         ],
         "title": {
          "text": "x"
         }
        },
        "yaxis": {
         "anchor": "x",
         "domain": [
          0,
          1
         ],
         "title": {
          "text": "y"
         }
        }
       }
      }
     },
     "metadata": {},
     "output_type": "display_data"
    },
    {
     "data": {
      "application/vnd.plotly.v1+json": {
       "config": {
        "plotlyServerURL": "https://plot.ly"
       },
       "data": [
        {
         "hovertemplate": "x=%{x}<br>y=%{y}<extra></extra>",
         "legendgroup": "",
         "marker": {
          "color": "#636efa",
          "symbol": "circle"
         },
         "mode": "markers",
         "name": "",
         "orientation": "v",
         "showlegend": false,
         "type": "scatter",
         "x": [
          -0.648,
          -0.576,
          -0.074,
          1.29,
          3.946,
          8.324,
          14.855,
          1.9659839369541843
         ],
         "xaxis": "x",
         "y": [
          0,
          0.524,
          1.047,
          1.571,
          2.094,
          2.618,
          3.142,
          1.608481353754163
         ],
         "yaxis": "y"
        },
        {
         "type": "scatter",
         "x": [
          -0.648,
          0.16794736842105262,
          0.9838947368421053,
          1.7998421052631577,
          2.6157894736842104,
          3.431736842105263,
          4.247684210526316,
          5.063631578947369,
          5.8795789473684215,
          6.695526315789474,
          7.511473684210527,
          8.32742105263158,
          9.143368421052632,
          9.959315789473685,
          10.775263157894738,
          11.59121052631579,
          12.407157894736843,
          13.223105263157896,
          14.039052631578947,
          14.855
         ],
         "y": [
          1.2120235127200605,
          1.3357766573008176,
          1.459529801881575,
          1.5832829464623321,
          1.7070360910430895,
          1.8307892356238469,
          1.9545423802046042,
          2.0782955247853616,
          2.2020486693661185,
          2.325801813946876,
          2.4495549585276333,
          2.5733081031083906,
          2.697061247689148,
          2.820814392269905,
          2.9445675368506627,
          3.0683206814314197,
          3.192073826012177,
          3.3158269705929344,
          3.4395801151736913,
          3.5633332597544487
         ]
        }
       ],
       "layout": {
        "legend": {
         "tracegroupgap": 0
        },
        "margin": {
         "t": 60
        },
        "template": {
         "data": {
          "bar": [
           {
            "error_x": {
             "color": "#2a3f5f"
            },
            "error_y": {
             "color": "#2a3f5f"
            },
            "marker": {
             "line": {
              "color": "#E5ECF6",
              "width": 0.5
             },
             "pattern": {
              "fillmode": "overlay",
              "size": 10,
              "solidity": 0.2
             }
            },
            "type": "bar"
           }
          ],
          "barpolar": [
           {
            "marker": {
             "line": {
              "color": "#E5ECF6",
              "width": 0.5
             },
             "pattern": {
              "fillmode": "overlay",
              "size": 10,
              "solidity": 0.2
             }
            },
            "type": "barpolar"
           }
          ],
          "carpet": [
           {
            "aaxis": {
             "endlinecolor": "#2a3f5f",
             "gridcolor": "white",
             "linecolor": "white",
             "minorgridcolor": "white",
             "startlinecolor": "#2a3f5f"
            },
            "baxis": {
             "endlinecolor": "#2a3f5f",
             "gridcolor": "white",
             "linecolor": "white",
             "minorgridcolor": "white",
             "startlinecolor": "#2a3f5f"
            },
            "type": "carpet"
           }
          ],
          "choropleth": [
           {
            "colorbar": {
             "outlinewidth": 0,
             "ticks": ""
            },
            "type": "choropleth"
           }
          ],
          "contour": [
           {
            "colorbar": {
             "outlinewidth": 0,
             "ticks": ""
            },
            "colorscale": [
             [
              0,
              "#0d0887"
             ],
             [
              0.1111111111111111,
              "#46039f"
             ],
             [
              0.2222222222222222,
              "#7201a8"
             ],
             [
              0.3333333333333333,
              "#9c179e"
             ],
             [
              0.4444444444444444,
              "#bd3786"
             ],
             [
              0.5555555555555556,
              "#d8576b"
             ],
             [
              0.6666666666666666,
              "#ed7953"
             ],
             [
              0.7777777777777778,
              "#fb9f3a"
             ],
             [
              0.8888888888888888,
              "#fdca26"
             ],
             [
              1,
              "#f0f921"
             ]
            ],
            "type": "contour"
           }
          ],
          "contourcarpet": [
           {
            "colorbar": {
             "outlinewidth": 0,
             "ticks": ""
            },
            "type": "contourcarpet"
           }
          ],
          "heatmap": [
           {
            "colorbar": {
             "outlinewidth": 0,
             "ticks": ""
            },
            "colorscale": [
             [
              0,
              "#0d0887"
             ],
             [
              0.1111111111111111,
              "#46039f"
             ],
             [
              0.2222222222222222,
              "#7201a8"
             ],
             [
              0.3333333333333333,
              "#9c179e"
             ],
             [
              0.4444444444444444,
              "#bd3786"
             ],
             [
              0.5555555555555556,
              "#d8576b"
             ],
             [
              0.6666666666666666,
              "#ed7953"
             ],
             [
              0.7777777777777778,
              "#fb9f3a"
             ],
             [
              0.8888888888888888,
              "#fdca26"
             ],
             [
              1,
              "#f0f921"
             ]
            ],
            "type": "heatmap"
           }
          ],
          "heatmapgl": [
           {
            "colorbar": {
             "outlinewidth": 0,
             "ticks": ""
            },
            "colorscale": [
             [
              0,
              "#0d0887"
             ],
             [
              0.1111111111111111,
              "#46039f"
             ],
             [
              0.2222222222222222,
              "#7201a8"
             ],
             [
              0.3333333333333333,
              "#9c179e"
             ],
             [
              0.4444444444444444,
              "#bd3786"
             ],
             [
              0.5555555555555556,
              "#d8576b"
             ],
             [
              0.6666666666666666,
              "#ed7953"
             ],
             [
              0.7777777777777778,
              "#fb9f3a"
             ],
             [
              0.8888888888888888,
              "#fdca26"
             ],
             [
              1,
              "#f0f921"
             ]
            ],
            "type": "heatmapgl"
           }
          ],
          "histogram": [
           {
            "marker": {
             "pattern": {
              "fillmode": "overlay",
              "size": 10,
              "solidity": 0.2
             }
            },
            "type": "histogram"
           }
          ],
          "histogram2d": [
           {
            "colorbar": {
             "outlinewidth": 0,
             "ticks": ""
            },
            "colorscale": [
             [
              0,
              "#0d0887"
             ],
             [
              0.1111111111111111,
              "#46039f"
             ],
             [
              0.2222222222222222,
              "#7201a8"
             ],
             [
              0.3333333333333333,
              "#9c179e"
             ],
             [
              0.4444444444444444,
              "#bd3786"
             ],
             [
              0.5555555555555556,
              "#d8576b"
             ],
             [
              0.6666666666666666,
              "#ed7953"
             ],
             [
              0.7777777777777778,
              "#fb9f3a"
             ],
             [
              0.8888888888888888,
              "#fdca26"
             ],
             [
              1,
              "#f0f921"
             ]
            ],
            "type": "histogram2d"
           }
          ],
          "histogram2dcontour": [
           {
            "colorbar": {
             "outlinewidth": 0,
             "ticks": ""
            },
            "colorscale": [
             [
              0,
              "#0d0887"
             ],
             [
              0.1111111111111111,
              "#46039f"
             ],
             [
              0.2222222222222222,
              "#7201a8"
             ],
             [
              0.3333333333333333,
              "#9c179e"
             ],
             [
              0.4444444444444444,
              "#bd3786"
             ],
             [
              0.5555555555555556,
              "#d8576b"
             ],
             [
              0.6666666666666666,
              "#ed7953"
             ],
             [
              0.7777777777777778,
              "#fb9f3a"
             ],
             [
              0.8888888888888888,
              "#fdca26"
             ],
             [
              1,
              "#f0f921"
             ]
            ],
            "type": "histogram2dcontour"
           }
          ],
          "mesh3d": [
           {
            "colorbar": {
             "outlinewidth": 0,
             "ticks": ""
            },
            "type": "mesh3d"
           }
          ],
          "parcoords": [
           {
            "line": {
             "colorbar": {
              "outlinewidth": 0,
              "ticks": ""
             }
            },
            "type": "parcoords"
           }
          ],
          "pie": [
           {
            "automargin": true,
            "type": "pie"
           }
          ],
          "scatter": [
           {
            "fillpattern": {
             "fillmode": "overlay",
             "size": 10,
             "solidity": 0.2
            },
            "type": "scatter"
           }
          ],
          "scatter3d": [
           {
            "line": {
             "colorbar": {
              "outlinewidth": 0,
              "ticks": ""
             }
            },
            "marker": {
             "colorbar": {
              "outlinewidth": 0,
              "ticks": ""
             }
            },
            "type": "scatter3d"
           }
          ],
          "scattercarpet": [
           {
            "marker": {
             "colorbar": {
              "outlinewidth": 0,
              "ticks": ""
             }
            },
            "type": "scattercarpet"
           }
          ],
          "scattergeo": [
           {
            "marker": {
             "colorbar": {
              "outlinewidth": 0,
              "ticks": ""
             }
            },
            "type": "scattergeo"
           }
          ],
          "scattergl": [
           {
            "marker": {
             "colorbar": {
              "outlinewidth": 0,
              "ticks": ""
             }
            },
            "type": "scattergl"
           }
          ],
          "scattermapbox": [
           {
            "marker": {
             "colorbar": {
              "outlinewidth": 0,
              "ticks": ""
             }
            },
            "type": "scattermapbox"
           }
          ],
          "scatterpolar": [
           {
            "marker": {
             "colorbar": {
              "outlinewidth": 0,
              "ticks": ""
             }
            },
            "type": "scatterpolar"
           }
          ],
          "scatterpolargl": [
           {
            "marker": {
             "colorbar": {
              "outlinewidth": 0,
              "ticks": ""
             }
            },
            "type": "scatterpolargl"
           }
          ],
          "scatterternary": [
           {
            "marker": {
             "colorbar": {
              "outlinewidth": 0,
              "ticks": ""
             }
            },
            "type": "scatterternary"
           }
          ],
          "surface": [
           {
            "colorbar": {
             "outlinewidth": 0,
             "ticks": ""
            },
            "colorscale": [
             [
              0,
              "#0d0887"
             ],
             [
              0.1111111111111111,
              "#46039f"
             ],
             [
              0.2222222222222222,
              "#7201a8"
             ],
             [
              0.3333333333333333,
              "#9c179e"
             ],
             [
              0.4444444444444444,
              "#bd3786"
             ],
             [
              0.5555555555555556,
              "#d8576b"
             ],
             [
              0.6666666666666666,
              "#ed7953"
             ],
             [
              0.7777777777777778,
              "#fb9f3a"
             ],
             [
              0.8888888888888888,
              "#fdca26"
             ],
             [
              1,
              "#f0f921"
             ]
            ],
            "type": "surface"
           }
          ],
          "table": [
           {
            "cells": {
             "fill": {
              "color": "#EBF0F8"
             },
             "line": {
              "color": "white"
             }
            },
            "header": {
             "fill": {
              "color": "#C8D4E3"
             },
             "line": {
              "color": "white"
             }
            },
            "type": "table"
           }
          ]
         },
         "layout": {
          "annotationdefaults": {
           "arrowcolor": "#2a3f5f",
           "arrowhead": 0,
           "arrowwidth": 1
          },
          "autotypenumbers": "strict",
          "coloraxis": {
           "colorbar": {
            "outlinewidth": 0,
            "ticks": ""
           }
          },
          "colorscale": {
           "diverging": [
            [
             0,
             "#8e0152"
            ],
            [
             0.1,
             "#c51b7d"
            ],
            [
             0.2,
             "#de77ae"
            ],
            [
             0.3,
             "#f1b6da"
            ],
            [
             0.4,
             "#fde0ef"
            ],
            [
             0.5,
             "#f7f7f7"
            ],
            [
             0.6,
             "#e6f5d0"
            ],
            [
             0.7,
             "#b8e186"
            ],
            [
             0.8,
             "#7fbc41"
            ],
            [
             0.9,
             "#4d9221"
            ],
            [
             1,
             "#276419"
            ]
           ],
           "sequential": [
            [
             0,
             "#0d0887"
            ],
            [
             0.1111111111111111,
             "#46039f"
            ],
            [
             0.2222222222222222,
             "#7201a8"
            ],
            [
             0.3333333333333333,
             "#9c179e"
            ],
            [
             0.4444444444444444,
             "#bd3786"
            ],
            [
             0.5555555555555556,
             "#d8576b"
            ],
            [
             0.6666666666666666,
             "#ed7953"
            ],
            [
             0.7777777777777778,
             "#fb9f3a"
            ],
            [
             0.8888888888888888,
             "#fdca26"
            ],
            [
             1,
             "#f0f921"
            ]
           ],
           "sequentialminus": [
            [
             0,
             "#0d0887"
            ],
            [
             0.1111111111111111,
             "#46039f"
            ],
            [
             0.2222222222222222,
             "#7201a8"
            ],
            [
             0.3333333333333333,
             "#9c179e"
            ],
            [
             0.4444444444444444,
             "#bd3786"
            ],
            [
             0.5555555555555556,
             "#d8576b"
            ],
            [
             0.6666666666666666,
             "#ed7953"
            ],
            [
             0.7777777777777778,
             "#fb9f3a"
            ],
            [
             0.8888888888888888,
             "#fdca26"
            ],
            [
             1,
             "#f0f921"
            ]
           ]
          },
          "colorway": [
           "#636efa",
           "#EF553B",
           "#00cc96",
           "#ab63fa",
           "#FFA15A",
           "#19d3f3",
           "#FF6692",
           "#B6E880",
           "#FF97FF",
           "#FECB52"
          ],
          "font": {
           "color": "#2a3f5f"
          },
          "geo": {
           "bgcolor": "white",
           "lakecolor": "white",
           "landcolor": "#E5ECF6",
           "showlakes": true,
           "showland": true,
           "subunitcolor": "white"
          },
          "hoverlabel": {
           "align": "left"
          },
          "hovermode": "closest",
          "mapbox": {
           "style": "light"
          },
          "paper_bgcolor": "white",
          "plot_bgcolor": "#E5ECF6",
          "polar": {
           "angularaxis": {
            "gridcolor": "white",
            "linecolor": "white",
            "ticks": ""
           },
           "bgcolor": "#E5ECF6",
           "radialaxis": {
            "gridcolor": "white",
            "linecolor": "white",
            "ticks": ""
           }
          },
          "scene": {
           "xaxis": {
            "backgroundcolor": "#E5ECF6",
            "gridcolor": "white",
            "gridwidth": 2,
            "linecolor": "white",
            "showbackground": true,
            "ticks": "",
            "zerolinecolor": "white"
           },
           "yaxis": {
            "backgroundcolor": "#E5ECF6",
            "gridcolor": "white",
            "gridwidth": 2,
            "linecolor": "white",
            "showbackground": true,
            "ticks": "",
            "zerolinecolor": "white"
           },
           "zaxis": {
            "backgroundcolor": "#E5ECF6",
            "gridcolor": "white",
            "gridwidth": 2,
            "linecolor": "white",
            "showbackground": true,
            "ticks": "",
            "zerolinecolor": "white"
           }
          },
          "shapedefaults": {
           "line": {
            "color": "#2a3f5f"
           }
          },
          "ternary": {
           "aaxis": {
            "gridcolor": "white",
            "linecolor": "white",
            "ticks": ""
           },
           "baxis": {
            "gridcolor": "white",
            "linecolor": "white",
            "ticks": ""
           },
           "bgcolor": "#E5ECF6",
           "caxis": {
            "gridcolor": "white",
            "linecolor": "white",
            "ticks": ""
           }
          },
          "title": {
           "x": 0.05
          },
          "xaxis": {
           "automargin": true,
           "gridcolor": "white",
           "linecolor": "white",
           "ticks": "",
           "title": {
            "standoff": 15
           },
           "zerolinecolor": "white",
           "zerolinewidth": 2
          },
          "yaxis": {
           "automargin": true,
           "gridcolor": "white",
           "linecolor": "white",
           "ticks": "",
           "title": {
            "standoff": 15
           },
           "zerolinecolor": "white",
           "zerolinewidth": 2
          }
         }
        },
        "xaxis": {
         "anchor": "y",
         "domain": [
          0,
          1
         ],
         "title": {
          "text": "x"
         }
        },
        "yaxis": {
         "anchor": "x",
         "domain": [
          0,
          1
         ],
         "title": {
          "text": "y"
         }
        }
       }
      }
     },
     "metadata": {},
     "output_type": "display_data"
    }
   ],
   "source": [
    "x, y, p = read_xypdata(\"data/tmp42\")\n",
    "\n",
    "x_pred = np.linspace(min(x), max(x), 20)\n",
    "f_pred = LeastSquare(x, y, p, 1)\n",
    "y_pred = [f_pred(xi) for xi in x_pred]\n",
    "\n",
    "print(\"Центр масс: \")\n",
    "\n",
    "xm, ym = getMassCenter(x, y, p)\n",
    "\n",
    "print(f\"{xm:.6f} {ym:.6f}\")\n",
    "\n",
    "f_coeffs = LeastSquaresCoeffs(x, y, p, 3)\n",
    "print(\"Коэф-ты:\")\n",
    "for i, coeff in enumerate(f_coeffs):\n",
    "    print(f\"{i}:\\t{coeff:.6f}\")\n",
    "\n",
    "fig = px.scatter(x=[*x, *y, xm], y=[*y, *x, ym])\n",
    "fig.add_trace(go.Scatter(x=x_pred, y=y_pred, name=\"Приближение x\"))\n",
    "\n",
    "x_pred = np.linspace(min(y), max(y), 20)\n",
    "f_pred = LeastSquare(y, x, p, 1)\n",
    "y_pred = [f_pred(xi) for xi in x_pred]\n",
    "\n",
    "f_coeffs = LeastSquaresCoeffs(y, x, p, 3)\n",
    "print(\"Коэф-ты:\")\n",
    "for i, coeff in enumerate(f_coeffs):\n",
    "    print(f\"{i}:\\t{coeff:.6f}\")\n",
    "\n",
    "fig.add_trace(go.Scatter(x=x_pred, y=y_pred, name=\"Приближение y\"))\n",
    "\n",
    "fig.show()\n",
    "\n",
    "x_pred = np.linspace(min(x), max(x), 20)\n",
    "f_pred = LeastSquare(x, y, p, 1)\n",
    "y_pred = [f_pred(xi) for xi in x_pred]\n",
    "\n",
    "fig = px.scatter(x=[*x, xm], y=[*y, ym])\n",
    "fig.add_trace(go.Scatter(x=x_pred, y=y_pred))\n",
    "\n",
    "fig.show()\n",
    "\n",
    "x_pred = np.linspace(min(y), max(y), 20)\n",
    "f_pred = LeastSquare(y, x, p, 1)\n",
    "y_pred = [f_pred(xi) for xi in x_pred]\n",
    "\n",
    "\n",
    "fig = px.scatter(x=[*y, ym], y=[*x, xm])\n",
    "fig.add_trace(go.Scatter(x=x_pred, y=y_pred))\n",
    "\n",
    "fig.show()"
   ]
  },
  {
   "cell_type": "code",
   "execution_count": 5,
   "metadata": {},
   "outputs": [
    {
     "name": "stdout",
     "output_type": "stream",
     "text": [
      "Коэф-ты:\n",
      "0:\t289.629148\n",
      "1:\t-3429.596192\n",
      "2:\t-119.778827\n",
      "3:\t136.296608\n"
     ]
    },
    {
     "data": {
      "application/vnd.plotly.v1+json": {
       "config": {
        "plotlyServerURL": "https://plot.ly"
       },
       "data": [
        {
         "hovertemplate": "<extra></extra>",
         "legendgroup": "",
         "line": {
          "color": "#636efa",
          "dash": "solid"
         },
         "marker": {
          "symbol": "circle"
         },
         "mode": "lines",
         "name": "",
         "orientation": "v",
         "showlegend": false,
         "type": "scatter",
         "xaxis": "x",
         "yaxis": "y"
        },
        {
         "name": "Функция",
         "type": "scatter",
         "x": [
          -10,
          -9.551020408163266,
          -9.10204081632653,
          -8.653061224489797,
          -8.204081632653061,
          -7.755102040816327,
          -7.3061224489795915,
          -6.857142857142858,
          -6.408163265306122,
          -5.959183673469388,
          -5.510204081632653,
          -5.061224489795919,
          -4.612244897959184,
          -4.163265306122449,
          -3.7142857142857144,
          -3.2653061224489797,
          -2.816326530612245,
          -2.36734693877551,
          -1.9183673469387763,
          -1.4693877551020407,
          -1.0204081632653068,
          -0.5714285714285712,
          -0.12244897959183731,
          0.3265306122448983,
          0.7755102040816322,
          1.2244897959183678,
          1.6734693877551017,
          2.1224489795918373,
          2.571428571428571,
          3.020408163265307,
          3.4693877551020407,
          3.9183673469387763,
          4.36734693877551,
          4.816326530612244,
          5.26530612244898,
          5.7142857142857135,
          6.163265306122447,
          6.612244897959183,
          7.061224489795919,
          7.510204081632654,
          7.959183673469386,
          8.408163265306122,
          8.857142857142858,
          9.306122448979593,
          9.755102040816325,
          10.204081632653061,
          10.653061224489797,
          11.102040816326532,
          11.551020408163264,
          12
         ],
         "y": [
          -123612,
          -99293.9296530508,
          -78970.93915623029,
          -62128.25034313008,
          -48297.41955373938,
          -37054.14828921172,
          -28016.09386663112,
          -20840.68007377879,
          -15222.907823899286,
          -10893.16581046717,
          -7615.041161953274,
          -5183.130096591226,
          -3420.848577143834,
          -2178.242965669534,
          -1329.8006782888085,
          -772.2608399506182,
          -422.42493919883225,
          -214.96748293865562,
          -100.2466512030583,
          -42.11495191920336,
          -15.729875674877295,
          -5.364550484916996,
          -2.218396557639641,
          -2.2277810612709654,
          -3.8766728903741914,
          -6.007297432278749,
          -5.630791333509011,
          4.262142733786938,
          36.89058130540843,
          113.87272535867396,
          267.4152455459911,
          542.5026274284306,
          999.0865167092924,
          1714.2750644676821,
          2784.522272392086,
          4327.81733801392,
          6485.873999941133,
          9426.31988309177,
          13344.88584392752,
          18467.595315687304,
          25052.953653620796,
          33394.13748022219,
          43821.18403046352,
          56703.18049702829,
          72450.45337554507,
          91516.7578098214,
          114401.46693707671,
          141651.76123317634,
          173864.81785786472,
          211690
         ]
        },
        {
         "name": "Приближение",
         "type": "scatter",
         "x": [
          -10,
          -9.551020408163266,
          -9.10204081632653,
          -8.653061224489797,
          -8.204081632653061,
          -7.755102040816327,
          -7.3061224489795915,
          -6.857142857142858,
          -6.408163265306122,
          -5.959183673469388,
          -5.510204081632653,
          -5.061224489795919,
          -4.612244897959184,
          -4.163265306122449,
          -3.7142857142857144,
          -3.2653061224489797,
          -2.816326530612245,
          -2.36734693877551,
          -1.9183673469387763,
          -1.4693877551020407,
          -1.0204081632653068,
          -0.5714285714285712,
          -0.12244897959183731,
          0.3265306122448983,
          0.7755102040816322,
          1.2244897959183678,
          1.6734693877551017,
          2.1224489795918373,
          2.571428571428571,
          3.020408163265307,
          3.4693877551020407,
          3.9183673469387763,
          4.36734693877551,
          4.816326530612244,
          5.26530612244898,
          5.7142857142857135,
          6.163265306122447,
          6.612244897959183,
          7.061224489795919,
          7.510204081632654,
          7.959183673469386,
          8.408163265306122,
          8.857142857142858,
          9.306122448979593,
          9.755102040816325,
          10.204081632653061,
          10.653061224489797,
          11.102040816326532,
          11.551020408163264,
          12
         ],
         "y": [
          -108959.4513736021,
          -94088.31071112072,
          -80420.2791853562,
          -67923.657731986,
          -56564.87932494344,
          -46308.508976418074,
          -37117.243736855366,
          -28951.91269495701,
          -21771.476977680624,
          -15533.029750240028,
          -10191.796216105024,
          -5701.133617001509,
          -2012.5312329114704,
          924.3896179270629,
          3161.8755790199743,
          4754.041255617077,
          5756.869214712122,
          6228.209985042786,
          6227.782057090668,
          5817.171883081305,
          5059.833876984163,
          4021.0904145126306,
          2768.1318331240377,
          1370.0164320196266,
          -102.32952785541111,
          -1576.1118238119755,
          -2976.668271417016,
          -4227.468724493573,
          -5250.115075120739,
          -5964.341253633691,
          -6288.01322862367,
          -6137.129006937988,
          -5425.818633680034,
          -4066.3441922092547,
          -1969.0998041411776,
          957.388370652594,
          4806.462134044399,
          9673.331249650517,
          15655.073442831126,
          22850.634400690367,
          31360.827772076198,
          41288.335167580735,
          52737.70615953985,
          65815.35828203335,
          80629.57703088492,
          97290.51586366248,
          115910.1961996775,
          136602.50741998557,
          159483.20686738603,
          184669.91984642262
         ]
        }
       ],
       "layout": {
        "legend": {
         "tracegroupgap": 0
        },
        "margin": {
         "t": 60
        },
        "template": {
         "data": {
          "bar": [
           {
            "error_x": {
             "color": "#2a3f5f"
            },
            "error_y": {
             "color": "#2a3f5f"
            },
            "marker": {
             "line": {
              "color": "#E5ECF6",
              "width": 0.5
             },
             "pattern": {
              "fillmode": "overlay",
              "size": 10,
              "solidity": 0.2
             }
            },
            "type": "bar"
           }
          ],
          "barpolar": [
           {
            "marker": {
             "line": {
              "color": "#E5ECF6",
              "width": 0.5
             },
             "pattern": {
              "fillmode": "overlay",
              "size": 10,
              "solidity": 0.2
             }
            },
            "type": "barpolar"
           }
          ],
          "carpet": [
           {
            "aaxis": {
             "endlinecolor": "#2a3f5f",
             "gridcolor": "white",
             "linecolor": "white",
             "minorgridcolor": "white",
             "startlinecolor": "#2a3f5f"
            },
            "baxis": {
             "endlinecolor": "#2a3f5f",
             "gridcolor": "white",
             "linecolor": "white",
             "minorgridcolor": "white",
             "startlinecolor": "#2a3f5f"
            },
            "type": "carpet"
           }
          ],
          "choropleth": [
           {
            "colorbar": {
             "outlinewidth": 0,
             "ticks": ""
            },
            "type": "choropleth"
           }
          ],
          "contour": [
           {
            "colorbar": {
             "outlinewidth": 0,
             "ticks": ""
            },
            "colorscale": [
             [
              0,
              "#0d0887"
             ],
             [
              0.1111111111111111,
              "#46039f"
             ],
             [
              0.2222222222222222,
              "#7201a8"
             ],
             [
              0.3333333333333333,
              "#9c179e"
             ],
             [
              0.4444444444444444,
              "#bd3786"
             ],
             [
              0.5555555555555556,
              "#d8576b"
             ],
             [
              0.6666666666666666,
              "#ed7953"
             ],
             [
              0.7777777777777778,
              "#fb9f3a"
             ],
             [
              0.8888888888888888,
              "#fdca26"
             ],
             [
              1,
              "#f0f921"
             ]
            ],
            "type": "contour"
           }
          ],
          "contourcarpet": [
           {
            "colorbar": {
             "outlinewidth": 0,
             "ticks": ""
            },
            "type": "contourcarpet"
           }
          ],
          "heatmap": [
           {
            "colorbar": {
             "outlinewidth": 0,
             "ticks": ""
            },
            "colorscale": [
             [
              0,
              "#0d0887"
             ],
             [
              0.1111111111111111,
              "#46039f"
             ],
             [
              0.2222222222222222,
              "#7201a8"
             ],
             [
              0.3333333333333333,
              "#9c179e"
             ],
             [
              0.4444444444444444,
              "#bd3786"
             ],
             [
              0.5555555555555556,
              "#d8576b"
             ],
             [
              0.6666666666666666,
              "#ed7953"
             ],
             [
              0.7777777777777778,
              "#fb9f3a"
             ],
             [
              0.8888888888888888,
              "#fdca26"
             ],
             [
              1,
              "#f0f921"
             ]
            ],
            "type": "heatmap"
           }
          ],
          "heatmapgl": [
           {
            "colorbar": {
             "outlinewidth": 0,
             "ticks": ""
            },
            "colorscale": [
             [
              0,
              "#0d0887"
             ],
             [
              0.1111111111111111,
              "#46039f"
             ],
             [
              0.2222222222222222,
              "#7201a8"
             ],
             [
              0.3333333333333333,
              "#9c179e"
             ],
             [
              0.4444444444444444,
              "#bd3786"
             ],
             [
              0.5555555555555556,
              "#d8576b"
             ],
             [
              0.6666666666666666,
              "#ed7953"
             ],
             [
              0.7777777777777778,
              "#fb9f3a"
             ],
             [
              0.8888888888888888,
              "#fdca26"
             ],
             [
              1,
              "#f0f921"
             ]
            ],
            "type": "heatmapgl"
           }
          ],
          "histogram": [
           {
            "marker": {
             "pattern": {
              "fillmode": "overlay",
              "size": 10,
              "solidity": 0.2
             }
            },
            "type": "histogram"
           }
          ],
          "histogram2d": [
           {
            "colorbar": {
             "outlinewidth": 0,
             "ticks": ""
            },
            "colorscale": [
             [
              0,
              "#0d0887"
             ],
             [
              0.1111111111111111,
              "#46039f"
             ],
             [
              0.2222222222222222,
              "#7201a8"
             ],
             [
              0.3333333333333333,
              "#9c179e"
             ],
             [
              0.4444444444444444,
              "#bd3786"
             ],
             [
              0.5555555555555556,
              "#d8576b"
             ],
             [
              0.6666666666666666,
              "#ed7953"
             ],
             [
              0.7777777777777778,
              "#fb9f3a"
             ],
             [
              0.8888888888888888,
              "#fdca26"
             ],
             [
              1,
              "#f0f921"
             ]
            ],
            "type": "histogram2d"
           }
          ],
          "histogram2dcontour": [
           {
            "colorbar": {
             "outlinewidth": 0,
             "ticks": ""
            },
            "colorscale": [
             [
              0,
              "#0d0887"
             ],
             [
              0.1111111111111111,
              "#46039f"
             ],
             [
              0.2222222222222222,
              "#7201a8"
             ],
             [
              0.3333333333333333,
              "#9c179e"
             ],
             [
              0.4444444444444444,
              "#bd3786"
             ],
             [
              0.5555555555555556,
              "#d8576b"
             ],
             [
              0.6666666666666666,
              "#ed7953"
             ],
             [
              0.7777777777777778,
              "#fb9f3a"
             ],
             [
              0.8888888888888888,
              "#fdca26"
             ],
             [
              1,
              "#f0f921"
             ]
            ],
            "type": "histogram2dcontour"
           }
          ],
          "mesh3d": [
           {
            "colorbar": {
             "outlinewidth": 0,
             "ticks": ""
            },
            "type": "mesh3d"
           }
          ],
          "parcoords": [
           {
            "line": {
             "colorbar": {
              "outlinewidth": 0,
              "ticks": ""
             }
            },
            "type": "parcoords"
           }
          ],
          "pie": [
           {
            "automargin": true,
            "type": "pie"
           }
          ],
          "scatter": [
           {
            "fillpattern": {
             "fillmode": "overlay",
             "size": 10,
             "solidity": 0.2
            },
            "type": "scatter"
           }
          ],
          "scatter3d": [
           {
            "line": {
             "colorbar": {
              "outlinewidth": 0,
              "ticks": ""
             }
            },
            "marker": {
             "colorbar": {
              "outlinewidth": 0,
              "ticks": ""
             }
            },
            "type": "scatter3d"
           }
          ],
          "scattercarpet": [
           {
            "marker": {
             "colorbar": {
              "outlinewidth": 0,
              "ticks": ""
             }
            },
            "type": "scattercarpet"
           }
          ],
          "scattergeo": [
           {
            "marker": {
             "colorbar": {
              "outlinewidth": 0,
              "ticks": ""
             }
            },
            "type": "scattergeo"
           }
          ],
          "scattergl": [
           {
            "marker": {
             "colorbar": {
              "outlinewidth": 0,
              "ticks": ""
             }
            },
            "type": "scattergl"
           }
          ],
          "scattermapbox": [
           {
            "marker": {
             "colorbar": {
              "outlinewidth": 0,
              "ticks": ""
             }
            },
            "type": "scattermapbox"
           }
          ],
          "scatterpolar": [
           {
            "marker": {
             "colorbar": {
              "outlinewidth": 0,
              "ticks": ""
             }
            },
            "type": "scatterpolar"
           }
          ],
          "scatterpolargl": [
           {
            "marker": {
             "colorbar": {
              "outlinewidth": 0,
              "ticks": ""
             }
            },
            "type": "scatterpolargl"
           }
          ],
          "scatterternary": [
           {
            "marker": {
             "colorbar": {
              "outlinewidth": 0,
              "ticks": ""
             }
            },
            "type": "scatterternary"
           }
          ],
          "surface": [
           {
            "colorbar": {
             "outlinewidth": 0,
             "ticks": ""
            },
            "colorscale": [
             [
              0,
              "#0d0887"
             ],
             [
              0.1111111111111111,
              "#46039f"
             ],
             [
              0.2222222222222222,
              "#7201a8"
             ],
             [
              0.3333333333333333,
              "#9c179e"
             ],
             [
              0.4444444444444444,
              "#bd3786"
             ],
             [
              0.5555555555555556,
              "#d8576b"
             ],
             [
              0.6666666666666666,
              "#ed7953"
             ],
             [
              0.7777777777777778,
              "#fb9f3a"
             ],
             [
              0.8888888888888888,
              "#fdca26"
             ],
             [
              1,
              "#f0f921"
             ]
            ],
            "type": "surface"
           }
          ],
          "table": [
           {
            "cells": {
             "fill": {
              "color": "#EBF0F8"
             },
             "line": {
              "color": "white"
             }
            },
            "header": {
             "fill": {
              "color": "#C8D4E3"
             },
             "line": {
              "color": "white"
             }
            },
            "type": "table"
           }
          ]
         },
         "layout": {
          "annotationdefaults": {
           "arrowcolor": "#2a3f5f",
           "arrowhead": 0,
           "arrowwidth": 1
          },
          "autotypenumbers": "strict",
          "coloraxis": {
           "colorbar": {
            "outlinewidth": 0,
            "ticks": ""
           }
          },
          "colorscale": {
           "diverging": [
            [
             0,
             "#8e0152"
            ],
            [
             0.1,
             "#c51b7d"
            ],
            [
             0.2,
             "#de77ae"
            ],
            [
             0.3,
             "#f1b6da"
            ],
            [
             0.4,
             "#fde0ef"
            ],
            [
             0.5,
             "#f7f7f7"
            ],
            [
             0.6,
             "#e6f5d0"
            ],
            [
             0.7,
             "#b8e186"
            ],
            [
             0.8,
             "#7fbc41"
            ],
            [
             0.9,
             "#4d9221"
            ],
            [
             1,
             "#276419"
            ]
           ],
           "sequential": [
            [
             0,
             "#0d0887"
            ],
            [
             0.1111111111111111,
             "#46039f"
            ],
            [
             0.2222222222222222,
             "#7201a8"
            ],
            [
             0.3333333333333333,
             "#9c179e"
            ],
            [
             0.4444444444444444,
             "#bd3786"
            ],
            [
             0.5555555555555556,
             "#d8576b"
            ],
            [
             0.6666666666666666,
             "#ed7953"
            ],
            [
             0.7777777777777778,
             "#fb9f3a"
            ],
            [
             0.8888888888888888,
             "#fdca26"
            ],
            [
             1,
             "#f0f921"
            ]
           ],
           "sequentialminus": [
            [
             0,
             "#0d0887"
            ],
            [
             0.1111111111111111,
             "#46039f"
            ],
            [
             0.2222222222222222,
             "#7201a8"
            ],
            [
             0.3333333333333333,
             "#9c179e"
            ],
            [
             0.4444444444444444,
             "#bd3786"
            ],
            [
             0.5555555555555556,
             "#d8576b"
            ],
            [
             0.6666666666666666,
             "#ed7953"
            ],
            [
             0.7777777777777778,
             "#fb9f3a"
            ],
            [
             0.8888888888888888,
             "#fdca26"
            ],
            [
             1,
             "#f0f921"
            ]
           ]
          },
          "colorway": [
           "#636efa",
           "#EF553B",
           "#00cc96",
           "#ab63fa",
           "#FFA15A",
           "#19d3f3",
           "#FF6692",
           "#B6E880",
           "#FF97FF",
           "#FECB52"
          ],
          "font": {
           "color": "#2a3f5f"
          },
          "geo": {
           "bgcolor": "white",
           "lakecolor": "white",
           "landcolor": "#E5ECF6",
           "showlakes": true,
           "showland": true,
           "subunitcolor": "white"
          },
          "hoverlabel": {
           "align": "left"
          },
          "hovermode": "closest",
          "mapbox": {
           "style": "light"
          },
          "paper_bgcolor": "white",
          "plot_bgcolor": "#E5ECF6",
          "polar": {
           "angularaxis": {
            "gridcolor": "white",
            "linecolor": "white",
            "ticks": ""
           },
           "bgcolor": "#E5ECF6",
           "radialaxis": {
            "gridcolor": "white",
            "linecolor": "white",
            "ticks": ""
           }
          },
          "scene": {
           "xaxis": {
            "backgroundcolor": "#E5ECF6",
            "gridcolor": "white",
            "gridwidth": 2,
            "linecolor": "white",
            "showbackground": true,
            "ticks": "",
            "zerolinecolor": "white"
           },
           "yaxis": {
            "backgroundcolor": "#E5ECF6",
            "gridcolor": "white",
            "gridwidth": 2,
            "linecolor": "white",
            "showbackground": true,
            "ticks": "",
            "zerolinecolor": "white"
           },
           "zaxis": {
            "backgroundcolor": "#E5ECF6",
            "gridcolor": "white",
            "gridwidth": 2,
            "linecolor": "white",
            "showbackground": true,
            "ticks": "",
            "zerolinecolor": "white"
           }
          },
          "shapedefaults": {
           "line": {
            "color": "#2a3f5f"
           }
          },
          "ternary": {
           "aaxis": {
            "gridcolor": "white",
            "linecolor": "white",
            "ticks": ""
           },
           "baxis": {
            "gridcolor": "white",
            "linecolor": "white",
            "ticks": ""
           },
           "bgcolor": "#E5ECF6",
           "caxis": {
            "gridcolor": "white",
            "linecolor": "white",
            "ticks": ""
           }
          },
          "title": {
           "x": 0.05
          },
          "xaxis": {
           "automargin": true,
           "gridcolor": "white",
           "linecolor": "white",
           "ticks": "",
           "title": {
            "standoff": 15
           },
           "zerolinecolor": "white",
           "zerolinewidth": 2
          },
          "yaxis": {
           "automargin": true,
           "gridcolor": "white",
           "linecolor": "white",
           "ticks": "",
           "title": {
            "standoff": 15
           },
           "zerolinecolor": "white",
           "zerolinewidth": 2
          }
         }
        },
        "xaxis": {
         "anchor": "y",
         "domain": [
          0,
          1
         ]
        },
        "yaxis": {
         "anchor": "x",
         "domain": [
          0,
          1
         ]
        }
       }
      }
     },
     "metadata": {},
     "output_type": "display_data"
    }
   ],
   "source": [
    "def f_n(x):\n",
    "    return x**5 - 2 * x**4 + 3 * x**3 - 6 * x**2 + x - 2\n",
    "\n",
    "\n",
    "x, y, p = get_xypdata(-10, 12, 50, 0, 1, f_n)\n",
    "\n",
    "x_pred = np.linspace(-10, 12, 50)\n",
    "f_pred = LeastSquare(x, y, p, 4)\n",
    "y_pred = [f_pred(xi) for xi in x_pred]\n",
    "\n",
    "f_coeffs = LeastSquaresCoeffs(x, y, p, 3)\n",
    "\n",
    "print(\"Коэф-ты:\")\n",
    "for i, coeff in enumerate(f_coeffs):\n",
    "    print(f\"{i}:\\t{coeff:.6f}\")\n",
    "\n",
    "fig = px.line()\n",
    "fig.add_trace(go.Scatter(x=x, y=y, name=\"Функция\"))\n",
    "fig.add_trace(go.Scatter(x=x_pred, y=y_pred, name=\"Приближение\"))\n",
    "fig.show()"
   ]
  },
  {
   "cell_type": "code",
   "execution_count": 6,
   "metadata": {},
   "outputs": [
    {
     "name": "stdout",
     "output_type": "stream",
     "text": [
      "Коэф-ты:\n",
      "0:\t0.476399\n",
      "1:\t-0.169853\n",
      "2:\t-0.424392\n",
      "3:\t1.160513\n"
     ]
    },
    {
     "data": {
      "application/vnd.plotly.v1+json": {
       "config": {
        "plotlyServerURL": "https://plot.ly"
       },
       "data": [
        {
         "hovertemplate": "<extra></extra>",
         "legendgroup": "",
         "line": {
          "color": "#636efa",
          "dash": "solid"
         },
         "marker": {
          "symbol": "circle"
         },
         "mode": "lines",
         "name": "",
         "orientation": "v",
         "showlegend": false,
         "type": "scatter",
         "xaxis": "x",
         "yaxis": "y"
        },
        {
         "name": "Функция",
         "type": "scatter",
         "x": [
          -2,
          -1.9393939393939394,
          -1.878787878787879,
          -1.8181818181818181,
          -1.7575757575757576,
          -1.696969696969697,
          -1.6363636363636362,
          -1.5757575757575757,
          -1.5151515151515151,
          -1.4545454545454546,
          -1.393939393939394,
          -1.3333333333333333,
          -1.2727272727272727,
          -1.2121212121212122,
          -1.1515151515151514,
          -1.0909090909090908,
          -1.0303030303030303,
          -0.9696969696969697,
          -0.9090909090909092,
          -0.8484848484848484,
          -0.7878787878787878,
          -0.7272727272727273,
          -0.6666666666666665,
          -0.606060606060606,
          -0.5454545454545454,
          -0.48484848484848486,
          -0.4242424242424243,
          -0.36363636363636354,
          -0.303030303030303,
          -0.24242424242424243,
          -0.18181818181818166,
          -0.1212121212121211,
          -0.06060606060606055,
          0,
          0.06060606060606055,
          0.1212121212121211,
          0.18181818181818166,
          0.24242424242424265,
          0.3030303030303032,
          0.36363636363636376,
          0.4242424242424243,
          0.48484848484848486,
          0.5454545454545454,
          0.606060606060606,
          0.666666666666667,
          0.7272727272727275,
          0.7878787878787881,
          0.8484848484848486,
          0.9090909090909092,
          0.9696969696969697,
          1.0303030303030303,
          1.0909090909090908,
          1.1515151515151514,
          1.2121212121212124,
          1.272727272727273,
          1.3333333333333335,
          1.393939393939394,
          1.4545454545454546,
          1.5151515151515151,
          1.5757575757575757,
          1.6363636363636367,
          1.6969696969696972,
          1.7575757575757578,
          1.8181818181818183,
          1.878787878787879,
          1.9393939393939394,
          2,
          2.0606060606060606,
          2.121212121212121,
          2.1818181818181817,
          2.242424242424242,
          2.3030303030303028,
          2.3636363636363633,
          2.4242424242424248,
          2.4848484848484853,
          2.545454545454546,
          2.6060606060606064,
          2.666666666666667,
          2.7272727272727275,
          2.787878787878788,
          2.8484848484848486,
          2.909090909090909,
          2.9696969696969697,
          3.0303030303030303,
          3.090909090909091,
          3.1515151515151514,
          3.212121212121212,
          3.2727272727272725,
          3.333333333333334,
          3.3939393939393945,
          3.454545454545455,
          3.5151515151515156,
          3.575757575757576,
          3.6363636363636367,
          3.6969696969696972,
          3.757575757575758,
          3.8181818181818183,
          3.878787878787879,
          3.9393939393939394,
          4
         ],
         "y": [
          -12.195357645382263,
          -12.020203405984509,
          -11.611423366073163,
          -10.952831147763373,
          -10.045271456935467,
          -8.906492569891878,
          -7.570030261093967,
          -6.083168442401755,
          -4.504095780232953,
          -2.8984245780825812,
          -1.335275508004062,
          0.1168428352152131,
          1.394118584219397,
          2.4412465740372484,
          3.214740825894921,
          3.6855558183646897,
          3.840863248001211,
          3.684880370496222,
          3.238701479092864,
          2.539142375782006,
          1.6366654132110428,
          0.5925064555338357,
          -0.5248282199892028,
          -1.6434902115461196,
          -2.6924127363095733,
          -3.60538866313198,
          -4.324864341850702,
          -4.805227357509448,
          -5.0153959342142915,
          -4.940558554447066,
          -4.582962056975391,
          -3.9617021236161953,
          -3.111528407659321,
          -2.080734182735712,
          -0.9282539302237843,
          0.2798613951719093,
          1.474385287251564,
          2.587042323564132,
          3.554579179128735,
          4.3225419365699915,
          4.848538787051612,
          5.104797311899561,
          5.079866789318097,
          4.779365971462816,
          4.225732600181033,
          3.4569893103039417,
          2.5245980932491516,
          1.4905287967409524,
          0.42371310139585944,
          -0.6039086463800596,
          -1.5215165550545384,
          -2.2634747819045336,
          -2.7730919520859465,
          -3.005858485049738,
          -2.93197150215465,
          -2.5379996531850235,
          -1.8275904989643448,
          -0.8211790807339643,
          0.44528528018304137,
          1.922519492805808,
          3.5508669958402495,
          5.263864720962278,
          6.992208115982655,
          8.667882344396421,
          10.228218059450528,
          11.619634561915356,
          12.800851433251829,
          13.745380820623534,
          14.443154619305545,
          14.901191391193024,
          15.143264016511111,
          15.20858751520365,
          15.149603777165241,
          15.02899275528862,
          14.916084913498521,
          14.882884737901744,
          14.99993786508948,
          15.332283527249338,
          15.93572902422526,
          16.853664099801215,
          18.114601524668014,
          19.730587718327968,
          21.696576360352818,
          23.990801623621255,
          26.576129202014585,
          29.402306121423948,
          32.408977760047534,
          35.52929563582666,
          38.693904969474964,
          41.83507882142164,
          44.89075702901736,
          47.808253737845305,
          50.547416702345615,
          53.08305359272736,
          55.40648341226793,
          57.52612229461738,
          59.46706942236021,
          61.269717283250976,
          62.98746753947328,
          64.68368609103916
         ]
        },
        {
         "name": "Приближение",
         "type": "scatter",
         "x": [
          -2,
          -1.9393939393939394,
          -1.878787878787879,
          -1.8181818181818181,
          -1.7575757575757576,
          -1.696969696969697,
          -1.6363636363636362,
          -1.5757575757575757,
          -1.5151515151515151,
          -1.4545454545454546,
          -1.393939393939394,
          -1.3333333333333333,
          -1.2727272727272727,
          -1.2121212121212122,
          -1.1515151515151514,
          -1.0909090909090908,
          -1.0303030303030303,
          -0.9696969696969697,
          -0.9090909090909092,
          -0.8484848484848484,
          -0.7878787878787878,
          -0.7272727272727273,
          -0.6666666666666665,
          -0.606060606060606,
          -0.5454545454545454,
          -0.48484848484848486,
          -0.4242424242424243,
          -0.36363636363636354,
          -0.303030303030303,
          -0.24242424242424243,
          -0.18181818181818166,
          -0.1212121212121211,
          -0.06060606060606055,
          0,
          0.06060606060606055,
          0.1212121212121211,
          0.18181818181818166,
          0.24242424242424265,
          0.3030303030303032,
          0.36363636363636376,
          0.4242424242424243,
          0.48484848484848486,
          0.5454545454545454,
          0.606060606060606,
          0.666666666666667,
          0.7272727272727275,
          0.7878787878787881,
          0.8484848484848486,
          0.9090909090909092,
          0.9696969696969697,
          1.0303030303030303,
          1.0909090909090908,
          1.1515151515151514,
          1.2121212121212124,
          1.272727272727273,
          1.3333333333333335,
          1.393939393939394,
          1.4545454545454546,
          1.5151515151515151,
          1.5757575757575757,
          1.6363636363636367,
          1.6969696969696972,
          1.7575757575757578,
          1.8181818181818183,
          1.878787878787879,
          1.9393939393939394,
          2,
          2.0606060606060606,
          2.121212121212121,
          2.1818181818181817,
          2.242424242424242,
          2.3030303030303028,
          2.3636363636363633,
          2.4242424242424248,
          2.4848484848484853,
          2.545454545454546,
          2.6060606060606064,
          2.666666666666667,
          2.7272727272727275,
          2.787878787878788,
          2.8484848484848486,
          2.909090909090909,
          2.9696969696969697,
          3.0303030303030303,
          3.090909090909091,
          3.1515151515151514,
          3.212121212121212,
          3.2727272727272725,
          3.333333333333334,
          3.3939393939393945,
          3.454545454545455,
          3.5151515151515156,
          3.575757575757576,
          3.6363636363636367,
          3.6969696969696972,
          3.757575757575758,
          3.8181818181818183,
          3.878787878787879,
          3.9393939393939394,
          4
         ],
         "y": [
          -11.055763729033606,
          -9.989914784665654,
          -8.990429260363726,
          -8.055120609043206,
          -7.181815236863413,
          -6.368352503227568,
          -5.612584720782824,
          -4.912377155420256,
          -4.265608026274859,
          -3.6701685057255453,
          -3.1239627193951507,
          -2.6249077461504307,
          -2.170933618102068,
          -1.7599833206046605,
          -1.3900127922567271,
          -1.058990924900712,
          -0.7648995636229778,
          -0.5057335067538077,
          -0.27950050586740816,
          -0.08422126578190436,
          0.08207055544065414,
          0.22132834649429933,
          0.3354925428291415,
          0.42649062665136844,
          0.4962371269232483,
          0.5466336193631274,
          0.5795687264454309,
          0.5969181174006629,
          0.6005445082154064,
          0.5922976616323228,
          0.5740143871501528,
          0.547518541023716,
          0.5146210262639102,
          0.47711979263771254,
          0.43679983666817895,
          0.3954332016344442,
          0.35477897757172155,
          0.31658330127130313,
          0.2825793562805608,
          0.2544873729029442,
          0.23401462819798205,
          0.22285544598128215,
          0.2226911968245309,
          0.23519029805549357,
          0.2620082137580146,
          0.3047874547720165,
          0.3651575786935013,
          0.4447351898745496,
          0.5451239394233207,
          0.6679145252040531,
          0.8146846918370638,
          0.9869992306987487,
          1.1864099799215826,
          1.4144558243941208,
          1.6726626957609925,
          1.9625435724229108,
          2.2855984795366653,
          2.6433144890151254,
          3.0371657195272372,
          3.4686133364980294,
          3.9391055521086096,
          4.4500776252961565,
          5.002951861753936,
          5.599137613931288,
          6.2400312810336365,
          6.927016309022478,
          7.661463190615393,
          8.444729465286038,
          9.27815971926415,
          10.163085585535539,
          11.100825743842105,
          12.092685920681818,
          13.13995888930873,
          14.243924469732987,
          15.405849528720767,
          16.626987979794368,
          17.908580783232164,
          19.251855946068595,
          20.65802852209419,
          22.128300611855554,
          23.663861362655357,
          25.265886968552373,
          26.935540670361434,
          28.673972755653455,
          30.48232055875545,
          32.36170846075048,
          34.3132478894777,
          36.338037319532354,
          38.43716227226578,
          40.61169531578529,
          42.86269606495442,
          45.1912111813927,
          47.59827437347577,
          50.0849063963353,
          52.65211505185911,
          55.300895188691065,
          58.0322287022311,
          60.84708453463522,
          63.746418674815565,
          66.73117415844028
         ]
        }
       ],
       "layout": {
        "legend": {
         "tracegroupgap": 0
        },
        "margin": {
         "t": 60
        },
        "template": {
         "data": {
          "bar": [
           {
            "error_x": {
             "color": "#2a3f5f"
            },
            "error_y": {
             "color": "#2a3f5f"
            },
            "marker": {
             "line": {
              "color": "#E5ECF6",
              "width": 0.5
             },
             "pattern": {
              "fillmode": "overlay",
              "size": 10,
              "solidity": 0.2
             }
            },
            "type": "bar"
           }
          ],
          "barpolar": [
           {
            "marker": {
             "line": {
              "color": "#E5ECF6",
              "width": 0.5
             },
             "pattern": {
              "fillmode": "overlay",
              "size": 10,
              "solidity": 0.2
             }
            },
            "type": "barpolar"
           }
          ],
          "carpet": [
           {
            "aaxis": {
             "endlinecolor": "#2a3f5f",
             "gridcolor": "white",
             "linecolor": "white",
             "minorgridcolor": "white",
             "startlinecolor": "#2a3f5f"
            },
            "baxis": {
             "endlinecolor": "#2a3f5f",
             "gridcolor": "white",
             "linecolor": "white",
             "minorgridcolor": "white",
             "startlinecolor": "#2a3f5f"
            },
            "type": "carpet"
           }
          ],
          "choropleth": [
           {
            "colorbar": {
             "outlinewidth": 0,
             "ticks": ""
            },
            "type": "choropleth"
           }
          ],
          "contour": [
           {
            "colorbar": {
             "outlinewidth": 0,
             "ticks": ""
            },
            "colorscale": [
             [
              0,
              "#0d0887"
             ],
             [
              0.1111111111111111,
              "#46039f"
             ],
             [
              0.2222222222222222,
              "#7201a8"
             ],
             [
              0.3333333333333333,
              "#9c179e"
             ],
             [
              0.4444444444444444,
              "#bd3786"
             ],
             [
              0.5555555555555556,
              "#d8576b"
             ],
             [
              0.6666666666666666,
              "#ed7953"
             ],
             [
              0.7777777777777778,
              "#fb9f3a"
             ],
             [
              0.8888888888888888,
              "#fdca26"
             ],
             [
              1,
              "#f0f921"
             ]
            ],
            "type": "contour"
           }
          ],
          "contourcarpet": [
           {
            "colorbar": {
             "outlinewidth": 0,
             "ticks": ""
            },
            "type": "contourcarpet"
           }
          ],
          "heatmap": [
           {
            "colorbar": {
             "outlinewidth": 0,
             "ticks": ""
            },
            "colorscale": [
             [
              0,
              "#0d0887"
             ],
             [
              0.1111111111111111,
              "#46039f"
             ],
             [
              0.2222222222222222,
              "#7201a8"
             ],
             [
              0.3333333333333333,
              "#9c179e"
             ],
             [
              0.4444444444444444,
              "#bd3786"
             ],
             [
              0.5555555555555556,
              "#d8576b"
             ],
             [
              0.6666666666666666,
              "#ed7953"
             ],
             [
              0.7777777777777778,
              "#fb9f3a"
             ],
             [
              0.8888888888888888,
              "#fdca26"
             ],
             [
              1,
              "#f0f921"
             ]
            ],
            "type": "heatmap"
           }
          ],
          "heatmapgl": [
           {
            "colorbar": {
             "outlinewidth": 0,
             "ticks": ""
            },
            "colorscale": [
             [
              0,
              "#0d0887"
             ],
             [
              0.1111111111111111,
              "#46039f"
             ],
             [
              0.2222222222222222,
              "#7201a8"
             ],
             [
              0.3333333333333333,
              "#9c179e"
             ],
             [
              0.4444444444444444,
              "#bd3786"
             ],
             [
              0.5555555555555556,
              "#d8576b"
             ],
             [
              0.6666666666666666,
              "#ed7953"
             ],
             [
              0.7777777777777778,
              "#fb9f3a"
             ],
             [
              0.8888888888888888,
              "#fdca26"
             ],
             [
              1,
              "#f0f921"
             ]
            ],
            "type": "heatmapgl"
           }
          ],
          "histogram": [
           {
            "marker": {
             "pattern": {
              "fillmode": "overlay",
              "size": 10,
              "solidity": 0.2
             }
            },
            "type": "histogram"
           }
          ],
          "histogram2d": [
           {
            "colorbar": {
             "outlinewidth": 0,
             "ticks": ""
            },
            "colorscale": [
             [
              0,
              "#0d0887"
             ],
             [
              0.1111111111111111,
              "#46039f"
             ],
             [
              0.2222222222222222,
              "#7201a8"
             ],
             [
              0.3333333333333333,
              "#9c179e"
             ],
             [
              0.4444444444444444,
              "#bd3786"
             ],
             [
              0.5555555555555556,
              "#d8576b"
             ],
             [
              0.6666666666666666,
              "#ed7953"
             ],
             [
              0.7777777777777778,
              "#fb9f3a"
             ],
             [
              0.8888888888888888,
              "#fdca26"
             ],
             [
              1,
              "#f0f921"
             ]
            ],
            "type": "histogram2d"
           }
          ],
          "histogram2dcontour": [
           {
            "colorbar": {
             "outlinewidth": 0,
             "ticks": ""
            },
            "colorscale": [
             [
              0,
              "#0d0887"
             ],
             [
              0.1111111111111111,
              "#46039f"
             ],
             [
              0.2222222222222222,
              "#7201a8"
             ],
             [
              0.3333333333333333,
              "#9c179e"
             ],
             [
              0.4444444444444444,
              "#bd3786"
             ],
             [
              0.5555555555555556,
              "#d8576b"
             ],
             [
              0.6666666666666666,
              "#ed7953"
             ],
             [
              0.7777777777777778,
              "#fb9f3a"
             ],
             [
              0.8888888888888888,
              "#fdca26"
             ],
             [
              1,
              "#f0f921"
             ]
            ],
            "type": "histogram2dcontour"
           }
          ],
          "mesh3d": [
           {
            "colorbar": {
             "outlinewidth": 0,
             "ticks": ""
            },
            "type": "mesh3d"
           }
          ],
          "parcoords": [
           {
            "line": {
             "colorbar": {
              "outlinewidth": 0,
              "ticks": ""
             }
            },
            "type": "parcoords"
           }
          ],
          "pie": [
           {
            "automargin": true,
            "type": "pie"
           }
          ],
          "scatter": [
           {
            "fillpattern": {
             "fillmode": "overlay",
             "size": 10,
             "solidity": 0.2
            },
            "type": "scatter"
           }
          ],
          "scatter3d": [
           {
            "line": {
             "colorbar": {
              "outlinewidth": 0,
              "ticks": ""
             }
            },
            "marker": {
             "colorbar": {
              "outlinewidth": 0,
              "ticks": ""
             }
            },
            "type": "scatter3d"
           }
          ],
          "scattercarpet": [
           {
            "marker": {
             "colorbar": {
              "outlinewidth": 0,
              "ticks": ""
             }
            },
            "type": "scattercarpet"
           }
          ],
          "scattergeo": [
           {
            "marker": {
             "colorbar": {
              "outlinewidth": 0,
              "ticks": ""
             }
            },
            "type": "scattergeo"
           }
          ],
          "scattergl": [
           {
            "marker": {
             "colorbar": {
              "outlinewidth": 0,
              "ticks": ""
             }
            },
            "type": "scattergl"
           }
          ],
          "scattermapbox": [
           {
            "marker": {
             "colorbar": {
              "outlinewidth": 0,
              "ticks": ""
             }
            },
            "type": "scattermapbox"
           }
          ],
          "scatterpolar": [
           {
            "marker": {
             "colorbar": {
              "outlinewidth": 0,
              "ticks": ""
             }
            },
            "type": "scatterpolar"
           }
          ],
          "scatterpolargl": [
           {
            "marker": {
             "colorbar": {
              "outlinewidth": 0,
              "ticks": ""
             }
            },
            "type": "scatterpolargl"
           }
          ],
          "scatterternary": [
           {
            "marker": {
             "colorbar": {
              "outlinewidth": 0,
              "ticks": ""
             }
            },
            "type": "scatterternary"
           }
          ],
          "surface": [
           {
            "colorbar": {
             "outlinewidth": 0,
             "ticks": ""
            },
            "colorscale": [
             [
              0,
              "#0d0887"
             ],
             [
              0.1111111111111111,
              "#46039f"
             ],
             [
              0.2222222222222222,
              "#7201a8"
             ],
             [
              0.3333333333333333,
              "#9c179e"
             ],
             [
              0.4444444444444444,
              "#bd3786"
             ],
             [
              0.5555555555555556,
              "#d8576b"
             ],
             [
              0.6666666666666666,
              "#ed7953"
             ],
             [
              0.7777777777777778,
              "#fb9f3a"
             ],
             [
              0.8888888888888888,
              "#fdca26"
             ],
             [
              1,
              "#f0f921"
             ]
            ],
            "type": "surface"
           }
          ],
          "table": [
           {
            "cells": {
             "fill": {
              "color": "#EBF0F8"
             },
             "line": {
              "color": "white"
             }
            },
            "header": {
             "fill": {
              "color": "#C8D4E3"
             },
             "line": {
              "color": "white"
             }
            },
            "type": "table"
           }
          ]
         },
         "layout": {
          "annotationdefaults": {
           "arrowcolor": "#2a3f5f",
           "arrowhead": 0,
           "arrowwidth": 1
          },
          "autotypenumbers": "strict",
          "coloraxis": {
           "colorbar": {
            "outlinewidth": 0,
            "ticks": ""
           }
          },
          "colorscale": {
           "diverging": [
            [
             0,
             "#8e0152"
            ],
            [
             0.1,
             "#c51b7d"
            ],
            [
             0.2,
             "#de77ae"
            ],
            [
             0.3,
             "#f1b6da"
            ],
            [
             0.4,
             "#fde0ef"
            ],
            [
             0.5,
             "#f7f7f7"
            ],
            [
             0.6,
             "#e6f5d0"
            ],
            [
             0.7,
             "#b8e186"
            ],
            [
             0.8,
             "#7fbc41"
            ],
            [
             0.9,
             "#4d9221"
            ],
            [
             1,
             "#276419"
            ]
           ],
           "sequential": [
            [
             0,
             "#0d0887"
            ],
            [
             0.1111111111111111,
             "#46039f"
            ],
            [
             0.2222222222222222,
             "#7201a8"
            ],
            [
             0.3333333333333333,
             "#9c179e"
            ],
            [
             0.4444444444444444,
             "#bd3786"
            ],
            [
             0.5555555555555556,
             "#d8576b"
            ],
            [
             0.6666666666666666,
             "#ed7953"
            ],
            [
             0.7777777777777778,
             "#fb9f3a"
            ],
            [
             0.8888888888888888,
             "#fdca26"
            ],
            [
             1,
             "#f0f921"
            ]
           ],
           "sequentialminus": [
            [
             0,
             "#0d0887"
            ],
            [
             0.1111111111111111,
             "#46039f"
            ],
            [
             0.2222222222222222,
             "#7201a8"
            ],
            [
             0.3333333333333333,
             "#9c179e"
            ],
            [
             0.4444444444444444,
             "#bd3786"
            ],
            [
             0.5555555555555556,
             "#d8576b"
            ],
            [
             0.6666666666666666,
             "#ed7953"
            ],
            [
             0.7777777777777778,
             "#fb9f3a"
            ],
            [
             0.8888888888888888,
             "#fdca26"
            ],
            [
             1,
             "#f0f921"
            ]
           ]
          },
          "colorway": [
           "#636efa",
           "#EF553B",
           "#00cc96",
           "#ab63fa",
           "#FFA15A",
           "#19d3f3",
           "#FF6692",
           "#B6E880",
           "#FF97FF",
           "#FECB52"
          ],
          "font": {
           "color": "#2a3f5f"
          },
          "geo": {
           "bgcolor": "white",
           "lakecolor": "white",
           "landcolor": "#E5ECF6",
           "showlakes": true,
           "showland": true,
           "subunitcolor": "white"
          },
          "hoverlabel": {
           "align": "left"
          },
          "hovermode": "closest",
          "mapbox": {
           "style": "light"
          },
          "paper_bgcolor": "white",
          "plot_bgcolor": "#E5ECF6",
          "polar": {
           "angularaxis": {
            "gridcolor": "white",
            "linecolor": "white",
            "ticks": ""
           },
           "bgcolor": "#E5ECF6",
           "radialaxis": {
            "gridcolor": "white",
            "linecolor": "white",
            "ticks": ""
           }
          },
          "scene": {
           "xaxis": {
            "backgroundcolor": "#E5ECF6",
            "gridcolor": "white",
            "gridwidth": 2,
            "linecolor": "white",
            "showbackground": true,
            "ticks": "",
            "zerolinecolor": "white"
           },
           "yaxis": {
            "backgroundcolor": "#E5ECF6",
            "gridcolor": "white",
            "gridwidth": 2,
            "linecolor": "white",
            "showbackground": true,
            "ticks": "",
            "zerolinecolor": "white"
           },
           "zaxis": {
            "backgroundcolor": "#E5ECF6",
            "gridcolor": "white",
            "gridwidth": 2,
            "linecolor": "white",
            "showbackground": true,
            "ticks": "",
            "zerolinecolor": "white"
           }
          },
          "shapedefaults": {
           "line": {
            "color": "#2a3f5f"
           }
          },
          "ternary": {
           "aaxis": {
            "gridcolor": "white",
            "linecolor": "white",
            "ticks": ""
           },
           "baxis": {
            "gridcolor": "white",
            "linecolor": "white",
            "ticks": ""
           },
           "bgcolor": "#E5ECF6",
           "caxis": {
            "gridcolor": "white",
            "linecolor": "white",
            "ticks": ""
           }
          },
          "title": {
           "x": 0.05
          },
          "xaxis": {
           "automargin": true,
           "gridcolor": "white",
           "linecolor": "white",
           "ticks": "",
           "title": {
            "standoff": 15
           },
           "zerolinecolor": "white",
           "zerolinewidth": 2
          },
          "yaxis": {
           "automargin": true,
           "gridcolor": "white",
           "linecolor": "white",
           "ticks": "",
           "title": {
            "standoff": 15
           },
           "zerolinecolor": "white",
           "zerolinewidth": 2
          }
         }
        },
        "xaxis": {
         "anchor": "y",
         "domain": [
          0,
          1
         ]
        },
        "yaxis": {
         "anchor": "x",
         "domain": [
          0,
          1
         ]
        }
       }
      }
     },
     "metadata": {},
     "output_type": "display_data"
    }
   ],
   "source": [
    "def f_n(x):\n",
    "    return x**3 + np.cos(4 * x - 2) * 5\n",
    "\n",
    "\n",
    "x, y, p = get_xypdata(-2, 4, 100, 0, 1, f_n)\n",
    "\n",
    "x_pred = np.linspace(-2, 4, 100)\n",
    "f_pred = LeastSquare(x, y, p, 4)\n",
    "y_pred = [f_pred(xi) for xi in x_pred]\n",
    "\n",
    "f_coeffs = LeastSquaresCoeffs(x, y, p, 3)\n",
    "\n",
    "print(\"Коэф-ты:\")\n",
    "for i, coeff in enumerate(f_coeffs):\n",
    "    print(f\"{i}:\\t{coeff:.6f}\")\n",
    "\n",
    "fig = px.line()\n",
    "fig.add_trace(go.Scatter(x=x, y=y, name=\"Функция\"))\n",
    "fig.add_trace(go.Scatter(x=x_pred, y=y_pred, name=\"Приближение\"))\n",
    "fig.show()"
   ]
  },
  {
   "cell_type": "code",
   "execution_count": 7,
   "metadata": {},
   "outputs": [
    {
     "data": {
      "application/vnd.plotly.v1+json": {
       "config": {
        "plotlyServerURL": "https://plot.ly"
       },
       "data": [
        {
         "hovertemplate": "x=%{x}<br>y=%{y}<br>z=%{z}<extra></extra>",
         "legendgroup": "",
         "marker": {
          "color": "#636efa",
          "symbol": "circle"
         },
         "mode": "markers",
         "name": "",
         "scene": "scene",
         "showlegend": false,
         "type": "scatter3d",
         "x": [
          -1,
          0,
          1,
          2,
          -1,
          0,
          1,
          2,
          -1,
          0,
          1,
          2,
          -1,
          0,
          1,
          2,
          -1,
          0,
          1,
          2
         ],
         "y": [
          -2,
          -2,
          -2,
          -2,
          -1,
          -1,
          -1,
          -1,
          0,
          0,
          0,
          0,
          1,
          1,
          1,
          1,
          2,
          2,
          2,
          2
         ],
         "z": [
          -10,
          -12,
          -12,
          -10,
          -3,
          -4,
          -3,
          0,
          0,
          0,
          2,
          6,
          -1,
          0,
          3,
          8,
          -6,
          -4,
          0,
          6
         ]
        },
        {
         "type": "surface",
         "x": [
          -1,
          -0.9230769230769231,
          -0.8461538461538461,
          -0.7692307692307692,
          -0.6923076923076923,
          -0.6153846153846154,
          -0.5384615384615384,
          -0.46153846153846145,
          -0.3846153846153846,
          -0.3076923076923077,
          -0.23076923076923073,
          -0.15384615384615374,
          -0.07692307692307687,
          0,
          0.0769230769230771,
          0.15384615384615397,
          0.23076923076923084,
          0.3076923076923077,
          0.3846153846153846,
          0.4615384615384617,
          0.5384615384615385,
          0.6153846153846154,
          0.6923076923076925,
          0.7692307692307694,
          0.8461538461538463,
          0.9230769230769231,
          1,
          1.076923076923077,
          1.1538461538461542,
          1.2307692307692308,
          1.307692307692308,
          1.3846153846153846,
          1.4615384615384617,
          1.5384615384615388,
          1.6153846153846154,
          1.6923076923076925,
          1.7692307692307692,
          1.8461538461538463,
          1.9230769230769234,
          2
         ],
         "y": [
          -2,
          -1.8974358974358974,
          -1.794871794871795,
          -1.6923076923076923,
          -1.5897435897435899,
          -1.4871794871794872,
          -1.3846153846153846,
          -1.282051282051282,
          -1.1794871794871795,
          -1.076923076923077,
          -0.9743589743589745,
          -0.8717948717948718,
          -0.7692307692307692,
          -0.6666666666666667,
          -0.5641025641025641,
          -0.4615384615384617,
          -0.35897435897435903,
          -0.2564102564102564,
          -0.15384615384615397,
          -0.05128205128205132,
          0.0512820512820511,
          0.15384615384615374,
          0.2564102564102564,
          0.35897435897435903,
          0.4615384615384617,
          0.5641025641025639,
          0.6666666666666665,
          0.7692307692307692,
          0.8717948717948718,
          0.9743589743589745,
          1.0769230769230766,
          1.1794871794871793,
          1.282051282051282,
          1.3846153846153846,
          1.4871794871794872,
          1.5897435897435894,
          1.692307692307692,
          1.7948717948717947,
          1.8974358974358974,
          2
         ],
         "z": [
          [
           -10.000000000000004,
           -10.22485207100592,
           -10.437869822485212,
           -10.639053254437874,
           -10.828402366863907,
           -11.005917159763316,
           -11.171597633136097,
           -11.32544378698225,
           -11.467455621301777,
           -11.597633136094677,
           -11.715976331360947,
           -11.822485207100593,
           -11.917159763313611,
           -12.000000000000002,
           -12.071005917159766,
           -12.130177514792903,
           -12.177514792899409,
           -12.21301775147929,
           -12.236686390532547,
           -12.248520710059173,
           -12.248520710059173,
           -12.236686390532546,
           -12.213017751479292,
           -12.177514792899409,
           -12.130177514792901,
           -12.071005917159766,
           -12.000000000000004,
           -11.917159763313613,
           -11.822485207100595,
           -11.715976331360947,
           -11.597633136094677,
           -11.467455621301777,
           -11.325443786982248,
           -11.171597633136095,
           -11.005917159763314,
           -10.828402366863905,
           -10.639053254437872,
           -10.437869822485208,
           -10.22485207100592,
           -10.000000000000002
          ],
          [
           -9.09796186719264,
           -9.314924391847471,
           -9.520052596975678,
           -9.713346482577256,
           -9.894806048652205,
           -10.064431295200526,
           -10.222222222222223,
           -10.368178829717293,
           -10.502301117685736,
           -10.62458908612755,
           -10.735042735042736,
           -10.833662064431296,
           -10.920447074293229,
           -10.995397764628535,
           -11.058514135437214,
           -11.109796186719267,
           -11.149243918474689,
           -11.176857330703484,
           -11.192636423405656,
           -11.196581196581198,
           -11.188691650230114,
           -11.168967784352402,
           -11.137409598948063,
           -11.094017094017094,
           -11.038790269559502,
           -10.971729125575282,
           -10.892833662064435,
           -10.802103879026959,
           -10.699539776462856,
           -10.585141354372123,
           -10.458908612754767,
           -10.320841551610783,
           -10.17094017094017,
           -10.009204470742931,
           -9.835634451019065,
           -9.650230111768572,
           -9.452991452991455,
           -9.243918474687707,
           -9.023011176857333,
           -8.79026955950033
          ],
          [
           -8.238001314924395,
           -8.447074293228143,
           -8.644312952005263,
           -8.829717291255756,
           -9.003287310979621,
           -9.165023011176858,
           -9.314924391847471,
           -9.452991452991455,
           -9.579224194608813,
           -9.693622616699543,
           -9.796186719263643,
           -9.88691650230112,
           -9.965811965811968,
           -10.032873109796189,
           -10.088099934253783,
           -10.13149243918475,
           -10.163050624589086,
           -10.182774490466798,
           -10.190664036817886,
           -10.186719263642342,
           -10.170940170940174,
           -10.143326758711376,
           -10.103879026955951,
           -10.0525969756739,
           -9.989480604865223,
           -9.914529914529917,
           -9.827744904667986,
           -9.729125575279426,
           -9.618671926364236,
           -9.49638395792242,
           -9.362261669953979,
           -9.21630506245891,
           -9.058514135437214,
           -8.88888888888889,
           -8.707429322813937,
           -8.51413543721236,
           -8.309007232084156,
           -8.092044707429325,
           -7.863247863247865,
           -7.622616699539778
          ],
          [
           -7.420118343195269,
           -7.6213017751479315,
           -7.810650887573967,
           -7.988165680473375,
           -8.153846153846155,
           -8.307692307692308,
           -8.449704142011836,
           -8.579881656804735,
           -8.698224852071009,
           -8.804733727810653,
           -8.899408284023668,
           -8.98224852071006,
           -9.053254437869823,
           -9.11242603550296,
           -9.159763313609469,
           -9.195266272189352,
           -9.218934911242604,
           -9.23076923076923,
           -9.230769230769232,
           -9.218934911242604,
           -9.19526627218935,
           -9.159763313609469,
           -9.11242603550296,
           -9.053254437869825,
           -8.982248520710062,
           -8.89940828402367,
           -8.804733727810653,
           -8.698224852071007,
           -8.579881656804737,
           -8.449704142011838,
           -8.307692307692308,
           -8.153846153846155,
           -7.988165680473375,
           -7.810650887573965,
           -7.62130177514793,
           -7.420118343195267,
           -7.207100591715977,
           -6.98224852071006,
           -6.7455621301775155,
           -6.497041420118346
          ],
          [
           -6.644312952005262,
           -6.83760683760684,
           -7.019066403681791,
           -7.188691650230115,
           -7.34648257725181,
           -7.492439184746879,
           -7.62656147271532,
           -7.748849441157136,
           -7.859303090072323,
           -7.957922419460883,
           -8.044707429322814,
           -8.119658119658121,
           -8.1827744904668,
           -8.234056541748851,
           -8.273504273504276,
           -8.301117685733074,
           -8.31689677843524,
           -8.320841551610783,
           -8.3129520052597,
           -8.293228139381988,
           -8.261669953977648,
           -8.218277449046681,
           -8.163050624589088,
           -8.095989480604867,
           -8.01709401709402,
           -7.926364234056544,
           -7.823800131492441,
           -7.70940170940171,
           -7.583168967784354,
           -7.44510190664037,
           -7.295200525969758,
           -7.13346482577252,
           -6.959894806048655,
           -6.774490466798161,
           -6.57725180802104,
           -6.368178829717292,
           -6.1472715318869176,
           -5.914529914529917,
           -5.669953977646286,
           -5.4135437212360324
          ],
          [
           -5.910585141354374,
           -6.095989480604867,
           -6.269559500328734,
           -6.431295200525972,
           -6.581196581196583,
           -6.719263642340566,
           -6.845496383957923,
           -6.959894806048654,
           -7.062458908612756,
           -7.153188691650231,
           -7.23208415516108,
           -7.2991452991453,
           -7.354372123602893,
           -7.39776462853386,
           -7.429322813938199,
           -7.449046679815911,
           -7.456936226166997,
           -7.452991452991454,
           -7.4372123602892835,
           -7.409598948060487,
           -7.3701512163050635,
           -7.318869165023012,
           -7.255752794214334,
           -7.180802103879028,
           -7.094017094017095,
           -6.995397764628535,
           -6.884944115713348,
           -6.7626561472715325,
           -6.62853385930309,
           -6.4825772518080225,
           -6.324786324786325,
           -6.155161078238003,
           -5.973701512163053,
           -5.780407626561473,
           -5.575279421433269,
           -5.358316896778434,
           -5.129520052596976,
           -4.888888888888889,
           -4.636423405654175,
           -4.372123602892835
          ],
          [
           -5.218934911242605,
           -5.396449704142013,
           -5.562130177514794,
           -5.715976331360947,
           -5.857988165680474,
           -5.988165680473374,
           -6.106508875739645,
           -6.213017751479291,
           -6.307692307692308,
           -6.390532544378698,
           -6.461538461538462,
           -6.520710059171598,
           -6.568047337278106,
           -6.603550295857988,
           -6.627218934911242,
           -6.6390532544378695,
           -6.63905325443787,
           -6.627218934911244,
           -6.603550295857987,
           -6.568047337278106,
           -6.520710059171598,
           -6.461538461538462,
           -6.390532544378698,
           -6.307692307692308,
           -6.21301775147929,
           -6.106508875739646,
           -5.988165680473373,
           -5.8579881656804735,
           -5.715976331360946,
           -5.562130177514793,
           -5.396449704142011,
           -5.218934911242604,
           -5.029585798816568,
           -4.828402366863905,
           -4.615384615384615,
           -4.390532544378699,
           -4.153846153846154,
           -3.9053254437869818,
           -3.644970414201182,
           -3.3727810650887573
          ],
          [
           -4.569362261669955,
           -4.738987508218279,
           -4.896778435239975,
           -5.0427350427350435,
           -5.176857330703486,
           -5.299145299145301,
           -5.409598948060487,
           -5.508218277449048,
           -5.59500328731098,
           -5.669953977646285,
           -5.733070348454964,
           -5.784352399737015,
           -5.823800131492439,
           -5.851413543721236,
           -5.867192636423405,
           -5.871137409598948,
           -5.863247863247864,
           -5.843523997370152,
           -5.811965811965812,
           -5.7685733070348455,
           -5.713346482577252,
           -5.646285338593031,
           -5.567389875082183,
           -5.476660092044708,
           -5.374095989480605,
           -5.259697567389876,
           -5.133464825772519,
           -4.9953977646285335,
           -4.845496383957921,
           -4.683760683760684,
           -4.510190664036817,
           -4.3247863247863245,
           -4.127547666009205,
           -3.9184746877054564,
           -3.697567389875083,
           -3.4648257725180787,
           -3.220249835634451,
           -2.963839579224194,
           -2.695595003287311,
           -2.4155161078238008
          ],
          [
           -3.9618671926364253,
           -4.123602892833664,
           -4.273504273504276,
           -4.411571334648259,
           -4.537804076265616,
           -4.652202498356346,
           -4.754766600920448,
           -4.845496383957924,
           -4.924391847468772,
           -4.991452991452992,
           -5.046679815910586,
           -5.090072320841553,
           -5.121630506245891,
           -5.141354372123604,
           -5.149243918474688,
           -5.145299145299146,
           -5.129520052596977,
           -5.10190664036818,
           -5.062458908612755,
           -5.011176857330704,
           -4.948060486522026,
           -4.8731097961867205,
           -4.786324786324787,
           -4.687705456936228,
           -4.57725180802104,
           -4.454963839579226,
           -4.320841551610785,
           -4.174884944115714,
           -4.017094017094017,
           -3.847468770545696,
           -3.6660092044707437,
           -3.4727153188691657,
           -3.2675871137409613,
           -3.050624589086128,
           -2.82182774490467,
           -2.581196581196582,
           -2.3287310979618687,
           -2.064431295200526,
           -1.7882971729125587,
           -1.5003287310979634
          ],
          [
           -3.396449704142014,
           -3.550295857988168,
           -3.6923076923076943,
           -3.8224852071005935,
           -3.940828402366866,
           -4.047337278106511,
           -4.142011834319527,
           -4.224852071005919,
           -4.2958579881656815,
           -4.3550295857988175,
           -4.402366863905327,
           -4.437869822485208,
           -4.461538461538462,
           -4.473372781065089,
           -4.4733727810650885,
           -4.461538461538462,
           -4.437869822485208,
           -4.402366863905327,
           -4.355029585798817,
           -4.295857988165681,
           -4.224852071005918,
           -4.142011834319528,
           -4.04733727810651,
           -3.940828402366865,
           -3.8224852071005917,
           -3.6923076923076925,
           -3.5502958579881665,
           -3.3964497041420127,
           -3.2307692307692317,
           -3.0532544378698248,
           -2.863905325443788,
           -2.662721893491126,
           -2.4497041420118357,
           -2.2248520710059174,
           -1.9881656804733743,
           -1.7396449704142025,
           -1.4792899408284037,
           -1.2071005917159774,
           -0.923076923076924,
           -0.6272189349112438
          ],
          [
           -2.873109796186722,
           -3.01906640368179,
           -3.1531886916502314,
           -3.2754766600920466,
           -3.3859303090072337,
           -3.4845496383957935,
           -3.571334648257727,
           -3.6462853385930316,
           -3.7094017094017104,
           -3.7606837606837615,
           -3.8001314924391854,
           -3.8277449046679823,
           -3.8435239973701525,
           -3.8474687705456945,
           -3.83957922419461,
           -3.8198553583168975,
           -3.7882971729125585,
           -3.744904667981592,
           -3.6896778435239987,
           -3.6226166995397775,
           -3.5437212360289294,
           -3.452991452991454,
           -3.350427350427352,
           -3.236028928336622,
           -3.1097961867192647,
           -2.9717291255752802,
           -2.821827744904669,
           -2.6600920447074303,
           -2.486522024983564,
           -2.3011176857330717,
           -2.1038790269559513,
           -1.8948060486522045,
           -1.6738987508218286,
           -1.4411571334648265,
           -1.1965811965811979,
           -0.9401709401709414,
           -0.6719263642340587,
           -0.39184746877054694,
           -0.09993425378040836,
           0.20381328073635577
          ],
          [
           -2.391847468770547,
           -2.529914529914531,
           -2.656147271531889,
           -2.770545693622618,
           -2.8731097961867205,
           -2.963839579224195,
           -3.042735042735043,
           -3.1097961867192643,
           -3.165023011176858,
           -3.208415516107824,
           -3.239973701512163,
           -3.259697567389875,
           -3.2675871137409604,
           -3.2636423405654176,
           -3.2478632478632483,
           -3.220249835634451,
           -3.180802103879027,
           -3.1295200525969755,
           -3.0664036817882976,
           -2.991452991452992,
           -2.904667981591059,
           -2.8060486522024988,
           -2.6955950032873113,
           -2.573307034845497,
           -2.4391847468770553,
           -2.2932281393819856,
           -2.13543721236029,
           -1.9658119658119662,
           -1.7843523997370152,
           -1.591058514135438,
           -1.3859303090072326,
           -1.168967784352401,
           -0.9401709401709405,
           -0.6995397764628531,
           -0.44707429322814024,
           -0.18277449046679825,
           0.09335963182116926,
           0.38132807363576543,
           0.6811308349769885,
           0.9927679158448378
          ],
          [
           -1.9526627218934924,
           -2.082840236686392,
           -2.2011834319526637,
           -2.3076923076923084,
           -2.402366863905326,
           -2.485207100591716,
           -2.5562130177514795,
           -2.6153846153846154,
           -2.6627218934911245,
           -2.698224852071006,
           -2.72189349112426,
           -2.7337278106508873,
           -2.7337278106508878,
           -2.72189349112426,
           -2.698224852071006,
           -2.6627218934911236,
           -2.615384615384615,
           -2.5562130177514786,
           -2.485207100591716,
           -2.4023668639053253,
           -2.3076923076923075,
           -2.201183431952663,
           -2.0828402366863905,
           -1.9526627218934904,
           -1.8106508875739642,
           -1.6568047337278107,
           -1.4911242603550299,
           -1.3136094674556211,
           -1.1242603550295853,
           -0.923076923076923,
           -0.7100591715976329,
           -0.48520710059171684,
           -0.2485207100591717,
           9.581417234528717e-16,
           0.2603550295857987,
           0.5325443786982251,
           0.8165680473372774,
           1.1124260355029585,
           1.4201183431952666,
           1.7396449704142005
          ],
          [
           -1.555555555555557,
           -1.6778435239973715,
           -1.7882971729125585,
           -1.8869165023011187,
           -1.9737015121630517,
           -2.048652202498357,
           -2.1117685733070353,
           -2.163050624589087,
           -2.2024983563445106,
           -2.230111768573307,
           -2.245890861275477,
           -2.249835634451019,
           -2.241946088099935,
           -2.2222222222222223,
           -2.1906640368178834,
           -2.147271531886916,
           -2.0920447074293227,
           -2.024983563445102,
           -1.946088099934254,
           -1.8553583168967789,
           -1.752794214332676,
           -1.6383957922419465,
           -1.5121630506245893,
           -1.3740959894806049,
           -1.2241946088099935,
           -1.0624589086127552,
           -0.8888888888888896,
           -0.7034845496383964,
           -0.5062458908612752,
           -0.29717291255752853,
           -0.07626561472715362,
           0.1564760026298473,
           0.40105193951347723,
           0.6574621959237343,
           0.9257067718606169,
           1.2057856673241283,
           1.4976988823142656,
           1.8014464168310313,
           2.117028270874424,
           2.444444444444443
          ],
          [
           -1.2005259697567403,
           -1.3149243918474696,
           -1.4174884944115722,
           -1.5082182774490474,
           -1.5871137409598957,
           -1.6541748849441158,
           -1.709401709401709,
           -1.7527942143326758,
           -1.7843523997370148,
           -1.8040762656147271,
           -1.8119658119658117,
           -1.808021038790269,
           -1.7922419460880994,
           -1.7646285338593026,
           -1.7251808021038784,
           -1.6738987508218273,
           -1.6107823800131487,
           -1.5358316896778432,
           -1.4490466798159103,
           -1.35042735042735,
           -1.2399737015121626,
           -1.1176857330703485,
           -0.9835634451019064,
           -0.8376068376068371,
           -0.679815910585141,
           -0.5101906640368178,
           -0.32873109796186734,
           -0.1354372123602892,
           0.06969099276791646,
           0.2866535174227481,
           0.5154503616042081,
           0.7560815253122936,
           1.0085470085470087,
           1.2728468113083504,
           1.5489809335963178,
           1.8369493754109139,
           2.136752136752136,
           2.4483892176199866,
           2.7718606180144643,
           3.107166337935568
          ],
          [
           -0.8875739644970431,
           -0.9940828402366874,
           -1.0887573964497055,
           -1.171597633136096,
           -1.2426035502958588,
           -1.3017751479289947,
           -1.3491124260355036,
           -1.384615384615385,
           -1.4082840236686394,
           -1.4201183431952664,
           -1.4201183431952664,
           -1.4082840236686391,
           -1.3846153846153846,
           -1.349112426035503,
           -1.301775147928994,
           -1.2426035502958581,
           -1.1715976331360947,
           -1.0887573964497044,
           -0.9940828402366867,
           -0.8875739644970414,
           -0.7692307692307694,
           -0.63905325443787,
           -0.4970414201183433,
           -0.3431952662721895,
           -0.17751479289940866,
           -4.893732687790781e-16,
           0.18934911242603472,
           0.39053254437869783,
           0.6035502958579883,
           0.8284023668639044,
           1.065088757396449,
           1.3136094674556196,
           1.5739644970414193,
           1.8461538461538463,
           2.130177514792898,
           2.4260355029585794,
           2.7337278106508855,
           3.053254437869821,
           3.3846153846153837,
           3.7278106508875717
          ],
          [
           -0.6166995397764641,
           -0.7153188691650237,
           -0.8021038790269567,
           -0.8770545693622621,
           -0.9401709401709406,
           -0.9914529914529916,
           -1.0309007232084153,
           -1.0585141354372123,
           -1.0742932281393816,
           -1.078238001314924,
           -1.0703484549638393,
           -1.050624589086127,
           -1.0190664036817878,
           -0.9756738987508213,
           -0.9204470742932275,
           -0.8533859303090067,
           -0.7744904667981586,
           -0.6837606837606833,
           -0.5811965811965809,
           -0.4667981591058508,
           -0.340565417488494,
           -0.20249835634450988,
           -0.052596975673898205,
           0.10913872452334039,
           0.28270874424720605,
           0.468113083497699,
           0.665351742274819,
           0.8744247205785668,
           1.0953320184089421,
           1.3280736357659433,
           1.5726495726495726,
           1.829059829059828,
           2.0973044049967124,
           2.3773833004602243,
           2.6692965154503607,
           2.9730440499671267,
           3.288625904010518,
           3.6160420775805386,
           3.9552925706771855,
           4.306377383300459
          ],
          [
           -0.38790269559500423,
           -0.4786324786324794,
           -0.5575279421433271,
           -0.624589086127548,
           -0.6798159105851415,
           -0.7232084155161077,
           -0.7547666009204467,
           -0.7744904667981588,
           -0.7823800131492433,
           -0.7784352399737008,
           -0.7626561472715312,
           -0.7350427350427342,
           -0.69559500328731,
           -0.6443129520052588,
           -0.5811965811965801,
           -0.5062458908612745,
           -0.41946088099934165,
           -0.3208415516107816,
           -0.2103879026955942,
           -0.08809993425377947,
           0.046022353714662234,
           0.1919789612097311,
           0.3497698882314276,
           0.519395134779751,
           0.7008547008547016,
           0.8941485864562793,
           1.099276791584484,
           1.3162393162393167,
           1.545036160420777,
           1.7856673241288628,
           2.038132807363577,
           2.302432610124917,
           2.5785667324128863,
           2.8665351742274825,
           3.1663379355687042,
           3.4779750164365555,
           3.801446416831032,
           4.136752136752136,
           4.483892176199869,
           4.842866535174227
          ],
          [
           -0.2011834319526638,
           -0.28402366863905404,
           -0.3550295857988172,
           -0.414201183431953,
           -0.4615384615384616,
           -0.4970414201183432,
           -0.5207100591715974,
           -0.5325443786982246,
           -0.5325443786982245,
           -0.5207100591715971,
           -0.4970414201183426,
           -0.46153846153846084,
           -0.414201183431952,
           -0.35502958579881594,
           -0.2840236686390525,
           -0.20118343195266197,
           -0.1065088757396443,
           5.560042856499878e-16,
           0.11834319526627267,
           0.24852071005917228,
           0.3905325443786987,
           0.5443786982248524,
           0.7100591715976338,
           0.8875739644970418,
           1.0769230769230773,
           1.2781065088757397,
           1.4911242603550294,
           1.7159763313609468,
           1.9526627218934915,
           2.201183431952662,
           2.4615384615384617,
           2.733727810650886,
           3.0177514792899403,
           3.313609467455622,
           3.621301775147928,
           3.9408284023668636,
           4.272189349112424,
           4.615384615384614,
           4.970414201183432,
           5.337278106508874
          ],
          [
           -0.05654174884944207,
           -0.13149243918474743,
           -0.19460880999342575,
           -0.24589086127547682,
           -0.28533859303090053,
           -0.31295200525969713,
           -0.32873109796186667,
           -0.332675871137409,
           -0.3247863247863241,
           -0.30506245890861194,
           -0.27350427350427264,
           -0.23011176857330604,
           -0.17488494411571234,
           -0.10782380013149144,
           -0.028928336620643126,
           0.061801446416832176,
           0.16436554898093467,
           0.2787639710716643,
           0.40499671268902127,
           0.5430637738330056,
           0.6929651545036168,
           0.8547008547008556,
           1.0282708744247218,
           1.2136752136752147,
           1.410913872452335,
           1.6199868507560822,
           1.8408941485864565,
           2.0736357659434588,
           2.3182117028270883,
           2.574621959237344,
           2.842866535174228,
           3.1229454306377376,
           3.414858645627876,
           3.718606180144642,
           4.034188034188034,
           4.361604207758054,
           4.7008547008547,
           5.051939513477974,
           5.414858645627876,
           5.789612097304404
          ],
          [
           0.04602235371466055,
           -0.021038790269559966,
           -0.07626561472715365,
           -0.11965811965811984,
           -0.1512163050624588,
           -0.1709401709401707,
           -0.17882971729125535,
           -0.1748849441157128,
           -0.1591058514135431,
           -0.13149243918474612,
           -0.09204470742932197,
           -0.04076265614727059,
           0.0223537146614079,
           0.09730440499671358,
           0.18408941485864674,
           0.2827087442472068,
           0.3931623931623941,
           0.5154503616042087,
           0.6495726495726502,
           0.7955292570677195,
           0.9533201840894155,
           1.1229454306377389,
           1.3044049967126898,
           1.4976988823142678,
           1.7028270874424727,
           1.9197896120973046,
           2.148586456278764,
           2.389217619986851,
           2.6416831032215655,
           2.905982905982906,
           3.1821170282708744,
           3.470085470085469,
           3.769888231426693,
           4.081525312294543,
           4.4049967126890195,
           4.740302432610125,
           5.087442472057855,
           5.446416831032215,
           5.817225509533202,
           6.199868507560814
          ],
          [
           0.10650887573964433,
           0.04733727810650858,
           -1.330077199928776e-16,
           -0.03550295857988158,
           -0.059171597633135696,
           -0.07100591715976272,
           -0.07100591715976258,
           -0.059171597633135224,
           -0.03550295857988073,
           1.0538191000564891e-15,
           0.04733727810651001,
           0.10650887573964624,
           0.17751479289940955,
           0.26035502958580004,
           0.355029585798818,
           0.4615384615384629,
           0.579881656804735,
           0.7100591715976344,
           0.8520710059171608,
           1.0059171597633147,
           1.1715976331360958,
           1.3491124260355039,
           1.5384615384615397,
           1.7396449704142025,
           1.952662721893492,
           2.177514792899409,
           2.414201183431953,
           2.662721893491125,
           2.9230769230769242,
           3.195266272189349,
           3.4792899408284033,
           3.775147928994082,
           4.0828402366863905,
           4.402366863905326,
           4.733727810650888,
           5.0769230769230775,
           5.431952662721892,
           5.798816568047337,
           6.177514792899409,
           6.568047337278105
          ],
          [
           0.124917817225509,
           0.07363576594345811,
           0.03418803418803413,
           0.006574621959237653,
           -0.009204470742931835,
           -0.013149243918473996,
           -0.005259697567388999,
           0.014464168310323188,
           0.04602235371466253,
           0.08941485864562909,
           0.1446416831032229,
           0.21170282708744392,
           0.29059829059829206,
           0.3813280736357674,
           0.4838921761998702,
           0.5982905982905998,
           0.7245233399079567,
           0.8625904010519408,
           1.0124917817225523,
           1.174227481919791,
           1.3477975016436567,
           1.5332018408941497,
           1.7304404996712706,
           1.9395134779750178,
           2.160420775805392,
           2.3931623931623944,
           2.637738330046023,
           2.89414858645628,
           3.162393162393164,
           3.4424720578566737,
           3.7343852728468123,
           4.038132807363576,
           4.353714661406969,
           4.681130834976989,
           5.020381328073636,
           5.37146614069691,
           5.7343852728468105,
           6.10913872452334,
           6.495726495726497,
           6.894148586456278
          ],
          [
           0.10124917817225464,
           0.05785667324128848,
           0.026298487836949366,
           0.006574621959237633,
           -0.001314924391846887,
           0.002629848783695807,
           0.018408941485865606,
           0.04602235371466259,
           0.08547008547008675,
           0.13675213675213815,
           0.19986850756081678,
           0.2748191978961227,
           0.3616042077580556,
           0.4602235371466157,
           0.5706771860618033,
           0.6929651545036178,
           0.8270874424720595,
           0.9730440499671285,
           1.1308349769888246,
           1.3004602235371483,
           1.4819197896120988,
           1.6752136752136764,
           1.880341880341882,
           2.0973044049967142,
           2.3261012491781736,
           2.5667324128862608,
           2.8191978961209743,
           3.0834976988823155,
           3.3596318211702845,
           3.6476002629848794,
           3.9474030243261025,
           4.259040105193951,
           4.582511505588429,
           4.917817225509535,
           5.264957264957266,
           5.623931623931625,
           5.99474030243261,
           6.377383300460224,
           6.771860618014466,
           7.178172255095331
          ],
          [
           0.035502958579881345,
           4.5284058929015443e-17,
           -0.02366863905325421,
           -0.0355029585798812,
           -0.035502958579880964,
           -0.023668639053253476,
           1.1793285418700138e-15,
           0.03550295857988299,
           0.08284023668639197,
           0.14201183431952816,
           0.21301775147929164,
           0.2958579881656823,
           0.39053254437870005,
           0.497041420118345,
           0.6153846153846175,
           0.7455621301775168,
           0.8875739644970434,
           1.041420118343197,
           1.207100591715978,
           1.3846153846153866,
           1.573964497041422,
           1.7751479289940844,
           1.9881656804733747,
           2.213017751479292,
           2.4497041420118357,
           2.6982248520710077,
           2.958579881656806,
           3.2307692307692326,
           3.514792899408286,
           3.8106508875739653,
           4.118343195266275,
           4.437869822485207,
           4.769230769230771,
           5.112426035502961,
           5.4674556213017755,
           5.834319526627221,
           6.213017751479289,
           6.603550295857988,
           7.005917159763314,
           7.420118343195265
          ],
          [
           -0.07232084155161064,
           -0.09993425378040718,
           -0.11571334648257671,
           -0.11965811965811883,
           -0.11176857330703374,
           -0.09204470742932157,
           -0.06048652202498217,
           -0.017094017094015496,
           0.03813280736357825,
           0.10519395134779923,
           0.1840894148586475,
           0.274819197896123,
           0.3773833004602255,
           0.4917817225509552,
           0.6180144641683125,
           0.7560815253122966,
           0.905982905982908,
           1.0677186061801465,
           1.2412886259040123,
           1.4266929651545055,
           1.6239316239316257,
           1.8330046022353728,
           2.053911900065748,
           2.28665351742275,
           2.531229454306379,
           2.787639710716635,
           3.0558842866535185,
           3.33596318211703,
           3.6278763971071677,
           3.931623931623932,
           4.247205785667325,
           4.574621959237343,
           4.913872452333991,
           5.264957264957266,
           5.627876397107166,
           6.002629848783695,
           6.389217619986849,
           6.787639710716633,
           7.197896120973044,
           7.61998685075608
          ],
          [
           -0.222222222222222,
           -0.24194608809993381,
           -0.24983563445101845,
           -0.24589086127547574,
           -0.2301117685733059,
           -0.20249835634450875,
           -0.16305062458908454,
           -0.11176857330703306,
           -0.04865220249835453,
           0.026298487836951278,
           0.11308349769888436,
           0.21170282708744467,
           0.32215647600263203,
           0.44444444444444653,
           0.5785667324128887,
           0.7245233399079576,
           0.8823142669296538,
           1.051939513477977,
           1.2333990795529277,
           1.4266929651545057,
           1.6318211702827108,
           1.8487836949375427,
           2.0775805391190025,
           2.318211702827089,
           2.570677186061803,
           2.8349769888231444,
           3.1111111111111125,
           3.3990795529257083,
           3.6988823142669314,
           4.010519395134781,
           4.333990795529259,
           4.669296515450362,
           5.016436554898093,
           5.375410913872453,
           5.746219592373438,
           6.128862590401052,
           6.523339907955291,
           6.92965154503616,
           7.347797501643656,
           7.777777777777777
          ],
          [
           -0.4142011834319525,
           -0.42603550295857945,
           -0.4260355029585791,
           -0.41420118343195167,
           -0.39053254437869694,
           -0.35502958579881505,
           -0.30769230769230593,
           -0.24852071005916973,
           -0.17751479289940633,
           -0.09467455621301571,
           2.175051612834733e-15,
           0.10650887573964733,
           0.22485207100591947,
           0.3550295857988188,
           0.4970414201183458,
           0.6508875739644995,
           0.8165680473372804,
           0.9940828402366886,
           1.1834319526627242,
           1.384615384615387,
           1.5976331360946767,
           1.8224852071005937,
           2.059171597633138,
           2.3076923076923097,
           2.5680473372781085,
           2.8402366863905346,
           3.124260355029587,
           3.4201183431952678,
           3.727810650887576,
           4.04733727810651,
           4.378698224852073,
           4.72189349112426,
           5.0769230769230775,
           5.443786982248522,
           5.822485207100592,
           6.213017751479291,
           6.615384615384614,
           7.0295857988165675,
           7.455621301775149,
           7.893491124260354
          ],
          [
           -0.6482577251808022,
           -0.6522024983563441,
           -0.6443129520052593,
           -0.6245890861275469,
           -0.5930309007232073,
           -0.5496383957922406,
           -0.49441157133464664,
           -0.4273504273504256,
           -0.34845496383957747,
           -0.257725180802102,
           -0.15516107823799927,
           -0.04076265614726928,
           0.08547008547008768,
           0.22353714661407184,
           0.37343852728468363,
           0.5351742274819222,
           0.7087442472057879,
           0.8941485864562809,
           1.0913872452334012,
           1.300460223537149,
           1.5213675213675235,
           1.7541091387245251,
           1.998685075608155,
           2.255095332018411,
           2.523339907955294,
           2.803418803418805,
           3.0953320184089423,
           3.3990795529257083,
           3.7146614069691015,
           4.042077580539121,
           4.381328073635768,
           4.7324128862590396,
           5.095332018408942,
           5.470085470085471,
           5.856673241288626,
           6.25509533201841,
           6.665351742274818,
           7.087442472057856,
           7.521367521367522,
           7.967126890203812
          ],
          [
           -0.9243918474687707,
           -0.9204470742932278,
           -0.9046679815910581,
           -0.8770545693622609,
           -0.8376068376068364,
           -0.7863247863247853,
           -0.7232084155161063,
           -0.6482577251808004,
           -0.5614727153188673,
           -0.4628533859303072,
           -0.3523997370151196,
           -0.23011176857330481,
           -0.09598948060486302,
           0.04996712689020594,
           0.20775805391190255,
           0.37738330046022595,
           0.5588428665351765,
           0.7521367521367542,
           0.9572649572649593,
           1.174227481919792,
           1.4030243261012514,
           1.6436554898093374,
           1.8961209730440522,
           2.1604207758053935,
           2.436554898093361,
           2.724523339907957,
           3.0243261012491796,
           3.33596318211703,
           3.6594345825115075,
           3.9947403024326107,
           4.341880341880343,
           4.7008547008547,
           5.071663379355687,
           5.454306377383302,
           5.848783694937541,
           6.25509533201841,
           6.673241288625904,
           7.103221564760026,
           7.545036160420777,
           7.998685075608152
          ],
          [
           -1.2426035502958572,
           -1.230769230769229,
           -1.2071005917159747,
           -1.1715976331360927,
           -1.1242603550295838,
           -1.0650887573964474,
           -0.9940828402366839,
           -0.9112426035502932,
           -0.8165680473372753,
           -0.7100591715976301,
           -0.5917159763313579,
           -0.4615384615384583,
           -0.31952662721893177,
           -0.165680473372778,
           3.4258821669193885e-15,
           0.1775147928994116,
           0.36686390532544694,
           0.5680473372781095,
           0.7810650887573992,
           1.0059171597633167,
           1.2426035502958608,
           1.4911242603550319,
           1.7514792899408314,
           2.0236686390532572,
           2.3076923076923097,
           2.6035502958579904,
           2.9112426035502974,
           3.230769230769233,
           3.5621301775147955,
           3.9053254437869835,
           4.260355029585801,
           4.627218934911243,
           5.005917159763315,
           5.396449704142014,
           5.7988165680473385,
           6.213017751479291,
           6.6390532544378695,
           7.0769230769230775,
           7.526627218934912,
           7.988165680473371
          ],
          [
           -1.6028928336620631,
           -1.5831689677843501,
           -1.5516107823800112,
           -1.5082182774490445,
           -1.4529914529914503,
           -1.3859303090072292,
           -1.307034845496381,
           -1.216305062458905,
           -1.1137409598948025,
           -0.9993425378040729,
           -0.8731097961867155,
           -0.7350427350427312,
           -0.5851413543721198,
           -0.4234056541748813,
           -0.24983563445101503,
           -0.06443129520052208,
           0.13280736357659811,
           0.3418803418803454,
           0.5627876397107199,
           0.7955292570677224,
           1.0401051939513513,
           1.2965154503616072,
           1.5647600262984915,
           1.8448389217620023,
           2.1367521367521394,
           2.440499671268905,
           2.7560815253122968,
           3.0834976988823173,
           3.4227481919789646,
           3.7738330046022375,
           4.13675213675214,
           4.511505588428666,
           4.898093359631822,
           5.296515450361607,
           5.706771860618016,
           6.128862590401054,
           6.562787639710717,
           7.008547008547009,
           7.466140696909929,
           7.935568704799473
          ],
          [
           -2.005259697567389,
           -1.9776462853385917,
           -1.9381985535831672,
           -1.8869165023011156,
           -1.823800131492437,
           -1.7488494411571307,
           -1.662064431295198,
           -1.563445101906637,
           -1.4529914529914496,
           -1.3307034845496353,
           -1.1965811965811932,
           -1.0506245890861239,
           -0.8928336620644277,
           -0.7232084155161044,
           -0.5417488494411533,
           -0.3484549638395755,
           -0.14332675871137052,
           0.07363576594346158,
           0.302432610124921,
           0.5430637738330082,
           0.7955292570677219,
           1.0598290598290627,
           1.335963182117032,
           1.6239316239316275,
           1.92373438527285,
           2.2353714661406996,
           2.5588428665351763,
           2.8941485864562817,
           3.241288625904014,
           3.6002629848783716,
           3.971071663379358,
           4.353714661406969,
           4.748191978961211,
           5.15450361604208,
           5.572649572649574,
           6.002629848783697,
           6.444444444444445,
           6.8980933596318215,
           7.363576594345827,
           7.840894148586456
          ],
          [
           -2.4497041420118335,
           -2.4142011834319517,
           -2.3668639053254426,
           -2.3076923076923057,
           -2.236686390532542,
           -2.153846153846151,
           -2.0591715976331333,
           -1.9526627218934878,
           -1.834319526627216,
           -1.7041420118343165,
           -1.5621301775147898,
           -1.4082840236686358,
           -1.2426035502958546,
           -1.0650887573964465,
           -0.8757396449704106,
           -0.6745562130177479,
           -0.46153846153845823,
           -0.2366863905325413,
           2.9777834971198584e-15,
           0.24852071005917498,
           0.5088757396449736,
           0.7810650887573992,
           1.0650887573964531,
           1.3609467455621334,
           1.6686390532544408,
           1.9881656804733752,
           2.319526627218937,
           2.6627218934911268,
           3.0177514792899442,
           3.384615384615386,
           3.763313609467458,
           4.153846153846154,
           4.556213017751481,
           4.970414201183434,
           5.396449704142013,
           5.834319526627221,
           6.284023668639052,
           6.745562130177515,
           7.218934911242605,
           7.7041420118343185
          ],
          [
           -2.936226166995398,
           -2.8928336620644313,
           -2.8376068376068373,
           -2.7705456936226156,
           -2.6916502301117675,
           -2.6009204470742917,
           -2.498356344510189,
           -2.3839579224194587,
           -2.257725180802102,
           -2.1196581196581175,
           -1.969756738987506,
           -1.808021038790267,
           -1.6344510190664012,
           -1.4490466798159083,
           -1.2518080210387874,
           -1.0427350427350401,
           -0.8218277449046656,
           -0.5890861275476637,
           -0.3445101906640347,
           -0.08809993425377792,
           0.1801446416831055,
           0.460223537146616,
           0.7521367521367547,
           1.0558842866535199,
           1.3714661406969118,
           1.6988823142669311,
           2.038132807363578,
           2.3892176199868524,
           2.752136752136755,
           3.1268902038132813,
           3.513477975016438,
           3.9119000657462193,
           4.322156476002631,
           4.744247205785669,
           5.178172255095332,
           5.623931623931624,
           6.081525312294541,
           6.550953320184089,
           7.032215647600263,
           7.525312294543062
          ],
          [
           -3.4648257725180778,
           -3.4135437212360253,
           -3.3504273504273474,
           -3.275476660092041,
           -3.188691650230108,
           -3.090072320841547,
           -2.9796186719263598,
           -2.8573307034845445,
           -2.7232084155161034,
           -2.5772518080210336,
           -2.419460880999337,
           -2.249835634451014,
           -2.0683760683760632,
           -1.8750821827744855,
           -1.66995397764628,
           -1.4529914529914478,
           -1.2241946088099882,
           -0.9835634451019019,
           -0.731097961867188,
           -0.46679815910584616,
           -0.19066403681787833,
           0.09730440499671728,
           0.3971071663379405,
           0.7087442472057903,
           1.0322156476002673,
           1.3675213675213713,
           1.7146614069691029,
           2.0736357659434623,
           2.4444444444444486,
           2.827087442472061,
           3.221564760026302,
           3.627876397107168,
           4.0460223537146645,
           4.476002629848788,
           4.917817225509535,
           5.371466140696913,
           5.8369493754109145,
           6.314266929651546,
           6.803418803418806,
           7.304404996712689
          ],
          [
           -4.0355029585798805,
           -3.9763313609467428,
           -3.905325443786979,
           -3.8224852071005886,
           -3.727810650887571,
           -3.621301775147925,
           -3.502958579881653,
           -3.3727810650887533,
           -3.2307692307692264,
           -3.0769230769230727,
           -2.911242603550291,
           -2.7337278106508824,
           -2.5443786982248477,
           -2.343195266272185,
           -2.1301775147928947,
           -1.9053254437869773,
           -1.6686390532544333,
           -1.4201183431952618,
           -1.1597633136094634,
           -0.8875739644970371,
           -0.6035502958579838,
           -0.3076923076923038,
           4.289056141479658e-15,
           0.319526627218939,
           0.6508875739645008,
           0.9940828402366897,
           1.349112426035506,
           1.7159763313609502,
           2.0946745562130213,
           2.4852071005917185,
           2.8875739644970446,
           3.3017751479289954,
           3.727810650887576,
           4.165680473372785,
           4.615384615384617,
           5.076923076923078,
           5.550295857988166,
           6.035502958579882,
           6.532544378698227,
           7.041420118343195
          ],
          [
           -4.648257725180801,
           -4.581196581196579,
           -4.502301117685731,
           -4.411571334648254,
           -4.309007232084152,
           -4.194608809993421,
           -4.068376068376065,
           -3.9303090072320797,
           -3.780407626561469,
           -3.61867192636423,
           -3.445101906640364,
           -3.2596975673898703,
           -3.0624589086127507,
           -2.853385930309003,
           -2.632478632478628,
           -2.3997370151216257,
           -2.155161078237997,
           -1.8987508218277407,
           -1.6305062458908572,
           -1.3504273504273463,
           -1.0585141354372083,
           -0.7547666009204436,
           -0.43918474687705034,
           -0.1117685733070308,
           0.22748191978961535,
           0.5785667324128895,
           0.9414858645627904,
           1.3162393162393196,
           1.7028270874424758,
           2.101249178172257,
           2.5115055884286686,
           2.9335963182117037,
           3.3675213675213693,
           3.8132807363576626,
           4.27087442472058,
           4.740302432610127,
           5.221564760026299,
           5.7146614069691,
           6.219592373438529,
           6.7363576594345815
          ],
          [
           -5.303090072320841,
           -5.228139381985534,
           -5.141354372123602,
           -5.04273504273504,
           -4.932281393819853,
           -4.809993425378038,
           -4.675871137409596,
           -4.529914529914527,
           -4.37212360289283,
           -4.202498356344507,
           -4.021038790269556,
           -3.8277449046679775,
           -3.622616699539773,
           -3.4056541748849405,
           -3.1768573307034806,
           -2.9362261669953935,
           -2.68376068376068,
           -2.4194608809993388,
           -2.1433267587113707,
           -1.855358316896775,
           -1.555555555555552,
           -1.2439184746877026,
           -0.9204470742932247,
           -0.5851413543721202,
           -0.2380013149243885,
           0.12097304404996974,
           0.49178172255095515,
           0.8744247205785698,
           1.2689020381328104,
           1.6752136752136768,
           2.093359631821173,
           2.5233399079552927,
           2.965154503616043,
           3.4188034188034213,
           3.884286653517423,
           4.361604207758056,
           4.8507560815253115,
           5.351742274819198,
           5.864562787639711,
           6.38921761998685
          ],
          [
           -5.999999999999999,
           -5.917159763313609,
           -5.82248520710059,
           -5.715976331360944,
           -5.597633136094672,
           -5.467455621301773,
           -5.3254437869822455,
           -5.171597633136092,
           -5.00591715976331,
           -4.8284023668639025,
           -4.639053254437867,
           -4.437869822485204,
           -4.224852071005914,
           -3.999999999999997,
           -3.763313609467452,
           -3.51479289940828,
           -3.254437869822482,
           -2.9822485207100558,
           -2.6982248520710033,
           -2.402366863905322,
           -2.0946745562130147,
           -1.7751479289940804,
           -1.4437869822485174,
           -1.1005917159763283,
           -0.7455621301775124,
           -0.3786982248520688,
           1.7974385629629065e-15,
           0.3905325443787002,
           0.7928994082840268,
           1.2071005917159778,
           1.633136094674558,
           2.071005917159763,
           2.520710059171599,
           2.9822485207100615,
           3.455621301775148,
           3.940828402366865,
           4.437869822485206,
           4.946745562130176,
           5.4674556213017755,
           5.999999999999998
          ]
         ]
        }
       ],
       "layout": {
        "legend": {
         "tracegroupgap": 0
        },
        "margin": {
         "t": 60
        },
        "scene": {
         "domain": {
          "x": [
           0,
           1
          ],
          "y": [
           0,
           1
          ]
         },
         "xaxis": {
          "title": {
           "text": "x"
          }
         },
         "yaxis": {
          "title": {
           "text": "y"
          }
         },
         "zaxis": {
          "title": {
           "text": "z"
          }
         }
        },
        "template": {
         "data": {
          "bar": [
           {
            "error_x": {
             "color": "#2a3f5f"
            },
            "error_y": {
             "color": "#2a3f5f"
            },
            "marker": {
             "line": {
              "color": "#E5ECF6",
              "width": 0.5
             },
             "pattern": {
              "fillmode": "overlay",
              "size": 10,
              "solidity": 0.2
             }
            },
            "type": "bar"
           }
          ],
          "barpolar": [
           {
            "marker": {
             "line": {
              "color": "#E5ECF6",
              "width": 0.5
             },
             "pattern": {
              "fillmode": "overlay",
              "size": 10,
              "solidity": 0.2
             }
            },
            "type": "barpolar"
           }
          ],
          "carpet": [
           {
            "aaxis": {
             "endlinecolor": "#2a3f5f",
             "gridcolor": "white",
             "linecolor": "white",
             "minorgridcolor": "white",
             "startlinecolor": "#2a3f5f"
            },
            "baxis": {
             "endlinecolor": "#2a3f5f",
             "gridcolor": "white",
             "linecolor": "white",
             "minorgridcolor": "white",
             "startlinecolor": "#2a3f5f"
            },
            "type": "carpet"
           }
          ],
          "choropleth": [
           {
            "colorbar": {
             "outlinewidth": 0,
             "ticks": ""
            },
            "type": "choropleth"
           }
          ],
          "contour": [
           {
            "colorbar": {
             "outlinewidth": 0,
             "ticks": ""
            },
            "colorscale": [
             [
              0,
              "#0d0887"
             ],
             [
              0.1111111111111111,
              "#46039f"
             ],
             [
              0.2222222222222222,
              "#7201a8"
             ],
             [
              0.3333333333333333,
              "#9c179e"
             ],
             [
              0.4444444444444444,
              "#bd3786"
             ],
             [
              0.5555555555555556,
              "#d8576b"
             ],
             [
              0.6666666666666666,
              "#ed7953"
             ],
             [
              0.7777777777777778,
              "#fb9f3a"
             ],
             [
              0.8888888888888888,
              "#fdca26"
             ],
             [
              1,
              "#f0f921"
             ]
            ],
            "type": "contour"
           }
          ],
          "contourcarpet": [
           {
            "colorbar": {
             "outlinewidth": 0,
             "ticks": ""
            },
            "type": "contourcarpet"
           }
          ],
          "heatmap": [
           {
            "colorbar": {
             "outlinewidth": 0,
             "ticks": ""
            },
            "colorscale": [
             [
              0,
              "#0d0887"
             ],
             [
              0.1111111111111111,
              "#46039f"
             ],
             [
              0.2222222222222222,
              "#7201a8"
             ],
             [
              0.3333333333333333,
              "#9c179e"
             ],
             [
              0.4444444444444444,
              "#bd3786"
             ],
             [
              0.5555555555555556,
              "#d8576b"
             ],
             [
              0.6666666666666666,
              "#ed7953"
             ],
             [
              0.7777777777777778,
              "#fb9f3a"
             ],
             [
              0.8888888888888888,
              "#fdca26"
             ],
             [
              1,
              "#f0f921"
             ]
            ],
            "type": "heatmap"
           }
          ],
          "heatmapgl": [
           {
            "colorbar": {
             "outlinewidth": 0,
             "ticks": ""
            },
            "colorscale": [
             [
              0,
              "#0d0887"
             ],
             [
              0.1111111111111111,
              "#46039f"
             ],
             [
              0.2222222222222222,
              "#7201a8"
             ],
             [
              0.3333333333333333,
              "#9c179e"
             ],
             [
              0.4444444444444444,
              "#bd3786"
             ],
             [
              0.5555555555555556,
              "#d8576b"
             ],
             [
              0.6666666666666666,
              "#ed7953"
             ],
             [
              0.7777777777777778,
              "#fb9f3a"
             ],
             [
              0.8888888888888888,
              "#fdca26"
             ],
             [
              1,
              "#f0f921"
             ]
            ],
            "type": "heatmapgl"
           }
          ],
          "histogram": [
           {
            "marker": {
             "pattern": {
              "fillmode": "overlay",
              "size": 10,
              "solidity": 0.2
             }
            },
            "type": "histogram"
           }
          ],
          "histogram2d": [
           {
            "colorbar": {
             "outlinewidth": 0,
             "ticks": ""
            },
            "colorscale": [
             [
              0,
              "#0d0887"
             ],
             [
              0.1111111111111111,
              "#46039f"
             ],
             [
              0.2222222222222222,
              "#7201a8"
             ],
             [
              0.3333333333333333,
              "#9c179e"
             ],
             [
              0.4444444444444444,
              "#bd3786"
             ],
             [
              0.5555555555555556,
              "#d8576b"
             ],
             [
              0.6666666666666666,
              "#ed7953"
             ],
             [
              0.7777777777777778,
              "#fb9f3a"
             ],
             [
              0.8888888888888888,
              "#fdca26"
             ],
             [
              1,
              "#f0f921"
             ]
            ],
            "type": "histogram2d"
           }
          ],
          "histogram2dcontour": [
           {
            "colorbar": {
             "outlinewidth": 0,
             "ticks": ""
            },
            "colorscale": [
             [
              0,
              "#0d0887"
             ],
             [
              0.1111111111111111,
              "#46039f"
             ],
             [
              0.2222222222222222,
              "#7201a8"
             ],
             [
              0.3333333333333333,
              "#9c179e"
             ],
             [
              0.4444444444444444,
              "#bd3786"
             ],
             [
              0.5555555555555556,
              "#d8576b"
             ],
             [
              0.6666666666666666,
              "#ed7953"
             ],
             [
              0.7777777777777778,
              "#fb9f3a"
             ],
             [
              0.8888888888888888,
              "#fdca26"
             ],
             [
              1,
              "#f0f921"
             ]
            ],
            "type": "histogram2dcontour"
           }
          ],
          "mesh3d": [
           {
            "colorbar": {
             "outlinewidth": 0,
             "ticks": ""
            },
            "type": "mesh3d"
           }
          ],
          "parcoords": [
           {
            "line": {
             "colorbar": {
              "outlinewidth": 0,
              "ticks": ""
             }
            },
            "type": "parcoords"
           }
          ],
          "pie": [
           {
            "automargin": true,
            "type": "pie"
           }
          ],
          "scatter": [
           {
            "fillpattern": {
             "fillmode": "overlay",
             "size": 10,
             "solidity": 0.2
            },
            "type": "scatter"
           }
          ],
          "scatter3d": [
           {
            "line": {
             "colorbar": {
              "outlinewidth": 0,
              "ticks": ""
             }
            },
            "marker": {
             "colorbar": {
              "outlinewidth": 0,
              "ticks": ""
             }
            },
            "type": "scatter3d"
           }
          ],
          "scattercarpet": [
           {
            "marker": {
             "colorbar": {
              "outlinewidth": 0,
              "ticks": ""
             }
            },
            "type": "scattercarpet"
           }
          ],
          "scattergeo": [
           {
            "marker": {
             "colorbar": {
              "outlinewidth": 0,
              "ticks": ""
             }
            },
            "type": "scattergeo"
           }
          ],
          "scattergl": [
           {
            "marker": {
             "colorbar": {
              "outlinewidth": 0,
              "ticks": ""
             }
            },
            "type": "scattergl"
           }
          ],
          "scattermapbox": [
           {
            "marker": {
             "colorbar": {
              "outlinewidth": 0,
              "ticks": ""
             }
            },
            "type": "scattermapbox"
           }
          ],
          "scatterpolar": [
           {
            "marker": {
             "colorbar": {
              "outlinewidth": 0,
              "ticks": ""
             }
            },
            "type": "scatterpolar"
           }
          ],
          "scatterpolargl": [
           {
            "marker": {
             "colorbar": {
              "outlinewidth": 0,
              "ticks": ""
             }
            },
            "type": "scatterpolargl"
           }
          ],
          "scatterternary": [
           {
            "marker": {
             "colorbar": {
              "outlinewidth": 0,
              "ticks": ""
             }
            },
            "type": "scatterternary"
           }
          ],
          "surface": [
           {
            "colorbar": {
             "outlinewidth": 0,
             "ticks": ""
            },
            "colorscale": [
             [
              0,
              "#0d0887"
             ],
             [
              0.1111111111111111,
              "#46039f"
             ],
             [
              0.2222222222222222,
              "#7201a8"
             ],
             [
              0.3333333333333333,
              "#9c179e"
             ],
             [
              0.4444444444444444,
              "#bd3786"
             ],
             [
              0.5555555555555556,
              "#d8576b"
             ],
             [
              0.6666666666666666,
              "#ed7953"
             ],
             [
              0.7777777777777778,
              "#fb9f3a"
             ],
             [
              0.8888888888888888,
              "#fdca26"
             ],
             [
              1,
              "#f0f921"
             ]
            ],
            "type": "surface"
           }
          ],
          "table": [
           {
            "cells": {
             "fill": {
              "color": "#EBF0F8"
             },
             "line": {
              "color": "white"
             }
            },
            "header": {
             "fill": {
              "color": "#C8D4E3"
             },
             "line": {
              "color": "white"
             }
            },
            "type": "table"
           }
          ]
         },
         "layout": {
          "annotationdefaults": {
           "arrowcolor": "#2a3f5f",
           "arrowhead": 0,
           "arrowwidth": 1
          },
          "autotypenumbers": "strict",
          "coloraxis": {
           "colorbar": {
            "outlinewidth": 0,
            "ticks": ""
           }
          },
          "colorscale": {
           "diverging": [
            [
             0,
             "#8e0152"
            ],
            [
             0.1,
             "#c51b7d"
            ],
            [
             0.2,
             "#de77ae"
            ],
            [
             0.3,
             "#f1b6da"
            ],
            [
             0.4,
             "#fde0ef"
            ],
            [
             0.5,
             "#f7f7f7"
            ],
            [
             0.6,
             "#e6f5d0"
            ],
            [
             0.7,
             "#b8e186"
            ],
            [
             0.8,
             "#7fbc41"
            ],
            [
             0.9,
             "#4d9221"
            ],
            [
             1,
             "#276419"
            ]
           ],
           "sequential": [
            [
             0,
             "#0d0887"
            ],
            [
             0.1111111111111111,
             "#46039f"
            ],
            [
             0.2222222222222222,
             "#7201a8"
            ],
            [
             0.3333333333333333,
             "#9c179e"
            ],
            [
             0.4444444444444444,
             "#bd3786"
            ],
            [
             0.5555555555555556,
             "#d8576b"
            ],
            [
             0.6666666666666666,
             "#ed7953"
            ],
            [
             0.7777777777777778,
             "#fb9f3a"
            ],
            [
             0.8888888888888888,
             "#fdca26"
            ],
            [
             1,
             "#f0f921"
            ]
           ],
           "sequentialminus": [
            [
             0,
             "#0d0887"
            ],
            [
             0.1111111111111111,
             "#46039f"
            ],
            [
             0.2222222222222222,
             "#7201a8"
            ],
            [
             0.3333333333333333,
             "#9c179e"
            ],
            [
             0.4444444444444444,
             "#bd3786"
            ],
            [
             0.5555555555555556,
             "#d8576b"
            ],
            [
             0.6666666666666666,
             "#ed7953"
            ],
            [
             0.7777777777777778,
             "#fb9f3a"
            ],
            [
             0.8888888888888888,
             "#fdca26"
            ],
            [
             1,
             "#f0f921"
            ]
           ]
          },
          "colorway": [
           "#636efa",
           "#EF553B",
           "#00cc96",
           "#ab63fa",
           "#FFA15A",
           "#19d3f3",
           "#FF6692",
           "#B6E880",
           "#FF97FF",
           "#FECB52"
          ],
          "font": {
           "color": "#2a3f5f"
          },
          "geo": {
           "bgcolor": "white",
           "lakecolor": "white",
           "landcolor": "#E5ECF6",
           "showlakes": true,
           "showland": true,
           "subunitcolor": "white"
          },
          "hoverlabel": {
           "align": "left"
          },
          "hovermode": "closest",
          "mapbox": {
           "style": "light"
          },
          "paper_bgcolor": "white",
          "plot_bgcolor": "#E5ECF6",
          "polar": {
           "angularaxis": {
            "gridcolor": "white",
            "linecolor": "white",
            "ticks": ""
           },
           "bgcolor": "#E5ECF6",
           "radialaxis": {
            "gridcolor": "white",
            "linecolor": "white",
            "ticks": ""
           }
          },
          "scene": {
           "xaxis": {
            "backgroundcolor": "#E5ECF6",
            "gridcolor": "white",
            "gridwidth": 2,
            "linecolor": "white",
            "showbackground": true,
            "ticks": "",
            "zerolinecolor": "white"
           },
           "yaxis": {
            "backgroundcolor": "#E5ECF6",
            "gridcolor": "white",
            "gridwidth": 2,
            "linecolor": "white",
            "showbackground": true,
            "ticks": "",
            "zerolinecolor": "white"
           },
           "zaxis": {
            "backgroundcolor": "#E5ECF6",
            "gridcolor": "white",
            "gridwidth": 2,
            "linecolor": "white",
            "showbackground": true,
            "ticks": "",
            "zerolinecolor": "white"
           }
          },
          "shapedefaults": {
           "line": {
            "color": "#2a3f5f"
           }
          },
          "ternary": {
           "aaxis": {
            "gridcolor": "white",
            "linecolor": "white",
            "ticks": ""
           },
           "baxis": {
            "gridcolor": "white",
            "linecolor": "white",
            "ticks": ""
           },
           "bgcolor": "#E5ECF6",
           "caxis": {
            "gridcolor": "white",
            "linecolor": "white",
            "ticks": ""
           }
          },
          "title": {
           "x": 0.05
          },
          "xaxis": {
           "automargin": true,
           "gridcolor": "white",
           "linecolor": "white",
           "ticks": "",
           "title": {
            "standoff": 15
           },
           "zerolinecolor": "white",
           "zerolinewidth": 2
          },
          "yaxis": {
           "automargin": true,
           "gridcolor": "white",
           "linecolor": "white",
           "ticks": "",
           "title": {
            "standoff": 15
           },
           "zerolinecolor": "white",
           "zerolinewidth": 2
          }
         }
        }
       }
      }
     },
     "metadata": {},
     "output_type": "display_data"
    }
   ],
   "source": [
    "x, y, z, p = read_xypzdata(\"data/tmp43\")\n",
    "\n",
    "func = LeastSquare2D(x, y, z, p, 3)\n",
    "\n",
    "x_pred = np.linspace(min(x), max(x), 40)\n",
    "y_pred = np.linspace(min(y), max(y), 40)\n",
    "z_graph = [[func(xi, yi) for xi in x_pred] for yi in y_pred]\n",
    "\n",
    "fcoeffs = LeastSquaresCoeffs2D(x, y, z, p, 1)\n",
    "\n",
    "\n",
    "fig = px.scatter_3d(x=x, y=y, z=z)\n",
    "fig.add_trace(go.Surface(x=x_pred, y=y_pred, z=z_graph))\n",
    "fig.show()"
   ]
  },
  {
   "cell_type": "code",
   "execution_count": 8,
   "metadata": {},
   "outputs": [
    {
     "data": {
      "application/vnd.plotly.v1+json": {
       "config": {
        "plotlyServerURL": "https://plot.ly"
       },
       "data": [
        {
         "hovertemplate": "x=%{x}<br>y=%{y}<br>z=%{z}<extra></extra>",
         "legendgroup": "",
         "marker": {
          "color": "#636efa",
          "symbol": "circle"
         },
         "mode": "markers",
         "name": "",
         "scene": "scene",
         "showlegend": false,
         "type": "scatter3d",
         "x": [
          -1,
          0,
          1,
          2,
          -1,
          0,
          1,
          2,
          -1,
          0,
          1,
          2,
          -1,
          0,
          1,
          2,
          -1,
          0,
          1,
          2
         ],
         "y": [
          -2,
          -2,
          -2,
          -2,
          -1,
          -1,
          -1,
          -1,
          0,
          0,
          0,
          0,
          1,
          1,
          1,
          1,
          2,
          2,
          2,
          2
         ],
         "z": [
          8.13,
          7.5,
          5.78,
          1.11,
          2.13,
          1.5,
          -0.22,
          -4.89,
          0.13,
          -0.5,
          -2.22,
          -6.89,
          2.13,
          1.5,
          -0.22,
          -4.89,
          8.13,
          7.5,
          5.78,
          1.11
         ]
        },
        {
         "type": "surface",
         "x": [
          -1,
          -0.9230769230769231,
          -0.8461538461538461,
          -0.7692307692307692,
          -0.6923076923076923,
          -0.6153846153846154,
          -0.5384615384615384,
          -0.46153846153846145,
          -0.3846153846153846,
          -0.3076923076923077,
          -0.23076923076923073,
          -0.15384615384615374,
          -0.07692307692307687,
          0,
          0.0769230769230771,
          0.15384615384615397,
          0.23076923076923084,
          0.3076923076923077,
          0.3846153846153846,
          0.4615384615384617,
          0.5384615384615385,
          0.6153846153846154,
          0.6923076923076925,
          0.7692307692307694,
          0.8461538461538463,
          0.9230769230769231,
          1,
          1.076923076923077,
          1.1538461538461542,
          1.2307692307692308,
          1.307692307692308,
          1.3846153846153846,
          1.4615384615384617,
          1.5384615384615388,
          1.6153846153846154,
          1.6923076923076925,
          1.7692307692307692,
          1.8461538461538463,
          1.9230769230769234,
          2
         ],
         "y": [
          -2,
          -1.8974358974358974,
          -1.794871794871795,
          -1.6923076923076923,
          -1.5897435897435899,
          -1.4871794871794872,
          -1.3846153846153846,
          -1.282051282051282,
          -1.1794871794871795,
          -1.076923076923077,
          -0.9743589743589745,
          -0.8717948717948718,
          -0.7692307692307692,
          -0.6666666666666667,
          -0.5641025641025641,
          -0.4615384615384617,
          -0.35897435897435903,
          -0.2564102564102564,
          -0.15384615384615397,
          -0.05128205128205132,
          0.0512820512820511,
          0.15384615384615374,
          0.2564102564102564,
          0.35897435897435903,
          0.4615384615384617,
          0.5641025641025639,
          0.6666666666666665,
          0.7692307692307692,
          0.8717948717948718,
          0.9743589743589745,
          1.0769230769230766,
          1.1794871794871793,
          1.282051282051282,
          1.3846153846153846,
          1.4871794871794872,
          1.5897435897435894,
          1.692307692307692,
          1.7948717948717947,
          1.8974358974358974,
          2
         ],
         "z": [
          [
           8.130000000000003,
           8.07790623577606,
           8.029522075557578,
           7.98400091033227,
           7.940496131087845,
           7.898161128812013,
           7.856149294492485,
           7.813614019116973,
           7.769708693673187,
           7.723586709148836,
           7.67440145653163,
           7.6213063268092816,
           7.5634547109695,
           7.499999999999997,
           7.430095584888482,
           7.352894856622665,
           7.267551206190259,
           7.173218024578971,
           7.069048702776514,
           6.954196631770598,
           6.827815202548934,
           6.689057806099231,
           6.5370778334091995,
           6.371028675466552,
           6.190063723258996,
           5.993336367774245,
           5.780000000000008,
           5.549208010923994,
           5.300113791533917,
           5.031870732817487,
           4.743632225762411,
           4.434551661356404,
           4.103782430587172,
           3.7504779244424276,
           3.3737915339098854,
           2.9728766499772474,
           2.546886663632232,
           2.0949749658625434,
           1.6162949476558959,
           1.1100000000000003
          ],
          [
           7.33052596975674,
           7.278432205532798,
           7.230048045314317,
           7.184526880089008,
           7.141022100844582,
           7.098687098568751,
           7.0566752642492245,
           7.014139988873712,
           6.970234663429926,
           6.9241126789055745,
           6.874927426288369,
           6.82183229656602,
           6.763980680726239,
           6.700525969756736,
           6.630621554645221,
           6.553420826379404,
           6.4680771759469975,
           6.37374399433571,
           6.269574672533253,
           6.154722601527337,
           6.028341172305672,
           5.88958377585597,
           5.737603803165938,
           5.571554645223291,
           5.390589693015735,
           5.193862337530984,
           4.980525969756748,
           4.749733980680734,
           4.500639761290656,
           4.232396702574225,
           3.944158195519151,
           3.635077631113143,
           3.3043084003439116,
           2.951003894199167,
           2.5743175036666237,
           2.173402619733986,
           1.7474126333889708,
           1.295500935619282,
           0.8168209174126346,
           0.3105259697567391
          ],
          [
           6.573129520052598,
           6.521035755828656,
           6.4726515956101744,
           6.4271304303848655,
           6.38362565114044,
           6.341290648864609,
           6.299278814545082,
           6.25674353916957,
           6.212838213725783,
           6.166716229201432,
           6.117530976584226,
           6.064435846861878,
           6.006584231022097,
           5.943129520052594,
           5.873225104941079,
           5.796024376675262,
           5.710680726242855,
           5.616347544631568,
           5.51217822282911,
           5.3973261518231945,
           5.27094472260153,
           5.132187326151827,
           4.980207353461796,
           4.814158195519148,
           4.6331932433115925,
           4.4364658878268415,
           4.223129520052606,
           3.9923375309765925,
           3.743243311586513,
           3.4750002528700823,
           3.1867617458150086,
           2.8776811814090006,
           2.5469119506397684,
           2.193607444495025,
           1.8169210539624814,
           1.416006170029844,
           0.9900161836848294,
           0.5381044859151396,
           0.0594244677084923,
           -0.4468704799474028
          ],
          [
           5.857810650887576,
           5.805716886663633,
           5.757332726445151,
           5.711811561219842,
           5.668306781975417,
           5.6259717796995865,
           5.583959945380059,
           5.541424670004546,
           5.49751934456076,
           5.451397360036409,
           5.402212107419203,
           5.349116977696855,
           5.291265361857073,
           5.22781065088757,
           5.157906235776055,
           5.080705507510238,
           4.995361857077832,
           4.901028675466544,
           4.796859353664087,
           4.682007282658171,
           4.555625853436506,
           4.416868456986803,
           4.2648884842967725,
           4.098839326354125,
           3.9178743741465696,
           3.721147018661817,
           3.5078106508875813,
           3.277018661811568,
           3.0279244424214906,
           2.7596813837050607,
           2.4714428766499843,
           2.1623623122439772,
           1.8315930814747448,
           1.4782885753300004,
           1.101602184797458,
           0.7006873008648207,
           0.27469731451980484,
           -0.17721438324988337,
           -0.6558944014565311,
           -1.1621893491124262
          ],
          [
           5.184569362261671,
           5.132475598037728,
           5.0840914378192466,
           5.038570272593938,
           4.995065493349513,
           4.952730491073682,
           4.910718656754154,
           4.868183381378642,
           4.8242780559348555,
           4.778156071410504,
           4.728970818793298,
           4.67587568907095,
           4.618024073231169,
           4.554569362261666,
           4.484664947150151,
           4.407464218884334,
           4.322120568451927,
           4.22778738684064,
           4.123618065038182,
           4.008765994032267,
           3.8823845648106015,
           3.743627168360898,
           3.591647195670867,
           3.425598037728219,
           3.244633085520664,
           3.0479057300359123,
           2.8345693622616763,
           2.6037773731856637,
           2.354683153795586,
           2.0864400950791553,
           1.7982015880240798,
           1.4891210236180725,
           1.1583517928488403,
           0.8050472867040961,
           0.42836089617155304,
           0.027446012238915962,
           -0.39854397410609965,
           -0.8504556718757879,
           -1.3291356900824356,
           -1.8354306377383307
          ],
          [
           4.553405654174886,
           4.5013118899509434,
           4.452927729732462,
           4.407406564507154,
           4.363901785262729,
           4.321566782986897,
           4.27955494866737,
           4.237019673291858,
           4.193114347848071,
           4.14699236332372,
           4.097807110706515,
           4.044711980984166,
           3.986860365144385,
           3.9234056541748816,
           3.853501239063366,
           3.77630051079755,
           3.690956860365143,
           3.596623678753856,
           3.492454356951399,
           3.377602285945483,
           3.2512208567238177,
           3.112463460274115,
           2.9604834875840833,
           2.794434329641435,
           2.6134693774338804,
           2.4167420219491285,
           2.2034056541748916,
           1.9726136650988793,
           1.7235194457088021,
           1.4552763869923715,
           1.167037879937296,
           0.8579573155312883,
           0.5271880847620567,
           0.17388357861731252,
           -0.20280281191523164,
           -0.6037176958478687,
           -1.029707682192884,
           -1.481619379962572,
           -1.96029939816922,
           -2.4665943458251145
          ],
          [
           3.964319526627219,
           3.912225762403275,
           3.863841602184794,
           3.8183204369594863,
           3.774815657715061,
           3.73248065543923,
           3.6904688211197025,
           3.6479335457441904,
           3.604028220300403,
           3.557906235776052,
           3.508720983158847,
           3.4556258534364988,
           3.3977742375967175,
           3.334319526627214,
           3.2644151115156985,
           3.1872143832498825,
           3.1018707328174755,
           3.0075375512061884,
           2.9033682294037315,
           2.7885161583978153,
           2.66213472917615,
           2.5233773327264473,
           2.3713973600364158,
           2.2053482020937674,
           2.024383249886213,
           1.8276558944014611,
           1.6143195266272243,
           1.3835275375512115,
           1.1344333181611346,
           0.8661902594447041,
           0.5779517523896285,
           0.2688711879836214,
           -0.061898042785610397,
           -0.4152025489303546,
           -0.7918889394628986,
           -1.192803823395536,
           -1.6187938097405512,
           -2.0707055075102394,
           -2.5493855257168874,
           -3.055680473372782
          ],
          [
           3.4173109796186725,
           3.3652172153947286,
           3.316833055176248,
           3.2713118899509395,
           3.227807110706514,
           3.185472108430683,
           3.1434602741111557,
           3.1009249987356435,
           3.0570196732918564,
           3.010897688767505,
           2.9617124361503,
           2.908617306427952,
           2.8507656905881706,
           2.7873109796186673,
           2.7174065645071517,
           2.6402058362413356,
           2.5548621858089287,
           2.4605290041976415,
           2.3563596823951842,
           2.2415076113892685,
           2.1151261821676033,
           1.9763687857179006,
           1.824388813027869,
           1.6583396550852203,
           1.4773747028776656,
           1.2806473473929143,
           1.0673109796186773,
           0.8365189905426649,
           0.5874247711525873,
           0.3191817124361568,
           0.030943205381081196,
           -0.278137359024926,
           -0.6089065897941576,
           -0.9622110959389019,
           -1.3388974864714454,
           -1.7398123704040827,
           -2.165802356749098,
           -2.6177140545187862,
           -3.096394072725434,
           -3.602689020381329
          ],
          [
           2.9123800131492446,
           2.860286248925301,
           2.81190208870682,
           2.7663809234815115,
           2.722876144237086,
           2.680541141961255,
           2.6385293076417278,
           2.5959940322662156,
           2.5520887068224285,
           2.5059667222980773,
           2.4567814696808723,
           2.403686339958524,
           2.3458347241187427,
           2.2823800131492393,
           2.2124755980377238,
           2.1352748697719077,
           2.0499312193395007,
           1.9555980377282134,
           1.8514287159257568,
           1.73657664491984,
           1.6101952156981756,
           1.4714378192484723,
           1.3194578465584408,
           1.1534086886157924,
           0.9724437364082377,
           0.7757163809234865,
           0.5623800131492496,
           0.3315880240732366,
           0.08249380468315931,
           -0.18574925403327108,
           -0.4739877610883467,
           -0.7830683254943538,
           -1.1138375562635856,
           -1.4671420624083296,
           -1.8438284529408735,
           -2.2447433368735106,
           -2.670733323218526,
           -3.122645020988214,
           -3.601325039194862,
           -4.107619986850757
          ],
          [
           2.449526627218936,
           2.397432862994993,
           2.3490487027765115,
           2.3035275375512034,
           2.260022758306778,
           2.217687756030947,
           2.175675921711419,
           2.1331406463359075,
           2.0892353208921204,
           2.0431133363677687,
           1.993928083750564,
           1.9408329540282152,
           1.8829813381884344,
           1.819526627218931,
           1.7496222121074156,
           1.6724214838415996,
           1.5870778334091924,
           1.4927446517979055,
           1.3885753299954484,
           1.273723258989532,
           1.147341829767867,
           1.0085844333181637,
           0.8566044606281322,
           0.6905553026854845,
           0.5095903504779294,
           0.31286299499317816,
           0.09952662721894123,
           -0.13126536185707155,
           -0.3803595812471491,
           -0.6486026399635794,
           -0.9368411470186551,
           -1.245921711424662,
           -1.5766909421938937,
           -1.9299954483386381,
           -2.3066818388711816,
           -2.707596722803819,
           -3.133586709148834,
           -3.5854984069185223,
           -4.064178425125171,
           -4.5704733727810645
          ],
          [
           2.028750821827746,
           1.9766570576038023,
           1.928272897385321,
           1.8827517321600127,
           1.839246952915588,
           1.7969119506397562,
           1.7549001163202291,
           1.7123648409447167,
           1.6684595155009296,
           1.6223375309765782,
           1.5731522783593734,
           1.5200571486370247,
           1.4622055327972439,
           1.3987508218277405,
           1.3288464067162251,
           1.251645678450409,
           1.1663020280180019,
           1.071968846406715,
           0.967799524604258,
           0.8529474535983413,
           0.7265660243766763,
           0.5878086279269732,
           0.4358286552369417,
           0.2697794972942936,
           0.08881454508673861,
           -0.10791281039801257,
           -0.3212491781722493,
           -0.5520411672482619,
           -0.8011353866383396,
           -1.06937844535477,
           -1.3576169524098454,
           -1.6666975168158524,
           -1.9974667475850845,
           -2.3507712537298286,
           -2.727457644262372,
           -3.128372528195009,
           -3.554362514540025,
           -4.006274212309713,
           -4.484954230516362,
           -4.991249178172255
          ],
          [
           1.6500525969756745,
           1.5979588327517311,
           1.5495746725332498,
           1.5040535073079417,
           1.4605487280635168,
           1.418213725787685,
           1.376201891468158,
           1.3336666160926456,
           1.2897612906488585,
           1.243639306124507,
           1.1944540535073023,
           1.1413589237849535,
           1.0835073079451727,
           1.0200525969756693,
           0.9501481818641541,
           0.8729474535983379,
           0.7876038031659308,
           0.6932706215546437,
           0.5891012997521867,
           0.4742492287462702,
           0.3478677995246052,
           0.20911040307490197,
           0.057130430384870534,
           -0.10891872755777762,
           -0.28988367976533247,
           -0.48661103525008365,
           -0.6999474030243205,
           -0.9307393921003332,
           -1.1798336114904109,
           -1.448076670206841,
           -1.7363151772619165,
           -2.0453957416679236,
           -2.376164972437156,
           -2.7294694785819,
           -3.1061558691144433,
           -3.5070707530470804,
           -3.9330607393920958,
           -4.384972437161784,
           -4.863652455368433,
           -5.369947403024327
          ],
          [
           1.3134319526627223,
           1.2613381884387787,
           1.2129540282202975,
           1.167432862994989,
           1.1239280837505643,
           1.0815930814747323,
           1.0395812471552055,
           0.9970459717796929,
           0.9531406463359059,
           0.9070186618115545,
           0.8578334091943494,
           0.8047382794720012,
           0.74688666363222,
           0.6834319526627167,
           0.6135275375512015,
           0.5363268092853851,
           0.4509831588529782,
           0.35664997724169106,
           0.25248065543923404,
           0.13762858443331757,
           0.011247155211652544,
           -0.1275102412380506,
           -0.27949021392808204,
           -0.4455393718707302,
           -0.626504324078285,
           -0.8232316795630362,
           -1.0365680473372731,
           -1.2673600364132858,
           -1.5164542558033633,
           -1.7846973145197937,
           -2.072935821574869,
           -2.3820163859808763,
           -2.712785616750108,
           -3.0660901228948525,
           -3.442776513427396,
           -3.8436913973600335,
           -4.2696813837050485,
           -4.721593081474737,
           -5.200273099681384,
           -5.70656804733728
          ],
          [
           1.0188888888888896,
           0.9667951246649464,
           0.9184109644464649,
           0.8728897992211564,
           0.8293850199767315,
           0.7870500177009,
           0.7450381833813728,
           0.7025029080058606,
           0.6585975825620733,
           0.6124755980377219,
           0.5632903454205167,
           0.5101952156981685,
           0.45234359985838746,
           0.3888888888888841,
           0.3189844737773689,
           0.24178374551155263,
           0.15644009507914564,
           0.0621069134678584,
           -0.04206240833459858,
           -0.15691447934051508,
           -0.28329590856218,
           -0.4220533050118832,
           -0.5740332777019147,
           -0.7400824356445628,
           -0.9210473878521178,
           -1.1177747433368688,
           -1.3311111111111058,
           -1.5619031001871182,
           -1.810997319577196,
           -2.079240378293626,
           -2.367478885348702,
           -2.6765594497547087,
           -3.0073286805239405,
           -3.360633186668685,
           -3.7373195772012284,
           -4.138234461133866,
           -4.564224447478881,
           -5.016136145248569,
           -5.4948161634552175,
           -6.001111111111111
          ],
          [
           0.7664234056541755,
           0.7143296414302319,
           0.6659454812117507,
           0.6204243159864422,
           0.5769195367420172,
           0.5345845344661857,
           0.4925727001466585,
           0.4500374247711461,
           0.40613209932735905,
           0.36001011480300765,
           0.3108248621858025,
           0.2577297324634541,
           0.19987811662367305,
           0.1364234056541698,
           0.06651899054265456,
           -0.010681737723161711,
           -0.09602538815556869,
           -0.1903585697668559,
           -0.2945278915693129,
           -0.40937996257522935,
           -0.5357613917968944,
           -0.6745187882465975,
           -0.8264987609366291,
           -0.9925479188792772,
           -1.1735128710868319,
           -1.370240226571583,
           -1.5835765943458202,
           -1.8143685834218328,
           -2.0634628028119106,
           -2.3317058615283406,
           -2.6199443685834165,
           -2.9290249329894236,
           -3.259794163758655,
           -3.6130986699033993,
           -3.989785060435943,
           -4.39069994436858,
           -4.816689930713595,
           -5.2686016284832835,
           -5.747281646689931,
           -6.253576594345827
          ],
          [
           0.5560355029585808,
           0.5039417387346374,
           0.4555575785161562,
           0.4100364132908477,
           0.36653163404642264,
           0.3241966317705911,
           0.2821847974510639,
           0.2396495220755515,
           0.19574419663176434,
           0.14962221210741303,
           0.1004369594902079,
           0.0473418297678595,
           -0.01050978607192156,
           -0.07396449704142485,
           -0.1438689121529401,
           -0.22106964041875637,
           -0.30641329085116337,
           -0.4007464724624506,
           -0.5049157942649076,
           -0.6197678652708241,
           -0.746149294492489,
           -0.8849066909421921,
           -1.0368866636322236,
           -1.2029358215748718,
           -1.3839007737824267,
           -1.5806281292671776,
           -1.7939644970414146,
           -2.024756486117427,
           -2.2738507055075052,
           -2.542093764223935,
           -2.8303322712790107,
           -3.139412835685018,
           -3.4701820664542495,
           -3.823486572598994,
           -4.200172963131537,
           -4.601087847064175,
           -5.02707783340919,
           -5.478989531178878,
           -5.9576695493855265,
           -6.46396449704142
          ],
          [
           0.3877251808021048,
           0.33563141657816115,
           0.2872472563596799,
           0.24172609113437143,
           0.19822131188994635,
           0.15588630961411482,
           0.11387447529458766,
           0.07133919991907525,
           0.027433874475288132,
           -0.01868811004906322,
           -0.06787336266626834,
           -0.12096849238861676,
           -0.1788201082283978,
           -0.24227481919790111,
           -0.31217923430941635,
           -0.3893799625752326,
           -0.4747236130076396,
           -0.5690567946189268,
           -0.6732261164213837,
           -0.7880781874273003,
           -0.9144596166489652,
           -1.0532170130986684,
           -1.2051969857887,
           -1.3712461437313481,
           -1.552211095938903,
           -1.748938451423654,
           -1.9622748191978907,
           -2.1930668082739038,
           -2.4421610276639814,
           -2.7104040863804113,
           -2.998642593435487,
           -3.307723157841494,
           -3.638492388610726,
           -3.9917968947554696,
           -4.368483285288013,
           -4.769398169220651,
           -5.1953881555656665,
           -5.647299853335355,
           -6.125979871542002,
           -6.632274819197897
          ],
          [
           0.2614924391847477,
           0.2093986749608042,
           0.1610145147423229,
           0.11549334951701445,
           0.07198857027258934,
           0.029653567996757856,
           -0.012358266322769339,
           -0.05489354169828174,
           -0.0987988671420689,
           -0.14492085166642024,
           -0.19410610428362537,
           -0.2472012340059738,
           -0.3050528498457548,
           -0.36850756081525815,
           -0.4384119759267734,
           -0.5156127041925896,
           -0.6009563546249967,
           -0.6952895362362839,
           -0.7994588580387408,
           -0.9143109290446575,
           -1.0406923582663223,
           -1.1794497547160254,
           -1.331429727406057,
           -1.497478885348705,
           -1.67844383755626,
           -1.875171193041011,
           -2.088507560815248,
           -2.3192995498912605,
           -2.5683937692813386,
           -2.8366368279977685,
           -3.124875335052844,
           -3.4339558994588515,
           -3.764725130228083,
           -4.118029636372827,
           -4.494716026905371,
           -4.895630910838008,
           -5.321620897183023,
           -5.773532594952711,
           -6.25221261315936,
           -6.758507560815254
          ],
          [
           0.17733727810650987,
           0.12524351388256638,
           0.07685935366408506,
           0.031338188438776574,
           -0.012166590805648511,
           -0.05450159308148002,
           -0.09651342740100718,
           -0.1390487027765196,
           -0.18295402822030676,
           -0.22907601274465814,
           -0.27826126536186324,
           -0.3313563950842117,
           -0.3892080109239927,
           -0.45266272189349605,
           -0.5225671370050113,
           -0.5997678652708276,
           -0.6851115157032346,
           -0.7794446973145218,
           -0.8836140191169788,
           -0.9984660901228953,
           -1.1248475193445604,
           -1.2636049157942633,
           -1.4155848884842948,
           -1.5816340464269432,
           -1.7625989986344979,
           -1.959326354119249,
           -2.172662721893486,
           -2.4034547109694984,
           -2.6525489303595764,
           -2.920791989076007,
           -3.2090304961310823,
           -3.5181110605370893,
           -3.8488802913063207,
           -4.202184797451065,
           -4.578871187983609,
           -4.979786071916246,
           -5.405776058261261,
           -5.85768775603095,
           -6.336367774237598,
           -6.8426627218934915
          ],
          [
           0.13525969756739098,
           0.08316593334344749,
           0.03478177312496614,
           -0.01073939210034236,
           -0.05424417134476742,
           -0.09657917362059894,
           -0.13859100794012613,
           -0.18112628331563854,
           -0.2250316087594257,
           -0.27115359328377703,
           -0.3203388459009822,
           -0.37343397562333064,
           -0.4312855914631117,
           -0.494740302432615,
           -0.5646447175441303,
           -0.6418454458099466,
           -0.7271890962423536,
           -0.8215222778536407,
           -0.9256915996560978,
           -1.0405436706620144,
           -1.1669250998836793,
           -1.3056824963333822,
           -1.4576624690234137,
           -1.623711626966062,
           -1.804676579173617,
           -2.001403934658368,
           -2.214740302432605,
           -2.4455322915086173,
           -2.6946265108986953,
           -2.9628695696151257,
           -3.251108076670201,
           -3.5601886410762082,
           -3.8909578718454396,
           -4.244262377990184,
           -4.6209487685227275,
           -5.021863652455365,
           -5.44785363880038,
           -5.899765336570069,
           -6.378445354776716,
           -6.884740302432611
          ],
          [
           0.13525969756739098,
           0.08316593334344749,
           0.03478177312496619,
           -0.010739392100342304,
           -0.05424417134476742,
           -0.09657917362059894,
           -0.13859100794012613,
           -0.18112628331563854,
           -0.2250316087594257,
           -0.27115359328377703,
           -0.3203388459009822,
           -0.37343397562333064,
           -0.4312855914631117,
           -0.494740302432615,
           -0.5646447175441303,
           -0.6418454458099466,
           -0.7271890962423536,
           -0.8215222778536407,
           -0.9256915996560978,
           -1.0405436706620144,
           -1.1669250998836793,
           -1.3056824963333822,
           -1.4576624690234137,
           -1.623711626966062,
           -1.804676579173617,
           -2.001403934658368,
           -2.214740302432605,
           -2.4455322915086173,
           -2.6946265108986953,
           -2.9628695696151257,
           -3.251108076670201,
           -3.5601886410762082,
           -3.8909578718454396,
           -4.244262377990184,
           -4.6209487685227275,
           -5.021863652455365,
           -5.44785363880038,
           -5.899765336570069,
           -6.378445354776716,
           -6.884740302432611
          ],
          [
           0.17733727810651015,
           0.12524351388256666,
           0.07685935366408533,
           0.03133818843877682,
           -0.012166590805648261,
           -0.054501593081479796,
           -0.09651342740100702,
           -0.13904870277651943,
           -0.1829540282203066,
           -0.22907601274465797,
           -0.27826126536186313,
           -0.3313563950842116,
           -0.3892080109239926,
           -0.45266272189349593,
           -0.5225671370050112,
           -0.5997678652708275,
           -0.6851115157032345,
           -0.7794446973145216,
           -0.8836140191169787,
           -0.9984660901228952,
           -1.12484751934456,
           -1.2636049157942633,
           -1.4155848884842948,
           -1.581634046426943,
           -1.7625989986344979,
           -1.959326354119249,
           -2.1726627218934857,
           -2.4034547109694984,
           -2.6525489303595764,
           -2.920791989076007,
           -3.2090304961310823,
           -3.5181110605370893,
           -3.8488802913063207,
           -4.202184797451065,
           -4.578871187983609,
           -4.979786071916246,
           -5.405776058261262,
           -5.857687756030949,
           -6.336367774237598,
           -6.8426627218934915
          ],
          [
           0.26149243918474824,
           0.20939867496080475,
           0.1610145147423234,
           0.11549334951701484,
           0.07198857027258979,
           0.02965356799675823,
           -0.012358266322768978,
           -0.054893541698281395,
           -0.09879886714206856,
           -0.14492085166641996,
           -0.1941061042836251,
           -0.24720123400597352,
           -0.3050528498457546,
           -0.36850756081525793,
           -0.43841197592677317,
           -0.5156127041925894,
           -0.6009563546249965,
           -0.6952895362362836,
           -0.7994588580387406,
           -0.9143109290446573,
           -1.0406923582663223,
           -1.1794497547160254,
           -1.331429727406057,
           -1.497478885348705,
           -1.6784438375562598,
           -1.8751711930410109,
           -2.088507560815248,
           -2.3192995498912605,
           -2.5683937692813386,
           -2.836636827997769,
           -3.1248753350528444,
           -3.4339558994588515,
           -3.764725130228083,
           -4.118029636372827,
           -4.494716026905371,
           -4.895630910838008,
           -5.321620897183024,
           -5.773532594952711,
           -6.25221261315936,
           -6.758507560815254
          ],
          [
           0.38772518080210555,
           0.335631416578162,
           0.2872472563596807,
           0.24172609113437216,
           0.19822131188994707,
           0.15588630961411554,
           0.11387447529458833,
           0.07133919991907589,
           0.027433874475288708,
           -0.01868811004906267,
           -0.06787336266626784,
           -0.12096849238861626,
           -0.17882010822839736,
           -0.24227481919790067,
           -0.3121792343094159,
           -0.38937996257523216,
           -0.47472361300763927,
           -0.5690567946189263,
           -0.6732261164213835,
           -0.7880781874273001,
           -0.914459616648965,
           -1.0532170130986682,
           -1.2051969857886997,
           -1.371246143731348,
           -1.5522110959389028,
           -1.748938451423654,
           -1.9622748191978907,
           -2.1930668082739038,
           -2.4421610276639814,
           -2.7104040863804113,
           -2.998642593435487,
           -3.307723157841494,
           -3.638492388610726,
           -3.9917968947554696,
           -4.368483285288013,
           -4.769398169220651,
           -5.195388155565666,
           -5.647299853335354,
           -6.125979871542002,
           -6.632274819197897
          ],
          [
           0.5560355029585818,
           0.5039417387346383,
           0.45555757851615686,
           0.4100364132908484,
           0.3665316340464233,
           0.32419663177059177,
           0.2821847974510645,
           0.23964952207555212,
           0.19574419663176496,
           0.14962221210741353,
           0.1004369594902084,
           0.047341829767859944,
           -0.010509786071921143,
           -0.07396449704142447,
           -0.14386891215293976,
           -0.22106964041875604,
           -0.30641329085116303,
           -0.4007464724624504,
           -0.5049157942649073,
           -0.6197678652708238,
           -0.7461492944924889,
           -0.884906690942192,
           -1.0368866636322234,
           -1.2029358215748718,
           -1.3839007737824265,
           -1.5806281292671778,
           -1.7939644970414146,
           -2.024756486117427,
           -2.273850705507505,
           -2.5420937642239347,
           -2.8303322712790107,
           -3.139412835685018,
           -3.4701820664542495,
           -3.823486572598993,
           -4.2001729631315365,
           -4.601087847064174,
           -5.02707783340919,
           -5.478989531178878,
           -5.957669549385526,
           -6.46396449704142
          ],
          [
           0.7664234056541762,
           0.7143296414302327,
           0.6659454812117513,
           0.6204243159864429,
           0.5769195367420177,
           0.5345845344661861,
           0.49257270014665894,
           0.45003742477114644,
           0.4061320993273593,
           0.3600101148030079,
           0.31082486218580274,
           0.25772973246345426,
           0.19987811662367316,
           0.13642340565416985,
           0.06651899054265459,
           -0.010681737723161722,
           -0.09602538815556874,
           -0.190358569766856,
           -0.294527891569313,
           -0.4093799625752296,
           -0.5357613917968944,
           -0.6745187882465977,
           -0.8264987609366291,
           -0.9925479188792772,
           -1.173512871086832,
           -1.3702402265715834,
           -1.58357659434582,
           -1.8143685834218326,
           -2.06346280281191,
           -2.3317058615283406,
           -2.6199443685834165,
           -2.9290249329894227,
           -3.259794163758655,
           -3.6130986699033993,
           -3.989785060435943,
           -4.39069994436858,
           -4.816689930713595,
           -5.2686016284832835,
           -5.747281646689931,
           -6.253576594345827
          ],
          [
           1.0188888888888905,
           0.9667951246649471,
           0.9184109644464655,
           0.8728897992211571,
           0.8293850199767322,
           0.7870500177009004,
           0.7450381833813731,
           0.7025029080058608,
           0.6585975825620736,
           0.6124755980377221,
           0.5632903454205169,
           0.5101952156981685,
           0.45234359985838746,
           0.3888888888888841,
           0.3189844737773689,
           0.24178374551155252,
           0.15644009507914552,
           0.06210691346785826,
           -0.04206240833459876,
           -0.15691447934051528,
           -0.2832959085621803,
           -0.42205330501188343,
           -0.5740332777019149,
           -0.740082435644563,
           -0.921047387852118,
           -1.1177747433368692,
           -1.3311111111111058,
           -1.5619031001871186,
           -1.8109973195771962,
           -2.079240378293626,
           -2.367478885348702,
           -2.676559449754709,
           -3.0073286805239405,
           -3.360633186668685,
           -3.7373195772012284,
           -4.138234461133866,
           -4.564224447478881,
           -5.016136145248569,
           -5.4948161634552175,
           -6.001111111111111
          ],
          [
           1.3134319526627238,
           1.2613381884387804,
           1.2129540282202989,
           1.1674328629949904,
           1.1239280837505652,
           1.0815930814747337,
           1.0395812471552064,
           0.9970459717796942,
           0.953140646335907,
           0.9070186618115554,
           0.8578334091943502,
           0.8047382794720018,
           0.7468866636322207,
           0.6834319526627174,
           0.6135275375512022,
           0.5363268092853858,
           0.45098315885297874,
           0.3566499772416915,
           0.2524806554392345,
           0.13762858443331796,
           0.011247155211652975,
           -0.1275102412380502,
           -0.2794902139280817,
           -0.4455393718707298,
           -0.6265043240782847,
           -0.823231679563036,
           -1.0365680473372727,
           -1.2673600364132853,
           -1.516454255803363,
           -1.7846973145197933,
           -2.0729358215748688,
           -2.382016385980876,
           -2.7127856167501077,
           -3.0660901228948516,
           -3.4427765134273955,
           -3.8436913973600326,
           -4.2696813837050485,
           -4.721593081474737,
           -5.200273099681384,
           -5.706568047337278
          ],
          [
           1.6500525969756763,
           1.597958832751733,
           1.549574672533251,
           1.5040535073079426,
           1.4605487280635177,
           1.418213725787686,
           1.3762018914681589,
           1.3336666160926465,
           1.2897612906488594,
           1.243639306124508,
           1.1944540535073027,
           1.141358923784954,
           1.0835073079451731,
           1.0200525969756697,
           0.9501481818641545,
           0.8729474535983381,
           0.787603803165931,
           0.6932706215546439,
           0.589101299752187,
           0.4742492287462702,
           0.34786779952460534,
           0.20911040307490208,
           0.05713043038487059,
           -0.10891872755777751,
           -0.2898836797653324,
           -0.48661103525008353,
           -0.6999474030243205,
           -0.9307393921003331,
           -1.1798336114904107,
           -1.448076670206841,
           -1.7363151772619168,
           -2.0453957416679236,
           -2.3761649724371554,
           -2.7294694785818994,
           -3.106155869114443,
           -3.5070707530470804,
           -3.9330607393920958,
           -4.384972437161784,
           -4.863652455368431,
           -5.369947403024327
          ],
          [
           2.0287508218277477,
           1.9766570576038045,
           1.9282728973853231,
           1.882751732160015,
           1.8392469529155893,
           1.7969119506397575,
           1.7549001163202305,
           1.712364840944718,
           1.668459515500931,
           1.6223375309765795,
           1.5731522783593743,
           1.5200571486370256,
           1.4622055327972447,
           1.3987508218277414,
           1.328846406716226,
           1.25164567845041,
           1.1663020280180028,
           1.0719688464067154,
           0.9677995246042584,
           0.8529474535983418,
           0.7265660243766769,
           0.5878086279269739,
           0.43582865523694214,
           0.26977949729429407,
           0.08881454508673917,
           -0.10791281039801201,
           -0.32124917817224885,
           -0.5520411672482615,
           -0.8011353866383392,
           -1.0693784453547694,
           -1.357616952409845,
           -1.666697516815852,
           -1.9974667475850838,
           -2.350771253729828,
           -2.7274576442623717,
           -3.1283725281950088,
           -3.554362514540024,
           -4.006274212309712,
           -4.48495423051636,
           -4.9912491781722546
          ],
          [
           2.4495266272189364,
           2.3974328629949926,
           2.349048702776511,
           2.303527537551203,
           2.260022758306777,
           2.2176877560309465,
           2.175675921711419,
           2.133140646335906,
           2.089235320892119,
           2.0431133363677674,
           1.9939280837505626,
           1.9408329540282139,
           1.882981338188433,
           1.8195266272189297,
           1.7496222121074143,
           1.6724214838415983,
           1.587077833409191,
           1.4927446517979037,
           1.3885753299954466,
           1.2737232589895302,
           1.1473418297678653,
           1.008584433318162,
           0.8566044606281307,
           0.6905553026854825,
           0.5095903504779274,
           0.3128629949931764,
           0.09952662721893946,
           -0.13126536185707322,
           -0.38035958124715097,
           -0.6486026399635811,
           -0.9368411470186566,
           -1.2459217114246637,
           -1.5766909421938955,
           -1.92999544833864,
           -2.3066818388711834,
           -2.7075967228038205,
           -3.133586709148836,
           -3.585498406918524,
           -4.064178425125172,
           -4.570473372781066
          ],
          [
           2.9123800131492454,
           2.860286248925301,
           2.81190208870682,
           2.7663809234815115,
           2.722876144237086,
           2.680541141961255,
           2.6385293076417278,
           2.5959940322662156,
           2.5520887068224276,
           2.5059667222980764,
           2.4567814696808714,
           2.403686339958523,
           2.345834724118742,
           2.2823800131492384,
           2.212475598037723,
           2.135274869771907,
           2.0499312193395,
           1.9555980377282125,
           1.8514287159257554,
           1.7365766449198388,
           1.6101952156981743,
           1.471437819248471,
           1.3194578465584395,
           1.153408688615791,
           0.9724437364082363,
           0.7757163809234852,
           0.5623800131492482,
           0.3315880240732355,
           0.08249380468315776,
           -0.18574925403327253,
           -0.47398776108834806,
           -0.7830683254943551,
           -1.113837556263587,
           -1.467142062408331,
           -1.8438284529408744,
           -2.244743336873512,
           -2.6707333232185273,
           -3.122645020988215,
           -3.601325039194863,
           -4.107619986850757
          ],
          [
           3.4173109796186742,
           3.3652172153947304,
           3.316833055176249,
           3.2713118899509404,
           3.227807110706515,
           3.185472108430684,
           3.1434602741111566,
           3.1009249987356444,
           3.0570196732918564,
           3.010897688767505,
           2.9617124361503,
           2.908617306427952,
           2.8507656905881706,
           2.7873109796186673,
           2.7174065645071517,
           2.6402058362413356,
           2.5548621858089287,
           2.4605290041976415,
           2.3563596823951842,
           2.2415076113892676,
           2.1151261821676024,
           1.9763687857178998,
           1.8243888130278685,
           1.6583396550852199,
           1.4773747028776651,
           1.2806473473929139,
           1.0673109796186768,
           0.836518990542664,
           0.5874247711525868,
           0.31918171243615634,
           0.03094320538108075,
           -0.2781373590249262,
           -0.6089065897941582,
           -0.9622110959389023,
           -1.3388974864714458,
           -1.739812370404083,
           -2.1658023567490985,
           -2.6177140545187862,
           -3.096394072725434,
           -3.602689020381329
          ],
          [
           3.9643195266272224,
           3.9122257624032786,
           3.8638416021847966,
           3.818320436959488,
           3.7748156577150627,
           3.7324806554392316,
           3.6904688211197043,
           3.647933545744192,
           3.6040282203004046,
           3.557906235776053,
           3.508720983158848,
           3.4556258534364996,
           3.3977742375967184,
           3.334319526627215,
           3.2644151115156994,
           3.1872143832498834,
           3.1018707328174764,
           3.0075375512061893,
           2.9033682294037315,
           2.7885161583978153,
           2.66213472917615,
           2.5233773327264473,
           2.3713973600364158,
           2.2053482020937674,
           2.024383249886213,
           1.827655894401462,
           1.6143195266272248,
           1.383527537551212,
           1.1344333181611346,
           0.8661902594447041,
           0.5779517523896285,
           0.2688711879836214,
           -0.06189804278560995,
           -0.41520254893035413,
           -0.791888939462898,
           -1.1928038233955351,
           -1.6187938097405508,
           -2.070705507510239,
           -2.5493855257168865,
           -3.055680473372781
          ],
          [
           4.553405654174888,
           4.501311889950945,
           4.452927729732464,
           4.407406564507156,
           4.363901785262729,
           4.321566782986897,
           4.27955494866737,
           4.237019673291858,
           4.193114347848071,
           4.14699236332372,
           4.097807110706515,
           4.044711980984166,
           3.986860365144385,
           3.9234056541748816,
           3.853501239063366,
           3.77630051079755,
           3.690956860365143,
           3.596623678753856,
           3.492454356951398,
           3.377602285945482,
           3.2512208567238168,
           3.112463460274114,
           2.9604834875840824,
           2.794434329641434,
           2.6134693774338795,
           2.4167420219491285,
           2.2034056541748916,
           1.9726136650988784,
           1.7235194457088012,
           1.4552763869923706,
           1.1670378799372951,
           0.8579573155312878,
           0.5271880847620563,
           0.17388357861731207,
           -0.20280281191523164,
           -0.6037176958478687,
           -1.029707682192884,
           -1.4816193799625725,
           -1.9602993981692205,
           -2.4665943458251145
          ],
          [
           5.184569362261671,
           5.132475598037728,
           5.0840914378192466,
           5.038570272593938,
           4.995065493349513,
           4.95273049107368,
           4.9107186567541525,
           4.86818338137864,
           4.824278055934854,
           4.7781560714105025,
           4.728970818793297,
           4.675875689070948,
           4.618024073231167,
           4.554569362261664,
           4.484664947150149,
           4.407464218884332,
           4.3221205684519255,
           4.227787386840638,
           4.123618065038181,
           4.008765994032265,
           3.8823845648105997,
           3.7436271683608964,
           3.5916471956708644,
           3.4255980377282165,
           3.2446330855206624,
           3.0479057300359105,
           2.8345693622616737,
           2.603777373185661,
           2.3546831537955835,
           2.0864400950791526,
           1.7982015880240771,
           1.4891210236180699,
           1.1583517928488385,
           0.8050472867040943,
           0.42836089617155126,
           0.027446012238913298,
           -0.3985439741061019,
           -0.8504556718757901,
           -1.3291356900824374,
           -1.8354306377383325
          ],
          [
           5.857810650887576,
           5.805716886663633,
           5.757332726445151,
           5.711811561219842,
           5.668306781975417,
           5.625971779699585,
           5.583959945380057,
           5.541424670004544,
           5.497519344560758,
           5.451397360036407,
           5.402212107419201,
           5.349116977696853,
           5.2912653618570715,
           5.227810650887569,
           5.1579062357760534,
           5.0807055075102365,
           4.99536185707783,
           4.901028675466542,
           4.796859353664085,
           4.682007282658169,
           4.555625853436505,
           4.416868456986801,
           4.264888484296769,
           4.098839326354121,
           3.917874374146566,
           3.7211470186618145,
           3.5078106508875786,
           3.2770186618115655,
           3.027924442421488,
           2.759681383705058,
           2.4714428766499816,
           2.1623623122439755,
           1.831593081474743,
           1.4782885753299986,
           1.1016021847974553,
           0.700687300864818,
           0.2746973145198026,
           -0.1772143832498856,
           -0.6558944014565329,
           -1.162189349112428
          ],
          [
           6.5731295200526,
           6.521035755828657,
           6.472651595610175,
           6.427130430384866,
           6.3836256511404414,
           6.34129064886461,
           6.299278814545081,
           6.256743539169569,
           6.2128382137257825,
           6.166716229201431,
           6.117530976584225,
           6.064435846861877,
           6.006584231022096,
           5.943129520052593,
           5.873225104941078,
           5.796024376675261,
           5.710680726242854,
           5.616347544631567,
           5.512178222829109,
           5.397326151823194,
           5.270944722601529,
           5.132187326151825,
           4.980207353461793,
           4.814158195519146,
           4.63319324331159,
           4.436465887826839,
           4.223129520052602,
           3.992337530976589,
           3.7432433115865122,
           3.4750002528700823,
           3.186761745815006,
           2.8776811814089998,
           2.5469119506397675,
           2.193607444495024,
           1.8169210539624805,
           1.4160061700298432,
           0.9900161836848267,
           0.5381044859151387,
           0.059424467708490525,
           -0.4468704799474046
          ],
          [
           7.330525969756742,
           7.278432205532799,
           7.230048045314318,
           7.184526880089009,
           7.141022100844584,
           7.098687098568752,
           7.056675264249224,
           7.014139988873711,
           6.970234663429925,
           6.924112678905574,
           6.874927426288368,
           6.821832296566019,
           6.763980680726238,
           6.700525969756735,
           6.63062155464522,
           6.553420826379403,
           6.468077175946997,
           6.373743994335709,
           6.269574672533252,
           6.154722601527336,
           6.028341172305671,
           5.889583775855967,
           5.7376038031659355,
           5.571554645223288,
           5.390589693015732,
           5.193862337530981,
           4.980525969756744,
           4.749733980680732,
           4.500639761290655,
           4.232396702574225,
           3.944158195519149,
           3.635077631113142,
           3.30430840034391,
           2.9510038941991663,
           2.574317503666623,
           2.1734026197339844,
           1.7474126333889681,
           1.295500935619281,
           0.8168209174126329,
           0.3105259697567382
          ],
          [
           8.130000000000003,
           8.077906235776059,
           8.029522075557578,
           7.98400091033227,
           7.940496131087843,
           7.898161128812013,
           7.856149294492486,
           7.813614019116972,
           7.769708693673186,
           7.723586709148835,
           7.674401456531629,
           7.621306326809281,
           7.563454710969499,
           7.4999999999999964,
           7.430095584888481,
           7.352894856622664,
           7.267551206190258,
           7.17321802457897,
           7.069048702776513,
           6.954196631770597,
           6.827815202548932,
           6.689057806099228,
           6.537077833409197,
           6.371028675466549,
           6.1900637232589935,
           5.993336367774242,
           5.7800000000000065,
           5.549208010923994,
           5.300113791533916,
           5.031870732817485,
           4.743632225762411,
           4.434551661356403,
           4.103782430587172,
           3.7504779244424267,
           3.373791533909882,
           2.9728766499772448,
           2.5468866636322303,
           2.0949749658625416,
           1.616294947655894,
           1.1099999999999994
          ]
         ]
        }
       ],
       "layout": {
        "legend": {
         "tracegroupgap": 0
        },
        "margin": {
         "t": 60
        },
        "scene": {
         "domain": {
          "x": [
           0,
           1
          ],
          "y": [
           0,
           1
          ]
         },
         "xaxis": {
          "title": {
           "text": "x"
          }
         },
         "yaxis": {
          "title": {
           "text": "y"
          }
         },
         "zaxis": {
          "title": {
           "text": "z"
          }
         }
        },
        "template": {
         "data": {
          "bar": [
           {
            "error_x": {
             "color": "#2a3f5f"
            },
            "error_y": {
             "color": "#2a3f5f"
            },
            "marker": {
             "line": {
              "color": "#E5ECF6",
              "width": 0.5
             },
             "pattern": {
              "fillmode": "overlay",
              "size": 10,
              "solidity": 0.2
             }
            },
            "type": "bar"
           }
          ],
          "barpolar": [
           {
            "marker": {
             "line": {
              "color": "#E5ECF6",
              "width": 0.5
             },
             "pattern": {
              "fillmode": "overlay",
              "size": 10,
              "solidity": 0.2
             }
            },
            "type": "barpolar"
           }
          ],
          "carpet": [
           {
            "aaxis": {
             "endlinecolor": "#2a3f5f",
             "gridcolor": "white",
             "linecolor": "white",
             "minorgridcolor": "white",
             "startlinecolor": "#2a3f5f"
            },
            "baxis": {
             "endlinecolor": "#2a3f5f",
             "gridcolor": "white",
             "linecolor": "white",
             "minorgridcolor": "white",
             "startlinecolor": "#2a3f5f"
            },
            "type": "carpet"
           }
          ],
          "choropleth": [
           {
            "colorbar": {
             "outlinewidth": 0,
             "ticks": ""
            },
            "type": "choropleth"
           }
          ],
          "contour": [
           {
            "colorbar": {
             "outlinewidth": 0,
             "ticks": ""
            },
            "colorscale": [
             [
              0,
              "#0d0887"
             ],
             [
              0.1111111111111111,
              "#46039f"
             ],
             [
              0.2222222222222222,
              "#7201a8"
             ],
             [
              0.3333333333333333,
              "#9c179e"
             ],
             [
              0.4444444444444444,
              "#bd3786"
             ],
             [
              0.5555555555555556,
              "#d8576b"
             ],
             [
              0.6666666666666666,
              "#ed7953"
             ],
             [
              0.7777777777777778,
              "#fb9f3a"
             ],
             [
              0.8888888888888888,
              "#fdca26"
             ],
             [
              1,
              "#f0f921"
             ]
            ],
            "type": "contour"
           }
          ],
          "contourcarpet": [
           {
            "colorbar": {
             "outlinewidth": 0,
             "ticks": ""
            },
            "type": "contourcarpet"
           }
          ],
          "heatmap": [
           {
            "colorbar": {
             "outlinewidth": 0,
             "ticks": ""
            },
            "colorscale": [
             [
              0,
              "#0d0887"
             ],
             [
              0.1111111111111111,
              "#46039f"
             ],
             [
              0.2222222222222222,
              "#7201a8"
             ],
             [
              0.3333333333333333,
              "#9c179e"
             ],
             [
              0.4444444444444444,
              "#bd3786"
             ],
             [
              0.5555555555555556,
              "#d8576b"
             ],
             [
              0.6666666666666666,
              "#ed7953"
             ],
             [
              0.7777777777777778,
              "#fb9f3a"
             ],
             [
              0.8888888888888888,
              "#fdca26"
             ],
             [
              1,
              "#f0f921"
             ]
            ],
            "type": "heatmap"
           }
          ],
          "heatmapgl": [
           {
            "colorbar": {
             "outlinewidth": 0,
             "ticks": ""
            },
            "colorscale": [
             [
              0,
              "#0d0887"
             ],
             [
              0.1111111111111111,
              "#46039f"
             ],
             [
              0.2222222222222222,
              "#7201a8"
             ],
             [
              0.3333333333333333,
              "#9c179e"
             ],
             [
              0.4444444444444444,
              "#bd3786"
             ],
             [
              0.5555555555555556,
              "#d8576b"
             ],
             [
              0.6666666666666666,
              "#ed7953"
             ],
             [
              0.7777777777777778,
              "#fb9f3a"
             ],
             [
              0.8888888888888888,
              "#fdca26"
             ],
             [
              1,
              "#f0f921"
             ]
            ],
            "type": "heatmapgl"
           }
          ],
          "histogram": [
           {
            "marker": {
             "pattern": {
              "fillmode": "overlay",
              "size": 10,
              "solidity": 0.2
             }
            },
            "type": "histogram"
           }
          ],
          "histogram2d": [
           {
            "colorbar": {
             "outlinewidth": 0,
             "ticks": ""
            },
            "colorscale": [
             [
              0,
              "#0d0887"
             ],
             [
              0.1111111111111111,
              "#46039f"
             ],
             [
              0.2222222222222222,
              "#7201a8"
             ],
             [
              0.3333333333333333,
              "#9c179e"
             ],
             [
              0.4444444444444444,
              "#bd3786"
             ],
             [
              0.5555555555555556,
              "#d8576b"
             ],
             [
              0.6666666666666666,
              "#ed7953"
             ],
             [
              0.7777777777777778,
              "#fb9f3a"
             ],
             [
              0.8888888888888888,
              "#fdca26"
             ],
             [
              1,
              "#f0f921"
             ]
            ],
            "type": "histogram2d"
           }
          ],
          "histogram2dcontour": [
           {
            "colorbar": {
             "outlinewidth": 0,
             "ticks": ""
            },
            "colorscale": [
             [
              0,
              "#0d0887"
             ],
             [
              0.1111111111111111,
              "#46039f"
             ],
             [
              0.2222222222222222,
              "#7201a8"
             ],
             [
              0.3333333333333333,
              "#9c179e"
             ],
             [
              0.4444444444444444,
              "#bd3786"
             ],
             [
              0.5555555555555556,
              "#d8576b"
             ],
             [
              0.6666666666666666,
              "#ed7953"
             ],
             [
              0.7777777777777778,
              "#fb9f3a"
             ],
             [
              0.8888888888888888,
              "#fdca26"
             ],
             [
              1,
              "#f0f921"
             ]
            ],
            "type": "histogram2dcontour"
           }
          ],
          "mesh3d": [
           {
            "colorbar": {
             "outlinewidth": 0,
             "ticks": ""
            },
            "type": "mesh3d"
           }
          ],
          "parcoords": [
           {
            "line": {
             "colorbar": {
              "outlinewidth": 0,
              "ticks": ""
             }
            },
            "type": "parcoords"
           }
          ],
          "pie": [
           {
            "automargin": true,
            "type": "pie"
           }
          ],
          "scatter": [
           {
            "fillpattern": {
             "fillmode": "overlay",
             "size": 10,
             "solidity": 0.2
            },
            "type": "scatter"
           }
          ],
          "scatter3d": [
           {
            "line": {
             "colorbar": {
              "outlinewidth": 0,
              "ticks": ""
             }
            },
            "marker": {
             "colorbar": {
              "outlinewidth": 0,
              "ticks": ""
             }
            },
            "type": "scatter3d"
           }
          ],
          "scattercarpet": [
           {
            "marker": {
             "colorbar": {
              "outlinewidth": 0,
              "ticks": ""
             }
            },
            "type": "scattercarpet"
           }
          ],
          "scattergeo": [
           {
            "marker": {
             "colorbar": {
              "outlinewidth": 0,
              "ticks": ""
             }
            },
            "type": "scattergeo"
           }
          ],
          "scattergl": [
           {
            "marker": {
             "colorbar": {
              "outlinewidth": 0,
              "ticks": ""
             }
            },
            "type": "scattergl"
           }
          ],
          "scattermapbox": [
           {
            "marker": {
             "colorbar": {
              "outlinewidth": 0,
              "ticks": ""
             }
            },
            "type": "scattermapbox"
           }
          ],
          "scatterpolar": [
           {
            "marker": {
             "colorbar": {
              "outlinewidth": 0,
              "ticks": ""
             }
            },
            "type": "scatterpolar"
           }
          ],
          "scatterpolargl": [
           {
            "marker": {
             "colorbar": {
              "outlinewidth": 0,
              "ticks": ""
             }
            },
            "type": "scatterpolargl"
           }
          ],
          "scatterternary": [
           {
            "marker": {
             "colorbar": {
              "outlinewidth": 0,
              "ticks": ""
             }
            },
            "type": "scatterternary"
           }
          ],
          "surface": [
           {
            "colorbar": {
             "outlinewidth": 0,
             "ticks": ""
            },
            "colorscale": [
             [
              0,
              "#0d0887"
             ],
             [
              0.1111111111111111,
              "#46039f"
             ],
             [
              0.2222222222222222,
              "#7201a8"
             ],
             [
              0.3333333333333333,
              "#9c179e"
             ],
             [
              0.4444444444444444,
              "#bd3786"
             ],
             [
              0.5555555555555556,
              "#d8576b"
             ],
             [
              0.6666666666666666,
              "#ed7953"
             ],
             [
              0.7777777777777778,
              "#fb9f3a"
             ],
             [
              0.8888888888888888,
              "#fdca26"
             ],
             [
              1,
              "#f0f921"
             ]
            ],
            "type": "surface"
           }
          ],
          "table": [
           {
            "cells": {
             "fill": {
              "color": "#EBF0F8"
             },
             "line": {
              "color": "white"
             }
            },
            "header": {
             "fill": {
              "color": "#C8D4E3"
             },
             "line": {
              "color": "white"
             }
            },
            "type": "table"
           }
          ]
         },
         "layout": {
          "annotationdefaults": {
           "arrowcolor": "#2a3f5f",
           "arrowhead": 0,
           "arrowwidth": 1
          },
          "autotypenumbers": "strict",
          "coloraxis": {
           "colorbar": {
            "outlinewidth": 0,
            "ticks": ""
           }
          },
          "colorscale": {
           "diverging": [
            [
             0,
             "#8e0152"
            ],
            [
             0.1,
             "#c51b7d"
            ],
            [
             0.2,
             "#de77ae"
            ],
            [
             0.3,
             "#f1b6da"
            ],
            [
             0.4,
             "#fde0ef"
            ],
            [
             0.5,
             "#f7f7f7"
            ],
            [
             0.6,
             "#e6f5d0"
            ],
            [
             0.7,
             "#b8e186"
            ],
            [
             0.8,
             "#7fbc41"
            ],
            [
             0.9,
             "#4d9221"
            ],
            [
             1,
             "#276419"
            ]
           ],
           "sequential": [
            [
             0,
             "#0d0887"
            ],
            [
             0.1111111111111111,
             "#46039f"
            ],
            [
             0.2222222222222222,
             "#7201a8"
            ],
            [
             0.3333333333333333,
             "#9c179e"
            ],
            [
             0.4444444444444444,
             "#bd3786"
            ],
            [
             0.5555555555555556,
             "#d8576b"
            ],
            [
             0.6666666666666666,
             "#ed7953"
            ],
            [
             0.7777777777777778,
             "#fb9f3a"
            ],
            [
             0.8888888888888888,
             "#fdca26"
            ],
            [
             1,
             "#f0f921"
            ]
           ],
           "sequentialminus": [
            [
             0,
             "#0d0887"
            ],
            [
             0.1111111111111111,
             "#46039f"
            ],
            [
             0.2222222222222222,
             "#7201a8"
            ],
            [
             0.3333333333333333,
             "#9c179e"
            ],
            [
             0.4444444444444444,
             "#bd3786"
            ],
            [
             0.5555555555555556,
             "#d8576b"
            ],
            [
             0.6666666666666666,
             "#ed7953"
            ],
            [
             0.7777777777777778,
             "#fb9f3a"
            ],
            [
             0.8888888888888888,
             "#fdca26"
            ],
            [
             1,
             "#f0f921"
            ]
           ]
          },
          "colorway": [
           "#636efa",
           "#EF553B",
           "#00cc96",
           "#ab63fa",
           "#FFA15A",
           "#19d3f3",
           "#FF6692",
           "#B6E880",
           "#FF97FF",
           "#FECB52"
          ],
          "font": {
           "color": "#2a3f5f"
          },
          "geo": {
           "bgcolor": "white",
           "lakecolor": "white",
           "landcolor": "#E5ECF6",
           "showlakes": true,
           "showland": true,
           "subunitcolor": "white"
          },
          "hoverlabel": {
           "align": "left"
          },
          "hovermode": "closest",
          "mapbox": {
           "style": "light"
          },
          "paper_bgcolor": "white",
          "plot_bgcolor": "#E5ECF6",
          "polar": {
           "angularaxis": {
            "gridcolor": "white",
            "linecolor": "white",
            "ticks": ""
           },
           "bgcolor": "#E5ECF6",
           "radialaxis": {
            "gridcolor": "white",
            "linecolor": "white",
            "ticks": ""
           }
          },
          "scene": {
           "xaxis": {
            "backgroundcolor": "#E5ECF6",
            "gridcolor": "white",
            "gridwidth": 2,
            "linecolor": "white",
            "showbackground": true,
            "ticks": "",
            "zerolinecolor": "white"
           },
           "yaxis": {
            "backgroundcolor": "#E5ECF6",
            "gridcolor": "white",
            "gridwidth": 2,
            "linecolor": "white",
            "showbackground": true,
            "ticks": "",
            "zerolinecolor": "white"
           },
           "zaxis": {
            "backgroundcolor": "#E5ECF6",
            "gridcolor": "white",
            "gridwidth": 2,
            "linecolor": "white",
            "showbackground": true,
            "ticks": "",
            "zerolinecolor": "white"
           }
          },
          "shapedefaults": {
           "line": {
            "color": "#2a3f5f"
           }
          },
          "ternary": {
           "aaxis": {
            "gridcolor": "white",
            "linecolor": "white",
            "ticks": ""
           },
           "baxis": {
            "gridcolor": "white",
            "linecolor": "white",
            "ticks": ""
           },
           "bgcolor": "#E5ECF6",
           "caxis": {
            "gridcolor": "white",
            "linecolor": "white",
            "ticks": ""
           }
          },
          "title": {
           "x": 0.05
          },
          "xaxis": {
           "automargin": true,
           "gridcolor": "white",
           "linecolor": "white",
           "ticks": "",
           "title": {
            "standoff": 15
           },
           "zerolinecolor": "white",
           "zerolinewidth": 2
          },
          "yaxis": {
           "automargin": true,
           "gridcolor": "white",
           "linecolor": "white",
           "ticks": "",
           "title": {
            "standoff": 15
           },
           "zerolinecolor": "white",
           "zerolinewidth": 2
          }
         }
        }
       }
      }
     },
     "metadata": {},
     "output_type": "display_data"
    }
   ],
   "source": [
    "x, y, z, p = read_xypzdata(\"data/tmp44\")\n",
    "\n",
    "func = LeastSquare2D(x, y, z, p, 3)\n",
    "\n",
    "x_pred = np.linspace(min(x), max(x), 40)\n",
    "y_pred = np.linspace(min(y), max(y), 40)\n",
    "z_graph = [[func(xi, yi) for xi in x_pred] for yi in y_pred]\n",
    "\n",
    "fig = px.scatter_3d(x=x, y=y, z=z)\n",
    "fig.add_trace(go.Surface(x=x_pred, y=y_pred, z=z_graph))\n",
    "fig.show()"
   ]
  },
  {
   "cell_type": "code",
   "execution_count": 9,
   "metadata": {},
   "outputs": [
    {
     "data": {
      "application/vnd.plotly.v1+json": {
       "config": {
        "plotlyServerURL": "https://plot.ly"
       },
       "data": [
        {
         "hovertemplate": "x=%{x}<br>y=%{y}<br>z=%{z}<extra></extra>",
         "legendgroup": "",
         "marker": {
          "color": "#636efa",
          "symbol": "circle"
         },
         "mode": "markers",
         "name": "",
         "scene": "scene",
         "showlegend": false,
         "type": "scatter3d",
         "x": [
          -2,
          -2,
          -2,
          -2,
          -2,
          -2,
          -2,
          -2,
          -2,
          -2,
          -1.4444444444444444,
          -1.4444444444444444,
          -1.4444444444444444,
          -1.4444444444444444,
          -1.4444444444444444,
          -1.4444444444444444,
          -1.4444444444444444,
          -1.4444444444444444,
          -1.4444444444444444,
          -1.4444444444444444,
          -0.8888888888888888,
          -0.8888888888888888,
          -0.8888888888888888,
          -0.8888888888888888,
          -0.8888888888888888,
          -0.8888888888888888,
          -0.8888888888888888,
          -0.8888888888888888,
          -0.8888888888888888,
          -0.8888888888888888,
          -0.33333333333333326,
          -0.33333333333333326,
          -0.33333333333333326,
          -0.33333333333333326,
          -0.33333333333333326,
          -0.33333333333333326,
          -0.33333333333333326,
          -0.33333333333333326,
          -0.33333333333333326,
          -0.33333333333333326,
          0.22222222222222232,
          0.22222222222222232,
          0.22222222222222232,
          0.22222222222222232,
          0.22222222222222232,
          0.22222222222222232,
          0.22222222222222232,
          0.22222222222222232,
          0.22222222222222232,
          0.22222222222222232,
          0.7777777777777777,
          0.7777777777777777,
          0.7777777777777777,
          0.7777777777777777,
          0.7777777777777777,
          0.7777777777777777,
          0.7777777777777777,
          0.7777777777777777,
          0.7777777777777777,
          0.7777777777777777,
          1.3333333333333335,
          1.3333333333333335,
          1.3333333333333335,
          1.3333333333333335,
          1.3333333333333335,
          1.3333333333333335,
          1.3333333333333335,
          1.3333333333333335,
          1.3333333333333335,
          1.3333333333333335,
          1.8888888888888893,
          1.8888888888888893,
          1.8888888888888893,
          1.8888888888888893,
          1.8888888888888893,
          1.8888888888888893,
          1.8888888888888893,
          1.8888888888888893,
          1.8888888888888893,
          1.8888888888888893,
          2.4444444444444446,
          2.4444444444444446,
          2.4444444444444446,
          2.4444444444444446,
          2.4444444444444446,
          2.4444444444444446,
          2.4444444444444446,
          2.4444444444444446,
          2.4444444444444446,
          2.4444444444444446,
          3,
          3,
          3,
          3,
          3,
          3,
          3,
          3,
          3,
          3
         ],
         "y": [
          -2,
          -1.4444444444444444,
          -0.8888888888888888,
          -0.33333333333333326,
          0.22222222222222232,
          0.7777777777777777,
          1.3333333333333335,
          1.8888888888888893,
          2.4444444444444446,
          3,
          -2,
          -1.4444444444444444,
          -0.8888888888888888,
          -0.33333333333333326,
          0.22222222222222232,
          0.7777777777777777,
          1.3333333333333335,
          1.8888888888888893,
          2.4444444444444446,
          3,
          -2,
          -1.4444444444444444,
          -0.8888888888888888,
          -0.33333333333333326,
          0.22222222222222232,
          0.7777777777777777,
          1.3333333333333335,
          1.8888888888888893,
          2.4444444444444446,
          3,
          -2,
          -1.4444444444444444,
          -0.8888888888888888,
          -0.33333333333333326,
          0.22222222222222232,
          0.7777777777777777,
          1.3333333333333335,
          1.8888888888888893,
          2.4444444444444446,
          3,
          -2,
          -1.4444444444444444,
          -0.8888888888888888,
          -0.33333333333333326,
          0.22222222222222232,
          0.7777777777777777,
          1.3333333333333335,
          1.8888888888888893,
          2.4444444444444446,
          3,
          -2,
          -1.4444444444444444,
          -0.8888888888888888,
          -0.33333333333333326,
          0.22222222222222232,
          0.7777777777777777,
          1.3333333333333335,
          1.8888888888888893,
          2.4444444444444446,
          3,
          -2,
          -1.4444444444444444,
          -0.8888888888888888,
          -0.33333333333333326,
          0.22222222222222232,
          0.7777777777777777,
          1.3333333333333335,
          1.8888888888888893,
          2.4444444444444446,
          3,
          -2,
          -1.4444444444444444,
          -0.8888888888888888,
          -0.33333333333333326,
          0.22222222222222232,
          0.7777777777777777,
          1.3333333333333335,
          1.8888888888888893,
          2.4444444444444446,
          3,
          -2,
          -1.4444444444444444,
          -0.8888888888888888,
          -0.33333333333333326,
          0.22222222222222232,
          0.7777777777777777,
          1.3333333333333335,
          1.8888888888888893,
          2.4444444444444446,
          3,
          -2,
          -1.4444444444444444,
          -0.8888888888888888,
          -0.33333333333333326,
          0.22222222222222232,
          0.7777777777777777,
          1.3333333333333335,
          1.8888888888888893,
          2.4444444444444446,
          3
         ],
         "z": [
          0.37840124765396416,
          0.4128294034568874,
          0.32308471903329683,
          0.13616103800672014,
          -0.09171782372139398,
          -0.29200935137031236,
          -0.40446888297261113,
          -0.39527029245134954,
          -0.2671803767002112,
          -0.05872664492762098,
          -0.11458598231497819,
          -0.12501138148168137,
          -0.09783524798322957,
          -0.04123175171794035,
          0.027773631805037308,
          0.08842512697665608,
          0.12247968144555635,
          0.11969420032643519,
          0.08090651420757515,
          0.01778337238266208,
          -0.5731074819966595,
          -0.625250633755095,
          -0.4893278522329185,
          -0.2062226541849124,
          0.13891119898010973,
          0.44226266462090597,
          0.6125882102757024,
          0.598656488104481,
          0.40465794940930844,
          0.08894442026617923,
          -0.8592469197450449,
          -0.9374239527478967,
          -0.733638039956778,
          -0.30918490153486844,
          0.20826637863095634,
          0.6630742822791559,
          0.9184394712798308,
          0.8975519593585757,
          0.6066943941630849,
          0.1333523318801633,
          -0.8869378807444431,
          -0.9676343259467277,
          -0.7572810020498466,
          -0.31914900714090916,
          0.21497818176417788,
          0.6844431852898809,
          0.9480380313620294,
          0.9264773773384347,
          0.6262463418294303,
          0.1376498791118346,
          -0.647851342771378,
          -0.7067949300463932,
          -0.553145293130859,
          -0.23311791875080032,
          0.15702779951801557,
          0.49994193084705113,
          0.6924810913484851,
          0.676732413832884,
          0.45743286228718416,
          0.10054442475731254,
          -0.21390092009712575,
          -0.23336230995550916,
          -0.18263184674734667,
          -0.07696848647193416,
          0.05184583033207299,
          0.16506570557661945,
          0.2286363133179058,
          0.2234365762972344,
          0.151030496760766,
          0.03319672824050144,
          0.284387663941397,
          0.3102621632019208,
          0.24281449670341573,
          0.10233190233552669,
          -0.06893058041333026,
          -0.2194597871970725,
          -0.30397880947463135,
          -0.29706560375421237,
          -0.20079955774944844,
          -0.04413604200733152,
          0.6971367402285671,
          0.7605644706003215,
          0.5952259122847939,
          0.25085240276201953,
          -0.16897371519361876,
          -0.5379750954645808,
          -0.7451617042691904,
          -0.7282149435213139,
          -0.49223214252230957,
          -0.10819335840784802,
          0.9001976297355174,
          0.9821004893114402,
          0.7686023766589254,
          0.32392029475564843,
          -0.21819211228923108,
          -0.6946756322657365,
          -0.9622112295112635,
          -0.9403282430372877,
          -0.6356087441797132,
          -0.13970774909946293
         ]
        },
        {
         "type": "surface",
         "x": [
          -2,
          -1.8717948717948718,
          -1.7435897435897436,
          -1.6153846153846154,
          -1.4871794871794872,
          -1.358974358974359,
          -1.2307692307692308,
          -1.1025641025641026,
          -0.9743589743589745,
          -0.8461538461538463,
          -0.7179487179487181,
          -0.5897435897435899,
          -0.4615384615384617,
          -0.3333333333333335,
          -0.2051282051282053,
          -0.0769230769230771,
          0.0512820512820511,
          0.1794871794871793,
          0.3076923076923075,
          0.4358974358974357,
          0.5641025641025639,
          0.6923076923076921,
          0.8205128205128203,
          0.9487179487179485,
          1.0769230769230766,
          1.2051282051282048,
          1.333333333333333,
          1.4615384615384612,
          1.5897435897435894,
          1.7179487179487176,
          1.8461538461538458,
          1.974358974358974,
          2.102564102564102,
          2.23076923076923,
          2.3589743589743586,
          2.4871794871794872,
          2.615384615384615,
          2.7435897435897427,
          2.8717948717948714,
          3
         ],
         "y": [
          -2,
          -1.8717948717948718,
          -1.7435897435897436,
          -1.6153846153846154,
          -1.4871794871794872,
          -1.358974358974359,
          -1.2307692307692308,
          -1.1025641025641026,
          -0.9743589743589745,
          -0.8461538461538463,
          -0.7179487179487181,
          -0.5897435897435899,
          -0.4615384615384617,
          -0.3333333333333335,
          -0.2051282051282053,
          -0.0769230769230771,
          0.0512820512820511,
          0.1794871794871793,
          0.3076923076923075,
          0.4358974358974357,
          0.5641025641025639,
          0.6923076923076921,
          0.8205128205128203,
          0.9487179487179485,
          1.0769230769230766,
          1.2051282051282048,
          1.333333333333333,
          1.4615384615384612,
          1.5897435897435894,
          1.7179487179487176,
          1.8461538461538458,
          1.974358974358974,
          2.102564102564102,
          2.23076923076923,
          2.3589743589743586,
          2.4871794871794872,
          2.615384615384615,
          2.7435897435897427,
          2.8717948717948714,
          3
         ],
         "z": [
          [
           0.7376718266236322,
           0.4951855707434733,
           0.2707150530680127,
           0.06416832334640835,
           -0.12457730945770731,
           -0.2956752771662286,
           -0.44930975238657406,
           -0.5856956485116895,
           -0.7050786197200458,
           -0.8077350609756399,
           -0.8939721080279938,
           -0.964127637412156,
           -1.018570266448701,
           -1.0576993532437287,
           -1.081944996688864,
           -1.0917680364612588,
           -1.08766005302359,
           -1.0701433676240606,
           -1.0397710422964004,
           -0.9971268798598618,
           -0.9428254239192272,
           -0.8775119588648014,
           -0.8018625098724169,
           -0.7165838429034306,
           -0.6224134647047265,
           -0.5201196228087135,
           -0.4105013055333263,
           -0.2943882419820262,
           -0.17264090204379945,
           -0.046150496393158144,
           0.0841610235098597,
           0.21734096541969,
           0.35240589630524294,
           0.48834164234990396,
           0.6241032889515317,
           0.7586151807224595,
           0.8907709214894928,
           1.019433374293915,
           1.143434661391482,
           1.2615761642524226
          ],
          [
           0.6071522477202058,
           0.38841827190535316,
           0.18608425776813647,
           0.00009443365203124637,
           -0.1696377128850127,
           -0.323229435070572,
           -0.46082872691774635,
           -0.5826143232251655,
           -0.6887956995769808,
           -0.7796130723428724,
           -0.8553373986780445,
           -0.9162703765232276,
           -0.9627444446046785,
           -0.9951227824341791,
           -1.0137993103090372,
           -1.019198689312086,
           -1.0117763213116864,
           -0.9920183489617214,
           -0.9604416557016037,
           -0.9175938657562691,
           -0.864053344136181,
           -0.8004291966373269,
           -0.7273612698412213,
           -0.6455201511149041,
           -0.5556071686109404,
           -0.45835439126742206,
           -0.3545246288079664,
           -0.24491143174171578,
           -0.13033909136333935,
           -0.011662639753031515,
           0.11023215022348752,
           0.23442876491497117,
           0.3599799498846487,
           0.4859077099102215,
           0.6112033089838671,
           0.734827270312236,
           0.855709376316452,
           0.9727486686321161,
           1.0848134481093012,
           1.1907412748125557
          ],
          [
           0.48952697685384455,
           0.29349242811960435,
           0.11227002884995879,
           -0.05415981401729827,
           -0.20584743432989933,
           -0.34287390672110285,
           -0.4653510466096923,
           -0.5734214101999776,
           -0.6672582944817944,
           -0.7470657372305034,
           -0.8130785170069921,
           -0.8655621531576727,
           -0.9048129058144845,
           -0.9311577758948912,
           -0.9449545051018833,
           -0.9465915759239767,
           -0.9364882116352127,
           -0.9150943762951588,
           -0.8828907747489084,
           -0.8403888526270806,
           -0.7881307963458196,
           -0.7266895331067967,
           -0.6566687308972077,
           -0.5787027984897748,
           -0.4934568854427459,
           -0.40162688209989433,
           -0.30393941959052023,
           -0.2011518698294478,
           -0.09405234551702896,
           0.016540299860860377,
           0.12977647203281706,
           0.2447758359419131,
           0.36062731574569423,
           0.47638909481618097,
           0.5910886157398678,
           0.7037225803177235,
           0.8132569495651896,
           0.9186269437121835,
           1.0187370422030981,
           1.1124609836967978
          ],
          [
           0.38434036157982826,
           0.20998900372310733,
           0.04888994743196214,
           -0.09894022176149644,
           -0.2335156591106825,
           -0.3548812606545371,
           -0.46311266321752537,
           -0.55831624440964,
           -0.6406291226263989,
           -0.7102191570488448,
           -0.767284947643547,
           -0.8120558351626009,
           -0.8447919011436276,
           -0.8657839679097729,
           -0.8753535985697092,
           -0.8738530970176354,
           -0.8616655079332745,
           -0.8392046167818764,
           -0.8069149498142171,
           -0.7652717740665972,
           -0.7147810973608437,
           -0.6559796683043099,
           -0.5894349762898741,
           -0.5157452514959404,
           -0.43553946488643897,
           -0.34947732821082533,
           -0.25824929400408225,
           -0.16257655558671597,
           -0.06321104706476038,
           0.03906455667022603,
           0.14343683994115808,
           0.24906164628542526,
           0.3550640784548917,
           0.4605384984158948,
           0.5645485273492474,
           0.6661270456502361,
           0.7642761929286197,
           0.8579673680086342,
           0.9461412289289893,
           1.027707692942867
          ],
          [
           0.2911089767812988,
           0.13746119038060492,
           -0.004466178039510611,
           -0.13462036435261918,
           -0.2529793452178172,
           -0.3595518380797276,
           -0.45437730116849845,
           -0.5375259334998044,
           -0.6090986748748446,
           -0.6692272058803457,
           -0.7180739478885584,
           -0.7558320630572601,
           -0.7827254543297542,
           -0.799008765434869,
           -0.8049673808869594,
           -0.8009174259859059,
           -0.7872057668171141,
           -0.7642100102515161,
           -0.7323385039455703,
           -0.6920303363412591,
           -0.6437553366660921,
           -0.5880140749331046,
           -0.5253378619408571,
           -0.45628874927343616,
           -0.3814595293004543,
           -0.3014737351770492,
           -0.21698564084388558,
           -0.12868026102715213,
           -0.037273351238564734,
           0.05648859222463547,
           0.15182833227968123,
           0.24793789105828024,
           0.34397854990661364,
           0.4390808493853372,
           0.5323445892695811,
           0.6228388285489497,
           0.7096018854275201,
           0.7916413373238453,
           0.8679340208709542,
           0.937426031916345
          ],
          [
           0.20932162466926196,
           0.07543440708470403,
           -0.04823631179025143,
           -0.1616015892348574,
           -0.26460322331389324,
           -0.3572137528776639,
           -0.43943645756199956,
           -0.511305357788257,
           -0.5728852147633182,
           -0.624271530479591,
           -0.6655905477150095,
           -0.6969992500330329,
           -0.7186853617826464,
           -0.7308673480983611,
           -0.733794414900214,
           -0.7277465088937674,
           -0.7130343175701096,
           -0.6899992692058553,
           -0.6590135328631439,
           -0.6204800183896411,
           -0.5748323764185386,
           -0.5225349983685535,
           -0.4640830164439291,
           -0.40000230363443384,
           -0.3308494737153624,
           -0.2572118812475349,
           -0.17970762157729808,
           -0.09898553083652323,
           -0.01572518594260815,
           0.06936309540152365,
           0.15553825470742277,
           0.24202849270111454,
           0.32803126932309795,
           0.4127133037283466,
           0.49521057428630827,
           0.5746283185809054,
           0.6500410334105319,
           0.7204924747880606,
           0.7849956579408354,
           0.8425328573106743
          ],
          [
           0.1384393347825862,
           0.023406300155874034,
           -0.08288619071818928,
           -0.18031301652453968,
           -0.2687797967336381,
           -0.34822289160147213,
           -0.41860940216955406,
           -0.47993717026492283,
           -0.5322347785001427,
           -0.575561550273304,
           -0.6100075497680225,
           -0.63569358195344,
           -0.6527711925842239,
           -0.6614226682005677,
           -0.6618610361281904,
           -0.6543300644783364,
           -0.6391042621477768,
           -0.6164888788188079,
           -0.5868199049592518,
           -0.5504640718224564,
           -0.507818851447295,
           -0.4593124566581679,
           -0.4054038410649997,
           -0.34658269906324185,
           -0.2833694658338709,
           -0.2163153173433892,
           -0.14600217034382587,
           -0.07304268237273415,
           0.001919748246805502,
           0.07821098240618767,
           0.15512614021128074,
           0.2319296009824275,
           0.30785500325444487,
           0.3821052447766242,
           0.4538524825127313,
           0.5222381326410056,
           0.5863728705541601,
           0.645336630859384,
           0.6981786073783399,
           0.743917253147163
          ],
          [
           0.0778953639880044,
           -0.019153256757550953,
           -0.10890932439338993,
           -0.19121153901013013,
           -0.26592934148391545,
           -0.33296291347641477,
           -0.3922431774348234,
           -0.4437317965918623,
           -0.48742117496577786,
           -0.5233344573603427,
           -0.5515255293648545,
           -0.5720790173541379,
           -0.5851102884885424,
           -0.5907654507139433,
           -0.589221352761742,
           -0.5806855841488658,
           -0.5653964751777673,
           -0.543623096936425,
           -0.5156652612983434,
           -0.4818535209225529,
           -0.44254916925360915,
           -0.398144240521594,
           -0.34906150974211486,
           -0.29575449271630494,
           -0.23870744603082342,
           -0.17843536705785495,
           -0.11548399395511041,
           -0.050429805665825785,
           0.016119978081236535,
           0.08352739677178875,
           0.15112374910601706,
           0.218209592998582,
           0.2840547455786186,
           0.34789828318973537,
           0.4089485413900161,
           0.466383114952018,
           0.5193488578627724,
           0.5669618833237853,
           0.6083075637510375,
           0.6424405307749821
          ],
          [
           0.02709519648011202,
           -0.05280216267937494,
           -0.12682699505805586,
           -0.1947818221522307,
           -0.2564999062437254,
           -0.3118452503998916,
           -0.3607125984736063,
           -0.4030274351032727,
           -0.43874598571282003,
           -0.46785521651170214,
           -0.4903728344949003,
           -0.5063472874429203,
           -0.5158577639217942,
           -0.5190141932830795,
           -0.5159572456638599,
           -0.506858331986745,
           -0.4919196039598694,
           -0.47137395407689414,
           -0.4454850156170059,
           -0.414547162644917,
           -0.3788855100108656,
           -0.33885591335061555,
           -0.294844969085457,
           -0.24727001442220492,
           -0.19657912735320082,
           -0.14325112665631173,
           -0.08779557189493059,
           -0.03075276341797579,
           0.0273062576401082,
           0.08577970935935118,
           0.14403506903425717,
           0.2014090731738047,
           0.25720771750144605,
           0.31070625695510823,
           0.36114920568719205,
           0.40775033706457287,
           0.4496926836685995,
           0.48612853729509636,
           0.5161794489543614,
           0.5389362288711654
          ],
          [
           -0.014583456218631524,
           -0.07812608930553727,
           -0.13718825762652548,
           -0.19153630408357875,
           -0.2409673123642049,
           -0.285309106941438,
           -0.3244202530738372,
           -0.35819005680548816,
           -0.3865385649660017,
           -0.40941656517051495,
           -0.4268055858196905,
           -0.43871789609971695,
           -0.4451965059823081,
           -0.4463151662247042,
           -0.4421783683696709,
           -0.4329213447454998,
           -0.41871006846600817,
           -0.39974125343053923,
           -0.37624235432396164,
           -0.3484715666166701,
           -0.31671782656458497,
           -0.2813008112091526,
           -0.24257093837734495,
           -0.20090936668165948,
           -0.15672799552011996,
           -0.11046946507627559,
           -0.0626071563192013,
           -0.013645191003498147,
           0.03588156833070735,
           0.08540751835776293,
           0.13433631496649012,
           0.1820408732601853,
           0.2278633675566185,
           0.2711152313880345,
           0.311077157501152,
           0.3469990978571641,
           0.3781002636317372,
           0.40356912521501326,
           0.42256341221160854,
           0.4342101134406118
          ],
          [
           -0.047790655257904144,
           -0.0957384810041147,
           -0.1405699396852748,
           -0.18201519560904908,
           -0.21983515386862765,
           -0.2538214603427268,
           -0.28379650169558823,
           -0.3096134053769792,
           -0.33115603962219337,
           -0.34833901345204976,
           -0.3611076766728934,
           -0.36943811987659464,
           -0.3733371744405502,
           -0.3728424125276823,
           -0.36802214708643866,
           -0.3589754318507933,
           -0.34583206134024563,
           -0.3287525708598212,
           -0.3079282365000708,
           -0.2835810751370715,
           -0.2559638444324258,
           -0.22536004283326222,
           -0.192083909572235,
           -0.15648042466752393,
           -0.11892530892283495,
           -0.07982502392739949,
           -0.0396167720559748,
           0.0012315035311559752,
           0.042221118888184,
           0.08282264928377467,
           0.12247592920106758,
           0.16059005233767654,
           0.19654337160568952,
           0.22968349913166922,
           0.2593273062566516,
           0.2847609235361477,
           0.3052397407401424,
           0.31998840685309465,
           0.32820083007393863,
           0.32904017781608075
          ],
          [
           -0.07320423445951996,
           -0.10628055481532048,
           -0.13757664149291587,
           -0.16678648020565287,
           -0.1936347974524039,
           -0.21787706051756736,
           -0.23929947747106728,
           -0.2577189971683533,
           -0.27298330925040093,
           -0.2849708441437116,
           -0.29359077306031267,
           -0.2987830079977568,
           -0.3005182017391227,
           -0.2987977478530149,
           -0.29365378069356357,
           -0.28514917540042467,
           -0.27337754789878005,
           -0.25846325489933736,
           -0.24056139389832967,
           -0.21985780317751633,
           -0.19656906180418207,
           -0.1709424896311376,
           -0.14325614729671937,
           -0.11381883622478961,
           -0.08297009862473617,
           -0.05108021749147296,
           -0.018550216605439353,
           0.014188139467399177,
           0.04667234537555168,
           0.07840915498200121,
           0.10887458136420512,
           0.1375138968140951,
           0.1637416328380769,
           0.18694158015703058,
           0.20646678870631058,
           0.22163956763574513,
           0.23175148530963688,
           0.23606336930676314,
           0.23380530642037478,
           0.22417664265819703
          ],
          [
           -0.09152980031742959,
           -0.11042130045150447,
           -0.12884073598019755,
           -0.14644591402253798,
           -0.16292538248308053,
           -0.17799843005190552,
           -0.19141508620461942,
           -0.20295612120235393,
           -0.21243304609176708,
           -0.21968811270504252,
           -0.22459431365988952,
           -0.2270553823595432,
           -0.22700579299276452,
           -0.2244107605338401,
           -0.21926624074258255,
           -0.21159893016432993,
           -0.2014662661299464,
           -0.18895642675582164,
           -0.17418833094387134,
           -0.1573116383815367,
           -0.13850674954178496,
           -0.11798480568310896,
           -0.09598768884952727,
           -0.07278802187058452,
           -0.04868916836135078,
           -0.024025232722422053,
           0.0008389398600798011,
           0.025507763414507306,
           0.049554911183687156,
           0.07252331562492022,
           0.09392516840998165,
           0.11324192042512078,
           0.1299242817710612,
           0.14339222176300084,
           0.15303496893061136,
           0.15821101101803955,
           0.15824809498390544,
           0.15244322700130403,
           0.14006267245780413,
           0.12034195595544883
          ],
          [
           -0.10350073199772042,
           -0.10885748029715273,
           -0.11502236875000524,
           -0.12161702588098894,
           -0.1282938210003408,
           -0.13473586420382372,
           -0.14065700637272596,
           -0.1458018391738619,
           -0.14994569505957164,
           -0.15289464726772092,
           -0.1544855098217014,
           -0.15458583753043048,
           -0.15309392598835117,
           -0.14993881157543248,
           -0.14508027145716926,
           -0.13850882358458172,
           -0.13024572669421625,
           -0.1203429803081449,
           -0.10888332473396539,
           -0.09598024106480132,
           -0.08177795117930209,
           -0.06645141774164282,
           -0.05020634420152433,
           -0.03327917479417338,
           -0.015937094540342398,
           0.001521970753690401,
           0.018769354496121028,
           0.035445649309619645,
           0.051160707031330716,
           0.06549363871287299,
           0.07799281462033929,
           0.08817586423429676,
           0.09552967624978666,
           0.09951039857632471,
           0.09954343833790061,
           0.09502346187297842,
           0.0853143947344964,
           0.06974942168986697,
           0.047630986720976654,
           0.018230793024186565
          ],
          [
           -0.10987818133861671,
           -0.10231362940888886,
           -0.09680945807736101,
           -0.0929511172744267,
           -0.09035479771600503,
           -0.08866743090354098,
           -0.08756668912400521,
           -0.08676098544989436,
           -0.08598947373923065,
           -0.08502204863556213,
           -0.08365934556796263,
           -0.08173274075103178,
           -0.07910435118489498,
           -0.07566703465520339,
           -0.07134438973313391,
           -0.06609075577538927,
           -0.05989121292419795,
           -0.05276158210731423,
           -0.04474842503801813,
           -0.035929044215115474,
           -0.026411482922937834,
           -0.016334525231342597,
           -0.005867695995712872,
           0.004788739143042407,
           0.01540377375848856,
           0.025715660638665122,
           0.03543191178608586,
           0.044229298417738754,
           0.051753850965086,
           0.05762085907406407,
           0.06141487160508359,
           0.06268969663302947,
           0.0609684014472608,
           0.05574331255161097,
           0.046476015664387416,
           0.03259735571837194,
           0.01350743686082076,
           -0.011424377546535913,
           -0.042859464927494095,
           -0.08148994349137473
          ],
          [
           -0.11145107285047903,
           -0.0915420555154722,
           -0.07491769490942365,
           -0.061127262368409055,
           -0.04975077001402979,
           -0.0403989707534131,
           -0.03271335827921192,
           -0.026366167069604995,
           -0.02106037238829686,
           -0.016529690284517805,
           -0.0125385775930239,
           -0.008882231934096995,
           -0.005386591713544708,
           -0.0019083361227004347,
           0.0016651148615766506,
           0.005415600476901601,
           0.009394219175363696,
           0.013621328623526432,
           0.018086545702427556,
           0.022748746507578986,
           0.027536066348966923,
           0.03234589975105177,
           0.03704490045276815,
           0.0414689814075249,
           0.045423314783205104,
           0.04868233196216607,
           0.050989723541239346,
           0.052058439331730634,
           0.0515706883594199,
           0.0491779388645614,
           0.04450091830188353,
           0.03712961334058898,
           0.02662326986435455,
           0.012510392971331413,
           -0.005711253025855206,
           -0.02857464460010578,
           -0.05664349900984625,
           -0.0905122742990288,
           -0.1308061692971314,
           -0.17818112361915756
          ],
          [
           -0.10903610371580466,
           -0.07732283901779916,
           -0.050090542865488405,
           -0.026852308000630317,
           -0.007151967950508539,
           0.00943590297206751,
           0.02330598966876262,
           0.03482223625571579,
           0.044317846063540285,
           0.052095281637323555,
           0.05842626473662735,
           0.06355177633548749,
           0.06768205662241421,
           0.07099660500039182,
           0.07364418008687894,
           0.07574279971380836,
           0.07737974092758715,
           0.07861153998909656,
           0.07946399237369212,
           0.07993215277120348,
           0.07998033508593465,
           0.07954211243666369,
           0.07852031715664311,
           0.07678704079359946,
           0.07418363410973362,
           0.07052070708172063,
           0.06557812890070981,
           0.05910502797232458,
           0.05081979191666279,
           0.04041006756829635,
           0.027532760976271442,
           0.011814037404108566,
           -0.00715067867019778,
           -0.029796703554178558,
           -0.056590094340890934,
           -0.08802764890891757,
           -0.1246369059223665,
           -0.16697614483087225,
           -0.2156343858695951,
           -0.27123139005922065
          ],
          [
           -0.10347774378922761,
           -0.06046383298890269,
           -0.023099238236987285,
           0.009139126319078476,
           0.03674360574632872,
           0.06017580432627183,
           0.07986658555489029,
           0.0962160721426409,
           0.1095936460144547,
           0.1203379483097369,
           0.12875687938236696,
           0.13512759880069858,
           0.1396965253475596,
           0.14267933702025226,
           0.14426097103055277,
           0.1445956238047118,
           0.14380675098345425,
           0.141987067421979,
           0.1391985471899593,
           0.1354724235715428,
           0.130809189065351,
           0.12517859538447998,
           0.11851965345649985,
           0.11074063342345489,
           0.1017190646418639,
           0.09130173568271956,
           0.07930469433148896,
           0.06551324758811339,
           0.049681961667008334,
           0.031534661997063534,
           0.010764433221642944,
           -0.012966380801415212,
           -0.04002617699979859,
           -0.07081409308672046,
           -0.10576000756092024,
           -0.14532453970666284,
           -0.1899990495937384,
           -0.24030563807746377,
           -0.2967971467986815,
           -0.36005715818375944
          ],
          [
           -0.09564823559751842,
           -0.041800663173952375,
           0.005257210012511039,
           0.04608464840874978,
           0.08121017567611545,
           0.11113157469043429,
           0.13631588754200655,
           0.15719941553560682,
           0.1741877191904838,
           0.18765561824036056,
           0.19794719163343438,
           0.2053757775323765,
           0.21022397331433276,
           0.21274363557092307,
           0.21315588010824146,
           0.2116510819468563,
           0.20838887532181022,
           0.20349815368261992,
           0.19707706969327649,
           0.18919303523224512,
           0.1798827213924653,
           0.1691520584813508,
           0.1569762360207894,
           0.14329970274714335,
           0.128036166611249,
           0.11106859477841692,
           0.09224921362843191,
           0.07139950875555309,
           0.0483102249685136,
           0.022741366290521106,
           -0.005577804040742838,
           -0.036948763573122156,
           -0.07170373063998682,
           -0.11020566436023221,
           -0.1528482646382801,
           -0.20005597216407756,
           -0.2522839684130969,
           -0.3100181756463374,
           -0.37377525691032376,
           -0.444102616037106
          ],
          [
           -0.08644759433958424,
           -0.02219672799025451,
           0.03415202024730154,
           0.08319409341427925,
           0.12549419376634827,
           0.16158628277365264,
           0.19197358112080998,
           0.21712856870691302,
           0.23749298464552812,
           0.2534778272646963,
           0.2654633541069321,
           0.2737990819292249,
           0.27880378670303835,
           0.28076550361430985,
           0.27994152706345155,
           0.2765584106653493,
           0.27081196724936357,
           0.2628672688593288,
           0.25285864675355413,
           0.24088969140482197,
           0.22703325250039003,
           0.21133143894198964,
           0.1937956188458264,
           0.17440641954258027,
           0.1531137275774054,
           0.1298366887099302,
           0.1044637079142571,
           0.07685244937896316,
           0.0468298365070991,
           0.01419205191619035,
           -0.021295462561763595,
           -0.059898005880289026,
           -0.10191161777843807,
           -0.14766307878078855,
           -0.19750991019744413,
           -0.2518403741240345,
           -0.3110734734417139,
           -0.37565895181716386,
           -0.4460772937025915,
           -0.5228397243357289
          ],
          [
           -0.0768036078864692,
           -0.002543198527251815,
           0.06273063815954222,
           0.11964952380942617,
           0.16881433927238745,
           0.2107952246128877,
           0.24613157910986283,
           0.2753320612567228,
           0.2988745887613519,
           0.31720633854610897,
           0.3307437467478262,
           0.33987250871781105,
           0.3449475790218445,
           0.34629317144018185,
           0.3442027589675532,
           0.3389390738131619,
           0.33073410740068643,
           0.31978911036827895,
           0.30627459256856604,
           0.29033032306864837,
           0.27206533015010104,
           0.2515579013089734,
           0.22885558325578867,
           0.20397518191554462,
           0.17690276242771305,
           0.1475936491462403,
           0.11597242563954649,
           0.08193293469052634,
           0.0453382782965486,
           0.0060208176694562104,
           -0.03621782676443351,
           -0.08160677536432898,
           -0.13040588927496466,
           -0.1829057704266005,
           -0.2394277615350226,
           -0.3003239461015427,
           -0.36597714841299733,
           -0.4368009335417505,
           -0.5132396073456911,
           -0.5957682164682339
          ],
          [
           -0.06767183678135333,
           0.016240981453476057,
           0.09011073676925449,
           0.15460522939581278,
           0.21036151877745632,
           0.2579859235729644,
           0.29805402165559036,
           0.3311106501130624,
           0.3576699052475826,
           0.37821514257582695,
           0.3931989768289462,
           0.40304328195256495,
           0.4081391911067824,
           0.4088470966661713,
           0.4054966502197795,
           0.3983867625711285,
           0.3877856037382141,
           0.3739306029535063,
           0.3570284486639497,
           0.33725508853096253,
           0.3147557294304378,
           0.28964483745274233,
           0.26200613790271743,
           0.2318926152996785,
           0.1993265133774151,
           0.16429933508419126,
           0.12677184258274518,
           0.08667405725028884,
           0.04390525967850922,
           -0.0016660103264332649,
           -0.05020195374390336,
           -0.10189551233879188,
           -0.15697036866151537,
           -0.21568094604801613,
           -0.2783124086197624,
           -0.34518066128374836,
           -0.4166323497324924,
           -0.4930448604440409,
           -0.5748263206819655,
           -0.6624155984953624
          ],
          [
           -0.06003561423955392,
           0.03320909551821329,
           0.11538221642432345,
           0.18718772730292543,
           0.24929886619264208,
           0.3023581303465702,
           0.34697727623228175,
           0.3837373195318219,
           0.4131885351417109,
           0.4358504571729425,
           0.45221187895098497,
           0.46273085301578076,
           0.4678346911217469,
           0.467919964237774,
           0.4633525025472275,
           0.4544673954479467,
           0.4415689915522452,
           0.4249308986869108,
           0.40479598389320587,
           0.38137637342686626,
           0.3548534527581028,
           0.3253778665716003,
           0.2930695187665174,
           0.2580175724564877,
           0.2202804499696183,
           0.17988583284849097,
           0.13683066185016177,
           0.09108113694616049,
           0.0425727173224916,
           -0.008789878620366329,
           -0.06313267326746058,
           -0.12061242978936414,
           -0.18141665214217573,
           -0.24576358506751977,
           -0.31390221409254704,
           -0.3861122655299336,
           -0.4627042064778807,
           -0.544019244820116,
           -0.630429329225894,
           -0.7223371491499933
          ],
          [
           -0.0549060461485249,
           0.04738665456110682,
           0.13760720480049707,
           0.21649576198811257,
           0.28476174275689414,
           0.3430838229542563,
           0.3921099376420886,
           0.4324572810967544,
           0.46471230680909087,
           0.48943072748441013,
           0.5071375150424982,
           0.5183269006176153,
           0.5234623745584959,
           0.5229766864283488,
           0.5172718450048569,
           0.5067191182801772,
           0.4916590334609417,
           0.47240137696825524,
           0.44922519443769815,
           0.4223787907193244,
           0.392079729877662,
           0.35851483519171384,
           0.32184018915495644,
           0.2821811334753409,
           0.23963226907529234,
           0.19425745609171008,
           0.14608981387596803,
           0.0951317209939137,
           0.04135481522586951,
           -0.015300006433368443,
           -0.07492258777452952,
           -0.1376335133738691,
           -0.203584108593168,
           -0.27295643957973287,
           -0.34596331326639695,
           -0.4228482773715184,
           -0.5038856203989801,
           -0.589380371638193,
           -0.6796683011640935,
           -0.7751159198371419
          ],
          [
           -0.053322011067856334,
           0.05777139680416742,
           0.1558200569013872,
           0.2416003052365876,
           0.31585773703702674,
           0.3793072067444376,
           0.4326328280150273,
           0.47648797371947615,
           0.5114952759429401,
           0.5382466259850487,
           0.5573031743599058,
           0.5691953307960889,
           0.5744227642366513,
           0.5734544028391184,
           0.5667284339754914,
           0.5546523042322452,
           0.537602719410329,
           0.5159256445251663,
           0.4899363038066544,
           0.45991918069916526,
           0.426128017861545,
           0.3887858171671137,
           0.3480848397036661,
           0.3041866057734708,
           0.2572218948932707,
           0.20729074579428314,
           0.15446245642219938,
           0.09877558393718519,
           0.04023794471388037,
           -0.02117338565860105,
           -0.08551207237667076,
           -0.1528625214222662,
           -0.22333987956285062,
           -0.2970900343514131,
           -0.37428961412646844,
           -0.4551459880120575,
           -0.5398972659177457,
           -0.6288122985386256,
           -0.7221906773553162,
           -0.8203627346339599
          ],
          [
           -0.05635016022927533,
           0.06333328779726893,
           0.16902735505846855,
           0.261544556161426,
           0.3416666649277168,
           0.41014471439339184,
           0.46769899680897586,
           0.5150190636394675,
           0.5527637255643398,
           0.5815610524775401,
           0.6020083734874904,
           0.614672276917086,
           0.6200886103036974,
           0.6187624803991686,
           0.6111682531698178,
           0.5977495537964381,
           0.5789192666742965,
           0.5550595354131337,
           0.5265217628371653,
           0.49362661098508087,
           0.45666400111004435,
           0.4158931136796935,
           0.37154238837614084,
           0.32380952409597286,
           0.2728614789502501,
           0.21883447026450775,
           0.16183397457875462,
           0.10193472764747447,
           0.03918072443962481,
           -0.026414780861362702,
           -0.09486927485758166,
           -0.16623098493665223,
           -0.2405788792717194,
           -0.31802266682145486,
           -0.3987027973300553,
           -0.4827904613272441,
           -0.570487590128269,
           -0.6620268558339044,
           -0.7576716713304517,
           -0.857716190289736
          ],
          [
           -0.06508491753664558,
           0.0630145204181492,
           0.17620790893108007,
           0.27534394120356714,
           0.3612405696515047,
           0.43468500590526066,
           0.49643372080967724,
           0.5472124444240712,
           0.5877161660222338,
           0.6186091340924296,
           0.6405248563373985,
           0.6540660996743537,
           0.6598048902349829,
           0.6582825133654485,
           0.6500095136263866,
           0.6354656947929073,
           0.6151001198545957,
           0.5893311110155105,
           0.5585462496941849,
           0.5231023765236262,
           0.4833255913513162,
           0.43951125323921036,
           0.39192398046373905,
           0.3407976505158065,
           0.2863354001007908,
           0.22870962513854498,
           0.16806198076339576,
           0.10450338132414463,
           0.03811400038406684,
           -0.03105672927908816,
           -0.10299011567309631,
           -0.17769820759125982,
           -0.255223794612406,
           -0.33564040710088894,
           -0.41905231620658734,
           -0.505594533864907,
           -0.5954328127967777,
           -0.6887636465086566,
           -0.7858142692925261,
           -0.8868426562258948
          ],
          [
           -0.08064847956596699,
           0.05572951487240834,
           0.17631275550642286,
           0.28198611413181424,
           0.3736037217587939,
           0.45198896861204807,
           0.5179345041307367,
           0.5722022369684948,
           0.6155233349934303,
           0.6485982252881259,
           0.6720965941496397,
           0.6866573870895023,
           0.6928888088337194,
           0.691368323322771,
           0.6826426537116109,
           0.6672277823696672,
           0.6456089508808425,
           0.6182406600435134,
           0.5855466698705311,
           0.5479199995892199,
           0.5057229276413803,
           0.4592869916832849,
           0.40891298858568226,
           0.3548709744337937,
           0.2974002645273159,
           0.23670943338041922,
           0.17297631472174832,
           0.1063480014944222,
           0.03694084585603388,
           -0.03515954082134902,
           -0.10989828795118516,
           -0.1872512657324587,
           -0.2672250851496794,
           -0.3498570979728831,
           -0.43521539675763155,
           -0.5233988148450122,
           -0.6145369263616366,
           -0.708790046219645,
           -0.8063492301167022,
           -0.9074362745359982
          ],
          [
           -0.10419081556537729,
           0.04036491869351102,
           0.16826515909956222,
           0.2804309560428327,
           0.37775261912785163,
           0.4610897171736226,
           0.5312710782136238,
           0.5890947894958073,
           0.6353281974825993,
           0.670707907850901,
           0.695939785492087,
           0.7116989545120059,
           0.7186297982309818,
           0.7173459591838119,
           0.7084303391197678,
           0.6924350990025956,
           0.6698816590105157,
           0.6412606985362223,
           0.607032156186884,
           0.5676252297841439,
           0.5234383763641193,
           0.47483931217740094,
           0.42216501268905493,
           0.3657217125786206,
           0.30578490574011236,
           0.24259934528201826,
           0.17637904352730074,
           0.10730727201339668,
           0.03553656149221668,
           -0.0388112980698538,
           -0.11564525749195566,
           -0.1949050083787553,
           -0.2765609831204446,
           -0.36061435489274185,
           -0.4470970376568908,
           -0.5360716861596615,
           -0.6276316959333477,
           -0.7219012032957712,
           -0.8190350853502797,
           -0.9192189599857449
          ],
          [
           -0.13688966745514883,
           0.015779606742784412,
           0.1509606113534267,
           0.26961057536115235,
           0.37265598696480823,
           0.4609925935777156,
           0.5354854018276706,
           0.5969686775569429,
           0.6462459458222766,
           0.6840899908948901,
           0.7112428562604766,
           0.7284158446192022,
           0.7362895178857084,
           0.7355136971891103,
           0.7267074628729976,
           0.710459154495434,
           0.6873263708289574,
           0.6578359698605803,
           0.6224840687917886,
           0.5817360440385434,
           0.5360265312312794,
           0.48575942521490545,
           0.4313078800488054,
           0.3730143090068366,
           0.3111903845773304,
           0.2461170384630934,
           0.17804446158140552,
           0.10719210406402141,
           0.0337486752571694,
           -0.042127856278447215,
           -0.12031026276765162,
           -0.2007020572207922,
           -0.28323749343374366,
           -0.3678815659879059,
           -0.4546300102502054,
           -0.5435093023730938,
           -0.6345766592945481,
           -0.7279200387380709,
           -0.8236581392126942,
           -0.9219404000129701
          ],
          [
           -0.17995054982769246,
           -0.019195318790580874,
           0.12326683123880791,
           0.24842930783916578,
           0.35725477780365694,
           0.4506751671399216,
           0.5295916610700725,
           0.5948747040306975,
           0.6473639996728585,
           0.6878685108620918,
           0.7171664596784078,
           0.736005327416291,
           0.7451018545847004,
           0.7451420409070689,
           0.7367811453213037,
           0.7206436859797867,
           0.6973234402493733,
           0.6673834447113938,
           0.631355995161652,
           0.5897426466104263,
           0.54301421328247,
           0.491610768617009,
           0.43594164526774515,
           0.37638543510285344,
           0.3132899892049832,
           0.24697241787125884,
           0.1777190906132778,
           0.10578563615711245,
           0.03139694244330918,
           -0.0452528433731111,
           -0.12400031492265375,
           -0.20471280662134989,
           -0.28728839367075537,
           -0.3716558920579536,
           -0.45777485855555206,
           -0.5456355907216855,
           -0.635259126900013,
           -0.7266972462197199,
           -0.8200324685955183,
           -0.9153780547276451
          ],
          [
           -0.23460674994755518,
           -0.06575652838953042,
           0.08402376505436118,
           0.21576371655712978,
           0.3304621715062563,
           0.4290872345036993,
           0.5125762693658895,
           0.5818358991237322,
           0.6377420060226074,
           0.6811397315223688,
           0.7128434762973447,
           0.7336369002363374,
           0.7442729224426237,
           0.7454737212339543,
           0.7379307341425542,
           0.7223046579151225,
           0.699225448512833,
           0.6692923211113335,
           0.6330737501007456,
           0.5911074690856658,
           0.5439004708851646,
           0.49192900753278596,
           0.4356385902765497,
           0.37544398957894803,
           0.3117292351169485,
           0.2448476157819931,
           0.175121679679997,
           0.10284323413135044,
           0.02827334567091763,
           -0.048357659951962936,
           -0.12685019777347872,
           -0.207035423615343,
           -0.2887752340847943,
           -0.37196226657459763,
           -0.4565198992630432,
           -0.5424022511139484,
           -0.6295941818766527,
           -0.7181112920860258,
           -0.8079999230624616,
           -0.8993371569118778
          ],
          [
           -0.3021193277514196,
           -0.12512846520914625,
           0.03204358642660559,
           0.17046259192316307,
           0.29116357526232606,
           0.39515081964037013,
           0.48339786746804403,
           0.5568475203705705,
           0.6164118391876472,
           0.6629721439734463,
           0.6973790139966135,
           0.7204522877402686,
           0.7329810629020065,
           0.7357236963938957,
           0.7294078043424783,
           0.7147302620887722,
           0.6923572041882685,
           0.6629240244109326,
           0.6270353757412038,
           0.5852651703779967,
           0.5381565797346993,
           0.48622203443917367,
           0.4299432243337569,
           0.36977109847525935,
           0.3061258651349663,
           0.23939699179863705,
           0.1699432051665052,
           0.09809249115327842,
           0.02414209488813859,
           -0.05164147928525782,
           -0.12902246780878057,
           -0.20779584790982525,
           -0.28778733760131264,
           -0.36885339568169007,
           -0.45088122173492956,
           -0.5337887561305306,
           -0.6175246800235165,
           -0.702068415354437,
           -0.7874301248493688,
           -0.8736507120199137
          ],
          [
           -0.383777115848106,
           -0.1985633450766476,
           -0.03388930369007757,
           0.1113469516732492,
           0.23821662358945006,
           0.34776017384911867,
           0.4409873234573209,
           0.5188770526335984,
           0.5823776008119659,
           0.6324064666409129,
           0.6698504079834035,
           0.6955654419168751,
           0.7103768447332403,
           0.7150791519388853,
           0.7104361582546704,
           0.6971809176159307,
           0.6760157431724751,
           0.6476122072885874,
           0.6126111415430241,
           0.5716226367290175,
           0.5252260428542737,
           0.47396996914097234,
           0.4183722840257682,
           0.35892011515978983,
           0.29606984940863973,
           0.23024713285239534,
           0.16184687078560775,
           0.09123322771730258,
           0.018739627370979558,
           -0.05533124731538734,
           -0.13070745418935015,
           -0.20714779188398608,
           -0.28444179981789924,
           -0.3624097581952178,
           -0.44090268800559734,
           -0.5198023510242187,
           -0.5990212498117874,
           -0.6785026277145367,
           -0.7582204688642241,
           -0.8381794981781339
          ],
          [
           -0.4808967195185719,
           -0.28734115649139097,
           -0.11501827701344317,
           0.03721004087123376,
           0.17045117833307563,
           0.28578177575699315,
           0.3842477327423706,
           0.4668642081030666,
           0.5346156198674141,
           0.5884556452782209,
           0.629307220792768,
           0.6580625420828113,
           0.6755830640345805,
           0.6826995007487798,
           0.6802118255405873,
           0.6688892709396562,
           0.6494703286901127,
           0.6226627497505582,
           0.5891435442940677,
           0.5495589817081906,
           0.504524590594951,
           0.4546251587708463,
           0.4004147332668491,
           0.3424166203284056,
           0.28112338541543624,
           0.21699685320233608,
           0.150468107577974,
           0.08193749164569339,
           0.011774607723311594,
           -0.05968168265687927,
           -0.13212325874811376,
           -0.2052727405891514,
           -0.2788834890042781,
           -0.352739605603305,
           -0.42665593278156905,
           -0.5004780537199341,
           -0.5740822923847875,
           -0.6473757135280447,
           -0.7202961226871455,
           -0.7928120661850566
          ],
          [
           -0.59482251671591,
           -0.3927696606248678,
           -0.21261447793338242,
           -0.05318266809117316,
           0.08666932866651303,
           0.20805433131890488,
           0.3120544180597046,
           0.3997209262970884,
           0.4720744526537073,
           0.5301048529666857,
           0.5747712422876238,
           0.6070019948825944,
           0.6276947442321452,
           0.6377163830312985,
           0.6379030631895499,
           0.62906019583087,
           0.6119624512937032,
           0.5873537591309685,
           0.5559473081100588,
           0.5184255462128411,
           0.4754401806356573,
           0.4276121777893228,
           0.37553176329912763,
           0.319758422004836,
           0.26082089796068597,
           0.19921719443539032,
           0.13541457391213593,
           0.0698495580885837,
           0.0029279278768688487,
           -0.06497527659639878,
           -0.13351575599013582,
           -0.20237995174878404,
           -0.27128504610231197,
           -0.3399789620662128,
           -0.4082403634415052,
           -0.4758786548147358,
           -0.5427339815579748,
           -0.6086772298288181,
           -0.6736100265703896,
           -0.737464739511337
          ],
          [
           -0.7269266580653491,
           -0.5161843913207066,
           -0.3279768235119221,
           -0.1610934754943976,
           -0.014354608909062285,
           0.11338877381763039,
           0.2232549294737006,
           0.3163313740616419,
           0.39367488279842333,
           0.45631149011548755,
           0.5052364896587517,
           0.5414144342886064,
           0.5657791360799178,
           0.5792336663220253,
           0.5826503555187423,
           0.5768707933883576,
           0.5627058288636332,
           0.5409355700918058,
           0.512309384434586,
           0.47754589846815876,
           0.43733299798318337,
           0.3923278279847934,
           0.3431567926925966,
           0.2904155555406744,
           0.23466903917758347,
           0.17645142546635367,
           0.11626615548449004,
           0.054585929523971226,
           -0.008147292908750079,
           -0.0715222930927462,
           -0.1351585930926157,
           -0.19870645575848322,
           -0.2618468847259986,
           -0.32429162441633796,
           -0.385783160036202,
           -0.4460947175778194,
           -0.5050302638189426,
           -0.5624245063228501,
           -0.618142893438348,
           -0.6720816142997661
          ],
          [
           -0.8786090668642572,
           -0.6589486550946734,
           -0.46243200348322794,
           -0.28781245429100444,
           -0.13387409056461386,
           0.0005682638638071329,
           0.11666904437659668,
           0.2155519455705668,
           0.29830992125700334,
           0.3660051844616676,
           0.41966920742479374,
           0.46030272160109076,
           0.48887571765974214,
           0.506327445484405,
           0.5135664141732114,
           0.5114703920387668,
           0.5008864066081513,
           0.4826307446229194,
           0.4574889520390998,
           0.4262158340271947,
           0.38953545497218156,
           0.3481411384735114,
           0.30269546734510977,
           0.2538302836153764,
           0.20214668852718473,
           0.14821504253788342,
           0.0925749653192946,
           0.03573533575771475,
           -0.021825708046085333,
           -0.07966076877686055,
           -0.13735318990489137,
           -0.19451705568598493,
           -0.25079719116147303,
           -0.30586916215821447,
           -0.35943927528859193,
           -0.41124457795051683,
           -0.46105285832742315,
           -0.5086626453882719,
           -0.5539032088875507,
           -0.596634559365272
          ],
          [
           -1.0512974390821375,
           -0.8224535311346717,
           -0.6173344802536014,
           -0.43465745010569373,
           -0.27317034514324157,
           -0.13165181060406392,
           -0.00891123251150481,
           0.09621126232556572,
           0.18484480631275166,
           0.258087791070131,
           0.31700786743225634,
           0.36264194544815476,
           0.3959961943813269,
           0.4180460427097478,
           0.42973617812586723,
           0.43198054753660875,
           0.42566235706336997,
           0.41163407204202307,
           0.39071741702291457,
           0.36370337577086476,
           0.33135219126516835,
           0.29439336569959457,
           0.25352566048238634,
           0.2094170962362614,
           0.1627049527984111,
           0.11399576922050138,
           0.0638653437686725,
           0.01285873392353861,
           -0.03850974361981166,
           -0.08975651295181529,
           -0.14042873894843577,
           -0.19010432727116144,
           -0.23839192436700707,
           -0.2849309174685132,
           -0.3293914345937449,
           -0.3714743445462956,
           -0.4109112569152822,
           -0.447464522075348,
           -0.48092723118666203,
           -0.5111232161949189
          ],
          [
           -1.2464472433606297,
           -1.0081178713007388,
           -0.7940664889014806,
           -0.6029740812353027,
           -0.43355237416018133,
           -0.28454383431961744,
           -0.15472166914263694,
           -0.042889826843793,
           0.05211700357683654,
           0.13143339233364765,
           0.19616316885551066,
           0.24737942178576997,
           0.28612449898224446,
           0.313410007517227,
           0.3302168136774847,
           0.3374950429642591,
           0.3361640800932656,
           0.32711256899469415,
           0.311198412813209,
           0.289248773907948,
           0.26206007385252417,
           0.23039799343502387,
           0.1949974726580083,
           0.15656271073851263,
           0.11576716610804608,
           0.07325355641259247,
           0.02963385851260955,
           -0.014510691516970327,
           -0.05862959838674106,
           -0.10220310759282229,
           -0.14474220541685895,
           -0.1857886189260219,
           -0.22491481597300855,
           -0.2617240051960411,
           -0.2958501360188673,
           -0.3269578986507621,
           -0.3547427240865264,
           -0.3789307841064827,
           -0.3992789912764848,
           -0.4155749989479103
          ]
         ]
        }
       ],
       "layout": {
        "legend": {
         "tracegroupgap": 0
        },
        "margin": {
         "t": 60
        },
        "scene": {
         "domain": {
          "x": [
           0,
           1
          ],
          "y": [
           0,
           1
          ]
         },
         "xaxis": {
          "title": {
           "text": "x"
          }
         },
         "yaxis": {
          "title": {
           "text": "y"
          }
         },
         "zaxis": {
          "title": {
           "text": "z"
          }
         }
        },
        "template": {
         "data": {
          "bar": [
           {
            "error_x": {
             "color": "#2a3f5f"
            },
            "error_y": {
             "color": "#2a3f5f"
            },
            "marker": {
             "line": {
              "color": "#E5ECF6",
              "width": 0.5
             },
             "pattern": {
              "fillmode": "overlay",
              "size": 10,
              "solidity": 0.2
             }
            },
            "type": "bar"
           }
          ],
          "barpolar": [
           {
            "marker": {
             "line": {
              "color": "#E5ECF6",
              "width": 0.5
             },
             "pattern": {
              "fillmode": "overlay",
              "size": 10,
              "solidity": 0.2
             }
            },
            "type": "barpolar"
           }
          ],
          "carpet": [
           {
            "aaxis": {
             "endlinecolor": "#2a3f5f",
             "gridcolor": "white",
             "linecolor": "white",
             "minorgridcolor": "white",
             "startlinecolor": "#2a3f5f"
            },
            "baxis": {
             "endlinecolor": "#2a3f5f",
             "gridcolor": "white",
             "linecolor": "white",
             "minorgridcolor": "white",
             "startlinecolor": "#2a3f5f"
            },
            "type": "carpet"
           }
          ],
          "choropleth": [
           {
            "colorbar": {
             "outlinewidth": 0,
             "ticks": ""
            },
            "type": "choropleth"
           }
          ],
          "contour": [
           {
            "colorbar": {
             "outlinewidth": 0,
             "ticks": ""
            },
            "colorscale": [
             [
              0,
              "#0d0887"
             ],
             [
              0.1111111111111111,
              "#46039f"
             ],
             [
              0.2222222222222222,
              "#7201a8"
             ],
             [
              0.3333333333333333,
              "#9c179e"
             ],
             [
              0.4444444444444444,
              "#bd3786"
             ],
             [
              0.5555555555555556,
              "#d8576b"
             ],
             [
              0.6666666666666666,
              "#ed7953"
             ],
             [
              0.7777777777777778,
              "#fb9f3a"
             ],
             [
              0.8888888888888888,
              "#fdca26"
             ],
             [
              1,
              "#f0f921"
             ]
            ],
            "type": "contour"
           }
          ],
          "contourcarpet": [
           {
            "colorbar": {
             "outlinewidth": 0,
             "ticks": ""
            },
            "type": "contourcarpet"
           }
          ],
          "heatmap": [
           {
            "colorbar": {
             "outlinewidth": 0,
             "ticks": ""
            },
            "colorscale": [
             [
              0,
              "#0d0887"
             ],
             [
              0.1111111111111111,
              "#46039f"
             ],
             [
              0.2222222222222222,
              "#7201a8"
             ],
             [
              0.3333333333333333,
              "#9c179e"
             ],
             [
              0.4444444444444444,
              "#bd3786"
             ],
             [
              0.5555555555555556,
              "#d8576b"
             ],
             [
              0.6666666666666666,
              "#ed7953"
             ],
             [
              0.7777777777777778,
              "#fb9f3a"
             ],
             [
              0.8888888888888888,
              "#fdca26"
             ],
             [
              1,
              "#f0f921"
             ]
            ],
            "type": "heatmap"
           }
          ],
          "heatmapgl": [
           {
            "colorbar": {
             "outlinewidth": 0,
             "ticks": ""
            },
            "colorscale": [
             [
              0,
              "#0d0887"
             ],
             [
              0.1111111111111111,
              "#46039f"
             ],
             [
              0.2222222222222222,
              "#7201a8"
             ],
             [
              0.3333333333333333,
              "#9c179e"
             ],
             [
              0.4444444444444444,
              "#bd3786"
             ],
             [
              0.5555555555555556,
              "#d8576b"
             ],
             [
              0.6666666666666666,
              "#ed7953"
             ],
             [
              0.7777777777777778,
              "#fb9f3a"
             ],
             [
              0.8888888888888888,
              "#fdca26"
             ],
             [
              1,
              "#f0f921"
             ]
            ],
            "type": "heatmapgl"
           }
          ],
          "histogram": [
           {
            "marker": {
             "pattern": {
              "fillmode": "overlay",
              "size": 10,
              "solidity": 0.2
             }
            },
            "type": "histogram"
           }
          ],
          "histogram2d": [
           {
            "colorbar": {
             "outlinewidth": 0,
             "ticks": ""
            },
            "colorscale": [
             [
              0,
              "#0d0887"
             ],
             [
              0.1111111111111111,
              "#46039f"
             ],
             [
              0.2222222222222222,
              "#7201a8"
             ],
             [
              0.3333333333333333,
              "#9c179e"
             ],
             [
              0.4444444444444444,
              "#bd3786"
             ],
             [
              0.5555555555555556,
              "#d8576b"
             ],
             [
              0.6666666666666666,
              "#ed7953"
             ],
             [
              0.7777777777777778,
              "#fb9f3a"
             ],
             [
              0.8888888888888888,
              "#fdca26"
             ],
             [
              1,
              "#f0f921"
             ]
            ],
            "type": "histogram2d"
           }
          ],
          "histogram2dcontour": [
           {
            "colorbar": {
             "outlinewidth": 0,
             "ticks": ""
            },
            "colorscale": [
             [
              0,
              "#0d0887"
             ],
             [
              0.1111111111111111,
              "#46039f"
             ],
             [
              0.2222222222222222,
              "#7201a8"
             ],
             [
              0.3333333333333333,
              "#9c179e"
             ],
             [
              0.4444444444444444,
              "#bd3786"
             ],
             [
              0.5555555555555556,
              "#d8576b"
             ],
             [
              0.6666666666666666,
              "#ed7953"
             ],
             [
              0.7777777777777778,
              "#fb9f3a"
             ],
             [
              0.8888888888888888,
              "#fdca26"
             ],
             [
              1,
              "#f0f921"
             ]
            ],
            "type": "histogram2dcontour"
           }
          ],
          "mesh3d": [
           {
            "colorbar": {
             "outlinewidth": 0,
             "ticks": ""
            },
            "type": "mesh3d"
           }
          ],
          "parcoords": [
           {
            "line": {
             "colorbar": {
              "outlinewidth": 0,
              "ticks": ""
             }
            },
            "type": "parcoords"
           }
          ],
          "pie": [
           {
            "automargin": true,
            "type": "pie"
           }
          ],
          "scatter": [
           {
            "fillpattern": {
             "fillmode": "overlay",
             "size": 10,
             "solidity": 0.2
            },
            "type": "scatter"
           }
          ],
          "scatter3d": [
           {
            "line": {
             "colorbar": {
              "outlinewidth": 0,
              "ticks": ""
             }
            },
            "marker": {
             "colorbar": {
              "outlinewidth": 0,
              "ticks": ""
             }
            },
            "type": "scatter3d"
           }
          ],
          "scattercarpet": [
           {
            "marker": {
             "colorbar": {
              "outlinewidth": 0,
              "ticks": ""
             }
            },
            "type": "scattercarpet"
           }
          ],
          "scattergeo": [
           {
            "marker": {
             "colorbar": {
              "outlinewidth": 0,
              "ticks": ""
             }
            },
            "type": "scattergeo"
           }
          ],
          "scattergl": [
           {
            "marker": {
             "colorbar": {
              "outlinewidth": 0,
              "ticks": ""
             }
            },
            "type": "scattergl"
           }
          ],
          "scattermapbox": [
           {
            "marker": {
             "colorbar": {
              "outlinewidth": 0,
              "ticks": ""
             }
            },
            "type": "scattermapbox"
           }
          ],
          "scatterpolar": [
           {
            "marker": {
             "colorbar": {
              "outlinewidth": 0,
              "ticks": ""
             }
            },
            "type": "scatterpolar"
           }
          ],
          "scatterpolargl": [
           {
            "marker": {
             "colorbar": {
              "outlinewidth": 0,
              "ticks": ""
             }
            },
            "type": "scatterpolargl"
           }
          ],
          "scatterternary": [
           {
            "marker": {
             "colorbar": {
              "outlinewidth": 0,
              "ticks": ""
             }
            },
            "type": "scatterternary"
           }
          ],
          "surface": [
           {
            "colorbar": {
             "outlinewidth": 0,
             "ticks": ""
            },
            "colorscale": [
             [
              0,
              "#0d0887"
             ],
             [
              0.1111111111111111,
              "#46039f"
             ],
             [
              0.2222222222222222,
              "#7201a8"
             ],
             [
              0.3333333333333333,
              "#9c179e"
             ],
             [
              0.4444444444444444,
              "#bd3786"
             ],
             [
              0.5555555555555556,
              "#d8576b"
             ],
             [
              0.6666666666666666,
              "#ed7953"
             ],
             [
              0.7777777777777778,
              "#fb9f3a"
             ],
             [
              0.8888888888888888,
              "#fdca26"
             ],
             [
              1,
              "#f0f921"
             ]
            ],
            "type": "surface"
           }
          ],
          "table": [
           {
            "cells": {
             "fill": {
              "color": "#EBF0F8"
             },
             "line": {
              "color": "white"
             }
            },
            "header": {
             "fill": {
              "color": "#C8D4E3"
             },
             "line": {
              "color": "white"
             }
            },
            "type": "table"
           }
          ]
         },
         "layout": {
          "annotationdefaults": {
           "arrowcolor": "#2a3f5f",
           "arrowhead": 0,
           "arrowwidth": 1
          },
          "autotypenumbers": "strict",
          "coloraxis": {
           "colorbar": {
            "outlinewidth": 0,
            "ticks": ""
           }
          },
          "colorscale": {
           "diverging": [
            [
             0,
             "#8e0152"
            ],
            [
             0.1,
             "#c51b7d"
            ],
            [
             0.2,
             "#de77ae"
            ],
            [
             0.3,
             "#f1b6da"
            ],
            [
             0.4,
             "#fde0ef"
            ],
            [
             0.5,
             "#f7f7f7"
            ],
            [
             0.6,
             "#e6f5d0"
            ],
            [
             0.7,
             "#b8e186"
            ],
            [
             0.8,
             "#7fbc41"
            ],
            [
             0.9,
             "#4d9221"
            ],
            [
             1,
             "#276419"
            ]
           ],
           "sequential": [
            [
             0,
             "#0d0887"
            ],
            [
             0.1111111111111111,
             "#46039f"
            ],
            [
             0.2222222222222222,
             "#7201a8"
            ],
            [
             0.3333333333333333,
             "#9c179e"
            ],
            [
             0.4444444444444444,
             "#bd3786"
            ],
            [
             0.5555555555555556,
             "#d8576b"
            ],
            [
             0.6666666666666666,
             "#ed7953"
            ],
            [
             0.7777777777777778,
             "#fb9f3a"
            ],
            [
             0.8888888888888888,
             "#fdca26"
            ],
            [
             1,
             "#f0f921"
            ]
           ],
           "sequentialminus": [
            [
             0,
             "#0d0887"
            ],
            [
             0.1111111111111111,
             "#46039f"
            ],
            [
             0.2222222222222222,
             "#7201a8"
            ],
            [
             0.3333333333333333,
             "#9c179e"
            ],
            [
             0.4444444444444444,
             "#bd3786"
            ],
            [
             0.5555555555555556,
             "#d8576b"
            ],
            [
             0.6666666666666666,
             "#ed7953"
            ],
            [
             0.7777777777777778,
             "#fb9f3a"
            ],
            [
             0.8888888888888888,
             "#fdca26"
            ],
            [
             1,
             "#f0f921"
            ]
           ]
          },
          "colorway": [
           "#636efa",
           "#EF553B",
           "#00cc96",
           "#ab63fa",
           "#FFA15A",
           "#19d3f3",
           "#FF6692",
           "#B6E880",
           "#FF97FF",
           "#FECB52"
          ],
          "font": {
           "color": "#2a3f5f"
          },
          "geo": {
           "bgcolor": "white",
           "lakecolor": "white",
           "landcolor": "#E5ECF6",
           "showlakes": true,
           "showland": true,
           "subunitcolor": "white"
          },
          "hoverlabel": {
           "align": "left"
          },
          "hovermode": "closest",
          "mapbox": {
           "style": "light"
          },
          "paper_bgcolor": "white",
          "plot_bgcolor": "#E5ECF6",
          "polar": {
           "angularaxis": {
            "gridcolor": "white",
            "linecolor": "white",
            "ticks": ""
           },
           "bgcolor": "#E5ECF6",
           "radialaxis": {
            "gridcolor": "white",
            "linecolor": "white",
            "ticks": ""
           }
          },
          "scene": {
           "xaxis": {
            "backgroundcolor": "#E5ECF6",
            "gridcolor": "white",
            "gridwidth": 2,
            "linecolor": "white",
            "showbackground": true,
            "ticks": "",
            "zerolinecolor": "white"
           },
           "yaxis": {
            "backgroundcolor": "#E5ECF6",
            "gridcolor": "white",
            "gridwidth": 2,
            "linecolor": "white",
            "showbackground": true,
            "ticks": "",
            "zerolinecolor": "white"
           },
           "zaxis": {
            "backgroundcolor": "#E5ECF6",
            "gridcolor": "white",
            "gridwidth": 2,
            "linecolor": "white",
            "showbackground": true,
            "ticks": "",
            "zerolinecolor": "white"
           }
          },
          "shapedefaults": {
           "line": {
            "color": "#2a3f5f"
           }
          },
          "ternary": {
           "aaxis": {
            "gridcolor": "white",
            "linecolor": "white",
            "ticks": ""
           },
           "baxis": {
            "gridcolor": "white",
            "linecolor": "white",
            "ticks": ""
           },
           "bgcolor": "#E5ECF6",
           "caxis": {
            "gridcolor": "white",
            "linecolor": "white",
            "ticks": ""
           }
          },
          "title": {
           "x": 0.05
          },
          "xaxis": {
           "automargin": true,
           "gridcolor": "white",
           "linecolor": "white",
           "ticks": "",
           "title": {
            "standoff": 15
           },
           "zerolinecolor": "white",
           "zerolinewidth": 2
          },
          "yaxis": {
           "automargin": true,
           "gridcolor": "white",
           "linecolor": "white",
           "ticks": "",
           "title": {
            "standoff": 15
           },
           "zerolinecolor": "white",
           "zerolinewidth": 2
          }
         }
        }
       }
      }
     },
     "metadata": {},
     "output_type": "display_data"
    }
   ],
   "source": [
    "def f_n(x, y):\n",
    "    return np.cos(x) * np.sin(y)\n",
    "\n",
    "\n",
    "x, y, z, p = get_xyzpdata(-2, 3, 10, -2, 3, 10, 0, 1, f_n)\n",
    "\n",
    "func = LeastSquare2D(x, y, z, p, 4)\n",
    "\n",
    "x_pred = np.linspace(min(x), max(x), 40)\n",
    "y_pred = np.linspace(min(y), max(y), 40)\n",
    "z_graph = [[func(xi, yi) for xi in x_pred] for yi in y_pred]\n",
    "\n",
    "fig = px.scatter_3d(x=x, y=y, z=z)\n",
    "fig.add_trace(go.Surface(x=x_pred, y=y_pred, z=z_graph))\n",
    "fig.show()"
   ]
  },
  {
   "cell_type": "code",
   "execution_count": 10,
   "metadata": {},
   "outputs": [
    {
     "name": "stdout",
     "output_type": "stream",
     "text": [
      "for n=2\n",
      "cCoeffs:\n",
      " 43.995885   29.269776  \n",
      " 29.269776   58.001248  \n",
      "fCoeffs:\n",
      "-24.629630  -37.947417  \n",
      "solution:\n",
      " -0.187504   -0.559630  \n",
      "\n",
      "for n=3\n",
      "cCoeffs:\n",
      " 43.995885   29.269776   36.574929  \n",
      " 29.269776   58.001248   62.306339  \n",
      " 36.574929   62.306339   78.305566  \n",
      "fCoeffs:\n",
      "-24.629630  -37.947417  -39.624600  \n",
      "solution:\n",
      " -0.222749   -0.757425    0.200686  \n",
      "\n",
      "deg 2:\n",
      "1.000000  -0.187504  -0.559630  \n",
      "deg 3:\n",
      "1.000000  -0.222749  -0.757425  0.200686  \n"
     ]
    },
    {
     "data": {
      "application/vnd.plotly.v1+json": {
       "config": {
        "plotlyServerURL": "https://plot.ly"
       },
       "data": [
        {
         "hovertemplate": "<extra></extra>",
         "legendgroup": "",
         "line": {
          "color": "#636efa",
          "dash": "solid"
         },
         "marker": {
          "symbol": "circle"
         },
         "mode": "lines",
         "name": "",
         "orientation": "v",
         "showlegend": false,
         "type": "scatter",
         "xaxis": "x",
         "yaxis": "y"
        },
        {
         "name": "решение",
         "type": "scatter",
         "x": [
          -0.5,
          -0.47474747474747475,
          -0.4494949494949495,
          -0.42424242424242425,
          -0.398989898989899,
          -0.3737373737373737,
          -0.3484848484848485,
          -0.3232323232323232,
          -0.297979797979798,
          -0.2727272727272727,
          -0.24747474747474746,
          -0.2222222222222222,
          -0.19696969696969696,
          -0.1717171717171717,
          -0.14646464646464646,
          -0.12121212121212122,
          -0.09595959595959597,
          -0.07070707070707072,
          -0.04545454545454547,
          -0.02020202020202022,
          0.005050505050505083,
          0.030303030303030276,
          0.05555555555555558,
          0.08080808080808077,
          0.10606060606060608,
          0.13131313131313127,
          0.15656565656565657,
          0.18181818181818177,
          0.20707070707070707,
          0.23232323232323226,
          0.25757575757575757,
          0.28282828282828276,
          0.30808080808080807,
          0.33333333333333337,
          0.35858585858585856,
          0.38383838383838387,
          0.40909090909090906,
          0.43434343434343436,
          0.45959595959595956,
          0.48484848484848486,
          0.5101010101010102,
          0.5353535353535352,
          0.5606060606060606,
          0.5858585858585859,
          0.6111111111111112,
          0.6363636363636362,
          0.6616161616161615,
          0.6868686868686869,
          0.7121212121212122,
          0.7373737373737375,
          0.7626262626262625,
          0.7878787878787878,
          0.8131313131313131,
          0.8383838383838385,
          0.8636363636363635,
          0.8888888888888888,
          0.9141414141414141,
          0.9393939393939394,
          0.9646464646464645,
          0.9898989898989898,
          1.0151515151515151,
          1.0404040404040404,
          1.0656565656565655,
          1.0909090909090908,
          1.1161616161616161,
          1.1414141414141414,
          1.1666666666666667,
          1.1919191919191918,
          1.2171717171717171,
          1.2424242424242424,
          1.2676767676767677,
          1.2929292929292928,
          1.3181818181818181,
          1.3434343434343434,
          1.3686868686868687,
          1.3939393939393938,
          1.4191919191919191,
          1.4444444444444444,
          1.4696969696969697,
          1.4949494949494948,
          1.5202020202020203,
          1.5454545454545454,
          1.5707070707070705,
          1.595959595959596,
          1.621212121212121,
          1.6464646464646466,
          1.6717171717171717,
          1.6969696969696968,
          1.7222222222222223,
          1.7474747474747474,
          1.7727272727272725,
          1.797979797979798,
          1.823232323232323,
          1.8484848484848486,
          1.8737373737373737,
          1.8989898989898988,
          1.9242424242424243,
          1.9494949494949494,
          1.974747474747475,
          2
         ],
         "y": [
          1.402887609373522,
          1.395387318617024,
          1.3862924743945801,
          1.3756284125202072,
          1.3634237759840764,
          1.3497104782008824,
          1.3345236553849606,
          1.317901608121649,
          1.2998857322534658,
          1.2805204392487497,
          1.2598530662689524,
          1.2379337761987048,
          1.2148154479497184,
          1.1905535573952342,
          1.1652060493359175,
          1.1388332009404543,
          1.1114974771444222,
          1.0832633785290877,
          1.0541972822372774,
          1.0243672765163185,
          0.9938429895079081,
          0.9626954129315783,
          0.930996721331943,
          0.898820087580062,
          0.8662394953358464,
          0.8333295491914859,
          0.8001652832251539,
          0.7668219686998782,
          0.7333749216443036,
          0.6998993110501337,
          0.6664699684154417,
          0.6331611993536717,
          0.6000465979752191,
          0.5671988647320418,
          0.5346896283958407,
          0.5025892728172315,
          0.47096676908708535,
          0.43988951369197443,
          0.40942317322375654,
          0.37963153616880907,
          0.35057637226562205,
          0.3223172998805609,
          0.29491166181085204,
          0.2684144098815182,
          0.24287799865933846,
          0.21835228856214853,
          0.19488445859631073,
          0.17251892890911238,
          0.15129729329656075,
          0.13125826176075556,
          0.11243761316501058,
          0.09486815798939989,
          0.0785797111447421,
          0.06359907475932226,
          0.049950030810269296,
          0.03765334343050647,
          0.026726770682970913,
          0.017185085556314646,
          0.009040105900963148,
          0.0023007329911827034,
          -0.0030270016320268532,
          -0.006939881410853321,
          -0.009437442512837848,
          -0.010521904487996041,
          -0.01019809428405749,
          -0.008473364080773609,
          -0.0053575034191846085,
          -0.0008626461139362834,
          0.004996827553912366,
          0.012204392859487972,
          0.020741486364149554,
          0.030587614843751283,
          0.0417204669072827,
          0.05411602680189,
          0.06774868990656557,
          0.08259137942537316,
          0.09861566380181148,
          0.11579187438870223,
          0.13408922292270273,
          0.15347591836896765,
          0.1739192827195431,
          0.19538586534856883,
          0.21784155554813628,
          0.24125169289055476,
          0.2655811750855979,
          0.2907945630249879,
          0.31685618273058325,
          0.34373022394751473,
          0.37138083514852616,
          0.3997722147409758,
          0.42886869829315966,
          0.4586348416216881,
          0.48903549960643194,
          0.5200359006239837,
          0.5516017165144261,
          0.5836991280194974,
          0.616294885652736,
          0.6493563659839088,
          0.6828516233408369,
          0.7167494369514852
         ]
        },
        {
         "name": "n = 2",
         "type": "scatter",
         "x": [
          -0.5,
          -0.47474747474747475,
          -0.4494949494949495,
          -0.42424242424242425,
          -0.398989898989899,
          -0.3737373737373737,
          -0.3484848484848485,
          -0.3232323232323232,
          -0.297979797979798,
          -0.2727272727272727,
          -0.24747474747474746,
          -0.2222222222222222,
          -0.19696969696969696,
          -0.1717171717171717,
          -0.14646464646464646,
          -0.12121212121212122,
          -0.09595959595959597,
          -0.07070707070707072,
          -0.04545454545454547,
          -0.02020202020202022,
          0.005050505050505083,
          0.030303030303030276,
          0.05555555555555558,
          0.08080808080808077,
          0.10606060606060608,
          0.13131313131313127,
          0.15656565656565657,
          0.18181818181818177,
          0.20707070707070707,
          0.23232323232323226,
          0.25757575757575757,
          0.28282828282828276,
          0.30808080808080807,
          0.33333333333333337,
          0.35858585858585856,
          0.38383838383838387,
          0.40909090909090906,
          0.43434343434343436,
          0.45959595959595956,
          0.48484848484848486,
          0.5101010101010102,
          0.5353535353535352,
          0.5606060606060606,
          0.5858585858585859,
          0.6111111111111112,
          0.6363636363636362,
          0.6616161616161615,
          0.6868686868686869,
          0.7121212121212122,
          0.7373737373737375,
          0.7626262626262625,
          0.7878787878787878,
          0.8131313131313131,
          0.8383838383838385,
          0.8636363636363635,
          0.8888888888888888,
          0.9141414141414141,
          0.9393939393939394,
          0.9646464646464645,
          0.9898989898989898,
          1.0151515151515151,
          1.0404040404040404,
          1.0656565656565655,
          1.0909090909090908,
          1.1161616161616161,
          1.1414141414141414,
          1.1666666666666667,
          1.1919191919191918,
          1.2171717171717171,
          1.2424242424242424,
          1.2676767676767677,
          1.2929292929292928,
          1.3181818181818181,
          1.3434343434343434,
          1.3686868686868687,
          1.3939393939393938,
          1.4191919191919191,
          1.4444444444444444,
          1.4696969696969697,
          1.4949494949494948,
          1.5202020202020203,
          1.5454545454545454,
          1.5707070707070705,
          1.595959595959596,
          1.621212121212121,
          1.6464646464646466,
          1.6717171717171717,
          1.6969696969696968,
          1.7222222222222223,
          1.7474747474747474,
          1.7727272727272725,
          1.797979797979798,
          1.823232323232323,
          1.8484848484848486,
          1.8737373737373737,
          1.8989898989898988,
          1.9242424242424243,
          1.9494949494949494,
          1.974747474747475,
          2
         ],
         "y": [
          1.4307666163692891,
          1.4200117258718987,
          1.407765693488786,
          1.3940825904817409,
          1.3790164881125528,
          1.362621457643012,
          1.3449515703349082,
          1.3260608974500308,
          1.3060035102501708,
          1.2848334799971173,
          1.2626048779526602,
          1.2393717753785898,
          1.2151882435366954,
          1.1901083536887673,
          1.1641861770965956,
          1.1374757850219694,
          1.1100312487266797,
          1.0819066394725154,
          1.0531560285212667,
          1.0238334871347239,
          0.993993086574676,
          0.9636888981029137,
          0.9329749929812265,
          0.9019054424714046,
          0.8705343178352374,
          0.8389156903345153,
          0.8071036312310277,
          0.775152211786565,
          0.7431155032629165,
          0.7110475769218727,
          0.679002504025223,
          0.6470343558347577,
          0.6151972036122662,
          0.5835451186195387,
          0.5521321721183652,
          0.5210124353705352,
          0.49023997963783905,
          0.45986887618206623,
          0.42995319626500694,
          0.4005470111484507,
          0.3717043920941877,
          0.343479410364008,
          0.315926137219701,
          0.28909864392305673,
          0.26305100173586526,
          0.23783728191991654,
          0.2135115557370001,
          0.190127894448906,
          0.16774036931742417,
          0.14640305160434447,
          0.126170012571457,
          0.10709532348055122,
          0.08923305559341727,
          0.07263728017184501,
          0.05736206847762444,
          0.043461491772545185,
          0.03098962131839729,
          0.020000528376970625,
          0.010548284210055162,
          0.002686960079440614,
          -0.0035293727530830397,
          -0.008046643025725914,
          -0.010810779476698104,
          -0.011767710844209772,
          -0.010863365866470978,
          -0.008043673281691865,
          -0.003254561828082536,
          0.003558039756146769,
          0.012448202732786212,
          0.02346999836362551,
          0.03667749791045449,
          0.052124772635063044,
          0.06986589379924124,
          0.08995493266477889,
          0.11244596049346578,
          0.13739304854709167,
          0.16485026808744696,
          0.19487169037632113,
          0.22751138667550408,
          0.2628234282467856,
          0.3008618863519563,
          0.3416808322528049,
          0.38533433721112176,
          0.43187647248869765,
          0.4813613093473208,
          0.5338429190487832,
          0.5893753728548725,
          0.6480127420273796,
          0.7098090978280955,
          0.7748185115188078,
          0.8430950543613076,
          0.9146927976173858,
          0.9896658125488305,
          1.0680681704174335,
          1.149953942484982,
          1.2353772000132675,
          1.324392014264081,
          1.4170524564992095,
          1.5134125979804471,
          1.6135265099695788
         ]
        },
        {
         "name": "n = 3",
         "type": "scatter",
         "x": [
          -0.5,
          -0.47474747474747475,
          -0.4494949494949495,
          -0.42424242424242425,
          -0.398989898989899,
          -0.3737373737373737,
          -0.3484848484848485,
          -0.3232323232323232,
          -0.297979797979798,
          -0.2727272727272727,
          -0.24747474747474746,
          -0.2222222222222222,
          -0.19696969696969696,
          -0.1717171717171717,
          -0.14646464646464646,
          -0.12121212121212122,
          -0.09595959595959597,
          -0.07070707070707072,
          -0.04545454545454547,
          -0.02020202020202022,
          0.005050505050505083,
          0.030303030303030276,
          0.05555555555555558,
          0.08080808080808077,
          0.10606060606060608,
          0.13131313131313127,
          0.15656565656565657,
          0.18181818181818177,
          0.20707070707070707,
          0.23232323232323226,
          0.25757575757575757,
          0.28282828282828276,
          0.30808080808080807,
          0.33333333333333337,
          0.35858585858585856,
          0.38383838383838387,
          0.40909090909090906,
          0.43434343434343436,
          0.45959595959595956,
          0.48484848484848486,
          0.5101010101010102,
          0.5353535353535352,
          0.5606060606060606,
          0.5858585858585859,
          0.6111111111111112,
          0.6363636363636362,
          0.6616161616161615,
          0.6868686868686869,
          0.7121212121212122,
          0.7373737373737375,
          0.7626262626262625,
          0.7878787878787878,
          0.8131313131313131,
          0.8383838383838385,
          0.8636363636363635,
          0.8888888888888888,
          0.9141414141414141,
          0.9393939393939394,
          0.9646464646464645,
          0.9898989898989898,
          1.0151515151515151,
          1.0404040404040404,
          1.0656565656565655,
          1.0909090909090908,
          1.1161616161616161,
          1.1414141414141414,
          1.1666666666666667,
          1.1919191919191918,
          1.2171717171717171,
          1.2424242424242424,
          1.2676767676767677,
          1.2929292929292928,
          1.3181818181818181,
          1.3434343434343434,
          1.3686868686868687,
          1.3939393939393938,
          1.4191919191919191,
          1.4444444444444444,
          1.4696969696969697,
          1.4949494949494948,
          1.5202020202020203,
          1.5454545454545454,
          1.5707070707070705,
          1.595959595959596,
          1.621212121212121,
          1.6464646464646466,
          1.6717171717171717,
          1.6969696969696968,
          1.7222222222222223,
          1.7474747474747474,
          1.7727272727272725,
          1.797979797979798,
          1.823232323232323,
          1.8484848484848486,
          1.8737373737373737,
          1.8989898989898988,
          1.9242424242424243,
          1.9494949494949494,
          1.974747474747475,
          2
         ],
         "y": [
          1.345398711704824,
          1.3472755051493321,
          1.346383735165971,
          1.3428518165748702,
          1.336806205591732,
          1.3283713998278346,
          1.3176699382900285,
          1.3048224013807392,
          1.2899474108979667,
          1.2731616300352837,
          1.2545797633818379,
          1.2343145569223506,
          1.2124767980371174,
          1.1891753155020077,
          1.1645169794884656,
          1.138606701563508,
          1.1115474346897272,
          1.0834401732252885,
          1.0543839529239316,
          1.0244758509349707,
          0.9938109858032931,
          0.962482517469361,
          0.9305816472692101,
          0.8981976179344505,
          0.865417713592266,
          0.8323272597654149,
          0.7990096233722288,
          0.7655462127266142,
          0.7320164775380509,
          0.6984979089115932,
          0.6650660393478693,
          0.6317944427430815,
          0.598754734389006,
          0.566016570972993,
          0.5336476505779671,
          0.5017137126824266,
          0.4702785381604439,
          0.4394039492816654,
          0.40914980971131176,
          0.3795740245101773,
          0.3507325401346308,
          0.32267934443661506,
          0.2954664666636462,
          0.26914397745881535,
          0.24375998886078704,
          0.21936065430380036,
          0.1959901686176677,
          0.17369076802777608,
          0.15250273015508647,
          0.13246437401613376,
          0.11361206002302705,
          0.09598018998344905,
          0.07960120710065702,
          0.06450559597348195,
          0.05072188259632912,
          0.03827663435917747,
          0.027194460047580284,
          0.017498009842664856,
          0.009207975321132492,
          0.0023430894552583653,
          -0.003079873387108089,
          -0.007046097442543468,
          -0.009542725552050359,
          -0.010558859161057282,
          -0.010085558319418736,
          -0.008115841681415159,
          -0.004644686505753004,
          0.0003309713444352991,
          0.006812237401591592,
          0.014798258593731517,
          0.024286223244444682,
          0.03527136107289486,
          0.04774694319382011,
          0.061704282117532094,
          0.0771327317499167,
          0.09401968739243383,
          0.11235058574211754,
          0.132108904891576,
          0.15327616432899083,
          0.1758319249381185,
          0.19975378899828944,
          0.22501740018440652,
          0.2515964435669491,
          0.2794626456119693,
          0.3085857741810929,
          0.33893363853152125,
          0.3704720893160274,
          0.40316501858296006,
          0.4369743597762423,
          0.47186008773537,
          0.5077802186954141,
          0.5446908102870185,
          0.5825459615364026,
          0.6212978128653595,
          0.6608965460912539,
          0.7012903844270273,
          0.7424255924811956,
          0.7842464762578456,
          0.8266953831566424,
          0.8697127019728215
         ]
        }
       ],
       "layout": {
        "legend": {
         "tracegroupgap": 0
        },
        "margin": {
         "t": 60
        },
        "template": {
         "data": {
          "bar": [
           {
            "error_x": {
             "color": "#2a3f5f"
            },
            "error_y": {
             "color": "#2a3f5f"
            },
            "marker": {
             "line": {
              "color": "#E5ECF6",
              "width": 0.5
             },
             "pattern": {
              "fillmode": "overlay",
              "size": 10,
              "solidity": 0.2
             }
            },
            "type": "bar"
           }
          ],
          "barpolar": [
           {
            "marker": {
             "line": {
              "color": "#E5ECF6",
              "width": 0.5
             },
             "pattern": {
              "fillmode": "overlay",
              "size": 10,
              "solidity": 0.2
             }
            },
            "type": "barpolar"
           }
          ],
          "carpet": [
           {
            "aaxis": {
             "endlinecolor": "#2a3f5f",
             "gridcolor": "white",
             "linecolor": "white",
             "minorgridcolor": "white",
             "startlinecolor": "#2a3f5f"
            },
            "baxis": {
             "endlinecolor": "#2a3f5f",
             "gridcolor": "white",
             "linecolor": "white",
             "minorgridcolor": "white",
             "startlinecolor": "#2a3f5f"
            },
            "type": "carpet"
           }
          ],
          "choropleth": [
           {
            "colorbar": {
             "outlinewidth": 0,
             "ticks": ""
            },
            "type": "choropleth"
           }
          ],
          "contour": [
           {
            "colorbar": {
             "outlinewidth": 0,
             "ticks": ""
            },
            "colorscale": [
             [
              0,
              "#0d0887"
             ],
             [
              0.1111111111111111,
              "#46039f"
             ],
             [
              0.2222222222222222,
              "#7201a8"
             ],
             [
              0.3333333333333333,
              "#9c179e"
             ],
             [
              0.4444444444444444,
              "#bd3786"
             ],
             [
              0.5555555555555556,
              "#d8576b"
             ],
             [
              0.6666666666666666,
              "#ed7953"
             ],
             [
              0.7777777777777778,
              "#fb9f3a"
             ],
             [
              0.8888888888888888,
              "#fdca26"
             ],
             [
              1,
              "#f0f921"
             ]
            ],
            "type": "contour"
           }
          ],
          "contourcarpet": [
           {
            "colorbar": {
             "outlinewidth": 0,
             "ticks": ""
            },
            "type": "contourcarpet"
           }
          ],
          "heatmap": [
           {
            "colorbar": {
             "outlinewidth": 0,
             "ticks": ""
            },
            "colorscale": [
             [
              0,
              "#0d0887"
             ],
             [
              0.1111111111111111,
              "#46039f"
             ],
             [
              0.2222222222222222,
              "#7201a8"
             ],
             [
              0.3333333333333333,
              "#9c179e"
             ],
             [
              0.4444444444444444,
              "#bd3786"
             ],
             [
              0.5555555555555556,
              "#d8576b"
             ],
             [
              0.6666666666666666,
              "#ed7953"
             ],
             [
              0.7777777777777778,
              "#fb9f3a"
             ],
             [
              0.8888888888888888,
              "#fdca26"
             ],
             [
              1,
              "#f0f921"
             ]
            ],
            "type": "heatmap"
           }
          ],
          "heatmapgl": [
           {
            "colorbar": {
             "outlinewidth": 0,
             "ticks": ""
            },
            "colorscale": [
             [
              0,
              "#0d0887"
             ],
             [
              0.1111111111111111,
              "#46039f"
             ],
             [
              0.2222222222222222,
              "#7201a8"
             ],
             [
              0.3333333333333333,
              "#9c179e"
             ],
             [
              0.4444444444444444,
              "#bd3786"
             ],
             [
              0.5555555555555556,
              "#d8576b"
             ],
             [
              0.6666666666666666,
              "#ed7953"
             ],
             [
              0.7777777777777778,
              "#fb9f3a"
             ],
             [
              0.8888888888888888,
              "#fdca26"
             ],
             [
              1,
              "#f0f921"
             ]
            ],
            "type": "heatmapgl"
           }
          ],
          "histogram": [
           {
            "marker": {
             "pattern": {
              "fillmode": "overlay",
              "size": 10,
              "solidity": 0.2
             }
            },
            "type": "histogram"
           }
          ],
          "histogram2d": [
           {
            "colorbar": {
             "outlinewidth": 0,
             "ticks": ""
            },
            "colorscale": [
             [
              0,
              "#0d0887"
             ],
             [
              0.1111111111111111,
              "#46039f"
             ],
             [
              0.2222222222222222,
              "#7201a8"
             ],
             [
              0.3333333333333333,
              "#9c179e"
             ],
             [
              0.4444444444444444,
              "#bd3786"
             ],
             [
              0.5555555555555556,
              "#d8576b"
             ],
             [
              0.6666666666666666,
              "#ed7953"
             ],
             [
              0.7777777777777778,
              "#fb9f3a"
             ],
             [
              0.8888888888888888,
              "#fdca26"
             ],
             [
              1,
              "#f0f921"
             ]
            ],
            "type": "histogram2d"
           }
          ],
          "histogram2dcontour": [
           {
            "colorbar": {
             "outlinewidth": 0,
             "ticks": ""
            },
            "colorscale": [
             [
              0,
              "#0d0887"
             ],
             [
              0.1111111111111111,
              "#46039f"
             ],
             [
              0.2222222222222222,
              "#7201a8"
             ],
             [
              0.3333333333333333,
              "#9c179e"
             ],
             [
              0.4444444444444444,
              "#bd3786"
             ],
             [
              0.5555555555555556,
              "#d8576b"
             ],
             [
              0.6666666666666666,
              "#ed7953"
             ],
             [
              0.7777777777777778,
              "#fb9f3a"
             ],
             [
              0.8888888888888888,
              "#fdca26"
             ],
             [
              1,
              "#f0f921"
             ]
            ],
            "type": "histogram2dcontour"
           }
          ],
          "mesh3d": [
           {
            "colorbar": {
             "outlinewidth": 0,
             "ticks": ""
            },
            "type": "mesh3d"
           }
          ],
          "parcoords": [
           {
            "line": {
             "colorbar": {
              "outlinewidth": 0,
              "ticks": ""
             }
            },
            "type": "parcoords"
           }
          ],
          "pie": [
           {
            "automargin": true,
            "type": "pie"
           }
          ],
          "scatter": [
           {
            "fillpattern": {
             "fillmode": "overlay",
             "size": 10,
             "solidity": 0.2
            },
            "type": "scatter"
           }
          ],
          "scatter3d": [
           {
            "line": {
             "colorbar": {
              "outlinewidth": 0,
              "ticks": ""
             }
            },
            "marker": {
             "colorbar": {
              "outlinewidth": 0,
              "ticks": ""
             }
            },
            "type": "scatter3d"
           }
          ],
          "scattercarpet": [
           {
            "marker": {
             "colorbar": {
              "outlinewidth": 0,
              "ticks": ""
             }
            },
            "type": "scattercarpet"
           }
          ],
          "scattergeo": [
           {
            "marker": {
             "colorbar": {
              "outlinewidth": 0,
              "ticks": ""
             }
            },
            "type": "scattergeo"
           }
          ],
          "scattergl": [
           {
            "marker": {
             "colorbar": {
              "outlinewidth": 0,
              "ticks": ""
             }
            },
            "type": "scattergl"
           }
          ],
          "scattermapbox": [
           {
            "marker": {
             "colorbar": {
              "outlinewidth": 0,
              "ticks": ""
             }
            },
            "type": "scattermapbox"
           }
          ],
          "scatterpolar": [
           {
            "marker": {
             "colorbar": {
              "outlinewidth": 0,
              "ticks": ""
             }
            },
            "type": "scatterpolar"
           }
          ],
          "scatterpolargl": [
           {
            "marker": {
             "colorbar": {
              "outlinewidth": 0,
              "ticks": ""
             }
            },
            "type": "scatterpolargl"
           }
          ],
          "scatterternary": [
           {
            "marker": {
             "colorbar": {
              "outlinewidth": 0,
              "ticks": ""
             }
            },
            "type": "scatterternary"
           }
          ],
          "surface": [
           {
            "colorbar": {
             "outlinewidth": 0,
             "ticks": ""
            },
            "colorscale": [
             [
              0,
              "#0d0887"
             ],
             [
              0.1111111111111111,
              "#46039f"
             ],
             [
              0.2222222222222222,
              "#7201a8"
             ],
             [
              0.3333333333333333,
              "#9c179e"
             ],
             [
              0.4444444444444444,
              "#bd3786"
             ],
             [
              0.5555555555555556,
              "#d8576b"
             ],
             [
              0.6666666666666666,
              "#ed7953"
             ],
             [
              0.7777777777777778,
              "#fb9f3a"
             ],
             [
              0.8888888888888888,
              "#fdca26"
             ],
             [
              1,
              "#f0f921"
             ]
            ],
            "type": "surface"
           }
          ],
          "table": [
           {
            "cells": {
             "fill": {
              "color": "#EBF0F8"
             },
             "line": {
              "color": "white"
             }
            },
            "header": {
             "fill": {
              "color": "#C8D4E3"
             },
             "line": {
              "color": "white"
             }
            },
            "type": "table"
           }
          ]
         },
         "layout": {
          "annotationdefaults": {
           "arrowcolor": "#2a3f5f",
           "arrowhead": 0,
           "arrowwidth": 1
          },
          "autotypenumbers": "strict",
          "coloraxis": {
           "colorbar": {
            "outlinewidth": 0,
            "ticks": ""
           }
          },
          "colorscale": {
           "diverging": [
            [
             0,
             "#8e0152"
            ],
            [
             0.1,
             "#c51b7d"
            ],
            [
             0.2,
             "#de77ae"
            ],
            [
             0.3,
             "#f1b6da"
            ],
            [
             0.4,
             "#fde0ef"
            ],
            [
             0.5,
             "#f7f7f7"
            ],
            [
             0.6,
             "#e6f5d0"
            ],
            [
             0.7,
             "#b8e186"
            ],
            [
             0.8,
             "#7fbc41"
            ],
            [
             0.9,
             "#4d9221"
            ],
            [
             1,
             "#276419"
            ]
           ],
           "sequential": [
            [
             0,
             "#0d0887"
            ],
            [
             0.1111111111111111,
             "#46039f"
            ],
            [
             0.2222222222222222,
             "#7201a8"
            ],
            [
             0.3333333333333333,
             "#9c179e"
            ],
            [
             0.4444444444444444,
             "#bd3786"
            ],
            [
             0.5555555555555556,
             "#d8576b"
            ],
            [
             0.6666666666666666,
             "#ed7953"
            ],
            [
             0.7777777777777778,
             "#fb9f3a"
            ],
            [
             0.8888888888888888,
             "#fdca26"
            ],
            [
             1,
             "#f0f921"
            ]
           ],
           "sequentialminus": [
            [
             0,
             "#0d0887"
            ],
            [
             0.1111111111111111,
             "#46039f"
            ],
            [
             0.2222222222222222,
             "#7201a8"
            ],
            [
             0.3333333333333333,
             "#9c179e"
            ],
            [
             0.4444444444444444,
             "#bd3786"
            ],
            [
             0.5555555555555556,
             "#d8576b"
            ],
            [
             0.6666666666666666,
             "#ed7953"
            ],
            [
             0.7777777777777778,
             "#fb9f3a"
            ],
            [
             0.8888888888888888,
             "#fdca26"
            ],
            [
             1,
             "#f0f921"
            ]
           ]
          },
          "colorway": [
           "#636efa",
           "#EF553B",
           "#00cc96",
           "#ab63fa",
           "#FFA15A",
           "#19d3f3",
           "#FF6692",
           "#B6E880",
           "#FF97FF",
           "#FECB52"
          ],
          "font": {
           "color": "#2a3f5f"
          },
          "geo": {
           "bgcolor": "white",
           "lakecolor": "white",
           "landcolor": "#E5ECF6",
           "showlakes": true,
           "showland": true,
           "subunitcolor": "white"
          },
          "hoverlabel": {
           "align": "left"
          },
          "hovermode": "closest",
          "mapbox": {
           "style": "light"
          },
          "paper_bgcolor": "white",
          "plot_bgcolor": "#E5ECF6",
          "polar": {
           "angularaxis": {
            "gridcolor": "white",
            "linecolor": "white",
            "ticks": ""
           },
           "bgcolor": "#E5ECF6",
           "radialaxis": {
            "gridcolor": "white",
            "linecolor": "white",
            "ticks": ""
           }
          },
          "scene": {
           "xaxis": {
            "backgroundcolor": "#E5ECF6",
            "gridcolor": "white",
            "gridwidth": 2,
            "linecolor": "white",
            "showbackground": true,
            "ticks": "",
            "zerolinecolor": "white"
           },
           "yaxis": {
            "backgroundcolor": "#E5ECF6",
            "gridcolor": "white",
            "gridwidth": 2,
            "linecolor": "white",
            "showbackground": true,
            "ticks": "",
            "zerolinecolor": "white"
           },
           "zaxis": {
            "backgroundcolor": "#E5ECF6",
            "gridcolor": "white",
            "gridwidth": 2,
            "linecolor": "white",
            "showbackground": true,
            "ticks": "",
            "zerolinecolor": "white"
           }
          },
          "shapedefaults": {
           "line": {
            "color": "#2a3f5f"
           }
          },
          "ternary": {
           "aaxis": {
            "gridcolor": "white",
            "linecolor": "white",
            "ticks": ""
           },
           "baxis": {
            "gridcolor": "white",
            "linecolor": "white",
            "ticks": ""
           },
           "bgcolor": "#E5ECF6",
           "caxis": {
            "gridcolor": "white",
            "linecolor": "white",
            "ticks": ""
           }
          },
          "title": {
           "x": 0.05
          },
          "xaxis": {
           "automargin": true,
           "gridcolor": "white",
           "linecolor": "white",
           "ticks": "",
           "title": {
            "standoff": 15
           },
           "zerolinecolor": "white",
           "zerolinewidth": 2
          },
          "yaxis": {
           "automargin": true,
           "gridcolor": "white",
           "linecolor": "white",
           "ticks": "",
           "title": {
            "standoff": 15
           },
           "zerolinecolor": "white",
           "zerolinewidth": 2
          }
         }
        },
        "xaxis": {
         "anchor": "y",
         "domain": [
          0,
          1
         ]
        },
        "yaxis": {
         "anchor": "x",
         "domain": [
          0,
          1
         ]
        }
       }
      }
     },
     "metadata": {},
     "output_type": "display_data"
    }
   ],
   "source": [
    "def ODESolution(x):\n",
    "    return (\n",
    "        np.exp(-(x**2) / 2)\n",
    "        * (\n",
    "            (1 + np.exp(x**2 / 2) * x) * erfi(1 / np.sqrt(2))\n",
    "            - (1 + np.sqrt(np.e)) * erfi(x / np.sqrt(2))\n",
    "        )\n",
    "    ) / erfi(1 / np.sqrt(2))\n",
    "\n",
    "\n",
    "def f_n(x, n):\n",
    "    return x**n * (1 - x)\n",
    "\n",
    "\n",
    "def f0(x):\n",
    "    return f_n(x, 0)\n",
    "\n",
    "\n",
    "def f1(x):\n",
    "    return f_n(x, 1)\n",
    "\n",
    "\n",
    "def f2(x):\n",
    "    return f_n(x, 2)\n",
    "\n",
    "\n",
    "def f3(x):\n",
    "    return f_n(x, 3)\n",
    "\n",
    "\n",
    "def f4(x):\n",
    "    return f_n(x, 4)\n",
    "\n",
    "\n",
    "def c0(x):\n",
    "    return 1 - 4 * x\n",
    "\n",
    "\n",
    "def c1(x):\n",
    "    return -2 + 2 * x - 3 * x**2\n",
    "\n",
    "\n",
    "def c2(x):\n",
    "    return 2 - 6 * x + 3 * x**2 - 4 * x**3\n",
    "\n",
    "\n",
    "def c3(x):\n",
    "    return 6 * x - 12 * x**2 + 4 * x**3 - 5 * x**4\n",
    "\n",
    "\n",
    "def c4(x):\n",
    "    return 12 * x**2 - 20 * x**3 + 5 * x**4 + 6 * x**5\n",
    "\n",
    "\n",
    "x = np.linspace(-0.5, 2.0, 100)\n",
    "y = [ODESolution(xp) for xp in x]\n",
    "\n",
    "\n",
    "x_pred = np.linspace(0, 1, 10)\n",
    "f_pred2, c_pred2 = ODE(x_pred, 2, [f0, f1, f2], [c0, c1, c2])\n",
    "f_pred3, c_pred3 = ODE(x_pred, 3, [f0, f1, f2, f3], [c0, c1, c2, c3])\n",
    "# f_pred4, c_pred4 = GetApproximateODE(\n",
    "#     x_pred, 4, [f0, f1, f2, f3, f4], [c0, c1, c2, c3, c4]\n",
    "# )\n",
    "\n",
    "print(\"deg 2:\")\n",
    "for coeff in [1.0, *c_pred2]:\n",
    "    print(f\"{coeff:.6f}\", end=\"  \")\n",
    "print()\n",
    "print(\"deg 3:\")\n",
    "for coeff in [1.0, *c_pred3]:\n",
    "    print(f\"{coeff:.6f}\", end=\"  \")\n",
    "print()\n",
    "# print(\"deg 4:\")\n",
    "# for coeff in [1.0, *c_pred4]:\n",
    "#     print(f\"{coeff:.6f}\", end=\"  \")\n",
    "# print()\n",
    "\n",
    "y_pred2 = [f_pred2(xp) for xp in x]\n",
    "y_pred3 = [f_pred3(xp) for xp in x]\n",
    "# y_pred4 = [f_pred4(xp) for xp in x]\n",
    "\n",
    "fig = px.line()\n",
    "fig.add_trace(go.Scatter(x=x, y=y, name=\"решение\"))\n",
    "fig.add_trace(go.Scatter(x=x, y=y_pred2, name=\"n = 2\"))\n",
    "fig.add_trace(go.Scatter(x=x, y=y_pred3, name=\"n = 3\"))\n",
    "# fig.add_trace(go.Scatter(x=x, y=y_pred4, name=\"n = 4\"))\n",
    "\n",
    "fig.show()"
   ]
  }
 ],
 "metadata": {
  "kernelspec": {
   "display_name": "Python 3",
   "language": "python",
   "name": "python3"
  },
  "language_info": {
   "codemirror_mode": {
    "name": "ipython",
    "version": 3
   },
   "file_extension": ".py",
   "mimetype": "text/x-python",
   "name": "python",
   "nbconvert_exporter": "python",
   "pygments_lexer": "ipython3",
   "version": "3.12.3"
  }
 },
 "nbformat": 4,
 "nbformat_minor": 2
}
