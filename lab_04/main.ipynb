{
 "cells": [
  {
   "cell_type": "code",
   "execution_count": 1,
   "metadata": {},
   "outputs": [],
   "source": [
    "import plotly.express as px\n",
    "import plotly.graph_objects as go\n",
    "from src.io import *\n",
    "from src.least_squares import *\n",
    "from src.ode import ODE\n",
    "import numpy as np\n",
    "from scipy.special import erfi"
   ]
  },
  {
   "cell_type": "code",
   "execution_count": 2,
   "metadata": {},
   "outputs": [
    {
     "name": "stdout",
     "output_type": "stream",
     "text": [
      "Коэф-ты:\n",
      "0:\t1.000000\n",
      "1:\t-0.593811\n",
      "2:\t0.066731\n",
      "3:\t-0.000194\n",
      "4:\t0.001088\n",
      "5:\t-0.000245\n",
      "6:\t0.000018\n",
      "7:\t-0.000001\n",
      "8:\t0.000000\n",
      "9:\t-0.000000\n"
     ]
    },
    {
     "data": {
      "application/vnd.plotly.v1+json": {
       "config": {
        "plotlyServerURL": "https://plot.ly"
       },
       "data": [
        {
         "hovertemplate": "x=%{x}<br>y=%{y}<extra></extra>",
         "legendgroup": "",
         "marker": {
          "color": "#636efa",
          "symbol": "circle"
         },
         "mode": "markers",
         "name": "",
         "orientation": "v",
         "showlegend": false,
         "type": "scatter",
         "x": [
          0,
          2.5,
          5,
          7.5,
          10
         ],
         "xaxis": "x",
         "y": [
          1,
          -0.048,
          -0.178,
          0.266,
          -0.246
         ],
         "yaxis": "y"
        },
        {
         "name": "Приближение",
         "type": "scatter",
         "x": [
          0,
          0.10101010101010101,
          0.20202020202020202,
          0.30303030303030304,
          0.40404040404040403,
          0.5050505050505051,
          0.6060606060606061,
          0.7070707070707071,
          0.8080808080808081,
          0.9090909090909091,
          1.0101010101010102,
          1.1111111111111112,
          1.2121212121212122,
          1.3131313131313131,
          1.4141414141414141,
          1.5151515151515151,
          1.6161616161616161,
          1.7171717171717171,
          1.8181818181818181,
          1.9191919191919191,
          2.0202020202020203,
          2.121212121212121,
          2.2222222222222223,
          2.323232323232323,
          2.4242424242424243,
          2.525252525252525,
          2.6262626262626263,
          2.727272727272727,
          2.8282828282828283,
          2.929292929292929,
          3.0303030303030303,
          3.131313131313131,
          3.2323232323232323,
          3.3333333333333335,
          3.4343434343434343,
          3.5353535353535355,
          3.6363636363636362,
          3.7373737373737375,
          3.8383838383838382,
          3.9393939393939394,
          4.040404040404041,
          4.141414141414141,
          4.242424242424242,
          4.343434343434343,
          4.444444444444445,
          4.545454545454545,
          4.646464646464646,
          4.747474747474747,
          4.848484848484849,
          4.94949494949495,
          5.05050505050505,
          5.151515151515151,
          5.252525252525253,
          5.353535353535354,
          5.454545454545454,
          5.555555555555555,
          5.656565656565657,
          5.757575757575758,
          5.858585858585858,
          5.959595959595959,
          6.0606060606060606,
          6.161616161616162,
          6.262626262626262,
          6.363636363636363,
          6.4646464646464645,
          6.565656565656566,
          6.666666666666667,
          6.767676767676767,
          6.8686868686868685,
          6.96969696969697,
          7.070707070707071,
          7.171717171717171,
          7.2727272727272725,
          7.373737373737374,
          7.474747474747475,
          7.575757575757575,
          7.6767676767676765,
          7.777777777777778,
          7.878787878787879,
          7.979797979797979,
          8.080808080808081,
          8.181818181818182,
          8.282828282828282,
          8.383838383838384,
          8.484848484848484,
          8.585858585858587,
          8.686868686868687,
          8.787878787878787,
          8.88888888888889,
          8.98989898989899,
          9.09090909090909,
          9.191919191919192,
          9.292929292929292,
          9.393939393939394,
          9.494949494949495,
          9.595959595959595,
          9.696969696969697,
          9.797979797979798,
          9.8989898989899,
          10
         ],
         "y": [
          1,
          0.939164641012245,
          0.8798909046806265,
          0.8221770104910782,
          0.766021637903493,
          0.7114238639074213,
          0.6583831023098297,
          0.6068990446367412,
          0.5569716025360482,
          0.5086008515738804,
          0.4617869763216414,
          0.41653021663513146,
          0.3728308150310792,
          0.33068896506987144,
          0.29010476065628443,
          0.2510781461725569,
          0.213608867360213,
          0.17769642286859016,
          0.14334001638906274,
          0.11053850929444317,
          0.0792903737029911,
          0.04959364588581154,
          0.021445879935213366,
          -0.005155898390239212,
          -0.03021523773070872,
          -0.05373630718991548,
          -0.07572394249340302,
          -0.09618369233824733,
          -0.11512186503735677,
          -0.13254557556733979,
          -0.14846279313549918,
          -0.16288238938880847,
          -0.1758141873958216,
          -0.1872690115413096,
          -0.19725873848308303,
          -0.20579634933092583,
          -0.21289598321886816,
          -0.21857299245417816,
          -0.22284399943947375,
          -0.2257269555782595,
          -0.22724120238898923,
          -0.22740753506849512,
          -0.22624826876226178,
          -0.22378730781666178,
          -0.220050218306825,
          -0.21506430415340974,
          -0.20885868716210362,
          -0.20146439134128827,
          -0.19291443187593796,
          -0.1832439091595184,
          -0.17249010831042286,
          -0.16069260462534332,
          -0.14789337544894068,
          -0.1341369189672867,
          -0.11947038046177275,
          -0.10394368659059751,
          -0.08760968829651553,
          -0.07052431297230514,
          -0.05274672654940536,
          -0.03433950621037158,
          -0.015368824462293486,
          0.004095354653980631,
          0.023979066404946736,
          0.04420412240170089,
          0.06468787293753762,
          0.08534295368715125,
          0.10607701578434349,
          0.1267924382495149,
          0.14738602169110052,
          0.16774866215669418,
          0.18776500395966975,
          0.2073130702558254,
          0.22626387009177548,
          0.24448098059254653,
          0.26182010290015223,
          0.27812859041759685,
          0.29324494785405447,
          0.306998299506607,
          0.31920782515209684,
          0.3296821618591709,
          0.3382187699655605,
          0.3446032613990179,
          0.34860868845200155,
          0.34999479105034714,
          0.3485072004845026,
          0.3438765974987027,
          0.33581782255847786,
          0.3240289360401939,
          0.30819022600795654,
          0.28796316116301474,
          0.2629892864689174,
          0.2328890588719548,
          0.1972606204508956,
          0.1556785062427386,
          0.10769228390204544,
          0.05282512226034092,
          -0.009427714240686502,
          -0.079600448363352,
          -0.15825845335324734,
          -0.24600000000000077
         ]
        }
       ],
       "layout": {
        "legend": {
         "tracegroupgap": 0
        },
        "margin": {
         "t": 60
        },
        "template": {
         "data": {
          "bar": [
           {
            "error_x": {
             "color": "#2a3f5f"
            },
            "error_y": {
             "color": "#2a3f5f"
            },
            "marker": {
             "line": {
              "color": "#E5ECF6",
              "width": 0.5
             },
             "pattern": {
              "fillmode": "overlay",
              "size": 10,
              "solidity": 0.2
             }
            },
            "type": "bar"
           }
          ],
          "barpolar": [
           {
            "marker": {
             "line": {
              "color": "#E5ECF6",
              "width": 0.5
             },
             "pattern": {
              "fillmode": "overlay",
              "size": 10,
              "solidity": 0.2
             }
            },
            "type": "barpolar"
           }
          ],
          "carpet": [
           {
            "aaxis": {
             "endlinecolor": "#2a3f5f",
             "gridcolor": "white",
             "linecolor": "white",
             "minorgridcolor": "white",
             "startlinecolor": "#2a3f5f"
            },
            "baxis": {
             "endlinecolor": "#2a3f5f",
             "gridcolor": "white",
             "linecolor": "white",
             "minorgridcolor": "white",
             "startlinecolor": "#2a3f5f"
            },
            "type": "carpet"
           }
          ],
          "choropleth": [
           {
            "colorbar": {
             "outlinewidth": 0,
             "ticks": ""
            },
            "type": "choropleth"
           }
          ],
          "contour": [
           {
            "colorbar": {
             "outlinewidth": 0,
             "ticks": ""
            },
            "colorscale": [
             [
              0,
              "#0d0887"
             ],
             [
              0.1111111111111111,
              "#46039f"
             ],
             [
              0.2222222222222222,
              "#7201a8"
             ],
             [
              0.3333333333333333,
              "#9c179e"
             ],
             [
              0.4444444444444444,
              "#bd3786"
             ],
             [
              0.5555555555555556,
              "#d8576b"
             ],
             [
              0.6666666666666666,
              "#ed7953"
             ],
             [
              0.7777777777777778,
              "#fb9f3a"
             ],
             [
              0.8888888888888888,
              "#fdca26"
             ],
             [
              1,
              "#f0f921"
             ]
            ],
            "type": "contour"
           }
          ],
          "contourcarpet": [
           {
            "colorbar": {
             "outlinewidth": 0,
             "ticks": ""
            },
            "type": "contourcarpet"
           }
          ],
          "heatmap": [
           {
            "colorbar": {
             "outlinewidth": 0,
             "ticks": ""
            },
            "colorscale": [
             [
              0,
              "#0d0887"
             ],
             [
              0.1111111111111111,
              "#46039f"
             ],
             [
              0.2222222222222222,
              "#7201a8"
             ],
             [
              0.3333333333333333,
              "#9c179e"
             ],
             [
              0.4444444444444444,
              "#bd3786"
             ],
             [
              0.5555555555555556,
              "#d8576b"
             ],
             [
              0.6666666666666666,
              "#ed7953"
             ],
             [
              0.7777777777777778,
              "#fb9f3a"
             ],
             [
              0.8888888888888888,
              "#fdca26"
             ],
             [
              1,
              "#f0f921"
             ]
            ],
            "type": "heatmap"
           }
          ],
          "heatmapgl": [
           {
            "colorbar": {
             "outlinewidth": 0,
             "ticks": ""
            },
            "colorscale": [
             [
              0,
              "#0d0887"
             ],
             [
              0.1111111111111111,
              "#46039f"
             ],
             [
              0.2222222222222222,
              "#7201a8"
             ],
             [
              0.3333333333333333,
              "#9c179e"
             ],
             [
              0.4444444444444444,
              "#bd3786"
             ],
             [
              0.5555555555555556,
              "#d8576b"
             ],
             [
              0.6666666666666666,
              "#ed7953"
             ],
             [
              0.7777777777777778,
              "#fb9f3a"
             ],
             [
              0.8888888888888888,
              "#fdca26"
             ],
             [
              1,
              "#f0f921"
             ]
            ],
            "type": "heatmapgl"
           }
          ],
          "histogram": [
           {
            "marker": {
             "pattern": {
              "fillmode": "overlay",
              "size": 10,
              "solidity": 0.2
             }
            },
            "type": "histogram"
           }
          ],
          "histogram2d": [
           {
            "colorbar": {
             "outlinewidth": 0,
             "ticks": ""
            },
            "colorscale": [
             [
              0,
              "#0d0887"
             ],
             [
              0.1111111111111111,
              "#46039f"
             ],
             [
              0.2222222222222222,
              "#7201a8"
             ],
             [
              0.3333333333333333,
              "#9c179e"
             ],
             [
              0.4444444444444444,
              "#bd3786"
             ],
             [
              0.5555555555555556,
              "#d8576b"
             ],
             [
              0.6666666666666666,
              "#ed7953"
             ],
             [
              0.7777777777777778,
              "#fb9f3a"
             ],
             [
              0.8888888888888888,
              "#fdca26"
             ],
             [
              1,
              "#f0f921"
             ]
            ],
            "type": "histogram2d"
           }
          ],
          "histogram2dcontour": [
           {
            "colorbar": {
             "outlinewidth": 0,
             "ticks": ""
            },
            "colorscale": [
             [
              0,
              "#0d0887"
             ],
             [
              0.1111111111111111,
              "#46039f"
             ],
             [
              0.2222222222222222,
              "#7201a8"
             ],
             [
              0.3333333333333333,
              "#9c179e"
             ],
             [
              0.4444444444444444,
              "#bd3786"
             ],
             [
              0.5555555555555556,
              "#d8576b"
             ],
             [
              0.6666666666666666,
              "#ed7953"
             ],
             [
              0.7777777777777778,
              "#fb9f3a"
             ],
             [
              0.8888888888888888,
              "#fdca26"
             ],
             [
              1,
              "#f0f921"
             ]
            ],
            "type": "histogram2dcontour"
           }
          ],
          "mesh3d": [
           {
            "colorbar": {
             "outlinewidth": 0,
             "ticks": ""
            },
            "type": "mesh3d"
           }
          ],
          "parcoords": [
           {
            "line": {
             "colorbar": {
              "outlinewidth": 0,
              "ticks": ""
             }
            },
            "type": "parcoords"
           }
          ],
          "pie": [
           {
            "automargin": true,
            "type": "pie"
           }
          ],
          "scatter": [
           {
            "fillpattern": {
             "fillmode": "overlay",
             "size": 10,
             "solidity": 0.2
            },
            "type": "scatter"
           }
          ],
          "scatter3d": [
           {
            "line": {
             "colorbar": {
              "outlinewidth": 0,
              "ticks": ""
             }
            },
            "marker": {
             "colorbar": {
              "outlinewidth": 0,
              "ticks": ""
             }
            },
            "type": "scatter3d"
           }
          ],
          "scattercarpet": [
           {
            "marker": {
             "colorbar": {
              "outlinewidth": 0,
              "ticks": ""
             }
            },
            "type": "scattercarpet"
           }
          ],
          "scattergeo": [
           {
            "marker": {
             "colorbar": {
              "outlinewidth": 0,
              "ticks": ""
             }
            },
            "type": "scattergeo"
           }
          ],
          "scattergl": [
           {
            "marker": {
             "colorbar": {
              "outlinewidth": 0,
              "ticks": ""
             }
            },
            "type": "scattergl"
           }
          ],
          "scattermapbox": [
           {
            "marker": {
             "colorbar": {
              "outlinewidth": 0,
              "ticks": ""
             }
            },
            "type": "scattermapbox"
           }
          ],
          "scatterpolar": [
           {
            "marker": {
             "colorbar": {
              "outlinewidth": 0,
              "ticks": ""
             }
            },
            "type": "scatterpolar"
           }
          ],
          "scatterpolargl": [
           {
            "marker": {
             "colorbar": {
              "outlinewidth": 0,
              "ticks": ""
             }
            },
            "type": "scatterpolargl"
           }
          ],
          "scatterternary": [
           {
            "marker": {
             "colorbar": {
              "outlinewidth": 0,
              "ticks": ""
             }
            },
            "type": "scatterternary"
           }
          ],
          "surface": [
           {
            "colorbar": {
             "outlinewidth": 0,
             "ticks": ""
            },
            "colorscale": [
             [
              0,
              "#0d0887"
             ],
             [
              0.1111111111111111,
              "#46039f"
             ],
             [
              0.2222222222222222,
              "#7201a8"
             ],
             [
              0.3333333333333333,
              "#9c179e"
             ],
             [
              0.4444444444444444,
              "#bd3786"
             ],
             [
              0.5555555555555556,
              "#d8576b"
             ],
             [
              0.6666666666666666,
              "#ed7953"
             ],
             [
              0.7777777777777778,
              "#fb9f3a"
             ],
             [
              0.8888888888888888,
              "#fdca26"
             ],
             [
              1,
              "#f0f921"
             ]
            ],
            "type": "surface"
           }
          ],
          "table": [
           {
            "cells": {
             "fill": {
              "color": "#EBF0F8"
             },
             "line": {
              "color": "white"
             }
            },
            "header": {
             "fill": {
              "color": "#C8D4E3"
             },
             "line": {
              "color": "white"
             }
            },
            "type": "table"
           }
          ]
         },
         "layout": {
          "annotationdefaults": {
           "arrowcolor": "#2a3f5f",
           "arrowhead": 0,
           "arrowwidth": 1
          },
          "autotypenumbers": "strict",
          "coloraxis": {
           "colorbar": {
            "outlinewidth": 0,
            "ticks": ""
           }
          },
          "colorscale": {
           "diverging": [
            [
             0,
             "#8e0152"
            ],
            [
             0.1,
             "#c51b7d"
            ],
            [
             0.2,
             "#de77ae"
            ],
            [
             0.3,
             "#f1b6da"
            ],
            [
             0.4,
             "#fde0ef"
            ],
            [
             0.5,
             "#f7f7f7"
            ],
            [
             0.6,
             "#e6f5d0"
            ],
            [
             0.7,
             "#b8e186"
            ],
            [
             0.8,
             "#7fbc41"
            ],
            [
             0.9,
             "#4d9221"
            ],
            [
             1,
             "#276419"
            ]
           ],
           "sequential": [
            [
             0,
             "#0d0887"
            ],
            [
             0.1111111111111111,
             "#46039f"
            ],
            [
             0.2222222222222222,
             "#7201a8"
            ],
            [
             0.3333333333333333,
             "#9c179e"
            ],
            [
             0.4444444444444444,
             "#bd3786"
            ],
            [
             0.5555555555555556,
             "#d8576b"
            ],
            [
             0.6666666666666666,
             "#ed7953"
            ],
            [
             0.7777777777777778,
             "#fb9f3a"
            ],
            [
             0.8888888888888888,
             "#fdca26"
            ],
            [
             1,
             "#f0f921"
            ]
           ],
           "sequentialminus": [
            [
             0,
             "#0d0887"
            ],
            [
             0.1111111111111111,
             "#46039f"
            ],
            [
             0.2222222222222222,
             "#7201a8"
            ],
            [
             0.3333333333333333,
             "#9c179e"
            ],
            [
             0.4444444444444444,
             "#bd3786"
            ],
            [
             0.5555555555555556,
             "#d8576b"
            ],
            [
             0.6666666666666666,
             "#ed7953"
            ],
            [
             0.7777777777777778,
             "#fb9f3a"
            ],
            [
             0.8888888888888888,
             "#fdca26"
            ],
            [
             1,
             "#f0f921"
            ]
           ]
          },
          "colorway": [
           "#636efa",
           "#EF553B",
           "#00cc96",
           "#ab63fa",
           "#FFA15A",
           "#19d3f3",
           "#FF6692",
           "#B6E880",
           "#FF97FF",
           "#FECB52"
          ],
          "font": {
           "color": "#2a3f5f"
          },
          "geo": {
           "bgcolor": "white",
           "lakecolor": "white",
           "landcolor": "#E5ECF6",
           "showlakes": true,
           "showland": true,
           "subunitcolor": "white"
          },
          "hoverlabel": {
           "align": "left"
          },
          "hovermode": "closest",
          "mapbox": {
           "style": "light"
          },
          "paper_bgcolor": "white",
          "plot_bgcolor": "#E5ECF6",
          "polar": {
           "angularaxis": {
            "gridcolor": "white",
            "linecolor": "white",
            "ticks": ""
           },
           "bgcolor": "#E5ECF6",
           "radialaxis": {
            "gridcolor": "white",
            "linecolor": "white",
            "ticks": ""
           }
          },
          "scene": {
           "xaxis": {
            "backgroundcolor": "#E5ECF6",
            "gridcolor": "white",
            "gridwidth": 2,
            "linecolor": "white",
            "showbackground": true,
            "ticks": "",
            "zerolinecolor": "white"
           },
           "yaxis": {
            "backgroundcolor": "#E5ECF6",
            "gridcolor": "white",
            "gridwidth": 2,
            "linecolor": "white",
            "showbackground": true,
            "ticks": "",
            "zerolinecolor": "white"
           },
           "zaxis": {
            "backgroundcolor": "#E5ECF6",
            "gridcolor": "white",
            "gridwidth": 2,
            "linecolor": "white",
            "showbackground": true,
            "ticks": "",
            "zerolinecolor": "white"
           }
          },
          "shapedefaults": {
           "line": {
            "color": "#2a3f5f"
           }
          },
          "ternary": {
           "aaxis": {
            "gridcolor": "white",
            "linecolor": "white",
            "ticks": ""
           },
           "baxis": {
            "gridcolor": "white",
            "linecolor": "white",
            "ticks": ""
           },
           "bgcolor": "#E5ECF6",
           "caxis": {
            "gridcolor": "white",
            "linecolor": "white",
            "ticks": ""
           }
          },
          "title": {
           "x": 0.05
          },
          "xaxis": {
           "automargin": true,
           "gridcolor": "white",
           "linecolor": "white",
           "ticks": "",
           "title": {
            "standoff": 15
           },
           "zerolinecolor": "white",
           "zerolinewidth": 2
          },
          "yaxis": {
           "automargin": true,
           "gridcolor": "white",
           "linecolor": "white",
           "ticks": "",
           "title": {
            "standoff": 15
           },
           "zerolinecolor": "white",
           "zerolinewidth": 2
          }
         }
        },
        "xaxis": {
         "anchor": "y",
         "domain": [
          0,
          1
         ],
         "title": {
          "text": "x"
         }
        },
        "yaxis": {
         "anchor": "x",
         "domain": [
          0,
          1
         ],
         "title": {
          "text": "y"
         }
        }
       }
      }
     },
     "metadata": {},
     "output_type": "display_data"
    }
   ],
   "source": [
    "x, y, p = read_xypdata(\"data/tmp41\")\n",
    "\n",
    "x_pred = np.linspace(min(x), max(x), 100)\n",
    "f_pred = LeastSquare(x, y, p, 10)\n",
    "y_pred = [f_pred(xi) for xi in x_pred]\n",
    "\n",
    "f_coeffs = LeastSquaresCoeffs(x, y, p, 9)\n",
    "\n",
    "print(\"Коэф-ты:\")\n",
    "for i, coeff in enumerate(f_coeffs):\n",
    "    print(f\"{i}:\\t{coeff:.6f}\")\n",
    "\n",
    "fig = px.scatter(x=x, y=y)\n",
    "fig.add_trace(go.Scatter(x=x_pred, y=y_pred, name=\"Приближение\"))\n",
    "fig.show()"
   ]
  },
  {
   "cell_type": "code",
   "execution_count": 3,
   "metadata": {},
   "outputs": [],
   "source": [
    "def getMassCenter(x: list[float], y: list[float], p: list[float]):\n",
    "    msum = sum(p)\n",
    "    xmc = 0\n",
    "    ymc = 0\n",
    "\n",
    "    for i in range(len(x)):\n",
    "        xmc += x[i] * p[i] / msum\n",
    "\n",
    "    for i in range(len(y)):\n",
    "        ymc += y[i] * p[i] / msum\n",
    "\n",
    "    return xmc, ymc"
   ]
  },
  {
   "cell_type": "code",
   "execution_count": 4,
   "metadata": {},
   "outputs": [
    {
     "name": "stdout",
     "output_type": "stream",
     "text": [
      "Центр масс: \n",
      "1.608481 1.965984\n",
      "Коэф-ты:\n",
      "0:\t-0.646045\n",
      "1:\t-0.012011\n",
      "2:\t0.010577\n",
      "3:\t0.497618\n",
      "Коэф-ты:\n",
      "0:\t0.990217\n",
      "1:\t0.514970\n",
      "2:\t-0.063773\n",
      "3:\t0.002622\n"
     ]
    },
    {
     "data": {
      "application/vnd.plotly.v1+json": {
       "config": {
        "plotlyServerURL": "https://plot.ly"
       },
       "data": [
        {
         "hovertemplate": "x=%{x}<br>y=%{y}<extra></extra>",
         "legendgroup": "",
         "marker": {
          "color": "#636efa",
          "symbol": "circle"
         },
         "mode": "markers",
         "name": "",
         "orientation": "v",
         "showlegend": false,
         "type": "scatter",
         "x": [
          0,
          0.524,
          1.047,
          1.571,
          2.094,
          2.618,
          3.142,
          -0.648,
          -0.576,
          -0.074,
          1.29,
          3.946,
          8.324,
          14.855,
          1.608481353754163
         ],
         "xaxis": "x",
         "y": [
          -0.648,
          -0.576,
          -0.074,
          1.29,
          3.946,
          8.324,
          14.855,
          0,
          0.524,
          1.047,
          1.571,
          2.094,
          2.618,
          3.142,
          1.9659839369541843
         ],
         "yaxis": "y"
        },
        {
         "name": "Приближение x",
         "type": "scatter",
         "x": [
          0,
          0.16536842105263158,
          0.33073684210526316,
          0.4961052631578947,
          0.6614736842105263,
          0.8268421052631579,
          0.9922105263157894,
          1.157578947368421,
          1.3229473684210526,
          1.4883157894736843,
          1.6536842105263159,
          1.8190526315789475,
          1.9844210526315789,
          2.1497894736842107,
          2.315157894736842,
          2.480526315789474,
          2.6458947368421053,
          2.8112631578947367,
          2.9766315789473685,
          3.142
         ],
         "y": [
          -6.098253689944895,
          -5.269167148008306,
          -4.440080606071717,
          -3.6109940641351295,
          -2.7819075221985408,
          -1.9528209802619525,
          -1.1237344383253642,
          -0.294647896388776,
          0.5344386455478132,
          1.3635251874844014,
          2.1926117294209897,
          3.0216982713575797,
          3.850784813294166,
          4.679871355230756,
          5.508957897167343,
          6.338044439103933,
          7.167130981040521,
          7.9962175229771075,
          8.825304064913698,
          9.654390606850285
         ]
        },
        {
         "name": "Приближение y",
         "type": "scatter",
         "x": [
          -0.648,
          0.16794736842105262,
          0.9838947368421053,
          1.7998421052631577,
          2.6157894736842104,
          3.431736842105263,
          4.247684210526316,
          5.063631578947369,
          5.8795789473684215,
          6.695526315789474,
          7.511473684210527,
          8.32742105263158,
          9.143368421052632,
          9.959315789473685,
          10.775263157894738,
          11.59121052631579,
          12.407157894736843,
          13.223105263157896,
          14.039052631578947,
          14.855
         ],
         "y": [
          1.2120235127200596,
          1.335776657300817,
          1.4595298018815743,
          1.5832829464623317,
          1.707036091043089,
          1.8307892356238464,
          1.954542380204604,
          2.0782955247853616,
          2.202048669366119,
          2.3258018139468764,
          2.4495549585276337,
          2.573308103108391,
          2.697061247689148,
          2.820814392269906,
          2.944567536850663,
          3.0683206814314206,
          3.192073826012178,
          3.3158269705929353,
          3.439580115173693,
          3.56333325975445
         ]
        }
       ],
       "layout": {
        "legend": {
         "tracegroupgap": 0
        },
        "margin": {
         "t": 60
        },
        "template": {
         "data": {
          "bar": [
           {
            "error_x": {
             "color": "#2a3f5f"
            },
            "error_y": {
             "color": "#2a3f5f"
            },
            "marker": {
             "line": {
              "color": "#E5ECF6",
              "width": 0.5
             },
             "pattern": {
              "fillmode": "overlay",
              "size": 10,
              "solidity": 0.2
             }
            },
            "type": "bar"
           }
          ],
          "barpolar": [
           {
            "marker": {
             "line": {
              "color": "#E5ECF6",
              "width": 0.5
             },
             "pattern": {
              "fillmode": "overlay",
              "size": 10,
              "solidity": 0.2
             }
            },
            "type": "barpolar"
           }
          ],
          "carpet": [
           {
            "aaxis": {
             "endlinecolor": "#2a3f5f",
             "gridcolor": "white",
             "linecolor": "white",
             "minorgridcolor": "white",
             "startlinecolor": "#2a3f5f"
            },
            "baxis": {
             "endlinecolor": "#2a3f5f",
             "gridcolor": "white",
             "linecolor": "white",
             "minorgridcolor": "white",
             "startlinecolor": "#2a3f5f"
            },
            "type": "carpet"
           }
          ],
          "choropleth": [
           {
            "colorbar": {
             "outlinewidth": 0,
             "ticks": ""
            },
            "type": "choropleth"
           }
          ],
          "contour": [
           {
            "colorbar": {
             "outlinewidth": 0,
             "ticks": ""
            },
            "colorscale": [
             [
              0,
              "#0d0887"
             ],
             [
              0.1111111111111111,
              "#46039f"
             ],
             [
              0.2222222222222222,
              "#7201a8"
             ],
             [
              0.3333333333333333,
              "#9c179e"
             ],
             [
              0.4444444444444444,
              "#bd3786"
             ],
             [
              0.5555555555555556,
              "#d8576b"
             ],
             [
              0.6666666666666666,
              "#ed7953"
             ],
             [
              0.7777777777777778,
              "#fb9f3a"
             ],
             [
              0.8888888888888888,
              "#fdca26"
             ],
             [
              1,
              "#f0f921"
             ]
            ],
            "type": "contour"
           }
          ],
          "contourcarpet": [
           {
            "colorbar": {
             "outlinewidth": 0,
             "ticks": ""
            },
            "type": "contourcarpet"
           }
          ],
          "heatmap": [
           {
            "colorbar": {
             "outlinewidth": 0,
             "ticks": ""
            },
            "colorscale": [
             [
              0,
              "#0d0887"
             ],
             [
              0.1111111111111111,
              "#46039f"
             ],
             [
              0.2222222222222222,
              "#7201a8"
             ],
             [
              0.3333333333333333,
              "#9c179e"
             ],
             [
              0.4444444444444444,
              "#bd3786"
             ],
             [
              0.5555555555555556,
              "#d8576b"
             ],
             [
              0.6666666666666666,
              "#ed7953"
             ],
             [
              0.7777777777777778,
              "#fb9f3a"
             ],
             [
              0.8888888888888888,
              "#fdca26"
             ],
             [
              1,
              "#f0f921"
             ]
            ],
            "type": "heatmap"
           }
          ],
          "heatmapgl": [
           {
            "colorbar": {
             "outlinewidth": 0,
             "ticks": ""
            },
            "colorscale": [
             [
              0,
              "#0d0887"
             ],
             [
              0.1111111111111111,
              "#46039f"
             ],
             [
              0.2222222222222222,
              "#7201a8"
             ],
             [
              0.3333333333333333,
              "#9c179e"
             ],
             [
              0.4444444444444444,
              "#bd3786"
             ],
             [
              0.5555555555555556,
              "#d8576b"
             ],
             [
              0.6666666666666666,
              "#ed7953"
             ],
             [
              0.7777777777777778,
              "#fb9f3a"
             ],
             [
              0.8888888888888888,
              "#fdca26"
             ],
             [
              1,
              "#f0f921"
             ]
            ],
            "type": "heatmapgl"
           }
          ],
          "histogram": [
           {
            "marker": {
             "pattern": {
              "fillmode": "overlay",
              "size": 10,
              "solidity": 0.2
             }
            },
            "type": "histogram"
           }
          ],
          "histogram2d": [
           {
            "colorbar": {
             "outlinewidth": 0,
             "ticks": ""
            },
            "colorscale": [
             [
              0,
              "#0d0887"
             ],
             [
              0.1111111111111111,
              "#46039f"
             ],
             [
              0.2222222222222222,
              "#7201a8"
             ],
             [
              0.3333333333333333,
              "#9c179e"
             ],
             [
              0.4444444444444444,
              "#bd3786"
             ],
             [
              0.5555555555555556,
              "#d8576b"
             ],
             [
              0.6666666666666666,
              "#ed7953"
             ],
             [
              0.7777777777777778,
              "#fb9f3a"
             ],
             [
              0.8888888888888888,
              "#fdca26"
             ],
             [
              1,
              "#f0f921"
             ]
            ],
            "type": "histogram2d"
           }
          ],
          "histogram2dcontour": [
           {
            "colorbar": {
             "outlinewidth": 0,
             "ticks": ""
            },
            "colorscale": [
             [
              0,
              "#0d0887"
             ],
             [
              0.1111111111111111,
              "#46039f"
             ],
             [
              0.2222222222222222,
              "#7201a8"
             ],
             [
              0.3333333333333333,
              "#9c179e"
             ],
             [
              0.4444444444444444,
              "#bd3786"
             ],
             [
              0.5555555555555556,
              "#d8576b"
             ],
             [
              0.6666666666666666,
              "#ed7953"
             ],
             [
              0.7777777777777778,
              "#fb9f3a"
             ],
             [
              0.8888888888888888,
              "#fdca26"
             ],
             [
              1,
              "#f0f921"
             ]
            ],
            "type": "histogram2dcontour"
           }
          ],
          "mesh3d": [
           {
            "colorbar": {
             "outlinewidth": 0,
             "ticks": ""
            },
            "type": "mesh3d"
           }
          ],
          "parcoords": [
           {
            "line": {
             "colorbar": {
              "outlinewidth": 0,
              "ticks": ""
             }
            },
            "type": "parcoords"
           }
          ],
          "pie": [
           {
            "automargin": true,
            "type": "pie"
           }
          ],
          "scatter": [
           {
            "fillpattern": {
             "fillmode": "overlay",
             "size": 10,
             "solidity": 0.2
            },
            "type": "scatter"
           }
          ],
          "scatter3d": [
           {
            "line": {
             "colorbar": {
              "outlinewidth": 0,
              "ticks": ""
             }
            },
            "marker": {
             "colorbar": {
              "outlinewidth": 0,
              "ticks": ""
             }
            },
            "type": "scatter3d"
           }
          ],
          "scattercarpet": [
           {
            "marker": {
             "colorbar": {
              "outlinewidth": 0,
              "ticks": ""
             }
            },
            "type": "scattercarpet"
           }
          ],
          "scattergeo": [
           {
            "marker": {
             "colorbar": {
              "outlinewidth": 0,
              "ticks": ""
             }
            },
            "type": "scattergeo"
           }
          ],
          "scattergl": [
           {
            "marker": {
             "colorbar": {
              "outlinewidth": 0,
              "ticks": ""
             }
            },
            "type": "scattergl"
           }
          ],
          "scattermapbox": [
           {
            "marker": {
             "colorbar": {
              "outlinewidth": 0,
              "ticks": ""
             }
            },
            "type": "scattermapbox"
           }
          ],
          "scatterpolar": [
           {
            "marker": {
             "colorbar": {
              "outlinewidth": 0,
              "ticks": ""
             }
            },
            "type": "scatterpolar"
           }
          ],
          "scatterpolargl": [
           {
            "marker": {
             "colorbar": {
              "outlinewidth": 0,
              "ticks": ""
             }
            },
            "type": "scatterpolargl"
           }
          ],
          "scatterternary": [
           {
            "marker": {
             "colorbar": {
              "outlinewidth": 0,
              "ticks": ""
             }
            },
            "type": "scatterternary"
           }
          ],
          "surface": [
           {
            "colorbar": {
             "outlinewidth": 0,
             "ticks": ""
            },
            "colorscale": [
             [
              0,
              "#0d0887"
             ],
             [
              0.1111111111111111,
              "#46039f"
             ],
             [
              0.2222222222222222,
              "#7201a8"
             ],
             [
              0.3333333333333333,
              "#9c179e"
             ],
             [
              0.4444444444444444,
              "#bd3786"
             ],
             [
              0.5555555555555556,
              "#d8576b"
             ],
             [
              0.6666666666666666,
              "#ed7953"
             ],
             [
              0.7777777777777778,
              "#fb9f3a"
             ],
             [
              0.8888888888888888,
              "#fdca26"
             ],
             [
              1,
              "#f0f921"
             ]
            ],
            "type": "surface"
           }
          ],
          "table": [
           {
            "cells": {
             "fill": {
              "color": "#EBF0F8"
             },
             "line": {
              "color": "white"
             }
            },
            "header": {
             "fill": {
              "color": "#C8D4E3"
             },
             "line": {
              "color": "white"
             }
            },
            "type": "table"
           }
          ]
         },
         "layout": {
          "annotationdefaults": {
           "arrowcolor": "#2a3f5f",
           "arrowhead": 0,
           "arrowwidth": 1
          },
          "autotypenumbers": "strict",
          "coloraxis": {
           "colorbar": {
            "outlinewidth": 0,
            "ticks": ""
           }
          },
          "colorscale": {
           "diverging": [
            [
             0,
             "#8e0152"
            ],
            [
             0.1,
             "#c51b7d"
            ],
            [
             0.2,
             "#de77ae"
            ],
            [
             0.3,
             "#f1b6da"
            ],
            [
             0.4,
             "#fde0ef"
            ],
            [
             0.5,
             "#f7f7f7"
            ],
            [
             0.6,
             "#e6f5d0"
            ],
            [
             0.7,
             "#b8e186"
            ],
            [
             0.8,
             "#7fbc41"
            ],
            [
             0.9,
             "#4d9221"
            ],
            [
             1,
             "#276419"
            ]
           ],
           "sequential": [
            [
             0,
             "#0d0887"
            ],
            [
             0.1111111111111111,
             "#46039f"
            ],
            [
             0.2222222222222222,
             "#7201a8"
            ],
            [
             0.3333333333333333,
             "#9c179e"
            ],
            [
             0.4444444444444444,
             "#bd3786"
            ],
            [
             0.5555555555555556,
             "#d8576b"
            ],
            [
             0.6666666666666666,
             "#ed7953"
            ],
            [
             0.7777777777777778,
             "#fb9f3a"
            ],
            [
             0.8888888888888888,
             "#fdca26"
            ],
            [
             1,
             "#f0f921"
            ]
           ],
           "sequentialminus": [
            [
             0,
             "#0d0887"
            ],
            [
             0.1111111111111111,
             "#46039f"
            ],
            [
             0.2222222222222222,
             "#7201a8"
            ],
            [
             0.3333333333333333,
             "#9c179e"
            ],
            [
             0.4444444444444444,
             "#bd3786"
            ],
            [
             0.5555555555555556,
             "#d8576b"
            ],
            [
             0.6666666666666666,
             "#ed7953"
            ],
            [
             0.7777777777777778,
             "#fb9f3a"
            ],
            [
             0.8888888888888888,
             "#fdca26"
            ],
            [
             1,
             "#f0f921"
            ]
           ]
          },
          "colorway": [
           "#636efa",
           "#EF553B",
           "#00cc96",
           "#ab63fa",
           "#FFA15A",
           "#19d3f3",
           "#FF6692",
           "#B6E880",
           "#FF97FF",
           "#FECB52"
          ],
          "font": {
           "color": "#2a3f5f"
          },
          "geo": {
           "bgcolor": "white",
           "lakecolor": "white",
           "landcolor": "#E5ECF6",
           "showlakes": true,
           "showland": true,
           "subunitcolor": "white"
          },
          "hoverlabel": {
           "align": "left"
          },
          "hovermode": "closest",
          "mapbox": {
           "style": "light"
          },
          "paper_bgcolor": "white",
          "plot_bgcolor": "#E5ECF6",
          "polar": {
           "angularaxis": {
            "gridcolor": "white",
            "linecolor": "white",
            "ticks": ""
           },
           "bgcolor": "#E5ECF6",
           "radialaxis": {
            "gridcolor": "white",
            "linecolor": "white",
            "ticks": ""
           }
          },
          "scene": {
           "xaxis": {
            "backgroundcolor": "#E5ECF6",
            "gridcolor": "white",
            "gridwidth": 2,
            "linecolor": "white",
            "showbackground": true,
            "ticks": "",
            "zerolinecolor": "white"
           },
           "yaxis": {
            "backgroundcolor": "#E5ECF6",
            "gridcolor": "white",
            "gridwidth": 2,
            "linecolor": "white",
            "showbackground": true,
            "ticks": "",
            "zerolinecolor": "white"
           },
           "zaxis": {
            "backgroundcolor": "#E5ECF6",
            "gridcolor": "white",
            "gridwidth": 2,
            "linecolor": "white",
            "showbackground": true,
            "ticks": "",
            "zerolinecolor": "white"
           }
          },
          "shapedefaults": {
           "line": {
            "color": "#2a3f5f"
           }
          },
          "ternary": {
           "aaxis": {
            "gridcolor": "white",
            "linecolor": "white",
            "ticks": ""
           },
           "baxis": {
            "gridcolor": "white",
            "linecolor": "white",
            "ticks": ""
           },
           "bgcolor": "#E5ECF6",
           "caxis": {
            "gridcolor": "white",
            "linecolor": "white",
            "ticks": ""
           }
          },
          "title": {
           "x": 0.05
          },
          "xaxis": {
           "automargin": true,
           "gridcolor": "white",
           "linecolor": "white",
           "ticks": "",
           "title": {
            "standoff": 15
           },
           "zerolinecolor": "white",
           "zerolinewidth": 2
          },
          "yaxis": {
           "automargin": true,
           "gridcolor": "white",
           "linecolor": "white",
           "ticks": "",
           "title": {
            "standoff": 15
           },
           "zerolinecolor": "white",
           "zerolinewidth": 2
          }
         }
        },
        "xaxis": {
         "anchor": "y",
         "domain": [
          0,
          1
         ],
         "title": {
          "text": "x"
         }
        },
        "yaxis": {
         "anchor": "x",
         "domain": [
          0,
          1
         ],
         "title": {
          "text": "y"
         }
        }
       }
      }
     },
     "metadata": {},
     "output_type": "display_data"
    },
    {
     "data": {
      "application/vnd.plotly.v1+json": {
       "config": {
        "plotlyServerURL": "https://plot.ly"
       },
       "data": [
        {
         "hovertemplate": "x=%{x}<br>y=%{y}<extra></extra>",
         "legendgroup": "",
         "marker": {
          "color": "#636efa",
          "symbol": "circle"
         },
         "mode": "markers",
         "name": "",
         "orientation": "v",
         "showlegend": false,
         "type": "scatter",
         "x": [
          0,
          0.524,
          1.047,
          1.571,
          2.094,
          2.618,
          3.142,
          1.608481353754163
         ],
         "xaxis": "x",
         "y": [
          -0.648,
          -0.576,
          -0.074,
          1.29,
          3.946,
          8.324,
          14.855,
          1.9659839369541843
         ],
         "yaxis": "y"
        },
        {
         "type": "scatter",
         "x": [
          0,
          0.16536842105263158,
          0.33073684210526316,
          0.4961052631578947,
          0.6614736842105263,
          0.8268421052631579,
          0.9922105263157894,
          1.157578947368421,
          1.3229473684210526,
          1.4883157894736843,
          1.6536842105263159,
          1.8190526315789475,
          1.9844210526315789,
          2.1497894736842107,
          2.315157894736842,
          2.480526315789474,
          2.6458947368421053,
          2.8112631578947367,
          2.9766315789473685,
          3.142
         ],
         "y": [
          -6.098253689944895,
          -5.269167148008306,
          -4.440080606071717,
          -3.6109940641351295,
          -2.7819075221985408,
          -1.9528209802619525,
          -1.1237344383253642,
          -0.294647896388776,
          0.5344386455478132,
          1.3635251874844014,
          2.1926117294209897,
          3.0216982713575797,
          3.850784813294166,
          4.679871355230756,
          5.508957897167343,
          6.338044439103933,
          7.167130981040521,
          7.9962175229771075,
          8.825304064913698,
          9.654390606850285
         ]
        }
       ],
       "layout": {
        "legend": {
         "tracegroupgap": 0
        },
        "margin": {
         "t": 60
        },
        "template": {
         "data": {
          "bar": [
           {
            "error_x": {
             "color": "#2a3f5f"
            },
            "error_y": {
             "color": "#2a3f5f"
            },
            "marker": {
             "line": {
              "color": "#E5ECF6",
              "width": 0.5
             },
             "pattern": {
              "fillmode": "overlay",
              "size": 10,
              "solidity": 0.2
             }
            },
            "type": "bar"
           }
          ],
          "barpolar": [
           {
            "marker": {
             "line": {
              "color": "#E5ECF6",
              "width": 0.5
             },
             "pattern": {
              "fillmode": "overlay",
              "size": 10,
              "solidity": 0.2
             }
            },
            "type": "barpolar"
           }
          ],
          "carpet": [
           {
            "aaxis": {
             "endlinecolor": "#2a3f5f",
             "gridcolor": "white",
             "linecolor": "white",
             "minorgridcolor": "white",
             "startlinecolor": "#2a3f5f"
            },
            "baxis": {
             "endlinecolor": "#2a3f5f",
             "gridcolor": "white",
             "linecolor": "white",
             "minorgridcolor": "white",
             "startlinecolor": "#2a3f5f"
            },
            "type": "carpet"
           }
          ],
          "choropleth": [
           {
            "colorbar": {
             "outlinewidth": 0,
             "ticks": ""
            },
            "type": "choropleth"
           }
          ],
          "contour": [
           {
            "colorbar": {
             "outlinewidth": 0,
             "ticks": ""
            },
            "colorscale": [
             [
              0,
              "#0d0887"
             ],
             [
              0.1111111111111111,
              "#46039f"
             ],
             [
              0.2222222222222222,
              "#7201a8"
             ],
             [
              0.3333333333333333,
              "#9c179e"
             ],
             [
              0.4444444444444444,
              "#bd3786"
             ],
             [
              0.5555555555555556,
              "#d8576b"
             ],
             [
              0.6666666666666666,
              "#ed7953"
             ],
             [
              0.7777777777777778,
              "#fb9f3a"
             ],
             [
              0.8888888888888888,
              "#fdca26"
             ],
             [
              1,
              "#f0f921"
             ]
            ],
            "type": "contour"
           }
          ],
          "contourcarpet": [
           {
            "colorbar": {
             "outlinewidth": 0,
             "ticks": ""
            },
            "type": "contourcarpet"
           }
          ],
          "heatmap": [
           {
            "colorbar": {
             "outlinewidth": 0,
             "ticks": ""
            },
            "colorscale": [
             [
              0,
              "#0d0887"
             ],
             [
              0.1111111111111111,
              "#46039f"
             ],
             [
              0.2222222222222222,
              "#7201a8"
             ],
             [
              0.3333333333333333,
              "#9c179e"
             ],
             [
              0.4444444444444444,
              "#bd3786"
             ],
             [
              0.5555555555555556,
              "#d8576b"
             ],
             [
              0.6666666666666666,
              "#ed7953"
             ],
             [
              0.7777777777777778,
              "#fb9f3a"
             ],
             [
              0.8888888888888888,
              "#fdca26"
             ],
             [
              1,
              "#f0f921"
             ]
            ],
            "type": "heatmap"
           }
          ],
          "heatmapgl": [
           {
            "colorbar": {
             "outlinewidth": 0,
             "ticks": ""
            },
            "colorscale": [
             [
              0,
              "#0d0887"
             ],
             [
              0.1111111111111111,
              "#46039f"
             ],
             [
              0.2222222222222222,
              "#7201a8"
             ],
             [
              0.3333333333333333,
              "#9c179e"
             ],
             [
              0.4444444444444444,
              "#bd3786"
             ],
             [
              0.5555555555555556,
              "#d8576b"
             ],
             [
              0.6666666666666666,
              "#ed7953"
             ],
             [
              0.7777777777777778,
              "#fb9f3a"
             ],
             [
              0.8888888888888888,
              "#fdca26"
             ],
             [
              1,
              "#f0f921"
             ]
            ],
            "type": "heatmapgl"
           }
          ],
          "histogram": [
           {
            "marker": {
             "pattern": {
              "fillmode": "overlay",
              "size": 10,
              "solidity": 0.2
             }
            },
            "type": "histogram"
           }
          ],
          "histogram2d": [
           {
            "colorbar": {
             "outlinewidth": 0,
             "ticks": ""
            },
            "colorscale": [
             [
              0,
              "#0d0887"
             ],
             [
              0.1111111111111111,
              "#46039f"
             ],
             [
              0.2222222222222222,
              "#7201a8"
             ],
             [
              0.3333333333333333,
              "#9c179e"
             ],
             [
              0.4444444444444444,
              "#bd3786"
             ],
             [
              0.5555555555555556,
              "#d8576b"
             ],
             [
              0.6666666666666666,
              "#ed7953"
             ],
             [
              0.7777777777777778,
              "#fb9f3a"
             ],
             [
              0.8888888888888888,
              "#fdca26"
             ],
             [
              1,
              "#f0f921"
             ]
            ],
            "type": "histogram2d"
           }
          ],
          "histogram2dcontour": [
           {
            "colorbar": {
             "outlinewidth": 0,
             "ticks": ""
            },
            "colorscale": [
             [
              0,
              "#0d0887"
             ],
             [
              0.1111111111111111,
              "#46039f"
             ],
             [
              0.2222222222222222,
              "#7201a8"
             ],
             [
              0.3333333333333333,
              "#9c179e"
             ],
             [
              0.4444444444444444,
              "#bd3786"
             ],
             [
              0.5555555555555556,
              "#d8576b"
             ],
             [
              0.6666666666666666,
              "#ed7953"
             ],
             [
              0.7777777777777778,
              "#fb9f3a"
             ],
             [
              0.8888888888888888,
              "#fdca26"
             ],
             [
              1,
              "#f0f921"
             ]
            ],
            "type": "histogram2dcontour"
           }
          ],
          "mesh3d": [
           {
            "colorbar": {
             "outlinewidth": 0,
             "ticks": ""
            },
            "type": "mesh3d"
           }
          ],
          "parcoords": [
           {
            "line": {
             "colorbar": {
              "outlinewidth": 0,
              "ticks": ""
             }
            },
            "type": "parcoords"
           }
          ],
          "pie": [
           {
            "automargin": true,
            "type": "pie"
           }
          ],
          "scatter": [
           {
            "fillpattern": {
             "fillmode": "overlay",
             "size": 10,
             "solidity": 0.2
            },
            "type": "scatter"
           }
          ],
          "scatter3d": [
           {
            "line": {
             "colorbar": {
              "outlinewidth": 0,
              "ticks": ""
             }
            },
            "marker": {
             "colorbar": {
              "outlinewidth": 0,
              "ticks": ""
             }
            },
            "type": "scatter3d"
           }
          ],
          "scattercarpet": [
           {
            "marker": {
             "colorbar": {
              "outlinewidth": 0,
              "ticks": ""
             }
            },
            "type": "scattercarpet"
           }
          ],
          "scattergeo": [
           {
            "marker": {
             "colorbar": {
              "outlinewidth": 0,
              "ticks": ""
             }
            },
            "type": "scattergeo"
           }
          ],
          "scattergl": [
           {
            "marker": {
             "colorbar": {
              "outlinewidth": 0,
              "ticks": ""
             }
            },
            "type": "scattergl"
           }
          ],
          "scattermapbox": [
           {
            "marker": {
             "colorbar": {
              "outlinewidth": 0,
              "ticks": ""
             }
            },
            "type": "scattermapbox"
           }
          ],
          "scatterpolar": [
           {
            "marker": {
             "colorbar": {
              "outlinewidth": 0,
              "ticks": ""
             }
            },
            "type": "scatterpolar"
           }
          ],
          "scatterpolargl": [
           {
            "marker": {
             "colorbar": {
              "outlinewidth": 0,
              "ticks": ""
             }
            },
            "type": "scatterpolargl"
           }
          ],
          "scatterternary": [
           {
            "marker": {
             "colorbar": {
              "outlinewidth": 0,
              "ticks": ""
             }
            },
            "type": "scatterternary"
           }
          ],
          "surface": [
           {
            "colorbar": {
             "outlinewidth": 0,
             "ticks": ""
            },
            "colorscale": [
             [
              0,
              "#0d0887"
             ],
             [
              0.1111111111111111,
              "#46039f"
             ],
             [
              0.2222222222222222,
              "#7201a8"
             ],
             [
              0.3333333333333333,
              "#9c179e"
             ],
             [
              0.4444444444444444,
              "#bd3786"
             ],
             [
              0.5555555555555556,
              "#d8576b"
             ],
             [
              0.6666666666666666,
              "#ed7953"
             ],
             [
              0.7777777777777778,
              "#fb9f3a"
             ],
             [
              0.8888888888888888,
              "#fdca26"
             ],
             [
              1,
              "#f0f921"
             ]
            ],
            "type": "surface"
           }
          ],
          "table": [
           {
            "cells": {
             "fill": {
              "color": "#EBF0F8"
             },
             "line": {
              "color": "white"
             }
            },
            "header": {
             "fill": {
              "color": "#C8D4E3"
             },
             "line": {
              "color": "white"
             }
            },
            "type": "table"
           }
          ]
         },
         "layout": {
          "annotationdefaults": {
           "arrowcolor": "#2a3f5f",
           "arrowhead": 0,
           "arrowwidth": 1
          },
          "autotypenumbers": "strict",
          "coloraxis": {
           "colorbar": {
            "outlinewidth": 0,
            "ticks": ""
           }
          },
          "colorscale": {
           "diverging": [
            [
             0,
             "#8e0152"
            ],
            [
             0.1,
             "#c51b7d"
            ],
            [
             0.2,
             "#de77ae"
            ],
            [
             0.3,
             "#f1b6da"
            ],
            [
             0.4,
             "#fde0ef"
            ],
            [
             0.5,
             "#f7f7f7"
            ],
            [
             0.6,
             "#e6f5d0"
            ],
            [
             0.7,
             "#b8e186"
            ],
            [
             0.8,
             "#7fbc41"
            ],
            [
             0.9,
             "#4d9221"
            ],
            [
             1,
             "#276419"
            ]
           ],
           "sequential": [
            [
             0,
             "#0d0887"
            ],
            [
             0.1111111111111111,
             "#46039f"
            ],
            [
             0.2222222222222222,
             "#7201a8"
            ],
            [
             0.3333333333333333,
             "#9c179e"
            ],
            [
             0.4444444444444444,
             "#bd3786"
            ],
            [
             0.5555555555555556,
             "#d8576b"
            ],
            [
             0.6666666666666666,
             "#ed7953"
            ],
            [
             0.7777777777777778,
             "#fb9f3a"
            ],
            [
             0.8888888888888888,
             "#fdca26"
            ],
            [
             1,
             "#f0f921"
            ]
           ],
           "sequentialminus": [
            [
             0,
             "#0d0887"
            ],
            [
             0.1111111111111111,
             "#46039f"
            ],
            [
             0.2222222222222222,
             "#7201a8"
            ],
            [
             0.3333333333333333,
             "#9c179e"
            ],
            [
             0.4444444444444444,
             "#bd3786"
            ],
            [
             0.5555555555555556,
             "#d8576b"
            ],
            [
             0.6666666666666666,
             "#ed7953"
            ],
            [
             0.7777777777777778,
             "#fb9f3a"
            ],
            [
             0.8888888888888888,
             "#fdca26"
            ],
            [
             1,
             "#f0f921"
            ]
           ]
          },
          "colorway": [
           "#636efa",
           "#EF553B",
           "#00cc96",
           "#ab63fa",
           "#FFA15A",
           "#19d3f3",
           "#FF6692",
           "#B6E880",
           "#FF97FF",
           "#FECB52"
          ],
          "font": {
           "color": "#2a3f5f"
          },
          "geo": {
           "bgcolor": "white",
           "lakecolor": "white",
           "landcolor": "#E5ECF6",
           "showlakes": true,
           "showland": true,
           "subunitcolor": "white"
          },
          "hoverlabel": {
           "align": "left"
          },
          "hovermode": "closest",
          "mapbox": {
           "style": "light"
          },
          "paper_bgcolor": "white",
          "plot_bgcolor": "#E5ECF6",
          "polar": {
           "angularaxis": {
            "gridcolor": "white",
            "linecolor": "white",
            "ticks": ""
           },
           "bgcolor": "#E5ECF6",
           "radialaxis": {
            "gridcolor": "white",
            "linecolor": "white",
            "ticks": ""
           }
          },
          "scene": {
           "xaxis": {
            "backgroundcolor": "#E5ECF6",
            "gridcolor": "white",
            "gridwidth": 2,
            "linecolor": "white",
            "showbackground": true,
            "ticks": "",
            "zerolinecolor": "white"
           },
           "yaxis": {
            "backgroundcolor": "#E5ECF6",
            "gridcolor": "white",
            "gridwidth": 2,
            "linecolor": "white",
            "showbackground": true,
            "ticks": "",
            "zerolinecolor": "white"
           },
           "zaxis": {
            "backgroundcolor": "#E5ECF6",
            "gridcolor": "white",
            "gridwidth": 2,
            "linecolor": "white",
            "showbackground": true,
            "ticks": "",
            "zerolinecolor": "white"
           }
          },
          "shapedefaults": {
           "line": {
            "color": "#2a3f5f"
           }
          },
          "ternary": {
           "aaxis": {
            "gridcolor": "white",
            "linecolor": "white",
            "ticks": ""
           },
           "baxis": {
            "gridcolor": "white",
            "linecolor": "white",
            "ticks": ""
           },
           "bgcolor": "#E5ECF6",
           "caxis": {
            "gridcolor": "white",
            "linecolor": "white",
            "ticks": ""
           }
          },
          "title": {
           "x": 0.05
          },
          "xaxis": {
           "automargin": true,
           "gridcolor": "white",
           "linecolor": "white",
           "ticks": "",
           "title": {
            "standoff": 15
           },
           "zerolinecolor": "white",
           "zerolinewidth": 2
          },
          "yaxis": {
           "automargin": true,
           "gridcolor": "white",
           "linecolor": "white",
           "ticks": "",
           "title": {
            "standoff": 15
           },
           "zerolinecolor": "white",
           "zerolinewidth": 2
          }
         }
        },
        "xaxis": {
         "anchor": "y",
         "domain": [
          0,
          1
         ],
         "title": {
          "text": "x"
         }
        },
        "yaxis": {
         "anchor": "x",
         "domain": [
          0,
          1
         ],
         "title": {
          "text": "y"
         }
        }
       }
      }
     },
     "metadata": {},
     "output_type": "display_data"
    },
    {
     "data": {
      "application/vnd.plotly.v1+json": {
       "config": {
        "plotlyServerURL": "https://plot.ly"
       },
       "data": [
        {
         "hovertemplate": "x=%{x}<br>y=%{y}<extra></extra>",
         "legendgroup": "",
         "marker": {
          "color": "#636efa",
          "symbol": "circle"
         },
         "mode": "markers",
         "name": "",
         "orientation": "v",
         "showlegend": false,
         "type": "scatter",
         "x": [
          -0.648,
          -0.576,
          -0.074,
          1.29,
          3.946,
          8.324,
          14.855,
          1.9659839369541843
         ],
         "xaxis": "x",
         "y": [
          0,
          0.524,
          1.047,
          1.571,
          2.094,
          2.618,
          3.142,
          1.608481353754163
         ],
         "yaxis": "y"
        },
        {
         "type": "scatter",
         "x": [
          -0.648,
          0.16794736842105262,
          0.9838947368421053,
          1.7998421052631577,
          2.6157894736842104,
          3.431736842105263,
          4.247684210526316,
          5.063631578947369,
          5.8795789473684215,
          6.695526315789474,
          7.511473684210527,
          8.32742105263158,
          9.143368421052632,
          9.959315789473685,
          10.775263157894738,
          11.59121052631579,
          12.407157894736843,
          13.223105263157896,
          14.039052631578947,
          14.855
         ],
         "y": [
          1.2120235127200596,
          1.335776657300817,
          1.4595298018815743,
          1.5832829464623317,
          1.707036091043089,
          1.8307892356238464,
          1.954542380204604,
          2.0782955247853616,
          2.202048669366119,
          2.3258018139468764,
          2.4495549585276337,
          2.573308103108391,
          2.697061247689148,
          2.820814392269906,
          2.944567536850663,
          3.0683206814314206,
          3.192073826012178,
          3.3158269705929353,
          3.439580115173693,
          3.56333325975445
         ]
        }
       ],
       "layout": {
        "legend": {
         "tracegroupgap": 0
        },
        "margin": {
         "t": 60
        },
        "template": {
         "data": {
          "bar": [
           {
            "error_x": {
             "color": "#2a3f5f"
            },
            "error_y": {
             "color": "#2a3f5f"
            },
            "marker": {
             "line": {
              "color": "#E5ECF6",
              "width": 0.5
             },
             "pattern": {
              "fillmode": "overlay",
              "size": 10,
              "solidity": 0.2
             }
            },
            "type": "bar"
           }
          ],
          "barpolar": [
           {
            "marker": {
             "line": {
              "color": "#E5ECF6",
              "width": 0.5
             },
             "pattern": {
              "fillmode": "overlay",
              "size": 10,
              "solidity": 0.2
             }
            },
            "type": "barpolar"
           }
          ],
          "carpet": [
           {
            "aaxis": {
             "endlinecolor": "#2a3f5f",
             "gridcolor": "white",
             "linecolor": "white",
             "minorgridcolor": "white",
             "startlinecolor": "#2a3f5f"
            },
            "baxis": {
             "endlinecolor": "#2a3f5f",
             "gridcolor": "white",
             "linecolor": "white",
             "minorgridcolor": "white",
             "startlinecolor": "#2a3f5f"
            },
            "type": "carpet"
           }
          ],
          "choropleth": [
           {
            "colorbar": {
             "outlinewidth": 0,
             "ticks": ""
            },
            "type": "choropleth"
           }
          ],
          "contour": [
           {
            "colorbar": {
             "outlinewidth": 0,
             "ticks": ""
            },
            "colorscale": [
             [
              0,
              "#0d0887"
             ],
             [
              0.1111111111111111,
              "#46039f"
             ],
             [
              0.2222222222222222,
              "#7201a8"
             ],
             [
              0.3333333333333333,
              "#9c179e"
             ],
             [
              0.4444444444444444,
              "#bd3786"
             ],
             [
              0.5555555555555556,
              "#d8576b"
             ],
             [
              0.6666666666666666,
              "#ed7953"
             ],
             [
              0.7777777777777778,
              "#fb9f3a"
             ],
             [
              0.8888888888888888,
              "#fdca26"
             ],
             [
              1,
              "#f0f921"
             ]
            ],
            "type": "contour"
           }
          ],
          "contourcarpet": [
           {
            "colorbar": {
             "outlinewidth": 0,
             "ticks": ""
            },
            "type": "contourcarpet"
           }
          ],
          "heatmap": [
           {
            "colorbar": {
             "outlinewidth": 0,
             "ticks": ""
            },
            "colorscale": [
             [
              0,
              "#0d0887"
             ],
             [
              0.1111111111111111,
              "#46039f"
             ],
             [
              0.2222222222222222,
              "#7201a8"
             ],
             [
              0.3333333333333333,
              "#9c179e"
             ],
             [
              0.4444444444444444,
              "#bd3786"
             ],
             [
              0.5555555555555556,
              "#d8576b"
             ],
             [
              0.6666666666666666,
              "#ed7953"
             ],
             [
              0.7777777777777778,
              "#fb9f3a"
             ],
             [
              0.8888888888888888,
              "#fdca26"
             ],
             [
              1,
              "#f0f921"
             ]
            ],
            "type": "heatmap"
           }
          ],
          "heatmapgl": [
           {
            "colorbar": {
             "outlinewidth": 0,
             "ticks": ""
            },
            "colorscale": [
             [
              0,
              "#0d0887"
             ],
             [
              0.1111111111111111,
              "#46039f"
             ],
             [
              0.2222222222222222,
              "#7201a8"
             ],
             [
              0.3333333333333333,
              "#9c179e"
             ],
             [
              0.4444444444444444,
              "#bd3786"
             ],
             [
              0.5555555555555556,
              "#d8576b"
             ],
             [
              0.6666666666666666,
              "#ed7953"
             ],
             [
              0.7777777777777778,
              "#fb9f3a"
             ],
             [
              0.8888888888888888,
              "#fdca26"
             ],
             [
              1,
              "#f0f921"
             ]
            ],
            "type": "heatmapgl"
           }
          ],
          "histogram": [
           {
            "marker": {
             "pattern": {
              "fillmode": "overlay",
              "size": 10,
              "solidity": 0.2
             }
            },
            "type": "histogram"
           }
          ],
          "histogram2d": [
           {
            "colorbar": {
             "outlinewidth": 0,
             "ticks": ""
            },
            "colorscale": [
             [
              0,
              "#0d0887"
             ],
             [
              0.1111111111111111,
              "#46039f"
             ],
             [
              0.2222222222222222,
              "#7201a8"
             ],
             [
              0.3333333333333333,
              "#9c179e"
             ],
             [
              0.4444444444444444,
              "#bd3786"
             ],
             [
              0.5555555555555556,
              "#d8576b"
             ],
             [
              0.6666666666666666,
              "#ed7953"
             ],
             [
              0.7777777777777778,
              "#fb9f3a"
             ],
             [
              0.8888888888888888,
              "#fdca26"
             ],
             [
              1,
              "#f0f921"
             ]
            ],
            "type": "histogram2d"
           }
          ],
          "histogram2dcontour": [
           {
            "colorbar": {
             "outlinewidth": 0,
             "ticks": ""
            },
            "colorscale": [
             [
              0,
              "#0d0887"
             ],
             [
              0.1111111111111111,
              "#46039f"
             ],
             [
              0.2222222222222222,
              "#7201a8"
             ],
             [
              0.3333333333333333,
              "#9c179e"
             ],
             [
              0.4444444444444444,
              "#bd3786"
             ],
             [
              0.5555555555555556,
              "#d8576b"
             ],
             [
              0.6666666666666666,
              "#ed7953"
             ],
             [
              0.7777777777777778,
              "#fb9f3a"
             ],
             [
              0.8888888888888888,
              "#fdca26"
             ],
             [
              1,
              "#f0f921"
             ]
            ],
            "type": "histogram2dcontour"
           }
          ],
          "mesh3d": [
           {
            "colorbar": {
             "outlinewidth": 0,
             "ticks": ""
            },
            "type": "mesh3d"
           }
          ],
          "parcoords": [
           {
            "line": {
             "colorbar": {
              "outlinewidth": 0,
              "ticks": ""
             }
            },
            "type": "parcoords"
           }
          ],
          "pie": [
           {
            "automargin": true,
            "type": "pie"
           }
          ],
          "scatter": [
           {
            "fillpattern": {
             "fillmode": "overlay",
             "size": 10,
             "solidity": 0.2
            },
            "type": "scatter"
           }
          ],
          "scatter3d": [
           {
            "line": {
             "colorbar": {
              "outlinewidth": 0,
              "ticks": ""
             }
            },
            "marker": {
             "colorbar": {
              "outlinewidth": 0,
              "ticks": ""
             }
            },
            "type": "scatter3d"
           }
          ],
          "scattercarpet": [
           {
            "marker": {
             "colorbar": {
              "outlinewidth": 0,
              "ticks": ""
             }
            },
            "type": "scattercarpet"
           }
          ],
          "scattergeo": [
           {
            "marker": {
             "colorbar": {
              "outlinewidth": 0,
              "ticks": ""
             }
            },
            "type": "scattergeo"
           }
          ],
          "scattergl": [
           {
            "marker": {
             "colorbar": {
              "outlinewidth": 0,
              "ticks": ""
             }
            },
            "type": "scattergl"
           }
          ],
          "scattermapbox": [
           {
            "marker": {
             "colorbar": {
              "outlinewidth": 0,
              "ticks": ""
             }
            },
            "type": "scattermapbox"
           }
          ],
          "scatterpolar": [
           {
            "marker": {
             "colorbar": {
              "outlinewidth": 0,
              "ticks": ""
             }
            },
            "type": "scatterpolar"
           }
          ],
          "scatterpolargl": [
           {
            "marker": {
             "colorbar": {
              "outlinewidth": 0,
              "ticks": ""
             }
            },
            "type": "scatterpolargl"
           }
          ],
          "scatterternary": [
           {
            "marker": {
             "colorbar": {
              "outlinewidth": 0,
              "ticks": ""
             }
            },
            "type": "scatterternary"
           }
          ],
          "surface": [
           {
            "colorbar": {
             "outlinewidth": 0,
             "ticks": ""
            },
            "colorscale": [
             [
              0,
              "#0d0887"
             ],
             [
              0.1111111111111111,
              "#46039f"
             ],
             [
              0.2222222222222222,
              "#7201a8"
             ],
             [
              0.3333333333333333,
              "#9c179e"
             ],
             [
              0.4444444444444444,
              "#bd3786"
             ],
             [
              0.5555555555555556,
              "#d8576b"
             ],
             [
              0.6666666666666666,
              "#ed7953"
             ],
             [
              0.7777777777777778,
              "#fb9f3a"
             ],
             [
              0.8888888888888888,
              "#fdca26"
             ],
             [
              1,
              "#f0f921"
             ]
            ],
            "type": "surface"
           }
          ],
          "table": [
           {
            "cells": {
             "fill": {
              "color": "#EBF0F8"
             },
             "line": {
              "color": "white"
             }
            },
            "header": {
             "fill": {
              "color": "#C8D4E3"
             },
             "line": {
              "color": "white"
             }
            },
            "type": "table"
           }
          ]
         },
         "layout": {
          "annotationdefaults": {
           "arrowcolor": "#2a3f5f",
           "arrowhead": 0,
           "arrowwidth": 1
          },
          "autotypenumbers": "strict",
          "coloraxis": {
           "colorbar": {
            "outlinewidth": 0,
            "ticks": ""
           }
          },
          "colorscale": {
           "diverging": [
            [
             0,
             "#8e0152"
            ],
            [
             0.1,
             "#c51b7d"
            ],
            [
             0.2,
             "#de77ae"
            ],
            [
             0.3,
             "#f1b6da"
            ],
            [
             0.4,
             "#fde0ef"
            ],
            [
             0.5,
             "#f7f7f7"
            ],
            [
             0.6,
             "#e6f5d0"
            ],
            [
             0.7,
             "#b8e186"
            ],
            [
             0.8,
             "#7fbc41"
            ],
            [
             0.9,
             "#4d9221"
            ],
            [
             1,
             "#276419"
            ]
           ],
           "sequential": [
            [
             0,
             "#0d0887"
            ],
            [
             0.1111111111111111,
             "#46039f"
            ],
            [
             0.2222222222222222,
             "#7201a8"
            ],
            [
             0.3333333333333333,
             "#9c179e"
            ],
            [
             0.4444444444444444,
             "#bd3786"
            ],
            [
             0.5555555555555556,
             "#d8576b"
            ],
            [
             0.6666666666666666,
             "#ed7953"
            ],
            [
             0.7777777777777778,
             "#fb9f3a"
            ],
            [
             0.8888888888888888,
             "#fdca26"
            ],
            [
             1,
             "#f0f921"
            ]
           ],
           "sequentialminus": [
            [
             0,
             "#0d0887"
            ],
            [
             0.1111111111111111,
             "#46039f"
            ],
            [
             0.2222222222222222,
             "#7201a8"
            ],
            [
             0.3333333333333333,
             "#9c179e"
            ],
            [
             0.4444444444444444,
             "#bd3786"
            ],
            [
             0.5555555555555556,
             "#d8576b"
            ],
            [
             0.6666666666666666,
             "#ed7953"
            ],
            [
             0.7777777777777778,
             "#fb9f3a"
            ],
            [
             0.8888888888888888,
             "#fdca26"
            ],
            [
             1,
             "#f0f921"
            ]
           ]
          },
          "colorway": [
           "#636efa",
           "#EF553B",
           "#00cc96",
           "#ab63fa",
           "#FFA15A",
           "#19d3f3",
           "#FF6692",
           "#B6E880",
           "#FF97FF",
           "#FECB52"
          ],
          "font": {
           "color": "#2a3f5f"
          },
          "geo": {
           "bgcolor": "white",
           "lakecolor": "white",
           "landcolor": "#E5ECF6",
           "showlakes": true,
           "showland": true,
           "subunitcolor": "white"
          },
          "hoverlabel": {
           "align": "left"
          },
          "hovermode": "closest",
          "mapbox": {
           "style": "light"
          },
          "paper_bgcolor": "white",
          "plot_bgcolor": "#E5ECF6",
          "polar": {
           "angularaxis": {
            "gridcolor": "white",
            "linecolor": "white",
            "ticks": ""
           },
           "bgcolor": "#E5ECF6",
           "radialaxis": {
            "gridcolor": "white",
            "linecolor": "white",
            "ticks": ""
           }
          },
          "scene": {
           "xaxis": {
            "backgroundcolor": "#E5ECF6",
            "gridcolor": "white",
            "gridwidth": 2,
            "linecolor": "white",
            "showbackground": true,
            "ticks": "",
            "zerolinecolor": "white"
           },
           "yaxis": {
            "backgroundcolor": "#E5ECF6",
            "gridcolor": "white",
            "gridwidth": 2,
            "linecolor": "white",
            "showbackground": true,
            "ticks": "",
            "zerolinecolor": "white"
           },
           "zaxis": {
            "backgroundcolor": "#E5ECF6",
            "gridcolor": "white",
            "gridwidth": 2,
            "linecolor": "white",
            "showbackground": true,
            "ticks": "",
            "zerolinecolor": "white"
           }
          },
          "shapedefaults": {
           "line": {
            "color": "#2a3f5f"
           }
          },
          "ternary": {
           "aaxis": {
            "gridcolor": "white",
            "linecolor": "white",
            "ticks": ""
           },
           "baxis": {
            "gridcolor": "white",
            "linecolor": "white",
            "ticks": ""
           },
           "bgcolor": "#E5ECF6",
           "caxis": {
            "gridcolor": "white",
            "linecolor": "white",
            "ticks": ""
           }
          },
          "title": {
           "x": 0.05
          },
          "xaxis": {
           "automargin": true,
           "gridcolor": "white",
           "linecolor": "white",
           "ticks": "",
           "title": {
            "standoff": 15
           },
           "zerolinecolor": "white",
           "zerolinewidth": 2
          },
          "yaxis": {
           "automargin": true,
           "gridcolor": "white",
           "linecolor": "white",
           "ticks": "",
           "title": {
            "standoff": 15
           },
           "zerolinecolor": "white",
           "zerolinewidth": 2
          }
         }
        },
        "xaxis": {
         "anchor": "y",
         "domain": [
          0,
          1
         ],
         "title": {
          "text": "x"
         }
        },
        "yaxis": {
         "anchor": "x",
         "domain": [
          0,
          1
         ],
         "title": {
          "text": "y"
         }
        }
       }
      }
     },
     "metadata": {},
     "output_type": "display_data"
    }
   ],
   "source": [
    "x, y, p = read_xypdata(\"data/tmp42\")\n",
    "\n",
    "x_pred = np.linspace(min(x), max(x), 20)\n",
    "f_pred = LeastSquare(x, y, p, 1)\n",
    "y_pred = [f_pred(xi) for xi in x_pred]\n",
    "\n",
    "print(\"Центр масс: \")\n",
    "\n",
    "xm, ym = getMassCenter(x, y, p)\n",
    "\n",
    "print(f\"{xm:.6f} {ym:.6f}\")\n",
    "\n",
    "f_coeffs = LeastSquaresCoeffs(x, y, p, 3)\n",
    "print(\"Коэф-ты:\")\n",
    "for i, coeff in enumerate(f_coeffs):\n",
    "    print(f\"{i}:\\t{coeff:.6f}\")\n",
    "\n",
    "fig = px.scatter(x=[*x, *y, xm], y=[*y, *x, ym])\n",
    "fig.add_trace(go.Scatter(x=x_pred, y=y_pred, name=\"Приближение x\"))\n",
    "\n",
    "x_pred = np.linspace(min(y), max(y), 20)\n",
    "f_pred = LeastSquare(y, x, p, 1)\n",
    "y_pred = [f_pred(xi) for xi in x_pred]\n",
    "\n",
    "f_coeffs = LeastSquaresCoeffs(y, x, p, 3)\n",
    "print(\"Коэф-ты:\")\n",
    "for i, coeff in enumerate(f_coeffs):\n",
    "    print(f\"{i}:\\t{coeff:.6f}\")\n",
    "\n",
    "fig.add_trace(go.Scatter(x=x_pred, y=y_pred, name=\"Приближение y\"))\n",
    "\n",
    "fig.show()\n",
    "\n",
    "x_pred = np.linspace(min(x), max(x), 20)\n",
    "f_pred = LeastSquare(x, y, p, 1)\n",
    "y_pred = [f_pred(xi) for xi in x_pred]\n",
    "\n",
    "fig = px.scatter(x=[*x, xm], y=[*y, ym])\n",
    "fig.add_trace(go.Scatter(x=x_pred, y=y_pred))\n",
    "\n",
    "fig.show()\n",
    "\n",
    "x_pred = np.linspace(min(y), max(y), 20)\n",
    "f_pred = LeastSquare(y, x, p, 1)\n",
    "y_pred = [f_pred(xi) for xi in x_pred]\n",
    "\n",
    "\n",
    "fig = px.scatter(x=[*y, ym], y=[*x, xm])\n",
    "fig.add_trace(go.Scatter(x=x_pred, y=y_pred))\n",
    "\n",
    "fig.show()"
   ]
  },
  {
   "cell_type": "code",
   "execution_count": 5,
   "metadata": {},
   "outputs": [
    {
     "name": "stdout",
     "output_type": "stream",
     "text": [
      "Коэф-ты:\n",
      "0:\t233.321487\n",
      "1:\t-4125.117420\n",
      "2:\t-106.666243\n",
      "3:\t147.853452\n"
     ]
    },
    {
     "data": {
      "application/vnd.plotly.v1+json": {
       "config": {
        "plotlyServerURL": "https://plot.ly"
       },
       "data": [
        {
         "hovertemplate": "<extra></extra>",
         "legendgroup": "",
         "line": {
          "color": "#636efa",
          "dash": "solid"
         },
         "marker": {
          "symbol": "circle"
         },
         "mode": "lines",
         "name": "",
         "orientation": "v",
         "showlegend": false,
         "type": "scatter",
         "xaxis": "x",
         "yaxis": "y"
        },
        {
         "name": "Функция",
         "type": "scatter",
         "x": [
          -10,
          -9.551020408163266,
          -9.10204081632653,
          -8.653061224489797,
          -8.204081632653061,
          -7.755102040816327,
          -7.3061224489795915,
          -6.857142857142858,
          -6.408163265306122,
          -5.959183673469388,
          -5.510204081632653,
          -5.061224489795919,
          -4.612244897959184,
          -4.163265306122449,
          -3.7142857142857144,
          -3.2653061224489797,
          -2.816326530612245,
          -2.36734693877551,
          -1.9183673469387763,
          -1.4693877551020407,
          -1.0204081632653068,
          -0.5714285714285712,
          -0.12244897959183731,
          0.3265306122448983,
          0.7755102040816322,
          1.2244897959183678,
          1.6734693877551017,
          2.1224489795918373,
          2.571428571428571,
          3.020408163265307,
          3.4693877551020407,
          3.9183673469387763,
          4.36734693877551,
          4.816326530612244,
          5.26530612244898,
          5.7142857142857135,
          6.163265306122447,
          6.612244897959183,
          7.061224489795919,
          7.510204081632654,
          7.959183673469386,
          8.408163265306122,
          8.857142857142858,
          9.306122448979593,
          9.755102040816325,
          10.204081632653061,
          10.653061224489797,
          11.102040816326532,
          11.551020408163264,
          12
         ],
         "y": [
          -123612,
          -99293.9296530508,
          -78970.93915623029,
          -62128.25034313008,
          -48297.41955373938,
          -37054.14828921172,
          -28016.09386663112,
          -20840.68007377879,
          -15222.907823899286,
          -10893.16581046717,
          -7615.041161953274,
          -5183.130096591226,
          -3420.848577143834,
          -2178.242965669534,
          -1329.8006782888085,
          -772.2608399506182,
          -422.42493919883225,
          -214.96748293865562,
          -100.2466512030583,
          -42.11495191920336,
          -15.729875674877295,
          -5.364550484916996,
          -2.218396557639641,
          -2.2277810612709654,
          -3.8766728903741914,
          -6.007297432278749,
          -5.630791333509011,
          4.262142733786938,
          36.89058130540843,
          113.87272535867396,
          267.4152455459911,
          542.5026274284306,
          999.0865167092924,
          1714.2750644676821,
          2784.522272392086,
          4327.81733801392,
          6485.873999941133,
          9426.31988309177,
          13344.88584392752,
          18467.595315687304,
          25052.953653620796,
          33394.13748022219,
          43821.18403046352,
          56703.18049702829,
          72450.45337554507,
          91516.7578098214,
          114401.46693707671,
          141651.76123317634,
          173864.81785786472,
          211690
         ]
        },
        {
         "name": "Приближение",
         "type": "scatter",
         "x": [
          -10,
          -9.551020408163266,
          -9.10204081632653,
          -8.653061224489797,
          -8.204081632653061,
          -7.755102040816327,
          -7.3061224489795915,
          -6.857142857142858,
          -6.408163265306122,
          -5.959183673469388,
          -5.510204081632653,
          -5.061224489795919,
          -4.612244897959184,
          -4.163265306122449,
          -3.7142857142857144,
          -3.2653061224489797,
          -2.816326530612245,
          -2.36734693877551,
          -1.9183673469387763,
          -1.4693877551020407,
          -1.0204081632653068,
          -0.5714285714285712,
          -0.12244897959183731,
          0.3265306122448983,
          0.7755102040816322,
          1.2244897959183678,
          1.6734693877551017,
          2.1224489795918373,
          2.571428571428571,
          3.020408163265307,
          3.4693877551020407,
          3.9183673469387763,
          4.36734693877551,
          4.816326530612244,
          5.26530612244898,
          5.7142857142857135,
          6.163265306122447,
          6.612244897959183,
          7.061224489795919,
          7.510204081632654,
          7.959183673469386,
          8.408163265306122,
          8.857142857142858,
          9.306122448979593,
          9.755102040816325,
          10.204081632653061,
          10.653061224489797,
          11.102040816326532,
          11.551020408163264,
          12
         ],
         "y": [
          -112706.0422384076,
          -96780.31905068818,
          -82173.37213630472,
          -68848.7418541275,
          -56768.04498123232,
          -45890.97471290105,
          -36175.30066262119,
          -27576.868862086252,
          -20049.601761195412,
          -13545.49822805382,
          -8014.633548972335,
          -3405.1594284677094,
          336.696010737499,
          3266.628227714891,
          5442.256263330244,
          6923.1227402435115,
          7770.693862908818,
          8048.359417574452,
          7821.432772282886,
          7157.150876870749,
          6124.674262968859,
          4795.087044002189,
          3241.3969151898996,
          1538.5351535453049,
          -236.6433821240864,
          -2005.3602512166203,
          -3686.9134313364434,
          -5198.677318293558,
          -6456.102726103769,
          -7372.716886988732,
          -7860.12345137591,
          -7828.002487898616,
          -7184.110483395976,
          -5834.280342912946,
          -3682.4213897003115,
          -630.5193652147,
          3421.363570881454,
          8575.088840719895,
          14934.44144822651,
          22605.129979121382,
          31694.786600918655,
          42312.96706292692,
          54571.150696248675,
          68582.74041378069,
          84463.06271021374,
          102329.36766203323,
          122300.82892751823,
          144498.5437467423,
          169045.53294157278,
          196066.7409156718
         ]
        }
       ],
       "layout": {
        "legend": {
         "tracegroupgap": 0
        },
        "margin": {
         "t": 60
        },
        "template": {
         "data": {
          "bar": [
           {
            "error_x": {
             "color": "#2a3f5f"
            },
            "error_y": {
             "color": "#2a3f5f"
            },
            "marker": {
             "line": {
              "color": "#E5ECF6",
              "width": 0.5
             },
             "pattern": {
              "fillmode": "overlay",
              "size": 10,
              "solidity": 0.2
             }
            },
            "type": "bar"
           }
          ],
          "barpolar": [
           {
            "marker": {
             "line": {
              "color": "#E5ECF6",
              "width": 0.5
             },
             "pattern": {
              "fillmode": "overlay",
              "size": 10,
              "solidity": 0.2
             }
            },
            "type": "barpolar"
           }
          ],
          "carpet": [
           {
            "aaxis": {
             "endlinecolor": "#2a3f5f",
             "gridcolor": "white",
             "linecolor": "white",
             "minorgridcolor": "white",
             "startlinecolor": "#2a3f5f"
            },
            "baxis": {
             "endlinecolor": "#2a3f5f",
             "gridcolor": "white",
             "linecolor": "white",
             "minorgridcolor": "white",
             "startlinecolor": "#2a3f5f"
            },
            "type": "carpet"
           }
          ],
          "choropleth": [
           {
            "colorbar": {
             "outlinewidth": 0,
             "ticks": ""
            },
            "type": "choropleth"
           }
          ],
          "contour": [
           {
            "colorbar": {
             "outlinewidth": 0,
             "ticks": ""
            },
            "colorscale": [
             [
              0,
              "#0d0887"
             ],
             [
              0.1111111111111111,
              "#46039f"
             ],
             [
              0.2222222222222222,
              "#7201a8"
             ],
             [
              0.3333333333333333,
              "#9c179e"
             ],
             [
              0.4444444444444444,
              "#bd3786"
             ],
             [
              0.5555555555555556,
              "#d8576b"
             ],
             [
              0.6666666666666666,
              "#ed7953"
             ],
             [
              0.7777777777777778,
              "#fb9f3a"
             ],
             [
              0.8888888888888888,
              "#fdca26"
             ],
             [
              1,
              "#f0f921"
             ]
            ],
            "type": "contour"
           }
          ],
          "contourcarpet": [
           {
            "colorbar": {
             "outlinewidth": 0,
             "ticks": ""
            },
            "type": "contourcarpet"
           }
          ],
          "heatmap": [
           {
            "colorbar": {
             "outlinewidth": 0,
             "ticks": ""
            },
            "colorscale": [
             [
              0,
              "#0d0887"
             ],
             [
              0.1111111111111111,
              "#46039f"
             ],
             [
              0.2222222222222222,
              "#7201a8"
             ],
             [
              0.3333333333333333,
              "#9c179e"
             ],
             [
              0.4444444444444444,
              "#bd3786"
             ],
             [
              0.5555555555555556,
              "#d8576b"
             ],
             [
              0.6666666666666666,
              "#ed7953"
             ],
             [
              0.7777777777777778,
              "#fb9f3a"
             ],
             [
              0.8888888888888888,
              "#fdca26"
             ],
             [
              1,
              "#f0f921"
             ]
            ],
            "type": "heatmap"
           }
          ],
          "heatmapgl": [
           {
            "colorbar": {
             "outlinewidth": 0,
             "ticks": ""
            },
            "colorscale": [
             [
              0,
              "#0d0887"
             ],
             [
              0.1111111111111111,
              "#46039f"
             ],
             [
              0.2222222222222222,
              "#7201a8"
             ],
             [
              0.3333333333333333,
              "#9c179e"
             ],
             [
              0.4444444444444444,
              "#bd3786"
             ],
             [
              0.5555555555555556,
              "#d8576b"
             ],
             [
              0.6666666666666666,
              "#ed7953"
             ],
             [
              0.7777777777777778,
              "#fb9f3a"
             ],
             [
              0.8888888888888888,
              "#fdca26"
             ],
             [
              1,
              "#f0f921"
             ]
            ],
            "type": "heatmapgl"
           }
          ],
          "histogram": [
           {
            "marker": {
             "pattern": {
              "fillmode": "overlay",
              "size": 10,
              "solidity": 0.2
             }
            },
            "type": "histogram"
           }
          ],
          "histogram2d": [
           {
            "colorbar": {
             "outlinewidth": 0,
             "ticks": ""
            },
            "colorscale": [
             [
              0,
              "#0d0887"
             ],
             [
              0.1111111111111111,
              "#46039f"
             ],
             [
              0.2222222222222222,
              "#7201a8"
             ],
             [
              0.3333333333333333,
              "#9c179e"
             ],
             [
              0.4444444444444444,
              "#bd3786"
             ],
             [
              0.5555555555555556,
              "#d8576b"
             ],
             [
              0.6666666666666666,
              "#ed7953"
             ],
             [
              0.7777777777777778,
              "#fb9f3a"
             ],
             [
              0.8888888888888888,
              "#fdca26"
             ],
             [
              1,
              "#f0f921"
             ]
            ],
            "type": "histogram2d"
           }
          ],
          "histogram2dcontour": [
           {
            "colorbar": {
             "outlinewidth": 0,
             "ticks": ""
            },
            "colorscale": [
             [
              0,
              "#0d0887"
             ],
             [
              0.1111111111111111,
              "#46039f"
             ],
             [
              0.2222222222222222,
              "#7201a8"
             ],
             [
              0.3333333333333333,
              "#9c179e"
             ],
             [
              0.4444444444444444,
              "#bd3786"
             ],
             [
              0.5555555555555556,
              "#d8576b"
             ],
             [
              0.6666666666666666,
              "#ed7953"
             ],
             [
              0.7777777777777778,
              "#fb9f3a"
             ],
             [
              0.8888888888888888,
              "#fdca26"
             ],
             [
              1,
              "#f0f921"
             ]
            ],
            "type": "histogram2dcontour"
           }
          ],
          "mesh3d": [
           {
            "colorbar": {
             "outlinewidth": 0,
             "ticks": ""
            },
            "type": "mesh3d"
           }
          ],
          "parcoords": [
           {
            "line": {
             "colorbar": {
              "outlinewidth": 0,
              "ticks": ""
             }
            },
            "type": "parcoords"
           }
          ],
          "pie": [
           {
            "automargin": true,
            "type": "pie"
           }
          ],
          "scatter": [
           {
            "fillpattern": {
             "fillmode": "overlay",
             "size": 10,
             "solidity": 0.2
            },
            "type": "scatter"
           }
          ],
          "scatter3d": [
           {
            "line": {
             "colorbar": {
              "outlinewidth": 0,
              "ticks": ""
             }
            },
            "marker": {
             "colorbar": {
              "outlinewidth": 0,
              "ticks": ""
             }
            },
            "type": "scatter3d"
           }
          ],
          "scattercarpet": [
           {
            "marker": {
             "colorbar": {
              "outlinewidth": 0,
              "ticks": ""
             }
            },
            "type": "scattercarpet"
           }
          ],
          "scattergeo": [
           {
            "marker": {
             "colorbar": {
              "outlinewidth": 0,
              "ticks": ""
             }
            },
            "type": "scattergeo"
           }
          ],
          "scattergl": [
           {
            "marker": {
             "colorbar": {
              "outlinewidth": 0,
              "ticks": ""
             }
            },
            "type": "scattergl"
           }
          ],
          "scattermapbox": [
           {
            "marker": {
             "colorbar": {
              "outlinewidth": 0,
              "ticks": ""
             }
            },
            "type": "scattermapbox"
           }
          ],
          "scatterpolar": [
           {
            "marker": {
             "colorbar": {
              "outlinewidth": 0,
              "ticks": ""
             }
            },
            "type": "scatterpolar"
           }
          ],
          "scatterpolargl": [
           {
            "marker": {
             "colorbar": {
              "outlinewidth": 0,
              "ticks": ""
             }
            },
            "type": "scatterpolargl"
           }
          ],
          "scatterternary": [
           {
            "marker": {
             "colorbar": {
              "outlinewidth": 0,
              "ticks": ""
             }
            },
            "type": "scatterternary"
           }
          ],
          "surface": [
           {
            "colorbar": {
             "outlinewidth": 0,
             "ticks": ""
            },
            "colorscale": [
             [
              0,
              "#0d0887"
             ],
             [
              0.1111111111111111,
              "#46039f"
             ],
             [
              0.2222222222222222,
              "#7201a8"
             ],
             [
              0.3333333333333333,
              "#9c179e"
             ],
             [
              0.4444444444444444,
              "#bd3786"
             ],
             [
              0.5555555555555556,
              "#d8576b"
             ],
             [
              0.6666666666666666,
              "#ed7953"
             ],
             [
              0.7777777777777778,
              "#fb9f3a"
             ],
             [
              0.8888888888888888,
              "#fdca26"
             ],
             [
              1,
              "#f0f921"
             ]
            ],
            "type": "surface"
           }
          ],
          "table": [
           {
            "cells": {
             "fill": {
              "color": "#EBF0F8"
             },
             "line": {
              "color": "white"
             }
            },
            "header": {
             "fill": {
              "color": "#C8D4E3"
             },
             "line": {
              "color": "white"
             }
            },
            "type": "table"
           }
          ]
         },
         "layout": {
          "annotationdefaults": {
           "arrowcolor": "#2a3f5f",
           "arrowhead": 0,
           "arrowwidth": 1
          },
          "autotypenumbers": "strict",
          "coloraxis": {
           "colorbar": {
            "outlinewidth": 0,
            "ticks": ""
           }
          },
          "colorscale": {
           "diverging": [
            [
             0,
             "#8e0152"
            ],
            [
             0.1,
             "#c51b7d"
            ],
            [
             0.2,
             "#de77ae"
            ],
            [
             0.3,
             "#f1b6da"
            ],
            [
             0.4,
             "#fde0ef"
            ],
            [
             0.5,
             "#f7f7f7"
            ],
            [
             0.6,
             "#e6f5d0"
            ],
            [
             0.7,
             "#b8e186"
            ],
            [
             0.8,
             "#7fbc41"
            ],
            [
             0.9,
             "#4d9221"
            ],
            [
             1,
             "#276419"
            ]
           ],
           "sequential": [
            [
             0,
             "#0d0887"
            ],
            [
             0.1111111111111111,
             "#46039f"
            ],
            [
             0.2222222222222222,
             "#7201a8"
            ],
            [
             0.3333333333333333,
             "#9c179e"
            ],
            [
             0.4444444444444444,
             "#bd3786"
            ],
            [
             0.5555555555555556,
             "#d8576b"
            ],
            [
             0.6666666666666666,
             "#ed7953"
            ],
            [
             0.7777777777777778,
             "#fb9f3a"
            ],
            [
             0.8888888888888888,
             "#fdca26"
            ],
            [
             1,
             "#f0f921"
            ]
           ],
           "sequentialminus": [
            [
             0,
             "#0d0887"
            ],
            [
             0.1111111111111111,
             "#46039f"
            ],
            [
             0.2222222222222222,
             "#7201a8"
            ],
            [
             0.3333333333333333,
             "#9c179e"
            ],
            [
             0.4444444444444444,
             "#bd3786"
            ],
            [
             0.5555555555555556,
             "#d8576b"
            ],
            [
             0.6666666666666666,
             "#ed7953"
            ],
            [
             0.7777777777777778,
             "#fb9f3a"
            ],
            [
             0.8888888888888888,
             "#fdca26"
            ],
            [
             1,
             "#f0f921"
            ]
           ]
          },
          "colorway": [
           "#636efa",
           "#EF553B",
           "#00cc96",
           "#ab63fa",
           "#FFA15A",
           "#19d3f3",
           "#FF6692",
           "#B6E880",
           "#FF97FF",
           "#FECB52"
          ],
          "font": {
           "color": "#2a3f5f"
          },
          "geo": {
           "bgcolor": "white",
           "lakecolor": "white",
           "landcolor": "#E5ECF6",
           "showlakes": true,
           "showland": true,
           "subunitcolor": "white"
          },
          "hoverlabel": {
           "align": "left"
          },
          "hovermode": "closest",
          "mapbox": {
           "style": "light"
          },
          "paper_bgcolor": "white",
          "plot_bgcolor": "#E5ECF6",
          "polar": {
           "angularaxis": {
            "gridcolor": "white",
            "linecolor": "white",
            "ticks": ""
           },
           "bgcolor": "#E5ECF6",
           "radialaxis": {
            "gridcolor": "white",
            "linecolor": "white",
            "ticks": ""
           }
          },
          "scene": {
           "xaxis": {
            "backgroundcolor": "#E5ECF6",
            "gridcolor": "white",
            "gridwidth": 2,
            "linecolor": "white",
            "showbackground": true,
            "ticks": "",
            "zerolinecolor": "white"
           },
           "yaxis": {
            "backgroundcolor": "#E5ECF6",
            "gridcolor": "white",
            "gridwidth": 2,
            "linecolor": "white",
            "showbackground": true,
            "ticks": "",
            "zerolinecolor": "white"
           },
           "zaxis": {
            "backgroundcolor": "#E5ECF6",
            "gridcolor": "white",
            "gridwidth": 2,
            "linecolor": "white",
            "showbackground": true,
            "ticks": "",
            "zerolinecolor": "white"
           }
          },
          "shapedefaults": {
           "line": {
            "color": "#2a3f5f"
           }
          },
          "ternary": {
           "aaxis": {
            "gridcolor": "white",
            "linecolor": "white",
            "ticks": ""
           },
           "baxis": {
            "gridcolor": "white",
            "linecolor": "white",
            "ticks": ""
           },
           "bgcolor": "#E5ECF6",
           "caxis": {
            "gridcolor": "white",
            "linecolor": "white",
            "ticks": ""
           }
          },
          "title": {
           "x": 0.05
          },
          "xaxis": {
           "automargin": true,
           "gridcolor": "white",
           "linecolor": "white",
           "ticks": "",
           "title": {
            "standoff": 15
           },
           "zerolinecolor": "white",
           "zerolinewidth": 2
          },
          "yaxis": {
           "automargin": true,
           "gridcolor": "white",
           "linecolor": "white",
           "ticks": "",
           "title": {
            "standoff": 15
           },
           "zerolinecolor": "white",
           "zerolinewidth": 2
          }
         }
        },
        "xaxis": {
         "anchor": "y",
         "domain": [
          0,
          1
         ]
        },
        "yaxis": {
         "anchor": "x",
         "domain": [
          0,
          1
         ]
        }
       }
      }
     },
     "metadata": {},
     "output_type": "display_data"
    }
   ],
   "source": [
    "def f_n(x):\n",
    "    return x**5 - 2 * x**4 + 3 * x**3 - 6 * x**2 + x - 2\n",
    "\n",
    "\n",
    "x, y, p = get_xypdata(-10, 12, 50, 0, 1, f_n)\n",
    "\n",
    "x_pred = np.linspace(-10, 12, 50)\n",
    "f_pred = LeastSquare(x, y, p, 4)\n",
    "y_pred = [f_pred(xi) for xi in x_pred]\n",
    "\n",
    "f_coeffs = LeastSquaresCoeffs(x, y, p, 3)\n",
    "\n",
    "print(\"Коэф-ты:\")\n",
    "for i, coeff in enumerate(f_coeffs):\n",
    "    print(f\"{i}:\\t{coeff:.6f}\")\n",
    "\n",
    "fig = px.line()\n",
    "fig.add_trace(go.Scatter(x=x, y=y, name=\"Функция\"))\n",
    "fig.add_trace(go.Scatter(x=x_pred, y=y_pred, name=\"Приближение\"))\n",
    "fig.show()"
   ]
  },
  {
   "cell_type": "code",
   "execution_count": 6,
   "metadata": {},
   "outputs": [
    {
     "name": "stdout",
     "output_type": "stream",
     "text": [
      "Коэф-ты:\n",
      "0:\t0.965763\n",
      "1:\t-0.207032\n",
      "2:\t-0.594754\n",
      "3:\t1.204067\n"
     ]
    },
    {
     "data": {
      "application/vnd.plotly.v1+json": {
       "config": {
        "plotlyServerURL": "https://plot.ly"
       },
       "data": [
        {
         "hovertemplate": "<extra></extra>",
         "legendgroup": "",
         "line": {
          "color": "#636efa",
          "dash": "solid"
         },
         "marker": {
          "symbol": "circle"
         },
         "mode": "lines",
         "name": "",
         "orientation": "v",
         "showlegend": false,
         "type": "scatter",
         "xaxis": "x",
         "yaxis": "y"
        },
        {
         "name": "Функция",
         "type": "scatter",
         "x": [
          -2,
          -1.9393939393939394,
          -1.878787878787879,
          -1.8181818181818181,
          -1.7575757575757576,
          -1.696969696969697,
          -1.6363636363636362,
          -1.5757575757575757,
          -1.5151515151515151,
          -1.4545454545454546,
          -1.393939393939394,
          -1.3333333333333333,
          -1.2727272727272727,
          -1.2121212121212122,
          -1.1515151515151514,
          -1.0909090909090908,
          -1.0303030303030303,
          -0.9696969696969697,
          -0.9090909090909092,
          -0.8484848484848484,
          -0.7878787878787878,
          -0.7272727272727273,
          -0.6666666666666665,
          -0.606060606060606,
          -0.5454545454545454,
          -0.48484848484848486,
          -0.4242424242424243,
          -0.36363636363636354,
          -0.303030303030303,
          -0.24242424242424243,
          -0.18181818181818166,
          -0.1212121212121211,
          -0.06060606060606055,
          0,
          0.06060606060606055,
          0.1212121212121211,
          0.18181818181818166,
          0.24242424242424265,
          0.3030303030303032,
          0.36363636363636376,
          0.4242424242424243,
          0.48484848484848486,
          0.5454545454545454,
          0.606060606060606,
          0.666666666666667,
          0.7272727272727275,
          0.7878787878787881,
          0.8484848484848486,
          0.9090909090909092,
          0.9696969696969697,
          1.0303030303030303,
          1.0909090909090908,
          1.1515151515151514,
          1.2121212121212124,
          1.272727272727273,
          1.3333333333333335,
          1.393939393939394,
          1.4545454545454546,
          1.5151515151515151,
          1.5757575757575757,
          1.6363636363636367,
          1.6969696969696972,
          1.7575757575757578,
          1.8181818181818183,
          1.878787878787879,
          1.9393939393939394,
          2,
          2.0606060606060606,
          2.121212121212121,
          2.1818181818181817,
          2.242424242424242,
          2.3030303030303028,
          2.3636363636363633,
          2.4242424242424248,
          2.4848484848484853,
          2.545454545454546,
          2.6060606060606064,
          2.666666666666667,
          2.7272727272727275,
          2.787878787878788,
          2.8484848484848486,
          2.909090909090909,
          2.9696969696969697,
          3.0303030303030303,
          3.090909090909091,
          3.1515151515151514,
          3.212121212121212,
          3.2727272727272725,
          3.333333333333334,
          3.3939393939393945,
          3.454545454545455,
          3.5151515151515156,
          3.575757575757576,
          3.6363636363636367,
          3.6969696969696972,
          3.757575757575758,
          3.8181818181818183,
          3.878787878787879,
          3.9393939393939394,
          4
         ],
         "y": [
          -12.195357645382263,
          -12.020203405984509,
          -11.611423366073163,
          -10.952831147763373,
          -10.045271456935467,
          -8.906492569891878,
          -7.570030261093967,
          -6.083168442401755,
          -4.504095780232953,
          -2.8984245780825812,
          -1.335275508004062,
          0.1168428352152131,
          1.3941185842193966,
          2.4412465740372484,
          3.214740825894921,
          3.6855558183646897,
          3.840863248001211,
          3.684880370496222,
          3.238701479092864,
          2.539142375782006,
          1.6366654132110428,
          0.5925064555338357,
          -0.5248282199892028,
          -1.6434902115461196,
          -2.6924127363095733,
          -3.605388663131979,
          -4.324864341850702,
          -4.805227357509448,
          -5.0153959342142915,
          -4.940558554447066,
          -4.582962056975391,
          -3.9617021236161953,
          -3.111528407659321,
          -2.080734182735712,
          -0.9282539302237843,
          0.2798613951719093,
          1.474385287251564,
          2.587042323564132,
          3.554579179128735,
          4.3225419365699915,
          4.848538787051612,
          5.104797311899561,
          5.079866789318097,
          4.779365971462816,
          4.225732600181033,
          3.4569893103039417,
          2.5245980932491516,
          1.4905287967409524,
          0.42371310139585944,
          -0.6039086463800596,
          -1.5215165550545384,
          -2.2634747819045336,
          -2.7730919520859465,
          -3.005858485049738,
          -2.93197150215465,
          -2.5379996531850235,
          -1.8275904989643448,
          -0.8211790807339643,
          0.44528528018304137,
          1.922519492805808,
          3.5508669958402495,
          5.263864720962278,
          6.992208115982655,
          8.66788234439642,
          10.228218059450528,
          11.619634561915356,
          12.800851433251829,
          13.745380820623534,
          14.443154619305545,
          14.901191391193024,
          15.143264016511111,
          15.20858751520365,
          15.149603777165241,
          15.02899275528862,
          14.916084913498521,
          14.882884737901744,
          14.999937865089482,
          15.332283527249338,
          15.93572902422526,
          16.853664099801215,
          18.114601524668014,
          19.730587718327968,
          21.696576360352818,
          23.990801623621255,
          26.576129202014585,
          29.402306121423948,
          32.408977760047534,
          35.52929563582666,
          38.693904969474964,
          41.83507882142164,
          44.89075702901736,
          47.808253737845305,
          50.547416702345615,
          53.08305359272736,
          55.40648341226793,
          57.52612229461738,
          59.46706942236021,
          61.269717283250976,
          62.98746753947328,
          64.68368609103916
         ]
        },
        {
         "name": "Приближение",
         "type": "scatter",
         "x": [
          -2,
          -1.9393939393939394,
          -1.878787878787879,
          -1.8181818181818181,
          -1.7575757575757576,
          -1.696969696969697,
          -1.6363636363636362,
          -1.5757575757575757,
          -1.5151515151515151,
          -1.4545454545454546,
          -1.393939393939394,
          -1.3333333333333333,
          -1.2727272727272727,
          -1.2121212121212122,
          -1.1515151515151514,
          -1.0909090909090908,
          -1.0303030303030303,
          -0.9696969696969697,
          -0.9090909090909092,
          -0.8484848484848484,
          -0.7878787878787878,
          -0.7272727272727273,
          -0.6666666666666665,
          -0.606060606060606,
          -0.5454545454545454,
          -0.48484848484848486,
          -0.4242424242424243,
          -0.36363636363636354,
          -0.303030303030303,
          -0.24242424242424243,
          -0.18181818181818166,
          -0.1212121212121211,
          -0.06060606060606055,
          0,
          0.06060606060606055,
          0.1212121212121211,
          0.18181818181818166,
          0.24242424242424265,
          0.3030303030303032,
          0.36363636363636376,
          0.4242424242424243,
          0.48484848484848486,
          0.5454545454545454,
          0.606060606060606,
          0.666666666666667,
          0.7272727272727275,
          0.7878787878787881,
          0.8484848484848486,
          0.9090909090909092,
          0.9696969696969697,
          1.0303030303030303,
          1.0909090909090908,
          1.1515151515151514,
          1.2121212121212124,
          1.272727272727273,
          1.3333333333333335,
          1.393939393939394,
          1.4545454545454546,
          1.5151515151515151,
          1.5757575757575757,
          1.6363636363636367,
          1.6969696969696972,
          1.7575757575757578,
          1.8181818181818183,
          1.878787878787879,
          1.9393939393939394,
          2,
          2.0606060606060606,
          2.121212121212121,
          2.1818181818181817,
          2.242424242424242,
          2.3030303030303028,
          2.3636363636363633,
          2.4242424242424248,
          2.4848484848484853,
          2.545454545454546,
          2.6060606060606064,
          2.666666666666667,
          2.7272727272727275,
          2.787878787878788,
          2.8484848484848486,
          2.909090909090909,
          2.9696969696969697,
          3.0303030303030303,
          3.090909090909091,
          3.1515151515151514,
          3.212121212121212,
          3.2727272727272725,
          3.333333333333334,
          3.3939393939393945,
          3.454545454545455,
          3.5151515151515156,
          3.575757575757576,
          3.6363636363636367,
          3.6969696969696972,
          3.757575757575758,
          3.8181818181818183,
          3.878787878787879,
          3.9393939393939394,
          4
         ],
         "y": [
          -11.182255163647026,
          -10.104715001681003,
          -9.091770235969818,
          -8.141396105899938,
          -7.251576485524865,
          -6.420303883565108,
          -5.6455794434082,
          -4.925412943108702,
          -4.257822795388189,
          -3.6408360476352626,
          -3.0724883819055426,
          -2.550824114921668,
          -2.0738961980733075,
          -1.6397662174171437,
          -1.2465043936768807,
          -0.8921895822432504,
          -0.5749092731740003,
          -0.29275959119390016,
          -0.043845295694741944,
          0.1737202192646613,
          0.3618149249584739,
          0.5223081579938401,
          0.6570606203108832,
          0.7679243791827031,
          0.8567428672153804,
          0.9253508823479732,
          0.9755745878525192,
          1.0092315123340334,
          1.0281305497305098,
          1.0340719593129215,
          1.0288473656852202,
          1.0142397587843353,
          0.9920234938801762,
          0.9639642915756297,
          0.9318192378065617,
          0.8973367838418169,
          0.8622567462832182,
          0.8283103070655671,
          0.7972200134566445,
          0.7706997780572091,
          0.7504548788009983,
          0.738181958954728,
          0.7355690271180934,
          0.7442954572237679,
          0.7660319885374033,
          0.80244072565763,
          0.8551751385160575,
          0.9258800623772734,
          1.0161916978388439,
          1.1277376108313146,
          1.2621367326182091,
          1.4209993597960286,
          1.6059271542942555,
          1.8185131433753496,
          2.060341719634747,
          2.3329886410008647,
          2.638021030735099,
          2.976997377431822,
          3.351467535018389,
          3.76297272275513,
          4.213045525235358,
          4.7032098923853525,
          5.234981139464388,
          5.809865947064707,
          6.429362361111534,
          7.094959792863072,
          7.808139018910503,
          8.570372181177989,
          9.383122786922662,
          10.247845708734644,
          11.165987184537034,
          12.1389848175859,
          13.168267576470301,
          14.255255795112276,
          15.401361172766816,
          16.607986774021914,
          17.87652702879854,
          19.20836773235065,
          20.604886045265157,
          22.067450493461966,
          23.597420968193966,
          25.196148726047007,
          26.86497638893994,
          28.605237944124568,
          30.418258744185714,
          32.305355507041114,
          34.26783631594155,
          36.307000619470756,
          38.42413923154545,
          40.620534331415286,
          42.89745946366295,
          45.25617953820409,
          47.69795083028732,
          50.224020980494274,
          52.8356289947395,
          55.534005244270574,
          58.320371465668046,
          61.19594076084543,
          64.16191759704921,
          67.21949780685885
         ]
        }
       ],
       "layout": {
        "legend": {
         "tracegroupgap": 0
        },
        "margin": {
         "t": 60
        },
        "template": {
         "data": {
          "bar": [
           {
            "error_x": {
             "color": "#2a3f5f"
            },
            "error_y": {
             "color": "#2a3f5f"
            },
            "marker": {
             "line": {
              "color": "#E5ECF6",
              "width": 0.5
             },
             "pattern": {
              "fillmode": "overlay",
              "size": 10,
              "solidity": 0.2
             }
            },
            "type": "bar"
           }
          ],
          "barpolar": [
           {
            "marker": {
             "line": {
              "color": "#E5ECF6",
              "width": 0.5
             },
             "pattern": {
              "fillmode": "overlay",
              "size": 10,
              "solidity": 0.2
             }
            },
            "type": "barpolar"
           }
          ],
          "carpet": [
           {
            "aaxis": {
             "endlinecolor": "#2a3f5f",
             "gridcolor": "white",
             "linecolor": "white",
             "minorgridcolor": "white",
             "startlinecolor": "#2a3f5f"
            },
            "baxis": {
             "endlinecolor": "#2a3f5f",
             "gridcolor": "white",
             "linecolor": "white",
             "minorgridcolor": "white",
             "startlinecolor": "#2a3f5f"
            },
            "type": "carpet"
           }
          ],
          "choropleth": [
           {
            "colorbar": {
             "outlinewidth": 0,
             "ticks": ""
            },
            "type": "choropleth"
           }
          ],
          "contour": [
           {
            "colorbar": {
             "outlinewidth": 0,
             "ticks": ""
            },
            "colorscale": [
             [
              0,
              "#0d0887"
             ],
             [
              0.1111111111111111,
              "#46039f"
             ],
             [
              0.2222222222222222,
              "#7201a8"
             ],
             [
              0.3333333333333333,
              "#9c179e"
             ],
             [
              0.4444444444444444,
              "#bd3786"
             ],
             [
              0.5555555555555556,
              "#d8576b"
             ],
             [
              0.6666666666666666,
              "#ed7953"
             ],
             [
              0.7777777777777778,
              "#fb9f3a"
             ],
             [
              0.8888888888888888,
              "#fdca26"
             ],
             [
              1,
              "#f0f921"
             ]
            ],
            "type": "contour"
           }
          ],
          "contourcarpet": [
           {
            "colorbar": {
             "outlinewidth": 0,
             "ticks": ""
            },
            "type": "contourcarpet"
           }
          ],
          "heatmap": [
           {
            "colorbar": {
             "outlinewidth": 0,
             "ticks": ""
            },
            "colorscale": [
             [
              0,
              "#0d0887"
             ],
             [
              0.1111111111111111,
              "#46039f"
             ],
             [
              0.2222222222222222,
              "#7201a8"
             ],
             [
              0.3333333333333333,
              "#9c179e"
             ],
             [
              0.4444444444444444,
              "#bd3786"
             ],
             [
              0.5555555555555556,
              "#d8576b"
             ],
             [
              0.6666666666666666,
              "#ed7953"
             ],
             [
              0.7777777777777778,
              "#fb9f3a"
             ],
             [
              0.8888888888888888,
              "#fdca26"
             ],
             [
              1,
              "#f0f921"
             ]
            ],
            "type": "heatmap"
           }
          ],
          "heatmapgl": [
           {
            "colorbar": {
             "outlinewidth": 0,
             "ticks": ""
            },
            "colorscale": [
             [
              0,
              "#0d0887"
             ],
             [
              0.1111111111111111,
              "#46039f"
             ],
             [
              0.2222222222222222,
              "#7201a8"
             ],
             [
              0.3333333333333333,
              "#9c179e"
             ],
             [
              0.4444444444444444,
              "#bd3786"
             ],
             [
              0.5555555555555556,
              "#d8576b"
             ],
             [
              0.6666666666666666,
              "#ed7953"
             ],
             [
              0.7777777777777778,
              "#fb9f3a"
             ],
             [
              0.8888888888888888,
              "#fdca26"
             ],
             [
              1,
              "#f0f921"
             ]
            ],
            "type": "heatmapgl"
           }
          ],
          "histogram": [
           {
            "marker": {
             "pattern": {
              "fillmode": "overlay",
              "size": 10,
              "solidity": 0.2
             }
            },
            "type": "histogram"
           }
          ],
          "histogram2d": [
           {
            "colorbar": {
             "outlinewidth": 0,
             "ticks": ""
            },
            "colorscale": [
             [
              0,
              "#0d0887"
             ],
             [
              0.1111111111111111,
              "#46039f"
             ],
             [
              0.2222222222222222,
              "#7201a8"
             ],
             [
              0.3333333333333333,
              "#9c179e"
             ],
             [
              0.4444444444444444,
              "#bd3786"
             ],
             [
              0.5555555555555556,
              "#d8576b"
             ],
             [
              0.6666666666666666,
              "#ed7953"
             ],
             [
              0.7777777777777778,
              "#fb9f3a"
             ],
             [
              0.8888888888888888,
              "#fdca26"
             ],
             [
              1,
              "#f0f921"
             ]
            ],
            "type": "histogram2d"
           }
          ],
          "histogram2dcontour": [
           {
            "colorbar": {
             "outlinewidth": 0,
             "ticks": ""
            },
            "colorscale": [
             [
              0,
              "#0d0887"
             ],
             [
              0.1111111111111111,
              "#46039f"
             ],
             [
              0.2222222222222222,
              "#7201a8"
             ],
             [
              0.3333333333333333,
              "#9c179e"
             ],
             [
              0.4444444444444444,
              "#bd3786"
             ],
             [
              0.5555555555555556,
              "#d8576b"
             ],
             [
              0.6666666666666666,
              "#ed7953"
             ],
             [
              0.7777777777777778,
              "#fb9f3a"
             ],
             [
              0.8888888888888888,
              "#fdca26"
             ],
             [
              1,
              "#f0f921"
             ]
            ],
            "type": "histogram2dcontour"
           }
          ],
          "mesh3d": [
           {
            "colorbar": {
             "outlinewidth": 0,
             "ticks": ""
            },
            "type": "mesh3d"
           }
          ],
          "parcoords": [
           {
            "line": {
             "colorbar": {
              "outlinewidth": 0,
              "ticks": ""
             }
            },
            "type": "parcoords"
           }
          ],
          "pie": [
           {
            "automargin": true,
            "type": "pie"
           }
          ],
          "scatter": [
           {
            "fillpattern": {
             "fillmode": "overlay",
             "size": 10,
             "solidity": 0.2
            },
            "type": "scatter"
           }
          ],
          "scatter3d": [
           {
            "line": {
             "colorbar": {
              "outlinewidth": 0,
              "ticks": ""
             }
            },
            "marker": {
             "colorbar": {
              "outlinewidth": 0,
              "ticks": ""
             }
            },
            "type": "scatter3d"
           }
          ],
          "scattercarpet": [
           {
            "marker": {
             "colorbar": {
              "outlinewidth": 0,
              "ticks": ""
             }
            },
            "type": "scattercarpet"
           }
          ],
          "scattergeo": [
           {
            "marker": {
             "colorbar": {
              "outlinewidth": 0,
              "ticks": ""
             }
            },
            "type": "scattergeo"
           }
          ],
          "scattergl": [
           {
            "marker": {
             "colorbar": {
              "outlinewidth": 0,
              "ticks": ""
             }
            },
            "type": "scattergl"
           }
          ],
          "scattermapbox": [
           {
            "marker": {
             "colorbar": {
              "outlinewidth": 0,
              "ticks": ""
             }
            },
            "type": "scattermapbox"
           }
          ],
          "scatterpolar": [
           {
            "marker": {
             "colorbar": {
              "outlinewidth": 0,
              "ticks": ""
             }
            },
            "type": "scatterpolar"
           }
          ],
          "scatterpolargl": [
           {
            "marker": {
             "colorbar": {
              "outlinewidth": 0,
              "ticks": ""
             }
            },
            "type": "scatterpolargl"
           }
          ],
          "scatterternary": [
           {
            "marker": {
             "colorbar": {
              "outlinewidth": 0,
              "ticks": ""
             }
            },
            "type": "scatterternary"
           }
          ],
          "surface": [
           {
            "colorbar": {
             "outlinewidth": 0,
             "ticks": ""
            },
            "colorscale": [
             [
              0,
              "#0d0887"
             ],
             [
              0.1111111111111111,
              "#46039f"
             ],
             [
              0.2222222222222222,
              "#7201a8"
             ],
             [
              0.3333333333333333,
              "#9c179e"
             ],
             [
              0.4444444444444444,
              "#bd3786"
             ],
             [
              0.5555555555555556,
              "#d8576b"
             ],
             [
              0.6666666666666666,
              "#ed7953"
             ],
             [
              0.7777777777777778,
              "#fb9f3a"
             ],
             [
              0.8888888888888888,
              "#fdca26"
             ],
             [
              1,
              "#f0f921"
             ]
            ],
            "type": "surface"
           }
          ],
          "table": [
           {
            "cells": {
             "fill": {
              "color": "#EBF0F8"
             },
             "line": {
              "color": "white"
             }
            },
            "header": {
             "fill": {
              "color": "#C8D4E3"
             },
             "line": {
              "color": "white"
             }
            },
            "type": "table"
           }
          ]
         },
         "layout": {
          "annotationdefaults": {
           "arrowcolor": "#2a3f5f",
           "arrowhead": 0,
           "arrowwidth": 1
          },
          "autotypenumbers": "strict",
          "coloraxis": {
           "colorbar": {
            "outlinewidth": 0,
            "ticks": ""
           }
          },
          "colorscale": {
           "diverging": [
            [
             0,
             "#8e0152"
            ],
            [
             0.1,
             "#c51b7d"
            ],
            [
             0.2,
             "#de77ae"
            ],
            [
             0.3,
             "#f1b6da"
            ],
            [
             0.4,
             "#fde0ef"
            ],
            [
             0.5,
             "#f7f7f7"
            ],
            [
             0.6,
             "#e6f5d0"
            ],
            [
             0.7,
             "#b8e186"
            ],
            [
             0.8,
             "#7fbc41"
            ],
            [
             0.9,
             "#4d9221"
            ],
            [
             1,
             "#276419"
            ]
           ],
           "sequential": [
            [
             0,
             "#0d0887"
            ],
            [
             0.1111111111111111,
             "#46039f"
            ],
            [
             0.2222222222222222,
             "#7201a8"
            ],
            [
             0.3333333333333333,
             "#9c179e"
            ],
            [
             0.4444444444444444,
             "#bd3786"
            ],
            [
             0.5555555555555556,
             "#d8576b"
            ],
            [
             0.6666666666666666,
             "#ed7953"
            ],
            [
             0.7777777777777778,
             "#fb9f3a"
            ],
            [
             0.8888888888888888,
             "#fdca26"
            ],
            [
             1,
             "#f0f921"
            ]
           ],
           "sequentialminus": [
            [
             0,
             "#0d0887"
            ],
            [
             0.1111111111111111,
             "#46039f"
            ],
            [
             0.2222222222222222,
             "#7201a8"
            ],
            [
             0.3333333333333333,
             "#9c179e"
            ],
            [
             0.4444444444444444,
             "#bd3786"
            ],
            [
             0.5555555555555556,
             "#d8576b"
            ],
            [
             0.6666666666666666,
             "#ed7953"
            ],
            [
             0.7777777777777778,
             "#fb9f3a"
            ],
            [
             0.8888888888888888,
             "#fdca26"
            ],
            [
             1,
             "#f0f921"
            ]
           ]
          },
          "colorway": [
           "#636efa",
           "#EF553B",
           "#00cc96",
           "#ab63fa",
           "#FFA15A",
           "#19d3f3",
           "#FF6692",
           "#B6E880",
           "#FF97FF",
           "#FECB52"
          ],
          "font": {
           "color": "#2a3f5f"
          },
          "geo": {
           "bgcolor": "white",
           "lakecolor": "white",
           "landcolor": "#E5ECF6",
           "showlakes": true,
           "showland": true,
           "subunitcolor": "white"
          },
          "hoverlabel": {
           "align": "left"
          },
          "hovermode": "closest",
          "mapbox": {
           "style": "light"
          },
          "paper_bgcolor": "white",
          "plot_bgcolor": "#E5ECF6",
          "polar": {
           "angularaxis": {
            "gridcolor": "white",
            "linecolor": "white",
            "ticks": ""
           },
           "bgcolor": "#E5ECF6",
           "radialaxis": {
            "gridcolor": "white",
            "linecolor": "white",
            "ticks": ""
           }
          },
          "scene": {
           "xaxis": {
            "backgroundcolor": "#E5ECF6",
            "gridcolor": "white",
            "gridwidth": 2,
            "linecolor": "white",
            "showbackground": true,
            "ticks": "",
            "zerolinecolor": "white"
           },
           "yaxis": {
            "backgroundcolor": "#E5ECF6",
            "gridcolor": "white",
            "gridwidth": 2,
            "linecolor": "white",
            "showbackground": true,
            "ticks": "",
            "zerolinecolor": "white"
           },
           "zaxis": {
            "backgroundcolor": "#E5ECF6",
            "gridcolor": "white",
            "gridwidth": 2,
            "linecolor": "white",
            "showbackground": true,
            "ticks": "",
            "zerolinecolor": "white"
           }
          },
          "shapedefaults": {
           "line": {
            "color": "#2a3f5f"
           }
          },
          "ternary": {
           "aaxis": {
            "gridcolor": "white",
            "linecolor": "white",
            "ticks": ""
           },
           "baxis": {
            "gridcolor": "white",
            "linecolor": "white",
            "ticks": ""
           },
           "bgcolor": "#E5ECF6",
           "caxis": {
            "gridcolor": "white",
            "linecolor": "white",
            "ticks": ""
           }
          },
          "title": {
           "x": 0.05
          },
          "xaxis": {
           "automargin": true,
           "gridcolor": "white",
           "linecolor": "white",
           "ticks": "",
           "title": {
            "standoff": 15
           },
           "zerolinecolor": "white",
           "zerolinewidth": 2
          },
          "yaxis": {
           "automargin": true,
           "gridcolor": "white",
           "linecolor": "white",
           "ticks": "",
           "title": {
            "standoff": 15
           },
           "zerolinecolor": "white",
           "zerolinewidth": 2
          }
         }
        },
        "xaxis": {
         "anchor": "y",
         "domain": [
          0,
          1
         ]
        },
        "yaxis": {
         "anchor": "x",
         "domain": [
          0,
          1
         ]
        }
       }
      }
     },
     "metadata": {},
     "output_type": "display_data"
    }
   ],
   "source": [
    "def f_n(x):\n",
    "    return x**3 + np.cos(4 * x - 2) * 5\n",
    "\n",
    "\n",
    "x, y, p = get_xypdata(-2, 4, 100, 0, 1, f_n)\n",
    "\n",
    "x_pred = np.linspace(-2, 4, 100)\n",
    "f_pred = LeastSquare(x, y, p, 4)\n",
    "y_pred = [f_pred(xi) for xi in x_pred]\n",
    "\n",
    "f_coeffs = LeastSquaresCoeffs(x, y, p, 3)\n",
    "\n",
    "print(\"Коэф-ты:\")\n",
    "for i, coeff in enumerate(f_coeffs):\n",
    "    print(f\"{i}:\\t{coeff:.6f}\")\n",
    "\n",
    "fig = px.line()\n",
    "fig.add_trace(go.Scatter(x=x, y=y, name=\"Функция\"))\n",
    "fig.add_trace(go.Scatter(x=x_pred, y=y_pred, name=\"Приближение\"))\n",
    "fig.show()"
   ]
  },
  {
   "cell_type": "code",
   "execution_count": 7,
   "metadata": {},
   "outputs": [
    {
     "data": {
      "application/vnd.plotly.v1+json": {
       "config": {
        "plotlyServerURL": "https://plot.ly"
       },
       "data": [
        {
         "hovertemplate": "x=%{x}<br>y=%{y}<br>z=%{z}<extra></extra>",
         "legendgroup": "",
         "marker": {
          "color": "#636efa",
          "symbol": "circle"
         },
         "mode": "markers",
         "name": "",
         "scene": "scene",
         "showlegend": false,
         "type": "scatter3d",
         "x": [
          -1,
          0,
          1,
          2,
          -1,
          0,
          1,
          2,
          -1,
          0,
          1,
          2,
          -1,
          0,
          1,
          2,
          -1,
          0,
          1,
          2
         ],
         "y": [
          -2,
          -2,
          -2,
          -2,
          -1,
          -1,
          -1,
          -1,
          0,
          0,
          0,
          0,
          1,
          1,
          1,
          1,
          2,
          2,
          2,
          2
         ],
         "z": [
          -10,
          -12,
          -12,
          -10,
          -3,
          -4,
          -3,
          0,
          0,
          0,
          2,
          6,
          -1,
          0,
          3,
          8,
          -6,
          -4,
          0,
          6
         ]
        },
        {
         "type": "surface",
         "x": [
          -1,
          -0.9230769230769231,
          -0.8461538461538461,
          -0.7692307692307692,
          -0.6923076923076923,
          -0.6153846153846154,
          -0.5384615384615384,
          -0.46153846153846145,
          -0.3846153846153846,
          -0.3076923076923077,
          -0.23076923076923073,
          -0.15384615384615374,
          -0.07692307692307687,
          0,
          0.0769230769230771,
          0.15384615384615397,
          0.23076923076923084,
          0.3076923076923077,
          0.3846153846153846,
          0.4615384615384617,
          0.5384615384615385,
          0.6153846153846154,
          0.6923076923076925,
          0.7692307692307694,
          0.8461538461538463,
          0.9230769230769231,
          1,
          1.076923076923077,
          1.1538461538461542,
          1.2307692307692308,
          1.307692307692308,
          1.3846153846153846,
          1.4615384615384617,
          1.5384615384615388,
          1.6153846153846154,
          1.6923076923076925,
          1.7692307692307692,
          1.8461538461538463,
          1.9230769230769234,
          2
         ],
         "y": [
          -2,
          -1.8974358974358974,
          -1.794871794871795,
          -1.6923076923076923,
          -1.5897435897435899,
          -1.4871794871794872,
          -1.3846153846153846,
          -1.282051282051282,
          -1.1794871794871795,
          -1.076923076923077,
          -0.9743589743589745,
          -0.8717948717948718,
          -0.7692307692307692,
          -0.6666666666666667,
          -0.5641025641025641,
          -0.4615384615384617,
          -0.35897435897435903,
          -0.2564102564102564,
          -0.15384615384615397,
          -0.05128205128205132,
          0.0512820512820511,
          0.15384615384615374,
          0.2564102564102564,
          0.35897435897435903,
          0.4615384615384617,
          0.5641025641025639,
          0.6666666666666665,
          0.7692307692307692,
          0.8717948717948718,
          0.9743589743589745,
          1.0769230769230766,
          1.1794871794871793,
          1.282051282051282,
          1.3846153846153846,
          1.4871794871794872,
          1.5897435897435894,
          1.692307692307692,
          1.7948717948717947,
          1.8974358974358974,
          2
         ],
         "z": [
          [
           -10.000000000000004,
           -10.22485207100592,
           -10.437869822485212,
           -10.639053254437874,
           -10.828402366863907,
           -11.005917159763316,
           -11.171597633136097,
           -11.32544378698225,
           -11.467455621301777,
           -11.597633136094677,
           -11.715976331360947,
           -11.822485207100593,
           -11.917159763313611,
           -12.000000000000002,
           -12.071005917159766,
           -12.130177514792903,
           -12.177514792899409,
           -12.21301775147929,
           -12.236686390532547,
           -12.248520710059173,
           -12.248520710059173,
           -12.236686390532546,
           -12.213017751479292,
           -12.177514792899409,
           -12.130177514792901,
           -12.071005917159766,
           -12.000000000000004,
           -11.917159763313613,
           -11.822485207100595,
           -11.715976331360947,
           -11.597633136094677,
           -11.467455621301777,
           -11.325443786982248,
           -11.171597633136095,
           -11.005917159763314,
           -10.828402366863905,
           -10.639053254437872,
           -10.437869822485208,
           -10.22485207100592,
           -10.000000000000002
          ],
          [
           -9.09796186719264,
           -9.314924391847471,
           -9.520052596975678,
           -9.713346482577256,
           -9.894806048652205,
           -10.064431295200526,
           -10.222222222222223,
           -10.368178829717293,
           -10.502301117685736,
           -10.62458908612755,
           -10.735042735042736,
           -10.833662064431296,
           -10.920447074293229,
           -10.995397764628535,
           -11.058514135437214,
           -11.109796186719267,
           -11.149243918474689,
           -11.176857330703484,
           -11.192636423405656,
           -11.196581196581198,
           -11.188691650230114,
           -11.168967784352402,
           -11.137409598948063,
           -11.094017094017094,
           -11.038790269559502,
           -10.971729125575282,
           -10.892833662064435,
           -10.802103879026959,
           -10.699539776462856,
           -10.585141354372123,
           -10.458908612754767,
           -10.320841551610783,
           -10.17094017094017,
           -10.009204470742931,
           -9.835634451019065,
           -9.650230111768572,
           -9.452991452991455,
           -9.243918474687707,
           -9.023011176857333,
           -8.79026955950033
          ],
          [
           -8.238001314924395,
           -8.447074293228143,
           -8.644312952005263,
           -8.829717291255756,
           -9.003287310979621,
           -9.165023011176858,
           -9.314924391847471,
           -9.452991452991455,
           -9.579224194608813,
           -9.693622616699543,
           -9.796186719263643,
           -9.88691650230112,
           -9.965811965811968,
           -10.032873109796189,
           -10.088099934253783,
           -10.13149243918475,
           -10.163050624589086,
           -10.182774490466798,
           -10.190664036817886,
           -10.186719263642342,
           -10.170940170940174,
           -10.143326758711376,
           -10.103879026955951,
           -10.0525969756739,
           -9.989480604865223,
           -9.914529914529917,
           -9.827744904667986,
           -9.729125575279426,
           -9.618671926364236,
           -9.49638395792242,
           -9.362261669953979,
           -9.21630506245891,
           -9.058514135437214,
           -8.88888888888889,
           -8.707429322813937,
           -8.51413543721236,
           -8.309007232084156,
           -8.092044707429325,
           -7.863247863247865,
           -7.622616699539778
          ],
          [
           -7.420118343195269,
           -7.6213017751479315,
           -7.810650887573967,
           -7.988165680473375,
           -8.153846153846155,
           -8.307692307692308,
           -8.449704142011836,
           -8.579881656804735,
           -8.698224852071009,
           -8.804733727810653,
           -8.899408284023668,
           -8.98224852071006,
           -9.053254437869823,
           -9.11242603550296,
           -9.159763313609469,
           -9.195266272189352,
           -9.218934911242604,
           -9.23076923076923,
           -9.230769230769232,
           -9.218934911242604,
           -9.19526627218935,
           -9.159763313609469,
           -9.11242603550296,
           -9.053254437869825,
           -8.982248520710062,
           -8.89940828402367,
           -8.804733727810653,
           -8.698224852071007,
           -8.579881656804737,
           -8.449704142011838,
           -8.307692307692308,
           -8.153846153846155,
           -7.988165680473375,
           -7.810650887573965,
           -7.62130177514793,
           -7.420118343195267,
           -7.207100591715977,
           -6.98224852071006,
           -6.7455621301775155,
           -6.497041420118346
          ],
          [
           -6.644312952005262,
           -6.83760683760684,
           -7.019066403681791,
           -7.188691650230115,
           -7.34648257725181,
           -7.492439184746879,
           -7.62656147271532,
           -7.748849441157136,
           -7.859303090072323,
           -7.957922419460883,
           -8.044707429322814,
           -8.119658119658121,
           -8.1827744904668,
           -8.234056541748851,
           -8.273504273504276,
           -8.301117685733074,
           -8.31689677843524,
           -8.320841551610783,
           -8.3129520052597,
           -8.293228139381988,
           -8.261669953977648,
           -8.218277449046681,
           -8.163050624589088,
           -8.095989480604867,
           -8.01709401709402,
           -7.926364234056544,
           -7.823800131492441,
           -7.70940170940171,
           -7.583168967784354,
           -7.44510190664037,
           -7.295200525969758,
           -7.13346482577252,
           -6.959894806048655,
           -6.774490466798161,
           -6.57725180802104,
           -6.368178829717292,
           -6.1472715318869176,
           -5.914529914529917,
           -5.669953977646286,
           -5.4135437212360324
          ],
          [
           -5.910585141354374,
           -6.095989480604867,
           -6.269559500328734,
           -6.431295200525972,
           -6.581196581196583,
           -6.719263642340566,
           -6.845496383957923,
           -6.959894806048654,
           -7.062458908612756,
           -7.153188691650231,
           -7.23208415516108,
           -7.2991452991453,
           -7.354372123602893,
           -7.39776462853386,
           -7.429322813938199,
           -7.449046679815911,
           -7.456936226166997,
           -7.452991452991454,
           -7.4372123602892835,
           -7.409598948060487,
           -7.3701512163050635,
           -7.318869165023012,
           -7.255752794214334,
           -7.180802103879028,
           -7.094017094017095,
           -6.995397764628535,
           -6.884944115713348,
           -6.7626561472715325,
           -6.62853385930309,
           -6.4825772518080225,
           -6.324786324786325,
           -6.155161078238003,
           -5.973701512163053,
           -5.780407626561473,
           -5.575279421433269,
           -5.358316896778434,
           -5.129520052596976,
           -4.888888888888889,
           -4.636423405654175,
           -4.372123602892835
          ],
          [
           -5.218934911242605,
           -5.396449704142013,
           -5.562130177514794,
           -5.715976331360947,
           -5.857988165680474,
           -5.988165680473374,
           -6.106508875739645,
           -6.213017751479291,
           -6.307692307692308,
           -6.390532544378698,
           -6.461538461538462,
           -6.520710059171598,
           -6.568047337278106,
           -6.603550295857988,
           -6.627218934911242,
           -6.6390532544378695,
           -6.63905325443787,
           -6.627218934911244,
           -6.603550295857987,
           -6.568047337278106,
           -6.520710059171598,
           -6.461538461538462,
           -6.390532544378698,
           -6.307692307692308,
           -6.21301775147929,
           -6.106508875739646,
           -5.988165680473373,
           -5.8579881656804735,
           -5.715976331360946,
           -5.562130177514793,
           -5.396449704142011,
           -5.218934911242604,
           -5.029585798816568,
           -4.828402366863905,
           -4.615384615384615,
           -4.390532544378699,
           -4.153846153846154,
           -3.9053254437869818,
           -3.644970414201182,
           -3.3727810650887573
          ],
          [
           -4.569362261669955,
           -4.738987508218279,
           -4.896778435239975,
           -5.0427350427350435,
           -5.176857330703486,
           -5.299145299145301,
           -5.409598948060487,
           -5.508218277449048,
           -5.59500328731098,
           -5.669953977646285,
           -5.733070348454964,
           -5.784352399737015,
           -5.823800131492439,
           -5.851413543721236,
           -5.867192636423405,
           -5.871137409598948,
           -5.863247863247864,
           -5.843523997370152,
           -5.811965811965812,
           -5.7685733070348455,
           -5.713346482577252,
           -5.646285338593031,
           -5.567389875082183,
           -5.476660092044708,
           -5.374095989480605,
           -5.259697567389876,
           -5.133464825772519,
           -4.9953977646285335,
           -4.845496383957921,
           -4.683760683760684,
           -4.510190664036817,
           -4.3247863247863245,
           -4.127547666009205,
           -3.9184746877054564,
           -3.697567389875083,
           -3.4648257725180787,
           -3.220249835634451,
           -2.963839579224194,
           -2.695595003287311,
           -2.4155161078238008
          ],
          [
           -3.9618671926364253,
           -4.123602892833664,
           -4.273504273504276,
           -4.411571334648259,
           -4.537804076265616,
           -4.652202498356346,
           -4.754766600920448,
           -4.845496383957924,
           -4.924391847468772,
           -4.991452991452992,
           -5.046679815910586,
           -5.090072320841553,
           -5.121630506245891,
           -5.141354372123604,
           -5.149243918474688,
           -5.145299145299146,
           -5.129520052596977,
           -5.10190664036818,
           -5.062458908612755,
           -5.011176857330704,
           -4.948060486522026,
           -4.8731097961867205,
           -4.786324786324787,
           -4.687705456936228,
           -4.57725180802104,
           -4.454963839579226,
           -4.320841551610785,
           -4.174884944115714,
           -4.017094017094017,
           -3.847468770545696,
           -3.6660092044707437,
           -3.4727153188691657,
           -3.2675871137409613,
           -3.050624589086128,
           -2.82182774490467,
           -2.581196581196582,
           -2.3287310979618687,
           -2.064431295200526,
           -1.7882971729125587,
           -1.5003287310979634
          ],
          [
           -3.396449704142014,
           -3.550295857988168,
           -3.6923076923076943,
           -3.8224852071005935,
           -3.940828402366866,
           -4.047337278106511,
           -4.142011834319527,
           -4.224852071005919,
           -4.2958579881656815,
           -4.3550295857988175,
           -4.402366863905327,
           -4.437869822485208,
           -4.461538461538462,
           -4.473372781065089,
           -4.4733727810650885,
           -4.461538461538462,
           -4.437869822485208,
           -4.402366863905327,
           -4.355029585798817,
           -4.295857988165681,
           -4.224852071005918,
           -4.142011834319528,
           -4.04733727810651,
           -3.940828402366865,
           -3.8224852071005917,
           -3.6923076923076925,
           -3.5502958579881665,
           -3.3964497041420127,
           -3.2307692307692317,
           -3.0532544378698248,
           -2.863905325443788,
           -2.662721893491126,
           -2.4497041420118357,
           -2.2248520710059174,
           -1.9881656804733743,
           -1.7396449704142025,
           -1.4792899408284037,
           -1.2071005917159774,
           -0.923076923076924,
           -0.6272189349112438
          ],
          [
           -2.873109796186722,
           -3.01906640368179,
           -3.1531886916502314,
           -3.2754766600920466,
           -3.3859303090072337,
           -3.4845496383957935,
           -3.571334648257727,
           -3.6462853385930316,
           -3.7094017094017104,
           -3.7606837606837615,
           -3.8001314924391854,
           -3.8277449046679823,
           -3.8435239973701525,
           -3.8474687705456945,
           -3.83957922419461,
           -3.8198553583168975,
           -3.7882971729125585,
           -3.744904667981592,
           -3.6896778435239987,
           -3.6226166995397775,
           -3.5437212360289294,
           -3.452991452991454,
           -3.350427350427352,
           -3.236028928336622,
           -3.1097961867192647,
           -2.9717291255752802,
           -2.821827744904669,
           -2.6600920447074303,
           -2.486522024983564,
           -2.3011176857330717,
           -2.1038790269559513,
           -1.8948060486522045,
           -1.6738987508218286,
           -1.4411571334648265,
           -1.1965811965811979,
           -0.9401709401709414,
           -0.6719263642340587,
           -0.39184746877054694,
           -0.09993425378040836,
           0.20381328073635577
          ],
          [
           -2.391847468770547,
           -2.529914529914531,
           -2.656147271531889,
           -2.770545693622618,
           -2.8731097961867205,
           -2.963839579224195,
           -3.042735042735043,
           -3.1097961867192643,
           -3.165023011176858,
           -3.208415516107824,
           -3.239973701512163,
           -3.259697567389875,
           -3.2675871137409604,
           -3.2636423405654176,
           -3.2478632478632483,
           -3.220249835634451,
           -3.180802103879027,
           -3.1295200525969755,
           -3.0664036817882976,
           -2.991452991452992,
           -2.904667981591059,
           -2.8060486522024988,
           -2.6955950032873113,
           -2.573307034845497,
           -2.4391847468770553,
           -2.2932281393819856,
           -2.13543721236029,
           -1.9658119658119662,
           -1.7843523997370152,
           -1.591058514135438,
           -1.3859303090072326,
           -1.168967784352401,
           -0.9401709401709405,
           -0.6995397764628531,
           -0.44707429322814024,
           -0.18277449046679825,
           0.09335963182116926,
           0.38132807363576543,
           0.6811308349769885,
           0.9927679158448378
          ],
          [
           -1.9526627218934924,
           -2.082840236686392,
           -2.2011834319526637,
           -2.3076923076923084,
           -2.402366863905326,
           -2.485207100591716,
           -2.5562130177514795,
           -2.6153846153846154,
           -2.6627218934911245,
           -2.698224852071006,
           -2.72189349112426,
           -2.7337278106508873,
           -2.7337278106508878,
           -2.72189349112426,
           -2.698224852071006,
           -2.6627218934911236,
           -2.615384615384615,
           -2.5562130177514786,
           -2.485207100591716,
           -2.4023668639053253,
           -2.3076923076923075,
           -2.201183431952663,
           -2.0828402366863905,
           -1.9526627218934904,
           -1.8106508875739642,
           -1.6568047337278107,
           -1.4911242603550299,
           -1.3136094674556211,
           -1.1242603550295853,
           -0.923076923076923,
           -0.7100591715976329,
           -0.48520710059171684,
           -0.2485207100591717,
           9.581417234528717e-16,
           0.2603550295857987,
           0.5325443786982251,
           0.8165680473372774,
           1.1124260355029585,
           1.4201183431952666,
           1.7396449704142005
          ],
          [
           -1.555555555555557,
           -1.6778435239973715,
           -1.7882971729125585,
           -1.8869165023011187,
           -1.9737015121630517,
           -2.048652202498357,
           -2.1117685733070353,
           -2.163050624589087,
           -2.2024983563445106,
           -2.230111768573307,
           -2.245890861275477,
           -2.249835634451019,
           -2.241946088099935,
           -2.2222222222222223,
           -2.1906640368178834,
           -2.147271531886916,
           -2.0920447074293227,
           -2.024983563445102,
           -1.946088099934254,
           -1.8553583168967789,
           -1.752794214332676,
           -1.6383957922419465,
           -1.5121630506245893,
           -1.3740959894806049,
           -1.2241946088099935,
           -1.0624589086127552,
           -0.8888888888888896,
           -0.7034845496383964,
           -0.5062458908612752,
           -0.29717291255752853,
           -0.07626561472715362,
           0.1564760026298473,
           0.40105193951347723,
           0.6574621959237343,
           0.9257067718606169,
           1.2057856673241283,
           1.4976988823142656,
           1.8014464168310313,
           2.117028270874424,
           2.444444444444443
          ],
          [
           -1.2005259697567403,
           -1.3149243918474696,
           -1.4174884944115722,
           -1.5082182774490474,
           -1.5871137409598957,
           -1.6541748849441158,
           -1.709401709401709,
           -1.7527942143326758,
           -1.7843523997370148,
           -1.8040762656147271,
           -1.8119658119658117,
           -1.808021038790269,
           -1.7922419460880994,
           -1.7646285338593026,
           -1.7251808021038784,
           -1.6738987508218273,
           -1.6107823800131487,
           -1.5358316896778432,
           -1.4490466798159103,
           -1.35042735042735,
           -1.2399737015121626,
           -1.1176857330703485,
           -0.9835634451019064,
           -0.8376068376068371,
           -0.679815910585141,
           -0.5101906640368178,
           -0.32873109796186734,
           -0.1354372123602892,
           0.06969099276791646,
           0.2866535174227481,
           0.5154503616042081,
           0.7560815253122936,
           1.0085470085470087,
           1.2728468113083504,
           1.5489809335963178,
           1.8369493754109139,
           2.136752136752136,
           2.4483892176199866,
           2.7718606180144643,
           3.107166337935568
          ],
          [
           -0.8875739644970431,
           -0.9940828402366874,
           -1.0887573964497055,
           -1.171597633136096,
           -1.2426035502958588,
           -1.3017751479289947,
           -1.3491124260355036,
           -1.384615384615385,
           -1.4082840236686394,
           -1.4201183431952664,
           -1.4201183431952664,
           -1.4082840236686391,
           -1.3846153846153846,
           -1.349112426035503,
           -1.301775147928994,
           -1.2426035502958581,
           -1.1715976331360947,
           -1.0887573964497044,
           -0.9940828402366867,
           -0.8875739644970414,
           -0.7692307692307694,
           -0.63905325443787,
           -0.4970414201183433,
           -0.3431952662721895,
           -0.17751479289940866,
           -4.893732687790781e-16,
           0.18934911242603472,
           0.39053254437869783,
           0.6035502958579883,
           0.8284023668639044,
           1.065088757396449,
           1.3136094674556196,
           1.5739644970414193,
           1.8461538461538463,
           2.130177514792898,
           2.4260355029585794,
           2.7337278106508855,
           3.053254437869821,
           3.3846153846153837,
           3.7278106508875717
          ],
          [
           -0.6166995397764641,
           -0.7153188691650237,
           -0.8021038790269567,
           -0.8770545693622621,
           -0.9401709401709406,
           -0.9914529914529916,
           -1.0309007232084153,
           -1.0585141354372123,
           -1.0742932281393816,
           -1.078238001314924,
           -1.0703484549638393,
           -1.050624589086127,
           -1.0190664036817878,
           -0.9756738987508213,
           -0.9204470742932275,
           -0.8533859303090067,
           -0.7744904667981586,
           -0.6837606837606833,
           -0.5811965811965809,
           -0.4667981591058508,
           -0.340565417488494,
           -0.20249835634450988,
           -0.052596975673898205,
           0.10913872452334039,
           0.28270874424720605,
           0.468113083497699,
           0.665351742274819,
           0.8744247205785668,
           1.0953320184089421,
           1.3280736357659433,
           1.5726495726495726,
           1.829059829059828,
           2.0973044049967124,
           2.3773833004602243,
           2.6692965154503607,
           2.9730440499671267,
           3.288625904010518,
           3.6160420775805386,
           3.9552925706771855,
           4.306377383300459
          ],
          [
           -0.38790269559500423,
           -0.4786324786324794,
           -0.5575279421433271,
           -0.624589086127548,
           -0.6798159105851415,
           -0.7232084155161077,
           -0.7547666009204467,
           -0.7744904667981588,
           -0.7823800131492433,
           -0.7784352399737008,
           -0.7626561472715312,
           -0.7350427350427342,
           -0.69559500328731,
           -0.6443129520052588,
           -0.5811965811965801,
           -0.5062458908612745,
           -0.41946088099934165,
           -0.3208415516107816,
           -0.2103879026955942,
           -0.08809993425377947,
           0.046022353714662234,
           0.1919789612097311,
           0.3497698882314276,
           0.519395134779751,
           0.7008547008547016,
           0.8941485864562793,
           1.099276791584484,
           1.3162393162393167,
           1.545036160420777,
           1.7856673241288628,
           2.038132807363577,
           2.302432610124917,
           2.5785667324128863,
           2.8665351742274825,
           3.1663379355687042,
           3.4779750164365555,
           3.801446416831032,
           4.136752136752136,
           4.483892176199869,
           4.842866535174227
          ],
          [
           -0.2011834319526638,
           -0.28402366863905404,
           -0.3550295857988172,
           -0.414201183431953,
           -0.4615384615384616,
           -0.4970414201183432,
           -0.5207100591715974,
           -0.5325443786982246,
           -0.5325443786982245,
           -0.5207100591715971,
           -0.4970414201183426,
           -0.46153846153846084,
           -0.414201183431952,
           -0.35502958579881594,
           -0.2840236686390525,
           -0.20118343195266197,
           -0.1065088757396443,
           5.560042856499878e-16,
           0.11834319526627267,
           0.24852071005917228,
           0.3905325443786987,
           0.5443786982248524,
           0.7100591715976338,
           0.8875739644970418,
           1.0769230769230773,
           1.2781065088757397,
           1.4911242603550294,
           1.7159763313609468,
           1.9526627218934915,
           2.201183431952662,
           2.4615384615384617,
           2.733727810650886,
           3.0177514792899403,
           3.313609467455622,
           3.621301775147928,
           3.9408284023668636,
           4.272189349112424,
           4.615384615384614,
           4.970414201183432,
           5.337278106508874
          ],
          [
           -0.05654174884944207,
           -0.13149243918474743,
           -0.19460880999342575,
           -0.24589086127547682,
           -0.28533859303090053,
           -0.31295200525969713,
           -0.32873109796186667,
           -0.332675871137409,
           -0.3247863247863241,
           -0.30506245890861194,
           -0.27350427350427264,
           -0.23011176857330604,
           -0.17488494411571234,
           -0.10782380013149144,
           -0.028928336620643126,
           0.061801446416832176,
           0.16436554898093467,
           0.2787639710716643,
           0.40499671268902127,
           0.5430637738330056,
           0.6929651545036168,
           0.8547008547008556,
           1.0282708744247218,
           1.2136752136752147,
           1.410913872452335,
           1.6199868507560822,
           1.8408941485864565,
           2.0736357659434588,
           2.3182117028270883,
           2.574621959237344,
           2.842866535174228,
           3.1229454306377376,
           3.414858645627876,
           3.718606180144642,
           4.034188034188034,
           4.361604207758054,
           4.7008547008547,
           5.051939513477974,
           5.414858645627876,
           5.789612097304404
          ],
          [
           0.04602235371466055,
           -0.021038790269559966,
           -0.07626561472715365,
           -0.11965811965811984,
           -0.1512163050624588,
           -0.1709401709401707,
           -0.17882971729125535,
           -0.1748849441157128,
           -0.1591058514135431,
           -0.13149243918474612,
           -0.09204470742932197,
           -0.04076265614727059,
           0.0223537146614079,
           0.09730440499671358,
           0.18408941485864674,
           0.2827087442472068,
           0.3931623931623941,
           0.5154503616042087,
           0.6495726495726502,
           0.7955292570677195,
           0.9533201840894155,
           1.1229454306377389,
           1.3044049967126898,
           1.4976988823142678,
           1.7028270874424727,
           1.9197896120973046,
           2.148586456278764,
           2.389217619986851,
           2.6416831032215655,
           2.905982905982906,
           3.1821170282708744,
           3.470085470085469,
           3.769888231426693,
           4.081525312294543,
           4.4049967126890195,
           4.740302432610125,
           5.087442472057855,
           5.446416831032215,
           5.817225509533202,
           6.199868507560814
          ],
          [
           0.10650887573964433,
           0.04733727810650858,
           -1.330077199928776e-16,
           -0.03550295857988158,
           -0.059171597633135696,
           -0.07100591715976272,
           -0.07100591715976258,
           -0.059171597633135224,
           -0.03550295857988073,
           1.0538191000564891e-15,
           0.04733727810651001,
           0.10650887573964624,
           0.17751479289940955,
           0.26035502958580004,
           0.355029585798818,
           0.4615384615384629,
           0.579881656804735,
           0.7100591715976344,
           0.8520710059171608,
           1.0059171597633147,
           1.1715976331360958,
           1.3491124260355039,
           1.5384615384615397,
           1.7396449704142025,
           1.952662721893492,
           2.177514792899409,
           2.414201183431953,
           2.662721893491125,
           2.9230769230769242,
           3.195266272189349,
           3.4792899408284033,
           3.775147928994082,
           4.0828402366863905,
           4.402366863905326,
           4.733727810650888,
           5.0769230769230775,
           5.431952662721892,
           5.798816568047337,
           6.177514792899409,
           6.568047337278105
          ],
          [
           0.124917817225509,
           0.07363576594345811,
           0.03418803418803413,
           0.006574621959237653,
           -0.009204470742931835,
           -0.013149243918473996,
           -0.005259697567388999,
           0.014464168310323188,
           0.04602235371466253,
           0.08941485864562909,
           0.1446416831032229,
           0.21170282708744392,
           0.29059829059829206,
           0.3813280736357674,
           0.4838921761998702,
           0.5982905982905998,
           0.7245233399079567,
           0.8625904010519408,
           1.0124917817225523,
           1.174227481919791,
           1.3477975016436567,
           1.5332018408941497,
           1.7304404996712706,
           1.9395134779750178,
           2.160420775805392,
           2.3931623931623944,
           2.637738330046023,
           2.89414858645628,
           3.162393162393164,
           3.4424720578566737,
           3.7343852728468123,
           4.038132807363576,
           4.353714661406969,
           4.681130834976989,
           5.020381328073636,
           5.37146614069691,
           5.7343852728468105,
           6.10913872452334,
           6.495726495726497,
           6.894148586456278
          ],
          [
           0.10124917817225464,
           0.05785667324128848,
           0.026298487836949366,
           0.006574621959237633,
           -0.001314924391846887,
           0.002629848783695807,
           0.018408941485865606,
           0.04602235371466259,
           0.08547008547008675,
           0.13675213675213815,
           0.19986850756081678,
           0.2748191978961227,
           0.3616042077580556,
           0.4602235371466157,
           0.5706771860618033,
           0.6929651545036178,
           0.8270874424720595,
           0.9730440499671285,
           1.1308349769888246,
           1.3004602235371483,
           1.4819197896120988,
           1.6752136752136764,
           1.880341880341882,
           2.0973044049967142,
           2.3261012491781736,
           2.5667324128862608,
           2.8191978961209743,
           3.0834976988823155,
           3.3596318211702845,
           3.6476002629848794,
           3.9474030243261025,
           4.259040105193951,
           4.582511505588429,
           4.917817225509535,
           5.264957264957266,
           5.623931623931625,
           5.99474030243261,
           6.377383300460224,
           6.771860618014466,
           7.178172255095331
          ],
          [
           0.035502958579881345,
           4.5284058929015443e-17,
           -0.02366863905325421,
           -0.0355029585798812,
           -0.035502958579880964,
           -0.023668639053253476,
           1.1793285418700138e-15,
           0.03550295857988299,
           0.08284023668639197,
           0.14201183431952816,
           0.21301775147929164,
           0.2958579881656823,
           0.39053254437870005,
           0.497041420118345,
           0.6153846153846175,
           0.7455621301775168,
           0.8875739644970434,
           1.041420118343197,
           1.207100591715978,
           1.3846153846153866,
           1.573964497041422,
           1.7751479289940844,
           1.9881656804733747,
           2.213017751479292,
           2.4497041420118357,
           2.6982248520710077,
           2.958579881656806,
           3.2307692307692326,
           3.514792899408286,
           3.8106508875739653,
           4.118343195266275,
           4.437869822485207,
           4.769230769230771,
           5.112426035502961,
           5.4674556213017755,
           5.834319526627221,
           6.213017751479289,
           6.603550295857988,
           7.005917159763314,
           7.420118343195265
          ],
          [
           -0.07232084155161064,
           -0.09993425378040718,
           -0.11571334648257671,
           -0.11965811965811883,
           -0.11176857330703374,
           -0.09204470742932157,
           -0.06048652202498217,
           -0.017094017094015496,
           0.03813280736357825,
           0.10519395134779923,
           0.1840894148586475,
           0.274819197896123,
           0.3773833004602255,
           0.4917817225509552,
           0.6180144641683125,
           0.7560815253122966,
           0.905982905982908,
           1.0677186061801465,
           1.2412886259040123,
           1.4266929651545055,
           1.6239316239316257,
           1.8330046022353728,
           2.053911900065748,
           2.28665351742275,
           2.531229454306379,
           2.787639710716635,
           3.0558842866535185,
           3.33596318211703,
           3.6278763971071677,
           3.931623931623932,
           4.247205785667325,
           4.574621959237343,
           4.913872452333991,
           5.264957264957266,
           5.627876397107166,
           6.002629848783695,
           6.389217619986849,
           6.787639710716633,
           7.197896120973044,
           7.61998685075608
          ],
          [
           -0.222222222222222,
           -0.24194608809993381,
           -0.24983563445101845,
           -0.24589086127547574,
           -0.2301117685733059,
           -0.20249835634450875,
           -0.16305062458908454,
           -0.11176857330703306,
           -0.04865220249835453,
           0.026298487836951278,
           0.11308349769888436,
           0.21170282708744467,
           0.32215647600263203,
           0.44444444444444653,
           0.5785667324128887,
           0.7245233399079576,
           0.8823142669296538,
           1.051939513477977,
           1.2333990795529277,
           1.4266929651545057,
           1.6318211702827108,
           1.8487836949375427,
           2.0775805391190025,
           2.318211702827089,
           2.570677186061803,
           2.8349769888231444,
           3.1111111111111125,
           3.3990795529257083,
           3.6988823142669314,
           4.010519395134781,
           4.333990795529259,
           4.669296515450362,
           5.016436554898093,
           5.375410913872453,
           5.746219592373438,
           6.128862590401052,
           6.523339907955291,
           6.92965154503616,
           7.347797501643656,
           7.777777777777777
          ],
          [
           -0.4142011834319525,
           -0.42603550295857945,
           -0.4260355029585791,
           -0.41420118343195167,
           -0.39053254437869694,
           -0.35502958579881505,
           -0.30769230769230593,
           -0.24852071005916973,
           -0.17751479289940633,
           -0.09467455621301571,
           2.175051612834733e-15,
           0.10650887573964733,
           0.22485207100591947,
           0.3550295857988188,
           0.4970414201183458,
           0.6508875739644995,
           0.8165680473372804,
           0.9940828402366886,
           1.1834319526627242,
           1.384615384615387,
           1.5976331360946767,
           1.8224852071005937,
           2.059171597633138,
           2.3076923076923097,
           2.5680473372781085,
           2.8402366863905346,
           3.124260355029587,
           3.4201183431952678,
           3.727810650887576,
           4.04733727810651,
           4.378698224852073,
           4.72189349112426,
           5.0769230769230775,
           5.443786982248522,
           5.822485207100592,
           6.213017751479291,
           6.615384615384614,
           7.0295857988165675,
           7.455621301775149,
           7.893491124260354
          ],
          [
           -0.6482577251808022,
           -0.6522024983563441,
           -0.6443129520052593,
           -0.6245890861275469,
           -0.5930309007232073,
           -0.5496383957922406,
           -0.49441157133464664,
           -0.4273504273504256,
           -0.34845496383957747,
           -0.257725180802102,
           -0.15516107823799927,
           -0.04076265614726928,
           0.08547008547008768,
           0.22353714661407184,
           0.37343852728468363,
           0.5351742274819222,
           0.7087442472057879,
           0.8941485864562809,
           1.0913872452334012,
           1.300460223537149,
           1.5213675213675235,
           1.7541091387245251,
           1.998685075608155,
           2.255095332018411,
           2.523339907955294,
           2.803418803418805,
           3.0953320184089423,
           3.3990795529257083,
           3.7146614069691015,
           4.042077580539121,
           4.381328073635768,
           4.7324128862590396,
           5.095332018408942,
           5.470085470085471,
           5.856673241288626,
           6.25509533201841,
           6.665351742274818,
           7.087442472057856,
           7.521367521367522,
           7.967126890203812
          ],
          [
           -0.9243918474687707,
           -0.9204470742932278,
           -0.9046679815910581,
           -0.8770545693622609,
           -0.8376068376068364,
           -0.7863247863247853,
           -0.7232084155161063,
           -0.6482577251808004,
           -0.5614727153188673,
           -0.4628533859303072,
           -0.3523997370151196,
           -0.23011176857330481,
           -0.09598948060486302,
           0.04996712689020594,
           0.20775805391190255,
           0.37738330046022595,
           0.5588428665351765,
           0.7521367521367542,
           0.9572649572649593,
           1.174227481919792,
           1.4030243261012514,
           1.6436554898093374,
           1.8961209730440522,
           2.1604207758053935,
           2.436554898093361,
           2.724523339907957,
           3.0243261012491796,
           3.33596318211703,
           3.6594345825115075,
           3.9947403024326107,
           4.341880341880343,
           4.7008547008547,
           5.071663379355687,
           5.454306377383302,
           5.848783694937541,
           6.25509533201841,
           6.673241288625904,
           7.103221564760026,
           7.545036160420777,
           7.998685075608152
          ],
          [
           -1.2426035502958572,
           -1.230769230769229,
           -1.2071005917159747,
           -1.1715976331360927,
           -1.1242603550295838,
           -1.0650887573964474,
           -0.9940828402366839,
           -0.9112426035502932,
           -0.8165680473372753,
           -0.7100591715976301,
           -0.5917159763313579,
           -0.4615384615384583,
           -0.31952662721893177,
           -0.165680473372778,
           3.4258821669193885e-15,
           0.1775147928994116,
           0.36686390532544694,
           0.5680473372781095,
           0.7810650887573992,
           1.0059171597633167,
           1.2426035502958608,
           1.4911242603550319,
           1.7514792899408314,
           2.0236686390532572,
           2.3076923076923097,
           2.6035502958579904,
           2.9112426035502974,
           3.230769230769233,
           3.5621301775147955,
           3.9053254437869835,
           4.260355029585801,
           4.627218934911243,
           5.005917159763315,
           5.396449704142014,
           5.7988165680473385,
           6.213017751479291,
           6.6390532544378695,
           7.0769230769230775,
           7.526627218934912,
           7.988165680473371
          ],
          [
           -1.6028928336620631,
           -1.5831689677843501,
           -1.5516107823800112,
           -1.5082182774490445,
           -1.4529914529914503,
           -1.3859303090072292,
           -1.307034845496381,
           -1.216305062458905,
           -1.1137409598948025,
           -0.9993425378040729,
           -0.8731097961867155,
           -0.7350427350427312,
           -0.5851413543721198,
           -0.4234056541748813,
           -0.24983563445101503,
           -0.06443129520052208,
           0.13280736357659811,
           0.3418803418803454,
           0.5627876397107199,
           0.7955292570677224,
           1.0401051939513513,
           1.2965154503616072,
           1.5647600262984915,
           1.8448389217620023,
           2.1367521367521394,
           2.440499671268905,
           2.7560815253122968,
           3.0834976988823173,
           3.4227481919789646,
           3.7738330046022375,
           4.13675213675214,
           4.511505588428666,
           4.898093359631822,
           5.296515450361607,
           5.706771860618016,
           6.128862590401054,
           6.562787639710717,
           7.008547008547009,
           7.466140696909929,
           7.935568704799473
          ],
          [
           -2.005259697567389,
           -1.9776462853385917,
           -1.9381985535831672,
           -1.8869165023011156,
           -1.823800131492437,
           -1.7488494411571307,
           -1.662064431295198,
           -1.563445101906637,
           -1.4529914529914496,
           -1.3307034845496353,
           -1.1965811965811932,
           -1.0506245890861239,
           -0.8928336620644277,
           -0.7232084155161044,
           -0.5417488494411533,
           -0.3484549638395755,
           -0.14332675871137052,
           0.07363576594346158,
           0.302432610124921,
           0.5430637738330082,
           0.7955292570677219,
           1.0598290598290627,
           1.335963182117032,
           1.6239316239316275,
           1.92373438527285,
           2.2353714661406996,
           2.5588428665351763,
           2.8941485864562817,
           3.241288625904014,
           3.6002629848783716,
           3.971071663379358,
           4.353714661406969,
           4.748191978961211,
           5.15450361604208,
           5.572649572649574,
           6.002629848783697,
           6.444444444444445,
           6.8980933596318215,
           7.363576594345827,
           7.840894148586456
          ],
          [
           -2.4497041420118335,
           -2.4142011834319517,
           -2.3668639053254426,
           -2.3076923076923057,
           -2.236686390532542,
           -2.153846153846151,
           -2.0591715976331333,
           -1.9526627218934878,
           -1.834319526627216,
           -1.7041420118343165,
           -1.5621301775147898,
           -1.4082840236686358,
           -1.2426035502958546,
           -1.0650887573964465,
           -0.8757396449704106,
           -0.6745562130177479,
           -0.46153846153845823,
           -0.2366863905325413,
           2.9777834971198584e-15,
           0.24852071005917498,
           0.5088757396449736,
           0.7810650887573992,
           1.0650887573964531,
           1.3609467455621334,
           1.6686390532544408,
           1.9881656804733752,
           2.319526627218937,
           2.6627218934911268,
           3.0177514792899442,
           3.384615384615386,
           3.763313609467458,
           4.153846153846154,
           4.556213017751481,
           4.970414201183434,
           5.396449704142013,
           5.834319526627221,
           6.284023668639052,
           6.745562130177515,
           7.218934911242605,
           7.7041420118343185
          ],
          [
           -2.936226166995398,
           -2.8928336620644313,
           -2.8376068376068373,
           -2.7705456936226156,
           -2.6916502301117675,
           -2.6009204470742917,
           -2.498356344510189,
           -2.3839579224194587,
           -2.257725180802102,
           -2.1196581196581175,
           -1.969756738987506,
           -1.808021038790267,
           -1.6344510190664012,
           -1.4490466798159083,
           -1.2518080210387874,
           -1.0427350427350401,
           -0.8218277449046656,
           -0.5890861275476637,
           -0.3445101906640347,
           -0.08809993425377792,
           0.1801446416831055,
           0.460223537146616,
           0.7521367521367547,
           1.0558842866535199,
           1.3714661406969118,
           1.6988823142669311,
           2.038132807363578,
           2.3892176199868524,
           2.752136752136755,
           3.1268902038132813,
           3.513477975016438,
           3.9119000657462193,
           4.322156476002631,
           4.744247205785669,
           5.178172255095332,
           5.623931623931624,
           6.081525312294541,
           6.550953320184089,
           7.032215647600263,
           7.525312294543062
          ],
          [
           -3.4648257725180778,
           -3.4135437212360253,
           -3.3504273504273474,
           -3.275476660092041,
           -3.188691650230108,
           -3.090072320841547,
           -2.9796186719263598,
           -2.8573307034845445,
           -2.7232084155161034,
           -2.5772518080210336,
           -2.419460880999337,
           -2.249835634451014,
           -2.0683760683760632,
           -1.8750821827744855,
           -1.66995397764628,
           -1.4529914529914478,
           -1.2241946088099882,
           -0.9835634451019019,
           -0.731097961867188,
           -0.46679815910584616,
           -0.19066403681787833,
           0.09730440499671728,
           0.3971071663379405,
           0.7087442472057903,
           1.0322156476002673,
           1.3675213675213713,
           1.7146614069691029,
           2.0736357659434623,
           2.4444444444444486,
           2.827087442472061,
           3.221564760026302,
           3.627876397107168,
           4.0460223537146645,
           4.476002629848788,
           4.917817225509535,
           5.371466140696913,
           5.8369493754109145,
           6.314266929651546,
           6.803418803418806,
           7.304404996712689
          ],
          [
           -4.0355029585798805,
           -3.9763313609467428,
           -3.905325443786979,
           -3.8224852071005886,
           -3.727810650887571,
           -3.621301775147925,
           -3.502958579881653,
           -3.3727810650887533,
           -3.2307692307692264,
           -3.0769230769230727,
           -2.911242603550291,
           -2.7337278106508824,
           -2.5443786982248477,
           -2.343195266272185,
           -2.1301775147928947,
           -1.9053254437869773,
           -1.6686390532544333,
           -1.4201183431952618,
           -1.1597633136094634,
           -0.8875739644970371,
           -0.6035502958579838,
           -0.3076923076923038,
           4.289056141479658e-15,
           0.319526627218939,
           0.6508875739645008,
           0.9940828402366897,
           1.349112426035506,
           1.7159763313609502,
           2.0946745562130213,
           2.4852071005917185,
           2.8875739644970446,
           3.3017751479289954,
           3.727810650887576,
           4.165680473372785,
           4.615384615384617,
           5.076923076923078,
           5.550295857988166,
           6.035502958579882,
           6.532544378698227,
           7.041420118343195
          ],
          [
           -4.648257725180801,
           -4.581196581196579,
           -4.502301117685731,
           -4.411571334648254,
           -4.309007232084152,
           -4.194608809993421,
           -4.068376068376065,
           -3.9303090072320797,
           -3.780407626561469,
           -3.61867192636423,
           -3.445101906640364,
           -3.2596975673898703,
           -3.0624589086127507,
           -2.853385930309003,
           -2.632478632478628,
           -2.3997370151216257,
           -2.155161078237997,
           -1.8987508218277407,
           -1.6305062458908572,
           -1.3504273504273463,
           -1.0585141354372083,
           -0.7547666009204436,
           -0.43918474687705034,
           -0.1117685733070308,
           0.22748191978961535,
           0.5785667324128895,
           0.9414858645627904,
           1.3162393162393196,
           1.7028270874424758,
           2.101249178172257,
           2.5115055884286686,
           2.9335963182117037,
           3.3675213675213693,
           3.8132807363576626,
           4.27087442472058,
           4.740302432610127,
           5.221564760026299,
           5.7146614069691,
           6.219592373438529,
           6.7363576594345815
          ],
          [
           -5.303090072320841,
           -5.228139381985534,
           -5.141354372123602,
           -5.04273504273504,
           -4.932281393819853,
           -4.809993425378038,
           -4.675871137409596,
           -4.529914529914527,
           -4.37212360289283,
           -4.202498356344507,
           -4.021038790269556,
           -3.8277449046679775,
           -3.622616699539773,
           -3.4056541748849405,
           -3.1768573307034806,
           -2.9362261669953935,
           -2.68376068376068,
           -2.4194608809993388,
           -2.1433267587113707,
           -1.855358316896775,
           -1.555555555555552,
           -1.2439184746877026,
           -0.9204470742932247,
           -0.5851413543721202,
           -0.2380013149243885,
           0.12097304404996974,
           0.49178172255095515,
           0.8744247205785698,
           1.2689020381328104,
           1.6752136752136768,
           2.093359631821173,
           2.5233399079552927,
           2.965154503616043,
           3.4188034188034213,
           3.884286653517423,
           4.361604207758056,
           4.8507560815253115,
           5.351742274819198,
           5.864562787639711,
           6.38921761998685
          ],
          [
           -5.999999999999999,
           -5.917159763313609,
           -5.82248520710059,
           -5.715976331360944,
           -5.597633136094672,
           -5.467455621301773,
           -5.3254437869822455,
           -5.171597633136092,
           -5.00591715976331,
           -4.8284023668639025,
           -4.639053254437867,
           -4.437869822485204,
           -4.224852071005914,
           -3.999999999999997,
           -3.763313609467452,
           -3.51479289940828,
           -3.254437869822482,
           -2.9822485207100558,
           -2.6982248520710033,
           -2.402366863905322,
           -2.0946745562130147,
           -1.7751479289940804,
           -1.4437869822485174,
           -1.1005917159763283,
           -0.7455621301775124,
           -0.3786982248520688,
           1.7974385629629065e-15,
           0.3905325443787002,
           0.7928994082840268,
           1.2071005917159778,
           1.633136094674558,
           2.071005917159763,
           2.520710059171599,
           2.9822485207100615,
           3.455621301775148,
           3.940828402366865,
           4.437869822485206,
           4.946745562130176,
           5.4674556213017755,
           5.999999999999998
          ]
         ]
        }
       ],
       "layout": {
        "legend": {
         "tracegroupgap": 0
        },
        "margin": {
         "t": 60
        },
        "scene": {
         "domain": {
          "x": [
           0,
           1
          ],
          "y": [
           0,
           1
          ]
         },
         "xaxis": {
          "title": {
           "text": "x"
          }
         },
         "yaxis": {
          "title": {
           "text": "y"
          }
         },
         "zaxis": {
          "title": {
           "text": "z"
          }
         }
        },
        "template": {
         "data": {
          "bar": [
           {
            "error_x": {
             "color": "#2a3f5f"
            },
            "error_y": {
             "color": "#2a3f5f"
            },
            "marker": {
             "line": {
              "color": "#E5ECF6",
              "width": 0.5
             },
             "pattern": {
              "fillmode": "overlay",
              "size": 10,
              "solidity": 0.2
             }
            },
            "type": "bar"
           }
          ],
          "barpolar": [
           {
            "marker": {
             "line": {
              "color": "#E5ECF6",
              "width": 0.5
             },
             "pattern": {
              "fillmode": "overlay",
              "size": 10,
              "solidity": 0.2
             }
            },
            "type": "barpolar"
           }
          ],
          "carpet": [
           {
            "aaxis": {
             "endlinecolor": "#2a3f5f",
             "gridcolor": "white",
             "linecolor": "white",
             "minorgridcolor": "white",
             "startlinecolor": "#2a3f5f"
            },
            "baxis": {
             "endlinecolor": "#2a3f5f",
             "gridcolor": "white",
             "linecolor": "white",
             "minorgridcolor": "white",
             "startlinecolor": "#2a3f5f"
            },
            "type": "carpet"
           }
          ],
          "choropleth": [
           {
            "colorbar": {
             "outlinewidth": 0,
             "ticks": ""
            },
            "type": "choropleth"
           }
          ],
          "contour": [
           {
            "colorbar": {
             "outlinewidth": 0,
             "ticks": ""
            },
            "colorscale": [
             [
              0,
              "#0d0887"
             ],
             [
              0.1111111111111111,
              "#46039f"
             ],
             [
              0.2222222222222222,
              "#7201a8"
             ],
             [
              0.3333333333333333,
              "#9c179e"
             ],
             [
              0.4444444444444444,
              "#bd3786"
             ],
             [
              0.5555555555555556,
              "#d8576b"
             ],
             [
              0.6666666666666666,
              "#ed7953"
             ],
             [
              0.7777777777777778,
              "#fb9f3a"
             ],
             [
              0.8888888888888888,
              "#fdca26"
             ],
             [
              1,
              "#f0f921"
             ]
            ],
            "type": "contour"
           }
          ],
          "contourcarpet": [
           {
            "colorbar": {
             "outlinewidth": 0,
             "ticks": ""
            },
            "type": "contourcarpet"
           }
          ],
          "heatmap": [
           {
            "colorbar": {
             "outlinewidth": 0,
             "ticks": ""
            },
            "colorscale": [
             [
              0,
              "#0d0887"
             ],
             [
              0.1111111111111111,
              "#46039f"
             ],
             [
              0.2222222222222222,
              "#7201a8"
             ],
             [
              0.3333333333333333,
              "#9c179e"
             ],
             [
              0.4444444444444444,
              "#bd3786"
             ],
             [
              0.5555555555555556,
              "#d8576b"
             ],
             [
              0.6666666666666666,
              "#ed7953"
             ],
             [
              0.7777777777777778,
              "#fb9f3a"
             ],
             [
              0.8888888888888888,
              "#fdca26"
             ],
             [
              1,
              "#f0f921"
             ]
            ],
            "type": "heatmap"
           }
          ],
          "heatmapgl": [
           {
            "colorbar": {
             "outlinewidth": 0,
             "ticks": ""
            },
            "colorscale": [
             [
              0,
              "#0d0887"
             ],
             [
              0.1111111111111111,
              "#46039f"
             ],
             [
              0.2222222222222222,
              "#7201a8"
             ],
             [
              0.3333333333333333,
              "#9c179e"
             ],
             [
              0.4444444444444444,
              "#bd3786"
             ],
             [
              0.5555555555555556,
              "#d8576b"
             ],
             [
              0.6666666666666666,
              "#ed7953"
             ],
             [
              0.7777777777777778,
              "#fb9f3a"
             ],
             [
              0.8888888888888888,
              "#fdca26"
             ],
             [
              1,
              "#f0f921"
             ]
            ],
            "type": "heatmapgl"
           }
          ],
          "histogram": [
           {
            "marker": {
             "pattern": {
              "fillmode": "overlay",
              "size": 10,
              "solidity": 0.2
             }
            },
            "type": "histogram"
           }
          ],
          "histogram2d": [
           {
            "colorbar": {
             "outlinewidth": 0,
             "ticks": ""
            },
            "colorscale": [
             [
              0,
              "#0d0887"
             ],
             [
              0.1111111111111111,
              "#46039f"
             ],
             [
              0.2222222222222222,
              "#7201a8"
             ],
             [
              0.3333333333333333,
              "#9c179e"
             ],
             [
              0.4444444444444444,
              "#bd3786"
             ],
             [
              0.5555555555555556,
              "#d8576b"
             ],
             [
              0.6666666666666666,
              "#ed7953"
             ],
             [
              0.7777777777777778,
              "#fb9f3a"
             ],
             [
              0.8888888888888888,
              "#fdca26"
             ],
             [
              1,
              "#f0f921"
             ]
            ],
            "type": "histogram2d"
           }
          ],
          "histogram2dcontour": [
           {
            "colorbar": {
             "outlinewidth": 0,
             "ticks": ""
            },
            "colorscale": [
             [
              0,
              "#0d0887"
             ],
             [
              0.1111111111111111,
              "#46039f"
             ],
             [
              0.2222222222222222,
              "#7201a8"
             ],
             [
              0.3333333333333333,
              "#9c179e"
             ],
             [
              0.4444444444444444,
              "#bd3786"
             ],
             [
              0.5555555555555556,
              "#d8576b"
             ],
             [
              0.6666666666666666,
              "#ed7953"
             ],
             [
              0.7777777777777778,
              "#fb9f3a"
             ],
             [
              0.8888888888888888,
              "#fdca26"
             ],
             [
              1,
              "#f0f921"
             ]
            ],
            "type": "histogram2dcontour"
           }
          ],
          "mesh3d": [
           {
            "colorbar": {
             "outlinewidth": 0,
             "ticks": ""
            },
            "type": "mesh3d"
           }
          ],
          "parcoords": [
           {
            "line": {
             "colorbar": {
              "outlinewidth": 0,
              "ticks": ""
             }
            },
            "type": "parcoords"
           }
          ],
          "pie": [
           {
            "automargin": true,
            "type": "pie"
           }
          ],
          "scatter": [
           {
            "fillpattern": {
             "fillmode": "overlay",
             "size": 10,
             "solidity": 0.2
            },
            "type": "scatter"
           }
          ],
          "scatter3d": [
           {
            "line": {
             "colorbar": {
              "outlinewidth": 0,
              "ticks": ""
             }
            },
            "marker": {
             "colorbar": {
              "outlinewidth": 0,
              "ticks": ""
             }
            },
            "type": "scatter3d"
           }
          ],
          "scattercarpet": [
           {
            "marker": {
             "colorbar": {
              "outlinewidth": 0,
              "ticks": ""
             }
            },
            "type": "scattercarpet"
           }
          ],
          "scattergeo": [
           {
            "marker": {
             "colorbar": {
              "outlinewidth": 0,
              "ticks": ""
             }
            },
            "type": "scattergeo"
           }
          ],
          "scattergl": [
           {
            "marker": {
             "colorbar": {
              "outlinewidth": 0,
              "ticks": ""
             }
            },
            "type": "scattergl"
           }
          ],
          "scattermapbox": [
           {
            "marker": {
             "colorbar": {
              "outlinewidth": 0,
              "ticks": ""
             }
            },
            "type": "scattermapbox"
           }
          ],
          "scatterpolar": [
           {
            "marker": {
             "colorbar": {
              "outlinewidth": 0,
              "ticks": ""
             }
            },
            "type": "scatterpolar"
           }
          ],
          "scatterpolargl": [
           {
            "marker": {
             "colorbar": {
              "outlinewidth": 0,
              "ticks": ""
             }
            },
            "type": "scatterpolargl"
           }
          ],
          "scatterternary": [
           {
            "marker": {
             "colorbar": {
              "outlinewidth": 0,
              "ticks": ""
             }
            },
            "type": "scatterternary"
           }
          ],
          "surface": [
           {
            "colorbar": {
             "outlinewidth": 0,
             "ticks": ""
            },
            "colorscale": [
             [
              0,
              "#0d0887"
             ],
             [
              0.1111111111111111,
              "#46039f"
             ],
             [
              0.2222222222222222,
              "#7201a8"
             ],
             [
              0.3333333333333333,
              "#9c179e"
             ],
             [
              0.4444444444444444,
              "#bd3786"
             ],
             [
              0.5555555555555556,
              "#d8576b"
             ],
             [
              0.6666666666666666,
              "#ed7953"
             ],
             [
              0.7777777777777778,
              "#fb9f3a"
             ],
             [
              0.8888888888888888,
              "#fdca26"
             ],
             [
              1,
              "#f0f921"
             ]
            ],
            "type": "surface"
           }
          ],
          "table": [
           {
            "cells": {
             "fill": {
              "color": "#EBF0F8"
             },
             "line": {
              "color": "white"
             }
            },
            "header": {
             "fill": {
              "color": "#C8D4E3"
             },
             "line": {
              "color": "white"
             }
            },
            "type": "table"
           }
          ]
         },
         "layout": {
          "annotationdefaults": {
           "arrowcolor": "#2a3f5f",
           "arrowhead": 0,
           "arrowwidth": 1
          },
          "autotypenumbers": "strict",
          "coloraxis": {
           "colorbar": {
            "outlinewidth": 0,
            "ticks": ""
           }
          },
          "colorscale": {
           "diverging": [
            [
             0,
             "#8e0152"
            ],
            [
             0.1,
             "#c51b7d"
            ],
            [
             0.2,
             "#de77ae"
            ],
            [
             0.3,
             "#f1b6da"
            ],
            [
             0.4,
             "#fde0ef"
            ],
            [
             0.5,
             "#f7f7f7"
            ],
            [
             0.6,
             "#e6f5d0"
            ],
            [
             0.7,
             "#b8e186"
            ],
            [
             0.8,
             "#7fbc41"
            ],
            [
             0.9,
             "#4d9221"
            ],
            [
             1,
             "#276419"
            ]
           ],
           "sequential": [
            [
             0,
             "#0d0887"
            ],
            [
             0.1111111111111111,
             "#46039f"
            ],
            [
             0.2222222222222222,
             "#7201a8"
            ],
            [
             0.3333333333333333,
             "#9c179e"
            ],
            [
             0.4444444444444444,
             "#bd3786"
            ],
            [
             0.5555555555555556,
             "#d8576b"
            ],
            [
             0.6666666666666666,
             "#ed7953"
            ],
            [
             0.7777777777777778,
             "#fb9f3a"
            ],
            [
             0.8888888888888888,
             "#fdca26"
            ],
            [
             1,
             "#f0f921"
            ]
           ],
           "sequentialminus": [
            [
             0,
             "#0d0887"
            ],
            [
             0.1111111111111111,
             "#46039f"
            ],
            [
             0.2222222222222222,
             "#7201a8"
            ],
            [
             0.3333333333333333,
             "#9c179e"
            ],
            [
             0.4444444444444444,
             "#bd3786"
            ],
            [
             0.5555555555555556,
             "#d8576b"
            ],
            [
             0.6666666666666666,
             "#ed7953"
            ],
            [
             0.7777777777777778,
             "#fb9f3a"
            ],
            [
             0.8888888888888888,
             "#fdca26"
            ],
            [
             1,
             "#f0f921"
            ]
           ]
          },
          "colorway": [
           "#636efa",
           "#EF553B",
           "#00cc96",
           "#ab63fa",
           "#FFA15A",
           "#19d3f3",
           "#FF6692",
           "#B6E880",
           "#FF97FF",
           "#FECB52"
          ],
          "font": {
           "color": "#2a3f5f"
          },
          "geo": {
           "bgcolor": "white",
           "lakecolor": "white",
           "landcolor": "#E5ECF6",
           "showlakes": true,
           "showland": true,
           "subunitcolor": "white"
          },
          "hoverlabel": {
           "align": "left"
          },
          "hovermode": "closest",
          "mapbox": {
           "style": "light"
          },
          "paper_bgcolor": "white",
          "plot_bgcolor": "#E5ECF6",
          "polar": {
           "angularaxis": {
            "gridcolor": "white",
            "linecolor": "white",
            "ticks": ""
           },
           "bgcolor": "#E5ECF6",
           "radialaxis": {
            "gridcolor": "white",
            "linecolor": "white",
            "ticks": ""
           }
          },
          "scene": {
           "xaxis": {
            "backgroundcolor": "#E5ECF6",
            "gridcolor": "white",
            "gridwidth": 2,
            "linecolor": "white",
            "showbackground": true,
            "ticks": "",
            "zerolinecolor": "white"
           },
           "yaxis": {
            "backgroundcolor": "#E5ECF6",
            "gridcolor": "white",
            "gridwidth": 2,
            "linecolor": "white",
            "showbackground": true,
            "ticks": "",
            "zerolinecolor": "white"
           },
           "zaxis": {
            "backgroundcolor": "#E5ECF6",
            "gridcolor": "white",
            "gridwidth": 2,
            "linecolor": "white",
            "showbackground": true,
            "ticks": "",
            "zerolinecolor": "white"
           }
          },
          "shapedefaults": {
           "line": {
            "color": "#2a3f5f"
           }
          },
          "ternary": {
           "aaxis": {
            "gridcolor": "white",
            "linecolor": "white",
            "ticks": ""
           },
           "baxis": {
            "gridcolor": "white",
            "linecolor": "white",
            "ticks": ""
           },
           "bgcolor": "#E5ECF6",
           "caxis": {
            "gridcolor": "white",
            "linecolor": "white",
            "ticks": ""
           }
          },
          "title": {
           "x": 0.05
          },
          "xaxis": {
           "automargin": true,
           "gridcolor": "white",
           "linecolor": "white",
           "ticks": "",
           "title": {
            "standoff": 15
           },
           "zerolinecolor": "white",
           "zerolinewidth": 2
          },
          "yaxis": {
           "automargin": true,
           "gridcolor": "white",
           "linecolor": "white",
           "ticks": "",
           "title": {
            "standoff": 15
           },
           "zerolinecolor": "white",
           "zerolinewidth": 2
          }
         }
        }
       }
      }
     },
     "metadata": {},
     "output_type": "display_data"
    }
   ],
   "source": [
    "x, y, z, p = read_xypzdata(\"data/tmp43\")\n",
    "\n",
    "func = LeastSquare2D(x, y, z, p, 3)\n",
    "\n",
    "x_pred = np.linspace(min(x), max(x), 40)\n",
    "y_pred = np.linspace(min(y), max(y), 40)\n",
    "z_graph = [[func(xi, yi) for xi in x_pred] for yi in y_pred]\n",
    "\n",
    "fcoeffs = LeastSquaresCoeffs2D(x, y, z, p, 1)\n",
    "\n",
    "\n",
    "fig = px.scatter_3d(x=x, y=y, z=z)\n",
    "fig.add_trace(go.Surface(x=x_pred, y=y_pred, z=z_graph))\n",
    "fig.show()"
   ]
  },
  {
   "cell_type": "code",
   "execution_count": 8,
   "metadata": {},
   "outputs": [
    {
     "data": {
      "application/vnd.plotly.v1+json": {
       "config": {
        "plotlyServerURL": "https://plot.ly"
       },
       "data": [
        {
         "hovertemplate": "x=%{x}<br>y=%{y}<br>z=%{z}<extra></extra>",
         "legendgroup": "",
         "marker": {
          "color": "#636efa",
          "symbol": "circle"
         },
         "mode": "markers",
         "name": "",
         "scene": "scene",
         "showlegend": false,
         "type": "scatter3d",
         "x": [
          -1,
          0,
          1,
          2,
          -1,
          0,
          1,
          2,
          -1,
          0,
          1,
          2,
          -1,
          0,
          1,
          2,
          -1,
          0,
          1,
          2
         ],
         "y": [
          -2,
          -2,
          -2,
          -2,
          -1,
          -1,
          -1,
          -1,
          0,
          0,
          0,
          0,
          1,
          1,
          1,
          1,
          2,
          2,
          2,
          2
         ],
         "z": [
          8.13,
          7.5,
          5.78,
          1.11,
          2.13,
          1.5,
          -0.22,
          -4.89,
          0.13,
          -0.5,
          -2.22,
          -6.89,
          2.13,
          1.5,
          -0.22,
          -4.89,
          8.13,
          7.5,
          5.78,
          1.11
         ]
        },
        {
         "type": "surface",
         "x": [
          -1,
          -0.9230769230769231,
          -0.8461538461538461,
          -0.7692307692307692,
          -0.6923076923076923,
          -0.6153846153846154,
          -0.5384615384615384,
          -0.46153846153846145,
          -0.3846153846153846,
          -0.3076923076923077,
          -0.23076923076923073,
          -0.15384615384615374,
          -0.07692307692307687,
          0,
          0.0769230769230771,
          0.15384615384615397,
          0.23076923076923084,
          0.3076923076923077,
          0.3846153846153846,
          0.4615384615384617,
          0.5384615384615385,
          0.6153846153846154,
          0.6923076923076925,
          0.7692307692307694,
          0.8461538461538463,
          0.9230769230769231,
          1,
          1.076923076923077,
          1.1538461538461542,
          1.2307692307692308,
          1.307692307692308,
          1.3846153846153846,
          1.4615384615384617,
          1.5384615384615388,
          1.6153846153846154,
          1.6923076923076925,
          1.7692307692307692,
          1.8461538461538463,
          1.9230769230769234,
          2
         ],
         "y": [
          -2,
          -1.8974358974358974,
          -1.794871794871795,
          -1.6923076923076923,
          -1.5897435897435899,
          -1.4871794871794872,
          -1.3846153846153846,
          -1.282051282051282,
          -1.1794871794871795,
          -1.076923076923077,
          -0.9743589743589745,
          -0.8717948717948718,
          -0.7692307692307692,
          -0.6666666666666667,
          -0.5641025641025641,
          -0.4615384615384617,
          -0.35897435897435903,
          -0.2564102564102564,
          -0.15384615384615397,
          -0.05128205128205132,
          0.0512820512820511,
          0.15384615384615374,
          0.2564102564102564,
          0.35897435897435903,
          0.4615384615384617,
          0.5641025641025639,
          0.6666666666666665,
          0.7692307692307692,
          0.8717948717948718,
          0.9743589743589745,
          1.0769230769230766,
          1.1794871794871793,
          1.282051282051282,
          1.3846153846153846,
          1.4871794871794872,
          1.5897435897435894,
          1.692307692307692,
          1.7948717948717947,
          1.8974358974358974,
          2
         ],
         "z": [
          [
           8.13,
           8.077906235776057,
           8.029522075557578,
           7.98400091033227,
           7.940496131087844,
           7.898161128812015,
           7.856149294492487,
           7.813614019116974,
           7.769708693673189,
           7.723586709148838,
           7.674401456531633,
           7.621306326809284,
           7.563454710969502,
           7.5,
           7.430095584888485,
           7.352894856622669,
           7.2675512061902605,
           7.173218024578974,
           7.069048702776517,
           6.954196631770602,
           6.827815202548936,
           6.689057806099234,
           6.537077833409201,
           6.371028675466552,
           6.190063723258998,
           5.993336367774246,
           5.780000000000009,
           5.549208010923996,
           5.30011379153392,
           5.031870732817488,
           4.743632225762413,
           4.434551661356404,
           4.103782430587174,
           3.7504779244424276,
           3.373791533909883,
           2.972876649977247,
           2.5468866636322325,
           2.0949749658625447,
           1.616294947655895,
           1.1100000000000008
          ],
          [
           7.3305259697567395,
           7.278432205532797,
           7.230048045314316,
           7.184526880089008,
           7.141022100844583,
           7.098687098568751,
           7.0566752642492245,
           7.014139988873712,
           6.970234663429927,
           6.924112678905576,
           6.87492742628837,
           6.821832296566022,
           6.76398068072624,
           6.700525969756738,
           6.630621554645223,
           6.553420826379407,
           6.468077175946999,
           6.373743994335712,
           6.269574672533255,
           6.1547226015273395,
           6.028341172305674,
           5.8895837758559715,
           5.73760380316594,
           5.57155464522329,
           5.390589693015736,
           5.193862337530984,
           4.980525969756747,
           4.749733980680734,
           4.500639761290659,
           4.232396702574226,
           3.9441581955191505,
           3.635077631113143,
           3.3043084003439116,
           2.9510038941991663,
           2.574317503666623,
           2.1734026197339853,
           1.7474126333889697,
           1.2955009356192821,
           0.8168209174126337,
           0.3105259697567395
          ],
          [
           6.573129520052599,
           6.521035755828656,
           6.472651595610175,
           6.427130430384866,
           6.383625651140442,
           6.341290648864611,
           6.299278814545084,
           6.256743539169571,
           6.212838213725786,
           6.166716229201436,
           6.11753097658423,
           6.0644358468618815,
           6.006584231022099,
           5.943129520052597,
           5.873225104941082,
           5.796024376675266,
           5.710680726242859,
           5.616347544631571,
           5.512178222829115,
           5.397326151823199,
           5.270944722601533,
           5.132187326151831,
           4.980207353461799,
           4.81415819551915,
           4.633193243311595,
           4.436465887826843,
           4.2231295200526064,
           3.9923375309765934,
           3.743243311586518,
           3.4750002528700863,
           3.1867617458150095,
           2.877681181409002,
           2.546911950639771,
           2.1936074444950266,
           1.816921053962482,
           1.4160061700298456,
           0.9900161836848305,
           0.5381044859151407,
           0.05942446770849319,
           -0.44687047994740103
          ],
          [
           5.857810650887575,
           5.805716886663632,
           5.75733272644515,
           5.711811561219842,
           5.668306781975418,
           5.6259717796995865,
           5.58395994538006,
           5.541424670004547,
           5.497519344560763,
           5.451397360036411,
           5.4022121074192055,
           5.349116977696857,
           5.291265361857075,
           5.227810650887573,
           5.157906235776058,
           5.080705507510242,
           4.995361857077834,
           4.901028675466547,
           4.7968593536640896,
           4.682007282658175,
           4.555625853436509,
           4.416868456986807,
           4.264888484296775,
           4.098839326354126,
           3.9178743741465714,
           3.721147018661819,
           3.507810650887582,
           3.2770186618115686,
           3.027924442421492,
           2.759681383705062,
           2.471442876649986,
           2.1623623122439786,
           1.8315930814747468,
           1.478288575330003,
           1.1016021847974586,
           0.7006873008648213,
           0.2746973145198055,
           -0.17721438324988203,
           -0.6558944014565309,
           -1.1621893491124253
          ],
          [
           5.18456936226167,
           5.132475598037726,
           5.084091437819246,
           5.038570272593938,
           4.9950654933495136,
           4.952730491073682,
           4.910718656754155,
           4.868183381378643,
           4.824278055934858,
           4.778156071410506,
           4.728970818793301,
           4.675875689070953,
           4.618024073231171,
           4.5545693622616685,
           4.484664947150153,
           4.407464218884337,
           4.32212056845193,
           4.227787386840643,
           4.123618065038185,
           4.00876599403227,
           3.882384564810605,
           3.743627168360902,
           3.59164719567087,
           3.425598037728222,
           3.2446330855206664,
           3.0479057300359154,
           2.8345693622616785,
           2.6037773731856655,
           2.3546831537955875,
           2.086440095079157,
           1.7982015880240816,
           1.489121023618074,
           1.1583517928488423,
           0.8050472867040983,
           0.4283608961715544,
           0.027446012238917294,
           -0.39854397410609854,
           -0.850455671875787,
           -1.3291356900824354,
           -1.8354306377383294
          ],
          [
           4.553405654174885,
           4.501311889950942,
           4.452927729732461,
           4.407406564507153,
           4.363901785262729,
           4.321566782986897,
           4.2795549486673705,
           4.237019673291858,
           4.1931143478480735,
           4.146992363323721,
           4.097807110706516,
           4.044711980984168,
           3.986860365144387,
           3.923405654174884,
           3.8535012390633687,
           3.7763005107975527,
           3.6909568603651457,
           3.5966236787538586,
           3.4924543569514017,
           3.377602285945485,
           3.2512208567238203,
           3.1124634602741166,
           2.9604834875840855,
           2.794434329641437,
           2.613469377433882,
           2.416742021949131,
           2.203405654174894,
           1.9726136650988808,
           1.723519445708803,
           1.4552763869923728,
           1.1670378799372974,
           0.8579573155312892,
           0.5271880847620575,
           0.17388357861731363,
           -0.20280281191522986,
           -0.6037176958478669,
           -1.0297076821928832,
           -1.4816193799625712,
           -1.9602993981692196,
           -2.466594345825114
          ],
          [
           3.964319526627218,
           3.912225762403275,
           3.8638416021847943,
           3.818320436959486,
           3.7748156577150622,
           3.7324806554392307,
           3.690468821119704,
           3.6479335457441917,
           3.604028220300405,
           3.5579062357760534,
           3.5087209831588493,
           3.455625853436501,
           3.3977742375967197,
           3.3343195266272168,
           3.2644151115157016,
           3.1872143832498856,
           3.101870732817478,
           3.0075375512061915,
           2.9033682294037346,
           2.788516158397818,
           2.6621347291761532,
           2.52337733272645,
           2.371397360036418,
           2.20534820209377,
           2.024383249886215,
           1.8276558944014643,
           1.614319526627227,
           1.3835275375512137,
           1.134433318161136,
           0.8661902594447064,
           0.5779517523896303,
           0.2688711879836232,
           -0.061898042785609064,
           -0.4152025489303538,
           -0.791888939462897,
           -1.1928038233955345,
           -1.6187938097405499,
           -2.070705507510238,
           -2.5493855257168865,
           -3.0556804733727807
          ],
          [
           3.4173109796186703,
           3.3652172153947277,
           3.3168330551762466,
           3.271311889950939,
           3.2278071107065145,
           3.1854721084306834,
           3.1434602741111566,
           3.1009249987356444,
           3.0570196732918578,
           3.010897688767506,
           2.9617124361503016,
           2.9086173064279537,
           2.8507656905881724,
           2.7873109796186695,
           2.7174065645071543,
           2.6402058362413383,
           2.5548621858089313,
           2.460529004197644,
           2.3563596823951873,
           2.2415076113892707,
           2.115126182167606,
           1.9763687857179026,
           1.8243888130278711,
           1.6583396550852225,
           1.477374702877668,
           1.2806473473929163,
           1.0673109796186797,
           0.8365189905426664,
           0.5874247711525888,
           0.3191817124361588,
           0.030943205381082972,
           -0.2781373590249244,
           -0.6089065897941563,
           -0.9622110959389004,
           -1.3388974864714442,
           -1.7398123704040818,
           -2.165802356749097,
           -2.6177140545187854,
           -3.0963940727254338,
           -3.602689020381328
          ],
          [
           2.9123800131492423,
           2.8602862489253,
           2.8119020887068187,
           2.766380923481511,
           2.7228761442370866,
           2.6805411419612555,
           2.6385293076417287,
           2.5959940322662165,
           2.55208870682243,
           2.505966722298078,
           2.4567814696808736,
           2.4036863399585258,
           2.3458347241187445,
           2.2823800131492415,
           2.2124755980377264,
           2.1352748697719104,
           2.0499312193395034,
           1.9555980377282163,
           1.8514287159257592,
           1.7365766449198425,
           1.6101952156981776,
           1.4714378192484743,
           1.3194578465584432,
           1.153408688615795,
           0.9724437364082401,
           0.7757163809234888,
           0.5623800131492518,
           0.3315880240732387,
           0.08249380468316114,
           -0.18574925403326914,
           -0.47398776108834473,
           -0.7830683254943522,
           -1.1138375562635843,
           -1.4671420624083282,
           -1.8438284529408722,
           -2.2447433368735092,
           -2.670733323218525,
           -3.122645020988213,
           -3.6013250391948612,
           -4.1076199868507555
          ],
          [
           2.4495266272189333,
           2.3974328629949913,
           2.34904870277651,
           2.303527537551202,
           2.260022758306778,
           2.217687756030947,
           2.17567592171142,
           2.133140646335908,
           2.0892353208921213,
           2.0431133363677696,
           1.993928083750565,
           1.940832954028217,
           1.8829813381884362,
           1.819526627218933,
           1.7496222121074179,
           1.6724214838416018,
           1.5870778334091946,
           1.4927446517979075,
           1.3885753299954506,
           1.273723258989534,
           1.1473418297678692,
           1.0085844333181657,
           0.8566044606281346,
           0.6905553026854863,
           0.5095903504779316,
           0.3128629949931802,
           0.09952662721894318,
           -0.13126536185706972,
           -0.38035958124714725,
           -0.6486026399635776,
           -0.9368411470186534,
           -1.2459217114246606,
           -1.5766909421938926,
           -1.9299954483386368,
           -2.3066818388711807,
           -2.707596722803818,
           -3.133586709148833,
           -3.5854984069185214,
           -4.06417842512517,
           -4.5704733727810645
          ],
          [
           2.0287508218277437,
           1.976657057603801,
           1.9282728973853198,
           1.882751732160012,
           1.8392469529155873,
           1.796911950639756,
           1.7549001163202296,
           1.7123648409447179,
           1.6684595155009307,
           1.62233753097658,
           1.5731522783593748,
           1.5200571486370267,
           1.4622055327972459,
           1.3987508218277427,
           1.3288464067162276,
           1.2516456784504115,
           1.1663020280180043,
           1.0719688464067172,
           0.9677995246042602,
           0.8529474535983438,
           0.7265660243766789,
           0.5878086279269759,
           0.43582865523694436,
           0.26977949729429607,
           0.08881454508674114,
           -0.10791281039801007,
           -0.321249178172247,
           -0.55204116724826,
           -0.8011353866383375,
           -1.0693784453547677,
           -1.3576169524098436,
           -1.6666975168158509,
           -1.997466747585083,
           -2.350771253729827,
           -2.727457644262371,
           -3.128372528195008,
           -3.5543625145400233,
           -4.0062742123097115,
           -4.48495423051636,
           -4.991249178172254
          ],
          [
           1.6500525969756723,
           1.5979588327517298,
           1.549574672533249,
           1.5040535073079406,
           1.4605487280635159,
           1.4182137257876848,
           1.3762018914681586,
           1.3336666160926467,
           1.2897612906488596,
           1.2436393061245088,
           1.1944540535073034,
           1.1413589237849555,
           1.0835073079451747,
           1.0200525969756715,
           0.9501481818641564,
           0.8729474535983401,
           0.7876038031659334,
           0.6932706215546462,
           0.5891012997521893,
           0.47424922874627257,
           0.34786779952460767,
           0.20911040307490464,
           0.05713043038487316,
           -0.10891872755777507,
           -0.28988367976532997,
           -0.4866110352500812,
           -0.6999474030243181,
           -0.9307393921003311,
           -1.1798336114904084,
           -1.4480766702068388,
           -1.7363151772619148,
           -2.045395741667922,
           -2.376164972437154,
           -2.729469478581898,
           -3.106155869114442,
           -3.507070753047079,
           -3.9330607393920944,
           -4.384972437161783,
           -4.863652455368431,
           -5.369947403024325
          ],
          [
           1.3134319526627196,
           1.2613381884387767,
           1.2129540282202964,
           1.1674328629949882,
           1.1239280837505634,
           1.0815930814747325,
           1.039581247155206,
           0.9970459717796938,
           0.953140646335907,
           0.907018661811556,
           0.8578334091943511,
           0.8047382794720029,
           0.7468866636322221,
           0.683431952662719,
           0.6135275375512038,
           0.5363268092853877,
           0.45098315885298074,
           0.3566499772416936,
           0.2524806554392367,
           0.13762858443332013,
           0.011247155211655181,
           -0.12751024123804794,
           -0.27949021392807943,
           -0.44553937187072756,
           -0.6265043240782826,
           -0.8232316795630339,
           -1.0365680473372707,
           -1.2673600364132835,
           -1.5164542558033614,
           -1.7846973145197915,
           -2.072935821574867,
           -2.382016385980875,
           -2.7127856167501063,
           -3.0660901228948507,
           -3.442776513427394,
           -3.8436913973600317,
           -4.269681383705047,
           -4.721593081474735,
           -5.200273099681383,
           -5.706568047337278
          ],
          [
           1.0188888888888872,
           0.9667951246649442,
           0.9184109644464635,
           0.8728897992211555,
           0.829385019976731,
           0.7870500177009001,
           0.7450381833813733,
           0.7025029080058612,
           0.6585975825620746,
           0.6124755980377236,
           0.5632903454205185,
           0.5101952156981704,
           0.4523435998583895,
           0.3888888888888864,
           0.31898447377737127,
           0.24178374551155507,
           0.15644009507914822,
           0.06210691346786107,
           -0.04206240833459586,
           -0.1569144793405124,
           -0.28329590856217735,
           -0.4220533050118805,
           -0.5740332777019119,
           -0.7400824356445601,
           -0.9210473878521153,
           -1.1177747433368663,
           -1.3311111111111031,
           -1.561903100187116,
           -1.8109973195771933,
           -2.0792403782936244,
           -2.3674788853487,
           -2.6765594497547074,
           -3.0073286805239388,
           -3.360633186668683,
           -3.7373195772012267,
           -4.138234461133864,
           -4.56422444747888,
           -5.016136145248568,
           -5.494816163455216,
           -6.00111111111111
          ],
          [
           0.7664234056541728,
           0.7143296414302299,
           0.6659454812117491,
           0.6204243159864412,
           0.5769195367420167,
           0.5345845344661858,
           0.49257270014665894,
           0.45003742477114683,
           0.40613209932736005,
           0.36001011480300904,
           0.3108248621858042,
           0.257729732463456,
           0.19987811662367516,
           0.13642340565417205,
           0.06651899054265695,
           -0.010681737723159213,
           -0.09602538815556613,
           -0.19035856976685328,
           -0.2945278915693102,
           -0.4093799625752267,
           -0.5357613917968916,
           -0.6745187882465948,
           -0.8264987609366262,
           -0.9925479188792744,
           -1.1735128710868292,
           -1.3702402265715803,
           -1.5835765943458175,
           -1.8143685834218304,
           -2.063462802811908,
           -2.3317058615283384,
           -2.6199443685834143,
           -2.9290249329894213,
           -3.259794163758653,
           -3.6130986699033976,
           -3.989785060435941,
           -4.390699944368578,
           -4.8166899307135935,
           -5.268601628483282,
           -5.74728164668993,
           -6.253576594345825
          ],
          [
           0.5560355029585781,
           0.5039417387346352,
           0.45555757851615464,
           0.4100364132908466,
           0.36653163404642203,
           0.3241966317705911,
           0.28218479745106423,
           0.23964952207555218,
           0.19574419663176543,
           0.1496222121074144,
           0.10043695949020949,
           0.047341829767861346,
           -0.010509786071919509,
           -0.07396449704142263,
           -0.1438689121529377,
           -0.2210696404187539,
           -0.3064132908511608,
           -0.400746472462448,
           -0.504915794264905,
           -0.6197678652708215,
           -0.7461492944924866,
           -0.8849066909421894,
           -1.036886663632221,
           -1.2029358215748691,
           -1.383900773782424,
           -1.580628129267175,
           -1.7939644970414121,
           -2.0247564861174254,
           -2.2738507055075026,
           -2.542093764223933,
           -2.830332271279009,
           -3.139412835685016,
           -3.4701820664542478,
           -3.823486572598992,
           -4.200172963131536,
           -4.601087847064173,
           -5.027077833409188,
           -5.478989531178876,
           -5.957669549385525,
           -6.4639644970414185
          ],
          [
           0.38772518080210205,
           0.3356314165781592,
           0.2872472563596785,
           0.24172609113437055,
           0.1982213118899459,
           0.15588630961411493,
           0.11387447529458816,
           0.07133919991907609,
           0.027433874475289322,
           -0.018688110049061728,
           -0.0678733626662666,
           -0.12096849238861476,
           -0.17882010822839564,
           -0.24227481919789876,
           -0.3121792343094139,
           -0.38937996257522994,
           -0.47472361300763694,
           -0.569056794618924,
           -0.673226116421381,
           -0.7880781874272976,
           -0.9144596166489625,
           -1.0532170130986656,
           -1.2051969857886968,
           -1.371246143731345,
           -1.5522110959389002,
           -1.7489384514236515,
           -1.9622748191978883,
           -2.193066808273901,
           -2.4421610276639787,
           -2.710404086380409,
           -2.9986425934354846,
           -3.307723157841492,
           -3.6384923886107234,
           -3.991796894755468,
           -4.368483285288011,
           -4.769398169220649,
           -5.195388155565665,
           -5.647299853335353,
           -6.125979871542,
           -6.632274819197896
          ],
          [
           0.26149243918474496,
           0.20939867496080214,
           0.16101451474232148,
           0.11549334951701347,
           0.07198857027258883,
           0.029653567996757876,
           -0.012358266322768853,
           -0.05489354169828094,
           -0.09879886714206773,
           -0.14492085166641877,
           -0.19410610428362365,
           -0.24720123400597185,
           -0.30505284984575265,
           -0.3685075608152558,
           -0.438411975926771,
           -0.5156127041925872,
           -0.600956354624994,
           -0.6952895362362811,
           -0.799458858038738,
           -0.9143109290446546,
           -1.0406923582663195,
           -1.1794497547160225,
           -1.331429727406054,
           -1.4974788853487022,
           -1.6784438375562571,
           -1.8751711930410082,
           -2.0885075608152452,
           -2.3192995498912583,
           -2.568393769281336,
           -2.8366368279977663,
           -3.1248753350528418,
           -3.4339558994588493,
           -3.764725130228081,
           -4.1180296363728255,
           -4.494716026905369,
           -4.8956309108380065,
           -5.3216208971830214,
           -5.7735325949527105,
           -6.252212613159358,
           -6.758507560815252
          ],
          [
           0.1773372781065072,
           0.12524351388256438,
           0.07685935366408371,
           0.03133818843877571,
           -0.012166590805648955,
           -0.05450159308147984,
           -0.09651342740100662,
           -0.1390487027765187,
           -0.18295402822030551,
           -0.22907601274465655,
           -0.2782612653618614,
           -0.3313563950842096,
           -0.38920801092399043,
           -0.4526627218934936,
           -0.5225671370050087,
           -0.5997678652708249,
           -0.6851115157032317,
           -0.7794446973145189,
           -0.883614019116976,
           -0.9984660901228926,
           -1.1248475193445575,
           -1.2636049157942604,
           -1.4155848884842919,
           -1.5816340464269403,
           -1.7625989986344952,
           -1.9593263541192465,
           -2.1726627218934835,
           -2.4034547109694966,
           -2.6525489303595737,
           -2.9207919890760037,
           -3.2090304961310796,
           -3.5181110605370867,
           -3.848880291306319,
           -4.202184797451063,
           -4.578871187983607,
           -4.979786071916244,
           -5.405776058261259,
           -5.857687756030948,
           -6.336367774237596,
           -6.84266272189349
          ],
          [
           0.13525969756738832,
           0.08316593334344546,
           0.03478177312496483,
           -0.010739392100343192,
           -0.05424417134476786,
           -0.09657917362059881,
           -0.13859100794012558,
           -0.18112628331563768,
           -0.22503160875942443,
           -0.27115359328377553,
           -0.32033884590098033,
           -0.3734339756233286,
           -0.4312855914631094,
           -0.4947403024326126,
           -0.5646447175441277,
           -0.641845445809944,
           -0.7271890962423507,
           -0.8215222778536379,
           -0.9256915996560949,
           -1.0405436706620115,
           -1.1669250998836764,
           -1.3056824963333797,
           -1.4576624690234108,
           -1.6237116269660592,
           -1.8046765791736141,
           -2.0014039346583656,
           -2.2147403024326024,
           -2.4455322915086155,
           -2.6946265108986927,
           -2.962869569615123,
           -3.251108076670199,
           -3.5601886410762065,
           -3.890957871845438,
           -4.244262377990182,
           -4.620948768522726,
           -5.021863652455363,
           -5.447853638800378,
           -5.899765336570066,
           -6.378445354776714,
           -6.8847403024326095
          ],
          [
           0.13525969756738843,
           0.08316593334344557,
           0.03478177312496489,
           -0.010739392100343137,
           -0.054244171344767805,
           -0.09657917362059876,
           -0.13859100794012552,
           -0.18112628331563763,
           -0.22503160875942443,
           -0.27115359328377553,
           -0.32033884590098033,
           -0.3734339756233286,
           -0.4312855914631094,
           -0.4947403024326126,
           -0.5646447175441277,
           -0.641845445809944,
           -0.7271890962423507,
           -0.8215222778536379,
           -0.9256915996560949,
           -1.0405436706620115,
           -1.1669250998836764,
           -1.3056824963333797,
           -1.4576624690234108,
           -1.6237116269660592,
           -1.8046765791736141,
           -2.0014039346583656,
           -2.2147403024326024,
           -2.4455322915086155,
           -2.6946265108986927,
           -2.962869569615123,
           -3.251108076670199,
           -3.5601886410762065,
           -3.890957871845438,
           -4.244262377990182,
           -4.620948768522726,
           -5.021863652455363,
           -5.447853638800378,
           -5.899765336570066,
           -6.378445354776714,
           -6.8847403024326095
          ],
          [
           0.1773372781065076,
           0.12524351388256472,
           0.07685935366408407,
           0.03133818843877602,
           -0.01216659080564865,
           -0.054501593081479616,
           -0.0965134274010064,
           -0.13904870277651848,
           -0.1829540282203053,
           -0.2290760127446564,
           -0.2782612653618613,
           -0.3313563950842095,
           -0.3892080109239903,
           -0.4526627218934935,
           -0.5225671370050086,
           -0.5997678652708248,
           -0.6851115157032316,
           -0.7794446973145188,
           -0.8836140191169758,
           -0.9984660901228924,
           -1.1248475193445573,
           -1.2636049157942604,
           -1.4155848884842919,
           -1.58163404642694,
           -1.762598998634495,
           -1.959326354119246,
           -2.172662721893483,
           -2.403454710969496,
           -2.6525489303595737,
           -2.920791989076004,
           -3.20903049613108,
           -3.5181110605370876,
           -3.848880291306319,
           -4.202184797451063,
           -4.578871187983607,
           -4.979786071916244,
           -5.40577605826126,
           -5.8576877560309475,
           -6.336367774237596,
           -6.84266272189349
          ],
          [
           0.26149243918474585,
           0.20939867496080297,
           0.1610145147423223,
           0.11549334951701416,
           0.07198857027258952,
           0.02965356799675857,
           -0.012358266322768229,
           -0.05489354169828034,
           -0.09879886714206715,
           -0.14492085166641822,
           -0.19410610428362315,
           -0.24720123400597135,
           -0.3050528498457522,
           -0.3685075608152554,
           -0.43841197592677056,
           -0.5156127041925868,
           -0.6009563546249935,
           -0.6952895362362806,
           -0.7994588580387377,
           -0.9143109290446544,
           -1.0406923582663192,
           -1.1794497547160225,
           -1.3314297274060538,
           -1.4974788853487022,
           -1.6784438375562571,
           -1.8751711930410082,
           -2.0885075608152452,
           -2.3192995498912583,
           -2.568393769281336,
           -2.8366368279977663,
           -3.1248753350528418,
           -3.4339558994588493,
           -3.764725130228081,
           -4.1180296363728255,
           -4.494716026905369,
           -4.8956309108380065,
           -5.3216208971830214,
           -5.7735325949527105,
           -6.252212613159358,
           -6.758507560815252
          ],
          [
           0.38772518080210316,
           0.3356314165781603,
           0.28724725635967957,
           0.2417260911343715,
           0.1982213118899468,
           0.15588630961411587,
           0.11387447529458908,
           0.07133919991907695,
           0.027433874475290113,
           -0.018688110049060964,
           -0.06787336266626588,
           -0.12096849238861407,
           -0.17882010822839497,
           -0.24227481919789814,
           -0.3121792343094133,
           -0.3893799625752295,
           -0.47472361300763644,
           -0.5690567946189236,
           -0.6732261164213805,
           -0.7880781874272972,
           -0.914459616648962,
           -1.0532170130986653,
           -1.2051969857886966,
           -1.371246143731345,
           -1.5522110959389,
           -1.748938451423651,
           -1.962274819197888,
           -2.193066808273901,
           -2.4421610276639782,
           -2.7104040863804086,
           -2.9986425934354846,
           -3.307723157841492,
           -3.638492388610724,
           -3.991796894755468,
           -4.368483285288012,
           -4.769398169220649,
           -5.195388155565665,
           -5.647299853335353,
           -6.125979871542,
           -6.632274819197896
          ],
          [
           0.5560355029585796,
           0.5039417387346368,
           0.45555757851615597,
           0.41003641329084795,
           0.36653163404642325,
           0.3241966317705922,
           0.2821847974510655,
           0.2396495220755534,
           0.19574419663176654,
           0.1496222121074154,
           0.10043695949021049,
           0.047341829767862276,
           -0.01050978607191863,
           -0.0739644970414218,
           -0.14386891215293693,
           -0.22106964041875318,
           -0.3064132908511601,
           -0.4007464724624473,
           -0.5049157942649043,
           -0.619767865270821,
           -0.7461492944924859,
           -0.8849066909421891,
           -1.0368866636322205,
           -1.2029358215748687,
           -1.3839007737824238,
           -1.5806281292671749,
           -1.793964497041412,
           -2.024756486117425,
           -2.2738507055075026,
           -2.542093764223933,
           -2.830332271279009,
           -3.139412835685016,
           -3.4701820664542478,
           -3.823486572598992,
           -4.200172963131536,
           -4.601087847064173,
           -5.027077833409188,
           -5.478989531178877,
           -5.957669549385525,
           -6.463964497041419
          ],
          [
           0.7664234056541742,
           0.7143296414302311,
           0.6659454812117503,
           0.6204243159864424,
           0.5769195367420177,
           0.5345845344661867,
           0.4925727001466598,
           0.4500374247711477,
           0.40613209932736083,
           0.3600101148030097,
           0.31082486218580485,
           0.25772973246345654,
           0.19987811662367566,
           0.1364234056541725,
           0.06651899054265734,
           -0.01068173772315888,
           -0.09602538815556586,
           -0.19035856976685306,
           -0.29452789156931,
           -0.4093799625752266,
           -0.5357613917968916,
           -0.6745187882465948,
           -0.8264987609366263,
           -0.9925479188792746,
           -1.1735128710868294,
           -1.3702402265715807,
           -1.5835765943458175,
           -1.8143685834218308,
           -2.0634628028119084,
           -2.331705861528339,
           -2.6199443685834143,
           -2.929024932989422,
           -3.2597941637586536,
           -3.6130986699033985,
           -3.989785060435942,
           -4.3906999443685795,
           -4.816689930713594,
           -5.268601628483282,
           -5.74728164668993,
           -6.253576594345825
          ],
          [
           1.0188888888888885,
           0.9667951246649455,
           0.9184109644464649,
           0.8728897992211568,
           0.8293850199767319,
           0.7870500177009009,
           0.7450381833813742,
           0.7025029080058619,
           0.6585975825620752,
           0.612475598037724,
           0.563290345420519,
           0.510195215698171,
           0.45234359985838996,
           0.38888888888888673,
           0.3189844737773715,
           0.2417837455115553,
           0.15644009507914833,
           0.06210691346786115,
           -0.04206240833459584,
           -0.15691447934051242,
           -0.28329590856217746,
           -0.4220533050118806,
           -0.574033277701912,
           -0.7400824356445604,
           -0.9210473878521155,
           -1.1177747433368665,
           -1.3311111111111036,
           -1.5619031001871166,
           -1.8109973195771942,
           -2.0792403782936244,
           -2.3674788853487003,
           -2.6765594497547074,
           -3.0073286805239396,
           -3.360633186668684,
           -3.7373195772012275,
           -4.138234461133864,
           -4.56422444747888,
           -5.016136145248568,
           -5.494816163455217,
           -6.001111111111111
          ],
          [
           1.3134319526627216,
           1.2613381884387789,
           1.2129540282202982,
           1.1674328629949902,
           1.1239280837505654,
           1.0815930814747343,
           1.0395812471552075,
           0.9970459717796953,
           0.9531406463359086,
           0.9070186618115573,
           0.8578334091943525,
           0.8047382794720043,
           0.7468866636322232,
           0.68343195266272,
           0.6135275375512049,
           0.5363268092853886,
           0.4509831588529816,
           0.3566499772416944,
           0.2524806554392375,
           0.13762858443332085,
           0.011247155211655792,
           -0.12751024123804738,
           -0.2794902139280789,
           -0.4455393718707271,
           -0.6265043240782822,
           -0.8232316795630334,
           -1.0365680473372703,
           -1.2673600364132833,
           -1.516454255803361,
           -1.7846973145197913,
           -2.072935821574867,
           -2.382016385980874,
           -2.7127856167501063,
           -3.0660901228948507,
           -3.442776513427394,
           -3.8436913973600317,
           -4.269681383705047,
           -4.721593081474735,
           -5.200273099681383,
           -5.706568047337278
          ],
          [
           1.6500525969756745,
           1.5979588327517316,
           1.5495746725332509,
           1.5040535073079424,
           1.4605487280635177,
           1.4182137257876866,
           1.37620189146816,
           1.333666616092648,
           1.289761290648861,
           1.2436393061245101,
           1.1944540535073047,
           1.1413589237849564,
           1.0835073079451756,
           1.0200525969756724,
           0.9501481818641573,
           0.8729474535983408,
           0.787603803165934,
           0.6932706215546467,
           0.5891012997521897,
           0.474249228746273,
           0.347867799524608,
           0.20911040307490497,
           0.05713043038487338,
           -0.10891872755777496,
           -0.28988367976532997,
           -0.4866110352500812,
           -0.6999474030243181,
           -0.9307393921003311,
           -1.1798336114904089,
           -1.4480766702068393,
           -1.736315177261915,
           -2.0453957416679223,
           -2.376164972437154,
           -2.7294694785818985,
           -3.106155869114442,
           -3.5070707530470795,
           -3.9330607393920944,
           -4.3849724371617835,
           -4.863652455368431,
           -5.369947403024326
          ],
          [
           2.0287508218277464,
           1.9766570576038032,
           1.9282728973853225,
           1.8827517321600142,
           1.8392469529155895,
           1.7969119506397582,
           1.7549001163202318,
           1.7123648409447196,
           1.6684595155009325,
           1.6223375309765817,
           1.5731522783593765,
           1.520057148637028,
           1.4622055327972472,
           1.398750821827744,
           1.328846406716229,
           1.2516456784504129,
           1.1663020280180052,
           1.071968846406718,
           0.9677995246042611,
           0.8529474535983445,
           0.7265660243766796,
           0.5878086279269763,
           0.4358286552369448,
           0.2697794972942966,
           0.08881454508674147,
           -0.10791281039800968,
           -0.3212491781722468,
           -0.5520411672482597,
           -0.8011353866383373,
           -1.0693784453547677,
           -1.3576169524098436,
           -1.6666975168158509,
           -1.997466747585083,
           -2.3507712537298273,
           -2.727457644262371,
           -3.1283725281950083,
           -3.5543625145400233,
           -4.006274212309712,
           -4.48495423051636,
           -4.9912491781722546
          ],
          [
           2.449526627218935,
           2.3974328629949917,
           2.3490487027765106,
           2.303527537551203,
           2.2600227583067785,
           2.2176877560309474,
           2.1756759217114205,
           2.1331406463359084,
           2.0892353208921217,
           2.043113336367769,
           1.9939280837505646,
           1.9408329540282165,
           1.8829813381884357,
           1.8195266272189325,
           1.7496222121074174,
           1.6724214838416014,
           1.5870778334091937,
           1.4927446517979066,
           1.3885753299954497,
           1.273723258989533,
           1.147341829767868,
           1.0085844333181644,
           0.8566044606281334,
           0.6905553026854852,
           0.50959035047793,
           0.31286299499317866,
           0.09952662721894162,
           -0.13126536185707138,
           -0.3803595812471489,
           -0.6486026399635794,
           -0.9368411470186552,
           -1.2459217114246628,
           -1.5766909421938946,
           -1.9299954483386386,
           -2.3066818388711825,
           -2.70759672280382,
           -3.133586709148835,
           -3.5854984069185236,
           -4.064178425125172,
           -4.570473372781066
          ],
          [
           2.912380013149244,
           2.8602862489253016,
           2.8119020887068196,
           2.766380923481512,
           2.7228761442370875,
           2.6805411419612564,
           2.6385293076417295,
           2.5959940322662174,
           2.5520887068224307,
           2.505966722298079,
           2.4567814696808736,
           2.4036863399585258,
           2.3458347241187445,
           2.2823800131492415,
           2.2124755980377264,
           2.1352748697719104,
           2.0499312193395034,
           1.9555980377282154,
           1.8514287159257588,
           1.7365766449198416,
           1.6101952156981767,
           1.4714378192484734,
           1.3194578465584423,
           1.1534086886157937,
           0.9724437364082388,
           0.7757163809234879,
           0.5623800131492507,
           0.3315880240732371,
           0.08249380468315981,
           -0.18574925403327047,
           -0.4739877610883465,
           -0.783068325494354,
           -1.1138375562635858,
           -1.46714206240833,
           -1.843828452940874,
           -2.244743336873511,
           -2.670733323218527,
           -3.122645020988215,
           -3.6013250391948635,
           -4.107619986850757
          ],
          [
           3.417310979618673,
           3.36521721539473,
           3.316833055176249,
           3.271311889950941,
           3.227807110706516,
           3.1854721084306847,
           3.143460274111158,
           3.1009249987356458,
           3.057019673291859,
           3.0108976887675074,
           2.961712436150302,
           2.908617306427954,
           2.850765690588173,
           2.78731097961867,
           2.717406564507155,
           2.6402058362413388,
           2.5548621858089318,
           2.4605290041976438,
           2.356359682395187,
           2.2415076113892702,
           2.1151261821676055,
           1.9763687857179022,
           1.8243888130278707,
           1.658339655085222,
           1.4773747028776667,
           1.2806473473929159,
           1.0673109796186788,
           0.8365189905426655,
           0.587424771152588,
           0.31918171243615745,
           0.03094320538108164,
           -0.27813735902492553,
           -0.6089065897941579,
           -0.962211095938902,
           -1.3388974864714456,
           -1.739812370404083,
           -2.165802356749099,
           -2.6177140545187867,
           -3.096394072725435,
           -3.6026890203813298
          ],
          [
           3.9643195266272198,
           3.9122257624032777,
           3.863841602184796,
           3.8183204369594885,
           3.7748156577150636,
           3.732480655439232,
           3.690468821119705,
           3.647933545744193,
           3.6040282203004064,
           3.5579062357760547,
           3.5087209831588497,
           3.4556258534365014,
           3.39777423759672,
           3.334319526627217,
           3.264415111515702,
           3.187214383249886,
           3.1018707328174786,
           3.007537551206191,
           2.903368229403734,
           2.7885161583978175,
           2.662134729176153,
           2.5233773327264495,
           2.3713973600364175,
           2.2053482020937687,
           2.0243832498862138,
           1.827655894401463,
           1.614319526627226,
           1.3835275375512128,
           1.134433318161135,
           0.8661902594447042,
           0.5779517523896285,
           0.268871187983621,
           -0.06189804278561062,
           -0.4152025489303549,
           -0.7918889394628987,
           -1.1928038233955363,
           -1.6187938097405516,
           -2.07070550751024,
           -2.5493855257168883,
           -3.0556804733727825
          ],
          [
           4.553405654174887,
           4.501311889950944,
           4.452927729732464,
           4.407406564507156,
           4.3639017852627315,
           4.3215667829869,
           4.279554948667373,
           4.237019673291861,
           4.193114347848074,
           4.146992363323722,
           4.097807110706517,
           4.044711980984169,
           3.9868603651443877,
           3.9234056541748847,
           3.8535012390633696,
           3.7763005107975536,
           3.6909568603651457,
           3.5966236787538586,
           3.4924543569514017,
           3.377602285945485,
           3.2512208567238203,
           3.1124634602741166,
           2.9604834875840846,
           2.7944343296414362,
           2.6134693774338813,
           2.4167420219491302,
           2.203405654174893,
           1.97261366509888,
           1.7235194457088021,
           1.455276386992372,
           1.167037879937296,
           0.8579573155312883,
           0.5271880847620566,
           0.17388357861731274,
           -0.20280281191523164,
           -0.6037176958478687,
           -1.0297076821928846,
           -1.4816193799625725,
           -1.960299398169221,
           -2.466594345825115
          ],
          [
           5.18456936226167,
           5.132475598037726,
           5.084091437819246,
           5.038570272593938,
           4.9950654933495136,
           4.952730491073682,
           4.910718656754155,
           4.868183381378643,
           4.824278055934856,
           4.778156071410504,
           4.728970818793299,
           4.675875689070951,
           4.618024073231169,
           4.554569362261667,
           4.484664947150152,
           4.407464218884336,
           4.322120568451928,
           4.2277873868406415,
           4.123618065038183,
           4.008765994032267,
           3.8823845648106015,
           3.7436271683608986,
           3.5916471956708667,
           3.4255980377282182,
           3.244633085520663,
           3.047905730035912,
           2.834569362261675,
           2.603777373185661,
           2.354683153795584,
           2.0864400950791535,
           1.798201588024078,
           1.4891210236180705,
           1.1583517928488387,
           0.8050472867040939,
           0.42836089617154993,
           0.027446012238912854,
           -0.39854397410610254,
           -0.850455671875791,
           -1.3291356900824394,
           -1.8354306377383338
          ],
          [
           5.857810650887574,
           5.805716886663631,
           5.757332726445149,
           5.711811561219841,
           5.668306781975417,
           5.625971779699586,
           5.583959945380059,
           5.541424670004546,
           5.49751934456076,
           5.451397360036409,
           5.402212107419203,
           5.349116977696855,
           5.291265361857073,
           5.22781065088757,
           5.157906235776055,
           5.080705507510239,
           4.995361857077832,
           4.901028675466544,
           4.796859353664087,
           4.68200728265817,
           4.555625853436505,
           4.416868456986802,
           4.264888484296771,
           4.098839326354121,
           3.917874374146567,
           3.7211470186618145,
           3.5078106508875777,
           3.277018661811565,
           3.0279244424214875,
           2.7596813837050567,
           2.4714428766499816,
           2.1623623122439732,
           1.8315930814747414,
           1.4782885753299977,
           1.1016021847974533,
           0.700687300864816,
           0.2746973145198006,
           -0.1772143832498878,
           -0.6558944014565367,
           -1.1621893491124307
          ],
          [
           6.573129520052598,
           6.521035755828655,
           6.4726515956101744,
           6.4271304303848655,
           6.3836256511404414,
           6.34129064886461,
           6.299278814545083,
           6.2567435391695705,
           6.212838213725785,
           6.166716229201433,
           6.117530976584227,
           6.064435846861879,
           6.006584231022098,
           5.943129520052595,
           5.8732251049410795,
           5.7960243766752635,
           5.710680726242856,
           5.6163475446315685,
           5.51217822282911,
           5.3973261518231945,
           5.270944722601529,
           5.1321873261518265,
           4.980207353461795,
           4.814158195519146,
           4.633193243311591,
           4.436465887826839,
           4.223129520052602,
           3.992337530976589,
           3.743243311586511,
           3.47500025287008,
           3.186761745815005,
           2.8776811814089966,
           2.546911950639765,
           2.1936074444950213,
           1.8169210539624776,
           1.4160061700298403,
           0.9900161836848242,
           0.5381044859151363,
           0.05942446770848697,
           -0.44687047994740725
          ],
          [
           7.330525969756741,
           7.278432205532798,
           7.230048045314318,
           7.18452688008901,
           7.141022100844585,
           7.098687098568753,
           7.056675264249226,
           7.014139988873714,
           6.970234663429928,
           6.924112678905576,
           6.87492742628837,
           6.821832296566022,
           6.76398068072624,
           6.700525969756738,
           6.630621554645223,
           6.553420826379407,
           6.468077175946999,
           6.373743994335712,
           6.2695746725332535,
           6.154722601527338,
           6.028341172305672,
           5.88958377585597,
           5.737603803165938,
           5.571554645223288,
           5.390589693015734,
           5.193862337530982,
           4.980525969756745,
           4.749733980680732,
           4.500639761290655,
           4.232396702574222,
           3.944158195519147,
           3.6350776311131394,
           3.30430840034391,
           2.9510038941991645,
           2.57431750366662,
           2.1734026197339826,
           1.747412633388968,
           1.2955009356192786,
           0.8168209174126302,
           0.31052596975673596
          ],
          [
           8.130000000000003,
           8.077906235776059,
           8.02952207555758,
           7.984000910332272,
           7.940496131087846,
           7.8981611288120135,
           7.856149294492487,
           7.813614019116974,
           7.769708693673189,
           7.723586709148837,
           7.674401456531632,
           7.621306326809282,
           7.5634547109695,
           7.499999999999998,
           7.430095584888483,
           7.352894856622667,
           7.267551206190259,
           7.173218024578972,
           7.069048702776514,
           6.954196631770598,
           6.8278152025489325,
           6.68905780609923,
           6.537077833409198,
           6.371028675466548,
           6.190063723258994,
           5.993336367774242,
           5.780000000000006,
           5.549208010923991,
           5.3001137915339145,
           5.031870732817483,
           4.743632225762408,
           4.434551661356401,
           4.10378243058717,
           3.750477924442424,
           3.3737915339098796,
           2.9728766499772434,
           2.546886663632227,
           2.0949749658625394,
           1.6162949476558897,
           1.1099999999999954
          ]
         ]
        }
       ],
       "layout": {
        "legend": {
         "tracegroupgap": 0
        },
        "margin": {
         "t": 60
        },
        "scene": {
         "domain": {
          "x": [
           0,
           1
          ],
          "y": [
           0,
           1
          ]
         },
         "xaxis": {
          "title": {
           "text": "x"
          }
         },
         "yaxis": {
          "title": {
           "text": "y"
          }
         },
         "zaxis": {
          "title": {
           "text": "z"
          }
         }
        },
        "template": {
         "data": {
          "bar": [
           {
            "error_x": {
             "color": "#2a3f5f"
            },
            "error_y": {
             "color": "#2a3f5f"
            },
            "marker": {
             "line": {
              "color": "#E5ECF6",
              "width": 0.5
             },
             "pattern": {
              "fillmode": "overlay",
              "size": 10,
              "solidity": 0.2
             }
            },
            "type": "bar"
           }
          ],
          "barpolar": [
           {
            "marker": {
             "line": {
              "color": "#E5ECF6",
              "width": 0.5
             },
             "pattern": {
              "fillmode": "overlay",
              "size": 10,
              "solidity": 0.2
             }
            },
            "type": "barpolar"
           }
          ],
          "carpet": [
           {
            "aaxis": {
             "endlinecolor": "#2a3f5f",
             "gridcolor": "white",
             "linecolor": "white",
             "minorgridcolor": "white",
             "startlinecolor": "#2a3f5f"
            },
            "baxis": {
             "endlinecolor": "#2a3f5f",
             "gridcolor": "white",
             "linecolor": "white",
             "minorgridcolor": "white",
             "startlinecolor": "#2a3f5f"
            },
            "type": "carpet"
           }
          ],
          "choropleth": [
           {
            "colorbar": {
             "outlinewidth": 0,
             "ticks": ""
            },
            "type": "choropleth"
           }
          ],
          "contour": [
           {
            "colorbar": {
             "outlinewidth": 0,
             "ticks": ""
            },
            "colorscale": [
             [
              0,
              "#0d0887"
             ],
             [
              0.1111111111111111,
              "#46039f"
             ],
             [
              0.2222222222222222,
              "#7201a8"
             ],
             [
              0.3333333333333333,
              "#9c179e"
             ],
             [
              0.4444444444444444,
              "#bd3786"
             ],
             [
              0.5555555555555556,
              "#d8576b"
             ],
             [
              0.6666666666666666,
              "#ed7953"
             ],
             [
              0.7777777777777778,
              "#fb9f3a"
             ],
             [
              0.8888888888888888,
              "#fdca26"
             ],
             [
              1,
              "#f0f921"
             ]
            ],
            "type": "contour"
           }
          ],
          "contourcarpet": [
           {
            "colorbar": {
             "outlinewidth": 0,
             "ticks": ""
            },
            "type": "contourcarpet"
           }
          ],
          "heatmap": [
           {
            "colorbar": {
             "outlinewidth": 0,
             "ticks": ""
            },
            "colorscale": [
             [
              0,
              "#0d0887"
             ],
             [
              0.1111111111111111,
              "#46039f"
             ],
             [
              0.2222222222222222,
              "#7201a8"
             ],
             [
              0.3333333333333333,
              "#9c179e"
             ],
             [
              0.4444444444444444,
              "#bd3786"
             ],
             [
              0.5555555555555556,
              "#d8576b"
             ],
             [
              0.6666666666666666,
              "#ed7953"
             ],
             [
              0.7777777777777778,
              "#fb9f3a"
             ],
             [
              0.8888888888888888,
              "#fdca26"
             ],
             [
              1,
              "#f0f921"
             ]
            ],
            "type": "heatmap"
           }
          ],
          "heatmapgl": [
           {
            "colorbar": {
             "outlinewidth": 0,
             "ticks": ""
            },
            "colorscale": [
             [
              0,
              "#0d0887"
             ],
             [
              0.1111111111111111,
              "#46039f"
             ],
             [
              0.2222222222222222,
              "#7201a8"
             ],
             [
              0.3333333333333333,
              "#9c179e"
             ],
             [
              0.4444444444444444,
              "#bd3786"
             ],
             [
              0.5555555555555556,
              "#d8576b"
             ],
             [
              0.6666666666666666,
              "#ed7953"
             ],
             [
              0.7777777777777778,
              "#fb9f3a"
             ],
             [
              0.8888888888888888,
              "#fdca26"
             ],
             [
              1,
              "#f0f921"
             ]
            ],
            "type": "heatmapgl"
           }
          ],
          "histogram": [
           {
            "marker": {
             "pattern": {
              "fillmode": "overlay",
              "size": 10,
              "solidity": 0.2
             }
            },
            "type": "histogram"
           }
          ],
          "histogram2d": [
           {
            "colorbar": {
             "outlinewidth": 0,
             "ticks": ""
            },
            "colorscale": [
             [
              0,
              "#0d0887"
             ],
             [
              0.1111111111111111,
              "#46039f"
             ],
             [
              0.2222222222222222,
              "#7201a8"
             ],
             [
              0.3333333333333333,
              "#9c179e"
             ],
             [
              0.4444444444444444,
              "#bd3786"
             ],
             [
              0.5555555555555556,
              "#d8576b"
             ],
             [
              0.6666666666666666,
              "#ed7953"
             ],
             [
              0.7777777777777778,
              "#fb9f3a"
             ],
             [
              0.8888888888888888,
              "#fdca26"
             ],
             [
              1,
              "#f0f921"
             ]
            ],
            "type": "histogram2d"
           }
          ],
          "histogram2dcontour": [
           {
            "colorbar": {
             "outlinewidth": 0,
             "ticks": ""
            },
            "colorscale": [
             [
              0,
              "#0d0887"
             ],
             [
              0.1111111111111111,
              "#46039f"
             ],
             [
              0.2222222222222222,
              "#7201a8"
             ],
             [
              0.3333333333333333,
              "#9c179e"
             ],
             [
              0.4444444444444444,
              "#bd3786"
             ],
             [
              0.5555555555555556,
              "#d8576b"
             ],
             [
              0.6666666666666666,
              "#ed7953"
             ],
             [
              0.7777777777777778,
              "#fb9f3a"
             ],
             [
              0.8888888888888888,
              "#fdca26"
             ],
             [
              1,
              "#f0f921"
             ]
            ],
            "type": "histogram2dcontour"
           }
          ],
          "mesh3d": [
           {
            "colorbar": {
             "outlinewidth": 0,
             "ticks": ""
            },
            "type": "mesh3d"
           }
          ],
          "parcoords": [
           {
            "line": {
             "colorbar": {
              "outlinewidth": 0,
              "ticks": ""
             }
            },
            "type": "parcoords"
           }
          ],
          "pie": [
           {
            "automargin": true,
            "type": "pie"
           }
          ],
          "scatter": [
           {
            "fillpattern": {
             "fillmode": "overlay",
             "size": 10,
             "solidity": 0.2
            },
            "type": "scatter"
           }
          ],
          "scatter3d": [
           {
            "line": {
             "colorbar": {
              "outlinewidth": 0,
              "ticks": ""
             }
            },
            "marker": {
             "colorbar": {
              "outlinewidth": 0,
              "ticks": ""
             }
            },
            "type": "scatter3d"
           }
          ],
          "scattercarpet": [
           {
            "marker": {
             "colorbar": {
              "outlinewidth": 0,
              "ticks": ""
             }
            },
            "type": "scattercarpet"
           }
          ],
          "scattergeo": [
           {
            "marker": {
             "colorbar": {
              "outlinewidth": 0,
              "ticks": ""
             }
            },
            "type": "scattergeo"
           }
          ],
          "scattergl": [
           {
            "marker": {
             "colorbar": {
              "outlinewidth": 0,
              "ticks": ""
             }
            },
            "type": "scattergl"
           }
          ],
          "scattermapbox": [
           {
            "marker": {
             "colorbar": {
              "outlinewidth": 0,
              "ticks": ""
             }
            },
            "type": "scattermapbox"
           }
          ],
          "scatterpolar": [
           {
            "marker": {
             "colorbar": {
              "outlinewidth": 0,
              "ticks": ""
             }
            },
            "type": "scatterpolar"
           }
          ],
          "scatterpolargl": [
           {
            "marker": {
             "colorbar": {
              "outlinewidth": 0,
              "ticks": ""
             }
            },
            "type": "scatterpolargl"
           }
          ],
          "scatterternary": [
           {
            "marker": {
             "colorbar": {
              "outlinewidth": 0,
              "ticks": ""
             }
            },
            "type": "scatterternary"
           }
          ],
          "surface": [
           {
            "colorbar": {
             "outlinewidth": 0,
             "ticks": ""
            },
            "colorscale": [
             [
              0,
              "#0d0887"
             ],
             [
              0.1111111111111111,
              "#46039f"
             ],
             [
              0.2222222222222222,
              "#7201a8"
             ],
             [
              0.3333333333333333,
              "#9c179e"
             ],
             [
              0.4444444444444444,
              "#bd3786"
             ],
             [
              0.5555555555555556,
              "#d8576b"
             ],
             [
              0.6666666666666666,
              "#ed7953"
             ],
             [
              0.7777777777777778,
              "#fb9f3a"
             ],
             [
              0.8888888888888888,
              "#fdca26"
             ],
             [
              1,
              "#f0f921"
             ]
            ],
            "type": "surface"
           }
          ],
          "table": [
           {
            "cells": {
             "fill": {
              "color": "#EBF0F8"
             },
             "line": {
              "color": "white"
             }
            },
            "header": {
             "fill": {
              "color": "#C8D4E3"
             },
             "line": {
              "color": "white"
             }
            },
            "type": "table"
           }
          ]
         },
         "layout": {
          "annotationdefaults": {
           "arrowcolor": "#2a3f5f",
           "arrowhead": 0,
           "arrowwidth": 1
          },
          "autotypenumbers": "strict",
          "coloraxis": {
           "colorbar": {
            "outlinewidth": 0,
            "ticks": ""
           }
          },
          "colorscale": {
           "diverging": [
            [
             0,
             "#8e0152"
            ],
            [
             0.1,
             "#c51b7d"
            ],
            [
             0.2,
             "#de77ae"
            ],
            [
             0.3,
             "#f1b6da"
            ],
            [
             0.4,
             "#fde0ef"
            ],
            [
             0.5,
             "#f7f7f7"
            ],
            [
             0.6,
             "#e6f5d0"
            ],
            [
             0.7,
             "#b8e186"
            ],
            [
             0.8,
             "#7fbc41"
            ],
            [
             0.9,
             "#4d9221"
            ],
            [
             1,
             "#276419"
            ]
           ],
           "sequential": [
            [
             0,
             "#0d0887"
            ],
            [
             0.1111111111111111,
             "#46039f"
            ],
            [
             0.2222222222222222,
             "#7201a8"
            ],
            [
             0.3333333333333333,
             "#9c179e"
            ],
            [
             0.4444444444444444,
             "#bd3786"
            ],
            [
             0.5555555555555556,
             "#d8576b"
            ],
            [
             0.6666666666666666,
             "#ed7953"
            ],
            [
             0.7777777777777778,
             "#fb9f3a"
            ],
            [
             0.8888888888888888,
             "#fdca26"
            ],
            [
             1,
             "#f0f921"
            ]
           ],
           "sequentialminus": [
            [
             0,
             "#0d0887"
            ],
            [
             0.1111111111111111,
             "#46039f"
            ],
            [
             0.2222222222222222,
             "#7201a8"
            ],
            [
             0.3333333333333333,
             "#9c179e"
            ],
            [
             0.4444444444444444,
             "#bd3786"
            ],
            [
             0.5555555555555556,
             "#d8576b"
            ],
            [
             0.6666666666666666,
             "#ed7953"
            ],
            [
             0.7777777777777778,
             "#fb9f3a"
            ],
            [
             0.8888888888888888,
             "#fdca26"
            ],
            [
             1,
             "#f0f921"
            ]
           ]
          },
          "colorway": [
           "#636efa",
           "#EF553B",
           "#00cc96",
           "#ab63fa",
           "#FFA15A",
           "#19d3f3",
           "#FF6692",
           "#B6E880",
           "#FF97FF",
           "#FECB52"
          ],
          "font": {
           "color": "#2a3f5f"
          },
          "geo": {
           "bgcolor": "white",
           "lakecolor": "white",
           "landcolor": "#E5ECF6",
           "showlakes": true,
           "showland": true,
           "subunitcolor": "white"
          },
          "hoverlabel": {
           "align": "left"
          },
          "hovermode": "closest",
          "mapbox": {
           "style": "light"
          },
          "paper_bgcolor": "white",
          "plot_bgcolor": "#E5ECF6",
          "polar": {
           "angularaxis": {
            "gridcolor": "white",
            "linecolor": "white",
            "ticks": ""
           },
           "bgcolor": "#E5ECF6",
           "radialaxis": {
            "gridcolor": "white",
            "linecolor": "white",
            "ticks": ""
           }
          },
          "scene": {
           "xaxis": {
            "backgroundcolor": "#E5ECF6",
            "gridcolor": "white",
            "gridwidth": 2,
            "linecolor": "white",
            "showbackground": true,
            "ticks": "",
            "zerolinecolor": "white"
           },
           "yaxis": {
            "backgroundcolor": "#E5ECF6",
            "gridcolor": "white",
            "gridwidth": 2,
            "linecolor": "white",
            "showbackground": true,
            "ticks": "",
            "zerolinecolor": "white"
           },
           "zaxis": {
            "backgroundcolor": "#E5ECF6",
            "gridcolor": "white",
            "gridwidth": 2,
            "linecolor": "white",
            "showbackground": true,
            "ticks": "",
            "zerolinecolor": "white"
           }
          },
          "shapedefaults": {
           "line": {
            "color": "#2a3f5f"
           }
          },
          "ternary": {
           "aaxis": {
            "gridcolor": "white",
            "linecolor": "white",
            "ticks": ""
           },
           "baxis": {
            "gridcolor": "white",
            "linecolor": "white",
            "ticks": ""
           },
           "bgcolor": "#E5ECF6",
           "caxis": {
            "gridcolor": "white",
            "linecolor": "white",
            "ticks": ""
           }
          },
          "title": {
           "x": 0.05
          },
          "xaxis": {
           "automargin": true,
           "gridcolor": "white",
           "linecolor": "white",
           "ticks": "",
           "title": {
            "standoff": 15
           },
           "zerolinecolor": "white",
           "zerolinewidth": 2
          },
          "yaxis": {
           "automargin": true,
           "gridcolor": "white",
           "linecolor": "white",
           "ticks": "",
           "title": {
            "standoff": 15
           },
           "zerolinecolor": "white",
           "zerolinewidth": 2
          }
         }
        }
       }
      }
     },
     "metadata": {},
     "output_type": "display_data"
    }
   ],
   "source": [
    "x, y, z, p = read_xypzdata(\"data/tmp44\")\n",
    "\n",
    "func = LeastSquare2D(x, y, z, p, 3)\n",
    "\n",
    "x_pred = np.linspace(min(x), max(x), 40)\n",
    "y_pred = np.linspace(min(y), max(y), 40)\n",
    "z_graph = [[func(xi, yi) for xi in x_pred] for yi in y_pred]\n",
    "\n",
    "fig = px.scatter_3d(x=x, y=y, z=z)\n",
    "fig.add_trace(go.Surface(x=x_pred, y=y_pred, z=z_graph))\n",
    "fig.show()"
   ]
  },
  {
   "cell_type": "code",
   "execution_count": 9,
   "metadata": {},
   "outputs": [
    {
     "data": {
      "application/vnd.plotly.v1+json": {
       "config": {
        "plotlyServerURL": "https://plot.ly"
       },
       "data": [
        {
         "hovertemplate": "x=%{x}<br>y=%{y}<br>z=%{z}<extra></extra>",
         "legendgroup": "",
         "marker": {
          "color": "#636efa",
          "symbol": "circle"
         },
         "mode": "markers",
         "name": "",
         "scene": "scene",
         "showlegend": false,
         "type": "scatter3d",
         "x": [
          -2,
          -2,
          -2,
          -2,
          -2,
          -2,
          -2,
          -2,
          -2,
          -2,
          -1.4444444444444444,
          -1.4444444444444444,
          -1.4444444444444444,
          -1.4444444444444444,
          -1.4444444444444444,
          -1.4444444444444444,
          -1.4444444444444444,
          -1.4444444444444444,
          -1.4444444444444444,
          -1.4444444444444444,
          -0.8888888888888888,
          -0.8888888888888888,
          -0.8888888888888888,
          -0.8888888888888888,
          -0.8888888888888888,
          -0.8888888888888888,
          -0.8888888888888888,
          -0.8888888888888888,
          -0.8888888888888888,
          -0.8888888888888888,
          -0.33333333333333326,
          -0.33333333333333326,
          -0.33333333333333326,
          -0.33333333333333326,
          -0.33333333333333326,
          -0.33333333333333326,
          -0.33333333333333326,
          -0.33333333333333326,
          -0.33333333333333326,
          -0.33333333333333326,
          0.22222222222222232,
          0.22222222222222232,
          0.22222222222222232,
          0.22222222222222232,
          0.22222222222222232,
          0.22222222222222232,
          0.22222222222222232,
          0.22222222222222232,
          0.22222222222222232,
          0.22222222222222232,
          0.7777777777777777,
          0.7777777777777777,
          0.7777777777777777,
          0.7777777777777777,
          0.7777777777777777,
          0.7777777777777777,
          0.7777777777777777,
          0.7777777777777777,
          0.7777777777777777,
          0.7777777777777777,
          1.3333333333333335,
          1.3333333333333335,
          1.3333333333333335,
          1.3333333333333335,
          1.3333333333333335,
          1.3333333333333335,
          1.3333333333333335,
          1.3333333333333335,
          1.3333333333333335,
          1.3333333333333335,
          1.8888888888888893,
          1.8888888888888893,
          1.8888888888888893,
          1.8888888888888893,
          1.8888888888888893,
          1.8888888888888893,
          1.8888888888888893,
          1.8888888888888893,
          1.8888888888888893,
          1.8888888888888893,
          2.4444444444444446,
          2.4444444444444446,
          2.4444444444444446,
          2.4444444444444446,
          2.4444444444444446,
          2.4444444444444446,
          2.4444444444444446,
          2.4444444444444446,
          2.4444444444444446,
          2.4444444444444446,
          3,
          3,
          3,
          3,
          3,
          3,
          3,
          3,
          3,
          3
         ],
         "y": [
          -2,
          -1.4444444444444444,
          -0.8888888888888888,
          -0.33333333333333326,
          0.22222222222222232,
          0.7777777777777777,
          1.3333333333333335,
          1.8888888888888893,
          2.4444444444444446,
          3,
          -2,
          -1.4444444444444444,
          -0.8888888888888888,
          -0.33333333333333326,
          0.22222222222222232,
          0.7777777777777777,
          1.3333333333333335,
          1.8888888888888893,
          2.4444444444444446,
          3,
          -2,
          -1.4444444444444444,
          -0.8888888888888888,
          -0.33333333333333326,
          0.22222222222222232,
          0.7777777777777777,
          1.3333333333333335,
          1.8888888888888893,
          2.4444444444444446,
          3,
          -2,
          -1.4444444444444444,
          -0.8888888888888888,
          -0.33333333333333326,
          0.22222222222222232,
          0.7777777777777777,
          1.3333333333333335,
          1.8888888888888893,
          2.4444444444444446,
          3,
          -2,
          -1.4444444444444444,
          -0.8888888888888888,
          -0.33333333333333326,
          0.22222222222222232,
          0.7777777777777777,
          1.3333333333333335,
          1.8888888888888893,
          2.4444444444444446,
          3,
          -2,
          -1.4444444444444444,
          -0.8888888888888888,
          -0.33333333333333326,
          0.22222222222222232,
          0.7777777777777777,
          1.3333333333333335,
          1.8888888888888893,
          2.4444444444444446,
          3,
          -2,
          -1.4444444444444444,
          -0.8888888888888888,
          -0.33333333333333326,
          0.22222222222222232,
          0.7777777777777777,
          1.3333333333333335,
          1.8888888888888893,
          2.4444444444444446,
          3,
          -2,
          -1.4444444444444444,
          -0.8888888888888888,
          -0.33333333333333326,
          0.22222222222222232,
          0.7777777777777777,
          1.3333333333333335,
          1.8888888888888893,
          2.4444444444444446,
          3,
          -2,
          -1.4444444444444444,
          -0.8888888888888888,
          -0.33333333333333326,
          0.22222222222222232,
          0.7777777777777777,
          1.3333333333333335,
          1.8888888888888893,
          2.4444444444444446,
          3,
          -2,
          -1.4444444444444444,
          -0.8888888888888888,
          -0.33333333333333326,
          0.22222222222222232,
          0.7777777777777777,
          1.3333333333333335,
          1.8888888888888893,
          2.4444444444444446,
          3
         ],
         "z": [
          0.37840124765396416,
          0.4128294034568874,
          0.32308471903329683,
          0.13616103800672014,
          -0.09171782372139398,
          -0.29200935137031236,
          -0.40446888297261113,
          -0.39527029245134954,
          -0.2671803767002113,
          -0.05872664492762098,
          -0.11458598231497819,
          -0.12501138148168137,
          -0.09783524798322957,
          -0.04123175171794035,
          0.027773631805037308,
          0.08842512697665608,
          0.12247968144555635,
          0.11969420032643519,
          0.08090651420757516,
          0.01778337238266208,
          -0.5731074819966595,
          -0.625250633755095,
          -0.4893278522329185,
          -0.2062226541849124,
          0.13891119898010973,
          0.44226266462090597,
          0.6125882102757024,
          0.598656488104481,
          0.4046579494093085,
          0.08894442026617923,
          -0.8592469197450449,
          -0.9374239527478967,
          -0.733638039956778,
          -0.30918490153486844,
          0.20826637863095634,
          0.6630742822791559,
          0.9184394712798308,
          0.8975519593585757,
          0.606694394163085,
          0.1333523318801633,
          -0.8869378807444431,
          -0.9676343259467277,
          -0.7572810020498466,
          -0.31914900714090916,
          0.21497818176417788,
          0.6844431852898809,
          0.9480380313620294,
          0.9264773773384347,
          0.6262463418294304,
          0.1376498791118346,
          -0.6478513427713781,
          -0.7067949300463933,
          -0.553145293130859,
          -0.23311791875080037,
          0.1570277995180156,
          0.4999419308470512,
          0.6924810913484852,
          0.6767324138328841,
          0.4574328622871843,
          0.10054442475731257,
          -0.21390092009712575,
          -0.23336230995550916,
          -0.18263184674734667,
          -0.07696848647193416,
          0.05184583033207299,
          0.16506570557661945,
          0.2286363133179058,
          0.2234365762972344,
          0.15103049676076602,
          0.03319672824050144,
          0.284387663941397,
          0.3102621632019208,
          0.24281449670341573,
          0.10233190233552669,
          -0.06893058041333026,
          -0.2194597871970725,
          -0.30397880947463135,
          -0.29706560375421237,
          -0.2007995577494485,
          -0.04413604200733152,
          0.6971367402285671,
          0.7605644706003215,
          0.5952259122847939,
          0.25085240276201953,
          -0.16897371519361876,
          -0.5379750954645808,
          -0.7451617042691904,
          -0.7282149435213139,
          -0.4922321425223097,
          -0.10819335840784802,
          0.9001976297355174,
          0.9821004893114402,
          0.7686023766589254,
          0.32392029475564843,
          -0.21819211228923108,
          -0.6946756322657365,
          -0.9622112295112635,
          -0.9403282430372877,
          -0.6356087441797134,
          -0.13970774909946293
         ]
        },
        {
         "type": "surface",
         "x": [
          -2,
          -1.8717948717948718,
          -1.7435897435897436,
          -1.6153846153846154,
          -1.4871794871794872,
          -1.358974358974359,
          -1.2307692307692308,
          -1.1025641025641026,
          -0.9743589743589745,
          -0.8461538461538463,
          -0.7179487179487181,
          -0.5897435897435899,
          -0.4615384615384617,
          -0.3333333333333335,
          -0.2051282051282053,
          -0.0769230769230771,
          0.0512820512820511,
          0.1794871794871793,
          0.3076923076923075,
          0.4358974358974357,
          0.5641025641025639,
          0.6923076923076921,
          0.8205128205128203,
          0.9487179487179485,
          1.0769230769230766,
          1.2051282051282048,
          1.333333333333333,
          1.4615384615384612,
          1.5897435897435894,
          1.7179487179487176,
          1.8461538461538458,
          1.974358974358974,
          2.102564102564102,
          2.23076923076923,
          2.3589743589743586,
          2.4871794871794872,
          2.615384615384615,
          2.7435897435897427,
          2.8717948717948714,
          3
         ],
         "y": [
          -2,
          -1.8717948717948718,
          -1.7435897435897436,
          -1.6153846153846154,
          -1.4871794871794872,
          -1.358974358974359,
          -1.2307692307692308,
          -1.1025641025641026,
          -0.9743589743589745,
          -0.8461538461538463,
          -0.7179487179487181,
          -0.5897435897435899,
          -0.4615384615384617,
          -0.3333333333333335,
          -0.2051282051282053,
          -0.0769230769230771,
          0.0512820512820511,
          0.1794871794871793,
          0.3076923076923075,
          0.4358974358974357,
          0.5641025641025639,
          0.6923076923076921,
          0.8205128205128203,
          0.9487179487179485,
          1.0769230769230766,
          1.2051282051282048,
          1.333333333333333,
          1.4615384615384612,
          1.5897435897435894,
          1.7179487179487176,
          1.8461538461538458,
          1.974358974358974,
          2.102564102564102,
          2.23076923076923,
          2.3589743589743586,
          2.4871794871794872,
          2.615384615384615,
          2.7435897435897427,
          2.8717948717948714,
          3
         ],
         "z": [
          [
           0.3343156392297607,
           0.27011580807573504,
           0.18734597326557295,
           0.09033864526838584,
           -0.016772053972005072,
           -0.1300767052177572,
           -0.2459142575142102,
           -0.36089304516359155,
           -0.47190915609523093,
           -0.5761621516322798,
           -0.671168137654938,
           -0.7547701871601873,
           -0.825146114218032,
           -0.8808135993242455,
           -0.9206326661496232,
           -0.9438055096857435,
           -0.9498736757872346,
           -0.9387125921105459,
           -0.9105234504492316,
           -0.8658224404657343,
           -0.80542733481968,
           -0.7304414256926781,
           -0.6422348127096273,
           -0.5424230422565298,
           -0.43284309819481176,
           -0.3155267439721483,
           -0.1926712161297991,
           -0.06660726920644605,
           0.060235427961457914,
           0.1853655445428367,
           0.3062699886186293,
           0.4204564566919273,
           0.5254986318015961,
           0.6190840302393992,
           0.6990644968706086,
           0.7635093490581131,
           0.8107611691900186,
           0.8394942458107411,
           0.8487756633555898,
           0.8381290404888537
          ],
          [
           0.3995768389106252,
           0.30874588780005296,
           0.20399536828334996,
           0.08911190683853688,
           -0.03227823675995514,
           -0.1567363375681788,
           -0.2810357249960812,
           -0.40218365372741477,
           -0.5174405260361586,
           -0.6243364654994437,
           -0.720685242106986,
           -0.8045955487670269,
           -0.8744796292087784,
           -0.9290592572813763,
           -0.9673690676493408,
           -0.988757237884542,
           -0.9928835219546727,
           -0.9797146351082285,
           -0.9495169901559942,
           -0.9028467851490364,
           -0.8405374424532023,
           -0.7636843992201287,
           -0.6736272492547503,
           -0.5719292362793246,
           -0.46035409859395426,
           -0.34084026513362137,
           -0.21547240292172798,
           -0.08645031592013996,
           0.043944804724258144,
           0.17338677903650418,
           0.2995434851739908,
           0.42011855499039774,
           0.5328957182031042,
           0.6357857951641093,
           0.7268763382344363,
           0.8044839217620353,
           0.8672090806631724,
           0.9139938976073192,
           0.944182238805541,
           0.9575826384023567
          ],
          [
           0.44204194256247115,
           0.3307859152977802,
           0.20968560451077586,
           0.08200735273289612,
           -0.049105658191321344,
           -0.18066142917734146,
           -0.30984451737024943,
           -0.43403876101086486,
           -0.5508473556983713,
           -0.6581102820494474,
           -0.7539190847539057,
           -0.8366290030268388,
           -0.9048684524572731,
           -0.9575458582533259,
           -0.9938538398838724,
           -1.0132707471167175,
           -1.0155595474532766,
           -1.0007640649597587,
           -0.969202570494862,
           -0.9214587233339707,
           -0.858369864189861,
           -0.7810126596299145,
           -0.6906860978898379,
           -0.5888918360838853,
           -0.4773118988115956,
           -0.35778372816102766,
           -0.23227258510850798,
           -0.10284130231488295,
           0.028382611681723735,
           0.15924251687664281,
           0.2875908348128881,
           0.4113298901988788,
           0.5284554011296517,
           0.637102617911569,
           0.7355951104905223,
           0.8224962044836219,
           0.896663065814388,
           0.9573034339514326,
           1.0040350037506287,
           1.0369474559007827
          ],
          [
           0.4650989307123482,
           0.3390985308203351,
           0.20679222419056217,
           0.070950921284079,
           -0.06574123791329096,
           -0.20071575991025817,
           -0.33154602512588904,
           -0.45597086670193,
           -0.5719155007116384,
           -0.6775098077651246,
           -0.7711039660111929,
           -0.8512814355356959,
           -0.9168692941563955,
           -0.9669459246143238,
           -1.0008460531616574,
           -1.0181631395460964,
           -1.0187491183917494,
           -1.002711491976523,
           -0.9704077744060267,
           -0.9224372871839711,
           -0.859630306179084,
           -0.7830345599885286,
           -0.693899079697827,
           -0.5936554000372952,
           -0.4838961119349782,
           -0.36635076646609777,
           -0.2428591301990044,
           -0.11534179193763347,
           0.014231879139526282,
           0.14387842394396302,
           0.2716376325451624,
           0.3956125318421224,
           0.5140120218383623,
           0.6251961605204216,
           0.7277240973398584,
           0.8204046552987352,
           0.9023495616385994,
           0.97302932713296,
           1.0323317739832572,
           1.0806232123183184
          ],
          [
           0.4717565919915038,
           0.33618431887943423,
           0.19734505122701837,
           0.057538371132791914,
           -0.0809873353732703,
           -0.21606460829527271,
           -0.3456339950334237,
           -0.4677684831425684,
           -0.5806952844872255,
           -0.682814970793134,
           -0.772717960595302,
           -0.8491983575825676,
           -0.9112651403386625,
           -0.9581507034797832,
           -0.98931675018867,
           -1.0044575361451922,
           -1.0035004648534387,
           -0.9866040343653156,
           -0.9541531354006525,
           -0.9067517008638144,
           -0.8452127067568177,
           -0.7705455244889566,
           -0.683940624582934,
           -0.5867516317775002,
           -0.4804747315265972,
           -0.36672542789501056,
           -0.24721265285052693,
           -0.12371022695259931,
           0.0019743285624810175,
           0.12803362829990833,
           0.2526969078281744,
           0.3742691574043808,
           0.4911729043030382,
           0.6019926437483615,
           0.7055219184500612,
           0.8008130467426224,
           0.8872294993280807,
           0.9645009246222913,
           1.0327808227046928,
           1.092706867871557
          ],
          [
           0.4646772448697354,
           0.32421428815731135,
           0.1830604292721274,
           0.04306727748977022,
           -0.09392999538108669,
           -0.22614323891040344,
           -0.35185925935500784,
           -0.4694651063633319,
           -0.5774707110766564,
           -0.6745288756268633,
           -0.7594526140306922,
           -0.8312298444805032,
           -0.8890354330315524,
           -0.9322405886857644,
           -0.960419609872021,
           -0.9733539823229501,
           -0.9710338283482229,
           -0.9536567075043599,
           -0.9216237686610417,
           -0.8755332534639246,
           -0.8161713511939684,
           -0.7445004050232642,
           -0.6616444696673733,
           -0.5688722204341733,
           -0.46757721366920535,
           -0.35925549859753486,
           -0.24548058056211572,
           -0.12787573565865892,
           -0.008083676767012563,
           0.11226642902095593,
           0.23159459157696538,
           0.34840827751542736,
           0.4613433385760401,
           0.569207588609876,
           0.6710270291689675,
           0.7660947236993787,
           0.8540223203377785,
           0.9347942233115005,
           1.0088244129421002,
           1.0770159142523996
          ],
          [
           0.44620804615951043,
           0.30506093818668917,
           0.16537204658138274,
           0.028567615167472485,
           -0.10390860690143229,
           -0.23062680299992763,
           -0.3501998782852519,
           -0.46130960034822827,
           -0.5627300912607169,
           -0.6533486710195717,
           -0.7321840523871046,
           -0.7984018871280547,
           -0.8513276636430677,
           -0.8904569559986776,
           -0.9154630243538001,
           -0.926201766782726,
           -0.9227140224946289,
           -0.9052252264495729,
           -0.8741424153710318,
           -0.8300485851549121,
           -0.7736943996750828,
           -0.7059872509854146,
           -0.6279776709183212,
           -0.5408430940798127,
           -0.44586897224105004,
           -0.3444272401264106,
           -0.23795213259805822,
           -0.12791335323702024,
           -0.015786594320771275,
           0.09697859180267665,
           0.2089935699441745,
           0.31896804790633715,
           0.42575015091992824,
           0.5283691446837454,
           0.6260808070079973,
           0.7184154480611693,
           0.805228579220392,
           0.8867542305252909,
           0.9636609167353443,
           1.0371102519907158
          ],
          [
           0.41841088628984474,
           0.28032791280052344,
           0.14546034763938692,
           0.014830928381544964,
           -0.11048697507654141,
           -0.22940165232119847,
           -0.34083269562218016,
           -0.44373799452982127,
           -0.5371380818686936,
           -0.6201378311277679,
           -0.6919455052470851,
           -0.7518891568009338,
           -0.7994303795775326,
           -0.8341754115552202,
           -0.8558835892751533,
           -0.8644731536105077,
           -0.8600244069321915,
           -0.8427802216710594,
           -0.8131439002766372,
           -0.7716743865723514,
           -0.7190788285072665,
           -0.6562024923043274,
           -0.584016028005111,
           -0.503600086411081,
           -0.4161272874213532,
           -0.32284153976696356,
           -0.22503471214164694,
           -0.12402065572911855,
           -0.021106578126865484,
           0.08243823133355804,
           0.1854163248697253,
           0.28673866813502946,
           0.3854638607088653,
           0.48084000519030706,
           0.5723492248952767,
           0.6597548301572094,
           0.7431511332312077,
           0.8230159118016955,
           0.900265521093557,
           0.976312654586778
          ],
          [
           0.3830908713499459,
           0.2513782403515044,
           0.12428053155521884,
           0.0024380873220420235,
           -0.11342580647910971,
           -0.2225380662217011,
           -0.324106307668426,
           -0.417346694514565,
           -0.501509138327848,
           -0.575899849884824,
           -0.6399012419037364,
           -0.6929891831739077,
           -0.7347476040816279,
           -0.7648804535325506,
           -0.7832210072705975,
           -0.789738527593366,
           -0.7845422744640477,
           -0.7678828680198478,
           -0.7401510024769193,
           -0.701873511431796,
           -0.653706784559336,
           -0.5964275357071718,
           -0.5309209223866667,
           -0.4581660166603767,
           -0.3792186274260219,
           -0.2951914740969598,
           -0.2072317116791713,
           -0.11649580724474812,
           -0.02412176780188976,
           0.06880128043859385,
           0.1612661614002715,
           0.2523833670815778,
           0.34141942409978626,
           0.4278379088384829,
           0.5113431111985285,
           0.5919263469525174,
           0.6699149187027231,
           0.7460237254425515,
           0.821409520721468,
           0.8977278194134347
          ],
          [
           0.34182339190262084,
           0.21936116070132522,
           0.10258913722755827,
           -0.008214368505584031,
           -0.11265660759544248,
           -0.21026439194634533,
           -0.3005154453626641,
           -0.3828671060383747,
           -0.4567823804431297,
           -0.5217533486048299,
           -0.5773219207887106,
           -0.6230979455729294,
           -0.6587746693206605,
           -0.6841415470486996,
           -0.6990944046925719,
           -0.703642952768148,
           -0.6979156514297653,
           -0.6821619269248599,
           -0.6567517394450989,
           -0.6221725023740265,
           -0.5790233529312093,
           -0.5280067742128945,
           -0.46991756862917256,
           -0.4056291827376446,
           -0.33607738347359895,
           -0.2622412857766945,
           -0.18512173161414824,
           -0.10571702040043145,
           -0.02499599081347296,
           0.05613154599263347,
           0.13684702177841074,
           0.21645797521328028,
           0.294435564473328,
           0.3704547284425725,
           0.4444369965177219,
           0.5165959470164226,
           0.5874853141890063,
           0.6580497438337256,
           0.7296781975154885,
           0.804260005388078
          ],
          [
           0.29597977856744595,
           0.18523753897971196,
           0.08096921527957648,
           -0.016889300169735035,
           -0.10825699653884868,
           -0.1929425981749969,
           -0.2706767696412812,
           -0.34114167215244007,
           -0.40399787140712506,
           -0.4589085968166819,
           -0.5055613521304406,
           -0.543686877457509,
           -0.5730754626850766,
           -0.5935906122932216,
           -0.6051800615662272,
           -0.6078841442004036,
           -0.6018415113084163,
           -0.5872922018201208,
           -0.5645780642799063,
           -0.5341405300405425,
           -0.49651573785353614,
           -0.4523270098559924,
           -0.4022746789539833,
           -0.34712326760242374,
           -0.2876860179814521,
           -0.22480677356932066,
           -0.15933921211178956,
           -0.09212342998802842,
           -0.02395987797302649,
           0.04441935160349393,
           0.11238188630165377,
           0.17942908361949092,
           0.24523268964452288,
           0.3096741463088053,
           0.3728865472474854,
           0.43529924226084393,
           0.4976850903798342,
           0.5612103615351148,
           0.6274872868295746,
           0.6986292574143484
          ],
          [
           0.2467515443736986,
           0.14980386611321414,
           0.05985408676358947,
           -0.02348545243215233,
           -0.10042742799326516,
           -0.17104524179024186,
           -0.23530608003028253,
           -0.29310132363926805,
           -0.3442743100402444,
           -0.38864544632840814,
           -0.4260346738426023,
           -0.4562812841333184,
           -0.4792610863272041,
           -0.49490092588807777,
           -0.5031905547744505,
           -0.5041918529935545,
           -0.4980454015518769,
           -0.4849744068022027,
           -0.46528597618716205,
           -0.4393697453792842,
           -0.4076938568175607,
           -0.3707982896405129,
           -0.32928554101576635,
           -0.28380865886613216,
           -0.235056625992196,
           -0.18373709559141232,
           -0.13055647817370536,
           -0.07619737987357823,
           -0.021293392158726963,
           0.03359876706483822,
           0.08802976095116388,
           0.14169078981621946,
           0.19444939584325582,
           0.2463879163916569,
           0.29784458590928564,
           0.34945728644832075,
           0.40220994678459043,
           0.45748159014039785,
           0.5170980305108392,
           0.5833862175936146
          ],
          [
           0.19517321388305423,
           0.113714846123764,
           0.0395496886354741,
           -0.028015350097640716,
           -0.08946933138712078,
           -0.14513384787539063,
           -0.1951969364674324,
           -0.23974434265896744,
           -0.2787881362611439,
           -0.31229267852173087,
           -0.34019794064282016,
           -0.3624401736950328,
           -0.3789699299282354,
           -0.38976743547875836,
           -0.3948553144731265,
           -0.39430866452829133,
           -0.3882624836483728,
           -0.37691644851790734,
           -0.36053704419160204,
           -0.33945704518059466,
           -0.31407234793522265,
           -0.28483615472429685,
           -0.2522505089108826,
           -0.21685518162458703,
           -0.179213909830354,
           -0.13989798579376464,
           -0.09946719794284474,
           -0.05844812312637981,
           -0.017309770268735647,
           0.023563424578815106,
           0.06390125179025624,
           0.10358003032048982,
           0.14265755846448624,
           0.18141071321993196,
           0.22037569825336734,
           0.26039094046981914,
           0.30264263518592627,
           0.34871293990656055,
           0.40063081670493605,
           0.4609255232062176
          ],
          [
           0.14214373908204364,
           0.077504570196993,
           0.020255505998846554,
           -0.030584607594029943,
           -0.07576466229743792,
           -0.11583870294271961,
           -0.15120069435463923,
           -0.18211663962576954,
           -0.20875404978738615,
           -0.2312087648768685,
           -0.2495291264016059,
           -0.2637375011994128,
           -0.2738491566954487,
           -0.279888487555645,
           -0.28190259373663973,
           -0.27997220993221755,
           -0.2742199864162571,
           -0.26481612128218485,
           -0.2519813440789358,
           -0.23598725084341995,
           -0.21715399052949724,
           -0.19584530283345733,
           -0.17246090741600695,
           -0.14742624452076364,
           -0.12117956698925669,
           -0.0941563836724335,
           -0.06677125423867407,
           -0.039396935378311286,
           -0.01234087840465797,
           0.0141809217484594,
           0.04007272613265998,
           0.06539049999446178,
           0.09037600958822721,
           0.11549356759260368,
           0.14146942713045604,
           0.16933382439229175,
           0.2004656698631822,
           0.2366398881531751,
           0.2800774064311999,
           0.3334977914624684
          ],
          [
           0.08844650204427706,
           0.04160627752031531,
           0.0020840911190059853,
           -0.03137265178237144,
           -0.05975686708416844,
           -0.08384006139194737,
           -0.10420795284056875,
           -0.12129344331478448,
           -0.1354069420663379,
           -0.14676404072757074,
           -0.1555105397215358,
           -0.16174482606861862,
           -0.16553760258966252,
           -0.16694896850560295,
           -0.16604285143360759,
           -0.1628987907797225,
           -0.15762107252802612,
           -0.15034521542628917,
           -0.1412418085681408,
           -0.13051770037174298,
           -0.11841453895496971,
           -0.10520466390709408,
           -0.09118434945698149,
           -0.07666439903778972,
           -0.06195809124817582,
           -0.047366477210009,
           -0.033161029322590956,
           -0.01956364141338257,
           -0.006723980285236929,
           0.005305811339860397,
           0.016599060480544735,
           0.027385158159319335,
           0.03808280226929485,
           0.049335889044423334,
           0.062052053133224386,
           0.07744385627600557,
           0.09707262458557578,
           0.12289493443145155,
           0.15731174692755812,
           0.20322019102342126
          ],
          [
           0.03476790436242763,
           0.006370702890772382,
           -0.014920830793361772,
           -0.030614857997373512,
           -0.04193326075476915,
           -0.0498507651989489,
           -0.055131416333499814,
           -0.05836240419899552,
           -0.05998524143630242,
           -0.06032429224639267,
           -0.059612652746663886,
           -0.05801538272376522,
           -0.05565008878293052,
           -0.052604858893817795,
           -0.04895354833285553,
           -0.04476841702209555,
           -0.04013011826457271,
           -0.035135038876170976,
           -0.029899990713996474,
           -0.02456425360125698,
           -0.019288969648648145,
           -0.014253888972246437,
           -0.009651466807908602,
           -0.005678312022177918,
           -0.002523987019697059,
           -0.00035715904712761834,
           0.0006908971064236921,
           0.000545445012472244,
           -0.0007899188902841126,
           -0.0032088221859110817,
           -0.006475024767690921,
           -0.0101926785210818,
           -0.013773938403184,
           -0.016403924918712648,
           -0.01700303799247746,
           -0.014186622238368474,
           -0.006221983624849214,
           0.00901724246304414,
           0.03409937176519651,
           0.07208560029140121
          ],
          [
           -0.01828545665001966,
           -0.027916988907358498,
           -0.030767669028714428,
           -0.028586099318072107,
           -0.02280881805901289,
           -0.014600276834707552,
           -0.004890169244415344,
           0.005591888983510158,
           0.016284328482108656,
           0.026764243339793832,
           0.036720656797827676,
           0.045930435551287965,
           0.05423685265352913,
           0.061530799024136495,
           0.06773464356037388,
           0.0727887418521243,
           0.07664059350032446,
           0.07923664803889212,
           0.08051675946014716,
           0.08041128934372563,
           0.07884085858898762,
           0.07571874775091793,
           0.07095594597952036,
           0.06446884856270557,
           0.056189603072671845,
           0.04607910411577922,
           0.03414263668591734,
           0.020448168121366486,
           0.005147288665151548,
           -0.011501199371110028,
           -0.02910504383986727,
           -0.047109656386801674,
           -0.06476657747649904,
           -0.08109929281462898,
           -0.09486640116663039,
           -0.10452213357290355,
           -0.10817422396050913,
           -0.10353913115137453,
           -0.08789461226700512,
           -0.058029647529703854
          ],
          [
           -0.07017102498725705,
           -0.061021681955192864,
           -0.04550168805542261,
           -0.025585709068739797,
           -0.0029113778140365705,
           0.021179874585497385,
           0.04560463603966975,
           0.06950197943207342,
           0.09220057716436775,
           0.11318846430405344,
           0.13208545033574057,
           0.1486181795159095,
           0.16259783983116607,
           0.1739005205599896,
           0.18245021843797365,
           0.18820449242656143,
           0.19114276708527364,
           0.19125728454742966,
           0.1885467050993625,
           0.1830123563631266,
           0.1746571310826995,
           0.1634870335136767,
           0.1495153744164591,
           0.13276961465293516,
           0.11330085738665514,
           0.09119598888649952,
           0.0665924679338403,
           0.039695763833195785,
           0.010799443026378669,
           -0.019692095689862493,
           -0.051238237342708284,
           -0.08313411835864071,
           -0.11447994553532133,
           -0.14414766640997667,
           -0.17074499102429014,
           -0.1925767650858002,
           -0.20760369452580552,
           -0.2133984214537777,
           -0.20709895150827828,
           -0.18535943260438503
          ],
          [
           -0.12039593620987926,
           -0.09274420128210435,
           -0.05919114142677451,
           -0.02192385655003061,
           0.017231739540373645,
           0.05676923392266564,
           0.09546267795214393,
           0.13233019925575842,
           0.1666002623301869,
           0.19768057774340253,
           0.22512965993973633,
           0.24863103364843192,
           0.2679700888956941,
           0.28301358462023085,
           0.29369180089228847,
           0.2999833397361801,
           0.30190257455630687,
           0.29948974816667473,
           0.29280371942390127,
           0.28191735846371874,
           0.2669155905409687,
           0.24789608847309041,
           0.2249726136871036,
           0.1982810058700831,
           0.1679878212231267,
           0.13430161931881857,
           0.09748689856218365,
           0.057880680255136256,
           0.01591174126442163,
           -0.027877504706947435,
           -0.07280647724476348,
           -0.11802925074520171,
           -0.16250472733290483,
           -0.2049641611755742,
           -0.2438760341950687,
           -0.2774082831750081,
           -0.30338787826488556,
           -0.31925775288068475,
           -0.32203108500200583,
           -0.3082429298656947
          ],
          [
           -0.168504080933847,
           -0.12290861817882821,
           -0.0719148189182195,
           -0.017909336000362784,
           0.037105701156259434,
           0.09147014740441357,
           0.14382595131299625,
           0.19307991321541088,
           0.23836909186143573,
           0.27902885967258734,
           0.3145636066009746,
           0.34462009259164983,
           0.36896344864844904,
           0.38745582650332866,
           0.40003769688919416,
           0.4067117964162228,
           0.4075297230516788,
           0.4025811802032228,
           0.3919858694057139,
           0.3758880316115054,
           0.3544536370842339,
           0.3278702238961016,
           0.29634938502865177,
           0.2601319040770392,
           0.21949553955778975,
           0.17476545782005865,
           0.12632731456037927,
           0.0746429849409039,
           0.02026894231114106,
           -0.036122714466816114,
           -0.09372058508956692,
           -0.15154764328018852,
           -0.20843226365252476,
           -0.26297659997198647,
           -0.31352231481285286,
           -0.3581136606120848,
           -0.39445791211964043,
           -0.4198831502453008,
           -0.4312933973019999,
           -0.4251211036456626
          ],
          [
           -0.2140645815496854,
           -0.15135096874079917,
           -0.08375100689484562,
           -0.013838768787537507,
           0.05621871776173323,
           0.12461807678507607,
           0.18987883966477936,
           0.2508053492354797,
           0.3064513124898236,
           0.35608700188762576,
           0.3991691052685156,
           0.4353132243680832,
           0.4642690219375122,
           0.485898017466712,
           0.5001540315109393,
           0.5070662786209142,
           0.5067251088764301,
           0.4992703980234559,
           0.48488258621473285,
           0.46377636535386413,
           0.43619701504289693,
           0.4024193871333992,
           0.3627495388810282,
           0.31752901470359557,
           0.26714177654262133,
           0.2120237828283843,
           0.15267521604846465,
           0.08967535891978083,
           0.02370011916411842,
           -0.04445779711284712,
           -0.11386606343903287,
           -0.18342726238994086,
           -0.2518507663991537,
           -0.3176219699653387,
           -0.3789688732557592,
           -0.4338260171062892,
           -0.4797957694179402,
           -0.5141069629498893,
           -0.5335708845090171,
           -0.5345346155359512
          ],
          [
           -0.25666168217192065,
           -0.17790938564172865,
           -0.09476786190909735,
           -0.009987218830594653,
           0.07411118641497978,
           0.15559050027556956,
           0.2328567743783318,
           0.30462001568560104,
           0.3698578852543439,
           0.4277820455991128,
           0.4778071566584847,
           0.5195225203650004,
           0.5526663738185942,
           0.5771028310635171,
           0.5928014734687519,
           0.599819588711926,
           0.598287058366712,
           0.5883938940937267,
           0.5703804224349185,
           0.5445301182114521,
           0.511165086525087,
           0.4706441933630433,
           0.4233638448063682,
           0.3697614148417924,
           0.310321321777079,
           0.245583753259867,
           0.176156039900009,
           0.10272667749540038,
           0.026081997861302747,
           -0.05287451173683907,
           -0.13310024054708752,
           -0.21338883769120806,
           -0.2923429469213724,
           -0.36834429277337094,
           -0.4395211181163254,
           -0.5037129730989153,
           -0.5584328554921053,
           -0.6008267024283849,
           -0.6276302335375085,
           -0.6351231454787474
          ],
          [
           -0.2958860518187549,
           -0.20241564313741822,
           -0.10501519752872826,
           -0.006600221251906834,
           0.09036342002802532,
           0.18381440024302043,
           0.2720534805282668,
           0.3537037054319457,
           0.4276732477284818,
           0.4931209018352873,
           0.549424225832999,
           0.5961503320892079,
           0.6330293264856842,
           0.6599303962490927,
           0.6768405463852055,
           0.6838459847166044,
           0.6811161555238764,
           0.6688904217903082,
           0.6474673960500664,
           0.6171969198398757,
           0.5784746917541898,
           0.5317395441038556,
           0.4774733681782695,
           0.416203688111027,
           0.34850888334906927,
           0.27502605972531674,
           0.19646156913480334,
           0.11360417781429767,
           0.02734088322542091,
           -0.061324620458742256,
           -0.15125082826354008,
           -0.24113466171915696,
           -0.32948505756352126,
           -0.4145939078417242,
           -0.4945043514019413,
           -0.5669764167878595,
           -0.6294500165276163,
           -0.6790052928192429,
           -0.712320314612611,
           -0.72562612608789
          ],
          [
           -0.33132750082197426,
           -0.22468811529980948,
           -0.11451768439499022,
           -0.0038872242595087165,
           0.10460196366026671,
           0.20877233768015496,
           0.3068268095382223,
           0.39730808665833084,
           0.4790606630171836,
           0.5511954586148627,
           0.6130571075488601,
           0.6641938946916003,
           0.7043303409714591,
           0.7333424372572755,
           0.7512355268463535,
           0.7581248365559629,
           0.754218656418326,
           0.7398041679791056,
           0.7152359211993816,
           0.6809269599611203,
           0.6373425961761412,
           0.5849968324985727,
           0.5244514336408034,
           0.4563176462929277,
           0.38126056764568134,
           0.3000061625168743,
           0.2133509290813138,
           0.12217421320422325,
           0.027453171378151238,
           -0.06971961773662222,
           -0.16811589316818842,
           -0.2663488028856199,
           -0.362847346448085,
           -0.45582816905047047,
           -0.5432647069655123,
           -0.622853684382427,
           -0.6919789616420579,
           -0.7476727348685233,
           -0.7865740869973693,
           -0.8048848902002375
          ],
          [
           -0.36256911046709744,
           -0.24452614748127122,
           -0.12326946351106177,
           -0.002016444259662893,
           0.11650449758176516,
           0.23000711344445268,
           0.3366031585958744,
           0.434760880457092,
           0.5232661555235932,
           0.6011862748896233,
           0.6678363783760086,
           0.7227485372614753,
           0.7656434856174618,
           0.7964050002464216,
           0.8150569292236224,
           0.8217428690424372,
           0.81670849036313,
           0.8002865123651316,
           0.7728843257028133,
           0.7349742640647505,
           0.6870865243364815,
           0.6298047353667582,
           0.5637641753372915,
           0.4896526377359878,
           0.4082139459336833,
           0.3202541163643668,
           0.22665017030889797,
           0.12836159428221877,
           0.026444449024059465,
           -0.07793187290686493,
           -0.18346524093516164,
           -0.2886987316675764,
           -0.39199592548831497,
           -0.4915135545508717,
           -0.5851715021663642,
           -0.6706201535883753,
           -0.7452050981943031,
           -0.8059291830632116,
           -0.8494119179502008,
           -0.8718462316572646
          ],
          [
           -0.38918277586376,
           -0.261705841009123,
           -0.13123017276071092,
           -0.0011111341996654384,
           0.12580332710630218,
           0.2471250162670621,
           0.3608804768377136,
           0.4654686251897212,
           0.5596210334855471,
           0.642364861256777,
           0.7129884355857379,
           0.7710094798906106,
           0.8161459913140341,
           0.8482897667152045,
           0.8674825772654675,
           0.8738949916474025,
           0.8678078478574015,
           0.8495963736117421,
           0.8197169553561506,
           0.7786965558788627,
           0.7271247805271739,
           0.6656485920274848,
           0.594969673908842,
           0.5158444425299661,
           0.42908670770978025,
           0.3355729819614275,
           0.2362504383297822,
           0.13214751683245657,
           0.024387179504298397,
           -0.08579718595461755,
           -0.19704321392750196,
           -0.3078383600258747,
           -0.4164960516310921,
           -0.521129189832381,
           -0.619621002761382,
           -0.7095932503231939,
           -0.7883717803239315,
           -0.8529494359947858,
           -0.8999463149125942,
           -0.9255673793169088
          ],
          [
           -0.41072616204633416,
           -0.275977251110396,
           -0.138322386657196,
           -0.001247265140885705,
           0.13228745919419965,
           0.2597976575314825,
           0.37922985830358635,
           0.4889180276172668,
           0.5875429982818346,
           0.6740945474410799,
           0.7478361228086794,
           0.8082722175071042,
           0.8551183935100198,
           0.8882739536881774,
           0.9077972624587975,
           0.9138837150384536,
           0.9068463552994405,
           0.8870991422296417,
           0.855142864995888,
           0.8115537066108106,
           0.7569744562031857,
           0.6921083698917748,
           0.6177156802626557,
           0.5346127544500486,
           0.4436739008206374,
           0.3458358242613777,
           0.24210473007080754,
           0.1335660764538427,
           0.021396975620070504,
           -0.09311875651446463,
           -0.2085729020219803,
           -0.3234124940541876,
           -0.43591682133002035,
           -0.5441717840198822,
           -0.6460416010263865,
           -0.7391378686616182,
           -0.8207859707208872,
           -0.8879888399530029,
           -0.9373880709270447,
           -0.9652223842956413
          ],
          [
           -0.42674107330478755,
           -0.2870629980668322,
           -0.14443046932240494,
           -0.002452621062042906,
           0.13580326582490168,
           0.2677623928220034,
           0.3912957216609948,
           0.504675900800494,
           0.6065358405082207,
           0.6958299365467157,
           0.7717979424625399,
           0.8339314904789774,
           0.8819432609922285,
           0.9157388006710933,
           0.9353909891601552,
           0.9411171543864502,
           0.933258836469634,
           0.9122642002356429,
           0.8786730963338454,
           0.8331047709576873,
           0.7762482241688345,
           0.7088552168248026,
           0.6317359261100852,
           0.5457572496707718,
           0.45184375835266205,
           0.35098129754287133,
           0.24422323711493135,
           0.13269936997738058,
           0.017627459225853025,
           -0.0996725661013434,
           -0.2177617666641527,
           -0.33506269985820736,
           -0.44983727824876535,
           -0.5601619794011593,
           -0.6639004071077499,
           -0.7586732040113867,
           -0.8418253156253716,
           -0.9103906057499378,
           -0.9610538232852294,
           -0.9901099204407817
          ],
          [
           -0.43675323574578007,
           -0.29465829160011847,
           -0.14940084069622767,
           -0.004707306892723728,
           0.136253734139321,
           0.2708213302419135,
           0.39679457669916557,
           0.5123876887698139,
           0.6161877228232339,
           0.7071149460789452,
           0.784385854949614,
           0.8474788419875426,
           0.8961025114346592,
           0.9301666433759964,
           0.949755806496666,
           0.9551056194423226,
           0.9465816607831269,
           0.9246610275811975,
           0.8899165425615576,
           0.8430036098865744,
           0.7846497195338937,
           0.7156466002778669,
           0.6368450212744686,
           0.5491522422497127,
           0.4535321122915569,
           0.35100781724530467,
           0.24266727571249727,
           0.12967118365330121,
           0.013263707592387361,
           -0.10521417357169444,
           -0.22430867815364913,
           -0.34243458266507676,
           -0.457853934194618,
           -0.56865211418461,
           -0.6727112536042434,
           -0.7676809995192293,
           -0.8509466330579719,
           -0.9195945387742537,
           -0.9703750254064142,
           -0.999662498033048
          ],
          [
           -0.4402734930839913,
           -0.29843236848735705,
           -0.15304365597616887,
           -0.007945669777130066,
           0.13359630335194692,
           0.2688389255014672,
           0.39551237759287633,
           0.5117745779649724,
           0.616168049563712,
           0.7075794357355133,
           0.7852016646240495,
           0.8484987621705311,
           0.8971733137174945,
           0.931136574216069,
           0.950481227036747,
           0.9554567913836438,
           0.9464476783122509,
           0.9239538953506846,
           0.8885743997244253,
           0.8409931001845505,
           0.7819675074394647,
           0.7123200331901167,
           0.632931937768716,
           0.5447399263809383,
           0.4487353939516264,
           0.34596631857398524,
           0.23754180356226734,
           0.12463926810795428,
           0.008514286539430538,
           -0.10948692381485006,
           -0.22791236615970156,
           -0.34518647916305534,
           -0.45958970328231036,
           -0.5692353984871933,
           -0.6720441133791255,
           -0.765715205707094,
           -0.8476958142800318,
           -0.915147182275704,
           -0.9649083319461033,
           -0.9934570907193427
          ],
          [
           -0.43680041566369404,
           -0.2980313434067765,
           -0.15513589828719723,
           -0.01205963356806952,
           0.12783928843271605,
           0.26173816377561676,
           0.3873004629360498,
           0.5026291954444988,
           0.6062229231301173,
           0.6969344219678222,
           0.7739319925288793,
           0.8366634190349873,
           0.8848225770158497,
           0.9183186895702437,
           0.9372482322305803,
           0.9418694864309594,
           0.9325797415787164,
           0.9098951457294645,
           0.8744332048656273,
           0.826897930778468,
           0.7680676375536097,
           0.6987853866600494,
           0.6199520806426658,
           0.5325222054182212,
           0.43750222117485443,
           0.33595160187506906,
           0.22898652336221517,
           0.11778620007046273,
           0.003601870338269291,
           -0.11223156967465936,
           -0.22828128346691157,
           -0.34299956307142787,
           -0.4547042493280538,
           -0.5615565035526123,
           -0.6615359306024686,
           -0.7524130533386147,
           -0.8317191384842529,
           -0.8967133738798867,
           -0.944347397134924,
           -0.9712271756757773
          ],
          [
           -0.4258243227105558,
           -0.2930824730136749,
           -0.1554258845818282,
           -0.016903446551180895,
           0.11903689055865095,
           0.2494953283315094,
           0.3720700825451068,
           0.4848098938649254,
           0.5861691871416117,
           0.6749658793118659,
           0.7503418359028223,
           0.8117259761399236,
           0.8588000266582905,
           0.8914669238175817,
           0.9098218646203496,
           0.9141260062338874,
           0.904782814115571,
           0.882317058741695,
           0.8473564609397982,
           0.8006159858244872,
           0.7428847853367495,
           0.6750157893867645,
           0.5979179456002015,
           0.5125511076680164,
           0.41992357229973953,
           0.32109226478025676,
           0.21716557313008503,
           0.10930883086914087,
           -0.001247551616001017,
           -0.11319730710134879,
           -0.22514488295124818,
           -0.33558936394064,
           -0.44290574647382425,
           -0.5453235641997353,
           -0.6409028650237178,
           -0.7275075395158097,
           -0.8027760007155359,
           -0.8640892153332123,
           -0.9085360863477431,
           -0.9328761870009312
          ],
          [
           -0.40683271781368574,
           -0.28319983324660397,
           -0.15363918477045163,
           -0.022299842399395177,
           0.10728279433525302,
           0.2321333559257418,
           0.3497855110320868,
           0.4582336232297632,
           0.5558870563608932,
           0.6415271284889309,
           0.7142667144568354,
           0.7735124970487388,
           0.8189298667551106,
           0.8504104701414105,
           0.8680424068202383,
           0.8720830750269749,
           0.8629346657989183,
           0.8411223057579122,
           0.807274848496467,
           0.7621083145673756,
           0.7064119800768227,
           0.6410371138809863,
           0.5668883633861311,
           0.4849177889522005,
           0.39612154689989626,
           0.30153922112125353,
           0.20225580329371162,
           0.09940632169767427,
           -0.005816881362435276,
           -0.11215422353362536,
           -0.21826630778629103,
           -0.3227186991826846,
           -0.42396405304188073,
           -0.5203215945012603,
           -0.6099539494744897,
           -0.6908413270060156,
           -0.7607530530220604,
           -0.8172164554781318,
           -0.8574831009030283,
           -0.8784923823393576
          ],
          [
           -0.3793171376379096,
           -0.26799140986378855,
           -0.1494859540818835,
           -0.028047614357635385,
           0.09270235178766681,
           0.2097137789713837,
           0.32045574814752714,
           0.42286738940824364,
           0.5153113333887994,
           0.5965298112760564,
           0.6656034034204401,
           0.721912436551402,
           0.7651010295963758,
           0.7950437881032266,
           0.8118151472661931,
           0.8156613635553223,
           0.8069751549493995,
           0.7862729897723715,
           0.7541750241332609,
           0.7113876879695751,
           0.6586889196942102,
           0.5969160494458446,
           0.5269563309428317,
           0.44974012194057716,
           0.3662367132924189,
           0.27745280661399424,
           0.18443364055110373,
           0.0882667656510651,
           -0.009911532162436152,
           -0.10890715951100549,
           -0.20745649487970175,
           -0.3042120193317106,
           -0.3977252986195175,
           -0.4864273166925996,
           -0.5686061606016091,
           -0.6423820567990739,
           -0.7056797588366007,
           -0.7561982864585877,
           -0.7913780160924414,
           -0.8083651227353004
          ],
          [
           -0.34278141386628996,
           -0.24706760220978008,
           -0.14266967865416902,
           -0.03393060265775258,
           0.07544335312160308,
           0.18232725447476245,
           0.28412480589310757,
           0.3787182994238236,
           0.46442121212867055,
           0.5399334521462581,
           0.6042992533578044,
           0.6568677186563938,
           0.6972560118197263,
           0.7253151979863599,
           0.7410987327354476,
           0.7448335997699661,
           0.7368940972034392,
           0.7177782724501541,
           0.6880870057188699,
           0.648505742110022,
           0.5997888723164172,
           0.5427467619274239,
           0.47823542933665436,
           0.4071488722531414,
           0.33041404281600795,
           0.24898847131262955,
           0.16386053850029167,
           0.07605239653133902,
           -0.013374461518184829,
           -0.10331098351639473,
           -0.1925896915399392,
           -0.27997116653487775,
           -0.36412788437406024,
           -0.44362540331102224,
           -0.5169009028303788,
           -0.5822390738947306,
           -0.6377453605880702,
           -0.6813165531557044,
           -0.7106087324406728,
           -0.7230025657166841
          ],
          [
           -0.2967513483728778,
           -0.22005114021235633,
           -0.13289733435561119,
           -0.03972809516370017,
           0.05566538425402712,
           0.15008267974200773,
           0.2408605824040595,
           0.32582219351245234,
           0.4032286680204789,
           0.4717336066785186,
           0.5303400967535935,
           0.5783604013524193,
           0.6153782973479474,
           0.6412140619094027,
           0.6558921076358123,
           0.6596112662930311,
           0.6527177211542553,
           0.6356805879440355,
           0.6090701443857779,
           0.5735387083527416,
           0.5298041646225289,
           0.4786361402350693,
           0.4208448284540949,
           0.35727246133211077,
           0.28878743087885916,
           0.2162810588332749,
           0.14066701503893755,
           0.06288338442301222,
           -0.016102617421312058,
           -0.09528728004889275,
           -0.1736203853732094,
           -0.24999254627344894,
           -0.323219896598093,
           -0.3920261325650172,
           -0.45502190555809113,
           -0.5106815663202922,
           -0.5573172605433215,
           -0.5930503758537187,
           -0.6157803401955037,
           -0.6231507716093119
          ],
          [
           -0.24078580162570315,
           -0.18658841460964304,
           -0.11989095883604553,
           -0.045226641246939855,
           0.033527771113606344,
           0.11309489485536448,
           0.19074232260133392,
           0.2642308639506035,
           0.33176543504471767,
           0.3919485967375351,
           0.44373674136857777,
           0.48639892813987456,
           0.5194783670962996,
           0.5427565517094013,
           0.5562200400647267,
           0.5600298846526404,
           0.5544937107626311,
           0.5400404434811192,
           0.5171976832927525,
           0.48657173028519607,
           0.44883025695741735,
           0.40468762963146215,
           0.354892878467726,
           0.30022031608371796,
           0.24146280477631774,
           0.17942767234752557,
           0.1149352765337067,
           0.048820218038329345,
           -0.018064797831806027,
           -0.0848424509268434,
           -0.15060164741065002,
           -0.21438571231411266,
           -0.2751779334849252,
           -0.33188445693389995,
           -0.38331453357777195,
           -0.42815811737851395,
           -0.4649608148791624,
           -0.4920961861361474,
           -0.5077353970481242,
           -0.5098142230813218
          ],
          [
           -0.17448919432000115,
           -0.14636222040748892,
           -0.10340063680834083,
           -0.050233278892093704,
           0.009176110710925011,
           0.07147097191926462,
           0.13384666561353625,
           0.19399786065306604,
           0.25006856949605566,
           0.3006048324232362,
           0.3445100503650086,
           0.38100296633208375,
           0.40957829544961233,
           0.42997000359480925,
           0.4421172346380711,
           0.4461328862875878,
           0.44227483453744626,
           0.4309198067192282,
           0.4125399031571011,
           0.38768176742640265,
           0.35694840521571847,
           0.3209836517924524,
           0.28045928807189197,
           0.23606480528976542,
           0.18849981827829262,
           0.1384691273457291,
           0.08668042875940597,
           0.033844673832257005,
           -0.01932092338715293,
           -0.07208722982111446,
           -0.12370488846575468,
           -0.173393364890547,
           -0.22032734513429658,
           -0.2636204849976617,
           -0.3023065107321629,
           -0.3353176711257081,
           -0.36146054098462554,
           -0.3793891760121843,
           -0.3875756190836538,
           -0.3842777579178456
          ],
          [
           -0.09752542224167787,
           -0.09910591356706112,
           -0.08321889856014725,
           -0.054590175032823506,
           -0.017272611021538774,
           0.025295091076164764,
           0.07023227896862322,
           0.11516288354050282,
           0.15816460052675377,
           0.19772072079005562,
           0.23267460920175448,
           0.2621868321262939,
           0.28569493350914166,
           0.30287585956820495,
           0.3136110320887447,
           0.31795407032177814,
           0.3161011614859781,
           0.3083640798730643,
           0.29514585455668746,
           0.27691908570480883,
           0.2542069094955702,
           0.2275666116366591,
           0.19757588948816812,
           0.1648217627889443,
           0.12989213298643595,
           0.09336999117002898,
           0.05583027460788093,
           0.017839371887242654,
           -0.020042723341720255,
           -0.05725761001861921,
           -0.09324102872203442,
           -0.1274127621152209,
           -0.15916388678831145,
           -0.1878413764970363,
           -0.2127300567979437,
           -0.23303191108012453,
           -0.2478427379934588,
           -0.2561261602733402,
           -0.2566849849619375,
           -0.2481299150259506
          ],
          [
           -0.009633184361012202,
           -0.044618980922697185,
           -0.05919653169587749,
           -0.05819067911795551,
           -0.045746314619673795,
           -0.025387996707855562,
           -0.00007692044463851293,
           0.02773476167677074,
           0.05605226745984548,
           0.08328916133597573,
           0.10822097929920214,
           0.1299415024444382,
           0.14782167910919175,
           0.16147119561877482,
           0.17070269563500995,
           0.17549864810842877,
           0.17598086383396316,
           0.17238266061013147,
           0.1650236770017164,
           0.15428733470593742,
           0.14060094952211546,
           0.12441849092483237,
           0.10620599024058225,
           0.08642959742791713,
           0.06554628646108497,
           0.04399720931716176,
           0.022203698566678656,
           0.000565918567738322,
           -0.020535834736372917,
           -0.040737185416079284,
           -0.05968308055091323,
           -0.07701854462143326,
           -0.09237678529762304,
           -0.10536465062383206,
           -0.11554543760018676,
           -0.12241905216053225,
           -0.12539952054687808,
           -0.12378985208033333,
           -0.11675425332856937,
           -0.1032876936697964
          ]
         ]
        }
       ],
       "layout": {
        "legend": {
         "tracegroupgap": 0
        },
        "margin": {
         "t": 60
        },
        "scene": {
         "domain": {
          "x": [
           0,
           1
          ],
          "y": [
           0,
           1
          ]
         },
         "xaxis": {
          "title": {
           "text": "x"
          }
         },
         "yaxis": {
          "title": {
           "text": "y"
          }
         },
         "zaxis": {
          "title": {
           "text": "z"
          }
         }
        },
        "template": {
         "data": {
          "bar": [
           {
            "error_x": {
             "color": "#2a3f5f"
            },
            "error_y": {
             "color": "#2a3f5f"
            },
            "marker": {
             "line": {
              "color": "#E5ECF6",
              "width": 0.5
             },
             "pattern": {
              "fillmode": "overlay",
              "size": 10,
              "solidity": 0.2
             }
            },
            "type": "bar"
           }
          ],
          "barpolar": [
           {
            "marker": {
             "line": {
              "color": "#E5ECF6",
              "width": 0.5
             },
             "pattern": {
              "fillmode": "overlay",
              "size": 10,
              "solidity": 0.2
             }
            },
            "type": "barpolar"
           }
          ],
          "carpet": [
           {
            "aaxis": {
             "endlinecolor": "#2a3f5f",
             "gridcolor": "white",
             "linecolor": "white",
             "minorgridcolor": "white",
             "startlinecolor": "#2a3f5f"
            },
            "baxis": {
             "endlinecolor": "#2a3f5f",
             "gridcolor": "white",
             "linecolor": "white",
             "minorgridcolor": "white",
             "startlinecolor": "#2a3f5f"
            },
            "type": "carpet"
           }
          ],
          "choropleth": [
           {
            "colorbar": {
             "outlinewidth": 0,
             "ticks": ""
            },
            "type": "choropleth"
           }
          ],
          "contour": [
           {
            "colorbar": {
             "outlinewidth": 0,
             "ticks": ""
            },
            "colorscale": [
             [
              0,
              "#0d0887"
             ],
             [
              0.1111111111111111,
              "#46039f"
             ],
             [
              0.2222222222222222,
              "#7201a8"
             ],
             [
              0.3333333333333333,
              "#9c179e"
             ],
             [
              0.4444444444444444,
              "#bd3786"
             ],
             [
              0.5555555555555556,
              "#d8576b"
             ],
             [
              0.6666666666666666,
              "#ed7953"
             ],
             [
              0.7777777777777778,
              "#fb9f3a"
             ],
             [
              0.8888888888888888,
              "#fdca26"
             ],
             [
              1,
              "#f0f921"
             ]
            ],
            "type": "contour"
           }
          ],
          "contourcarpet": [
           {
            "colorbar": {
             "outlinewidth": 0,
             "ticks": ""
            },
            "type": "contourcarpet"
           }
          ],
          "heatmap": [
           {
            "colorbar": {
             "outlinewidth": 0,
             "ticks": ""
            },
            "colorscale": [
             [
              0,
              "#0d0887"
             ],
             [
              0.1111111111111111,
              "#46039f"
             ],
             [
              0.2222222222222222,
              "#7201a8"
             ],
             [
              0.3333333333333333,
              "#9c179e"
             ],
             [
              0.4444444444444444,
              "#bd3786"
             ],
             [
              0.5555555555555556,
              "#d8576b"
             ],
             [
              0.6666666666666666,
              "#ed7953"
             ],
             [
              0.7777777777777778,
              "#fb9f3a"
             ],
             [
              0.8888888888888888,
              "#fdca26"
             ],
             [
              1,
              "#f0f921"
             ]
            ],
            "type": "heatmap"
           }
          ],
          "heatmapgl": [
           {
            "colorbar": {
             "outlinewidth": 0,
             "ticks": ""
            },
            "colorscale": [
             [
              0,
              "#0d0887"
             ],
             [
              0.1111111111111111,
              "#46039f"
             ],
             [
              0.2222222222222222,
              "#7201a8"
             ],
             [
              0.3333333333333333,
              "#9c179e"
             ],
             [
              0.4444444444444444,
              "#bd3786"
             ],
             [
              0.5555555555555556,
              "#d8576b"
             ],
             [
              0.6666666666666666,
              "#ed7953"
             ],
             [
              0.7777777777777778,
              "#fb9f3a"
             ],
             [
              0.8888888888888888,
              "#fdca26"
             ],
             [
              1,
              "#f0f921"
             ]
            ],
            "type": "heatmapgl"
           }
          ],
          "histogram": [
           {
            "marker": {
             "pattern": {
              "fillmode": "overlay",
              "size": 10,
              "solidity": 0.2
             }
            },
            "type": "histogram"
           }
          ],
          "histogram2d": [
           {
            "colorbar": {
             "outlinewidth": 0,
             "ticks": ""
            },
            "colorscale": [
             [
              0,
              "#0d0887"
             ],
             [
              0.1111111111111111,
              "#46039f"
             ],
             [
              0.2222222222222222,
              "#7201a8"
             ],
             [
              0.3333333333333333,
              "#9c179e"
             ],
             [
              0.4444444444444444,
              "#bd3786"
             ],
             [
              0.5555555555555556,
              "#d8576b"
             ],
             [
              0.6666666666666666,
              "#ed7953"
             ],
             [
              0.7777777777777778,
              "#fb9f3a"
             ],
             [
              0.8888888888888888,
              "#fdca26"
             ],
             [
              1,
              "#f0f921"
             ]
            ],
            "type": "histogram2d"
           }
          ],
          "histogram2dcontour": [
           {
            "colorbar": {
             "outlinewidth": 0,
             "ticks": ""
            },
            "colorscale": [
             [
              0,
              "#0d0887"
             ],
             [
              0.1111111111111111,
              "#46039f"
             ],
             [
              0.2222222222222222,
              "#7201a8"
             ],
             [
              0.3333333333333333,
              "#9c179e"
             ],
             [
              0.4444444444444444,
              "#bd3786"
             ],
             [
              0.5555555555555556,
              "#d8576b"
             ],
             [
              0.6666666666666666,
              "#ed7953"
             ],
             [
              0.7777777777777778,
              "#fb9f3a"
             ],
             [
              0.8888888888888888,
              "#fdca26"
             ],
             [
              1,
              "#f0f921"
             ]
            ],
            "type": "histogram2dcontour"
           }
          ],
          "mesh3d": [
           {
            "colorbar": {
             "outlinewidth": 0,
             "ticks": ""
            },
            "type": "mesh3d"
           }
          ],
          "parcoords": [
           {
            "line": {
             "colorbar": {
              "outlinewidth": 0,
              "ticks": ""
             }
            },
            "type": "parcoords"
           }
          ],
          "pie": [
           {
            "automargin": true,
            "type": "pie"
           }
          ],
          "scatter": [
           {
            "fillpattern": {
             "fillmode": "overlay",
             "size": 10,
             "solidity": 0.2
            },
            "type": "scatter"
           }
          ],
          "scatter3d": [
           {
            "line": {
             "colorbar": {
              "outlinewidth": 0,
              "ticks": ""
             }
            },
            "marker": {
             "colorbar": {
              "outlinewidth": 0,
              "ticks": ""
             }
            },
            "type": "scatter3d"
           }
          ],
          "scattercarpet": [
           {
            "marker": {
             "colorbar": {
              "outlinewidth": 0,
              "ticks": ""
             }
            },
            "type": "scattercarpet"
           }
          ],
          "scattergeo": [
           {
            "marker": {
             "colorbar": {
              "outlinewidth": 0,
              "ticks": ""
             }
            },
            "type": "scattergeo"
           }
          ],
          "scattergl": [
           {
            "marker": {
             "colorbar": {
              "outlinewidth": 0,
              "ticks": ""
             }
            },
            "type": "scattergl"
           }
          ],
          "scattermapbox": [
           {
            "marker": {
             "colorbar": {
              "outlinewidth": 0,
              "ticks": ""
             }
            },
            "type": "scattermapbox"
           }
          ],
          "scatterpolar": [
           {
            "marker": {
             "colorbar": {
              "outlinewidth": 0,
              "ticks": ""
             }
            },
            "type": "scatterpolar"
           }
          ],
          "scatterpolargl": [
           {
            "marker": {
             "colorbar": {
              "outlinewidth": 0,
              "ticks": ""
             }
            },
            "type": "scatterpolargl"
           }
          ],
          "scatterternary": [
           {
            "marker": {
             "colorbar": {
              "outlinewidth": 0,
              "ticks": ""
             }
            },
            "type": "scatterternary"
           }
          ],
          "surface": [
           {
            "colorbar": {
             "outlinewidth": 0,
             "ticks": ""
            },
            "colorscale": [
             [
              0,
              "#0d0887"
             ],
             [
              0.1111111111111111,
              "#46039f"
             ],
             [
              0.2222222222222222,
              "#7201a8"
             ],
             [
              0.3333333333333333,
              "#9c179e"
             ],
             [
              0.4444444444444444,
              "#bd3786"
             ],
             [
              0.5555555555555556,
              "#d8576b"
             ],
             [
              0.6666666666666666,
              "#ed7953"
             ],
             [
              0.7777777777777778,
              "#fb9f3a"
             ],
             [
              0.8888888888888888,
              "#fdca26"
             ],
             [
              1,
              "#f0f921"
             ]
            ],
            "type": "surface"
           }
          ],
          "table": [
           {
            "cells": {
             "fill": {
              "color": "#EBF0F8"
             },
             "line": {
              "color": "white"
             }
            },
            "header": {
             "fill": {
              "color": "#C8D4E3"
             },
             "line": {
              "color": "white"
             }
            },
            "type": "table"
           }
          ]
         },
         "layout": {
          "annotationdefaults": {
           "arrowcolor": "#2a3f5f",
           "arrowhead": 0,
           "arrowwidth": 1
          },
          "autotypenumbers": "strict",
          "coloraxis": {
           "colorbar": {
            "outlinewidth": 0,
            "ticks": ""
           }
          },
          "colorscale": {
           "diverging": [
            [
             0,
             "#8e0152"
            ],
            [
             0.1,
             "#c51b7d"
            ],
            [
             0.2,
             "#de77ae"
            ],
            [
             0.3,
             "#f1b6da"
            ],
            [
             0.4,
             "#fde0ef"
            ],
            [
             0.5,
             "#f7f7f7"
            ],
            [
             0.6,
             "#e6f5d0"
            ],
            [
             0.7,
             "#b8e186"
            ],
            [
             0.8,
             "#7fbc41"
            ],
            [
             0.9,
             "#4d9221"
            ],
            [
             1,
             "#276419"
            ]
           ],
           "sequential": [
            [
             0,
             "#0d0887"
            ],
            [
             0.1111111111111111,
             "#46039f"
            ],
            [
             0.2222222222222222,
             "#7201a8"
            ],
            [
             0.3333333333333333,
             "#9c179e"
            ],
            [
             0.4444444444444444,
             "#bd3786"
            ],
            [
             0.5555555555555556,
             "#d8576b"
            ],
            [
             0.6666666666666666,
             "#ed7953"
            ],
            [
             0.7777777777777778,
             "#fb9f3a"
            ],
            [
             0.8888888888888888,
             "#fdca26"
            ],
            [
             1,
             "#f0f921"
            ]
           ],
           "sequentialminus": [
            [
             0,
             "#0d0887"
            ],
            [
             0.1111111111111111,
             "#46039f"
            ],
            [
             0.2222222222222222,
             "#7201a8"
            ],
            [
             0.3333333333333333,
             "#9c179e"
            ],
            [
             0.4444444444444444,
             "#bd3786"
            ],
            [
             0.5555555555555556,
             "#d8576b"
            ],
            [
             0.6666666666666666,
             "#ed7953"
            ],
            [
             0.7777777777777778,
             "#fb9f3a"
            ],
            [
             0.8888888888888888,
             "#fdca26"
            ],
            [
             1,
             "#f0f921"
            ]
           ]
          },
          "colorway": [
           "#636efa",
           "#EF553B",
           "#00cc96",
           "#ab63fa",
           "#FFA15A",
           "#19d3f3",
           "#FF6692",
           "#B6E880",
           "#FF97FF",
           "#FECB52"
          ],
          "font": {
           "color": "#2a3f5f"
          },
          "geo": {
           "bgcolor": "white",
           "lakecolor": "white",
           "landcolor": "#E5ECF6",
           "showlakes": true,
           "showland": true,
           "subunitcolor": "white"
          },
          "hoverlabel": {
           "align": "left"
          },
          "hovermode": "closest",
          "mapbox": {
           "style": "light"
          },
          "paper_bgcolor": "white",
          "plot_bgcolor": "#E5ECF6",
          "polar": {
           "angularaxis": {
            "gridcolor": "white",
            "linecolor": "white",
            "ticks": ""
           },
           "bgcolor": "#E5ECF6",
           "radialaxis": {
            "gridcolor": "white",
            "linecolor": "white",
            "ticks": ""
           }
          },
          "scene": {
           "xaxis": {
            "backgroundcolor": "#E5ECF6",
            "gridcolor": "white",
            "gridwidth": 2,
            "linecolor": "white",
            "showbackground": true,
            "ticks": "",
            "zerolinecolor": "white"
           },
           "yaxis": {
            "backgroundcolor": "#E5ECF6",
            "gridcolor": "white",
            "gridwidth": 2,
            "linecolor": "white",
            "showbackground": true,
            "ticks": "",
            "zerolinecolor": "white"
           },
           "zaxis": {
            "backgroundcolor": "#E5ECF6",
            "gridcolor": "white",
            "gridwidth": 2,
            "linecolor": "white",
            "showbackground": true,
            "ticks": "",
            "zerolinecolor": "white"
           }
          },
          "shapedefaults": {
           "line": {
            "color": "#2a3f5f"
           }
          },
          "ternary": {
           "aaxis": {
            "gridcolor": "white",
            "linecolor": "white",
            "ticks": ""
           },
           "baxis": {
            "gridcolor": "white",
            "linecolor": "white",
            "ticks": ""
           },
           "bgcolor": "#E5ECF6",
           "caxis": {
            "gridcolor": "white",
            "linecolor": "white",
            "ticks": ""
           }
          },
          "title": {
           "x": 0.05
          },
          "xaxis": {
           "automargin": true,
           "gridcolor": "white",
           "linecolor": "white",
           "ticks": "",
           "title": {
            "standoff": 15
           },
           "zerolinecolor": "white",
           "zerolinewidth": 2
          },
          "yaxis": {
           "automargin": true,
           "gridcolor": "white",
           "linecolor": "white",
           "ticks": "",
           "title": {
            "standoff": 15
           },
           "zerolinecolor": "white",
           "zerolinewidth": 2
          }
         }
        }
       }
      }
     },
     "metadata": {},
     "output_type": "display_data"
    }
   ],
   "source": [
    "def f_n(x, y):\n",
    "    return np.cos(x) * np.sin(y)\n",
    "\n",
    "\n",
    "x, y, z, p = get_xyzpdata(-2, 3, 10, -2, 3, 10, 0, 1, f_n)\n",
    "\n",
    "func = LeastSquare2D(x, y, z, p, 6)\n",
    "\n",
    "x_pred = np.linspace(min(x), max(x), 40)\n",
    "y_pred = np.linspace(min(y), max(y), 40)\n",
    "z_graph = [[func(xi, yi) for xi in x_pred] for yi in y_pred]\n",
    "\n",
    "fig = px.scatter_3d(x=x, y=y, z=z)\n",
    "fig.add_trace(go.Surface(x=x_pred, y=y_pred, z=z_graph))\n",
    "fig.show()"
   ]
  },
  {
   "cell_type": "code",
   "execution_count": 10,
   "metadata": {},
   "outputs": [
    {
     "name": "stdout",
     "output_type": "stream",
     "text": [
      "235.950360  518.757859  |  -145.601852\n",
      "518.757859  1573.566859  |  -451.591792\n",
      "solution:\n",
      "  0.050429   -0.303611  \n",
      "\n",
      "235.950360  518.757859  1431.394047  |  -145.601852\n",
      "518.757859  1573.566859  3872.632609  |  -451.591792\n",
      "1431.394047  3872.632609  10340.187560  |  -1033.028549\n",
      "solution:\n",
      " -0.330927   -0.571809    0.160061  \n",
      "\n",
      "deg 2:\n",
      "1.000000  0.050429  -0.303611  \n",
      "deg 3:\n",
      "1.000000  -0.330927  -0.571809  0.160061  \n"
     ]
    },
    {
     "data": {
      "application/vnd.plotly.v1+json": {
       "config": {
        "plotlyServerURL": "https://plot.ly"
       },
       "data": [
        {
         "hovertemplate": "<extra></extra>",
         "legendgroup": "",
         "line": {
          "color": "#636efa",
          "dash": "solid"
         },
         "marker": {
          "symbol": "circle"
         },
         "mode": "lines",
         "name": "",
         "orientation": "v",
         "showlegend": false,
         "type": "scatter",
         "xaxis": "x",
         "yaxis": "y"
        },
        {
         "name": "решение",
         "type": "scatter",
         "x": [
          -0.5,
          -0.47474747474747475,
          -0.4494949494949495,
          -0.42424242424242425,
          -0.398989898989899,
          -0.3737373737373737,
          -0.3484848484848485,
          -0.3232323232323232,
          -0.297979797979798,
          -0.2727272727272727,
          -0.24747474747474746,
          -0.2222222222222222,
          -0.19696969696969696,
          -0.1717171717171717,
          -0.14646464646464646,
          -0.12121212121212122,
          -0.09595959595959597,
          -0.07070707070707072,
          -0.04545454545454547,
          -0.02020202020202022,
          0.005050505050505083,
          0.030303030303030276,
          0.05555555555555558,
          0.08080808080808077,
          0.10606060606060608,
          0.13131313131313127,
          0.15656565656565657,
          0.18181818181818177,
          0.20707070707070707,
          0.23232323232323226,
          0.25757575757575757,
          0.28282828282828276,
          0.30808080808080807,
          0.33333333333333337,
          0.35858585858585856,
          0.38383838383838387,
          0.40909090909090906,
          0.43434343434343436,
          0.45959595959595956,
          0.48484848484848486,
          0.5101010101010102,
          0.5353535353535352,
          0.5606060606060606,
          0.5858585858585859,
          0.6111111111111112,
          0.6363636363636362,
          0.6616161616161615,
          0.6868686868686869,
          0.7121212121212122,
          0.7373737373737375,
          0.7626262626262625,
          0.7878787878787878,
          0.8131313131313131,
          0.8383838383838385,
          0.8636363636363635,
          0.8888888888888888,
          0.9141414141414141,
          0.9393939393939394,
          0.9646464646464645,
          0.9898989898989898,
          1.0151515151515151,
          1.0404040404040404,
          1.0656565656565655,
          1.0909090909090908,
          1.1161616161616161,
          1.1414141414141414,
          1.1666666666666667,
          1.1919191919191918,
          1.2171717171717171,
          1.2424242424242424,
          1.2676767676767677,
          1.2929292929292928,
          1.3181818181818181,
          1.3434343434343434,
          1.3686868686868687,
          1.3939393939393938,
          1.4191919191919191,
          1.4444444444444444,
          1.4696969696969697,
          1.4949494949494948,
          1.5202020202020203,
          1.5454545454545454,
          1.5707070707070705,
          1.595959595959596,
          1.621212121212121,
          1.6464646464646466,
          1.6717171717171717,
          1.6969696969696968,
          1.7222222222222223,
          1.7474747474747474,
          1.7727272727272725,
          1.797979797979798,
          1.823232323232323,
          1.8484848484848486,
          1.8737373737373737,
          1.8989898989898988,
          1.9242424242424243,
          1.9494949494949494,
          1.974747474747475,
          2
         ],
         "y": [
          1.402887609373522,
          1.395387318617024,
          1.3862924743945801,
          1.3756284125202072,
          1.3634237759840764,
          1.3497104782008824,
          1.3345236553849606,
          1.317901608121649,
          1.2998857322534658,
          1.2805204392487497,
          1.2598530662689524,
          1.2379337761987048,
          1.2148154479497184,
          1.1905535573952342,
          1.1652060493359175,
          1.1388332009404543,
          1.1114974771444222,
          1.0832633785290877,
          1.0541972822372774,
          1.0243672765163185,
          0.9938429895079081,
          0.9626954129315783,
          0.930996721331943,
          0.898820087580062,
          0.8662394953358464,
          0.8333295491914859,
          0.8001652832251539,
          0.7668219686998782,
          0.7333749216443036,
          0.6998993110501337,
          0.6664699684154417,
          0.6331611993536717,
          0.6000465979752191,
          0.5671988647320418,
          0.5346896283958407,
          0.5025892728172315,
          0.47096676908708535,
          0.43988951369197443,
          0.40942317322375654,
          0.37963153616880907,
          0.35057637226562205,
          0.3223172998805609,
          0.29491166181085204,
          0.2684144098815182,
          0.24287799865933846,
          0.21835228856214853,
          0.19488445859631073,
          0.17251892890911238,
          0.15129729329656075,
          0.13125826176075556,
          0.11243761316501058,
          0.09486815798939989,
          0.0785797111447421,
          0.06359907475932226,
          0.049950030810269296,
          0.03765334343050647,
          0.026726770682970913,
          0.017185085556314646,
          0.009040105900963148,
          0.0023007329911827034,
          -0.0030270016320268532,
          -0.006939881410852779,
          -0.009437442512837848,
          -0.010521904487996041,
          -0.01019809428405749,
          -0.008473364080773609,
          -0.0053575034191846085,
          -0.0008626461139362834,
          0.004996827553912366,
          0.012204392859487972,
          0.020741486364149554,
          0.030587614843751283,
          0.0417204669072827,
          0.05411602680189,
          0.06774868990656557,
          0.08259137942537316,
          0.09861566380181148,
          0.11579187438870223,
          0.13408922292270273,
          0.15347591836896765,
          0.1739192827195431,
          0.19538586534856883,
          0.21784155554813628,
          0.24125169289055476,
          0.2655811750855979,
          0.2907945630249879,
          0.31685618273058325,
          0.34373022394751473,
          0.37138083514852616,
          0.3997722147409758,
          0.42886869829315966,
          0.4586348416216881,
          0.48903549960643194,
          0.5200359006239837,
          0.5516017165144261,
          0.5836991280194974,
          0.616294885652736,
          0.6493563659839088,
          0.6828516233408369,
          0.7167494369514852
         ]
        },
        {
         "name": "n = 2",
         "type": "scatter",
         "x": [
          -0.5,
          -0.47474747474747475,
          -0.4494949494949495,
          -0.42424242424242425,
          -0.398989898989899,
          -0.3737373737373737,
          -0.3484848484848485,
          -0.3232323232323232,
          -0.297979797979798,
          -0.2727272727272727,
          -0.24747474747474746,
          -0.2222222222222222,
          -0.19696969696969696,
          -0.1717171717171717,
          -0.14646464646464646,
          -0.12121212121212122,
          -0.09595959595959597,
          -0.07070707070707072,
          -0.04545454545454547,
          -0.02020202020202022,
          0.005050505050505083,
          0.030303030303030276,
          0.05555555555555558,
          0.08080808080808077,
          0.10606060606060608,
          0.13131313131313127,
          0.15656565656565657,
          0.18181818181818177,
          0.20707070707070707,
          0.23232323232323226,
          0.25757575757575757,
          0.28282828282828276,
          0.30808080808080807,
          0.33333333333333337,
          0.35858585858585856,
          0.38383838383838387,
          0.40909090909090906,
          0.43434343434343436,
          0.45959595959595956,
          0.48484848484848486,
          0.5101010101010102,
          0.5353535353535352,
          0.5606060606060606,
          0.5858585858585859,
          0.6111111111111112,
          0.6363636363636362,
          0.6616161616161615,
          0.6868686868686869,
          0.7121212121212122,
          0.7373737373737375,
          0.7626262626262625,
          0.7878787878787878,
          0.8131313131313131,
          0.8383838383838385,
          0.8636363636363635,
          0.8888888888888888,
          0.9141414141414141,
          0.9393939393939394,
          0.9646464646464645,
          0.9898989898989898,
          1.0151515151515151,
          1.0404040404040404,
          1.0656565656565655,
          1.0909090909090908,
          1.1161616161616161,
          1.1414141414141414,
          1.1666666666666667,
          1.1919191919191918,
          1.2171717171717171,
          1.2424242424242424,
          1.2676767676767677,
          1.2929292929292928,
          1.3181818181818181,
          1.3434343434343434,
          1.3686868686868687,
          1.3939393939393938,
          1.4191919191919191,
          1.4444444444444444,
          1.4696969696969697,
          1.4949494949494948,
          1.5202020202020203,
          1.5454545454545454,
          1.5707070707070705,
          1.595959595959596,
          1.621212121212121,
          1.6464646464646466,
          1.6717171717171717,
          1.6969696969696968,
          1.7222222222222223,
          1.7474747474747474,
          1.7727272727272725,
          1.797979797979798,
          1.823232323232323,
          1.8484848484848486,
          1.8737373737373737,
          1.8989898989898988,
          1.9242424242424243,
          1.9494949494949494,
          1.974747474747475,
          2
         ],
         "y": [
          1.3483240127474225,
          1.3385242747087291,
          1.3277215064641696,
          1.3159450428234127,
          1.3032242185961262,
          1.2895883685919787,
          1.2750668276206387,
          1.2596889304917742,
          1.2434840120150543,
          1.2264814070001466,
          1.20871045025672,
          1.1902004765944427,
          1.170980820822983,
          1.1510808177520093,
          1.13052980219119,
          1.1093571089501935,
          1.0875920728386883,
          1.0652640286663424,
          1.0424023112428245,
          1.019036255377803,
          0.9951951958809458,
          0.970908467561922,
          0.9462054052303993,
          0.9211153436960465,
          0.8956676177685318,
          0.8698915622575237,
          0.8438165119726904,
          0.8174718017237005,
          0.790886766320222,
          0.7640907405719237,
          0.7371130592884737,
          0.7099830572795406,
          0.6827300693547924,
          0.6553834303238978,
          0.6279724749965252,
          0.6005265381823427,
          0.5730749546910189,
          0.545647059332222,
          0.5182721869156207,
          0.4909796722508829,
          0.4637988501476773,
          0.4367590554156724,
          0.4098896228645361,
          0.3832198873039371,
          0.35677918354354365,
          0.33059684639302445,
          0.3047022106620474,
          0.2791246111602811,
          0.25389338269739387,
          0.22903786008305413,
          0.20458737812693048,
          0.18057127163869083,
          0.1570188754280038,
          0.13395952430453775,
          0.11142255307796126,
          0.08943729655794228,
          0.0680330895541494,
          0.04723926687625101,
          0.027085163333915634,
          0.007600113736811307,
          -0.011186547105393425,
          -0.029245484383030186,
          -0.04654736328643046,
          -0.06306284900592617,
          -0.07876260673184877,
          -0.09361730165452992,
          -0.10759759896430121,
          -0.12067416385149422,
          -0.13281766150644073,
          -0.14399875711947227,
          -0.15418811588092046,
          -0.16335640298111692,
          -0.17147428361039338,
          -0.17851242295908132,
          -0.1844414862175125,
          -0.1892321385760184,
          -0.19285504522493077,
          -0.1952808713545812,
          -0.19648028215530133,
          -0.1964239428174227,
          -0.195082518531277,
          -0.19242667448719591,
          -0.188427075875511,
          -0.18305438788655387,
          -0.17627927571065627,
          -0.16807240453814953,
          -0.15840443955936567,
          -0.1472460459646362,
          -0.1345678889442924,
          -0.12034063368866643,
          -0.1045349453880895,
          -0.08712148923289331,
          -0.06807093041340984,
          -0.04735393411996991,
          -0.024941165542906263,
          -0.0008032898725499615,
          0.02508902770076782,
          0.05276512198671446,
          0.08225432779495989,
          0.11358597993517061
         ]
        },
        {
         "name": "n = 3",
         "type": "scatter",
         "x": [
          -0.5,
          -0.47474747474747475,
          -0.4494949494949495,
          -0.42424242424242425,
          -0.398989898989899,
          -0.3737373737373737,
          -0.3484848484848485,
          -0.3232323232323232,
          -0.297979797979798,
          -0.2727272727272727,
          -0.24747474747474746,
          -0.2222222222222222,
          -0.19696969696969696,
          -0.1717171717171717,
          -0.14646464646464646,
          -0.12121212121212122,
          -0.09595959595959597,
          -0.07070707070707072,
          -0.04545454545454547,
          -0.02020202020202022,
          0.005050505050505083,
          0.030303030303030276,
          0.05555555555555558,
          0.08080808080808077,
          0.10606060606060608,
          0.13131313131313127,
          0.15656565656565657,
          0.18181818181818177,
          0.20707070707070707,
          0.23232323232323226,
          0.25757575757575757,
          0.28282828282828276,
          0.30808080808080807,
          0.33333333333333337,
          0.35858585858585856,
          0.38383838383838387,
          0.40909090909090906,
          0.43434343434343436,
          0.45959595959595956,
          0.48484848484848486,
          0.5101010101010102,
          0.5353535353535352,
          0.5606060606060606,
          0.5858585858585859,
          0.6111111111111112,
          0.6363636363636362,
          0.6616161616161615,
          0.6868686868686869,
          0.7121212121212122,
          0.7373737373737375,
          0.7626262626262625,
          0.7878787878787878,
          0.8131313131313131,
          0.8383838383838385,
          0.8636363636363635,
          0.8888888888888888,
          0.9141414141414141,
          0.9393939393939394,
          0.9646464646464645,
          0.9898989898989898,
          1.0151515151515151,
          1.0404040404040404,
          1.0656565656565655,
          1.0909090909090908,
          1.1161616161616161,
          1.1414141414141414,
          1.1666666666666667,
          1.1919191919191918,
          1.2171717171717171,
          1.2424242424242424,
          1.2676767676767677,
          1.2929292929292928,
          1.3181818181818181,
          1.3434343434343434,
          1.3686868686868687,
          1.3939393939393938,
          1.4191919191919191,
          1.4444444444444444,
          1.4696969696969697,
          1.4949494949494948,
          1.5202020202020203,
          1.5454545454545454,
          1.5707070707070705,
          1.595959595959596,
          1.621212121212121,
          1.6464646464646466,
          1.6717171717171717,
          1.6969696969696968,
          1.7222222222222223,
          1.7474747474747474,
          1.7727272727272725,
          1.797979797979798,
          1.823232323232323,
          1.8484848484848486,
          1.8737373737373737,
          1.8989898989898988,
          1.9242424242424243,
          1.9494949494949494,
          1.974747474747475,
          2
         ],
         "y": [
          1.5037550795469528,
          1.491120967061368,
          1.4765740427680383,
          1.4602136066881297,
          1.4421373967144797,
          1.422441588611596,
          1.4012207960156582,
          1.3785680704345156,
          1.3545749012476904,
          1.329331215706374,
          1.3029253789334294,
          1.2754441939233911,
          1.2469729015424638,
          1.2175951805285237,
          1.1873931474911175,
          1.1564473569114633,
          1.1248368011424503,
          1.0926389104086383,
          1.0599295528062582,
          1.026783034303212,
          0.9932720987390722,
          0.9594679278250833,
          0.9254401411441597,
          0.8912567961508876,
          0.8569843881715236,
          0.8226878504039955,
          0.7884305539179022,
          0.7542743076545135,
          0.72027935842677,
          0.6865043909192838,
          0.6530065276883372,
          0.6198413291618843,
          0.5870627936395495,
          0.5547233572926286,
          0.5228738941640885,
          0.4915637161685663,
          0.46084057309237125,
          0.43075065259348255,
          0.4013385802015511,
          0.37264741931789824,
          0.34471867121551664,
          0.31759227503907,
          0.29130660780489254,
          0.26589848440098995,
          0.24140315758703876,
          0.21785431799438665,
          0.19528409412605163,
          0.17372305235672345,
          0.15320019693276254,
          0.13374296997220028,
          0.11537725146473926,
          0.09812735927175253,
          0.08201604912628467,
          0.067064514633051,
          0.053292387268438005,
          0.04071773638050273,
          0.02935706918897365,
          0.019225330785250037,
          0.010335904132402256,
          0.002700610065171395,
          -0.0036702927100302103,
          -0.008768107615119328,
          -0.012585700200341728,
          -0.015117498144272282,
          -0.01635949125381475,
          -0.01630923146420199,
          -0.014965832838995885,
          -0.012329971570087306,
          -0.00840388597769609,
          -0.0031913765103711023,
          0.0033021942550096606,
          0.011069901613239175,
          0.02010325873078156,
          0.030392216645772185,
          0.04192516426801651,
          0.05468892837899164,
          0.06866877363184598,
          0.08384840255139803,
          0.10020995553413803,
          0.11773401084822666,
          0.13639958463349633,
          0.15618413090144923,
          0.1770635415352595,
          0.19901214628977248,
          0.22200271279150352,
          0.2460064465386398,
          0.2709929909010387,
          0.2969304271202289,
          0.3237852743094112,
          0.3515224894534552,
          0.38010546740890305,
          0.4094960409039681,
          0.4396544805385334,
          0.47053949478415413,
          0.5021082299840551,
          0.5343162703531332,
          0.5671176379779572,
          0.6004647928167648,
          0.6343086326994662,
          0.668598493327641
         ]
        }
       ],
       "layout": {
        "legend": {
         "tracegroupgap": 0
        },
        "margin": {
         "t": 60
        },
        "template": {
         "data": {
          "bar": [
           {
            "error_x": {
             "color": "#2a3f5f"
            },
            "error_y": {
             "color": "#2a3f5f"
            },
            "marker": {
             "line": {
              "color": "#E5ECF6",
              "width": 0.5
             },
             "pattern": {
              "fillmode": "overlay",
              "size": 10,
              "solidity": 0.2
             }
            },
            "type": "bar"
           }
          ],
          "barpolar": [
           {
            "marker": {
             "line": {
              "color": "#E5ECF6",
              "width": 0.5
             },
             "pattern": {
              "fillmode": "overlay",
              "size": 10,
              "solidity": 0.2
             }
            },
            "type": "barpolar"
           }
          ],
          "carpet": [
           {
            "aaxis": {
             "endlinecolor": "#2a3f5f",
             "gridcolor": "white",
             "linecolor": "white",
             "minorgridcolor": "white",
             "startlinecolor": "#2a3f5f"
            },
            "baxis": {
             "endlinecolor": "#2a3f5f",
             "gridcolor": "white",
             "linecolor": "white",
             "minorgridcolor": "white",
             "startlinecolor": "#2a3f5f"
            },
            "type": "carpet"
           }
          ],
          "choropleth": [
           {
            "colorbar": {
             "outlinewidth": 0,
             "ticks": ""
            },
            "type": "choropleth"
           }
          ],
          "contour": [
           {
            "colorbar": {
             "outlinewidth": 0,
             "ticks": ""
            },
            "colorscale": [
             [
              0,
              "#0d0887"
             ],
             [
              0.1111111111111111,
              "#46039f"
             ],
             [
              0.2222222222222222,
              "#7201a8"
             ],
             [
              0.3333333333333333,
              "#9c179e"
             ],
             [
              0.4444444444444444,
              "#bd3786"
             ],
             [
              0.5555555555555556,
              "#d8576b"
             ],
             [
              0.6666666666666666,
              "#ed7953"
             ],
             [
              0.7777777777777778,
              "#fb9f3a"
             ],
             [
              0.8888888888888888,
              "#fdca26"
             ],
             [
              1,
              "#f0f921"
             ]
            ],
            "type": "contour"
           }
          ],
          "contourcarpet": [
           {
            "colorbar": {
             "outlinewidth": 0,
             "ticks": ""
            },
            "type": "contourcarpet"
           }
          ],
          "heatmap": [
           {
            "colorbar": {
             "outlinewidth": 0,
             "ticks": ""
            },
            "colorscale": [
             [
              0,
              "#0d0887"
             ],
             [
              0.1111111111111111,
              "#46039f"
             ],
             [
              0.2222222222222222,
              "#7201a8"
             ],
             [
              0.3333333333333333,
              "#9c179e"
             ],
             [
              0.4444444444444444,
              "#bd3786"
             ],
             [
              0.5555555555555556,
              "#d8576b"
             ],
             [
              0.6666666666666666,
              "#ed7953"
             ],
             [
              0.7777777777777778,
              "#fb9f3a"
             ],
             [
              0.8888888888888888,
              "#fdca26"
             ],
             [
              1,
              "#f0f921"
             ]
            ],
            "type": "heatmap"
           }
          ],
          "heatmapgl": [
           {
            "colorbar": {
             "outlinewidth": 0,
             "ticks": ""
            },
            "colorscale": [
             [
              0,
              "#0d0887"
             ],
             [
              0.1111111111111111,
              "#46039f"
             ],
             [
              0.2222222222222222,
              "#7201a8"
             ],
             [
              0.3333333333333333,
              "#9c179e"
             ],
             [
              0.4444444444444444,
              "#bd3786"
             ],
             [
              0.5555555555555556,
              "#d8576b"
             ],
             [
              0.6666666666666666,
              "#ed7953"
             ],
             [
              0.7777777777777778,
              "#fb9f3a"
             ],
             [
              0.8888888888888888,
              "#fdca26"
             ],
             [
              1,
              "#f0f921"
             ]
            ],
            "type": "heatmapgl"
           }
          ],
          "histogram": [
           {
            "marker": {
             "pattern": {
              "fillmode": "overlay",
              "size": 10,
              "solidity": 0.2
             }
            },
            "type": "histogram"
           }
          ],
          "histogram2d": [
           {
            "colorbar": {
             "outlinewidth": 0,
             "ticks": ""
            },
            "colorscale": [
             [
              0,
              "#0d0887"
             ],
             [
              0.1111111111111111,
              "#46039f"
             ],
             [
              0.2222222222222222,
              "#7201a8"
             ],
             [
              0.3333333333333333,
              "#9c179e"
             ],
             [
              0.4444444444444444,
              "#bd3786"
             ],
             [
              0.5555555555555556,
              "#d8576b"
             ],
             [
              0.6666666666666666,
              "#ed7953"
             ],
             [
              0.7777777777777778,
              "#fb9f3a"
             ],
             [
              0.8888888888888888,
              "#fdca26"
             ],
             [
              1,
              "#f0f921"
             ]
            ],
            "type": "histogram2d"
           }
          ],
          "histogram2dcontour": [
           {
            "colorbar": {
             "outlinewidth": 0,
             "ticks": ""
            },
            "colorscale": [
             [
              0,
              "#0d0887"
             ],
             [
              0.1111111111111111,
              "#46039f"
             ],
             [
              0.2222222222222222,
              "#7201a8"
             ],
             [
              0.3333333333333333,
              "#9c179e"
             ],
             [
              0.4444444444444444,
              "#bd3786"
             ],
             [
              0.5555555555555556,
              "#d8576b"
             ],
             [
              0.6666666666666666,
              "#ed7953"
             ],
             [
              0.7777777777777778,
              "#fb9f3a"
             ],
             [
              0.8888888888888888,
              "#fdca26"
             ],
             [
              1,
              "#f0f921"
             ]
            ],
            "type": "histogram2dcontour"
           }
          ],
          "mesh3d": [
           {
            "colorbar": {
             "outlinewidth": 0,
             "ticks": ""
            },
            "type": "mesh3d"
           }
          ],
          "parcoords": [
           {
            "line": {
             "colorbar": {
              "outlinewidth": 0,
              "ticks": ""
             }
            },
            "type": "parcoords"
           }
          ],
          "pie": [
           {
            "automargin": true,
            "type": "pie"
           }
          ],
          "scatter": [
           {
            "fillpattern": {
             "fillmode": "overlay",
             "size": 10,
             "solidity": 0.2
            },
            "type": "scatter"
           }
          ],
          "scatter3d": [
           {
            "line": {
             "colorbar": {
              "outlinewidth": 0,
              "ticks": ""
             }
            },
            "marker": {
             "colorbar": {
              "outlinewidth": 0,
              "ticks": ""
             }
            },
            "type": "scatter3d"
           }
          ],
          "scattercarpet": [
           {
            "marker": {
             "colorbar": {
              "outlinewidth": 0,
              "ticks": ""
             }
            },
            "type": "scattercarpet"
           }
          ],
          "scattergeo": [
           {
            "marker": {
             "colorbar": {
              "outlinewidth": 0,
              "ticks": ""
             }
            },
            "type": "scattergeo"
           }
          ],
          "scattergl": [
           {
            "marker": {
             "colorbar": {
              "outlinewidth": 0,
              "ticks": ""
             }
            },
            "type": "scattergl"
           }
          ],
          "scattermapbox": [
           {
            "marker": {
             "colorbar": {
              "outlinewidth": 0,
              "ticks": ""
             }
            },
            "type": "scattermapbox"
           }
          ],
          "scatterpolar": [
           {
            "marker": {
             "colorbar": {
              "outlinewidth": 0,
              "ticks": ""
             }
            },
            "type": "scatterpolar"
           }
          ],
          "scatterpolargl": [
           {
            "marker": {
             "colorbar": {
              "outlinewidth": 0,
              "ticks": ""
             }
            },
            "type": "scatterpolargl"
           }
          ],
          "scatterternary": [
           {
            "marker": {
             "colorbar": {
              "outlinewidth": 0,
              "ticks": ""
             }
            },
            "type": "scatterternary"
           }
          ],
          "surface": [
           {
            "colorbar": {
             "outlinewidth": 0,
             "ticks": ""
            },
            "colorscale": [
             [
              0,
              "#0d0887"
             ],
             [
              0.1111111111111111,
              "#46039f"
             ],
             [
              0.2222222222222222,
              "#7201a8"
             ],
             [
              0.3333333333333333,
              "#9c179e"
             ],
             [
              0.4444444444444444,
              "#bd3786"
             ],
             [
              0.5555555555555556,
              "#d8576b"
             ],
             [
              0.6666666666666666,
              "#ed7953"
             ],
             [
              0.7777777777777778,
              "#fb9f3a"
             ],
             [
              0.8888888888888888,
              "#fdca26"
             ],
             [
              1,
              "#f0f921"
             ]
            ],
            "type": "surface"
           }
          ],
          "table": [
           {
            "cells": {
             "fill": {
              "color": "#EBF0F8"
             },
             "line": {
              "color": "white"
             }
            },
            "header": {
             "fill": {
              "color": "#C8D4E3"
             },
             "line": {
              "color": "white"
             }
            },
            "type": "table"
           }
          ]
         },
         "layout": {
          "annotationdefaults": {
           "arrowcolor": "#2a3f5f",
           "arrowhead": 0,
           "arrowwidth": 1
          },
          "autotypenumbers": "strict",
          "coloraxis": {
           "colorbar": {
            "outlinewidth": 0,
            "ticks": ""
           }
          },
          "colorscale": {
           "diverging": [
            [
             0,
             "#8e0152"
            ],
            [
             0.1,
             "#c51b7d"
            ],
            [
             0.2,
             "#de77ae"
            ],
            [
             0.3,
             "#f1b6da"
            ],
            [
             0.4,
             "#fde0ef"
            ],
            [
             0.5,
             "#f7f7f7"
            ],
            [
             0.6,
             "#e6f5d0"
            ],
            [
             0.7,
             "#b8e186"
            ],
            [
             0.8,
             "#7fbc41"
            ],
            [
             0.9,
             "#4d9221"
            ],
            [
             1,
             "#276419"
            ]
           ],
           "sequential": [
            [
             0,
             "#0d0887"
            ],
            [
             0.1111111111111111,
             "#46039f"
            ],
            [
             0.2222222222222222,
             "#7201a8"
            ],
            [
             0.3333333333333333,
             "#9c179e"
            ],
            [
             0.4444444444444444,
             "#bd3786"
            ],
            [
             0.5555555555555556,
             "#d8576b"
            ],
            [
             0.6666666666666666,
             "#ed7953"
            ],
            [
             0.7777777777777778,
             "#fb9f3a"
            ],
            [
             0.8888888888888888,
             "#fdca26"
            ],
            [
             1,
             "#f0f921"
            ]
           ],
           "sequentialminus": [
            [
             0,
             "#0d0887"
            ],
            [
             0.1111111111111111,
             "#46039f"
            ],
            [
             0.2222222222222222,
             "#7201a8"
            ],
            [
             0.3333333333333333,
             "#9c179e"
            ],
            [
             0.4444444444444444,
             "#bd3786"
            ],
            [
             0.5555555555555556,
             "#d8576b"
            ],
            [
             0.6666666666666666,
             "#ed7953"
            ],
            [
             0.7777777777777778,
             "#fb9f3a"
            ],
            [
             0.8888888888888888,
             "#fdca26"
            ],
            [
             1,
             "#f0f921"
            ]
           ]
          },
          "colorway": [
           "#636efa",
           "#EF553B",
           "#00cc96",
           "#ab63fa",
           "#FFA15A",
           "#19d3f3",
           "#FF6692",
           "#B6E880",
           "#FF97FF",
           "#FECB52"
          ],
          "font": {
           "color": "#2a3f5f"
          },
          "geo": {
           "bgcolor": "white",
           "lakecolor": "white",
           "landcolor": "#E5ECF6",
           "showlakes": true,
           "showland": true,
           "subunitcolor": "white"
          },
          "hoverlabel": {
           "align": "left"
          },
          "hovermode": "closest",
          "mapbox": {
           "style": "light"
          },
          "paper_bgcolor": "white",
          "plot_bgcolor": "#E5ECF6",
          "polar": {
           "angularaxis": {
            "gridcolor": "white",
            "linecolor": "white",
            "ticks": ""
           },
           "bgcolor": "#E5ECF6",
           "radialaxis": {
            "gridcolor": "white",
            "linecolor": "white",
            "ticks": ""
           }
          },
          "scene": {
           "xaxis": {
            "backgroundcolor": "#E5ECF6",
            "gridcolor": "white",
            "gridwidth": 2,
            "linecolor": "white",
            "showbackground": true,
            "ticks": "",
            "zerolinecolor": "white"
           },
           "yaxis": {
            "backgroundcolor": "#E5ECF6",
            "gridcolor": "white",
            "gridwidth": 2,
            "linecolor": "white",
            "showbackground": true,
            "ticks": "",
            "zerolinecolor": "white"
           },
           "zaxis": {
            "backgroundcolor": "#E5ECF6",
            "gridcolor": "white",
            "gridwidth": 2,
            "linecolor": "white",
            "showbackground": true,
            "ticks": "",
            "zerolinecolor": "white"
           }
          },
          "shapedefaults": {
           "line": {
            "color": "#2a3f5f"
           }
          },
          "ternary": {
           "aaxis": {
            "gridcolor": "white",
            "linecolor": "white",
            "ticks": ""
           },
           "baxis": {
            "gridcolor": "white",
            "linecolor": "white",
            "ticks": ""
           },
           "bgcolor": "#E5ECF6",
           "caxis": {
            "gridcolor": "white",
            "linecolor": "white",
            "ticks": ""
           }
          },
          "title": {
           "x": 0.05
          },
          "xaxis": {
           "automargin": true,
           "gridcolor": "white",
           "linecolor": "white",
           "ticks": "",
           "title": {
            "standoff": 15
           },
           "zerolinecolor": "white",
           "zerolinewidth": 2
          },
          "yaxis": {
           "automargin": true,
           "gridcolor": "white",
           "linecolor": "white",
           "ticks": "",
           "title": {
            "standoff": 15
           },
           "zerolinecolor": "white",
           "zerolinewidth": 2
          }
         }
        },
        "xaxis": {
         "anchor": "y",
         "domain": [
          0,
          1
         ]
        },
        "yaxis": {
         "anchor": "x",
         "domain": [
          0,
          1
         ]
        }
       }
      }
     },
     "metadata": {},
     "output_type": "display_data"
    }
   ],
   "source": [
    "def ODESolution(x):\n",
    "    return (\n",
    "        np.exp(-(x**2) / 2)\n",
    "        * (\n",
    "            (1 + np.exp(x**2 / 2) * x) * erfi(1 / np.sqrt(2))\n",
    "            - (1 + np.sqrt(np.e)) * erfi(x / np.sqrt(2))\n",
    "        )\n",
    "    ) / erfi(1 / np.sqrt(2))\n",
    "\n",
    "\n",
    "def f_n(x, n):\n",
    "    return x**n * (1 - x)\n",
    "\n",
    "\n",
    "def f0(x):\n",
    "    return f_n(x, 0)\n",
    "\n",
    "\n",
    "def f1(x):\n",
    "    return f_n(x, 1)\n",
    "\n",
    "\n",
    "def f2(x):\n",
    "    return f_n(x, 2)\n",
    "\n",
    "\n",
    "def f3(x):\n",
    "    return f_n(x, 3)\n",
    "\n",
    "\n",
    "def f4(x):\n",
    "    return f_n(x, 4)\n",
    "\n",
    "\n",
    "def c0(x):\n",
    "    return 1 - 4 * x\n",
    "\n",
    "\n",
    "def c1(x):\n",
    "    return -2 + 2 * x - 3 * x**2\n",
    "\n",
    "\n",
    "def c2(x):\n",
    "    return 2 - 6 * x + 3 * x**2 - 4 * x**3\n",
    "\n",
    "\n",
    "def c3(x):\n",
    "    return 6 * x - 12 * x**2 + 4 * x**3 - 5 * x**4\n",
    "\n",
    "\n",
    "x = np.linspace(-0.5, 2.0, 100)\n",
    "y = [ODESolution(xp) for xp in x]\n",
    "\n",
    "\n",
    "x_pred = np.linspace(-0.5, 2.0, 10)\n",
    "f_pred2, c_pred2 = ODE(x_pred, 2, [f0, f1, f2], [c0, c1, c2])\n",
    "f_pred3, c_pred3 = ODE(x_pred, 3, [f0, f1, f2, f3], [c0, c1, c2, c3])\n",
    "\n",
    "print(\"deg 2:\")\n",
    "for coeff in [1.0, *c_pred2]:\n",
    "    print(f\"{coeff:.6f}\", end=\"  \")\n",
    "print()\n",
    "print(\"deg 3:\")\n",
    "for coeff in [1.0, *c_pred3]:\n",
    "    print(f\"{coeff:.6f}\", end=\"  \")\n",
    "print()\n",
    "\n",
    "y_pred2 = [f_pred2(xp) for xp in x]\n",
    "y_pred3 = [f_pred3(xp) for xp in x]\n",
    "\n",
    "fig = px.line()\n",
    "fig.add_trace(go.Scatter(x=x, y=y, name=\"решение\"))\n",
    "fig.add_trace(go.Scatter(x=x, y=y_pred2, name=\"n = 2\"))\n",
    "fig.add_trace(go.Scatter(x=x, y=y_pred3, name=\"n = 3\"))\n",
    "# fig.add_trace(go.Scatter(x=x, y=y_pred4, name=\"n = 4\"))\n",
    "\n",
    "fig.show()"
   ]
  }
 ],
 "metadata": {
  "kernelspec": {
   "display_name": "Python 3",
   "language": "python",
   "name": "python3"
  },
  "language_info": {
   "codemirror_mode": {
    "name": "ipython",
    "version": 3
   },
   "file_extension": ".py",
   "mimetype": "text/x-python",
   "name": "python",
   "nbconvert_exporter": "python",
   "pygments_lexer": "ipython3",
   "version": "3.11.7"
  }
 },
 "nbformat": 4,
 "nbformat_minor": 2
}
