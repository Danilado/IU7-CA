{
 "cells": [
  {
   "cell_type": "code",
   "execution_count": 1,
   "metadata": {},
   "outputs": [],
   "source": [
    "from src.half_division import HalfDivision\n",
    "from src.newton_system import NewtonSystem\n",
    "from src.sympson import SympsonIntegral\n",
    "\n",
    "from numpy import linspace, exp, sqrt\n",
    "from math import pi\n",
    "import plotly.express as px\n",
    "\n",
    "\n",
    "SHOW_GRAPHS = False"
   ]
  },
  {
   "cell_type": "code",
   "execution_count": 2,
   "metadata": {},
   "outputs": [],
   "source": [
    "def f1(x, y, z):\n",
    "    return x**2 + y**2 + z**2 - 1\n",
    "\n",
    "\n",
    "def f2(x, y, z):\n",
    "    return 2 * x**2 + y**2 - 4 * z\n",
    "\n",
    "\n",
    "def f3(x, y, z):\n",
    "    return 3 * x**2 - 4 * y + z**2\n",
    "\n",
    "\n",
    "def jacobian(x, y, z):\n",
    "    return [  # J[i][j] = df_i(x_j) / dx_j\n",
    "        [2 * x, 2 * y, 2 * z],\n",
    "        [4 * x, 2 * y, -4],\n",
    "        [6 * x, -4, 2 * z],\n",
    "    ]"
   ]
  },
  {
   "cell_type": "markdown",
   "metadata": {},
   "source": [
    "$$\n",
    "\\begin{equation}\n",
    "\\begin{cases}\n",
    "x^2 + y^2 + z^2 - 1 = 0 \\\\\n",
    "2x^2 + y^2 - 4z = 0 \\\\\n",
    "3x^2 - 4y + z^2 = 0 \\\\\n",
    "\\end{cases}\n",
    "\\end{equation}\n",
    "$$\n",
    "\n",
    "Начальные x, y, z - ниже\n",
    "\n",
    "Проверяем работу программы при разных начальных значениях начального приближения"
   ]
  },
  {
   "cell_type": "code",
   "execution_count": 3,
   "metadata": {},
   "outputs": [
    {
     "name": "stdout",
     "output_type": "stream",
     "text": [
      "For start values:\n",
      "x0=1.000000\n",
      "y0=1.000000\n",
      "z0=1.000000\n",
      "Got solution:\n",
      "xres=0.785197\n",
      "yres=0.496611\n",
      "zres=0.369923\n",
      "in 5 iterations\n",
      "\n",
      "f1(xres, yres, zres)=0.000000\n",
      "f2(xres, yres, zres)=0.000000\n",
      "f3(xres, yres, zres)=0.000000\n"
     ]
    }
   ],
   "source": [
    "x0, y0, z0 = 1, 1, 1\n",
    "\n",
    "res, iters = NewtonSystem(jacobian, [f1, f2, f3], [x0, y0, z0], iter_limit=30)\n",
    "xres, yres, zres = res\n",
    "\n",
    "print(f\"For start values:\")\n",
    "print(f\"{x0=:.6f}\")\n",
    "print(f\"{y0=:.6f}\")\n",
    "print(f\"{z0=:.6f}\")\n",
    "print(f\"Got solution:\")\n",
    "print(f\"{xres=:.6f}\")\n",
    "print(f\"{yres=:.6f}\")\n",
    "print(f\"{zres=:.6f}\")\n",
    "print(f\"in {iters} iterations\")\n",
    "print()\n",
    "print(f\"{f1(xres, yres, zres)=:.6f}\")\n",
    "print(f\"{f2(xres, yres, zres)=:.6f}\")\n",
    "print(f\"{f3(xres, yres, zres)=:.6f}\")"
   ]
  },
  {
   "cell_type": "code",
   "execution_count": 4,
   "metadata": {},
   "outputs": [
    {
     "name": "stdout",
     "output_type": "stream",
     "text": [
      "For start values:\n",
      "x0=42.000000\n",
      "y0=54.000000\n",
      "z0=87.000000\n",
      "Got solution:\n",
      "xres=0.785197\n",
      "yres=0.496611\n",
      "zres=0.369923\n",
      "in 11 iterations\n",
      "\n",
      "f1(xres, yres, zres)=0.000000\n",
      "f2(xres, yres, zres)=0.000000\n",
      "f3(xres, yres, zres)=0.000000\n"
     ]
    }
   ],
   "source": [
    "x0, y0, z0 = 42, 54, 87\n",
    "\n",
    "res, iters = NewtonSystem(jacobian, [f1, f2, f3], [x0, y0, z0], iter_limit=130)\n",
    "xres, yres, zres = res\n",
    "\n",
    "print(f\"For start values:\")\n",
    "print(f\"{x0=:.6f}\")\n",
    "print(f\"{y0=:.6f}\")\n",
    "print(f\"{z0=:.6f}\")\n",
    "print(f\"Got solution:\")\n",
    "print(f\"{xres=:.6f}\")\n",
    "print(f\"{yres=:.6f}\")\n",
    "print(f\"{zres=:.6f}\")\n",
    "print(f\"in {iters} iterations\")\n",
    "print()\n",
    "print(f\"{f1(xres, yres, zres)=:.6f}\")\n",
    "print(f\"{f2(xres, yres, zres)=:.6f}\")\n",
    "print(f\"{f3(xres, yres, zres)=:.6f}\")"
   ]
  },
  {
   "cell_type": "code",
   "execution_count": 5,
   "metadata": {},
   "outputs": [
    {
     "name": "stdout",
     "output_type": "stream",
     "text": [
      "For start values:\n",
      "x0=-100500.000000\n",
      "y0=69420.000000\n",
      "z0=2281337.000000\n",
      "Got solution:\n",
      "xres=-0.785197\n",
      "yres=0.496611\n",
      "zres=0.369923\n",
      "in 26 iterations\n",
      "\n",
      "f1(xres, yres, zres)=-0.000000\n",
      "f2(xres, yres, zres)=0.000000\n",
      "f3(xres, yres, zres)=-0.000000\n"
     ]
    }
   ],
   "source": [
    "x0, y0, z0 = -100500, 69420, 2281337\n",
    "res, iters = NewtonSystem(jacobian, [f1, f2, f3], [x0, y0, z0], iter_limit=30)\n",
    "xres, yres, zres = res\n",
    "\n",
    "print(f\"For start values:\")\n",
    "print(f\"{x0=:.6f}\")\n",
    "print(f\"{y0=:.6f}\")\n",
    "print(f\"{z0=:.6f}\")\n",
    "print(f\"Got solution:\")\n",
    "print(f\"{xres=:.6f}\")\n",
    "print(f\"{yres=:.6f}\")\n",
    "print(f\"{zres=:.6f}\")\n",
    "print(f\"in {iters} iterations\")\n",
    "print()\n",
    "print(f\"{f1(xres, yres, zres)=:.6f}\")\n",
    "print(f\"{f2(xres, yres, zres)=:.6f}\")\n",
    "print(f\"{f3(xres, yres, zres)=:.6f}\")"
   ]
  },
  {
   "cell_type": "code",
   "execution_count": 6,
   "metadata": {},
   "outputs": [],
   "source": [
    "from typing import Callable\n",
    "\n",
    "\n",
    "def Laplas(\n",
    "    x: float | int,\n",
    "    integralCount: int = 10,\n",
    "    integralCallback: Callable[\n",
    "        [list[float | int], Callable[[float | int], float]], float\n",
    "    ] = SympsonIntegral,\n",
    "):\n",
    "    def underIntegralFunc(t):\n",
    "        return exp(-(t**2) / 2)\n",
    "\n",
    "    linspace_to_x = list(linspace(0, x, integralCount))\n",
    "    return 2 / sqrt(2 * pi) * integralCallback(linspace_to_x, underIntegralFunc)"
   ]
  },
  {
   "cell_type": "markdown",
   "metadata": {},
   "source": [
    "Чтобы добавить y для поиска, добавьте его значение в массиве `target_y` ниже"
   ]
  },
  {
   "cell_type": "code",
   "execution_count": 7,
   "metadata": {},
   "outputs": [
    {
     "name": "stdout",
     "output_type": "stream",
     "text": [
      "for y=  0.000000 x=  0.000000\n",
      "for y=  0.385320 x=  0.300000\n",
      "for y= -0.553384 x= -0.420000\n",
      "for y=  2.053757 x=  0.960000\n"
     ]
    }
   ],
   "source": [
    "x = linspace(-5, 5, 100)\n",
    "y = Laplas(x)\n",
    "\n",
    "target_y = [0, 0.3, -0.42, 0.96]\n",
    "found_x = [HalfDivision(Laplas, y, min(x), max(x), iter_limit=30)[\n",
    "    0] for y in target_y]\n",
    "\n",
    "fig = px.line(x=x, y=y)\n",
    "fig.add_scatter(x=found_x, y=target_y, mode=\"markers\", name=\"Полученные точки\")\n",
    "\n",
    "for x, y in zip(target_y, found_x):\n",
    "    print(f\"for {y=:10.6f} {x=:10.6f}\")\n",
    "\n",
    "\n",
    "if SHOW_GRAPHS:\n",
    "    fig.show()"
   ]
  },
  {
   "cell_type": "markdown",
   "metadata": {},
   "source": [
    "$y'' - y^3 = x^2$\n",
    "\n",
    "$0 <= x <= 1$\n",
    "\n",
    "$x = 0, y = 1$\n",
    "\n",
    "$x = 1, y = 3$"
   ]
  },
  {
   "cell_type": "code",
   "execution_count": 8,
   "metadata": {},
   "outputs": [],
   "source": [
    "x0 = 0\n",
    "y0 = 1\n",
    "\n",
    "x1 = 1\n",
    "y1 = 3\n",
    "\n",
    "N = 10\n",
    "step = (x1 - x0) / N"
   ]
  },
  {
   "cell_type": "code",
   "execution_count": 9,
   "metadata": {},
   "outputs": [],
   "source": [
    "def jacobian(*y):\n",
    "    n = len(y)\n",
    "    res = []\n",
    "\n",
    "    res.append([1] + [0] * (n - 1))\n",
    "\n",
    "    for i in range(1, n - 1):\n",
    "        res.append(\n",
    "            [0] * (i - 1)\n",
    "            + [1 / step**2]\n",
    "            + [-2 / step**2 - 3 * y[i] ** 2]\n",
    "            + [1 / step**2]\n",
    "            + [0] * (n - i - 2)\n",
    "        )\n",
    "\n",
    "    res.append([0] * (n - 1) + [1])\n",
    "    return res\n",
    "\n",
    "\n",
    "def f(n) -> Callable[[list[float | int]], float]:\n",
    "    if n == 0:\n",
    "\n",
    "        def resf(*y: list[float | int]) -> float:\n",
    "            return y[0] - y0\n",
    "\n",
    "    elif n == N:\n",
    "\n",
    "        def resf(*y: list[float | int]) -> float:\n",
    "            return y[n] - y1\n",
    "\n",
    "    else:\n",
    "\n",
    "        def resf(*y: list[float | int]) -> float:\n",
    "            return (y[n - 1] + -2 * y[n] + y[n + 1]) / step**2 - y[n] ** 3 - x[n] ** 2\n",
    "\n",
    "    return resf\n",
    "\n",
    "\n",
    "# начальное приближение y_n^{(0)}\n",
    "def starty(x):\n",
    "    return 2 * x + 1"
   ]
  },
  {
   "cell_type": "code",
   "execution_count": 10,
   "metadata": {},
   "outputs": [
    {
     "name": "stdout",
     "output_type": "stream",
     "text": [
      "Iterations count: 7\n"
     ]
    }
   ],
   "source": [
    "N = 100\n",
    "step = (x1 - x0) / (N)\n",
    "\n",
    "x = linspace(x0, x1, N + 1)\n",
    "y = [starty(xp) for xp in x]\n",
    "\n",
    "funcs = [f(n) for n in range(N + 1)]\n",
    "\n",
    "res, iters = NewtonSystem(jacobian, funcs, y, iter_limit=30, eps=1e-15)\n",
    "print(f\"Iterations count: {iters}\")\n",
    "fig = px.line(x=x, y=res)\n",
    "\n",
    "\n",
    "if SHOW_GRAPHS:\n",
    "    fig.show()"
   ]
  }
 ],
 "metadata": {
  "kernelspec": {
   "display_name": "Python 3",
   "language": "python",
   "name": "python3"
  },
  "language_info": {
   "codemirror_mode": {
    "name": "ipython",
    "version": 3
   },
   "file_extension": ".py",
   "mimetype": "text/x-python",
   "name": "python",
   "nbconvert_exporter": "python",
   "pygments_lexer": "ipython3",
   "version": "3.12.3"
  }
 },
 "nbformat": 4,
 "nbformat_minor": 2
}
