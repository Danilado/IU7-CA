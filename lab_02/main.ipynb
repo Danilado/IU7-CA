{
 "cells": [
  {
   "cell_type": "markdown",
   "metadata": {},
   "source": [
    "### Построение и программная реализация алгоритма сплайн-интерполяции табличных функций"
   ]
  },
  {
   "cell_type": "code",
   "execution_count": 1,
   "metadata": {},
   "outputs": [],
   "source": [
    "import matplotlib.pyplot as plt\n",
    "import numpy as np\n",
    "from src import points\n",
    "from src import cubic_poly\n",
    "from src import cubic_spline\n",
    "from src import newton\n",
    "\n",
    "Points = points.Points\n",
    "CubicPolynome = cubic_poly.CubicPolynome\n",
    "CubicSpline = cubic_spline.CubicSpline\n",
    "\n",
    "newton_interpolate = newton.newton_interpolate\n",
    "newton_2nd_deg = newton.newton_2nd_deg\n",
    "\n",
    "\n",
    "SHOW_GRAPHS = False"
   ]
  },
  {
   "cell_type": "code",
   "execution_count": 2,
   "metadata": {},
   "outputs": [
    {
     "name": "stdout",
     "output_type": "stream",
     "text": [
      "points:\n",
      "x:\t0.000\t0.500\t0.750\t1.250\t1.500\t2.000\t3.000\t4.000\t5.000\t6.000\t7.000\t\n",
      "y:\t0.250\t0.571\t0.842\t0.842\t0.571\t0.250\t0.077\t0.036\t0.020\t0.013\t0.009\t\n",
      "\n",
      "target x: 0.5\n"
     ]
    }
   ],
   "source": [
    "table1: list[list[float]] = [\n",
    "    [0, 0.5, 0.75, 1.25, 1.5, 2, 3, 4, 5, 6, 7],\n",
    "    [0.250, 0.571, 0.842, 0.842, 0.571, 0.250, 0.077, 0.036, 0.020, 0.013, 0.009],\n",
    "]\n",
    "\n",
    "table2: list[list[float]] = [\n",
    "    [-0.5, 0, 2, 3, 4],\n",
    "    [-0.75, -1, 3, 8, 15],\n",
    "    [-1, 0, 4, 6, 8],\n",
    "]\n",
    "\n",
    "table3: list[list[float]] = [\n",
    "    [0, 0.25, 0.5, 0.75, 1],\n",
    "    [1, 0.924, 0.707, 0.383, 0],\n",
    "]\n",
    "\n",
    "table4 = [\n",
    "    [2, 0, -1, 1, -2],\n",
    "    [4, 0, 1, 1, 4],\n",
    "]\n",
    "\n",
    "# -2x**3 + 3x + 1\n",
    "table5 = [[0, 1, 2], [1, 2, -9]]\n",
    "\n",
    "table = table1\n",
    "\n",
    "\n",
    "pts = Points()\n",
    "pts.parse_table(table)\n",
    "target_x: float = 0.5\n",
    "\n",
    "left_x = pts.data[0].x\n",
    "right_x = pts.data[-1].x\n",
    "\n",
    "left = newton_2nd_deg(pts, left_x)\n",
    "right = newton_2nd_deg(pts, right_x)\n",
    "\n",
    "# for table5\n",
    "left = 0\n",
    "right = -24\n",
    "\n",
    "xrange = np.linspace(left_x, right_x, 1000)\n",
    "\n",
    "print(\"points:\")\n",
    "print(pts)\n",
    "print()\n",
    "\n",
    "print(f\"target x: {target_x}\")"
   ]
  },
  {
   "cell_type": "code",
   "execution_count": 3,
   "metadata": {},
   "outputs": [],
   "source": [
    "def plot_table():\n",
    "    for pt in pts.data:\n",
    "        plt.plot(pt.x, pt.y, \"ro\")"
   ]
  },
  {
   "cell_type": "code",
   "execution_count": 4,
   "metadata": {},
   "outputs": [
    {
     "name": "stdout",
     "output_type": "stream",
     "text": [
      "spline none:\n",
      "0.571\n"
     ]
    }
   ],
   "source": [
    "cs_none = CubicSpline()\n",
    "print(\"spline none:\")\n",
    "print(cs_none.get_cubic_poly(pts, target_x).get(target_x))\n",
    "\n",
    "\n",
    "if SHOW_GRAPHS:\n",
    "    yrangelist = []\n",
    "    for x in xrange:\n",
    "        yrangelist.append(cs_none.get_cubic_poly(pts, x).get(x))\n",
    "\n",
    "    plt.plot(xrange, yrangelist)\n",
    "    plot_table()\n",
    "    plt.show()"
   ]
  },
  {
   "cell_type": "code",
   "execution_count": 5,
   "metadata": {},
   "outputs": [
    {
     "name": "stdout",
     "output_type": "stream",
     "text": [
      "spline left:\n",
      "0.571\n"
     ]
    }
   ],
   "source": [
    "cs_left = CubicSpline(c_0=left)\n",
    "print(\"spline left:\")\n",
    "print(cs_left.get_cubic_poly(pts, target_x).get(target_x))\n",
    "\n",
    "if SHOW_GRAPHS:\n",
    "    yrangelist = []\n",
    "    for x in xrange:\n",
    "        yrangelist.append(cs_left.get_cubic_poly(pts, x).get(x))\n",
    "\n",
    "    plt.plot(xrange, yrangelist)\n",
    "    plot_table()\n",
    "    plt.show()"
   ]
  },
  {
   "cell_type": "code",
   "execution_count": 6,
   "metadata": {},
   "outputs": [
    {
     "name": "stdout",
     "output_type": "stream",
     "text": [
      "spline both:\n",
      "0.571\n"
     ]
    }
   ],
   "source": [
    "cs_all = CubicSpline(c_0=left, c_n=right)\n",
    "print(\"spline both:\")\n",
    "print(cs_all.get_cubic_poly(pts, target_x).get(target_x))\n",
    "\n",
    "yrangelist = []\n",
    "for x in xrange:\n",
    "    yrangelist.append(cs_all.get_cubic_poly(pts, x).get(x))\n",
    "\n",
    "\n",
    "if SHOW_GRAPHS:\n",
    "    plt.plot(xrange, yrangelist)\n",
    "    plot_table()\n",
    "    plt.show()"
   ]
  },
  {
   "cell_type": "code",
   "execution_count": 7,
   "metadata": {},
   "outputs": [
    {
     "name": "stdout",
     "output_type": "stream",
     "text": [
      "newton:\n",
      "0.571\n"
     ]
    }
   ],
   "source": [
    "print(\"newton:\")\n",
    "print(newton_interpolate(target_x, min(4, len(pts.data) - 1), pts))\n",
    "\n",
    "yrangelist = []\n",
    "for x in xrange:\n",
    "    yrangelist.append(newton_interpolate(x, min(4, len(pts.data) - 1), pts))\n",
    "\n",
    "\n",
    "if SHOW_GRAPHS:\n",
    "    plt.cla()\n",
    "    plt.plot(xrange, yrangelist)\n",
    "    plot_table()\n",
    "    plt.show()"
   ]
  },
  {
   "cell_type": "code",
   "execution_count": 8,
   "metadata": {},
   "outputs": [
    {
     "data": {
      "image/png": "[encoded data removed]",
      "text/plain": [
       "<Figure size 640x480 with 1 Axes>"
      ]
     },
     "metadata": {},
     "output_type": "display_data"
    }
   ],
   "source": [
    "if SHOW_GRAPHS:\n",
    "    yrangelist = []\n",
    "    for x in xrange:\n",
    "        yrangelist.append(newton_interpolate(x, min(3, len(pts.data)), pts))\n",
    "\n",
    "    plt.cla()\n",
    "    plt.plot(xrange, yrangelist, color=\"green\")\n",
    "    plot_table()\n",
    "\n",
    "    yrangelist = []\n",
    "    for x in xrange:\n",
    "        yrangelist.append(cs_all.get_cubic_poly(pts, x).get(x))\n",
    "    plt.plot(xrange, yrangelist, \":\", color=\"orange\")\n",
    "\n",
    "    yrangelist = []\n",
    "    for x in xrange:\n",
    "        yrangelist.append(cs_none.get_cubic_poly(pts, x).get(x))\n",
    "    plt.plot(xrange, yrangelist, \"-\", color=\"purple\")\n",
    "\n",
    "    yrangelist = []\n",
    "    for x in xrange:\n",
    "        yrangelist.append(cs_none.get_cubic_poly(pts, x).get(x))\n",
    "\n",
    "    plt.plot(xrange, yrangelist, \"--\")\n",
    "\n",
    "    plt.show()"
   ]
  }
 ],
 "metadata": {
  "kernelspec": {
   "display_name": "Python 3",
   "language": "python",
   "name": "python3"
  },
  "language_info": {
   "codemirror_mode": {
    "name": "ipython",
    "version": 3
   },
   "file_extension": ".py",
   "mimetype": "text/x-python",
   "name": "python",
   "nbconvert_exporter": "python",
   "pygments_lexer": "ipython3",
   "version": "3.12.3"
  }
 },
 "nbformat": 4,
 "nbformat_minor": 2
}
