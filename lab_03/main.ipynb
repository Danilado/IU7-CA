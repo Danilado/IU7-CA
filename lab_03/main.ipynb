{
 "cells": [
  {
   "cell_type": "code",
   "execution_count": 1,
   "metadata": {},
   "outputs": [],
   "source": [
    "from src import matrix4d as m4\n",
    "from src import newton\n",
    "from src import spline\n",
    "from src import custom\n",
    "\n",
    "from math import sqrt"
   ]
  },
  {
   "cell_type": "markdown",
   "metadata": {},
   "source": [
    "## ввод"
   ]
  },
  {
   "cell_type": "code",
   "execution_count": 2,
   "metadata": {},
   "outputs": [],
   "source": [
    "CUSTOM_FUNC: bool = False"
   ]
  },
  {
   "cell_type": "code",
   "execution_count": 3,
   "metadata": {},
   "outputs": [],
   "source": [
    "if CUSTOM_FUNC:\n",
    "    matrix4d = m4.Matrix4d(None)\n",
    "else:\n",
    "    matrix4d = m4.Matrix4d(\"./data/data.txt\")"
   ]
  },
  {
   "cell_type": "code",
   "execution_count": 4,
   "metadata": {},
   "outputs": [],
   "source": [
    "def f(x, y, z) -> float:\n",
    "    return sqrt(x + y + z + x * y * z)"
   ]
  },
  {
   "cell_type": "code",
   "execution_count": 5,
   "metadata": {},
   "outputs": [],
   "source": [
    "X_START = 0\n",
    "X_END = 4\n",
    "X_STEP = 4\n",
    "\n",
    "Y_START = 0\n",
    "Y_END = 4\n",
    "Y_STEP = 4\n",
    "\n",
    "Z_START = 0\n",
    "Z_END = 4\n",
    "Z_STEP = 4"
   ]
  },
  {
   "cell_type": "code",
   "execution_count": 6,
   "metadata": {},
   "outputs": [
    {
     "name": "stdout",
     "output_type": "stream",
     "text": [
      "layer: 0.0\n",
      "\tx: (0.0, 1.0, 2.0, 3.0, 4.0)\n",
      "\ty: (0.0, 1.0, 2.0, 3.0, 4.0)\n",
      "\tz:\n",
      "\t\t0.000 1.000 4.000 9.000 16.000 \n",
      "\t\t1.000 2.000 5.000 10.000 17.000 \n",
      "\t\t4.000 5.000 8.000 13.000 20.000 \n",
      "\t\t9.000 10.000 13.000 18.000 25.000 \n",
      "\t\t16.000 17.000 20.000 25.000 32.000 \n",
      "\n",
      "layer: 1.0\n",
      "\tx: (0.0, 1.0, 2.0, 3.0, 4.0)\n",
      "\ty: (0.0, 1.0, 2.0, 3.0, 4.0)\n",
      "\tz:\n",
      "\t\t1.000 2.000 5.000 10.000 17.000 \n",
      "\t\t2.000 3.000 6.000 11.000 18.000 \n",
      "\t\t5.000 6.000 9.000 14.000 21.000 \n",
      "\t\t10.000 11.000 14.000 19.000 26.000 \n",
      "\t\t17.000 18.000 21.000 26.000 33.000 \n",
      "\n",
      "layer: 2.0\n",
      "\tx: (0.0, 1.0, 2.0, 3.0, 4.0)\n",
      "\ty: (0.0, 1.0, 2.0, 3.0, 4.0)\n",
      "\tz:\n",
      "\t\t4.000 5.000 8.000 13.000 20.000 \n",
      "\t\t5.000 6.000 9.000 14.000 21.000 \n",
      "\t\t8.000 9.000 12.000 17.000 24.000 \n",
      "\t\t13.000 14.000 17.000 22.000 29.000 \n",
      "\t\t20.000 21.000 24.000 29.000 36.000 \n",
      "\n",
      "layer: 3.0\n",
      "\tx: (0.0, 1.0, 2.0, 3.0, 4.0)\n",
      "\ty: (0.0, 1.0, 2.0, 3.0, 4.0)\n",
      "\tz:\n",
      "\t\t9.000 10.000 13.000 18.000 25.000 \n",
      "\t\t10.000 11.000 14.000 19.000 26.000 \n",
      "\t\t13.000 14.000 17.000 22.000 29.000 \n",
      "\t\t18.000 19.000 22.000 27.000 34.000 \n",
      "\t\t25.000 26.000 29.000 34.000 41.000 \n",
      "\n",
      "layer: 4.0\n",
      "\tx: (0.0, 1.0, 2.0, 3.0, 4.0)\n",
      "\ty: (0.0, 1.0, 2.0, 3.0, 4.0)\n",
      "\tz:\n",
      "\t\t16.000 17.000 20.000 25.000 32.000 \n",
      "\t\t17.000 18.000 21.000 26.000 33.000 \n",
      "\t\t20.000 21.000 24.000 29.000 36.000 \n",
      "\t\t25.000 26.000 29.000 34.000 41.000 \n",
      "\t\t32.000 33.000 36.000 41.000 48.000 \n",
      "\n",
      "\n"
     ]
    }
   ],
   "source": [
    "if CUSTOM_FUNC:\n",
    "    matrix4d.generate_matrix(\n",
    "        X_START, X_END, X_STEP, Y_START, Y_END, Y_STEP, Z_START, Z_END, Z_STEP, f\n",
    "    )\n",
    "\n",
    "print(matrix4d)"
   ]
  },
  {
   "cell_type": "markdown",
   "metadata": {},
   "source": [
    "## интерполяция"
   ]
  },
  {
   "cell_type": "code",
   "execution_count": 7,
   "metadata": {},
   "outputs": [
    {
     "name": "stdout",
     "output_type": "stream",
     "text": [
      "Интерполяция Ньютона:       6.75\n",
      "Интерполяция Сплайнами:     6.696428571428569\n",
      "Смешанная интерполяция:     6.714285714285713\n"
     ]
    }
   ],
   "source": [
    "NEWTONNX = 4\n",
    "NEWTONNY = 4\n",
    "NEWTONNZ = 4\n",
    "\n",
    "X, Y, Z = 1.5, 1.5, 1.5\n",
    "\n",
    "newt = newton.newton4d(matrix4d, NEWTONNX, NEWTONNY, NEWTONNZ, X, Y, Z)\n",
    "spl = spline.apprspline4d(matrix4d, X, Y, Z)\n",
    "cus = custom.customInterpolation4d(\n",
    "    matrix4d, NEWTONNX, NEWTONNY, NEWTONNZ, X, Y, Z, \"spline\", \"spline\", \"newton\"\n",
    ")\n",
    "\n",
    "if CUSTOM_FUNC:\n",
    "    print(f\"Значение заданной функции:  {f(X, Y, Z)}\")\n",
    "\n",
    "print(f\"Интерполяция Ньютона:       {newt}\")\n",
    "print(f\"Интерполяция Сплайнами:     {spl}\")\n",
    "print(f\"Смешанная интерполяция:     {cus}\")"
   ]
  }
 ],
 "metadata": {
  "kernelspec": {
   "display_name": "Python 3",
   "language": "python",
   "name": "python3"
  },
  "language_info": {
   "codemirror_mode": {
    "name": "ipython",
    "version": 3
   },
   "file_extension": ".py",
   "mimetype": "text/x-python",
   "name": "python",
   "nbconvert_exporter": "python",
   "pygments_lexer": "ipython3",
   "version": "3.11.7"
  }
 },
 "nbformat": 4,
 "nbformat_minor": 2
}
