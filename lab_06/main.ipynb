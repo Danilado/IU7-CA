{
 "cells": [
  {
   "cell_type": "code",
   "execution_count": 1,
   "metadata": {},
   "outputs": [],
   "source": [
    "from src.io import read_3d\n",
    "from src.gauss import GaussIntegral\n",
    "from src.simpson import SimpsonIntegral\n",
    "from src.integrate_2d import integrate_2d"
   ]
  },
  {
   "cell_type": "markdown",
   "metadata": {},
   "source": [
    "# Проверка интегралов"
   ]
  },
  {
   "cell_type": "code",
   "execution_count": 2,
   "metadata": {},
   "outputs": [
    {
     "name": "stdout",
     "output_type": "stream",
     "text": [
      "for deg: 3\n",
      "\n",
      "Legendre roots:\n",
      "-0.77459667  +0.00000000  +0.77459667  \n",
      "Legendre weights:\n",
      "+0.55555556  +0.88888889  +0.55555556  \n",
      "\n",
      "Gauss   :  17.448797333333335\n",
      "Simpson :  17.44879733333334\n",
      "Perfect :  17.448797333333335\n"
     ]
    }
   ],
   "source": [
    "from src.gauss import print_legendre\n",
    "\n",
    "\n",
    "def f(x):\n",
    "    return x**2\n",
    "\n",
    "\n",
    "def If(x):\n",
    "    return x**3 / 3\n",
    "\n",
    "\n",
    "START = -0.32\n",
    "FINISH = 3.74\n",
    "DEG = 3\n",
    "\n",
    "\n",
    "print_legendre(DEG)\n",
    "\n",
    "print(f\"\\nGauss   :  {GaussIntegral(START, FINISH, DEG, f)}\")\n",
    "print(f\"Simpson :  {SimpsonIntegral(START, FINISH, DEG, f)}\")\n",
    "print(f\"Perfect :  {If(FINISH) - If(START)}\")"
   ]
  },
  {
   "cell_type": "code",
   "execution_count": 3,
   "metadata": {},
   "outputs": [],
   "source": [
    "EPS = 1e-6\n",
    "\n",
    "\n",
    "# y = 0\n",
    "def x_limit(x: float | int) -> bool:\n",
    "    return 0 <= x + EPS\n",
    "\n",
    "\n",
    "# x = 0\n",
    "def y_limit(y: float | int) -> bool:\n",
    "    return 0 <= y + EPS\n",
    "\n",
    "\n",
    "# x + y = 1\n",
    "def third_limit(x: float | int, y: float | int) -> bool:\n",
    "    return y <= 1 - x + EPS\n",
    "\n",
    "\n",
    "def check_point(x: float | int, y: float | int) -> bool:\n",
    "    return x_limit(x) and y_limit(y) and third_limit(x, y)"
   ]
  },
  {
   "cell_type": "code",
   "execution_count": 4,
   "metadata": {},
   "outputs": [
    {
     "name": "stdout",
     "output_type": "stream",
     "text": [
      "matrix after filtering and aligning (with log):\n",
      "y\\x\t+0.00000  +0.10000  +0.20000  +0.30000  +0.40000  +0.50000  +0.60000  +0.70000  +0.80000  +0.90000  +1.00000  +1.10000  +1.20000\n",
      "+0.00\t+1.60944  +1.40945  +1.20944  +1.00945  +0.80942  +0.60944  +0.40946  +0.20945  +0.00946  -0.19056  -0.39053\n",
      "+0.10\t+1.30944  +1.10945  +0.90943  +0.70941  +0.50946  +0.30947  +0.10948  -0.09058  -0.29062  -0.49053\n",
      "+0.20\t+1.00945  +0.80942  +0.60944  +0.40946  +0.20945  +0.00946  -0.19056  -0.39053  -0.59059\n",
      "+0.30\t+0.70941  +0.50946  +0.30947  +0.10948  -0.09058  -0.29062  -0.49053  -0.69055\n",
      "+0.40\t+0.40946  +0.20945  +0.00946  -0.19056  -0.39053  -0.59059  -0.79054\n",
      "+0.50\t+0.10948  -0.09058  -0.29062  -0.49053  -0.69055  -0.89062\n",
      "+0.60\t-0.19056  -0.39053  -0.59059  -0.79054  -0.99048\n",
      "+0.70\t-0.49053  -0.69055  -0.89062  -1.09064\n",
      "+0.80\t-0.79054  -0.99048  -1.19040\n",
      "+0.90\t-1.09064  -1.29062\n",
      "\n",
      "y values        : +0.00\t\t+0.10\t\t+0.20\t\t+0.30\t\t+0.40\t\t+0.50\t\t+0.60\t\t+0.70\t\t+0.80\t\t+0.90\n",
      "integral values : +2.16167355\t+1.54590535\t+1.09502768\t+0.76578621\t+0.52619616\t+0.35260967\t+0.22756851\t+0.13810650\t+0.07531672\t+0.03451673\n",
      "\n",
      "0.5767951016426661\n"
     ]
    }
   ],
   "source": [
    "x, y, z = read_3d(\"./data/test1.txt\")\n",
    "\n",
    "deg_x = 8\n",
    "deg_y = 16\n",
    "\n",
    "res = integrate_2d(x, y, z, check_point, GaussIntegral,\n",
    "                   SimpsonIntegral, deg_x, deg_y)\n",
    "\n",
    "print(res)"
   ]
  },
  {
   "cell_type": "code",
   "execution_count": 5,
   "metadata": {},
   "outputs": [
    {
     "name": "stdout",
     "output_type": "stream",
     "text": [
      "X\tY\tsingle\tmid\trunge\talign\tdouble\n",
      "1\t0.571\t0.318\tNone\tNone\t0.4085\tNone\n",
      "2\t0.889\t0.202\t0.26\t0.3373\t0.2469\t-0.116\n",
      "3\t1.091\t0.14\t0.171\t0.2123\t0.1654\t-0.062\n",
      "4\t1.231\t0.102\t0.121\t0.1463\t0.1177\t-0.038\n",
      "5\t1.333\t0.079\t0.0905\t0.1058\t0.0895\t-0.023\n",
      "6\t1.412\tNone\tNone\tNone\tNone\tNone\n"
     ]
    }
   ],
   "source": [
    "from src.deivative import *\n",
    "\n",
    "x_values = [i for i in range(1, 7)]\n",
    "y_values = [0.571, 0.889, 1.091, 1.231, 1.333, 1.412]\n",
    "onesided_der = onesided(y_values)\n",
    "mid_der = mid(onesided_der)\n",
    "runge_der = runge(y_values)\n",
    "alignment_der = alignment(x_values, y_values)\n",
    "double_der = second_der(y_values)\n",
    "\n",
    "names = [\"X\", \"Y\", \"single\", \"mid\", \"runge\", \"align\", \"double\"]\n",
    "\n",
    "print(*names, sep=\"\\t\")\n",
    "for set in zip(\n",
    "    x_values, y_values, onesided_der, mid_der, runge_der, alignment_der, double_der\n",
    "):\n",
    "    print(*[round(val, 4) if val is not None else \"None\" for val in set], sep=\"\\t\")"
   ]
  },
  {
   "cell_type": "markdown",
   "metadata": {},
   "source": [
    "# Concrete function"
   ]
  },
  {
   "cell_type": "code",
   "execution_count": 6,
   "metadata": {},
   "outputs": [],
   "source": [
    "from math import sin, cos, sqrt\n",
    "\n",
    "EPS = 1e-10\n",
    "\n",
    "\n",
    "# y = 0\n",
    "def x_limit(x: float | int) -> bool:\n",
    "    return -1 <= x + EPS and 1 >= x - EPS\n",
    "\n",
    "\n",
    "# x = 0\n",
    "def y_limit(y: float | int) -> bool:\n",
    "    return 0 <= y + EPS and 1 >= y - EPS\n",
    "\n",
    "\n",
    "def third_limit(x: float | int, y: float | int) -> bool:\n",
    "    return y >= x**2 - EPS\n",
    "\n",
    "\n",
    "def check_point_1(x: float | int, y: float | int) -> bool:\n",
    "    return x_limit(x) and y_limit(y) and third_limit(x, y)\n",
    "\n",
    "\n",
    "def get_limit_1(y: float) -> float | None:\n",
    "    return sqrt(y)\n",
    "\n",
    "\n",
    "def f(x: float | int, y: float | int):\n",
    "    return x**2 + y**2"
   ]
  },
  {
   "cell_type": "code",
   "execution_count": 7,
   "metadata": {},
   "outputs": [
    {
     "name": "stdout",
     "output_type": "stream",
     "text": [
      "y values        : +0.02\t\t+0.04\t\t+0.06\t\t+0.08\t\t+0.10\t\t+0.12\t\t+0.14\t\t+0.16\t\t+0.18\t\t+0.20\t\t+0.22\t\t+0.24\t\t+0.27\t\t+0.29\t\t+0.31\t\t+0.33\t\t+0.35\t\t+0.37\t\t+0.39\t\t+0.41\t\t+0.43\t\t+0.45\t\t+0.47\t\t+0.49\t\t+0.51\t\t+0.53\t\t+0.55\t\t+0.57\t\t+0.59\t\t+0.61\t\t+0.63\t\t+0.65\t\t+0.67\t\t+0.69\t\t+0.71\t\t+0.73\t\t+0.76\t\t+0.78\t\t+0.80\t\t+0.82\t\t+0.84\t\t+0.86\t\t+0.88\t\t+0.90\t\t+0.92\t\t+0.94\t\t+0.96\t\t+0.98\t\t+1.00\n",
      "integral values : +0.00206263\t+0.00617058\t+0.01195442\t+0.01935701\t+0.02838269\t+0.03905892\t+0.05142374\t+0.06552038\t+0.08139466\t+0.09909361\t+0.11866467\t+0.14015524\t+0.16361241\t+0.18908278\t+0.21661238\t+0.24624660\t+0.27803017\t+0.31200713\t+0.34822088\t+0.38671412\t+0.42752893\t+0.47070672\t+0.51628832\t+0.56431393\t+0.61482319\t+0.66785516\t+0.72344836\t+0.78164081\t+0.84247000\t+0.90597293\t+0.97218614\t+1.04114570\t+1.11288725\t+1.18744599\t+1.26485671\t+1.34515380\t+1.42837128\t+1.51454276\t+1.60370151\t+1.69588045\t+1.79111212\t+1.88942878\t+1.99086232\t+2.09544435\t+2.20320615\t+2.31417872\t+2.42839276\t+2.54587869\t+2.66666667\n",
      "\n",
      "0.8380811510968187\n"
     ]
    }
   ],
   "source": [
    "from src.integrate_2d import integrate_2d_concrete\n",
    "from numpy import linspace\n",
    "\n",
    "x = linspace(-1, 1, 100)\n",
    "y = linspace(0, 1, 50)\n",
    "\n",
    "deg_x = 8\n",
    "deg_y = 16\n",
    "\n",
    "\n",
    "# res1 = integrate_2d_concrete(\n",
    "#     x, y, f, check_point_2, get_limit_2, GaussIntegral, SimpsonIntegral, deg_x, deg_y\n",
    "# )\n",
    "\n",
    "res2 = integrate_2d_concrete(\n",
    "    x, y, f, check_point_1, get_limit_1, GaussIntegral, SimpsonIntegral, deg_x, deg_y\n",
    ")\n",
    "\n",
    "# print(abs(res1 - res2))\n",
    "print(res2)"
   ]
  }
 ],
 "metadata": {
  "kernelspec": {
   "display_name": "Python 3",
   "language": "python",
   "name": "python3"
  },
  "language_info": {
   "codemirror_mode": {
    "name": "ipython",
    "version": 3
   },
   "file_extension": ".py",
   "mimetype": "text/x-python",
   "name": "python",
   "nbconvert_exporter": "python",
   "pygments_lexer": "ipython3",
   "version": "3.12.3"
  }
 },
 "nbformat": 4,
 "nbformat_minor": 2
}
